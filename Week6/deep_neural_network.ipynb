{
  "nbformat": 4,
  "nbformat_minor": 0,
  "metadata": {
    "colab": {
      "name": "deep_neural_network.ipynb",
      "provenance": [],
      "collapsed_sections": [],
      "toc_visible": true
    },
    "kernelspec": {
      "name": "python3",
      "display_name": "Python 3"
    },
    "language_info": {
      "name": "python"
    }
  },
  "cells": [
    {
      "cell_type": "markdown",
      "metadata": {
        "id": "EQ9oEAn43Wnk"
      },
      "source": [
        "# **DIVE INTO CODE COURSE**\n",
        "## **Sprint Deep Learning - Neural Network**\n",
        "**Student Name**: Doan Anh Tien<br>\n",
        "**Student ID**: 1852789<br>\n",
        "**Email**: tien.doan.g0pr0@hcmut.edu.vn"
      ]
    },
    {
      "cell_type": "code",
      "metadata": {
        "id": "XJt2HavErNQs"
      },
      "source": [
        "import matplotlib.pyplot as plt\n",
        "import pandas as pd\n",
        "import numpy as np\n",
        "import math\n",
        "import seaborn as sns\n",
        "import random\n",
        "from math import log2\n",
        "\n",
        "plt.style.use('ggplot')"
      ],
      "execution_count": 23,
      "outputs": []
    },
    {
      "cell_type": "markdown",
      "metadata": {
        "id": "lGSi5Umwt5F5"
      },
      "source": [
        "**Dataset Preparation**"
      ]
    },
    {
      "cell_type": "code",
      "metadata": {
        "id": "ODYZeFQ3t65C"
      },
      "source": [
        "from keras.datasets import mnist\n",
        "(X_train, y_train), (X_test, y_test) = mnist.load_data()"
      ],
      "execution_count": 3,
      "outputs": []
    },
    {
      "cell_type": "code",
      "metadata": {
        "id": "Vrzmqf26t932",
        "colab": {
          "base_uri": "https://localhost:8080/"
        },
        "outputId": "950e865c-fcf5-4c56-8e7c-2db3d6ea64da"
      },
      "source": [
        "print(X_train.shape) # (60000, 28, 28)\n",
        "print(y_train.shape) # (10000, 28, 28)\n",
        "print(X_test.shape) # (10000, 28, 28)\n",
        "print(y_test.shape)\n",
        "print(X_train[0].dtype) # uint8"
      ],
      "execution_count": 4,
      "outputs": [
        {
          "output_type": "stream",
          "text": [
            "(60000, 28, 28)\n",
            "(60000,)\n",
            "(10000, 28, 28)\n",
            "(10000,)\n",
            "uint8\n"
          ],
          "name": "stdout"
        }
      ]
    },
    {
      "cell_type": "markdown",
      "metadata": {
        "id": "DAFw2fEquDzK"
      },
      "source": [
        "**Smoothing**"
      ]
    },
    {
      "cell_type": "code",
      "metadata": {
        "id": "VTnKI_5GuE1C"
      },
      "source": [
        "X_train = X_train.reshape(-1, 784)\n",
        "X_test = X_test.reshape(-1, 784)"
      ],
      "execution_count": 5,
      "outputs": []
    },
    {
      "cell_type": "markdown",
      "metadata": {
        "id": "wR3PLEXruO64"
      },
      "source": [
        "**Visualization**"
      ]
    },
    {
      "cell_type": "code",
      "metadata": {
        "colab": {
          "base_uri": "https://localhost:8080/",
          "height": 281
        },
        "id": "o7Vfb9qTuOaf",
        "outputId": "2cb393bb-5c1f-4826-fc45-68b345b860dd"
      },
      "source": [
        "%matplotlib inline\n",
        "index = 0\n",
        "image = X_train[index].reshape(28,28)\n",
        "# X_train[index]: (784,)\n",
        "# image: (28, 28)\n",
        "plt.imshow(image, 'gray')\n",
        "plt.title('label : {}'.format(y_train[index]))\n",
        "plt.show()"
      ],
      "execution_count": 6,
      "outputs": [
        {
          "output_type": "display_data",
          "data": {
            "image/png": "[encoded data removed]",
            "text/plain": [
              "<Figure size 432x288 with 1 Axes>"
            ]
          },
          "metadata": {
            "tags": [],
            "needs_background": "light"
          }
        }
      ]
    },
    {
      "cell_type": "markdown",
      "metadata": {
        "id": "ZSAGU3J2utWE"
      },
      "source": [
        "**Preprocessing**"
      ]
    },
    {
      "cell_type": "code",
      "metadata": {
        "colab": {
          "base_uri": "https://localhost:8080/"
        },
        "id": "5B06pBd4uu7l",
        "outputId": "38cc0c10-54d8-415d-eaae-59e0cdb972c3"
      },
      "source": [
        "X_train = X_train.astype(np.float)\n",
        "X_test = X_test.astype(np.float)\n",
        "X_train /= 255\n",
        "X_test /= 255\n",
        "print(X_train.max()) # 1.0\n",
        "print(X_train.min()) # 0.0"
      ],
      "execution_count": 7,
      "outputs": [
        {
          "output_type": "stream",
          "text": [
            "1.0\n",
            "0.0\n"
          ],
          "name": "stdout"
        }
      ]
    },
    {
      "cell_type": "code",
      "metadata": {
        "colab": {
          "base_uri": "https://localhost:8080/"
        },
        "id": "5QCEvHdpvFUz",
        "outputId": "83c197b4-f971-40b9-f774-3a51cd8ae095"
      },
      "source": [
        "from sklearn.preprocessing import OneHotEncoder\n",
        "enc = OneHotEncoder(handle_unknown='ignore', sparse=False)\n",
        "y_train_one_hot = enc.fit_transform(y_train[:, np.newaxis])\n",
        "y_test_one_hot = enc.transform(y_test[:, np.newaxis])\n",
        "print(\"Original label: {}\".format(y_train.shape)) # (60000,)\n",
        "print(\"One hot train label: {}\".format(y_train_one_hot.shape)) # (60000, 10)\n",
        "print(\"One hot test label: {}\".format(y_test_one_hot.shape))"
      ],
      "execution_count": 8,
      "outputs": [
        {
          "output_type": "stream",
          "text": [
            "Original label: (60000,)\n",
            "One hot train label: (60000, 10)\n",
            "One hot test label: (10000, 10)\n"
          ],
          "name": "stdout"
        }
      ]
    },
    {
      "cell_type": "markdown",
      "metadata": {
        "id": "bOlwlo06LDru"
      },
      "source": [
        "**Transpose**"
      ]
    },
    {
      "cell_type": "code",
      "metadata": {
        "id": "oK0jAWUywNVb"
      },
      "source": [
        "X_train = X_train.T\n",
        "X_test = X_test.T\n",
        "y_train_one_hot = y_train_one_hot.T\n",
        "y_test_one_hot = y_test_one_hot.T"
      ],
      "execution_count": 9,
      "outputs": []
    },
    {
      "cell_type": "code",
      "metadata": {
        "colab": {
          "base_uri": "https://localhost:8080/"
        },
        "id": "hJeSWw_lvJD7",
        "outputId": "82924336-041a-4b91-bc15-18dcc771eef8"
      },
      "source": [
        "#from sklearn.model_selection import train_test_split\n",
        "#X_train, X_val, y_train_one_hot, y_val_one_hot = train_test_split(X_train, y_train_one_hot, test_size=0.2)\n",
        "print(\"Train data: \", X_train.shape)\n",
        "print(\"Test data: \", X_test.shape)\n",
        "print(\"Train label: \", y_train_one_hot.shape)\n",
        "print(\"Test label: \", y_test_one_hot.shape)"
      ],
      "execution_count": 10,
      "outputs": [
        {
          "output_type": "stream",
          "text": [
            "Train data:  (784, 60000)\n",
            "Test data:  (784, 10000)\n",
            "Train label:  (10, 60000)\n",
            "Test label:  (10, 10000)\n"
          ],
          "name": "stdout"
        }
      ]
    },
    {
      "cell_type": "code",
      "metadata": {
        "id": "A3NN6xrIsOAw"
      },
      "source": [
        "def GetMiniBatch(X, Y, batch_size):\n",
        "    \"\"\"\n",
        "Iterator to get a mini-batch\n",
        "    Parameters\n",
        "    ----------\n",
        "    X : The following forms of ndarray, shape (n_samples, n_features)\n",
        "      Training data\n",
        "    y : The following form of ndarray, shape (n_samples, 1)\n",
        "      Correct answer value\n",
        "    batch_size : int\n",
        "      Batch size\n",
        "    seed : int\n",
        "      NumPy random number seed\n",
        "    \"\"\"\n",
        "    mini_batches = []\n",
        "    m = X.shape[1]\n",
        "    # Shuffle\n",
        "    permute = np.random.permutation(m)\n",
        "    X = X[:,permute]\n",
        "    Y = Y[:,permute]\n",
        "    \n",
        "    # Partition\n",
        "    complete_batches = math.floor(m/batch_size)\n",
        "    for k in range(complete_batches):\n",
        "        batch_X = X[:,k*batch_size:(k+1)*batch_size]\n",
        "        batch_Y = Y[:,k*batch_size:(k+1)*batch_size]\n",
        "        batch = (batch_X,batch_Y)\n",
        "        mini_batches.append(batch)\n",
        "        \n",
        "    # Handling the end case\n",
        "    if m % batch_size != 0:\n",
        "        batch_X = X[:,(k+1)*batch_size:]\n",
        "        batch_Y = Y[:,(k+1)*batch_size:]\n",
        "        batch = (batch_X,batch_Y)\n",
        "        mini_batches.append(batch)\n",
        "        \n",
        "    return mini_batches"
      ],
      "execution_count": 11,
      "outputs": []
    },
    {
      "cell_type": "markdown",
      "metadata": {
        "id": "tkkuRv7or0BF"
      },
      "source": [
        "### **[Problem 1 2 3 4 5 6 7 8]**"
      ]
    },
    {
      "cell_type": "markdown",
      "metadata": {
        "id": "FXvfy6llXsl2"
      },
      "source": [
        "**ReLu Function**"
      ]
    },
    {
      "cell_type": "code",
      "metadata": {
        "id": "MF1dHD9fZn8H"
      },
      "source": [
        "def relu_function(X):\n",
        "    return np.maximum(0,X)"
      ],
      "execution_count": 12,
      "outputs": []
    },
    {
      "cell_type": "code",
      "metadata": {
        "colab": {
          "base_uri": "https://localhost:8080/"
        },
        "id": "jGcymG82Z-rS",
        "outputId": "ffec1a18-d4a9-4ce4-97ab-288db6f4a710"
      },
      "source": [
        "y_relu = relu_function(X_train)\n",
        "print(\"Mininum value of y label: \", np.min(y_relu))"
      ],
      "execution_count": 13,
      "outputs": [
        {
          "output_type": "stream",
          "text": [
            "Mininum value of y label:  0.0\n"
          ],
          "name": "stdout"
        }
      ]
    },
    {
      "cell_type": "markdown",
      "metadata": {
        "id": "U-93XH-ZZoS5"
      },
      "source": [
        "**Neural Network Class**"
      ]
    },
    {
      "cell_type": "code",
      "metadata": {
        "id": "611_SR4mrzVm"
      },
      "source": [
        "class ScratchDeepNeuralNetrowkClassifier():\n",
        "    \"\"\"\n",
        "    Deep neural network classifier with configurable structure\n",
        "    Parameters\n",
        "    ----------\n",
        "    Attributes\n",
        "    ----------\n",
        "    \"\"\"\n",
        "    def __init__(self, layers, lr=0.001, hidden_est='tanh', output_est='relu', batch_size=20, epochs=5, verbose=True):\n",
        "\n",
        "        self.layers = layers\n",
        "        self.lr = lr\n",
        "        self.batch_size = batch_size\n",
        "        self.epochs = epochs\n",
        "        self.verbose = verbose\n",
        "        self.hidden_est = hidden_est\n",
        "        self.output_est = output_est\n",
        "        self.ssw = 0 # Sum of squared weight\n",
        "        self.ssb = 0 # sum of squared bias\n",
        "        self.lr_w = [] # History of weight learning rate\n",
        "        self.lr_b = [] # History of weight learning rate\n",
        "\n",
        "        self.param = {}\n",
        "        self.loss = []\n",
        "        self.n_features = None\n",
        "        self.X_train = None\n",
        "        self.y_train = None\n",
        "\n",
        "\n",
        "    def fit(self, X, y, X_val=None, y_val=None):\n",
        "        \"\"\"\n",
        "        Learn a neural network classifier.\n",
        "        Parameters\n",
        "        ----------\n",
        "        X : The following forms of ndarray, shape (n_samples, n_features)\n",
        "            Features of training data\n",
        "        y : The following form of ndarray, shape (n_samples,)\n",
        "            Correct answer value of training data\n",
        "        X_val : The following forms of ndarray, shape (n_samples, n_features)\n",
        "            Features of verification data\n",
        "        y_val : The following form of ndarray, shape (n_samples,)\n",
        "            Correct value of verification data\n",
        "        \"\"\"\n",
        "\n",
        "        param = self.init_weight()\n",
        "        self.iter = np.ceil(X.shape[1]//self.batch_size)\n",
        "\n",
        "        get_mini_batch = GetMiniBatch(X, y, batch_size=self.batch_size)\n",
        "        print(\"Batch size: {}\".format(self.batch_size)) \n",
        "        print(\"Iteration: {}\".format(self.iter))\n",
        "\n",
        "        for i in range(self.epochs):\n",
        "            epoch_cost = 0\n",
        "\n",
        "            for mini_batch in get_mini_batch:\n",
        "                # Forward propagation\n",
        "                (mini_X_train, mini_y_train) = mini_batch\n",
        "\n",
        "                A_last, stored_var = self.forward_propagation(mini_X_train, param)\n",
        "                # Cross entropy error\n",
        "                cost = self.cross_entropy_loss(mini_y_train, A_last)\n",
        "                epoch_cost += cost\n",
        "\n",
        "                # Backward propagation\n",
        "                grads = self.backward_propagation(A_last, mini_y_train, stored_var, param)\n",
        "\n",
        "                param = self.update_parameters(param, grads)\n",
        "            \n",
        "            self.loss.append(epoch_cost/self.iter)\n",
        "            if self.verbose:\n",
        "                print(\"Cost after epoch {}: {}\".format(i, epoch_cost/self.iter))\n",
        "        \n",
        "\n",
        "        fig, axs = plt.subplots(1, 2, figsize=(18,6))\n",
        "        axs[0].plot(np.squeeze(self.loss))\n",
        "        axs[0].set_ylabel('Cost (per epoch)')\n",
        "        axs[0].set_xlabel('Epochs')\n",
        "        axs[0].set_title(\"Learning rate =\" + str(self.lr))\n",
        "\n",
        "        axs[1].plot(self.lr_w, label = \"weight lr\")\n",
        "        axs[1].plot(self.lr_b, label = \"bias lr\")\n",
        "        axs[1].set_xlabel('Learning (per mini-batch)')\n",
        "        axs[1].set_xlabel('Batches')\n",
        "        axs[1].set_title(\"AdaGrad Learning Rate\")\n",
        "\n",
        "        plt.legend()\n",
        "        plt.show()\n",
        "\n",
        "        self.param = param\n",
        "\n",
        "        return param\n",
        "    \n",
        "    def xavier_val(self, n):\n",
        "        \"\"\"\n",
        "        Initialize the standard deviation as value of Xavier\n",
        "        n: Number of nodes in the previous layer\n",
        "        \"\"\"\n",
        "        return 1/np.sqrt(n)\n",
        "\n",
        "    def he_val(self, n):\n",
        "        \"\"\"\n",
        "        Initialize the standard deviation as value of He\n",
        "        n: Number of nodes in the previous layer\n",
        "        \"\"\"\n",
        "        return np.sqrt(2/n)\n",
        "\n",
        "\n",
        "    def init_weight(self):\n",
        "        \"\"\"\n",
        "        Initialize the weight and bias of neural network\n",
        "        \"\"\"\n",
        "        np.random.seed(42)\n",
        "        L = len(self.layers)\n",
        "\n",
        "        param = {}\n",
        "\n",
        "        for l in range(L-1):\n",
        "            # Hidden Layers\n",
        "            if l != (L-2):\n",
        "                if self.hidden_est == 'sigmoid' or 'tanh':\n",
        "                    param['W' + str(l+1)] = self.xavier_val(layers[l]) * np.random.randn(self.layers[l+1], self.layers[l])\n",
        "                    param['b' + str(l+1)] = self.xavier_val(layers[l]) * np.random.randn(self.layers[l+1], 1)\n",
        "\n",
        "                elif self.hidden_est == 'relu':\n",
        "                    param['W' + str(l+1)] = self.he_val(layers[l]) * np.random.randn(self.layers[l+1], self.layers[l])\n",
        "                    param['b' + str(l+1)] = self.he_val(layers[l]) * np.random.randn(self.layers[l+1], 1)\n",
        "\n",
        "            # Output Layer\n",
        "            else:\n",
        "                if self.output_est == 'sigmoid' or 'tanh':\n",
        "                    param['W' + str(l+1)] = self.xavier_val(layers[l]) * np.random.randn(self.layers[l+1], self.layers[l])\n",
        "                    param['b' + str(l+1)] = self.xavier_val(layers[l]) * np.random.randn(self.layers[l+1], 1)\n",
        "\n",
        "                elif self.output_est == 'relu':\n",
        "                    param['W' + str(l+1)] = self.he_val(layers[l]) * np.random.randn(self.layers[l+1], self.layers[l])\n",
        "                    param['b' + str(l+1)] = self.he_val(layers[l]) * np.random.randn(self.layers[l+1], 1)\n",
        "\n",
        "        return param\n",
        "\n",
        "\n",
        "    def predict(self, X, param):\n",
        "        \"\"\"\n",
        "        Estimate using a neural network classifier.\n",
        "        Parameters\n",
        "        ----------\n",
        "        X : The following forms of ndarray, shape (n_samples, n_features)\n",
        "            sample\n",
        "        Returns\n",
        "        -------\n",
        "            The following form of ndarray, shape (n_samples, 1)\n",
        "            Estimated result\n",
        "        \"\"\"\n",
        "        probas, _ = self.forward_propagation(X, param)\n",
        "        pred = np.argmax(probas,axis=0)\n",
        "\n",
        "        return pred\n",
        "\n",
        "    def accuracy(self, X, y, X_test, y_test, param):\n",
        "        \"\"\"\n",
        "        Evaluate the accuracy of the neural network\n",
        "        \"\"\"\n",
        "        pred_y = self.predict(X, param)\n",
        "        train_acc = np.mean(pred_y.flatten() == y.flatten()) * 100\n",
        "        print('Training set accuracy: {}%'.format(round(train_acc, 2)))\n",
        "\n",
        "        pred_ytest = self.predict(X_test, param)\n",
        "        test_acc = np.mean(pred_ytest.flatten() == y_test.flatten()) * 100\n",
        "        print('Testing set accuracy: {}%'.format(round(test_acc, 2)))\n",
        "        \n",
        "\n",
        "    def relu_function(self, A):\n",
        "        return np.maximum(0,A)\n",
        "\n",
        "    def sigmoid_function(self, A):\n",
        "        \n",
        "        return 1/(1+np.exp(-A))\n",
        "\n",
        "    def tanh_function(self, A):\n",
        "    \n",
        "        return (np.exp(A)-np.exp(-A))/(np.exp(A)+np.exp(-A))\n",
        "\n",
        "    def softmax_function(self, A):\n",
        "\n",
        "        return np.exp(A)/(np.sum(np.exp(A), axis = 0))\n",
        "\n",
        "\n",
        "    def activation_function_forward(self, A, activation):\n",
        "        \"\"\"\n",
        "        Use the activation function for forward propagation process and also \n",
        "        return the raw output that does not goes through the activation function\n",
        "        \"\"\"\n",
        "        Z = None\n",
        "        if activation == 'sigmoid':\n",
        "            Z = self.sigmoid_function(A)\n",
        "\n",
        "        if activation == 'tanh':\n",
        "            Z = self.tanh_function(A)\n",
        "\n",
        "        if activation == 'softmax':\n",
        "            Z = self.softmax_function(A)\n",
        "\n",
        "        if activation == 'relu':\n",
        "            Z = self.relu_function(A)\n",
        "\n",
        "        return Z\n",
        "\n",
        "\n",
        "    def forward_function(self, X, W, b):\n",
        "        \"\"\"\n",
        "        The function involving the multiplication of features, weights and bias\n",
        "        Then it uses the activation function to get the output value, and also\n",
        "        return a set of variables to reuse in the backward propagation\n",
        "        \"\"\"\n",
        "        A = np.dot(W, X) + b\n",
        "\n",
        "        return A\n",
        "\n",
        "    def forward_propagation(self, X, param):\n",
        "        \"\"\"\n",
        "        The forward propagation process of neural network\n",
        "        \n",
        "        Note: Instead of creating a fixed size forward propagation,\n",
        "        I manage to modify this function to fit any input of layers\n",
        "        and the intial weights and bias\n",
        "\n",
        "        (E.g: If I change to 5 layers, the model still run properly)\n",
        "        \"\"\"\n",
        "\n",
        "        Z = X\n",
        "        stored_var = {}\n",
        "        stored_var['Z' + str(0)] = X\n",
        "        L = len(param) // 2 # Because it contains both weight and bias, we divide by 2 to get length of pairs\n",
        "        \n",
        "        for l in range(1, L):\n",
        "            # Use the previous output for the current function\n",
        "            Z_prev = Z\n",
        "            A = self.forward_function(Z_prev, param['W' + str(l)], param['b' + str(l)])\n",
        "            stored_var['A' + str(l)] = A\n",
        "            Z = self.activation_function_forward(A, activation = self.hidden_est)\n",
        "            stored_var['Z' + str(l)] = Z\n",
        "\n",
        "        # Last layer function\n",
        "        A = self.forward_function(Z, param['W' + str(L)], param['b' + str(L)])\n",
        "        stored_var['A' + str(L)] = A\n",
        "        Z_last = self.activation_function_forward(A, activation= self.output_est)\n",
        "\n",
        "        return Z_last, stored_var\n",
        "\n",
        "\n",
        "    def activation_function_backward(self, A, activation):\n",
        "        \"\"\"\n",
        "        Use the activation function for backward propagation process\n",
        "        \"\"\"\n",
        "        act = None\n",
        "\n",
        "        if activation == 'sigmoid':\n",
        "            s = self.sigmoid_function(A)\n",
        "            act = s * (1-s)\n",
        "\n",
        "        if activation == 'tanh':\n",
        "            s = self.tanh_function(A)\n",
        "            act = (1 - s**2)\n",
        "\n",
        "        if activation == 'relu':\n",
        "            act = A\n",
        "            act[act<=0] = 0\n",
        "            act[act>0] = 1\n",
        "\n",
        "        return act\n",
        "\n",
        "    def compute_grads(self, dA, grads, param, stored_var, l, m):\n",
        "        \n",
        "        # Derivative of weight and bias by using gradient of function A = W.X + b\n",
        "        # The formula also consist of the variables that will be used in backwardpropagation,\n",
        "        # therefore we need to get save and update them in the dictionary called grads\n",
        "        dW = (1/m) * np.dot(dA, stored_var['Z' + str(l-1)].T)\n",
        "        grads['dW' + str(l)] = dW\n",
        "\n",
        "        db = (1/m) * np.sum(dA, axis=1, keepdims = True)\n",
        "        grads['db' + str(l)] = db\n",
        "        \n",
        "        dZ_prev = np.dot(param['W' + str(l)].T, dA)\n",
        "        grads['dZ'+ str(l-1)] = dZ_prev\n",
        "\n",
        "        return grads\n",
        "\n",
        "    \n",
        "    def backward_propagation(self, Z_last, Y, stored_var, param):\n",
        "        \"\"\"\n",
        "        The backward propagation process of neural network\n",
        "        \n",
        "        Note: Instead of creating a fixed size backward propagation,\n",
        "        I manage to modify this function to fit any input of layers\n",
        "        and the intial weights and bias\n",
        "\n",
        "        (E.g: If I change to 5 layers, the model still run properly)\n",
        "        \"\"\"\n",
        "        grads = {}\n",
        "\n",
        "        L = len(param) // 2\n",
        "        m = Z_last.shape[1]\n",
        "        dA = (Z_last - Y)\n",
        "\n",
        "\n",
        "        grads = self.compute_grads(dA, grads, param, stored_var, L, m)\n",
        "        \n",
        "        for l in reversed(range(1, L)):\n",
        "            # Use the previous output for the current function\n",
        "            dZ = grads['dZ' + str(l)]\n",
        "            dA = dZ * self.activation_function_backward(stored_var['A' + str(l)], activation= self.hidden_est)\n",
        "            \n",
        "            grads = self.compute_grads(dA, grads, param, stored_var, l, m)\n",
        "\n",
        "        del grads['dZ0']\n",
        "\n",
        "        return grads\n",
        "\n",
        "    def ada_grad(self, weight, bias):\n",
        "        \n",
        "        self.ssw += np.mean(weight)**2\n",
        "        self.ssb += np.mean(bias)**2\n",
        "\n",
        "    def update_parameters(self, param, grads):\n",
        "        \"\"\"\n",
        "        Update the parameter using gradient descent\n",
        "        \"\"\"\n",
        "        L = len(param) // 2\n",
        "\n",
        "        # We put the 1e-7 value into the AdaGrad formula to prevent zero division\n",
        "        for l in range(L):\n",
        "            self.ada_grad(grads['dW' + str(l+1)], grads['db' + str(l+1)])\n",
        "\n",
        "            weight_lr = self.lr * (1/np.sqrt(self.ssw + 1e-7))\n",
        "            bias_lr = self.lr * (1/np.sqrt(self.ssb + 1e-7))\n",
        "\n",
        "            self.lr_w.append(weight_lr)\n",
        "            self.lr_b.append(bias_lr)\n",
        "\n",
        "            param[\"W\" + str(l+1)] -= weight_lr * grads[\"dW\" + str(l+1)]\n",
        "            param[\"b\" + str(l+1)] -= bias_lr * grads[\"db\" + str(l+1)]\n",
        "\n",
        "        return param\n",
        "\n",
        "\n",
        "    def cross_entropy_loss(self, Y, Z_last):\n",
        "        \"\"\"\n",
        "        The object function of the neural network\n",
        "        \"\"\"\n",
        "        m = Y.shape[0]\n",
        "\n",
        "        # Avoid getting infinity at logarithm function by adding 1e-7\n",
        "        return (1/m) * np.mean(-np.sum(Y*np.log(Z_last + 1e-7),axis=0))\n"
      ],
      "execution_count": 52,
      "outputs": []
    },
    {
      "cell_type": "markdown",
      "metadata": {
        "id": "IMItJG5Wb4qH"
      },
      "source": [
        "### **[Problem 9] Learning and Estimation**\n",
        "**Model 1**\n",
        "\n",
        "Number of hidden layers: 3\n",
        "\n",
        "Layers size: [Input, 400, 200, 10]\n",
        "\n",
        "Batch size: 20\n",
        "\n",
        "Learning rate: 0.001\n",
        "\n",
        "Number of epochs: 3\n",
        "\n",
        "Hidden layer estimator: Tanh\n",
        "\n",
        "Output layer estimator: ReLu\n"
      ]
    },
    {
      "cell_type": "code",
      "metadata": {
        "id": "mnl8Xs9Yb33i"
      },
      "source": [
        "layers = [X_train.shape[0], 400, 200, 10]\n",
        "lr = 0.001\n",
        "batch = 20\n",
        "epochs = 3\n",
        "\n",
        "nn = ScratchDeepNeuralNetrowkClassifier(layers, lr=lr, hidden_est='tanh', output_est='relu', batch_size=batch, epochs=epochs, verbose=True)"
      ],
      "execution_count": 25,
      "outputs": []
    },
    {
      "cell_type": "code",
      "metadata": {
        "colab": {
          "base_uri": "https://localhost:8080/",
          "height": 493
        },
        "id": "e4bopb1BccUn",
        "outputId": "99d01eda-fc19-4c56-fe7c-4380483c80ca"
      },
      "source": [
        "param = nn.fit(X_train, y_train_one_hot)"
      ],
      "execution_count": 26,
      "outputs": [
        {
          "output_type": "stream",
          "text": [
            "Batch size: 20\n",
            "Iteration: 3000.0\n",
            "Cost after epoch 0: 0.3363386379826091\n",
            "Cost after epoch 1: 0.08370171166821556\n",
            "Cost after epoch 2: 0.060859340996741604\n"
          ],
          "name": "stdout"
        },
        {
          "output_type": "display_data",
          "data": {
            "image/png": "[encoded data removed]",
            "text/plain": [
              "<Figure size 1296x432 with 2 Axes>"
            ]
          },
          "metadata": {
            "tags": []
          }
        }
      ]
    },
    {
      "cell_type": "code",
      "metadata": {
        "colab": {
          "base_uri": "https://localhost:8080/"
        },
        "id": "RRpdPL5cOpjG",
        "outputId": "a7290c3f-5329-4095-e508-52b78d8d2926"
      },
      "source": [
        "nn.accuracy(X_train, y_train, X_test, y_test, param)"
      ],
      "execution_count": 28,
      "outputs": [
        {
          "output_type": "stream",
          "text": [
            "Training set accuracy: 92.96%\n",
            "Testing set accuracy: 92.82%\n"
          ],
          "name": "stdout"
        }
      ]
    },
    {
      "cell_type": "markdown",
      "metadata": {
        "id": "2qJnCQaS_Rt8"
      },
      "source": [
        "**Model 2**\n",
        "\n",
        "We change the number of node in layers and activation function from tanh to sigmoid\n",
        "\n",
        "Number of hidden layers: 3\n",
        "\n",
        "Layers size: [Input, 300, 250, 10]\n",
        "\n",
        "Batch size: 20\n",
        "\n",
        "Learning rate: 0.001\n",
        "\n",
        "Number of epochs: 3\n",
        "\n",
        "Hidden layer estimator: Sigmoid\n",
        "\n",
        "Output layer estimator: ReLu"
      ]
    },
    {
      "cell_type": "code",
      "metadata": {
        "id": "fccS0aLt_RAz"
      },
      "source": [
        "layers = [X_train.shape[0], 300, 250, 10]\n",
        "lr = 0.001\n",
        "batch = 20\n",
        "epochs = 3\n",
        "\n",
        "nn2 = ScratchDeepNeuralNetrowkClassifier(layers, lr=lr, hidden_est='sigmoid', output_est='relu', batch_size=batch, epochs=epochs, verbose=True)"
      ],
      "execution_count": 39,
      "outputs": []
    },
    {
      "cell_type": "code",
      "metadata": {
        "colab": {
          "base_uri": "https://localhost:8080/",
          "height": 493
        },
        "id": "i0OELrjc_adq",
        "outputId": "08f065d7-3f15-47a9-cf18-5c254b694cdc"
      },
      "source": [
        "param2 = nn2.fit(X_train, y_train_one_hot)"
      ],
      "execution_count": 40,
      "outputs": [
        {
          "output_type": "stream",
          "text": [
            "Batch size: 20\n",
            "Iteration: 3000.0\n",
            "Cost after epoch 0: 0.20763675157660244\n",
            "Cost after epoch 1: 0.17063136626130884\n",
            "Cost after epoch 2: 0.14499608763002467\n"
          ],
          "name": "stdout"
        },
        {
          "output_type": "display_data",
          "data": {
            "image/png": "[encoded data removed]",
            "text/plain": [
              "<Figure size 1296x432 with 2 Axes>"
            ]
          },
          "metadata": {
            "tags": []
          }
        }
      ]
    },
    {
      "cell_type": "code",
      "metadata": {
        "colab": {
          "base_uri": "https://localhost:8080/"
        },
        "id": "lYrjo8AL_ads",
        "outputId": "f88a61e1-0399-4053-bc61-d55f2e53cb74"
      },
      "source": [
        "nn2.accuracy(X_train, y_train, X_test, y_test, param2)"
      ],
      "execution_count": 41,
      "outputs": [
        {
          "output_type": "stream",
          "text": [
            "Training set accuracy: 71.13%\n",
            "Testing set accuracy: 71.72%\n"
          ],
          "name": "stdout"
        }
      ]
    },
    {
      "cell_type": "markdown",
      "metadata": {
        "id": "-jkPlM7klRnb"
      },
      "source": [
        "It seems like the activation function is the one that affect the model's performance the most."
      ]
    },
    {
      "cell_type": "markdown",
      "metadata": {
        "id": "6pX2Eso9fKEg"
      },
      "source": [
        "**Model 3**\n",
        "\n",
        "We are back to tanh function again, but now we change the number of hidden layers, number of nodes.\n",
        "\n",
        "Number of hidden layers: 5\n",
        "\n",
        "Layers size: [Input, 750, 500, 400, 200, 10]\n",
        "\n",
        "Batch size: 20\n",
        "\n",
        "Learning rate: 0.001\n",
        "\n",
        "Number of epochs: 3\n",
        "\n",
        "Hidden layer estimator: Tanh\n",
        "\n",
        "Output layer estimator: ReLu"
      ]
    },
    {
      "cell_type": "code",
      "metadata": {
        "id": "aStvAKMtMQMV"
      },
      "source": [
        "layers = [X_train.shape[0], 750, 500, 400, 200, 10]\n",
        "lr = 0.001\n",
        "batch = 20\n",
        "epochs = 3\n",
        "\n",
        "nn3 = ScratchDeepNeuralNetrowkClassifier(layers, lr=lr, hidden_est='tanh', output_est='relu', batch_size=batch, epochs=epochs, verbose=True)"
      ],
      "execution_count": 43,
      "outputs": []
    },
    {
      "cell_type": "code",
      "metadata": {
        "colab": {
          "base_uri": "https://localhost:8080/",
          "height": 493
        },
        "id": "Sa0lFTQCMQMW",
        "outputId": "cea5231b-41bb-455f-c413-8685268e059e"
      },
      "source": [
        "param3 = nn3.fit(X_train, y_train_one_hot)"
      ],
      "execution_count": 44,
      "outputs": [
        {
          "output_type": "stream",
          "text": [
            "Batch size: 20\n",
            "Iteration: 3000.0\n",
            "Cost after epoch 0: 0.27336462529651656\n",
            "Cost after epoch 1: 0.26822395076501987\n",
            "Cost after epoch 2: 0.2064427916995916\n"
          ],
          "name": "stdout"
        },
        {
          "output_type": "display_data",
          "data": {
            "image/png": "[encoded data removed]",
            "text/plain": [
              "<Figure size 1296x432 with 2 Axes>"
            ]
          },
          "metadata": {
            "tags": []
          }
        }
      ]
    },
    {
      "cell_type": "code",
      "metadata": {
        "colab": {
          "base_uri": "https://localhost:8080/"
        },
        "id": "HwjXjPk-S1YY",
        "outputId": "ad2763dc-6f5f-4e11-80fe-ea56ba0b0553"
      },
      "source": [
        "nn3.accuracy(X_train, y_train, X_test, y_test, param3)"
      ],
      "execution_count": 45,
      "outputs": [
        {
          "output_type": "stream",
          "text": [
            "Training set accuracy: 32.61%\n",
            "Testing set accuracy: 32.93%\n"
          ],
          "name": "stdout"
        }
      ]
    },
    {
      "cell_type": "markdown",
      "metadata": {
        "id": "n0hf3emFn6ah"
      },
      "source": [
        "Turns out that the increase in hidden layers and number of nodes may cause the overfitting to our model, and it takes a lot of time for propagation to do its work."
      ]
    },
    {
      "cell_type": "markdown",
      "metadata": {
        "id": "Xje5lVoHoEQT"
      },
      "source": [
        "**Model 4**\n",
        "\n",
        "We will use only 3 layers similar to the first model, and change number of epochs from 3 to 5.\n",
        "\n",
        "Number of hidden layers: 3\n",
        "\n",
        "Layers size: [Input, 400, 250, 10]\n",
        "\n",
        "Batch size: 20\n",
        "\n",
        "Learning rate: 0.001\n",
        "\n",
        "Number of epochs: 5\n",
        "\n",
        "Hidden layer estimator: Tanh\n",
        "\n",
        "Output layer estimator: ReLu"
      ]
    },
    {
      "cell_type": "code",
      "metadata": {
        "id": "XuqoMJFpoVt2"
      },
      "source": [
        "layers = [X_train.shape[0], 400, 200, 10]\n",
        "lr = 0.001\n",
        "batch = 20\n",
        "epochs = 5\n",
        "\n",
        "nn4 = ScratchDeepNeuralNetrowkClassifier(layers, lr=lr, hidden_est='tanh', output_est='relu', batch_size=batch, epochs=epochs, verbose=True)"
      ],
      "execution_count": 55,
      "outputs": []
    },
    {
      "cell_type": "code",
      "metadata": {
        "colab": {
          "base_uri": "https://localhost:8080/",
          "height": 527
        },
        "id": "6iPcsew1oVt2",
        "outputId": "33756494-bd53-43a3-c599-e556c100645b"
      },
      "source": [
        "param4 = nn4.fit(X_train, y_train_one_hot)"
      ],
      "execution_count": 56,
      "outputs": [
        {
          "output_type": "stream",
          "text": [
            "Batch size: 20\n",
            "Iteration: 3000.0\n",
            "Cost after epoch 0: 0.3363386379826091\n",
            "Cost after epoch 1: 0.08370171166821556\n",
            "Cost after epoch 2: 0.060859340996741604\n",
            "Cost after epoch 3: 0.0501030206080957\n",
            "Cost after epoch 4: 0.04329234929933288\n"
          ],
          "name": "stdout"
        },
        {
          "output_type": "display_data",
          "data": {
            "image/png": "[encoded data removed]",
            "text/plain": [
              "<Figure size 1296x432 with 2 Axes>"
            ]
          },
          "metadata": {
            "tags": []
          }
        }
      ]
    },
    {
      "cell_type": "code",
      "metadata": {
        "colab": {
          "base_uri": "https://localhost:8080/"
        },
        "id": "BDKh4a6foVpF",
        "outputId": "2809a44e-89cc-4f29-d315-e1b0be3c4436"
      },
      "source": [
        "nn4.accuracy(X_train, y_train, X_test, y_test, param4)"
      ],
      "execution_count": 57,
      "outputs": [
        {
          "output_type": "stream",
          "text": [
            "Training set accuracy: 94.46%\n",
            "Testing set accuracy: 94.16%\n"
          ],
          "name": "stdout"
        }
      ]
    },
    {
      "cell_type": "markdown",
      "metadata": {
        "id": "O8zr28Bhp1Zr"
      },
      "source": [
        "The output match with my expectation, in which the number of epochs will affect the learning pattern of our model and parameters. The more epochs means the more time to re-train the batch. Therefore, each weight and bias values might gradually potentially become the best ones."
      ]
    },
    {
      "cell_type": "markdown",
      "metadata": {
        "id": "ArlaIUa-qbSq"
      },
      "source": [
        "**Model 5**\n",
        "\n",
        "This is our final model. Here, I increase the number of epochs to 10\n",
        "\n",
        "Number of hidden layers: 3\n",
        "\n",
        "Layers size: [Input, 400, 250, 10]\n",
        "\n",
        "Batch size: 20\n",
        "\n",
        "Learning rate: 0.001\n",
        "\n",
        "Number of epochs: 10\n",
        "\n",
        "Hidden layer estimator: Tanh\n",
        "\n",
        "Output layer estimator: ReLu"
      ]
    },
    {
      "cell_type": "code",
      "metadata": {
        "id": "rPgSVKKiqkdz"
      },
      "source": [
        "layers = [X_train.shape[0], 400, 200, 10]\n",
        "lr = 0.001\n",
        "batch = 20\n",
        "epochs = 10\n",
        "\n",
        "nn5 = ScratchDeepNeuralNetrowkClassifier(layers, lr=lr, hidden_est='tanh', output_est='relu', batch_size=batch, epochs=epochs, verbose=True)"
      ],
      "execution_count": 59,
      "outputs": []
    },
    {
      "cell_type": "code",
      "metadata": {
        "colab": {
          "base_uri": "https://localhost:8080/",
          "height": 612
        },
        "id": "Xjc6D3IWqkd0",
        "outputId": "eb5ce5d2-db30-46ef-e43e-cbdb46ffc0da"
      },
      "source": [
        "param5 = nn5.fit(X_train, y_train_one_hot)"
      ],
      "execution_count": 60,
      "outputs": [
        {
          "output_type": "stream",
          "text": [
            "Batch size: 20\n",
            "Iteration: 3000.0\n",
            "Cost after epoch 0: 0.3363386379826091\n",
            "Cost after epoch 1: 0.08370171166821556\n",
            "Cost after epoch 2: 0.060859340996741604\n",
            "Cost after epoch 3: 0.0501030206080957\n",
            "Cost after epoch 4: 0.04329234929933288\n",
            "Cost after epoch 5: 0.03804123131474752\n",
            "Cost after epoch 6: 0.03469065809242787\n",
            "Cost after epoch 7: 0.03172574117048957\n",
            "Cost after epoch 8: 0.029307538347788074\n",
            "Cost after epoch 9: 0.027007562769562336\n"
          ],
          "name": "stdout"
        },
        {
          "output_type": "display_data",
          "data": {
            "image/png": "[encoded data removed]",
            "text/plain": [
              "<Figure size 1296x432 with 2 Axes>"
            ]
          },
          "metadata": {
            "tags": []
          }
        }
      ]
    },
    {
      "cell_type": "code",
      "metadata": {
        "colab": {
          "base_uri": "https://localhost:8080/"
        },
        "id": "IGyqCcuDqkd1",
        "outputId": "f4ca29ed-a536-4fbd-8684-9e98e6b07ba0"
      },
      "source": [
        "nn5.accuracy(X_train, y_train, X_test, y_test, param5)"
      ],
      "execution_count": 61,
      "outputs": [
        {
          "output_type": "stream",
          "text": [
            "Training set accuracy: 96.46%\n",
            "Testing set accuracy: 95.8%\n"
          ],
          "name": "stdout"
        }
      ]
    },
    {
      "cell_type": "markdown",
      "metadata": {
        "id": "-AkUOqlJuTzF"
      },
      "source": [
        "In conclusion, my personal comments on the behavior of neural network model are:\n",
        "\n",
        "* The hidden layers only show its benefit when we come up with a very large of dataset. This is because it requires huge number of nodes to fit with the training data. Otherwise, using too many hidden layers or number of nodes may cause overfitting\n",
        "\n",
        "* Config the number of epochs is important. Because the more epochs, the better the iterative training works out. In fact, parameters need to be updated in a way that reducing the loss as much as possible. Therefore, if we train the data a little bit more, there is a high chance that loss will be decrease a little bit, thus enabling the parameters (weight and bias) find their best values.\n",
        "\n",
        "* Learning rate is also very important. During this assignment, I have tried to use the learning rate 0.01 and more. However, it informed me a warning showing that the logarithm function witnessed the division of zero, or the exponential function witnessed the overflow. This is maybe due to the high learning rate, in which it cause the parameters to be update too fast, thus the undesireable divergent may occurs during the training process.\n",
        "\n",
        "* The tanh function has a better performance than sigmoid function. This is due to the range of tanh ([-1:1]) is higher than that of sigmoid ([0:1]). Convergence is usually faster if the average of each input variable over the training set is close to zero. In this case, sigmoid maps a strongly-negative input to an output value that close to zero (due to its boundary [0:1]), thus making the update in backpropagation to be slower. At this point, our neural network might also get stuck during the training. On the contrary, tanh maps the input to the output in a range of (-1,1), that is, maps a strongly-negative input to negative output and vice versa. As a result, the neural network can update the parameters and converge faster."
      ]
    }
  ]
}