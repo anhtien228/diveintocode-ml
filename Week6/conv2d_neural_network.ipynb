{
  "nbformat": 4,
  "nbformat_minor": 0,
  "metadata": {
    "colab": {
      "name": "conv2d_neural_network.ipynb",
      "provenance": [],
      "collapsed_sections": []
    },
    "kernelspec": {
      "name": "python3",
      "display_name": "Python 3"
    },
    "language_info": {
      "name": "python"
    },
    "accelerator": "GPU"
  },
  "cells": [
    {
      "cell_type": "markdown",
      "metadata": {
        "id": "EQ9oEAn43Wnk"
      },
      "source": [
        "# **DIVE INTO CODE COURSE**\n",
        "## **Sprint Deep Learning - Convolution Neural Network 2D**\n",
        "**Student Name**: Doan Anh Tien<br>\n",
        "**Student ID**: 1852789<br>\n",
        "**Email**: tien.doan.g0pr0@hcmut.edu.vn"
      ]
    },
    {
      "cell_type": "code",
      "metadata": {
        "id": "XJt2HavErNQs"
      },
      "source": [
        "import matplotlib.pyplot as plt\n",
        "import pandas as pd\n",
        "import numpy as np\n",
        "import math\n",
        "import seaborn as sns\n",
        "import random\n",
        "from math import log2\n",
        "from sklearn.metrics import accuracy_score\n",
        "\n",
        "plt.style.use('ggplot')"
      ],
      "execution_count": 36,
      "outputs": []
    },
    {
      "cell_type": "markdown",
      "metadata": {
        "id": "tkkuRv7or0BF"
      },
      "source": [
        "### **[Problem 1] Creating a 2-D convolutional layer**"
      ]
    },
    {
      "cell_type": "markdown",
      "source": [
        "### **Support class and functions**"
      ],
      "metadata": {
        "id": "9fTNse081DnN"
      }
    },
    {
      "cell_type": "code",
      "metadata": {
        "id": "pQUszf2Hhxju"
      },
      "source": [
        "class GetMiniBatch:\n",
        "\n",
        "    def __init__(self, X, y, batch_size = 20, seed=0):\n",
        "        self.batch_size = batch_size\n",
        "        np.random.seed(seed)\n",
        "        shuffle_index = np.random.permutation(np.arange(X.shape[0]))\n",
        "        self._X = X[shuffle_index]\n",
        "        self._y = y[shuffle_index]\n",
        "#         self._stop = np.ceil(X.shape[0]/self.batch_size).astype(np.int)\n",
        "        self._stop = int(np.ceil(X.shape[0]/self.batch_size))\n",
        "    def __len__(self):\n",
        "        return self._stop\n",
        "    def __getitem__(self,item):\n",
        "        p0 = item*self.batch_size\n",
        "        p1 = item*self.batch_size + self.batch_size\n",
        "        return self._X[p0:p1], self._y[p0:p1]\n",
        "    def __iter__(self):\n",
        "        self._counter = 0\n",
        "        return self\n",
        "    def __next__(self):\n",
        "        if self._counter >= self._stop:\n",
        "            raise StopIteration()\n",
        "        p0 = self._counter*self.batch_size\n",
        "        p1 = self._counter*self.batch_size + self.batch_size\n",
        "        self._counter += 1\n",
        "        return self._X[p0:p1], self._y[p0:p1]"
      ],
      "execution_count": 37,
      "outputs": []
    },
    {
      "cell_type": "code",
      "source": [
        "def cross_entropy_error(y, Z3):\n",
        "\n",
        "    DELTA = 1e-7\n",
        "    batch_size = y.shape[0]\n",
        "    return -np.sum(y * np.log(Z3 + DELTA))/batch_size\n",
        "\n",
        "class SimpleInitializer:\n",
        "\n",
        "    def __init__(self, sigma):\n",
        "        self.sigma = sigma\n",
        "    def W(self, *shape):\n",
        "\n",
        "        w = self.sigma * np.random.randn(*shape)\n",
        "        return w\n",
        "\n",
        "    def B(self, *shape):\n",
        "\n",
        "        b = np.zeros(*shape)\n",
        "        return b\n",
        "\n",
        "    def B_zeros(self, *shape):\n",
        "\n",
        "        b = np.zeros(*shape)\n",
        "        return b\n",
        "\n",
        "class Tanh:\n",
        "\n",
        "    def forward(self, A):\n",
        "        self.A = A\n",
        "        return np.tanh(A)\n",
        "\n",
        "    def backward(self, dZ):\n",
        "        return dZ * (1 - (np.tanh(self.A))**2)\n",
        "\n",
        "\n",
        "class Softmax:\n",
        "\n",
        "    def __init__(self):\n",
        "        self.loss = None\n",
        "\n",
        "    def forward(self, X):\n",
        "\n",
        "        X = X.T\n",
        "        y = np.exp(X) / np.sum(np.exp(X), axis=0)\n",
        "\n",
        "        return y.T\n",
        "\n",
        "    def backward(self, Z3, y):\n",
        "        batch_size = y.shape[0]\n",
        "        ret = (Z3 - y)/batch_size\n",
        "\n",
        "        self.loss = cross_entropy_error(y, Z3)\n",
        "\n",
        "        return ret\n",
        "\n",
        "\n",
        "class ReLU:\n",
        "\n",
        "    def __init__(self):\n",
        "        self.x = None\n",
        "\n",
        "    def forward(self, X):\n",
        "\n",
        "        self.x = X\n",
        "\n",
        "        return np.maximum(0, X)\n",
        "\n",
        "    def backward(self, X):\n",
        "\n",
        "        return np.where(self.x > 0, X, 0)\n",
        "\n",
        "\n",
        "class XavierInitializer:\n",
        "\n",
        "    def __init__(self, sigma):\n",
        "        _ = sigma\n",
        "\n",
        "    def W(self, n_nodes1, n_nodes2):\n",
        "\n",
        "        sigma = 1.0 / np.sqrt(n_nodes1)\n",
        "        w = sigma * np.random.randn(n_nodes1, n_nodes2)\n",
        "        return w\n",
        "\n",
        "    def B(self, n_nodes2):\n",
        "\n",
        "        b = np.random.randn(n_nodes2)\n",
        "        return b\n",
        "\n",
        "class HeInitializer:\n",
        "\n",
        "    def __init__(self, sigma):\n",
        "        _ = sigma\n",
        "\n",
        "    def W(self, n_nodes1, n_nodes2):\n",
        "\n",
        "        sigma = np.sqrt( 2.0 / n_nodes1)\n",
        "        w = sigma * np.random.randn(n_nodes1, n_nodes2)\n",
        "        return w\n",
        "\n",
        "    def B(self, n_nodes2):\n",
        "\n",
        "        b = np.random.randn(n_nodes2)\n",
        "        return b    \n",
        "    \n",
        "    \n",
        "class AdaGrad:\n",
        "\n",
        "    def __init__(self, lr):\n",
        "        self.lr = lr\n",
        "        self.HW = 1\n",
        "        self.HB = 1\n",
        "\n",
        "    def update(self, layer):\n",
        "        self.HW += layer.dW**2\n",
        "        self.HB += layer.dB**2\n",
        "        layer.W -= self.lr * np.sqrt(1/self.HW) * layer.dW\n",
        "        layer.B -= self.lr * np.sqrt(1/self.HB) * layer.dB\n",
        "    \n",
        "class SGD:\n",
        "\n",
        "    def __init__(self, lr):\n",
        "        self.lr = lr\n",
        "\n",
        "    def update(self, layer):\n",
        "        layer.W -= self.lr * layer.dW\n",
        "        layer.B -= self.lr * layer.dB\n",
        "        return"
      ],
      "metadata": {
        "id": "DhnL6tNZWfNQ"
      },
      "execution_count": 38,
      "outputs": []
    },
    {
      "cell_type": "markdown",
      "source": [
        "### **2D Convolution Layer**"
      ],
      "metadata": {
        "id": "tKMIFnXj1J2P"
      }
    },
    {
      "cell_type": "code",
      "source": [
        "def im2col(in_data, FH, FW, stride, padding):\n",
        "    \"\"\"\n",
        "    Parameters\n",
        "    ----------\n",
        "    in_data: Input data consisting of a 4-dimensional array of (number of data, number of channels, height, width)\n",
        "    FH: Filter size in height\n",
        "    FW: Filter size in width\n",
        "    stride: Stride size\n",
        "    padding: Number of padding\n",
        "\n",
        "    Returns\n",
        "    -------\n",
        "    col: 2D ndarray\n",
        "    \"\"\"\n",
        "    N, C, H, W = in_data.shape\n",
        "    OH, OW = output_size_calculation(H, W, FH, FW, stride, padding)\n",
        "    img = np.pad(in_data, [(0,0), (0,0), (padding, padding), (padding, padding)], 'constant')\n",
        "    col = np.zeros([OH*OW*N, C*FH*FW])\n",
        "\n",
        "    idx = 0\n",
        "    for n in range(N):\n",
        "        for ch in range(C):\n",
        "            for i in range(OH):\n",
        "                for j in range(OW):\n",
        "                    patch = img[n, ch, i*stride:i*stride+FH, j*stride:j*stride+FW]\n",
        "                    col[idx, :] = patch.reshape(-1)\n",
        "                    idx += 1\n",
        "\n",
        "    return col\n",
        "\n",
        "def col2im(col, in_shape, FH, FW, stride, padding):\n",
        "    \"\"\"\n",
        "    Parameters\n",
        "    ----------\n",
        "    col: 2D ndarray\n",
        "    FH: Filter size in height\n",
        "    FW: Filter size in width\n",
        "    stride: Stride size\n",
        "    padding: Number of padding\n",
        "\n",
        "    Returns\n",
        "    -------\n",
        "    img: Input data consisting of a 4-dimensional array of (number of data, number of channels, height, width)\n",
        "    \"\"\"\n",
        "    N, C, H, W = in_shape\n",
        "    OH, OW = output_size_calculation(H, W, FH, FW, stride, padding)\n",
        "    img = np.zeros((N, C, H + 2*padding + stride - 1, W + 2*padding + stride - 1))\n",
        "\n",
        "    idx = 0\n",
        "    for n in range(N):\n",
        "        for ch in range(C):\n",
        "            for i in range(OH):\n",
        "                for j in range(OW):\n",
        "                    _col = col[idx, :].reshape(FH, FW)\n",
        "                    img[n, ch, i*stride:i*stride+FH, j*stride:j*stride+FW] += _col\n",
        "                    idx += 1\n",
        "\n",
        "    return img[:, :, padding:H + padding, padding:W + padding]\n",
        "\n",
        "\n",
        "class Conv2d:\n",
        "    \"\"\"\n",
        "    2D Convolution Layer\n",
        "    Parameters\n",
        "    ----------\n",
        "    FN：Number of filters\n",
        "    C：Number of channels (\"C\"hannel)\n",
        "    FH：Filter size in height\n",
        "    FW：Filter size in width\n",
        "    stride: Stride size\n",
        "    padding: Number of padding\n",
        "    initializer: The type of initializer\n",
        "    optimizer: The optimization method\n",
        "    \"\"\"\n",
        "    def __init__(self, FN, C, FH, FW, stride, padding=0, optimizer=SGD, initializer=SimpleInitializer):\n",
        "\n",
        "        self.stride = stride\n",
        "        self.padding = padding\n",
        "\n",
        "        self.optimizer = optimizer\n",
        "        self.initializer = initializer\n",
        "\n",
        "        self.W = self.initializer.W(FN, C, FH, FW)\n",
        "        self.B = self.initializer.B_zeros(FN)\n",
        "\n",
        "        self.dW = None\n",
        "        self.dB = None\n",
        "\n",
        "        self.x = None\n",
        "        self.col = None\n",
        "        self.col_W = None\n",
        "\n",
        "    def forward(self, X):\n",
        "\n",
        "        self.x = X\n",
        "\n",
        "        N, C, H, W = X.shape\n",
        "        FN, C, FH, FW = self.W.shape\n",
        "        OH, OW = output_size_calculation(H, W, FH, FW, self.stride, self.padding)\n",
        "\n",
        "        self.col = col = im2col(X, FH, FW, self.stride, self.padding)\n",
        "        self.col_W = col_W = self.W.reshape(FN, -1).T\n",
        "        A = np.dot(col, col_W) + self.B\n",
        "        A = A.reshape(N, OH, OW, -1).transpose(0, 3, 1, 2)\n",
        "\n",
        "        return A\n",
        "\n",
        "    def backward(self, dA):\n",
        "\n",
        "        FN, C, FH, FW = self.W.shape\n",
        "\n",
        "        self.dW = np.dot(dA.reshape(FN, -1), self.col)\n",
        "        self.dW = self.dW.reshape(C, FN, FH, FW).transpose(1, 0, 2, 3)\n",
        "        self.dB = np.sum(dA.reshape(FN, -1), axis=1)\n",
        "\n",
        "        col_dX = np.dot(self.col_W, dA.reshape(FN, -1))\n",
        "        dX = col2im(col_dX.T, self.x.shape, FH, FW, self.stride, self.padding)\n",
        "\n",
        "        self = self.optimizer.update(self)\n",
        "\n",
        "        return dX"
      ],
      "metadata": {
        "id": "JLrjsiAYWHmU"
      },
      "execution_count": 39,
      "outputs": []
    },
    {
      "cell_type": "markdown",
      "metadata": {
        "id": "cU8o99cc8PQA"
      },
      "source": [
        "### **[Problem 2] Experiments with 2D convolutional layers on small arrays**"
      ]
    },
    {
      "cell_type": "code",
      "source": [
        "x = np.array([[[[ 1,  2,  3,  4],\n",
        "                [ 5,  6,  7,  8],\n",
        "                [ 9, 10, 11, 12],\n",
        "                [13, 14, 15, 16]]]])\n",
        "# (2,3,3)\n",
        "w = np.array([[[ 0.,  0.,  0.],\n",
        "               [ 0.,  1.,  0.],\n",
        "               [ 0., -1.,  0.]],\n",
        "              [[ 0.,  0.,  0.],\n",
        "               [ 0., -1.,  1.],\n",
        "               [ 0.,  0.,  0.]]])\n",
        "\n",
        "w = w[:, np.newaxis, : :]"
      ],
      "metadata": {
        "id": "-Oc-qbIr-T66"
      },
      "execution_count": 40,
      "outputs": []
    },
    {
      "cell_type": "code",
      "source": [
        "conv = Conv2d(FN=2, C=1, FH=3, FW=3, stride=1, padding=0, optimizer=SGD(0.05), initializer=SimpleInitializer(0.01))\n",
        "conv.W = w\n",
        "A = conv.forward(x)\n",
        "print(A)"
      ],
      "metadata": {
        "colab": {
          "base_uri": "https://localhost:8080/"
        },
        "id": "wBul68oh-bls",
        "outputId": "835ab69b-0172-411e-d3d6-df5a08b957be"
      },
      "execution_count": 41,
      "outputs": [
        {
          "output_type": "stream",
          "name": "stdout",
          "text": [
            "[[[[-4. -4.]\n",
            "   [-4. -4.]]\n",
            "\n",
            "  [[ 1.  1.]\n",
            "   [ 1.  1.]]]]\n"
          ]
        }
      ]
    },
    {
      "cell_type": "code",
      "source": [
        "delta = np.array([[[ -4,  -4],\n",
        "                   [ 10,  11]],\n",
        "                  [[  1,  -7],\n",
        "                   [  1, -11]]])\n",
        "\n",
        "dZ = conv.backward(delta)\n",
        "\n",
        "print(dZ)"
      ],
      "metadata": {
        "colab": {
          "base_uri": "https://localhost:8080/"
        },
        "id": "nQ9WIeU4BcaV",
        "outputId": "b0c59981-34d0-491e-8acd-4d190784a3cc"
      },
      "execution_count": 42,
      "outputs": [
        {
          "output_type": "stream",
          "name": "stdout",
          "text": [
            "[[[[  0.   0.   0.   0.]\n",
            "   [  0.  -5.   4.  -7.]\n",
            "   [  0.  13.  27. -11.]\n",
            "   [  0. -10. -11.   0.]]]]\n"
          ]
        }
      ]
    },
    {
      "cell_type": "markdown",
      "source": [
        "With padding = 1"
      ],
      "metadata": {
        "id": "I5mLYFNqD9hL"
      }
    },
    {
      "cell_type": "code",
      "source": [
        "conv.padding = 0"
      ],
      "metadata": {
        "id": "MLpOjuAjENVJ"
      },
      "execution_count": 43,
      "outputs": []
    },
    {
      "cell_type": "code",
      "source": [
        "dZ = conv.backward(delta)\n",
        "\n",
        "print(dZ)"
      ],
      "metadata": {
        "colab": {
          "base_uri": "https://localhost:8080/"
        },
        "id": "ybR_o1aGEDlF",
        "outputId": "cc6f9000-b7ee-406f-d1e6-aac03d793794"
      },
      "execution_count": 44,
      "outputs": [
        {
          "output_type": "stream",
          "name": "stdout",
          "text": [
            "[[[[  24.5    22.8    23.2   -11.1 ]\n",
            "   [ -10.2  -132.5  -144.75 -159.9 ]\n",
            "   [ -19.4  -199.5  -206.75 -239.7 ]\n",
            "   [ -93.9  -335.1  -357.75 -257.4 ]]]]\n"
          ]
        }
      ]
    },
    {
      "cell_type": "markdown",
      "source": [
        "### **[Problem 3] Output size after 2-dimensional convolution**"
      ],
      "metadata": {
        "id": "7xg8SwWpxizU"
      }
    },
    {
      "cell_type": "code",
      "source": [
        "def output_size_calculation(H, W, FH, FW, stride, padding):\n",
        "      \"\"\"\n",
        "      Function to return the output size of features\n",
        "      Parameters\n",
        "      ----------\n",
        "      H: Input size in height\n",
        "      W: Input size in width\n",
        "      FH：Filter size in height\n",
        "      FW：Filter size in width\n",
        "      stride: Stride size\n",
        "      padding: Number of padding\n",
        "\n",
        "      Returns\n",
        "      ----------\n",
        "      OH: int\n",
        "          Output size in height\n",
        "      OW: int\n",
        "          Output size in width\n",
        "      \"\"\"\n",
        "\n",
        "      OH = (H + 2*padding - FH)/stride + 1\n",
        "      OW = (W + 2*padding - FW)/stride + 1\n",
        "      \n",
        "      return int(OH), int(OW)"
      ],
      "metadata": {
        "id": "g0c1lpRaxl88"
      },
      "execution_count": 45,
      "outputs": []
    },
    {
      "cell_type": "markdown",
      "metadata": {
        "id": "cSMuMCTf-B2n"
      },
      "source": [
        "### **[Problem 4] Creation of maximum pooling layer**"
      ]
    },
    {
      "cell_type": "code",
      "source": [
        "class MaxPool2D:\n",
        "    \"\"\"\n",
        "    Parameters\n",
        "     pooling_H：Pooling size in height\n",
        "     pooling_W：Pooling size in width\n",
        "     stride：Stride size\n",
        "     padding：Number of padding\n",
        "    ----------\n",
        "    \"\"\"\n",
        "    def __init__(self, pooling_H, pooling_W, stride, padding=0):\n",
        "        self.pooling_H = pooling_H\n",
        "        self.pooling_W = pooling_W\n",
        "        self.stride = stride\n",
        "        self.padding = padding\n",
        "\n",
        "        self.x = None\n",
        "        self.argmax_col = None \n",
        "\n",
        "    def forward(self, X):\n",
        "\n",
        "        self.x = X  \n",
        "\n",
        "        N, C, H, W = X.shape    \n",
        "        OH, OW = output_size_calculation(H, W, self.pooling_H, self.pooling_W, self.stride, self.padding)\n",
        "\n",
        "        col = im2col(X, self.pooling_H, self.pooling_W, self.stride, self.padding)\n",
        "        col = col.reshape(-1, self.pooling_H*self.pooling_W)\n",
        "        self.argmax_col = col.argmax(axis=1)\n",
        "        A = col.max(axis=1)\n",
        "\n",
        "        return A.reshape(N, OH, OW, C).transpose(0, 3, 1, 2)\n",
        "\n",
        "    def backward(self, dA):\n",
        "\n",
        "        dout = dA.transpose(0, 2, 3, 1)\n",
        "\n",
        "        pool_size = self.pooling_H * self.pooling_W\n",
        "        dmax = np.zeros((dout.size, pool_size))\n",
        "        dmax[np.arange(self.argmax_col.size), self.argmax_col.reshape(-1)] = dout.reshape(-1)\n",
        "        dmax = dmax.reshape(dout.shape + (pool_size,))\n",
        "\n",
        "        dcol = dmax.reshape(dmax.shape[0] * dmax.shape[1] * dmax.shape[2], -1)\n",
        "        dZ = col2im(dcol, self.x.shape, self.pooling_H, self.pooling_W, self.stride, self.padding)\n",
        "\n",
        "        return dZ"
      ],
      "metadata": {
        "id": "UNjeR6orIRjG"
      },
      "execution_count": 46,
      "outputs": []
    },
    {
      "cell_type": "code",
      "source": [
        "X = np.random.randint(0,9,36).reshape(1,1,6,6)\n",
        "print(\"X\")\n",
        "print(X)\n",
        "\n",
        "Pooling = MaxPool2D(2, 2, 2, 0)\n",
        "A = Pooling.forward(X)\n",
        "print(\"A\")\n",
        "print(A)\n",
        "\n",
        "dA = np.random.randint(0,9,9).reshape(A.shape)\n",
        "print(\"-dA\")\n",
        "print(dA)\n",
        "\n",
        "dZ = Pooling.backward(dA)\n",
        "print(\"dZ\")\n",
        "print(dZ)"
      ],
      "metadata": {
        "colab": {
          "base_uri": "https://localhost:8080/"
        },
        "id": "rhuOK5UbI87R",
        "outputId": "b845b2fc-4b16-4852-8502-4e3b2ccb6b1f"
      },
      "execution_count": 47,
      "outputs": [
        {
          "output_type": "stream",
          "name": "stdout",
          "text": [
            "X\n",
            "[[[[6 0 0 5 6 2]\n",
            "   [2 1 2 5 1 5]\n",
            "   [5 0 5 1 5 8]\n",
            "   [6 2 4 0 6 6]\n",
            "   [3 1 3 4 4 7]\n",
            "   [3 5 7 4 5 6]]]]\n",
            "A\n",
            "[[[[6. 5. 6.]\n",
            "   [6. 5. 8.]\n",
            "   [5. 7. 7.]]]]\n",
            "-dA\n",
            "[[[[4 2 2]\n",
            "   [3 1 4]\n",
            "   [0 3 4]]]]\n",
            "dZ\n",
            "[[[[4. 0. 0. 2. 2. 0.]\n",
            "   [0. 0. 0. 0. 0. 0.]\n",
            "   [0. 0. 1. 0. 0. 4.]\n",
            "   [3. 0. 0. 0. 0. 0.]\n",
            "   [0. 0. 0. 0. 0. 4.]\n",
            "   [0. 0. 3. 0. 0. 0.]]]]\n"
          ]
        }
      ]
    },
    {
      "cell_type": "markdown",
      "source": [
        "### **[Problem 6] Smoothing**"
      ],
      "metadata": {
        "id": "W5Y9QfqlOOP5"
      }
    },
    {
      "cell_type": "code",
      "source": [
        "class Flatten:\n",
        "    '''\n",
        "    Flatten layer\n",
        "    '''\n",
        "    def __init__(self):\n",
        "\n",
        "        self.x_shape = None\n",
        "\n",
        "    def forward(self, X):\n",
        "\n",
        "        self.x_shape = X.shape\n",
        "        flatten_x = X.reshape(len(X), -1)\n",
        "\n",
        "        return flatten_x\n",
        "\n",
        "    def backward(self, dA):\n",
        "        return dA.reshape(self.x_shape)"
      ],
      "metadata": {
        "id": "YjQHAlGeOPtS"
      },
      "execution_count": 48,
      "outputs": []
    },
    {
      "cell_type": "markdown",
      "source": [
        "### **[Problem 7] Learning and estimation**"
      ],
      "metadata": {
        "id": "EETb69gLO2Hy"
      }
    },
    {
      "cell_type": "markdown",
      "metadata": {
        "id": "lGSi5Umwt5F5"
      },
      "source": [
        "**Dataset Preparation**"
      ]
    },
    {
      "cell_type": "code",
      "metadata": {
        "id": "ODYZeFQ3t65C"
      },
      "source": [
        "from keras.datasets import mnist\n",
        "(X_train, y_train), (X_test, y_test) = mnist.load_data()"
      ],
      "execution_count": 49,
      "outputs": []
    },
    {
      "cell_type": "code",
      "metadata": {
        "id": "Vrzmqf26t932",
        "colab": {
          "base_uri": "https://localhost:8080/"
        },
        "outputId": "7c0b0ce2-8c9f-475c-a701-807a02fe4809"
      },
      "source": [
        "print(X_train.shape) # (60000, 28, 28)\n",
        "print(y_train.shape) # (10000, 28, 28)\n",
        "print(X_test.shape) # (10000, 28, 28)\n",
        "print(y_test.shape)\n",
        "print(X_train[0].dtype) # uint8"
      ],
      "execution_count": 50,
      "outputs": [
        {
          "output_type": "stream",
          "name": "stdout",
          "text": [
            "(60000, 28, 28)\n",
            "(60000,)\n",
            "(10000, 28, 28)\n",
            "(10000,)\n",
            "uint8\n"
          ]
        }
      ]
    },
    {
      "cell_type": "markdown",
      "metadata": {
        "id": "wR3PLEXruO64"
      },
      "source": [
        "**Visualization**"
      ]
    },
    {
      "cell_type": "code",
      "metadata": {
        "colab": {
          "base_uri": "https://localhost:8080/",
          "height": 282
        },
        "id": "o7Vfb9qTuOaf",
        "outputId": "027edcef-e052-496f-9feb-d70a884e68a7"
      },
      "source": [
        "%matplotlib inline\n",
        "index = 0\n",
        "image = X_train[index].reshape(28,28)\n",
        "# X_train[index]: (784,)\n",
        "# image: (28, 28)\n",
        "plt.imshow(image, 'gray')\n",
        "plt.title('label : {}'.format(y_train[index]))\n",
        "plt.show()"
      ],
      "execution_count": 51,
      "outputs": [
        {
          "output_type": "display_data",
          "data": {
            "image/png": "[encoded data removed]",
            "text/plain": [
              "<Figure size 432x288 with 1 Axes>"
            ]
          },
          "metadata": {
            "needs_background": "light"
          }
        }
      ]
    },
    {
      "cell_type": "markdown",
      "metadata": {
        "id": "ZSAGU3J2utWE"
      },
      "source": [
        "**Preprocessing**"
      ]
    },
    {
      "cell_type": "code",
      "source": [
        "import numpy as np\n",
        "from sklearn.model_selection import train_test_split\n",
        "from sklearn.preprocessing import OneHotEncoder\n",
        "from keras.datasets import mnist\n",
        "from sklearn.metrics import accuracy_score"
      ],
      "metadata": {
        "id": "nBKGgl49M5Rw"
      },
      "execution_count": 52,
      "outputs": []
    },
    {
      "cell_type": "code",
      "source": [
        "X_train = X_train / 255.0\n",
        "X_test = X_test / 255.0\n",
        "\n",
        "enc = OneHotEncoder(handle_unknown='ignore', sparse=False)\n",
        "y_train_one_hot = enc.fit_transform(y_train[:, np.newaxis])\n",
        "y_test_one_hot = enc.transform(y_test[:, np.newaxis])\n",
        "\n",
        "X_train, X_val, y_train, y_val = train_test_split(X_train, y_train_one_hot, test_size=0.2)\n",
        "\n",
        "print(X_train.shape)\n",
        "print(X_test.shape)"
      ],
      "metadata": {
        "colab": {
          "base_uri": "https://localhost:8080/"
        },
        "id": "ipclmDklcKWm",
        "outputId": "e0087fd0-0dfb-4f92-9443-7db0bafb92eb"
      },
      "execution_count": 53,
      "outputs": [
        {
          "output_type": "stream",
          "name": "stdout",
          "text": [
            "(48000, 28, 28)\n",
            "(10000, 28, 28)\n"
          ]
        }
      ]
    },
    {
      "cell_type": "markdown",
      "metadata": {
        "id": "U-93XH-ZZoS5"
      },
      "source": [
        "**Neural Network Class**"
      ]
    },
    {
      "cell_type": "code",
      "metadata": {
        "id": "BX-n-C8-hqyW"
      },
      "source": [
        "class FullyC:\n",
        "    \"\"\"\n",
        "    Number of nodes Fully connected layer from n_nodes1 to n_nodes2\n",
        "    Parameters\n",
        "    ----------\n",
        "    n_nodes1 : int\n",
        "      Number of nodes in the previous layer\n",
        "    n_nodes2 : int\n",
        "      Number of nodes in the later layer\n",
        "    initializer: object\n",
        "      Instance of initialization method\n",
        "    optimizer: object\n",
        "      Instance of optimization method\n",
        "    \"\"\"\n",
        "    def __init__(self, n_nodes1, n_nodes2, initializer, optimizer):\n",
        "        self.optimizer = optimizer\n",
        "        self.n_nodes1 = n_nodes1\n",
        "        self.n_nodes2 = n_nodes2\n",
        "\n",
        "        self.initializer = initializer\n",
        "\n",
        "        self.W = self.initializer.W(self.n_nodes1, self.n_nodes2)\n",
        "        self.B = self.initializer.B(self.n_nodes2)\n",
        "\n",
        "        self.dW = None\n",
        "        self.dB = None\n",
        "\n",
        "        self.x = None\n",
        "        self.x_shape = None\n",
        "\n",
        "        self.W_h = 0\n",
        "        self.B_h = 0\n",
        "\n",
        "    def forward(self, X):\n",
        "        \n",
        "\n",
        "        self.x_shape = X.shape\n",
        "        _X = X.reshape(X.shape[0], -1)\n",
        "        self.x = _X  \n",
        "        A = np.dot(_X, self.W) + self.B\n",
        "        return A\n",
        "\n",
        "    def backward(self, dA):\n",
        "\n",
        "        dZ = np.dot(dA, self.W.T)\n",
        "        self.dW = np.dot(self.x.T, dA)\n",
        "        self.dB = np.sum(dA, axis=0)\n",
        "\n",
        "        self = self.optimizer.update(self)\n",
        "\n",
        "        return dZ"
      ],
      "execution_count": 54,
      "outputs": []
    },
    {
      "cell_type": "code",
      "metadata": {
        "id": "611_SR4mrzVm"
      },
      "source": [
        "class Scratch2DCNNClassifier():\n",
        "    \"\"\"\n",
        "    Convolution neural network classifier with configurable structure\n",
        "    Parameters\n",
        "    ----------\n",
        "    Attributes\n",
        "    ----------\n",
        "    \"\"\"\n",
        "    def __init__(self, conv_param, epoch, batch_size, n_nodes1, n_nodes2, n_output, lr, sigma=0.01, optimizer=AdaGrad, activation=ReLU, initializer=HeInitializer, verbose=False):\n",
        "        self.conv_param = conv_param\n",
        "        self.batch_size = batch_size\n",
        "        self.epoch = epoch\n",
        "        self.n_nodes1 = n_nodes1   \n",
        "        self.n_nodes2 = n_nodes2\n",
        "        self.n_output = n_output  \n",
        "        self.lr = lr     \n",
        "        self.sigma = sigma\n",
        "        self.verbose = verbose\n",
        "\n",
        "        self.initializer = initializer\n",
        "        self.optimizer = optimizer\n",
        "        self.activation = activation\n",
        "        self.Conv2d = Conv2d(FN=conv_param['FN'], C=conv_param['C'], FH=conv_param['FH'],\n",
        "                             FW=conv_param['FW'], stride=conv_param['stride'], padding=conv_param['padding'],\n",
        "                             initializer=SimpleInitializer(self.sigma), optimizer=SGD(self.lr))\n",
        "        self.flatten = Flatten()\n",
        "        self.activation1 = self.activation()\n",
        "        self.FC2 = FullyC(self.n_nodes1, self.n_nodes2, self.initializer(self.sigma), self.optimizer(self.lr))\n",
        "        self.activation2 = self.activation()\n",
        "        self.FC3 = FullyC(self.n_nodes2, self.n_output, self.initializer(self.sigma), self.optimizer(self.lr))\n",
        "        self.activation3 = Softmax()\n",
        "\n",
        "        self.loss_list = []\n",
        "        self.acc_list = []\n",
        "\n",
        "    def fit(self, X, y, X_val=None, y_val=None):\n",
        "\n",
        "        for p in range(self.epoch):\n",
        "            if self.verbose == True:\n",
        "              print(\"Epoch\", p)\n",
        "            get_mini_batch = GetMiniBatch(X, y, batch_size=self.batch_size, seed=p)\n",
        "\n",
        "            loss = 0\n",
        "            for mini_X, mini_y in get_mini_batch:\n",
        "                m_x = mini_X[:,np.newaxis,:,:]\n",
        "\n",
        "                Z3 = self.forward(m_x)\n",
        "                self.backward(m_x, mini_y, Z3)\n",
        "\n",
        "                loss += self.activation3.loss\n",
        "\n",
        "            self.loss_list.append(loss/len(get_mini_batch))\n",
        "            self.acc_list.append(accuracy_score(self.predict(X), np.argmax(y,axis=1)))\n",
        "\n",
        "\n",
        "\n",
        "    def forward(self, X):\n",
        "\n",
        "        A1 = self.Conv2d.forward(X)\n",
        "        Z1 = self.activation1.forward(A1)\n",
        "        Z2 = self.flatten.forward(Z1)\n",
        "        A2 = self.FC2.forward(Z2)\n",
        "        Z3 = self.activation2.forward(A2)\n",
        "        A3 = self.FC3.forward(Z3)\n",
        "        Z3 = self.activation3.forward(A3)\n",
        "\n",
        "        return Z3\n",
        "\n",
        "    def backward(self, X, y, Z4):\n",
        "\n",
        "        dA4 = self.activation3.backward(Z4, y)\n",
        "        dZ3 = self.FC3.backward(dA4)\n",
        "        dA3 = self.activation2.backward(dZ3)\n",
        "        dZ2 = self.FC2.backward(dA3)\n",
        "        dZ1 = self.flatten.backward(dZ2)\n",
        "        dA1 = self.activation1.backward(dZ1)\n",
        "        dZ0 = self.Conv2d.backward(dA1)\n",
        "\n",
        "    def predict(self, X):\n",
        "\n",
        "        _X = X[:,np.newaxis,:,:]\n",
        "        y_pred = self.forward(_X)\n",
        "\n",
        "        return y_pred.argmax(axis=1)"
      ],
      "execution_count": 68,
      "outputs": []
    },
    {
      "cell_type": "markdown",
      "metadata": {
        "id": "IMItJG5Wb4qH"
      },
      "source": [
        "**Model**\n",
        "\n",
        "Number of hidden layers: 2\n",
        "\n",
        "Layers size: [2028, 200, 10]\n",
        "\n",
        "Batch size: 10\n",
        "\n",
        "Learning rate: 0.01\n",
        "\n",
        "Number of epochs: 10\n",
        "\n",
        "Hidden layer estimator: ReLU\n",
        "\n",
        "Output layer estimator: Softmax\n"
      ]
    },
    {
      "cell_type": "code",
      "source": [
        "import warnings\n",
        "warnings.simplefilter('ignore', FutureWarning)"
      ],
      "metadata": {
        "id": "cV8tCUD7OgWA"
      },
      "execution_count": 62,
      "outputs": []
    },
    {
      "cell_type": "code",
      "source": [
        "conv_params = {'FN':3,\n",
        "              'C':1,\n",
        "              'FH':3,\n",
        "              'FW':3,\n",
        "              'stride':1,\n",
        "              'padding':0\n",
        "             }\n",
        "\n",
        "batch_size = 10 \n",
        "n_nodes1 = 2028\n",
        "n_nodes2 = 200 \n",
        "n_output = 10 \n",
        "lr = 0.01 \n",
        "epoch = 10 "
      ],
      "metadata": {
        "id": "4hwa7yTmUr6q"
      },
      "execution_count": 63,
      "outputs": []
    },
    {
      "cell_type": "code",
      "metadata": {
        "colab": {
          "base_uri": "https://localhost:8080/"
        },
        "id": "i9WF0-AQsh0F",
        "outputId": "a18bc3cd-300a-4fee-bfa2-6f186214ea64"
      },
      "source": [
        "cnn = Scratch2DCNNClassifier(epoch=epoch, lr=lr, batch_size=batch_size, conv_param=conv_params, n_nodes1=n_nodes1, n_nodes2=n_nodes2, n_output=n_output, verbose=True)\n",
        "cnn.fit(X_train[:2000], y_train[:2000])"
      ],
      "execution_count": 69,
      "outputs": [
        {
          "output_type": "stream",
          "name": "stdout",
          "text": [
            "Epoch 0\n",
            "Epoch 1\n",
            "Epoch 2\n",
            "Epoch 3\n",
            "Epoch 4\n",
            "Epoch 5\n",
            "Epoch 6\n",
            "Epoch 7\n",
            "Epoch 8\n",
            "Epoch 9\n"
          ]
        }
      ]
    },
    {
      "cell_type": "code",
      "source": [
        "y_pred = cnn.predict(X_test[:1000])\n",
        "score = accuracy_score(y_test[:1000], y_pred)\n",
        "print(\"Accuracy:\", score)"
      ],
      "metadata": {
        "colab": {
          "base_uri": "https://localhost:8080/"
        },
        "id": "f_N0BURXO8hR",
        "outputId": "a7acb157-2d03-40f9-dba6-c70b9139cc0c"
      },
      "execution_count": 70,
      "outputs": [
        {
          "output_type": "stream",
          "name": "stdout",
          "text": [
            "Accuracy: 0.873\n"
          ]
        }
      ]
    },
    {
      "cell_type": "code",
      "metadata": {
        "id": "mnl8Xs9Yb33i",
        "colab": {
          "base_uri": "https://localhost:8080/",
          "height": 287
        },
        "outputId": "9041b695-f3e0-48a2-fb42-1713e2473c26"
      },
      "source": [
        "import matplotlib.pyplot as plt\n",
        "%matplotlib inline\n",
        "\n",
        "plt.rcParams['font.size'] = 15\n",
        "fig = plt.figure(figsize=(10,4))\n",
        "\n",
        "ax1 = fig.add_subplot(1, 2, 1)   \n",
        "ax1.plot(cnn.loss_list)\n",
        "ax1.set_title('loss')\n",
        "ax1.set_xlabel('iterations')\n",
        "ax1.set_ylabel('loss')\n",
        "\n",
        "ax2 = fig.add_subplot(1, 2, 2)  \n",
        "ax2.plot(cnn.acc_list, color='red')\n",
        "ax2.set_title('Accuracy')\n",
        "ax2.set_xlabel('iterations')\n",
        "ax2.set_ylabel('Accuracy')\n",
        "\n",
        "plt.tight_layout()\n",
        "plt.show()"
      ],
      "execution_count": 71,
      "outputs": [
        {
          "output_type": "display_data",
          "data": {
            "image/png": "[encoded data removed]",
            "text/plain": [
              "<Figure size 720x288 with 2 Axes>"
            ]
          },
          "metadata": {
            "needs_background": "light"
          }
        }
      ]
    }
  ]
}