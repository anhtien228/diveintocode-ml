{
  "nbformat": 4,
  "nbformat_minor": 0,
  "metadata": {
    "colab": {
      "name": "keras.ipynb",
      "provenance": [],
      "collapsed_sections": []
    },
    "kernelspec": {
      "name": "python3",
      "display_name": "Python 3"
    },
    "language_info": {
      "name": "python"
    },
    "accelerator": "GPU"
  },
  "cells": [
    {
      "cell_type": "markdown",
      "metadata": {
        "id": "EQ9oEAn43Wnk"
      },
      "source": [
        "# **DIVE INTO CODE COURSE**\n",
        "## **Keras**\n",
        "**Student Name**: Doan Anh Tien<br>\n",
        "**Student ID**: 1852789<br>\n",
        "**Email**: tien.doan.g0pr0@hcmut.edu.vn"
      ]
    },
    {
      "cell_type": "markdown",
      "source": [
        "### **[Problem 1] Sharing and executing the official tutorial model**"
      ],
      "metadata": {
        "id": "aZ7S6jYZbh-_"
      }
    },
    {
      "cell_type": "code",
      "source": [
        "import numpy as np\n",
        "import pandas as pd\n",
        "from sklearn.model_selection import train_test_split\n",
        "import tensorflow as tf\n",
        "import matplotlib.pyplot as plt\n",
        "from sklearn.preprocessing import StandardScaler\n",
        "\n",
        "plt.style.use('ggplot')\n",
        "\n",
        "tf.test.gpu_device_name() \n",
        "# tf.disable_eager_execution()"
      ],
      "metadata": {
        "colab": {
          "base_uri": "https://localhost:8080/",
          "height": 35
        },
        "id": "HjX61o35eDp7",
        "outputId": "be39169a-1a76-4229-f793-3353aa36a4cf"
      },
      "execution_count": 69,
      "outputs": [
        {
          "output_type": "execute_result",
          "data": {
            "application/vnd.google.colaboratory.intrinsic+json": {
              "type": "string"
            },
            "text/plain": [
              "'/device:GPU:0'"
            ]
          },
          "metadata": {},
          "execution_count": 69
        }
      ]
    },
    {
      "cell_type": "markdown",
      "source": [
        "**Data preparation**"
      ],
      "metadata": {
        "id": "SUyM0nP-7UO8"
      }
    },
    {
      "cell_type": "code",
      "source": [
        "mnist = tf.keras.datasets.mnist\n",
        "\n",
        "(x_train, y_train), (x_test, y_test) = mnist.load_data()\n",
        "x_train, x_test = x_train / 255.0, x_test / 255.0"
      ],
      "metadata": {
        "colab": {
          "base_uri": "https://localhost:8080/"
        },
        "id": "eUHCb0er5gSL",
        "outputId": "85f50fc2-f74b-4292-fe6e-7f15e80e4cfa"
      },
      "execution_count": 2,
      "outputs": [
        {
          "output_type": "stream",
          "name": "stdout",
          "text": [
            "Downloading data from https://storage.googleapis.com/tensorflow/tf-keras-datasets/mnist.npz\n",
            "11493376/11490434 [==============================] - 0s 0us/step\n",
            "11501568/11490434 [==============================] - 0s 0us/step\n"
          ]
        }
      ]
    },
    {
      "cell_type": "markdown",
      "source": [
        "**Compile model structure**"
      ],
      "metadata": {
        "id": "LqIYWKnc7QSF"
      }
    },
    {
      "cell_type": "code",
      "source": [
        "model = tf.keras.Sequential([tf.keras.layers.Flatten(input_shape=(28, 28)),\n",
        "                             tf.keras.layers.Dense(128, activation=tf.nn.relu),\n",
        "                             tf.keras.layers.Dropout(0.2),\n",
        "                             tf.keras.layers.Dense(10)])"
      ],
      "metadata": {
        "id": "UOwYjk2Z5hR1"
      },
      "execution_count": 3,
      "outputs": []
    },
    {
      "cell_type": "code",
      "source": [
        "predictions = model(x_train[:1]).numpy()\n",
        "predictions"
      ],
      "metadata": {
        "colab": {
          "base_uri": "https://localhost:8080/"
        },
        "id": "iE9mVVun6ddv",
        "outputId": "9c829526-0123-4bef-dab8-95518ace107d"
      },
      "execution_count": 4,
      "outputs": [
        {
          "output_type": "execute_result",
          "data": {
            "text/plain": [
              "array([[-1.82345510e-04,  1.92981496e-01, -2.70389527e-01,\n",
              "         2.96433926e-01,  5.79264045e-01, -7.56554008e-02,\n",
              "        -5.09706438e-01, -2.71370709e-01, -1.08250506e-01,\n",
              "         2.28643358e-01]], dtype=float32)"
            ]
          },
          "metadata": {},
          "execution_count": 4
        }
      ]
    },
    {
      "cell_type": "code",
      "source": [
        "tf.nn.softmax(predictions).numpy()"
      ],
      "metadata": {
        "colab": {
          "base_uri": "https://localhost:8080/"
        },
        "id": "IrBHLljc6z0y",
        "outputId": "51638e14-21a6-4b0d-a6d6-bcb6399b3bd7"
      },
      "execution_count": 5,
      "outputs": [
        {
          "output_type": "execute_result",
          "data": {
            "text/plain": [
              "array([[0.09476967, 0.11496333, 0.07233023, 0.12749353, 0.16916859,\n",
              "        0.08788035, 0.05693586, 0.07225929, 0.08506208, 0.11913712]],\n",
              "      dtype=float32)"
            ]
          },
          "metadata": {},
          "execution_count": 5
        }
      ]
    },
    {
      "cell_type": "code",
      "source": [
        "loss_fn = tf.keras.losses.SparseCategoricalCrossentropy(from_logits=True)"
      ],
      "metadata": {
        "id": "xIPZ7uZs64P9"
      },
      "execution_count": 6,
      "outputs": []
    },
    {
      "cell_type": "code",
      "source": [
        "loss_fn(y_train[:1], predictions).numpy()"
      ],
      "metadata": {
        "colab": {
          "base_uri": "https://localhost:8080/"
        },
        "id": "zjz1Jwfe65ln",
        "outputId": "c80d3ba8-5036-4a96-fe1b-77d471d9689b"
      },
      "execution_count": 7,
      "outputs": [
        {
          "output_type": "execute_result",
          "data": {
            "text/plain": [
              "2.431779"
            ]
          },
          "metadata": {},
          "execution_count": 7
        }
      ]
    },
    {
      "cell_type": "markdown",
      "source": [
        "**Optimizer and loss function**"
      ],
      "metadata": {
        "id": "d9D1-hM77J5o"
      }
    },
    {
      "cell_type": "code",
      "source": [
        "model.compile(loss=loss_fn,\n",
        "              optimizer='adam',\n",
        "              metrics=['accuracy'])"
      ],
      "metadata": {
        "id": "--3dVaSn68Mv"
      },
      "execution_count": 8,
      "outputs": []
    },
    {
      "cell_type": "markdown",
      "source": [
        "**Train Model**"
      ],
      "metadata": {
        "id": "yVYGjQm47Geb"
      }
    },
    {
      "cell_type": "code",
      "source": [
        "model.fit(x_train, y_train, epochs=5)"
      ],
      "metadata": {
        "colab": {
          "base_uri": "https://localhost:8080/"
        },
        "id": "Vd0Otg4M7Emc",
        "outputId": "345e805d-e0a8-4949-acd9-e36f1d2e39fd"
      },
      "execution_count": 9,
      "outputs": [
        {
          "output_type": "stream",
          "name": "stdout",
          "text": [
            "Epoch 1/5\n",
            "1875/1875 [==============================] - 4s 2ms/step - loss: 0.2961 - accuracy: 0.9138\n",
            "Epoch 2/5\n",
            "1875/1875 [==============================] - 4s 2ms/step - loss: 0.1431 - accuracy: 0.9568\n",
            "Epoch 3/5\n",
            "1875/1875 [==============================] - 4s 2ms/step - loss: 0.1085 - accuracy: 0.9671\n",
            "Epoch 4/5\n",
            "1875/1875 [==============================] - 4s 2ms/step - loss: 0.0900 - accuracy: 0.9726\n",
            "Epoch 5/5\n",
            "1875/1875 [==============================] - 4s 2ms/step - loss: 0.0742 - accuracy: 0.9767\n"
          ]
        },
        {
          "output_type": "execute_result",
          "data": {
            "text/plain": [
              "<keras.callbacks.History at 0x7f78fe7eaa90>"
            ]
          },
          "metadata": {},
          "execution_count": 9
        }
      ]
    },
    {
      "cell_type": "code",
      "source": [
        "model.evaluate(x_test,  y_test, verbose=2)"
      ],
      "metadata": {
        "colab": {
          "base_uri": "https://localhost:8080/"
        },
        "id": "nqcr_MrW76F9",
        "outputId": "67899a25-1dbc-475d-bb4e-89cf4208335f"
      },
      "execution_count": 10,
      "outputs": [
        {
          "output_type": "stream",
          "name": "stdout",
          "text": [
            "313/313 - 1s - loss: 0.0740 - accuracy: 0.9774 - 568ms/epoch - 2ms/step\n"
          ]
        },
        {
          "output_type": "execute_result",
          "data": {
            "text/plain": [
              "[0.07402639836072922, 0.977400004863739]"
            ]
          },
          "metadata": {},
          "execution_count": 10
        }
      ]
    },
    {
      "cell_type": "code",
      "source": [
        "probability_model = tf.keras.Sequential([\n",
        "  model,\n",
        "  tf.keras.layers.Softmax()\n",
        "])"
      ],
      "metadata": {
        "id": "J85CoNhZ8J_v"
      },
      "execution_count": 11,
      "outputs": []
    },
    {
      "cell_type": "code",
      "source": [
        "probability_model(x_test[:5])"
      ],
      "metadata": {
        "colab": {
          "base_uri": "https://localhost:8080/"
        },
        "id": "6AsIviRt8LX6",
        "outputId": "05c6002d-924b-427e-bfca-7789731a85a7"
      },
      "execution_count": 12,
      "outputs": [
        {
          "output_type": "execute_result",
          "data": {
            "text/plain": [
              "<tf.Tensor: shape=(5, 10), dtype=float32, numpy=\n",
              "array([[1.08468136e-07, 2.02269623e-09, 1.05289355e-05, 1.58691269e-04,\n",
              "        1.05823371e-11, 1.61799335e-07, 3.32069238e-14, 9.99828815e-01,\n",
              "        8.47054693e-08, 1.59523836e-06],\n",
              "       [2.15523841e-07, 4.86744742e-04, 9.99426723e-01, 8.57062187e-05,\n",
              "        1.09227873e-13, 1.97880695e-07, 3.13221591e-07, 7.33569293e-13,\n",
              "        2.27216688e-07, 1.85429192e-15],\n",
              "       [1.37618642e-07, 9.99378443e-01, 9.55879732e-05, 2.81305911e-05,\n",
              "        1.59111041e-05, 1.40556485e-05, 6.94475193e-06, 3.18460137e-04,\n",
              "        1.42019708e-04, 3.46622159e-07],\n",
              "       [9.99804318e-01, 1.95808134e-08, 9.20489329e-05, 1.11028703e-06,\n",
              "        1.99065312e-06, 5.83522433e-06, 6.79583245e-05, 1.38274356e-06,\n",
              "        6.66074342e-08, 2.52796126e-05],\n",
              "       [1.05277456e-06, 8.24767421e-10, 1.00864827e-06, 2.21095263e-07,\n",
              "        9.88636792e-01, 9.06414996e-08, 7.17917601e-07, 2.45944352e-06,\n",
              "        6.94901189e-07, 1.13569368e-02]], dtype=float32)>"
            ]
          },
          "metadata": {},
          "execution_count": 12
        }
      ]
    },
    {
      "cell_type": "markdown",
      "source": [
        "### **[Problem 3] Learning Iris (binary classification) with Keras**"
      ],
      "metadata": {
        "id": "oqoiSosyeEJz"
      }
    },
    {
      "cell_type": "code",
      "source": [
        "df = pd.read_csv(\"sample_data/Iris.csv\")\n",
        "#Condition extraction from data frame\n",
        "df = df[(df[\"Species\"] == \"Iris-versicolor\") | (df[\"Species\"] == \"Iris-virginica\")]\n",
        "y = df[\"Species\"]\n",
        "X = df.loc[:, [\"SepalLengthCm\", \"SepalWidthCm\", \"PetalLengthCm\", \"PetalWidthCm\"]]\n",
        "# NumPy\n",
        "X = np.array(X)\n",
        "y = np.array(y)\n",
        "# Convert label to number\n",
        "y[y == \"Iris-versicolor\"] = 0\n",
        "y[y == \"Iris-virginica\"] = 1\n",
        "y = y.astype(np.int64)[:, np.newaxis]\n",
        "# Split into train and test\n",
        "X_train, X_test, y_train, y_test = train_test_split(X, y, test_size=0.2, random_state=0)\n",
        "# Split into train and val\n",
        "X_train, X_val, y_train, y_val = train_test_split(X_train, y_train, test_size=0.2, random_state=0)"
      ],
      "metadata": {
        "id": "dxJDlRDq8WZb"
      },
      "execution_count": 70,
      "outputs": []
    },
    {
      "cell_type": "code",
      "source": [
        "scaler = StandardScaler()\n",
        "scaler.fit(X_train)\n",
        "X_train = scaler.transform(X_train)\n",
        "X_test = scaler.transform(X_test)\n",
        "X_val = scaler.transform(X_val)"
      ],
      "metadata": {
        "id": "DecFBDXKFI70"
      },
      "execution_count": 71,
      "outputs": []
    },
    {
      "cell_type": "code",
      "source": [
        "# Hyperparameters\n",
        "learning_rate = 0.01\n",
        "batch_size = 20\n",
        "num_epochs = 20\n",
        "n_hidden1 = 50\n",
        "n_hidden2 = 100\n",
        "n_input = X_train.shape[1]\n",
        "n_samples = X_train.shape[0]\n",
        "n_classes = 1"
      ],
      "metadata": {
        "id": "qN0KPZQLFN15"
      },
      "execution_count": 72,
      "outputs": []
    },
    {
      "cell_type": "markdown",
      "source": [
        "**Model structure**"
      ],
      "metadata": {
        "id": "q-KmyUKq-Utw"
      }
    },
    {
      "cell_type": "code",
      "source": [
        "model = tf.keras.Sequential()\n",
        "model.add(tf.keras.layers.Dense(n_hidden1, activation='relu', input_shape=(4,)))\n",
        "model.add(tf.keras.layers.Dense(n_hidden2, activation='relu'))\n",
        "model.add(tf.keras.layers.Dense(n_classes, activation='sigmoid'))"
      ],
      "metadata": {
        "id": "-jNKC1L69q_B"
      },
      "execution_count": 73,
      "outputs": []
    },
    {
      "cell_type": "code",
      "source": [
        "model.summary()"
      ],
      "metadata": {
        "colab": {
          "base_uri": "https://localhost:8080/"
        },
        "id": "DblegAy6Atiu",
        "outputId": "4b0c7093-44ab-433d-db37-19ad7b2573ef"
      },
      "execution_count": 74,
      "outputs": [
        {
          "output_type": "stream",
          "name": "stdout",
          "text": [
            "Model: \"sequential_14\"\n",
            "_________________________________________________________________\n",
            " Layer (type)                Output Shape              Param #   \n",
            "=================================================================\n",
            " dense_31 (Dense)            (None, 50)                250       \n",
            "                                                                 \n",
            " dense_32 (Dense)            (None, 100)               5100      \n",
            "                                                                 \n",
            " dense_33 (Dense)            (None, 1)                 101       \n",
            "                                                                 \n",
            "=================================================================\n",
            "Total params: 5,451\n",
            "Trainable params: 5,451\n",
            "Non-trainable params: 0\n",
            "_________________________________________________________________\n"
          ]
        }
      ]
    },
    {
      "cell_type": "code",
      "source": [
        "model.compile(loss='binary_crossentropy',\n",
        "              optimizer=tf.optimizers.Adam(learning_rate=0.01),\n",
        "              metrics=['accuracy'])"
      ],
      "metadata": {
        "id": "jfGj40H9_r1B"
      },
      "execution_count": 75,
      "outputs": []
    },
    {
      "cell_type": "code",
      "source": [
        "history = model.fit(X_train, y_train,\n",
        "                    batch_size=batch_size,\n",
        "                    epochs=num_epochs,\n",
        "                    validation_data=(X_val, y_val),\n",
        "                    verbose=2)"
      ],
      "metadata": {
        "colab": {
          "base_uri": "https://localhost:8080/"
        },
        "id": "2gSVvsUEABAY",
        "outputId": "5aba36ea-a8fe-4c0c-97c4-643846f1366d"
      },
      "execution_count": 77,
      "outputs": [
        {
          "output_type": "stream",
          "name": "stdout",
          "text": [
            "Epoch 1/20\n",
            "4/4 - 0s - loss: 9.2866e-04 - accuracy: 1.0000 - val_loss: 0.0042 - val_accuracy: 1.0000 - 127ms/epoch - 32ms/step\n",
            "Epoch 2/20\n",
            "4/4 - 0s - loss: 8.2494e-04 - accuracy: 1.0000 - val_loss: 0.0063 - val_accuracy: 1.0000 - 27ms/epoch - 7ms/step\n",
            "Epoch 3/20\n",
            "4/4 - 0s - loss: 8.3595e-04 - accuracy: 1.0000 - val_loss: 0.0079 - val_accuracy: 1.0000 - 27ms/epoch - 7ms/step\n",
            "Epoch 4/20\n",
            "4/4 - 0s - loss: 7.8134e-04 - accuracy: 1.0000 - val_loss: 0.0085 - val_accuracy: 1.0000 - 30ms/epoch - 8ms/step\n",
            "Epoch 5/20\n",
            "4/4 - 0s - loss: 7.0853e-04 - accuracy: 1.0000 - val_loss: 0.0080 - val_accuracy: 1.0000 - 27ms/epoch - 7ms/step\n",
            "Epoch 6/20\n",
            "4/4 - 0s - loss: 6.1638e-04 - accuracy: 1.0000 - val_loss: 0.0070 - val_accuracy: 1.0000 - 24ms/epoch - 6ms/step\n",
            "Epoch 7/20\n",
            "4/4 - 0s - loss: 5.6191e-04 - accuracy: 1.0000 - val_loss: 0.0060 - val_accuracy: 1.0000 - 23ms/epoch - 6ms/step\n",
            "Epoch 8/20\n",
            "4/4 - 0s - loss: 5.0693e-04 - accuracy: 1.0000 - val_loss: 0.0057 - val_accuracy: 1.0000 - 27ms/epoch - 7ms/step\n",
            "Epoch 9/20\n",
            "4/4 - 0s - loss: 4.7161e-04 - accuracy: 1.0000 - val_loss: 0.0054 - val_accuracy: 1.0000 - 26ms/epoch - 7ms/step\n",
            "Epoch 10/20\n",
            "4/4 - 0s - loss: 4.4456e-04 - accuracy: 1.0000 - val_loss: 0.0057 - val_accuracy: 1.0000 - 26ms/epoch - 7ms/step\n",
            "Epoch 11/20\n",
            "4/4 - 0s - loss: 4.2958e-04 - accuracy: 1.0000 - val_loss: 0.0056 - val_accuracy: 1.0000 - 26ms/epoch - 7ms/step\n",
            "Epoch 12/20\n",
            "4/4 - 0s - loss: 4.0841e-04 - accuracy: 1.0000 - val_loss: 0.0055 - val_accuracy: 1.0000 - 24ms/epoch - 6ms/step\n",
            "Epoch 13/20\n",
            "4/4 - 0s - loss: 3.9118e-04 - accuracy: 1.0000 - val_loss: 0.0052 - val_accuracy: 1.0000 - 30ms/epoch - 7ms/step\n",
            "Epoch 14/20\n",
            "4/4 - 0s - loss: 3.7416e-04 - accuracy: 1.0000 - val_loss: 0.0053 - val_accuracy: 1.0000 - 25ms/epoch - 6ms/step\n",
            "Epoch 15/20\n",
            "4/4 - 0s - loss: 3.5400e-04 - accuracy: 1.0000 - val_loss: 0.0051 - val_accuracy: 1.0000 - 25ms/epoch - 6ms/step\n",
            "Epoch 16/20\n",
            "4/4 - 0s - loss: 3.3624e-04 - accuracy: 1.0000 - val_loss: 0.0048 - val_accuracy: 1.0000 - 28ms/epoch - 7ms/step\n",
            "Epoch 17/20\n",
            "4/4 - 0s - loss: 3.1016e-04 - accuracy: 1.0000 - val_loss: 0.0038 - val_accuracy: 1.0000 - 28ms/epoch - 7ms/step\n",
            "Epoch 18/20\n",
            "4/4 - 0s - loss: 2.9475e-04 - accuracy: 1.0000 - val_loss: 0.0032 - val_accuracy: 1.0000 - 27ms/epoch - 7ms/step\n",
            "Epoch 19/20\n",
            "4/4 - 0s - loss: 2.8657e-04 - accuracy: 1.0000 - val_loss: 0.0028 - val_accuracy: 1.0000 - 26ms/epoch - 6ms/step\n",
            "Epoch 20/20\n",
            "4/4 - 0s - loss: 2.7597e-04 - accuracy: 1.0000 - val_loss: 0.0026 - val_accuracy: 1.0000 - 27ms/epoch - 7ms/step\n"
          ]
        }
      ]
    },
    {
      "cell_type": "code",
      "source": [
        "score = model.evaluate(X_train, y_train, verbose=0)\n",
        "print('Train loss:', score[0])\n",
        "print('Train accuracy:', score[1])"
      ],
      "metadata": {
        "colab": {
          "base_uri": "https://localhost:8080/"
        },
        "id": "D3aL9gyTDnnm",
        "outputId": "e9054562-0fe0-4622-a722-78118a94d26a"
      },
      "execution_count": 78,
      "outputs": [
        {
          "output_type": "stream",
          "name": "stdout",
          "text": [
            "Train loss: 0.0002676515723578632\n",
            "Train accuracy: 1.0\n"
          ]
        }
      ]
    },
    {
      "cell_type": "markdown",
      "source": [
        "### **[Problem 4] Learn Iris (multi-level classification) with Keras**"
      ],
      "metadata": {
        "id": "908TLT0QEJ0X"
      }
    },
    {
      "cell_type": "code",
      "source": [
        "from keras.utils import np_utils\n",
        "\n",
        "df = pd.read_csv(\"sample_data/Iris.csv\")\n",
        "#Condition extraction from data frame\n",
        "y = df[\"Species\"]\n",
        "X = df.loc[:, [\"SepalLengthCm\", \"SepalWidthCm\", \"PetalLengthCm\", \"PetalWidthCm\"]]\n",
        "y = np.array(y)\n",
        "X = np.array(X).astype(np.float32)\n",
        "# Convert label to number\n",
        "y[y == \"Iris-setosa\"] = 0\n",
        "y[y == \"Iris-versicolor\"] = 1\n",
        "y[y == \"Iris-virginica\"] = 2\n",
        "# One Hot encoder\n",
        "y = np_utils.to_categorical(y)\n",
        "# Split into train and test\n",
        "X_train, X_test, y_train, y_test = train_test_split(X, y, test_size=0.2, random_state=0)\n",
        "# Split into train and val\n",
        "X_train, X_val, y_train, y_val = train_test_split(X_train, y_train, test_size=0.2, random_state=0)"
      ],
      "metadata": {
        "id": "Q7mUJb0ZEJSL"
      },
      "execution_count": 80,
      "outputs": []
    },
    {
      "cell_type": "code",
      "source": [
        "# Standardizing\n",
        "scaler = StandardScaler()\n",
        "scaler.fit(X_train)\n",
        "X_train = scaler.transform(X_train)\n",
        "X_test = scaler.transform(X_test)\n",
        "X_val = scaler.transform(X_val)"
      ],
      "metadata": {
        "id": "TsacqbB_EUiL"
      },
      "execution_count": 81,
      "outputs": []
    },
    {
      "cell_type": "code",
      "source": [
        "# Hyperparameters\n",
        "learning_rate = 0.01\n",
        "batch_size = 20\n",
        "num_epochs = 20\n",
        "n_hidden1 = 50\n",
        "n_hidden2 = 100\n",
        "n_input = X_train.shape[1]\n",
        "n_samples = X_train.shape[0]\n",
        "n_classes = 3"
      ],
      "metadata": {
        "id": "zAL5TiyWFyRe"
      },
      "execution_count": 83,
      "outputs": []
    },
    {
      "cell_type": "markdown",
      "source": [
        "**Model structure**"
      ],
      "metadata": {
        "id": "GQ-_CRumEelU"
      }
    },
    {
      "cell_type": "code",
      "source": [
        "model = tf.keras.Sequential()\n",
        "model.add(tf.keras.Input(n_input))\n",
        "model.add(tf.keras.layers.Dense(n_hidden1, activation='relu'))\n",
        "model.add(tf.keras.layers.Dense(n_hidden2, activation='relu'))\n",
        "model.add(tf.keras.layers.Dense(n_classes, activation='sigmoid'))"
      ],
      "metadata": {
        "id": "CYyScKjVEelU"
      },
      "execution_count": 86,
      "outputs": []
    },
    {
      "cell_type": "code",
      "source": [
        "model.summary()"
      ],
      "metadata": {
        "colab": {
          "base_uri": "https://localhost:8080/"
        },
        "outputId": "e393473d-21ee-4298-928e-220d28f33542",
        "id": "kr04YroTEelU"
      },
      "execution_count": 87,
      "outputs": [
        {
          "output_type": "stream",
          "name": "stdout",
          "text": [
            "Model: \"sequential_15\"\n",
            "_________________________________________________________________\n",
            " Layer (type)                Output Shape              Param #   \n",
            "=================================================================\n",
            " dense_34 (Dense)            (None, 50)                250       \n",
            "                                                                 \n",
            " dense_35 (Dense)            (None, 100)               5100      \n",
            "                                                                 \n",
            " dense_36 (Dense)            (None, 3)                 303       \n",
            "                                                                 \n",
            "=================================================================\n",
            "Total params: 5,653\n",
            "Trainable params: 5,653\n",
            "Non-trainable params: 0\n",
            "_________________________________________________________________\n"
          ]
        }
      ]
    },
    {
      "cell_type": "code",
      "source": [
        "model.compile(loss='categorical_crossentropy',\n",
        "              optimizer=tf.optimizers.Adam(learning_rate=0.01),\n",
        "              metrics=['accuracy'])"
      ],
      "metadata": {
        "id": "2ePkkoqXEelV"
      },
      "execution_count": 88,
      "outputs": []
    },
    {
      "cell_type": "code",
      "source": [
        "history = model.fit(X_train, y_train,\n",
        "                    batch_size=batch_size,\n",
        "                    epochs=num_epochs,\n",
        "                    validation_data=(X_val, y_val),\n",
        "                    verbose=2)"
      ],
      "metadata": {
        "colab": {
          "base_uri": "https://localhost:8080/"
        },
        "outputId": "894e448b-aaae-474e-843f-98bde8c27adb",
        "id": "GFYDoIYDEelV"
      },
      "execution_count": 89,
      "outputs": [
        {
          "output_type": "stream",
          "name": "stdout",
          "text": [
            "Epoch 1/20\n",
            "5/5 - 0s - loss: 0.7230 - accuracy: 0.7292 - val_loss: 0.4560 - val_accuracy: 0.7917 - 450ms/epoch - 90ms/step\n",
            "Epoch 2/20\n",
            "5/5 - 0s - loss: 0.3374 - accuracy: 0.8854 - val_loss: 0.3483 - val_accuracy: 0.7917 - 27ms/epoch - 5ms/step\n",
            "Epoch 3/20\n",
            "5/5 - 0s - loss: 0.2021 - accuracy: 0.9479 - val_loss: 0.3225 - val_accuracy: 0.7917 - 27ms/epoch - 5ms/step\n",
            "Epoch 4/20\n",
            "5/5 - 0s - loss: 0.1417 - accuracy: 0.9479 - val_loss: 0.3402 - val_accuracy: 0.7917 - 31ms/epoch - 6ms/step\n",
            "Epoch 5/20\n",
            "5/5 - 0s - loss: 0.0927 - accuracy: 0.9583 - val_loss: 0.3874 - val_accuracy: 0.7917 - 30ms/epoch - 6ms/step\n",
            "Epoch 6/20\n",
            "5/5 - 0s - loss: 0.0769 - accuracy: 0.9792 - val_loss: 0.3509 - val_accuracy: 0.8750 - 28ms/epoch - 6ms/step\n",
            "Epoch 7/20\n",
            "5/5 - 0s - loss: 0.0894 - accuracy: 0.9583 - val_loss: 0.3761 - val_accuracy: 0.8750 - 29ms/epoch - 6ms/step\n",
            "Epoch 8/20\n",
            "5/5 - 0s - loss: 0.0735 - accuracy: 0.9583 - val_loss: 0.4608 - val_accuracy: 0.8750 - 29ms/epoch - 6ms/step\n",
            "Epoch 9/20\n",
            "5/5 - 0s - loss: 0.0624 - accuracy: 0.9792 - val_loss: 0.2207 - val_accuracy: 0.9167 - 33ms/epoch - 7ms/step\n",
            "Epoch 10/20\n",
            "5/5 - 0s - loss: 0.0558 - accuracy: 0.9688 - val_loss: 0.3301 - val_accuracy: 0.9167 - 27ms/epoch - 5ms/step\n",
            "Epoch 11/20\n",
            "5/5 - 0s - loss: 0.0451 - accuracy: 0.9688 - val_loss: 0.2966 - val_accuracy: 0.9167 - 29ms/epoch - 6ms/step\n",
            "Epoch 12/20\n",
            "5/5 - 0s - loss: 0.0608 - accuracy: 0.9688 - val_loss: 0.3233 - val_accuracy: 0.9167 - 30ms/epoch - 6ms/step\n",
            "Epoch 13/20\n",
            "5/5 - 0s - loss: 0.0776 - accuracy: 0.9792 - val_loss: 0.1646 - val_accuracy: 0.9167 - 31ms/epoch - 6ms/step\n",
            "Epoch 14/20\n",
            "5/5 - 0s - loss: 0.0665 - accuracy: 0.9688 - val_loss: 0.3975 - val_accuracy: 0.9167 - 30ms/epoch - 6ms/step\n",
            "Epoch 15/20\n",
            "5/5 - 0s - loss: 0.0405 - accuracy: 0.9792 - val_loss: 0.2009 - val_accuracy: 0.9167 - 29ms/epoch - 6ms/step\n",
            "Epoch 16/20\n",
            "5/5 - 0s - loss: 0.0432 - accuracy: 0.9896 - val_loss: 0.2899 - val_accuracy: 0.9167 - 30ms/epoch - 6ms/step\n",
            "Epoch 17/20\n",
            "5/5 - 0s - loss: 0.0275 - accuracy: 0.9896 - val_loss: 0.2812 - val_accuracy: 0.9167 - 29ms/epoch - 6ms/step\n",
            "Epoch 18/20\n",
            "5/5 - 0s - loss: 0.0259 - accuracy: 1.0000 - val_loss: 0.2476 - val_accuracy: 0.9167 - 33ms/epoch - 7ms/step\n",
            "Epoch 19/20\n",
            "5/5 - 0s - loss: 0.0231 - accuracy: 1.0000 - val_loss: 0.3267 - val_accuracy: 0.9167 - 40ms/epoch - 8ms/step\n",
            "Epoch 20/20\n",
            "5/5 - 0s - loss: 0.0251 - accuracy: 0.9896 - val_loss: 0.2692 - val_accuracy: 0.9167 - 31ms/epoch - 6ms/step\n"
          ]
        }
      ]
    },
    {
      "cell_type": "code",
      "source": [
        "train_score = model.evaluate(X_train, y_train, verbose=0)\n",
        "test_score = model.evaluate(X_test, y_test, verbose = 0)\n",
        "print('Train loss:', train_score[0])\n",
        "print('Train accuracy:', train_score[1])\n",
        "print('Test loss:', test_score[0])\n",
        "print('Test accuracy:', test_score[1])"
      ],
      "metadata": {
        "colab": {
          "base_uri": "https://localhost:8080/"
        },
        "outputId": "806af85f-ed06-40ae-af71-50cb520b43a0",
        "id": "F_KkfvKQEelV"
      },
      "execution_count": 90,
      "outputs": [
        {
          "output_type": "stream",
          "name": "stdout",
          "text": [
            "Train loss: 0.018914325162768364\n",
            "Train accuracy: 1.0\n",
            "Test loss: 0.01077828649431467\n",
            "Test accuracy: 1.0\n"
          ]
        }
      ]
    },
    {
      "cell_type": "markdown",
      "source": [
        "### **[Problem 5] Learning House Prices with Keras**"
      ],
      "metadata": {
        "id": "zMHm1IKjGbuc"
      }
    },
    {
      "cell_type": "code",
      "source": [
        "df = pd.read_csv(\"sample_data/train.csv\")\n",
        "#Condition extraction from data frame\n",
        "y = df[\"SalePrice\"]\n",
        "X = df.loc[:, [\"GrLivArea\", \"YearBuilt\"]]\n",
        "y = np.log(np.array(y).reshape(-1, 1))\n",
        "X = np.array(X).astype(np.float32)\n",
        "# Split into train and test\n",
        "X_train, X_test, y_train, y_test = train_test_split(X, y, test_size=0.2, random_state=0)\n",
        "# Split into train and test\n",
        "X_train, X_val, y_train, y_val = train_test_split(X_train, y_train, test_size=0.2, random_state=0)"
      ],
      "metadata": {
        "id": "gouVHoQFGXz2"
      },
      "execution_count": 105,
      "outputs": []
    },
    {
      "cell_type": "code",
      "source": [
        "# Hyperparameters\n",
        "learning_rate = 0.01\n",
        "batch_size = 20\n",
        "num_epochs = 20\n",
        "n_hidden1 = 50\n",
        "n_hidden2 = 100\n",
        "n_input = X_train.shape[1]\n",
        "n_samples = X_train.shape[0]\n",
        "n_class = 1"
      ],
      "metadata": {
        "id": "jv3CW9w5GslQ"
      },
      "execution_count": 108,
      "outputs": []
    },
    {
      "cell_type": "code",
      "source": [
        "model = tf.keras.Sequential()\n",
        "model.add(tf.keras.Input(n_input))\n",
        "model.add(tf.keras.layers.Dense(n_hidden1, activation='relu'))\n",
        "model.add(tf.keras.layers.Dense(n_hidden2, activation='relu'))\n",
        "model.add(tf.keras.layers.Dense(n_classes, activation='linear'))"
      ],
      "metadata": {
        "id": "Eyf0MYNKG8G9"
      },
      "execution_count": 109,
      "outputs": []
    },
    {
      "cell_type": "code",
      "source": [
        "model.summary()"
      ],
      "metadata": {
        "colab": {
          "base_uri": "https://localhost:8080/"
        },
        "outputId": "c62f72ac-9c99-4490-c45d-b20ad2993994",
        "id": "Lscfs4vzG8G-"
      },
      "execution_count": 110,
      "outputs": [
        {
          "output_type": "stream",
          "name": "stdout",
          "text": [
            "Model: \"sequential_18\"\n",
            "_________________________________________________________________\n",
            " Layer (type)                Output Shape              Param #   \n",
            "=================================================================\n",
            " dense_43 (Dense)            (None, 50)                150       \n",
            "                                                                 \n",
            " dense_44 (Dense)            (None, 100)               5100      \n",
            "                                                                 \n",
            " dense_45 (Dense)            (None, 3)                 303       \n",
            "                                                                 \n",
            "=================================================================\n",
            "Total params: 5,553\n",
            "Trainable params: 5,553\n",
            "Non-trainable params: 0\n",
            "_________________________________________________________________\n"
          ]
        }
      ]
    },
    {
      "cell_type": "code",
      "source": [
        "model.compile(loss='mean_squared_error',\n",
        "              optimizer=tf.optimizers.Adagrad(learning_rate=0.005),\n",
        "              metrics=['mse'])"
      ],
      "metadata": {
        "id": "YANUinfEG8G-"
      },
      "execution_count": 111,
      "outputs": []
    },
    {
      "cell_type": "code",
      "source": [
        "history = model.fit(X_train, y_train,\n",
        "                    batch_size=batch_size,\n",
        "                    epochs=num_epochs,\n",
        "                    validation_data=(X_val, y_val),\n",
        "                    verbose=2)"
      ],
      "metadata": {
        "colab": {
          "base_uri": "https://localhost:8080/"
        },
        "outputId": "859c2cfa-e900-4fa8-f254-f490872923fd",
        "id": "ViA4lvyHG8G-"
      },
      "execution_count": 112,
      "outputs": [
        {
          "output_type": "stream",
          "name": "stdout",
          "text": [
            "Epoch 1/20\n",
            "47/47 - 1s - loss: 3832.9397 - mse: 3832.9395 - val_loss: 13.0639 - val_mse: 13.0639 - 570ms/epoch - 12ms/step\n",
            "Epoch 2/20\n",
            "47/47 - 0s - loss: 13.6206 - mse: 13.6206 - val_loss: 6.6171 - val_mse: 6.6171 - 125ms/epoch - 3ms/step\n",
            "Epoch 3/20\n",
            "47/47 - 0s - loss: 5.7614 - mse: 5.7614 - val_loss: 7.6041 - val_mse: 7.6041 - 133ms/epoch - 3ms/step\n",
            "Epoch 4/20\n",
            "47/47 - 0s - loss: 8.2469 - mse: 8.2469 - val_loss: 3.5661 - val_mse: 3.5661 - 138ms/epoch - 3ms/step\n",
            "Epoch 5/20\n",
            "47/47 - 0s - loss: 2.3150 - mse: 2.3150 - val_loss: 1.5452 - val_mse: 1.5452 - 128ms/epoch - 3ms/step\n",
            "Epoch 6/20\n",
            "47/47 - 0s - loss: 1.4725 - mse: 1.4725 - val_loss: 1.2139 - val_mse: 1.2139 - 125ms/epoch - 3ms/step\n",
            "Epoch 7/20\n",
            "47/47 - 0s - loss: 1.2936 - mse: 1.2936 - val_loss: 1.1363 - val_mse: 1.1363 - 124ms/epoch - 3ms/step\n",
            "Epoch 8/20\n",
            "47/47 - 0s - loss: 1.2075 - mse: 1.2075 - val_loss: 1.2801 - val_mse: 1.2801 - 127ms/epoch - 3ms/step\n",
            "Epoch 9/20\n",
            "47/47 - 0s - loss: 1.5023 - mse: 1.5023 - val_loss: 1.5277 - val_mse: 1.5277 - 128ms/epoch - 3ms/step\n",
            "Epoch 10/20\n",
            "47/47 - 0s - loss: 1.0200 - mse: 1.0200 - val_loss: 0.9448 - val_mse: 0.9448 - 124ms/epoch - 3ms/step\n",
            "Epoch 11/20\n",
            "47/47 - 0s - loss: 0.7078 - mse: 0.7078 - val_loss: 0.9375 - val_mse: 0.9375 - 121ms/epoch - 3ms/step\n",
            "Epoch 12/20\n",
            "47/47 - 0s - loss: 0.6232 - mse: 0.6232 - val_loss: 0.7955 - val_mse: 0.7955 - 140ms/epoch - 3ms/step\n",
            "Epoch 13/20\n",
            "47/47 - 0s - loss: 0.7834 - mse: 0.7834 - val_loss: 1.3361 - val_mse: 1.3361 - 122ms/epoch - 3ms/step\n",
            "Epoch 14/20\n",
            "47/47 - 0s - loss: 0.7164 - mse: 0.7164 - val_loss: 0.9551 - val_mse: 0.9551 - 130ms/epoch - 3ms/step\n",
            "Epoch 15/20\n",
            "47/47 - 0s - loss: 0.4888 - mse: 0.4888 - val_loss: 0.7556 - val_mse: 0.7556 - 130ms/epoch - 3ms/step\n",
            "Epoch 16/20\n",
            "47/47 - 0s - loss: 0.6690 - mse: 0.6690 - val_loss: 0.6420 - val_mse: 0.6420 - 120ms/epoch - 3ms/step\n",
            "Epoch 17/20\n",
            "47/47 - 0s - loss: 0.5312 - mse: 0.5312 - val_loss: 0.7129 - val_mse: 0.7129 - 135ms/epoch - 3ms/step\n",
            "Epoch 18/20\n",
            "47/47 - 0s - loss: 0.4613 - mse: 0.4613 - val_loss: 0.6965 - val_mse: 0.6965 - 120ms/epoch - 3ms/step\n",
            "Epoch 19/20\n",
            "47/47 - 0s - loss: 0.4498 - mse: 0.4498 - val_loss: 0.9417 - val_mse: 0.9417 - 129ms/epoch - 3ms/step\n",
            "Epoch 20/20\n",
            "47/47 - 0s - loss: 0.4592 - mse: 0.4592 - val_loss: 0.9017 - val_mse: 0.9017 - 130ms/epoch - 3ms/step\n"
          ]
        }
      ]
    },
    {
      "cell_type": "code",
      "source": [
        "train_score = model.evaluate(X_train, y_train, verbose=0)\n",
        "test_score = model.evaluate(X_test, y_test, verbose = 0)\n",
        "print('Train loss:', train_score[0])\n",
        "print('Train mse:', train_score[1])\n",
        "print('Test loss:', test_score[0])\n",
        "print('Test mse:', test_score[1])"
      ],
      "metadata": {
        "colab": {
          "base_uri": "https://localhost:8080/"
        },
        "outputId": "e27d40fe-c036-4692-f024-0f2fb1687a57",
        "id": "5f25f98jG8G-"
      },
      "execution_count": 113,
      "outputs": [
        {
          "output_type": "stream",
          "name": "stdout",
          "text": [
            "Train loss: 0.6204745769500732\n",
            "Train mse: 0.6204745769500732\n",
            "Test loss: 3.8631696701049805\n",
            "Test mse: 3.8631696701049805\n"
          ]
        }
      ]
    },
    {
      "cell_type": "markdown",
      "source": [
        "### **[Problem 6] Learning MNIST with Keras**"
      ],
      "metadata": {
        "id": "fV5uJn99ILmd"
      }
    },
    {
      "cell_type": "code",
      "metadata": {
        "id": "ODYZeFQ3t65C"
      },
      "source": [
        "from keras.datasets import mnist\n",
        "(X_train, y_train), (X_test, y_test) = mnist.load_data()"
      ],
      "execution_count": 114,
      "outputs": []
    },
    {
      "cell_type": "code",
      "metadata": {
        "id": "Vrzmqf26t932",
        "colab": {
          "base_uri": "https://localhost:8080/"
        },
        "outputId": "957b1158-7e98-4c09-f919-3eb31670c7e1"
      },
      "source": [
        "print(X_train.shape) # (60000, 28, 28)\n",
        "print(y_train.shape) # (10000, 28, 28)\n",
        "print(X_test.shape) # (10000, 28, 28)\n",
        "print(y_test.shape)\n",
        "print(X_train[0].dtype) # uint8"
      ],
      "execution_count": 115,
      "outputs": [
        {
          "output_type": "stream",
          "name": "stdout",
          "text": [
            "(60000, 28, 28)\n",
            "(60000,)\n",
            "(10000, 28, 28)\n",
            "(10000,)\n",
            "uint8\n"
          ]
        }
      ]
    },
    {
      "cell_type": "markdown",
      "metadata": {
        "id": "wR3PLEXruO64"
      },
      "source": [
        "**Visualization**"
      ]
    },
    {
      "cell_type": "code",
      "metadata": {
        "colab": {
          "base_uri": "https://localhost:8080/",
          "height": 282
        },
        "id": "o7Vfb9qTuOaf",
        "outputId": "fb9c65f1-6330-4a16-9726-faaca2cfd7fd"
      },
      "source": [
        "%matplotlib inline\n",
        "index = 0\n",
        "image = X_train[index].reshape(28,28)\n",
        "# X_train[index]: (784,)\n",
        "# image: (28, 28)\n",
        "plt.imshow(image, 'gray')\n",
        "plt.title('label : {}'.format(y_train[index]))\n",
        "plt.show()"
      ],
      "execution_count": 116,
      "outputs": [
        {
          "output_type": "display_data",
          "data": {
            "image/png": "[encoded data removed]",
            "text/plain": [
              "<Figure size 432x288 with 1 Axes>"
            ]
          },
          "metadata": {
            "needs_background": "light"
          }
        }
      ]
    },
    {
      "cell_type": "markdown",
      "metadata": {
        "id": "ZSAGU3J2utWE"
      },
      "source": [
        "**Preprocessing**"
      ]
    },
    {
      "cell_type": "code",
      "source": [
        "import numpy as np\n",
        "from sklearn.model_selection import train_test_split\n",
        "from sklearn.preprocessing import OneHotEncoder\n",
        "from keras.datasets import mnist\n",
        "from sklearn.metrics import accuracy_score"
      ],
      "metadata": {
        "id": "nBKGgl49M5Rw"
      },
      "execution_count": 117,
      "outputs": []
    },
    {
      "cell_type": "code",
      "source": [
        "X_train = X_train.reshape(-1, 784)\n",
        "X_test = X_test.reshape(-1, 784)\n",
        "\n",
        "X_train = X_train.astype(np.float)\n",
        "X_test = X_test.astype(np.float)\n",
        "X_train = X_train / 255.0\n",
        "X_test = X_test / 255.0\n",
        "\n",
        "enc = OneHotEncoder(handle_unknown='ignore', sparse=False)\n",
        "y_train_one_hot = enc.fit_transform(y_train[:, np.newaxis])\n",
        "y_test_one_hot = enc.transform(y_test[:, np.newaxis])\n",
        "\n",
        "X_train, X_val, y_train, y_val = train_test_split(X_train, y_train_one_hot, test_size=0.2)\n",
        "\n",
        "print(X_train.shape)\n",
        "print(X_test.shape)"
      ],
      "metadata": {
        "colab": {
          "base_uri": "https://localhost:8080/"
        },
        "id": "ipclmDklcKWm",
        "outputId": "e24c5e93-1b74-4302-d957-5e954d9e24ca"
      },
      "execution_count": 118,
      "outputs": [
        {
          "output_type": "stream",
          "name": "stdout",
          "text": [
            "(48000, 784)\n",
            "(10000, 784)\n"
          ]
        }
      ]
    },
    {
      "cell_type": "code",
      "source": [
        "# Hyperparameters\n",
        "learning_rate = 0.01\n",
        "batch_size = 20\n",
        "num_epochs = 10\n",
        "n_hidden1 = 50\n",
        "n_hidden2 = 100\n",
        "n_input = X_train.shape[1]\n",
        "n_samples = X_train.shape[0]\n",
        "n_classes = 10"
      ],
      "metadata": {
        "id": "jp3ph50sIcnE"
      },
      "execution_count": 127,
      "outputs": []
    },
    {
      "cell_type": "markdown",
      "source": [
        "**Model structure**"
      ],
      "metadata": {
        "id": "P3TFPQ4CIfb-"
      }
    },
    {
      "cell_type": "code",
      "source": [
        "model = tf.keras.Sequential()\n",
        "model.add(tf.keras.Input(n_input))\n",
        "model.add(tf.keras.layers.Dense(n_hidden1, activation='relu'))\n",
        "model.add(tf.keras.layers.Dense(n_hidden2, activation='relu'))\n",
        "model.add(tf.keras.layers.Dense(n_classes, activation='softmax'))"
      ],
      "metadata": {
        "id": "ms1Wxy4YIcnE"
      },
      "execution_count": 129,
      "outputs": []
    },
    {
      "cell_type": "code",
      "source": [
        "model.summary()"
      ],
      "metadata": {
        "colab": {
          "base_uri": "https://localhost:8080/"
        },
        "outputId": "3e6f817e-ba5a-44dc-8dd1-a8bd32b20f25",
        "id": "ajvGS2vMIcnF"
      },
      "execution_count": 130,
      "outputs": [
        {
          "output_type": "stream",
          "name": "stdout",
          "text": [
            "Model: \"sequential_20\"\n",
            "_________________________________________________________________\n",
            " Layer (type)                Output Shape              Param #   \n",
            "=================================================================\n",
            " dense_49 (Dense)            (None, 50)                39250     \n",
            "                                                                 \n",
            " dense_50 (Dense)            (None, 100)               5100      \n",
            "                                                                 \n",
            " dense_51 (Dense)            (None, 10)                1010      \n",
            "                                                                 \n",
            "=================================================================\n",
            "Total params: 45,360\n",
            "Trainable params: 45,360\n",
            "Non-trainable params: 0\n",
            "_________________________________________________________________\n"
          ]
        }
      ]
    },
    {
      "cell_type": "code",
      "source": [
        "model.compile(loss='categorical_crossentropy',\n",
        "              optimizer=tf.optimizers.Adagrad(learning_rate=0.005),\n",
        "              metrics=['accuracy'])"
      ],
      "metadata": {
        "id": "xKANuaJcIcnF"
      },
      "execution_count": 131,
      "outputs": []
    },
    {
      "cell_type": "code",
      "source": [
        "history = model.fit(X_train, y_train,\n",
        "                    batch_size=batch_size,\n",
        "                    epochs=num_epochs,\n",
        "                    validation_data=(X_val, y_val),\n",
        "                    verbose=1)"
      ],
      "metadata": {
        "colab": {
          "base_uri": "https://localhost:8080/"
        },
        "outputId": "8dfa7927-7156-4e01-a84c-737e7cef8bd7",
        "id": "vuAv5z9PIcnF"
      },
      "execution_count": 133,
      "outputs": [
        {
          "output_type": "stream",
          "name": "stdout",
          "text": [
            "Epoch 1/10\n",
            "2400/2400 [==============================] - 7s 3ms/step - loss: 0.5792 - accuracy: 0.8449 - val_loss: 0.3356 - val_accuracy: 0.9057\n",
            "Epoch 2/10\n",
            "2400/2400 [==============================] - 6s 3ms/step - loss: 0.2978 - accuracy: 0.9160 - val_loss: 0.2875 - val_accuracy: 0.9176\n",
            "Epoch 3/10\n",
            "2400/2400 [==============================] - 6s 3ms/step - loss: 0.2587 - accuracy: 0.9272 - val_loss: 0.2577 - val_accuracy: 0.9257\n",
            "Epoch 4/10\n",
            "2400/2400 [==============================] - 6s 2ms/step - loss: 0.2353 - accuracy: 0.9335 - val_loss: 0.2425 - val_accuracy: 0.9303\n",
            "Epoch 5/10\n",
            "2400/2400 [==============================] - 7s 3ms/step - loss: 0.2188 - accuracy: 0.9385 - val_loss: 0.2286 - val_accuracy: 0.9325\n",
            "Epoch 6/10\n",
            "2400/2400 [==============================] - 6s 3ms/step - loss: 0.2061 - accuracy: 0.9416 - val_loss: 0.2183 - val_accuracy: 0.9363\n",
            "Epoch 7/10\n",
            "2400/2400 [==============================] - 7s 3ms/step - loss: 0.1959 - accuracy: 0.9443 - val_loss: 0.2095 - val_accuracy: 0.9376\n",
            "Epoch 8/10\n",
            "2400/2400 [==============================] - 7s 3ms/step - loss: 0.1874 - accuracy: 0.9471 - val_loss: 0.2028 - val_accuracy: 0.9392\n",
            "Epoch 9/10\n",
            "2400/2400 [==============================] - 6s 3ms/step - loss: 0.1799 - accuracy: 0.9491 - val_loss: 0.1974 - val_accuracy: 0.9406\n",
            "Epoch 10/10\n",
            "2400/2400 [==============================] - 6s 3ms/step - loss: 0.1734 - accuracy: 0.9509 - val_loss: 0.1934 - val_accuracy: 0.9418\n"
          ]
        }
      ]
    },
    {
      "cell_type": "code",
      "source": [
        "train_score = model.evaluate(X_train, y_train, verbose=0)\n",
        "test_score = model.evaluate(X_test, y_test_one_hot, verbose = 0)\n",
        "print('Train loss:', train_score[0])\n",
        "print('Train accuracy:', train_score[1])\n",
        "print('Test loss:', test_score[0])\n",
        "print('Test accuracy:', test_score[1])"
      ],
      "metadata": {
        "colab": {
          "base_uri": "https://localhost:8080/"
        },
        "outputId": "442f2767-330e-4409-9525-8d804769dd38",
        "id": "RFCBnVm3IcnF"
      },
      "execution_count": 134,
      "outputs": [
        {
          "output_type": "stream",
          "name": "stdout",
          "text": [
            "Train loss: 0.16911157965660095\n",
            "Train accuracy: 0.9524375200271606\n",
            "Test loss: 0.1762416809797287\n",
            "Test accuracy: 0.9490000009536743\n"
          ]
        }
      ]
    }
  ]
}