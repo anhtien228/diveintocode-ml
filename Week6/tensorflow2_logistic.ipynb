{
  "nbformat": 4,
  "nbformat_minor": 0,
  "metadata": {
    "colab": {
      "name": "tensorflow2_logistic.ipynb",
      "provenance": [],
      "collapsed_sections": [],
      "toc_visible": true
    },
    "kernelspec": {
      "name": "python3",
      "display_name": "Python 3"
    },
    "language_info": {
      "name": "python"
    },
    "accelerator": "GPU"
  },
  "cells": [
    {
      "cell_type": "markdown",
      "metadata": {
        "id": "EQ9oEAn43Wnk"
      },
      "source": [
        "# **DIVE INTO CODE COURSE**\n",
        "## **TensorFlow**\n",
        "**Student Name**: Doan Anh Tien<br>\n",
        "**Student ID**: 1852789<br>\n",
        "**Email**: tien.doan.g0pr0@hcmut.edu.vn"
      ]
    },
    {
      "cell_type": "markdown",
      "source": [
        "### **[Problem 1] Looking back on the scratch**"
      ],
      "metadata": {
        "id": "aZ7S6jYZbh-_"
      }
    },
    {
      "cell_type": "markdown",
      "source": [
        "Tasks that should be conducted for implementing machine learning model:\n",
        "\n",
        "\n",
        "*   Preparing dataset\n",
        "*   Pre-processing dataset\n",
        "*   Split train and test set\n",
        "*   Initialize hyperparameters\n",
        "*   Initialize weight and bias\n",
        "*   Create model class/functions\n",
        "*   Define objective function, optimizer and evaluation metrics\n",
        "*   Start session for dataflow\n",
        "\n",
        "\n",
        "\n"
      ],
      "metadata": {
        "id": "3Uj3u8nwb1Ih"
      }
    },
    {
      "cell_type": "markdown",
      "source": [
        "### **[Problem 2] Consider the correspondence between scratch and TensorFlow**"
      ],
      "metadata": {
        "id": "oqoiSosyeEJz"
      }
    },
    {
      "cell_type": "code",
      "source": [
        "import numpy as np\n",
        "import pandas as pd\n",
        "from sklearn.model_selection import train_test_split\n",
        "import tensorflow as tf\n",
        "import matplotlib.pyplot as plt\n",
        "\n",
        "plt.style.use('ggplot')\n",
        "\n",
        "tf.test.gpu_device_name() \n",
        "# tf.disable_eager_execution()"
      ],
      "metadata": {
        "colab": {
          "base_uri": "https://localhost:8080/",
          "height": 35
        },
        "id": "HjX61o35eDp7",
        "outputId": "92900c24-4129-445d-dd14-317e05fa68c6"
      },
      "execution_count": 1,
      "outputs": [
        {
          "output_type": "execute_result",
          "data": {
            "application/vnd.google.colaboratory.intrinsic+json": {
              "type": "string"
            },
            "text/plain": [
              "'/device:GPU:0'"
            ]
          },
          "metadata": {},
          "execution_count": 1
        }
      ]
    },
    {
      "cell_type": "code",
      "source": [
        "class GetMiniBatch:\n",
        "    \"\"\"\n",
        "    Iterator to get a mini-batch\n",
        "    Parameters\n",
        "    ----------\n",
        "    X : The following forms of ndarray, shape (n_samples, n_features)\n",
        "      Training data\n",
        "    y : The following form of ndarray, shape (n_samples, 1)\n",
        "      Correct answer value\n",
        "    batch_size : int\n",
        "      Batch size\n",
        "    seed : int\n",
        "      NumPy random number seed\n",
        "    \"\"\"\n",
        "    def __init__(self, X, y, batch_size = 10, seed=0):\n",
        "        self.batch_size = batch_size\n",
        "        np.random.seed(seed)\n",
        "        shuffle_index = np.random.permutation(np.arange(X.shape[0]))\n",
        "        self.X = X[shuffle_index]\n",
        "        self.y = y[shuffle_index]\n",
        "        self._stop = np.ceil(X.shape[0]/self.batch_size).astype(np.int)\n",
        "    def __len__(self):\n",
        "        return self._stop\n",
        "    def __getitem__(self,item):\n",
        "        p0 = item*self.batch_size\n",
        "        p1 = item*self.batch_size + self.batch_size\n",
        "        return self.X[p0:p1], self.y[p0:p1]        \n",
        "    def __iter__(self):\n",
        "        self._counter = 0\n",
        "        return self\n",
        "    def __next__(self):\n",
        "        if self._counter >= self._stop:\n",
        "            raise StopIteration()\n",
        "        p0 = self._counter*self.batch_size\n",
        "        p1 = self._counter*self.batch_size + self.batch_size\n",
        "        self._counter += 1\n",
        "        return self.X[p0:p1], self.y[p0:p1]"
      ],
      "metadata": {
        "id": "-jVKjjpnz6or"
      },
      "execution_count": 18,
      "outputs": []
    },
    {
      "cell_type": "code",
      "source": [
        "df = pd.read_csv(\"sample_data/Iris.csv\")\n",
        "#Condition extraction from data frame\n",
        "df = df[(df[\"Species\"] == \"Iris-versicolor\") | (df[\"Species\"] == \"Iris-virginica\")]\n",
        "y = df[\"Species\"]\n",
        "X = df.loc[:, [\"SepalLengthCm\", \"SepalWidthCm\", \"PetalLengthCm\", \"PetalWidthCm\"]]\n",
        "# NumPy 配列に変換\n",
        "X = np.array(X)\n",
        "y = np.array(y)\n",
        "# Convert label to number\n",
        "y[y == \"Iris-versicolor\"] = 0\n",
        "y[y == \"Iris-virginica\"] = 1\n",
        "y = y.astype(np.int64)[:, np.newaxis]\n",
        "#Split into train and test\n",
        "X_train, X_test, y_train, y_test = train_test_split(X, y, test_size=0.2, random_state=0)\n",
        "# さらにtrainとvalに分割\n",
        "X_train, X_val, y_train, y_val = train_test_split(X_train, y_train, test_size=0.2, random_state=0)"
      ],
      "metadata": {
        "id": "veCrLee1eNCK"
      },
      "execution_count": 14,
      "outputs": []
    },
    {
      "cell_type": "code",
      "source": [
        "# Hyperparameter settings\n",
        "learning_rate = 0.001\n",
        "batch_size = 10\n",
        "num_epochs = 100\n",
        "n_hidden1 = 50\n",
        "n_hidden2 = 100\n",
        "n_input = X_train.shape[1]\n",
        "n_samples = X_train.shape[0]\n",
        "n_classes = 1\n",
        "#Determine the shape of the argument to be passed to the calculation graph\n",
        "X = tf.placeholder(\"float\", [None, n_input])\n",
        "Y = tf.placeholder(\"float\", [None, n_classes])\n",
        "# train mini batch iterator\n",
        "get_mini_batch_train = GetMiniBatch(X_train, y_train, batch_size=batch_size)\n",
        "def example_net(x):\n",
        "    \"\"\"\n",
        "    Simple 3-layer neural network\n",
        "    \"\"\"\n",
        "    tf.random.set_random_seed(0)\n",
        "    # Declaration of weight and bias\n",
        "    weights = {\n",
        "        'w1': tf.Variable(tf.random_normal([n_input, n_hidden1])),\n",
        "        'w2': tf.Variable(tf.random_normal([n_hidden1, n_hidden2])),\n",
        "        'w3': tf.Variable(tf.random_normal([n_hidden2, n_classes]))\n",
        "    }\n",
        "    biases = {\n",
        "        'b1': tf.Variable(tf.random_normal([n_hidden1])),\n",
        "        'b2': tf.Variable(tf.random_normal([n_hidden2])),\n",
        "        'b3': tf.Variable(tf.random_normal([n_classes]))\n",
        "    }\n",
        "    layer_1 = tf.add(tf.matmul(x, weights['w1']), biases['b1'])\n",
        "    layer_1 = tf.nn.relu(layer_1)\n",
        "    layer_2 = tf.add(tf.matmul(layer_1, weights['w2']), biases['b2'])\n",
        "    layer_2 = tf.nn.relu(layer_2)\n",
        "    layer_output = tf.matmul(layer_2, weights['w3']) + biases['b3'] # tf.add and + are equivalent\n",
        "    return layer_output\n",
        "#Read network structure                              \n",
        "logits = example_net(X)\n",
        "# Objective function\n",
        "loss_op = tf.reduce_mean(tf.nn.sigmoid_cross_entropy_with_logits(labels=Y, logits=logits))\n",
        "# Optimization method\n",
        "optimizer = tf.train.AdamOptimizer(learning_rate=learning_rate)\n",
        "train_op = optimizer.minimize(loss_op)\n",
        "# Estimated result\n",
        "correct_pred = tf.equal(tf.sign(Y - 0.5), tf.sign(tf.sigmoid(logits) - 0.5))\n",
        "#Indicator value calculation\n",
        "accuracy = tf.reduce_mean(tf.cast(correct_pred, tf.float32))\n",
        "#Initialization of variable\n",
        "init = tf.global_variables_initializer()\n",
        "\n",
        "#Run calculation graph\n",
        "with tf.Session() as sess:\n",
        "    sess.run(init)\n",
        "    for epoch in range(num_epochs):\n",
        "        #Loop for each epoch\n",
        "        total_batch = np.ceil(X_train.shape[0]/batch_size).astype(np.int64)\n",
        "        total_loss = 0\n",
        "        total_acc = 0\n",
        "        for i, (mini_batch_x, mini_batch_y) in enumerate(get_mini_batch_train):\n",
        "            # Loop for each mini-batch\n",
        "            sess.run(train_op, feed_dict={X: mini_batch_x, Y: mini_batch_y})\n",
        "            loss, acc = sess.run([loss_op, accuracy], feed_dict={X: mini_batch_x, Y: mini_batch_y})\n",
        "            total_loss += loss\n",
        "        total_loss /= n_samples\n",
        "        val_loss, acc = sess.run([loss_op, accuracy], feed_dict={X: X_val, Y: y_val})\n",
        "        print(\"Epoch {}, loss : {:.4f}, val_loss : {:.4f}, acc : {:.3f}\".format(epoch, total_loss, val_loss, acc))\n",
        "    test_acc = sess.run(accuracy, feed_dict={X: X_test, Y: y_test})\n",
        "    print(\"test_acc : {:.3f}\".format(test_acc))"
      ],
      "metadata": {
        "colab": {
          "base_uri": "https://localhost:8080/"
        },
        "id": "r70eCfe7fHaa",
        "outputId": "5319695a-7372-4145-caea-073669988299"
      },
      "execution_count": 15,
      "outputs": [
        {
          "output_type": "stream",
          "name": "stdout",
          "text": [
            "Epoch 0, loss : 7.0241, val_loss : 67.6860, acc : 0.375\n",
            "Epoch 1, loss : 3.4241, val_loss : 23.4026, acc : 0.312\n",
            "Epoch 2, loss : 1.9387, val_loss : 11.6681, acc : 0.375\n",
            "Epoch 3, loss : 2.0917, val_loss : 13.1400, acc : 0.312\n",
            "Epoch 4, loss : 1.7685, val_loss : 17.7283, acc : 0.312\n",
            "Epoch 5, loss : 1.6097, val_loss : 12.9607, acc : 0.312\n",
            "Epoch 6, loss : 1.4402, val_loss : 10.0593, acc : 0.312\n",
            "Epoch 7, loss : 1.3704, val_loss : 9.4797, acc : 0.312\n",
            "Epoch 8, loss : 1.2536, val_loss : 9.8518, acc : 0.312\n",
            "Epoch 9, loss : 1.1476, val_loss : 8.5670, acc : 0.375\n",
            "Epoch 10, loss : 1.0930, val_loss : 8.0429, acc : 0.375\n",
            "Epoch 11, loss : 1.0412, val_loss : 7.8791, acc : 0.375\n",
            "Epoch 12, loss : 0.9804, val_loss : 7.1233, acc : 0.375\n",
            "Epoch 13, loss : 0.9326, val_loss : 6.7908, acc : 0.375\n",
            "Epoch 14, loss : 0.8792, val_loss : 6.2492, acc : 0.375\n",
            "Epoch 15, loss : 0.8304, val_loss : 5.7681, acc : 0.375\n",
            "Epoch 16, loss : 0.7835, val_loss : 5.2886, acc : 0.438\n",
            "Epoch 17, loss : 0.7384, val_loss : 4.8037, acc : 0.438\n",
            "Epoch 18, loss : 0.6961, val_loss : 4.3575, acc : 0.500\n",
            "Epoch 19, loss : 0.6543, val_loss : 3.9175, acc : 0.500\n",
            "Epoch 20, loss : 0.6136, val_loss : 3.5188, acc : 0.500\n",
            "Epoch 21, loss : 0.5738, val_loss : 3.1371, acc : 0.500\n",
            "Epoch 22, loss : 0.5349, val_loss : 2.7697, acc : 0.500\n",
            "Epoch 23, loss : 0.4973, val_loss : 2.4528, acc : 0.562\n",
            "Epoch 24, loss : 0.4606, val_loss : 2.1728, acc : 0.562\n",
            "Epoch 25, loss : 0.4255, val_loss : 1.9324, acc : 0.625\n",
            "Epoch 26, loss : 0.3919, val_loss : 1.7049, acc : 0.625\n",
            "Epoch 27, loss : 0.3609, val_loss : 1.5248, acc : 0.688\n",
            "Epoch 28, loss : 0.3326, val_loss : 1.3725, acc : 0.750\n",
            "Epoch 29, loss : 0.3071, val_loss : 1.2386, acc : 0.750\n",
            "Epoch 30, loss : 0.2851, val_loss : 1.1454, acc : 0.750\n",
            "Epoch 31, loss : 0.2647, val_loss : 1.0364, acc : 0.750\n",
            "Epoch 32, loss : 0.2466, val_loss : 0.9368, acc : 0.750\n",
            "Epoch 33, loss : 0.2297, val_loss : 0.8304, acc : 0.750\n",
            "Epoch 34, loss : 0.2155, val_loss : 0.7243, acc : 0.750\n",
            "Epoch 35, loss : 0.2024, val_loss : 0.6215, acc : 0.750\n",
            "Epoch 36, loss : 0.1920, val_loss : 0.5405, acc : 0.812\n",
            "Epoch 37, loss : 0.1815, val_loss : 0.4515, acc : 0.812\n",
            "Epoch 38, loss : 0.1735, val_loss : 0.4016, acc : 0.812\n",
            "Epoch 39, loss : 0.1643, val_loss : 0.3323, acc : 0.812\n",
            "Epoch 40, loss : 0.1574, val_loss : 0.2935, acc : 0.875\n",
            "Epoch 41, loss : 0.1496, val_loss : 0.2519, acc : 0.875\n",
            "Epoch 42, loss : 0.1429, val_loss : 0.2206, acc : 0.875\n",
            "Epoch 43, loss : 0.1364, val_loss : 0.1932, acc : 0.875\n",
            "Epoch 44, loss : 0.1302, val_loss : 0.1684, acc : 0.875\n",
            "Epoch 45, loss : 0.1244, val_loss : 0.1464, acc : 0.875\n",
            "Epoch 46, loss : 0.1188, val_loss : 0.1264, acc : 0.875\n",
            "Epoch 47, loss : 0.1139, val_loss : 0.1098, acc : 0.875\n",
            "Epoch 48, loss : 0.1091, val_loss : 0.0946, acc : 0.938\n",
            "Epoch 49, loss : 0.1050, val_loss : 0.0833, acc : 0.938\n",
            "Epoch 50, loss : 0.1007, val_loss : 0.0712, acc : 1.000\n",
            "Epoch 51, loss : 0.0976, val_loss : 0.0653, acc : 0.938\n",
            "Epoch 52, loss : 0.0932, val_loss : 0.0530, acc : 1.000\n",
            "Epoch 53, loss : 0.0916, val_loss : 0.0560, acc : 1.000\n",
            "Epoch 54, loss : 0.0862, val_loss : 0.0390, acc : 1.000\n",
            "Epoch 55, loss : 0.0876, val_loss : 0.0607, acc : 0.938\n",
            "Epoch 56, loss : 0.0789, val_loss : 0.0384, acc : 1.000\n",
            "Epoch 57, loss : 0.0873, val_loss : 0.0961, acc : 0.938\n",
            "Epoch 58, loss : 0.0723, val_loss : 0.0897, acc : 0.938\n",
            "Epoch 59, loss : 0.0941, val_loss : 0.1776, acc : 0.938\n",
            "Epoch 60, loss : 0.0694, val_loss : 0.1673, acc : 0.938\n",
            "Epoch 61, loss : 0.1051, val_loss : 0.2751, acc : 0.938\n",
            "Epoch 62, loss : 0.0713, val_loss : 0.1685, acc : 0.938\n",
            "Epoch 63, loss : 0.1073, val_loss : 0.3129, acc : 0.938\n",
            "Epoch 64, loss : 0.0740, val_loss : 0.1537, acc : 0.938\n",
            "Epoch 65, loss : 0.1069, val_loss : 0.3194, acc : 0.938\n",
            "Epoch 66, loss : 0.0758, val_loss : 0.1524, acc : 0.938\n",
            "Epoch 67, loss : 0.1083, val_loss : 0.3196, acc : 0.938\n",
            "Epoch 68, loss : 0.0781, val_loss : 0.1582, acc : 0.938\n",
            "Epoch 69, loss : 0.1114, val_loss : 0.3143, acc : 0.938\n",
            "Epoch 70, loss : 0.0809, val_loss : 0.1593, acc : 0.938\n",
            "Epoch 71, loss : 0.1138, val_loss : 0.2870, acc : 0.938\n",
            "Epoch 72, loss : 0.0823, val_loss : 0.1413, acc : 0.938\n",
            "Epoch 73, loss : 0.1107, val_loss : 0.2285, acc : 0.938\n",
            "Epoch 74, loss : 0.0789, val_loss : 0.1051, acc : 0.938\n",
            "Epoch 75, loss : 0.0999, val_loss : 0.1755, acc : 0.938\n",
            "Epoch 76, loss : 0.0717, val_loss : 0.0570, acc : 0.938\n",
            "Epoch 77, loss : 0.0807, val_loss : 0.0933, acc : 0.938\n",
            "Epoch 78, loss : 0.0609, val_loss : 0.0218, acc : 1.000\n",
            "Epoch 79, loss : 0.0599, val_loss : 0.0215, acc : 1.000\n",
            "Epoch 80, loss : 0.0513, val_loss : 0.0118, acc : 1.000\n",
            "Epoch 81, loss : 0.0498, val_loss : 0.0060, acc : 1.000\n",
            "Epoch 82, loss : 0.0454, val_loss : 0.0174, acc : 1.000\n",
            "Epoch 83, loss : 0.0472, val_loss : 0.0077, acc : 1.000\n",
            "Epoch 84, loss : 0.0430, val_loss : 0.0291, acc : 1.000\n",
            "Epoch 85, loss : 0.0450, val_loss : 0.0093, acc : 1.000\n",
            "Epoch 86, loss : 0.0399, val_loss : 0.0497, acc : 0.938\n",
            "Epoch 87, loss : 0.0430, val_loss : 0.0088, acc : 1.000\n",
            "Epoch 88, loss : 0.0374, val_loss : 0.0674, acc : 0.938\n",
            "Epoch 89, loss : 0.0430, val_loss : 0.0067, acc : 1.000\n",
            "Epoch 90, loss : 0.0361, val_loss : 0.0714, acc : 0.938\n",
            "Epoch 91, loss : 0.0423, val_loss : 0.0057, acc : 1.000\n",
            "Epoch 92, loss : 0.0349, val_loss : 0.0696, acc : 0.938\n",
            "Epoch 93, loss : 0.0412, val_loss : 0.0054, acc : 1.000\n",
            "Epoch 94, loss : 0.0338, val_loss : 0.0681, acc : 0.938\n",
            "Epoch 95, loss : 0.0398, val_loss : 0.0058, acc : 1.000\n",
            "Epoch 96, loss : 0.0326, val_loss : 0.0615, acc : 0.938\n",
            "Epoch 97, loss : 0.0377, val_loss : 0.0079, acc : 1.000\n",
            "Epoch 98, loss : 0.0316, val_loss : 0.0501, acc : 0.938\n",
            "Epoch 99, loss : 0.0349, val_loss : 0.0136, acc : 1.000\n",
            "test_acc : 0.900\n"
          ]
        }
      ]
    },
    {
      "cell_type": "markdown",
      "source": [
        "### **[Problem 3] Create a model of Iris using all three types of objective variables**"
      ],
      "metadata": {
        "id": "eWElOJMtilTc"
      }
    },
    {
      "cell_type": "code",
      "source": [
        "import numpy as np\n",
        "import pandas as pd\n",
        "from sklearn.model_selection import train_test_split\n",
        "import tensorflow as tf\n",
        "import matplotlib.pyplot as plt\n",
        "from sklearn.preprocessing import StandardScaler\n",
        "from keras.utils import np_utils\n",
        "import warnings\n",
        "warnings.filterwarnings('ignore')\n",
        "\n",
        "plt.style.use('ggplot')\n",
        "\n",
        "tf.test.gpu_device_name() \n",
        "# tf.disable_eager_execution()"
      ],
      "metadata": {
        "colab": {
          "base_uri": "https://localhost:8080/",
          "height": 35
        },
        "outputId": "db2249d4-0a89-47e7-91f9-228d5596182f",
        "id": "oUQoApuI24Rv"
      },
      "execution_count": 22,
      "outputs": [
        {
          "output_type": "execute_result",
          "data": {
            "application/vnd.google.colaboratory.intrinsic+json": {
              "type": "string"
            },
            "text/plain": [
              "'/device:GPU:0'"
            ]
          },
          "metadata": {},
          "execution_count": 22
        }
      ]
    },
    {
      "cell_type": "code",
      "source": [
        "class GetMiniBatch:\n",
        "    \"\"\"\n",
        "    Iterator to get a mini-batch\n",
        "    Parameters\n",
        "    ----------\n",
        "    X : The following forms of ndarray, shape (n_samples, n_features)\n",
        "      Training data\n",
        "    y : The following form of ndarray, shape (n_samples, 1)\n",
        "      Correct answer value\n",
        "    batch_size : int\n",
        "      Batch size\n",
        "    seed : int\n",
        "      NumPy random number seed\n",
        "    \"\"\"\n",
        "    def __init__(self, X, y, batch_size = 10, seed=0):\n",
        "        self.batch_size = batch_size\n",
        "        np.random.seed(seed)\n",
        "        shuffle_index = np.random.permutation(np.arange(X.shape[0]))\n",
        "        self.X = X[shuffle_index]\n",
        "        self.y = y[shuffle_index]\n",
        "        self._stop = np.ceil(X.shape[0]/self.batch_size).astype(np.int)\n",
        "    def __len__(self):\n",
        "        return self._stop\n",
        "    def __getitem__(self,item):\n",
        "        p0 = item*self.batch_size\n",
        "        p1 = item*self.batch_size + self.batch_size\n",
        "        return self.X[p0:p1], self.y[p0:p1]        \n",
        "    def __iter__(self):\n",
        "        self._counter = 0\n",
        "        return self\n",
        "    def __next__(self):\n",
        "        if self._counter >= self._stop:\n",
        "            raise StopIteration()\n",
        "        p0 = self._counter*self.batch_size\n",
        "        p1 = self._counter*self.batch_size + self.batch_size\n",
        "        self._counter += 1\n",
        "        return self.X[p0:p1], self.y[p0:p1]"
      ],
      "metadata": {
        "id": "mObcIUsL24Rw"
      },
      "execution_count": 23,
      "outputs": []
    },
    {
      "cell_type": "code",
      "source": [
        "df = pd.read_csv(\"sample_data/Iris.csv\")\n",
        "#Condition extraction from data frame\n",
        "y = df[\"Species\"]\n",
        "X = df.loc[:, [\"SepalLengthCm\", \"SepalWidthCm\", \"PetalLengthCm\", \"PetalWidthCm\"]]\n",
        "y = np.array(y)\n",
        "X = np.array(X).astype(np.float32)\n",
        "# Convert label to number\n",
        "y[y == \"Iris-setosa\"] = 0\n",
        "y[y == \"Iris-versicolor\"] = 1\n",
        "y[y == \"Iris-virginica\"] = 2\n",
        "# One Hot encoder\n",
        "y = np_utils.to_categorical(y)\n",
        "#Split into train and test\n",
        "X_train, X_test, y_train, y_test = train_test_split(X, y, test_size=0.2, random_state=0)\n",
        "# さらにtrainとvalに分割\n",
        "X_train, X_val, y_train, y_val = train_test_split(X_train, y_train, test_size=0.2, random_state=0)"
      ],
      "metadata": {
        "id": "Ocw1Qr2Mo3G1"
      },
      "execution_count": 24,
      "outputs": []
    },
    {
      "cell_type": "code",
      "source": [
        "# Standardizing\n",
        "scaler = StandardScaler()\n",
        "scaler.fit(X_train)\n",
        "X_train = scaler.transform(X_train)\n",
        "X_test = scaler.transform(X_test)\n",
        "X_val = scaler.transform(X_val)"
      ],
      "metadata": {
        "id": "m4j9IFJVpsf5"
      },
      "execution_count": 25,
      "outputs": []
    },
    {
      "cell_type": "code",
      "source": [
        "# Hyperparameter settings\n",
        "learning_rate = 0.01\n",
        "batch_size = 10\n",
        "num_epochs = 50\n",
        "n_hidden1 = 50\n",
        "n_hidden2 = 100\n",
        "n_input = X_train.shape[1]\n",
        "n_samples = X_train.shape[0]\n",
        "n_classes = 3\n",
        "# train mini batch iterator\n",
        "get_mini_batch_train = GetMiniBatch(X_train, y_train, batch_size=batch_size)\n",
        "class IrisModel(tf.keras.Model):\n",
        "    \"\"\"\n",
        "    Simple 3-layer multi-classification neural network\n",
        "    \"\"\"\n",
        "    def __init__(self):\n",
        "      super().__init__()\n",
        "      # Declaration of weight\n",
        "      self.w1 = tf.Variable(tf.random.normal([n_input, n_hidden1]), trainable=True)\n",
        "      self.w2 = tf.Variable(tf.random.normal([n_hidden1, n_hidden2]), trainable=True)\n",
        "      self.w3 =  tf.Variable(tf.random.normal([n_hidden2, n_classes]), trainable=True)\n",
        "      # Declaration of bias\n",
        "      self.b1 = tf.Variable(tf.random.normal([n_hidden1]), trainable=True)\n",
        "      self.b2 = tf.Variable(tf.random.normal([n_hidden2]), trainable=True)\n",
        "      self.b3 = tf.Variable(tf.random.normal([n_classes]), trainable=True)\n",
        "      \n",
        "    def call(self, x):\n",
        "      \"\"\"\n",
        "      Fit the train dataset into the model's dataflow\n",
        "      \"\"\"\n",
        "      layer_1 = tf.add(tf.matmul(x, self.w1), self.b1)\n",
        "      layer_1 = tf.nn.relu(layer_1)\n",
        "      layer_2 = tf.add(tf.matmul(layer_1, self.w2), self.b2)\n",
        "      layer_2 = tf.nn.relu(layer_2)\n",
        "      layer_output = tf.matmul(layer_2, self.w3) + self.b3\n",
        "\n",
        "      return layer_output\n",
        "\n",
        "#Read network structure                              \n",
        "model = IrisModel()\n",
        "optimizer = tf.optimizers.Adam(learning_rate=learning_rate)\n",
        "\n",
        "# Train function\n",
        "def train(x, y):\n",
        "  # Fit the train dataset into the model\n",
        "  logits = model(x, training=True)\n",
        "  # Objective function\n",
        "  loss = tf.reduce_mean(tf.nn.softmax_cross_entropy_with_logits(y, logits))\n",
        "\n",
        "  return loss\n",
        "\n",
        "def evaluate(x, y):\n",
        "  # Fit the validation dataset into the model\n",
        "  logits = model(x)\n",
        "  # Objective function\n",
        "  loss = tf.reduce_mean(tf.nn.softmax_cross_entropy_with_logits(y, logits))\n",
        "  # Estimated result\n",
        "  correct_pred = tf.equal(tf.argmax(y, 1), tf.argmax(logits, 1))\n",
        "  #Indicator value calculation\n",
        "  accuracy = tf.reduce_mean(tf.cast(correct_pred, tf.float32))\n",
        "\n",
        "  return loss, accuracy\n",
        "\n",
        "train_loss_list = list()\n",
        "val_loss_list = list()\n",
        "acc_list = list()\n",
        "\n",
        "#Run calculation graph\n",
        "for epoch in range(num_epochs):\n",
        "    total_batch = np.ceil(X_train.shape[0]/batch_size).astype(np.int)\n",
        "    total_loss = 0\n",
        "    total_acc = 0\n",
        "    for i, (mini_batch_x, mini_batch_y) in enumerate(get_mini_batch_train):\n",
        "        with tf.GradientTape() as tape:\n",
        "            loss = train(mini_batch_x, mini_batch_y)\n",
        "                         \n",
        "        grads = tape.gradient(loss, model.trainable_weights)\n",
        "        optimizer.apply_gradients(zip(grads, model.trainable_weights))\n",
        "        total_loss += loss\n",
        "\n",
        "    loss = total_loss / n_samples\n",
        "    val_loss, val_acc = evaluate(X_val, y_val)\n",
        "\n",
        "    # History record\n",
        "    train_loss_list.append(loss)\n",
        "    val_loss_list.append(val_loss)\n",
        "    acc_list.append(val_acc)\n",
        "\n",
        "    print(\"Epoch {}, loss : {:.4f}, val_loss : {:.4f}, val_acc : {:.3f}\".format(epoch, loss, val_loss, val_acc))\n",
        "    \n",
        "_, test_acc = evaluate(X_test, y_test)\n",
        "print(\"test_acc : {:.3f}\".format(test_acc))"
      ],
      "metadata": {
        "colab": {
          "base_uri": "https://localhost:8080/"
        },
        "id": "Tx0oVeANikqb",
        "outputId": "6fbd0418-a608-463f-a2bb-a08052b2665c"
      },
      "execution_count": 32,
      "outputs": [
        {
          "output_type": "stream",
          "name": "stdout",
          "text": [
            "Epoch 0, loss : 0.5072, val_loss : 1.1401, val_acc : 0.833\n",
            "Epoch 1, loss : 0.0818, val_loss : 0.4293, val_acc : 0.875\n",
            "Epoch 2, loss : 0.0008, val_loss : 0.4654, val_acc : 0.917\n",
            "Epoch 3, loss : 0.0097, val_loss : 0.8173, val_acc : 0.958\n",
            "Epoch 4, loss : 0.0090, val_loss : 0.7985, val_acc : 0.917\n",
            "Epoch 5, loss : 0.0078, val_loss : 0.7792, val_acc : 0.917\n",
            "Epoch 6, loss : 0.0042, val_loss : 0.8297, val_acc : 0.958\n",
            "Epoch 7, loss : 0.0024, val_loss : 1.0961, val_acc : 0.917\n",
            "Epoch 8, loss : 0.0072, val_loss : 0.8319, val_acc : 0.958\n",
            "Epoch 9, loss : 0.0001, val_loss : 0.5759, val_acc : 0.917\n",
            "Epoch 10, loss : 0.0015, val_loss : 1.2093, val_acc : 0.917\n",
            "Epoch 11, loss : 0.0077, val_loss : 0.9633, val_acc : 0.958\n",
            "Epoch 12, loss : 0.0004, val_loss : 0.7557, val_acc : 0.958\n",
            "Epoch 13, loss : 0.0001, val_loss : 0.7801, val_acc : 0.958\n",
            "Epoch 14, loss : 0.0000, val_loss : 0.8053, val_acc : 0.958\n",
            "Epoch 15, loss : 0.0000, val_loss : 0.8174, val_acc : 0.958\n",
            "Epoch 16, loss : 0.0000, val_loss : 0.8233, val_acc : 0.958\n",
            "Epoch 17, loss : 0.0000, val_loss : 0.8266, val_acc : 0.958\n",
            "Epoch 18, loss : 0.0000, val_loss : 0.8287, val_acc : 0.958\n",
            "Epoch 19, loss : 0.0000, val_loss : 0.8304, val_acc : 0.958\n",
            "Epoch 20, loss : 0.0000, val_loss : 0.8319, val_acc : 0.958\n",
            "Epoch 21, loss : 0.0000, val_loss : 0.8332, val_acc : 0.958\n",
            "Epoch 22, loss : 0.0000, val_loss : 0.8345, val_acc : 0.958\n",
            "Epoch 23, loss : 0.0000, val_loss : 0.8358, val_acc : 0.958\n",
            "Epoch 24, loss : 0.0000, val_loss : 0.8369, val_acc : 0.958\n",
            "Epoch 25, loss : 0.0000, val_loss : 0.8381, val_acc : 0.958\n",
            "Epoch 26, loss : 0.0000, val_loss : 0.8392, val_acc : 0.958\n",
            "Epoch 27, loss : 0.0000, val_loss : 0.8402, val_acc : 0.958\n",
            "Epoch 28, loss : 0.0000, val_loss : 0.8412, val_acc : 0.958\n",
            "Epoch 29, loss : 0.0000, val_loss : 0.8422, val_acc : 0.958\n",
            "Epoch 30, loss : 0.0000, val_loss : 0.8431, val_acc : 0.958\n",
            "Epoch 31, loss : 0.0000, val_loss : 0.8440, val_acc : 0.958\n",
            "Epoch 32, loss : 0.0000, val_loss : 0.8449, val_acc : 0.958\n",
            "Epoch 33, loss : 0.0000, val_loss : 0.8457, val_acc : 0.958\n",
            "Epoch 34, loss : 0.0000, val_loss : 0.8465, val_acc : 0.958\n",
            "Epoch 35, loss : 0.0000, val_loss : 0.8473, val_acc : 0.958\n",
            "Epoch 36, loss : 0.0000, val_loss : 0.8480, val_acc : 0.958\n",
            "Epoch 37, loss : 0.0000, val_loss : 0.8487, val_acc : 0.958\n",
            "Epoch 38, loss : 0.0000, val_loss : 0.8494, val_acc : 0.958\n",
            "Epoch 39, loss : 0.0000, val_loss : 0.8501, val_acc : 0.958\n",
            "Epoch 40, loss : 0.0000, val_loss : 0.8507, val_acc : 0.958\n",
            "Epoch 41, loss : 0.0000, val_loss : 0.8513, val_acc : 0.958\n",
            "Epoch 42, loss : 0.0000, val_loss : 0.8519, val_acc : 0.958\n",
            "Epoch 43, loss : 0.0000, val_loss : 0.8525, val_acc : 0.958\n",
            "Epoch 44, loss : 0.0000, val_loss : 0.8530, val_acc : 0.958\n",
            "Epoch 45, loss : 0.0000, val_loss : 0.8535, val_acc : 0.958\n",
            "Epoch 46, loss : 0.0000, val_loss : 0.8540, val_acc : 0.958\n",
            "Epoch 47, loss : 0.0000, val_loss : 0.8545, val_acc : 0.958\n",
            "Epoch 48, loss : 0.0000, val_loss : 0.8550, val_acc : 0.958\n",
            "Epoch 49, loss : 0.0000, val_loss : 0.8554, val_acc : 0.958\n",
            "test_acc : 1.000\n"
          ]
        }
      ]
    },
    {
      "cell_type": "code",
      "source": [
        "import matplotlib.pyplot as plt\n",
        "%matplotlib inline\n",
        "\n",
        "plt.rcParams['font.size'] = 15\n",
        "fig = plt.figure(figsize=(16,4))\n",
        "\n",
        "ax1 = fig.add_subplot(1, 3, 1)   \n",
        "ax1.plot(train_loss_list)\n",
        "ax1.set_title('train loss')\n",
        "ax1.set_xlabel('iterations')\n",
        "ax1.set_ylabel('train loss')\n",
        "\n",
        "\n",
        "ax2 = fig.add_subplot(1, 3, 2)  \n",
        "ax2.plot(val_loss_list, color='red')\n",
        "ax2.set_title('test loss')\n",
        "ax2.set_xlabel('iterations')\n",
        "ax2.set_ylabel('test loss')\n",
        "\n",
        "ax3 = fig.add_subplot(1, 3, 3)  \n",
        "ax3.plot(acc_list, color='red')\n",
        "ax3.set_title('accuracy')\n",
        "ax3.set_xlabel('iterations')\n",
        "ax3.set_ylabel('accuracy')\n",
        "\n",
        "plt.tight_layout()\n",
        "plt.show()"
      ],
      "metadata": {
        "colab": {
          "base_uri": "https://localhost:8080/",
          "height": 287
        },
        "id": "dcNhLa5GjNM0",
        "outputId": "12f9f197-9298-4e24-d5c7-a7cdc6d7f5e3"
      },
      "execution_count": 33,
      "outputs": [
        {
          "output_type": "display_data",
          "data": {
            "image/png": "[encoded data removed]",
            "text/plain": [
              "<Figure size 1152x288 with 3 Axes>"
            ]
          },
          "metadata": {
            "needs_background": "light"
          }
        }
      ]
    },
    {
      "cell_type": "markdown",
      "source": [
        "### **[Problem 4] Creating a model of House Prices**"
      ],
      "metadata": {
        "id": "ACc5fsSv5VEE"
      }
    },
    {
      "cell_type": "markdown",
      "source": [
        "Since this is an regression problem, we do not actually need to measure the accuracy"
      ],
      "metadata": {
        "id": "lvdbtGdA66F-"
      }
    },
    {
      "cell_type": "code",
      "source": [
        "df = pd.read_csv(\"sample_data/train.csv\")\n",
        "#Condition extraction from data frame\n",
        "y = df[\"SalePrice\"]\n",
        "X = df.loc[:, [\"GrLivArea\", \"YearBuilt\"]]\n",
        "y = np.log(np.array(y).reshape(-1, 1))\n",
        "X = np.array(X).astype(np.float32)\n",
        "#Split into train and test\n",
        "X_train, X_test, y_train, y_test = train_test_split(X, y, test_size=0.2, random_state=0)\n",
        "# さらにtrainとvalに分割\n",
        "X_train, X_val, y_train, y_val = train_test_split(X_train, y_train, test_size=0.2, random_state=0)"
      ],
      "metadata": {
        "id": "rIjPJjL65WLa"
      },
      "execution_count": 34,
      "outputs": []
    },
    {
      "cell_type": "code",
      "source": [
        "# Hyperparameter settings\n",
        "learning_rate = 0.001\n",
        "batch_size = 10\n",
        "num_epochs = 50\n",
        "n_hidden1 = 50\n",
        "n_hidden2 = 100\n",
        "n_input = X_train.shape[1]\n",
        "n_samples = X_train.shape[0]\n",
        "n_classes = 1\n",
        "# train mini batch iterator\n",
        "get_mini_batch_train = GetMiniBatch(X_train, y_train, batch_size=batch_size)\n",
        "\n",
        "class HousingModel(tf.keras.Model):\n",
        "    \"\"\"\n",
        "    Simple 3-layer multi-classification neural network\n",
        "    \"\"\"\n",
        "    def __init__(self):\n",
        "      super().__init__()\n",
        "      # Declaration of weight\n",
        "      self.w1 = tf.Variable(tf.random.normal([n_input, n_hidden1]), trainable=True)\n",
        "      self.w2 = tf.Variable(tf.random.normal([n_hidden1, n_hidden2]), trainable=True)\n",
        "      self.w3 =  tf.Variable(tf.random.normal([n_hidden2, n_classes]), trainable=True)\n",
        "      # Declaration of bias\n",
        "      self.b1 = tf.Variable(tf.random.normal([n_hidden1]), trainable=True)\n",
        "      self.b2 = tf.Variable(tf.random.normal([n_hidden2]), trainable=True)\n",
        "      self.b3 = tf.Variable(tf.random.normal([n_classes]), trainable=True)\n",
        "      \n",
        "    def call(self, x):\n",
        "      \"\"\"\n",
        "      Fit the train dataset into the model's dataflow\n",
        "      \"\"\"\n",
        "      layer_1 = tf.add(tf.matmul(x, self.w1), self.b1)\n",
        "      layer_1 = tf.nn.relu(layer_1)\n",
        "      layer_2 = tf.add(tf.matmul(layer_1, self.w2), self.b2)\n",
        "      layer_2 = tf.nn.relu(layer_2)\n",
        "      layer_output = tf.matmul(layer_2, self.w3) + self.b3\n",
        "\n",
        "      return layer_output\n",
        "\n",
        "\n",
        "#Read network structure                              \n",
        "model = HousingModel()\n",
        "optimizer = tf.optimizers.Adam(learning_rate=learning_rate)\n",
        "\n",
        "# Train function\n",
        "def train(x, y):\n",
        "  # Fit the train dataset into the model\n",
        "  logits = model(x, training=True)\n",
        "  # Objective function\n",
        "  loss = tf.reduce_mean(tf.losses.mean_squared_error(y, logits))\n",
        "\n",
        "  return loss\n",
        "\n",
        "def evaluate(x, y):\n",
        "  # Fit the validation dataset into the model\n",
        "  logits = model(x)\n",
        "  # Objective function\n",
        "  loss = tf.reduce_mean(tf.losses.mean_squared_error(y, logits))\n",
        "\n",
        "  return loss\n",
        "\n",
        "train_loss_list = list()\n",
        "val_loss_list = list()\n",
        "\n",
        "#Run calculation graph\n",
        "for epoch in range(num_epochs):\n",
        "    for i, (mini_batch_x, mini_batch_y) in enumerate(get_mini_batch_train):\n",
        "        with tf.GradientTape() as tape:\n",
        "            loss = train(mini_batch_x, mini_batch_y)\n",
        "                         \n",
        "        grads = tape.gradient(loss, model.trainable_weights)\n",
        "        optimizer.apply_gradients(zip(grads, model.trainable_weights))\n",
        "\n",
        "    loss = evaluate(X_train, y_train)\n",
        "    train_loss_list.append(loss)\n",
        "    val_loss = evaluate(X_val, y_val)\n",
        "    val_loss_list.append(val_loss)\n",
        "    print(\"Epoch {}, loss : {:.4f}, val_loss : {:.4f}\".format(epoch, loss, val_loss))\n",
        "    \n",
        "test_loss = evaluate(X_test, y_test)\n",
        "print(\"test_loss : {:.3f}\".format(test_loss))"
      ],
      "metadata": {
        "colab": {
          "base_uri": "https://localhost:8080/"
        },
        "id": "uQC9_aMd54Ww",
        "outputId": "d53a7ae6-5020-4c04-9c7e-d472f5df7b44"
      },
      "execution_count": 39,
      "outputs": [
        {
          "output_type": "stream",
          "name": "stdout",
          "text": [
            "Epoch 0, loss : 10313022.0000, val_loss : 5575881.0000\n",
            "Epoch 1, loss : 3837397.5000, val_loss : 1443196.1250\n",
            "Epoch 2, loss : 1615059.5000, val_loss : 360551.1250\n",
            "Epoch 3, loss : 733681.9375, val_loss : 103096.0156\n",
            "Epoch 4, loss : 393912.7812, val_loss : 55785.6562\n",
            "Epoch 5, loss : 237253.0938, val_loss : 48794.1680\n",
            "Epoch 6, loss : 160417.1406, val_loss : 51554.6172\n",
            "Epoch 7, loss : 128755.5625, val_loss : 52194.3320\n",
            "Epoch 8, loss : 109381.9609, val_loss : 53912.6328\n",
            "Epoch 9, loss : 94740.6250, val_loss : 52887.0820\n",
            "Epoch 10, loss : 82432.7734, val_loss : 50018.0273\n",
            "Epoch 11, loss : 71533.6562, val_loss : 45933.8750\n",
            "Epoch 12, loss : 61966.4727, val_loss : 41677.6523\n",
            "Epoch 13, loss : 54229.4414, val_loss : 37587.4023\n",
            "Epoch 14, loss : 47837.1250, val_loss : 33692.5000\n",
            "Epoch 15, loss : 42036.7148, val_loss : 29965.9863\n",
            "Epoch 16, loss : 37592.3945, val_loss : 26374.4590\n",
            "Epoch 17, loss : 34540.3555, val_loss : 23088.4258\n",
            "Epoch 18, loss : 31449.1426, val_loss : 20330.9375\n",
            "Epoch 19, loss : 28908.8965, val_loss : 18120.1543\n",
            "Epoch 20, loss : 26850.0312, val_loss : 16380.5479\n",
            "Epoch 21, loss : 24441.9531, val_loss : 14472.5752\n",
            "Epoch 22, loss : 22167.2266, val_loss : 12818.9873\n",
            "Epoch 23, loss : 19686.7910, val_loss : 11148.1777\n",
            "Epoch 24, loss : 17072.7930, val_loss : 9353.8320\n",
            "Epoch 25, loss : 14701.1797, val_loss : 7939.4360\n",
            "Epoch 26, loss : 13030.7881, val_loss : 7250.1567\n",
            "Epoch 27, loss : 12130.5078, val_loss : 7348.0967\n",
            "Epoch 28, loss : 11632.5342, val_loss : 7752.6382\n",
            "Epoch 29, loss : 11066.7148, val_loss : 7889.1025\n",
            "Epoch 30, loss : 10030.8008, val_loss : 7332.2900\n",
            "Epoch 31, loss : 8598.3857, val_loss : 6265.0728\n",
            "Epoch 32, loss : 7129.3452, val_loss : 5097.3862\n",
            "Epoch 33, loss : 5917.0273, val_loss : 4240.3794\n",
            "Epoch 34, loss : 5017.3105, val_loss : 3665.7979\n",
            "Epoch 35, loss : 4285.9585, val_loss : 3256.1868\n",
            "Epoch 36, loss : 3746.5947, val_loss : 2935.8003\n",
            "Epoch 37, loss : 3414.3088, val_loss : 2775.2097\n",
            "Epoch 38, loss : 3109.9695, val_loss : 2643.7397\n",
            "Epoch 39, loss : 2929.0466, val_loss : 2576.1482\n",
            "Epoch 40, loss : 2680.1946, val_loss : 2390.8945\n",
            "Epoch 41, loss : 2223.0559, val_loss : 1992.1858\n",
            "Epoch 42, loss : 1718.9802, val_loss : 1569.0668\n",
            "Epoch 43, loss : 1499.4958, val_loss : 1480.5455\n",
            "Epoch 44, loss : 1539.5939, val_loss : 1683.5623\n",
            "Epoch 45, loss : 1756.4694, val_loss : 2092.3638\n",
            "Epoch 46, loss : 1799.7958, val_loss : 2268.7021\n",
            "Epoch 47, loss : 1925.3439, val_loss : 2516.5789\n",
            "Epoch 48, loss : 1982.0552, val_loss : 2679.8184\n",
            "Epoch 49, loss : 2188.5972, val_loss : 2957.1511\n",
            "test_loss : 1415460.750\n"
          ]
        }
      ]
    },
    {
      "cell_type": "code",
      "source": [
        "plt.rcParams['font.size'] = 15\n",
        "fig = plt.figure(figsize=(8,6))\n",
        "\n",
        "ax1 = fig.add_subplot(1, 1, 1)   \n",
        "ax1.plot(train_loss_list, label='train_loss')\n",
        "ax1.plot(val_loss_list, label='val_loss')\n",
        "ax1.set_title('train loss')\n",
        "ax1.set_xlabel('iterations')\n",
        "ax1.set_ylabel('train loss')\n",
        "\n",
        "plt.legend()\n",
        "plt.tight_layout()\n",
        "plt.show()"
      ],
      "metadata": {
        "colab": {
          "base_uri": "https://localhost:8080/",
          "height": 430
        },
        "id": "seA5Bdf17UzX",
        "outputId": "fc574f06-5db6-4788-d411-e2634c267de1"
      },
      "execution_count": 42,
      "outputs": [
        {
          "output_type": "display_data",
          "data": {
            "image/png": "[encoded data removed]",
            "text/plain": [
              "<Figure size 576x432 with 1 Axes>"
            ]
          },
          "metadata": {
            "needs_background": "light"
          }
        }
      ]
    },
    {
      "cell_type": "markdown",
      "source": [
        "### **[Problem 5] Creating a MNIST model**"
      ],
      "metadata": {
        "id": "_LJxJ0zD7vWH"
      }
    },
    {
      "cell_type": "code",
      "metadata": {
        "id": "ODYZeFQ3t65C",
        "colab": {
          "base_uri": "https://localhost:8080/"
        },
        "outputId": "d3e6ff8a-56e7-4107-8da0-0fee5307af92"
      },
      "source": [
        "from keras.datasets import mnist\n",
        "(X_train, y_train), (X_test, y_test) = mnist.load_data()"
      ],
      "execution_count": 43,
      "outputs": [
        {
          "output_type": "stream",
          "name": "stdout",
          "text": [
            "Downloading data from https://storage.googleapis.com/tensorflow/tf-keras-datasets/mnist.npz\n",
            "11493376/11490434 [==============================] - 0s 0us/step\n",
            "11501568/11490434 [==============================] - 0s 0us/step\n"
          ]
        }
      ]
    },
    {
      "cell_type": "code",
      "metadata": {
        "id": "Vrzmqf26t932",
        "colab": {
          "base_uri": "https://localhost:8080/"
        },
        "outputId": "3e53912f-a539-4dc0-e4bd-e196b22f7055"
      },
      "source": [
        "print(X_train.shape) # (60000, 28, 28)\n",
        "print(y_train.shape) # (10000, 28, 28)\n",
        "print(X_test.shape) # (10000, 28, 28)\n",
        "print(y_test.shape)\n",
        "print(X_train[0].dtype) # uint8"
      ],
      "execution_count": 44,
      "outputs": [
        {
          "output_type": "stream",
          "name": "stdout",
          "text": [
            "(60000, 28, 28)\n",
            "(60000,)\n",
            "(10000, 28, 28)\n",
            "(10000,)\n",
            "uint8\n"
          ]
        }
      ]
    },
    {
      "cell_type": "markdown",
      "metadata": {
        "id": "wR3PLEXruO64"
      },
      "source": [
        "**Visualization**"
      ]
    },
    {
      "cell_type": "code",
      "metadata": {
        "colab": {
          "base_uri": "https://localhost:8080/",
          "height": 282
        },
        "id": "o7Vfb9qTuOaf",
        "outputId": "59a60e5b-159a-4966-d85c-d75b011aa8f0"
      },
      "source": [
        "%matplotlib inline\n",
        "index = 0\n",
        "image = X_train[index].reshape(28,28)\n",
        "# X_train[index]: (784,)\n",
        "# image: (28, 28)\n",
        "plt.imshow(image, 'gray')\n",
        "plt.title('label : {}'.format(y_train[index]))\n",
        "plt.show()"
      ],
      "execution_count": 45,
      "outputs": [
        {
          "output_type": "display_data",
          "data": {
            "image/png": "[encoded data removed]",
            "text/plain": [
              "<Figure size 432x288 with 1 Axes>"
            ]
          },
          "metadata": {
            "needs_background": "light"
          }
        }
      ]
    },
    {
      "cell_type": "markdown",
      "metadata": {
        "id": "ZSAGU3J2utWE"
      },
      "source": [
        "**Preprocessing**"
      ]
    },
    {
      "cell_type": "code",
      "source": [
        "import numpy as np\n",
        "from sklearn.model_selection import train_test_split\n",
        "from sklearn.preprocessing import OneHotEncoder\n",
        "from keras.datasets import mnist\n",
        "from sklearn.metrics import accuracy_score"
      ],
      "metadata": {
        "id": "nBKGgl49M5Rw"
      },
      "execution_count": 46,
      "outputs": []
    },
    {
      "cell_type": "code",
      "source": [
        "X_train = X_train.reshape(-1, 784)\n",
        "X_test = X_test.reshape(-1, 784)\n",
        "\n",
        "X_train = X_train.astype(np.float)\n",
        "X_test = X_test.astype(np.float)\n",
        "X_train = X_train / 255.0\n",
        "X_test = X_test / 255.0\n",
        "\n",
        "enc = OneHotEncoder(handle_unknown='ignore', sparse=False)\n",
        "y_train_one_hot = enc.fit_transform(y_train[:, np.newaxis])\n",
        "y_test_one_hot = enc.transform(y_test[:, np.newaxis])\n",
        "\n",
        "X_train, X_val, y_train, y_val = train_test_split(X_train, y_train_one_hot, test_size=0.2)\n",
        "\n",
        "print(X_train.shape)\n",
        "print(X_test.shape)"
      ],
      "metadata": {
        "colab": {
          "base_uri": "https://localhost:8080/"
        },
        "id": "ipclmDklcKWm",
        "outputId": "beeca53f-fa8b-45cf-ac71-c6f3fa41c648"
      },
      "execution_count": 47,
      "outputs": [
        {
          "output_type": "stream",
          "name": "stdout",
          "text": [
            "(48000, 784)\n",
            "(10000, 784)\n"
          ]
        }
      ]
    },
    {
      "cell_type": "code",
      "source": [
        "# Hyperparameter settings\n",
        "learning_rate = 0.01\n",
        "batch_size = 20\n",
        "num_epochs = 20\n",
        "n_hidden1 = 50\n",
        "n_hidden2 = 100\n",
        "n_input = X_train.shape[1]\n",
        "n_samples = X_train.shape[0]\n",
        "n_classes = 10\n",
        "# train mini batch iterator\n",
        "get_mini_batch_train = GetMiniBatch(X_train, y_train, batch_size=batch_size)\n",
        "\n",
        "class MNISTModel(tf.keras.Model):\n",
        "    \"\"\"\n",
        "    Simple 3-layer multi-classification neural network\n",
        "    \"\"\"\n",
        "    def __init__(self):\n",
        "      super().__init__()\n",
        "      # Declaration of weight\n",
        "      self.w1 = tf.Variable(tf.random.normal([n_input, n_hidden1]), trainable=True)\n",
        "      self.w2 = tf.Variable(tf.random.normal([n_hidden1, n_hidden2]), trainable=True)\n",
        "      self.w3 =  tf.Variable(tf.random.normal([n_hidden2, n_classes]), trainable=True)\n",
        "      # Declaration of bias\n",
        "      self.b1 = tf.Variable(tf.random.normal([n_hidden1]), trainable=True)\n",
        "      self.b2 = tf.Variable(tf.random.normal([n_hidden2]), trainable=True)\n",
        "      self.b3 = tf.Variable(tf.random.normal([n_classes]), trainable=True)\n",
        "      \n",
        "    def call(self, x):\n",
        "      \"\"\"\n",
        "      Fit the train dataset into the model's dataflow\n",
        "      \"\"\"\n",
        "      layer_1 = tf.add(tf.matmul(x, self.w1), self.b1)\n",
        "      layer_1 = tf.nn.relu(layer_1)\n",
        "      layer_2 = tf.add(tf.matmul(layer_1, self.w2), self.b2)\n",
        "      layer_2 = tf.nn.relu(layer_2)\n",
        "      layer_output = tf.matmul(layer_2, self.w3) + self.b3\n",
        "\n",
        "      return layer_output\n",
        "\n",
        "\n",
        "#Read network structure                              \n",
        "model = MNISTModel()\n",
        "optimizer = tf.optimizers.Adagrad(learning_rate=learning_rate)\n",
        "\n",
        "# Train function\n",
        "def train(x, y):\n",
        "  # Fit the train dataset into the model\n",
        "  logits = model(x, training=True)\n",
        "  # Objective function\n",
        "  loss = tf.reduce_mean(tf.nn.softmax_cross_entropy_with_logits(y, logits))\n",
        "\n",
        "  return loss\n",
        "\n",
        "def evaluate(x, y):\n",
        "  # Fit the validation dataset into the model\n",
        "  logits = model(x)\n",
        "  # Objective function\n",
        "  loss = tf.reduce_mean(tf.nn.softmax_cross_entropy_with_logits(y, logits))\n",
        "  # Estimated result\n",
        "  correct_pred = tf.equal(tf.argmax(y, 1), tf.argmax(logits, 1))\n",
        "  # Indicator value calculation\n",
        "  accuracy = tf.reduce_mean(tf.cast(correct_pred, tf.float32))\n",
        "\n",
        "  return loss, accuracy\n",
        "\n",
        "train_loss_list = list()\n",
        "val_loss_list = list()\n",
        "val_acc_list = list()\n",
        "\n",
        "#Run calculation graph\n",
        "for epoch in range(num_epochs):\n",
        "    for i, (mini_batch_x, mini_batch_y) in enumerate(get_mini_batch_train):\n",
        "        with tf.GradientTape() as tape:\n",
        "            loss = train(mini_batch_x, mini_batch_y)\n",
        "                         \n",
        "        grads = tape.gradient(loss, model.trainable_weights)\n",
        "        optimizer.apply_gradients(zip(grads, model.trainable_weights))\n",
        "        total_loss += loss\n",
        "\n",
        "    loss = total_loss / n_samples\n",
        "    val_loss, val_acc = evaluate(X_val, y_val)\n",
        "\n",
        "    # History record\n",
        "    train_loss_list.append(loss)\n",
        "    val_loss_list.append(val_loss)\n",
        "    val_acc_list.append(val_acc)\n",
        "\n",
        "    print(\"Epoch {}, loss : {:.4f}, val_loss : {:.4f}, val_acc : {:.3f}\".format(epoch, loss, val_loss, val_acc))\n",
        "    \n",
        "_, test_acc = evaluate(X_test, y_test_one_hot)\n",
        "print(\"test_acc : {:.3f}\".format(test_acc))"
      ],
      "metadata": {
        "colab": {
          "base_uri": "https://localhost:8080/"
        },
        "id": "xPiZ8Kgw8o5o",
        "outputId": "25525275-0b27-4bb0-f729-f94d847a468f"
      },
      "execution_count": 51,
      "outputs": [
        {
          "output_type": "stream",
          "name": "stdout",
          "text": [
            "Epoch 0, loss : 22.9094, val_loss : 19.1745, val_acc : 0.665\n",
            "Epoch 1, loss : 23.7258, val_loss : 14.5815, val_acc : 0.703\n",
            "Epoch 2, loss : 24.3778, val_loss : 12.4521, val_acc : 0.718\n",
            "Epoch 3, loss : 24.9394, val_loss : 11.1405, val_acc : 0.731\n",
            "Epoch 4, loss : 25.4406, val_loss : 10.2278, val_acc : 0.740\n",
            "Epoch 5, loss : 25.8984, val_loss : 9.5185, val_acc : 0.746\n",
            "Epoch 6, loss : 26.3223, val_loss : 8.9441, val_acc : 0.748\n",
            "Epoch 7, loss : 26.7192, val_loss : 8.4764, val_acc : 0.753\n",
            "Epoch 8, loss : 27.0937, val_loss : 8.0810, val_acc : 0.757\n",
            "Epoch 9, loss : 27.4492, val_loss : 7.7366, val_acc : 0.759\n",
            "Epoch 10, loss : 27.7883, val_loss : 7.4325, val_acc : 0.762\n",
            "Epoch 11, loss : 28.1130, val_loss : 7.1698, val_acc : 0.765\n",
            "Epoch 12, loss : 28.4252, val_loss : 6.9402, val_acc : 0.767\n",
            "Epoch 13, loss : 28.7261, val_loss : 6.7318, val_acc : 0.770\n",
            "Epoch 14, loss : 29.0166, val_loss : 6.5412, val_acc : 0.771\n",
            "Epoch 15, loss : 29.2977, val_loss : 6.3659, val_acc : 0.773\n",
            "Epoch 16, loss : 29.5701, val_loss : 6.2061, val_acc : 0.775\n",
            "Epoch 17, loss : 29.8345, val_loss : 6.0579, val_acc : 0.776\n",
            "Epoch 18, loss : 30.0915, val_loss : 5.9182, val_acc : 0.778\n",
            "Epoch 19, loss : 30.3416, val_loss : 5.7883, val_acc : 0.778\n",
            "test_acc : 0.783\n"
          ]
        }
      ]
    },
    {
      "cell_type": "code",
      "source": [
        "import matplotlib.pyplot as plt\n",
        "%matplotlib inline\n",
        "\n",
        "plt.rcParams['font.size'] = 15\n",
        "fig = plt.figure(figsize=(16,4))\n",
        "\n",
        "ax1 = fig.add_subplot(1, 3, 1)   \n",
        "ax1.plot(train_loss_list)\n",
        "ax1.set_title('train loss')\n",
        "ax1.set_xlabel('iterations')\n",
        "ax1.set_ylabel('train loss')\n",
        "\n",
        "\n",
        "ax2 = fig.add_subplot(1, 3, 2)  \n",
        "ax2.plot(val_loss_list, color='red')\n",
        "ax2.set_title('test loss')\n",
        "ax2.set_xlabel('iterations')\n",
        "ax2.set_ylabel('test loss')\n",
        "\n",
        "ax3 = fig.add_subplot(1, 3, 3)  \n",
        "ax3.plot(val_acc_list, color='red')\n",
        "ax3.set_title('accuracy')\n",
        "ax3.set_xlabel('iterations')\n",
        "ax3.set_ylabel('accuracy')\n",
        "\n",
        "plt.tight_layout()\n",
        "plt.show()"
      ],
      "metadata": {
        "colab": {
          "base_uri": "https://localhost:8080/",
          "height": 287
        },
        "id": "71VqW6ha-usG",
        "outputId": "35b48aac-edfd-49c4-a831-b9a15dbac041"
      },
      "execution_count": 52,
      "outputs": [
        {
          "output_type": "display_data",
          "data": {
            "image/png": "[encoded data removed]",
            "text/plain": [
              "<Figure size 1152x288 with 3 Axes>"
            ]
          },
          "metadata": {
            "needs_background": "light"
          }
        }
      ]
    }
  ]
}