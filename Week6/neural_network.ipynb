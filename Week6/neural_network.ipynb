{
  "nbformat": 4,
  "nbformat_minor": 0,
  "metadata": {
    "colab": {
      "name": "neural_network.ipynb",
      "provenance": [],
      "collapsed_sections": [],
      "toc_visible": true
    },
    "kernelspec": {
      "name": "python3",
      "display_name": "Python 3"
    },
    "language_info": {
      "name": "python"
    }
  },
  "cells": [
    {
      "cell_type": "markdown",
      "metadata": {
        "id": "EQ9oEAn43Wnk"
      },
      "source": [
        "# **DIVE INTO CODE COURSE**\n",
        "## **Sprint Deep Learning - Neural Network**\n",
        "**Student Name**: Doan Anh Tien<br>\n",
        "**Student ID**: 1852789<br>\n",
        "**Email**: tien.doan.g0pr0@hcmut.edu.vn"
      ]
    },
    {
      "cell_type": "code",
      "metadata": {
        "id": "XJt2HavErNQs"
      },
      "source": [
        "import matplotlib.pyplot as plt\n",
        "import pandas as pd\n",
        "import numpy as np\n",
        "import math\n",
        "import seaborn as sns\n",
        "import random\n",
        "from math import log2"
      ],
      "execution_count": 1,
      "outputs": []
    },
    {
      "cell_type": "markdown",
      "metadata": {
        "id": "lGSi5Umwt5F5"
      },
      "source": [
        "**Dataset Preparation**"
      ]
    },
    {
      "cell_type": "code",
      "metadata": {
        "id": "ODYZeFQ3t65C",
        "colab": {
          "base_uri": "https://localhost:8080/"
        },
        "outputId": "fb780d9a-a063-4f44-e5af-14551c9d391c"
      },
      "source": [
        "from keras.datasets import mnist\n",
        "(X_train, y_train), (X_test, y_test) = mnist.load_data()"
      ],
      "execution_count": 2,
      "outputs": [
        {
          "output_type": "stream",
          "text": [
            "Downloading data from https://storage.googleapis.com/tensorflow/tf-keras-datasets/mnist.npz\n",
            "11493376/11490434 [==============================] - 0s 0us/step\n",
            "11501568/11490434 [==============================] - 0s 0us/step\n"
          ],
          "name": "stdout"
        }
      ]
    },
    {
      "cell_type": "code",
      "metadata": {
        "id": "Vrzmqf26t932"
      },
      "source": [
        "print(X_train.shape) # (60000, 28, 28)\n",
        "print(y_train.shape) # (10000, 28, 28)\n",
        "print(X_test.shape) # (10000, 28, 28)\n",
        "print(y_test.shape)\n",
        "print(X_train[0].dtype) # uint8"
      ],
      "execution_count": null,
      "outputs": []
    },
    {
      "cell_type": "markdown",
      "metadata": {
        "id": "DAFw2fEquDzK"
      },
      "source": [
        "**Smoothing**"
      ]
    },
    {
      "cell_type": "code",
      "metadata": {
        "id": "VTnKI_5GuE1C"
      },
      "source": [
        "X_train = X_train.reshape(-1, 784)\n",
        "X_test = X_test.reshape(-1, 784)"
      ],
      "execution_count": 4,
      "outputs": []
    },
    {
      "cell_type": "markdown",
      "metadata": {
        "id": "wR3PLEXruO64"
      },
      "source": [
        "**Visualization**"
      ]
    },
    {
      "cell_type": "code",
      "metadata": {
        "colab": {
          "base_uri": "https://localhost:8080/",
          "height": 281
        },
        "id": "o7Vfb9qTuOaf",
        "outputId": "0b08374f-576f-4b35-ce6a-0534b7c01923"
      },
      "source": [
        "import matplotlib.pyplot as plt\n",
        "%matplotlib inline\n",
        "index = 0\n",
        "image = X_train[index].reshape(28,28)\n",
        "# X_train[index]: (784,)\n",
        "# image: (28, 28)\n",
        "plt.imshow(image, 'gray')\n",
        "plt.title('label : {}'.format(y_train[index]))\n",
        "plt.show()"
      ],
      "execution_count": 7,
      "outputs": [
        {
          "output_type": "display_data",
          "data": {
            "image/png": "[encoded data removed]",
            "text/plain": [
              "<Figure size 432x288 with 1 Axes>"
            ]
          },
          "metadata": {
            "tags": [],
            "needs_background": "light"
          }
        }
      ]
    },
    {
      "cell_type": "markdown",
      "metadata": {
        "id": "ZSAGU3J2utWE"
      },
      "source": [
        "**Preprocessing**"
      ]
    },
    {
      "cell_type": "code",
      "metadata": {
        "colab": {
          "base_uri": "https://localhost:8080/"
        },
        "id": "5B06pBd4uu7l",
        "outputId": "dc54629c-65e9-4205-b312-5c93dab88d2e"
      },
      "source": [
        "X_train = X_train.astype(np.float)\n",
        "X_test = X_test.astype(np.float)\n",
        "X_train /= 255\n",
        "X_test /= 255\n",
        "print(X_train.max()) # 1.0\n",
        "print(X_train.min()) # 0.0"
      ],
      "execution_count": 8,
      "outputs": [
        {
          "output_type": "stream",
          "text": [
            "1.0\n",
            "0.0\n"
          ],
          "name": "stdout"
        }
      ]
    },
    {
      "cell_type": "code",
      "metadata": {
        "colab": {
          "base_uri": "https://localhost:8080/"
        },
        "id": "5QCEvHdpvFUz",
        "outputId": "f394303f-631c-4706-bdf2-f6f291a3f850"
      },
      "source": [
        "from sklearn.preprocessing import OneHotEncoder\n",
        "enc = OneHotEncoder(handle_unknown='ignore', sparse=False)\n",
        "y_train_one_hot = enc.fit_transform(y_train[:, np.newaxis])\n",
        "y_test_one_hot = enc.transform(y_test[:, np.newaxis])\n",
        "print(\"Original label: {}\".format(y_train.shape)) # (60000,)\n",
        "print(\"One hot train label: {}\".format(y_train_one_hot.shape)) # (60000, 10)\n",
        "print(\"One hot test label: {}\".format(y_test_one_hot.shape))"
      ],
      "execution_count": 9,
      "outputs": [
        {
          "output_type": "stream",
          "text": [
            "Original label: (60000,)\n",
            "One hot train label: (60000, 10)\n",
            "One hot test label: (10000, 10)\n"
          ],
          "name": "stdout"
        }
      ]
    },
    {
      "cell_type": "code",
      "metadata": {
        "id": "Jek6elgT3Vh9"
      },
      "source": [
        "def one_hot(y):\n",
        "    C = np.unique(y).size\n",
        "    y_hot = np.eye(C)[:,y.reshape(-1)]\n",
        "    \n",
        "    return y_hot"
      ],
      "execution_count": 10,
      "outputs": []
    },
    {
      "cell_type": "code",
      "metadata": {
        "id": "oK0jAWUywNVb"
      },
      "source": [
        "X_train = X_train.T\n",
        "X_test = X_test.T\n",
        "y_train_one_hot = y_train_one_hot.T\n",
        "y_test_one_hot = y_test_one_hot.T"
      ],
      "execution_count": 11,
      "outputs": []
    },
    {
      "cell_type": "code",
      "metadata": {
        "colab": {
          "base_uri": "https://localhost:8080/"
        },
        "id": "hJeSWw_lvJD7",
        "outputId": "42049c81-0819-4627-85f1-82d9957f8d2c"
      },
      "source": [
        "#from sklearn.model_selection import train_test_split\n",
        "#X_train, X_val, y_train_one_hot, y_val_one_hot = train_test_split(X_train, y_train_one_hot, test_size=0.2)\n",
        "print(X_train.shape) # (48000, 784)\n",
        "print(X_test.shape) # (12000, 784)\n",
        "print(y_train_one_hot.shape)\n",
        "print(y_test_one_hot.shape)"
      ],
      "execution_count": 12,
      "outputs": [
        {
          "output_type": "stream",
          "text": [
            "(784, 60000)\n",
            "(784, 10000)\n",
            "(10, 60000)\n",
            "(10, 10000)\n"
          ],
          "name": "stdout"
        }
      ]
    },
    {
      "cell_type": "markdown",
      "metadata": {
        "id": "tkkuRv7or0BF"
      },
      "source": [
        "### **[Problem 1 2 3 4] Initialize Weight, Forward Propagation, Cross Entropy Error, Backward Propagation**"
      ]
    },
    {
      "cell_type": "code",
      "metadata": {
        "id": "A3NN6xrIsOAw"
      },
      "source": [
        "def GetMiniBatch(X, Y, batch_size):\n",
        "    \"\"\"\n",
        "Iterator to get a mini-batch\n",
        "    Parameters\n",
        "    ----------\n",
        "    X : The following forms of ndarray, shape (n_samples, n_features)\n",
        "      Training data\n",
        "    y : The following form of ndarray, shape (n_samples, 1)\n",
        "      Correct answer value\n",
        "    batch_size : int\n",
        "      Batch size\n",
        "    seed : int\n",
        "      NumPy random number seed\n",
        "    \"\"\"\n",
        "    mini_batches = []\n",
        "    m = X.shape[1]\n",
        "    # Shuffle\n",
        "    permute = np.random.permutation(m)\n",
        "    X = X[:,permute]\n",
        "    Y = Y[:,permute]\n",
        "    \n",
        "    # Partition\n",
        "    complete_batches = math.floor(m/batch_size)\n",
        "    for k in range(complete_batches):\n",
        "        batch_X = X[:,k*batch_size:(k+1)*batch_size]\n",
        "        batch_Y = Y[:,k*batch_size:(k+1)*batch_size]\n",
        "        batch = (batch_X,batch_Y)\n",
        "        mini_batches.append(batch)\n",
        "        \n",
        "    # Handling the end case\n",
        "    if m % batch_size != 0:\n",
        "        batch_X = X[:,(k+1)*batch_size:]\n",
        "        batch_Y = Y[:,(k+1)*batch_size:]\n",
        "        batch = (batch_X,batch_Y)\n",
        "        mini_batches.append(batch)\n",
        "        \n",
        "    return mini_batches"
      ],
      "execution_count": 13,
      "outputs": []
    },
    {
      "cell_type": "markdown",
      "metadata": {
        "id": "LdGbkpGE9iLf"
      },
      "source": [
        "**Initialize Weight**"
      ]
    },
    {
      "cell_type": "markdown",
      "metadata": {
        "id": "MumUXaNr9lkd"
      },
      "source": [
        "Despite the assignment indicates the number of layer is 3, I manage to modify the weight initialization into flexible module, in which it can assign the weight and bias in any layer structure we want. Thus, after completing the neural network class, I can evaluate in any different settings and compare the results between models."
      ]
    },
    {
      "cell_type": "code",
      "metadata": {
        "colab": {
          "base_uri": "https://localhost:8080/"
        },
        "id": "ozNJMVPs3-8u",
        "outputId": "ca0cdf9c-a154-474e-9d9c-ebe69b36d8e7"
      },
      "source": [
        "layers = [10, 5, 3, 1]\n",
        "n_features = 5\n",
        "sigma = 0.01\n",
        "params = {}\n",
        "\n",
        "for l in range(1, len(layers)):\n",
        "\n",
        "    params['W' + str(l)] = sigma * np.random.randn(layers[l], layers[l-1])\n",
        "    params['b' + str(l)] = sigma * np.random.randn(layers[l],1)\n",
        "\n",
        "params"
      ],
      "execution_count": 14,
      "outputs": [
        {
          "output_type": "execute_result",
          "data": {
            "text/plain": [
              "{'W1': array([[-1.02942437e-02,  2.51488558e-05, -1.22311115e-02,\n",
              "          4.02791787e-03,  1.48459389e-02, -4.23937203e-03,\n",
              "          4.78501932e-03,  1.71763214e-03, -1.13576512e-02,\n",
              "         -1.57892990e-03],\n",
              "        [ 9.73481536e-03, -6.71184248e-03,  3.12591901e-02,\n",
              "         -1.72874321e-02,  1.52738882e-04, -6.25787702e-04,\n",
              "          1.35457626e-02, -5.37659177e-03, -2.61984111e-03,\n",
              "         -5.40256945e-03],\n",
              "        [-5.30508256e-03, -6.58071860e-04, -1.10054637e-02,\n",
              "         -1.44483303e-02,  8.51933659e-03,  1.61367252e-02,\n",
              "          4.20068730e-03, -5.23798723e-04,  8.16348900e-06,\n",
              "         -9.23977785e-04],\n",
              "        [-9.11767905e-03,  1.52869694e-02, -2.03690650e-02,\n",
              "          3.56285457e-03,  2.90731017e-03,  1.77379352e-02,\n",
              "         -4.52532147e-03,  2.23346637e-03,  2.38879021e-06,\n",
              "          3.46387020e-03],\n",
              "        [ 2.77863694e-03,  1.22252268e-03, -3.09338688e-02,\n",
              "         -7.95821894e-03,  2.58378483e-02, -4.40755317e-03,\n",
              "         -9.83410873e-03,  1.40680890e-02,  4.83714958e-03,\n",
              "          3.24525799e-03]]),\n",
              " 'W2': array([[ 0.00517954,  0.01778268, -0.00349464,  0.00816449, -0.01791267],\n",
              "        [ 0.00545097, -0.00062257,  0.00039939,  0.00562663, -0.01519621],\n",
              "        [-0.00026102, -0.0115364 ,  0.00603199,  0.02615175, -0.00313966]]),\n",
              " 'W3': array([[-0.0060759 ,  0.01091237,  0.01374338]]),\n",
              " 'b1': array([[ 0.00421557],\n",
              "        [-0.00090576],\n",
              "        [ 0.00953008],\n",
              "        [ 0.00089838],\n",
              "        [-0.00978726]]),\n",
              " 'b2': array([[-0.00578282],\n",
              "        [ 0.00227   ],\n",
              "        [ 0.02197369]]),\n",
              " 'b3': array([[-0.00455025]])}"
            ]
          },
          "metadata": {
            "tags": []
          },
          "execution_count": 14
        }
      ]
    },
    {
      "cell_type": "code",
      "metadata": {
        "id": "611_SR4mrzVm"
      },
      "source": [
        "class ScratchSimpleNeuralNetrowkClassifier():\n",
        "    \"\"\"\n",
        "    Simple three-layer neural network classifier\n",
        "    Parameters\n",
        "    ----------\n",
        "    Attributes\n",
        "    ----------\n",
        "    \"\"\"\n",
        "    def __init__(self, layers, lr=0.001, sigma=0.01, batch_size=20, epochs=5, verbose=True):\n",
        "\n",
        "        self.layers = layers\n",
        "        self.lr = lr\n",
        "        self.sigma = sigma\n",
        "        self.batch_size = batch_size\n",
        "        self.epochs = epochs\n",
        "        self.verbose = verbose\n",
        "\n",
        "        self.param = {}\n",
        "        self.loss = []\n",
        "        self.n_features = None\n",
        "        self.X_train = None\n",
        "        self.y_train = None\n",
        "\n",
        "\n",
        "    def fit(self, X, y, X_val=None, y_val=None):\n",
        "        \"\"\"\n",
        "        Learn a neural network classifier.\n",
        "        Parameters\n",
        "        ----------\n",
        "        X : The following forms of ndarray, shape (n_samples, n_features)\n",
        "            Features of training data\n",
        "        y : The following form of ndarray, shape (n_samples,)\n",
        "            Correct answer value of training data\n",
        "        X_val : The following forms of ndarray, shape (n_samples, n_features)\n",
        "            Features of verification data\n",
        "        y_val : The following form of ndarray, shape (n_samples,)\n",
        "            Correct value of verification data\n",
        "        \"\"\"\n",
        "\n",
        "        param = self.init_weight()\n",
        "        self.iter = np.ceil(X.shape[1]//self.batch_size)\n",
        "\n",
        "        get_mini_batch = GetMiniBatch(X, y, batch_size=self.batch_size)\n",
        "        print(\"Batch size: {}\".format(self.batch_size)) \n",
        "        print(\"Iteration: {}\".format(self.iter))\n",
        "\n",
        "        for i in range(self.epochs):\n",
        "            epoch_cost = 0\n",
        "\n",
        "            for mini_batch in get_mini_batch:\n",
        "                # Forward propagation\n",
        "                (mini_X_train, mini_y_train) = mini_batch\n",
        "\n",
        "                A_last, stored_var = self.forward_propagation(mini_X_train, param)\n",
        "\n",
        "                # Cross entropy error\n",
        "                cost = self.cross_entropy_loss(mini_y_train, A_last)\n",
        "                epoch_cost += cost\n",
        "\n",
        "                # Backward propagation\n",
        "                grads = self.backward_propagation(A_last, mini_y_train, stored_var, param)\n",
        "\n",
        "                param = self.update_parameters(param, grads)\n",
        "            \n",
        "            self.loss.append(epoch_cost/self.iter)\n",
        "            if self.verbose:\n",
        "                print(\"Cost after epoch {}: {}\".format(i, epoch_cost/self.iter))\n",
        "        \n",
        "        plt.plot(np.squeeze(self.loss))\n",
        "        plt.ylabel('Cost (per epoch)')\n",
        "        plt.xlabel('Epochs')\n",
        "        plt.title(\"Learning rate =\" + str(self.lr))\n",
        "        plt.show()\n",
        "\n",
        "        self.param = param\n",
        "\n",
        "        return param\n",
        "    \n",
        "    def init_weight(self):\n",
        "        \"\"\"\n",
        "        Initialize the weight and bias of neural network\n",
        "        \"\"\"\n",
        "        np.random.seed(42)\n",
        "        L = len(self.layers)\n",
        "\n",
        "        param = {}\n",
        "\n",
        "        for l in range(L-1):\n",
        "            param['W' + str(l+1)] = self.sigma * np.random.randn(self.layers[l+1], self.layers[l])\n",
        "            param['b' + str(l+1)] = self.sigma * np.random.randn(self.layers[l+1], 1)\n",
        "\n",
        "        return param\n",
        "\n",
        "\n",
        "    def predict(self, X, param):\n",
        "        \"\"\"\n",
        "        Estimate using a neural network classifier.\n",
        "        Parameters\n",
        "        ----------\n",
        "        X : The following forms of ndarray, shape (n_samples, n_features)\n",
        "            sample\n",
        "        Returns\n",
        "        -------\n",
        "            The following form of ndarray, shape (n_samples, 1)\n",
        "            Estimated result\n",
        "        \"\"\"\n",
        "        probas, _ = self.forward_propagation(X, param)\n",
        "        pred = np.argmax(probas,axis=0)\n",
        "\n",
        "        return pred\n",
        "\n",
        "    def accuracy(self, X, y, X_test, y_test, param):\n",
        "        \"\"\"\n",
        "        Evaluate the accuracy of the neural network\n",
        "        \"\"\"\n",
        "        pred_y = self.predict(X, param)\n",
        "        train_acc = np.mean(pred_y.flatten() == y.flatten()) * 100\n",
        "        print('Training set accuracy: {}%'.format(round(train_acc, 2)))\n",
        "\n",
        "        pred_ytest = self.predict(X_test, param)\n",
        "        test_acc = np.mean(pred_ytest.flatten() == y_test.flatten()) * 100\n",
        "        print('Testing set accuracy: {}%'.format(round(test_acc, 2)))\n",
        "        \n",
        "\n",
        "    def sigmoid_function(self, A):\n",
        "        \n",
        "        return 1/(1+np.exp(-A))\n",
        "\n",
        "    def tanh_function(self, A):\n",
        "    \n",
        "        return (np.exp(A)-np.exp(-A))/(np.exp(A)+np.exp(-A))\n",
        "\n",
        "    def softmax_function(self, A):\n",
        "\n",
        "        return np.exp(A)/(np.sum(np.exp(A), axis = 0))\n",
        "\n",
        "\n",
        "    def activation_function_forward(self, A, activation):\n",
        "        \"\"\"\n",
        "        Use the activation function for forward propagation process and also \n",
        "        return the raw output that does not goes through the activation function\n",
        "        \"\"\"\n",
        "        y = None\n",
        "        if activation == 'sigmoid':\n",
        "            Z = self.sigmoid_function(A)\n",
        "\n",
        "        if activation == 'tanh':\n",
        "            Z = self.tanh_function(A)\n",
        "\n",
        "        if activation == 'softmax':\n",
        "            Z = self.softmax_function(A)\n",
        "\n",
        "        return Z\n",
        "\n",
        "\n",
        "    def forward_function(self, X, W, b):\n",
        "        \"\"\"\n",
        "        The function involving the multiplication of features, weights and bias\n",
        "        Then it uses the activation function to get the output value, and also\n",
        "        return a set of variables to reuse in the backward propagation\n",
        "        \"\"\"\n",
        "        A = np.dot(W, X) + b\n",
        "\n",
        "        return A\n",
        "\n",
        "    def forward_propagation(self, X, param):\n",
        "        \"\"\"\n",
        "        The forward propagation process of neural network\n",
        "        \n",
        "        Note: Instead of creating a fixed size forward propagation,\n",
        "        I manage to modify this function to fit any input of layers\n",
        "        and the intial weights and bias\n",
        "\n",
        "        (E.g: If I change to 5 layers, the model still run properly)\n",
        "        \"\"\"\n",
        "\n",
        "        Z = X\n",
        "        stored_var = {}\n",
        "        stored_var['Z' + str(0)] = X\n",
        "        L = len(param) // 2 # Because it contains both weight and bias, we divide by 2 to get length of pairs\n",
        "        \n",
        "        for l in range(1, L):\n",
        "            # Use the previous output for the current function\n",
        "            Z_prev = Z\n",
        "            A = self.forward_function(Z_prev, param['W' + str(l)], param['b' + str(l)])\n",
        "            stored_var['A' + str(l)] = A\n",
        "            Z = self.activation_function_forward(A, activation='tanh')\n",
        "            stored_var['Z' + str(l)] = Z\n",
        "\n",
        "        # Last layer function\n",
        "        A = self.forward_function(Z, param['W' + str(L)], param['b' + str(L)])\n",
        "        stored_var['A' + str(L)] = A\n",
        "        Z_last = self.activation_function_forward(A, activation='softmax')\n",
        "\n",
        "        return Z_last, stored_var\n",
        "\n",
        "\n",
        "    def activation_function_backward(self, A, activation):\n",
        "        \"\"\"\n",
        "        Use the activation function for backward propagation process\n",
        "        \"\"\"\n",
        "        act = None\n",
        "\n",
        "        if activation == 'sigmoid':\n",
        "            s = self.sigmoid_function(A)\n",
        "            act = s * (1-s)\n",
        "\n",
        "        if activation == 'tanh':\n",
        "            s = self.tanh_function(A)\n",
        "            act = (1 - s**2)\n",
        "\n",
        "        return act\n",
        "\n",
        "    def compute_grads(self, dA, grads, param, stored_var, l, m):\n",
        "        \n",
        "        # Derivative of weight and bias by using gradient of function A = W.X + b\n",
        "        # The formula also consist of the variables that will be used in backwardpropagation,\n",
        "        # therefore we need to get save and update them in the dictionary called grads\n",
        "        dW = (1/m) * np.dot(dA, stored_var['Z' + str(l-1)].T)\n",
        "        grads['dW' + str(l)] = dW\n",
        "\n",
        "        db = (1/m) * np.sum(dA, axis=1, keepdims = True)\n",
        "        grads['db' + str(l)] = db\n",
        "        \n",
        "        dZ_prev = np.dot(param['W' + str(l)].T, dA)\n",
        "        grads['dZ'+ str(l-1)] = dZ_prev\n",
        "\n",
        "        return grads\n",
        "\n",
        "    \n",
        "    def backward_propagation(self, Z_last, Y, stored_var, param):\n",
        "        \"\"\"\n",
        "        The backward propagation process of neural network\n",
        "        \n",
        "        Note: Instead of creating a fixed size backward propagation,\n",
        "        I manage to modify this function to fit any input of layers\n",
        "        and the intial weights and bias\n",
        "\n",
        "        (E.g: If I change to 5 layers, the model still run properly)\n",
        "        \"\"\"\n",
        "        grads = {}\n",
        "\n",
        "        L = len(param) // 2\n",
        "        m = Z_last.shape[1]\n",
        "        dA = (Z_last - Y)\n",
        "\n",
        "\n",
        "        grads = self.compute_grads(dA, grads, param, stored_var, L, m)\n",
        "        \n",
        "        for l in reversed(range(1, L)):\n",
        "            # Use the previous output for the current function\n",
        "            dZ = grads['dZ' + str(l)]\n",
        "            dA = dZ * self.activation_function_backward(stored_var['A' + str(l)], activation='tanh')\n",
        "            \n",
        "            grads = self.compute_grads(dA, grads, param, stored_var, l, m)\n",
        "\n",
        "        del grads['dZ0']\n",
        "\n",
        "        return grads\n",
        "\n",
        "\n",
        "    def update_parameters(self, param, grads):\n",
        "        \"\"\"\n",
        "        Update the parameter using gradient descent\n",
        "        \"\"\"\n",
        "        L = len(param) // 2\n",
        "\n",
        "        for l in range(L):\n",
        "            param[\"W\" + str(l+1)] = param[\"W\" + str(l+1)] - self.lr * grads[\"dW\" + str(l+1)]\n",
        "            param[\"b\" + str(l+1)] = param[\"b\" + str(l+1)] - self.lr * grads[\"db\" + str(l+1)]\n",
        "\n",
        "        return param\n",
        "\n",
        "\n",
        "    def cross_entropy_loss(self, Y, Z_last):\n",
        "        \"\"\"\n",
        "        The object function of the neural network\n",
        "        \"\"\"\n",
        "        m = Y.shape[0]\n",
        "\n",
        "        # Avoid getting infinity at logarithm function by adding 1e-7\n",
        "        return (1/m) * np.mean(-np.sum(Y*np.log(Z_last),axis=0))\n"
      ],
      "execution_count": 15,
      "outputs": []
    },
    {
      "cell_type": "markdown",
      "metadata": {
        "id": "IMItJG5Wb4qH"
      },
      "source": [
        "### **[Problem 6 7] Learning and Estimation, Learning Curve Plot**"
      ]
    },
    {
      "cell_type": "code",
      "metadata": {
        "id": "mnl8Xs9Yb33i"
      },
      "source": [
        "layers = [X_train.shape[0], 400, 200, 10]\n",
        "lr = 0.001\n",
        "sigma = 0.01\n",
        "batch = 20\n",
        "epochs = 3\n",
        "\n",
        "nn = ScratchSimpleNeuralNetrowkClassifier(layers, lr=lr, sigma=sigma, batch_size=batch, epochs=epochs, verbose=True)"
      ],
      "execution_count": 16,
      "outputs": []
    },
    {
      "cell_type": "code",
      "metadata": {
        "colab": {
          "base_uri": "https://localhost:8080/",
          "height": 380
        },
        "id": "e4bopb1BccUn",
        "outputId": "772c6149-a69d-4043-9aa3-65e5f9fdf15f"
      },
      "source": [
        "param = nn.fit(X_train, y_train_one_hot)"
      ],
      "execution_count": 17,
      "outputs": [
        {
          "output_type": "stream",
          "text": [
            "Batch size: 20\n",
            "Iteration: 3000.0\n",
            "Cost after epoch 0: 0.2297737807015607\n",
            "Cost after epoch 1: 0.2283701839773534\n",
            "Cost after epoch 2: 0.22375587938129535\n"
          ],
          "name": "stdout"
        },
        {
          "output_type": "display_data",
          "data": {
            "image/png": "[encoded data removed]",
            "text/plain": [
              "<Figure size 432x288 with 1 Axes>"
            ]
          },
          "metadata": {
            "tags": [],
            "needs_background": "light"
          }
        }
      ]
    },
    {
      "cell_type": "code",
      "metadata": {
        "colab": {
          "base_uri": "https://localhost:8080/"
        },
        "id": "gjFJTqbT6n1v",
        "outputId": "91563871-92a0-4db0-da1d-31264360b91a"
      },
      "source": [
        "pred_y = nn.predict(X_test, param)\n",
        "pred_y"
      ],
      "execution_count": 18,
      "outputs": [
        {
          "output_type": "execute_result",
          "data": {
            "text/plain": [
              "array([7, 0, 1, ..., 7, 1, 0])"
            ]
          },
          "metadata": {
            "tags": []
          },
          "execution_count": 18
        }
      ]
    },
    {
      "cell_type": "code",
      "metadata": {
        "colab": {
          "base_uri": "https://localhost:8080/"
        },
        "id": "RRpdPL5cOpjG",
        "outputId": "e1a97467-2b2f-4853-c731-0bffd7620846"
      },
      "source": [
        "nn.accuracy(X_train, y_train, X_test, y_test, param)"
      ],
      "execution_count": 19,
      "outputs": [
        {
          "output_type": "stream",
          "text": [
            "Training set accuracy: 44.44%\n",
            "Testing set accuracy: 44.56%\n"
          ],
          "name": "stdout"
        }
      ]
    },
    {
      "cell_type": "markdown",
      "metadata": {
        "id": "6pX2Eso9fKEg"
      },
      "source": [
        "**Greater Epochs**"
      ]
    },
    {
      "cell_type": "code",
      "metadata": {
        "id": "aStvAKMtMQMV"
      },
      "source": [
        "layers = [X_train.shape[0], 400, 200, 10]\n",
        "lr = 0.001\n",
        "sigma = 0.01\n",
        "batch = 50\n",
        "epochs = 10\n",
        "\n",
        "nn2 = ScratchSimpleNeuralNetrowkClassifier(layers, lr=lr, sigma=sigma, batch_size=batch, epochs=epochs, verbose=True)"
      ],
      "execution_count": 20,
      "outputs": []
    },
    {
      "cell_type": "code",
      "metadata": {
        "colab": {
          "base_uri": "https://localhost:8080/",
          "height": 499
        },
        "id": "Sa0lFTQCMQMW",
        "outputId": "4e1d7468-fd2e-40a2-ebcb-5a527f8d6b00"
      },
      "source": [
        "param2 = nn2.fit(X_train, y_train_one_hot)"
      ],
      "execution_count": 21,
      "outputs": [
        {
          "output_type": "stream",
          "text": [
            "Batch size: 50\n",
            "Iteration: 1200.0\n",
            "Cost after epoch 0: 0.23006013937444222\n",
            "Cost after epoch 1: 0.22968676876621918\n",
            "Cost after epoch 2: 0.22924002201570673\n",
            "Cost after epoch 3: 0.2286365415933596\n",
            "Cost after epoch 4: 0.22772713634412142\n",
            "Cost after epoch 5: 0.22620595877357744\n",
            "Cost after epoch 6: 0.2233748969813502\n",
            "Cost after epoch 7: 0.21754040978873296\n",
            "Cost after epoch 8: 0.20498822024600086\n",
            "Cost after epoch 9: 0.18213682340892687\n"
          ],
          "name": "stdout"
        },
        {
          "output_type": "display_data",
          "data": {
            "image/png": "[encoded data removed]",
            "text/plain": [
              "<Figure size 432x288 with 1 Axes>"
            ]
          },
          "metadata": {
            "tags": [],
            "needs_background": "light"
          }
        }
      ]
    },
    {
      "cell_type": "code",
      "metadata": {
        "colab": {
          "base_uri": "https://localhost:8080/"
        },
        "id": "HwjXjPk-S1YY",
        "outputId": "0cd7fc0e-d2e8-48f3-d436-1d81c96c9ca1"
      },
      "source": [
        "nn2.accuracy(X_train, y_train, X_test, y_test, param2)"
      ],
      "execution_count": 22,
      "outputs": [
        {
          "output_type": "stream",
          "text": [
            "Training set accuracy: 48.21%\n",
            "Testing set accuracy: 47.97%\n"
          ],
          "name": "stdout"
        }
      ]
    },
    {
      "cell_type": "markdown",
      "metadata": {
        "id": "2qJnCQaS_Rt8"
      },
      "source": [
        "**Greater Epochs and Increase in Learning Rate**"
      ]
    },
    {
      "cell_type": "code",
      "metadata": {
        "id": "fccS0aLt_RAz"
      },
      "source": [
        "layers = [X_train.shape[0], 400, 200, 10]\n",
        "lr = 0.01\n",
        "sigma = 0.01\n",
        "batch = 256\n",
        "epochs = 100\n",
        "\n",
        "nn3 = ScratchSimpleNeuralNetrowkClassifier(layers, lr=lr, sigma=sigma, batch_size=batch, epochs=epochs, verbose=True)"
      ],
      "execution_count": 23,
      "outputs": []
    },
    {
      "cell_type": "code",
      "metadata": {
        "colab": {
          "base_uri": "https://localhost:8080/",
          "height": 1000
        },
        "id": "i0OELrjc_adq",
        "outputId": "b753d572-778e-490c-fba2-57080fc1518f"
      },
      "source": [
        "param3 = nn3.fit(X_train, y_train_one_hot)"
      ],
      "execution_count": 24,
      "outputs": [
        {
          "output_type": "stream",
          "text": [
            "Batch size: 256\n",
            "Iteration: 234.0\n",
            "Cost after epoch 0: 0.2308656355838094\n",
            "Cost after epoch 1: 0.22995862731045766\n",
            "Cost after epoch 2: 0.22811157532768492\n",
            "Cost after epoch 3: 0.22233271818036474\n",
            "Cost after epoch 4: 0.19874528574291378\n",
            "Cost after epoch 5: 0.15090870588070315\n",
            "Cost after epoch 6: 0.1150816401623849\n",
            "Cost after epoch 7: 0.09347830720539807\n",
            "Cost after epoch 8: 0.08024566445352893\n",
            "Cost after epoch 9: 0.07171029617995224\n",
            "Cost after epoch 10: 0.06560206305483862\n",
            "Cost after epoch 11: 0.06086119849283044\n",
            "Cost after epoch 12: 0.05697358429237612\n",
            "Cost after epoch 13: 0.05368376447546268\n",
            "Cost after epoch 14: 0.05087502247338363\n",
            "Cost after epoch 15: 0.04849064124252501\n",
            "Cost after epoch 16: 0.04648272754042686\n",
            "Cost after epoch 17: 0.044794633408035495\n",
            "Cost after epoch 18: 0.043365877315105585\n",
            "Cost after epoch 19: 0.04214175896197755\n",
            "Cost after epoch 20: 0.041078276905969165\n",
            "Cost after epoch 21: 0.04014217524115905\n",
            "Cost after epoch 22: 0.039308838013337094\n",
            "Cost after epoch 23: 0.038559919880222185\n",
            "Cost after epoch 24: 0.037881417340966915\n",
            "Cost after epoch 25: 0.03726228987536055\n",
            "Cost after epoch 26: 0.03669354768368043\n",
            "Cost after epoch 27: 0.03616768327949951\n",
            "Cost after epoch 28: 0.03567833114830688\n",
            "Cost after epoch 29: 0.03522006271145846\n",
            "Cost after epoch 30: 0.03478825237786677\n",
            "Cost after epoch 31: 0.03437897693812622\n",
            "Cost after epoch 32: 0.03398893011743223\n",
            "Cost after epoch 33: 0.03361534570611719\n",
            "Cost after epoch 34: 0.03325592797551058\n",
            "Cost after epoch 35: 0.03290878955109692\n",
            "Cost after epoch 36: 0.03257239664639992\n",
            "Cost after epoch 37: 0.03224552086059018\n",
            "Cost after epoch 38: 0.03192719622827468\n",
            "Cost after epoch 39: 0.03161668006826853\n",
            "Cost after epoch 40: 0.0313134163806006\n",
            "Cost after epoch 41: 0.031017000975682874\n",
            "Cost after epoch 42: 0.0307271480572047\n",
            "Cost after epoch 43: 0.030443658501286743\n",
            "Cost after epoch 44: 0.030166390480197036\n",
            "Cost after epoch 45: 0.029895233300533088\n",
            "Cost after epoch 46: 0.02963008533251212\n",
            "Cost after epoch 47: 0.029370836711727077\n",
            "Cost after epoch 48: 0.02911735715060023\n",
            "Cost after epoch 49: 0.02886948878381663\n",
            "Cost after epoch 50: 0.028627043576411028\n",
            "Cost after epoch 51: 0.028389804516128932\n",
            "Cost after epoch 52: 0.028157529634762583\n",
            "Cost after epoch 53: 0.027929957863937233\n",
            "Cost after epoch 54: 0.02770681580830497\n",
            "Cost after epoch 55: 0.027487824675346936\n",
            "Cost after epoch 56: 0.0272727067938951\n",
            "Cost after epoch 57: 0.027061191346875266\n",
            "Cost after epoch 58: 0.02685301911282024\n",
            "Cost after epoch 59: 0.02664794614292828\n",
            "Cost after epoch 60: 0.02644574639358446\n",
            "Cost after epoch 61: 0.026246213392805886\n",
            "Cost after epoch 62: 0.026049161050747383\n",
            "Cost after epoch 63: 0.025854423737503587\n",
            "Cost after epoch 64: 0.02566185575315144\n",
            "Cost after epoch 65: 0.025471330310634345\n",
            "Cost after epoch 66: 0.02528273814511864\n",
            "Cost after epoch 67: 0.025095985855640355\n",
            "Cost after epoch 68: 0.0249109940768268\n",
            "Cost after epoch 69: 0.024727695570129472\n",
            "Cost after epoch 70: 0.024546033314945693\n",
            "Cost after epoch 71: 0.024365958669840298\n",
            "Cost after epoch 72: 0.024187429662592297\n",
            "Cost after epoch 73: 0.024010409455078482\n",
            "Cost after epoch 74: 0.023834865015439095\n",
            "Cost after epoch 75: 0.023660766016180383\n",
            "Cost after epoch 76: 0.02348808396360005\n",
            "Cost after epoch 77: 0.023316791551949018\n",
            "Cost after epoch 78: 0.02314686222571561\n",
            "Cost after epoch 79: 0.022978269925803395\n",
            "Cost after epoch 80: 0.022810988990383266\n",
            "Cost after epoch 81: 0.022644994178795903\n",
            "Cost after epoch 82: 0.022480260786806597\n",
            "Cost after epoch 83: 0.02231676482335012\n",
            "Cost after epoch 84: 0.02215448322214098\n",
            "Cost after epoch 85: 0.021993394065637925\n",
            "Cost after epoch 86: 0.021833476803349607\n",
            "Cost after epoch 87: 0.021674712450944073\n",
            "Cost after epoch 88: 0.021517083760770467\n",
            "Cost after epoch 89: 0.0213605753580111\n",
            "Cost after epoch 90: 0.0212051738396552\n",
            "Cost after epoch 91: 0.02105086783579279\n",
            "Cost after epoch 92: 0.020897648034404914\n",
            "Cost after epoch 93: 0.02074550717194971\n",
            "Cost after epoch 94: 0.02059443999270874\n",
            "Cost after epoch 95: 0.020444443180169865\n",
            "Cost after epoch 96: 0.020295515263783447\n",
            "Cost after epoch 97: 0.020147656504331556\n",
            "Cost after epoch 98: 0.02000086876096873\n",
            "Cost after epoch 99: 0.019855155342798733\n"
          ],
          "name": "stdout"
        },
        {
          "output_type": "display_data",
          "data": {
            "image/png": "[encoded data removed]",
            "text/plain": [
              "<Figure size 432x288 with 1 Axes>"
            ]
          },
          "metadata": {
            "tags": [],
            "needs_background": "light"
          }
        }
      ]
    },
    {
      "cell_type": "code",
      "metadata": {
        "colab": {
          "base_uri": "https://localhost:8080/"
        },
        "id": "lYrjo8AL_ads",
        "outputId": "3f2e6b13-b10e-42d4-f9bd-7d23c9200bf4"
      },
      "source": [
        "nn3.accuracy(X_train, y_train, X_test, y_test, param3)"
      ],
      "execution_count": 25,
      "outputs": [
        {
          "output_type": "stream",
          "text": [
            "Training set accuracy: 94.34%\n",
            "Testing set accuracy: 94.27%\n"
          ],
          "name": "stdout"
        }
      ]
    },
    {
      "cell_type": "markdown",
      "metadata": {
        "id": "fbzikiO2KFxw"
      },
      "source": [
        "### **[Problem 8] (Advance assignment) Confirmation of misclassification**"
      ]
    },
    {
      "cell_type": "code",
      "metadata": {
        "colab": {
          "base_uri": "https://localhost:8080/"
        },
        "id": "L2qebLyvKLUR",
        "outputId": "84ce4cb3-f24e-4dcc-9e2f-a5f441355546"
      },
      "source": [
        "pred_y3 = nn3.predict(X_test, param3)\n",
        "pred_y3"
      ],
      "execution_count": 26,
      "outputs": [
        {
          "output_type": "execute_result",
          "data": {
            "text/plain": [
              "array([7, 2, 1, ..., 4, 5, 6])"
            ]
          },
          "metadata": {
            "tags": []
          },
          "execution_count": 26
        }
      ]
    },
    {
      "cell_type": "code",
      "metadata": {
        "colab": {
          "base_uri": "https://localhost:8080/",
          "height": 742
        },
        "id": "eSIdYJZfKGHu",
        "outputId": "c808bcd5-0187-4300-83e2-86c286babb20"
      },
      "source": [
        "\"\"\"\n",
        "Display word classification results side by side. The display above the image is \"estimated result / correct answer\".\n",
        "Parameters:\n",
        "----------\n",
        "y_pred : Estimated ndarray (n_samples,)\n",
        "y_val : Correct label of verification data (n_samples,)\n",
        "X_val : Verification data features (n_samples, n_features)\n",
        "\"\"\"\n",
        "import numpy as np\n",
        "import matplotlib.pyplot as plt\n",
        "num = 36 # How many to display\n",
        "X_val = X_test\n",
        "true_false = pred_y3==y_test\n",
        "false_list = np.where(true_false==False)[0].astype(np.int)\n",
        "if false_list.shape[0] < num:\n",
        "    num = false_list.shape[0]\n",
        "fig = plt.figure(figsize=(12, 12))\n",
        "fig.subplots_adjust(left=0, right=0.8,  bottom=0, top=0.8, hspace=1, wspace=0.5)\n",
        "for i in range(num):\n",
        "    ax = fig.add_subplot(6, 6, i + 1, xticks=[], yticks=[])\n",
        "    ax.set_title(\"{} / {}\".format(pred_y3[false_list[i]],y_test[false_list[i]]))\n",
        "    ax.imshow(X_val.T[false_list[i]].reshape(28,28), cmap='gray')"
      ],
      "execution_count": 44,
      "outputs": [
        {
          "output_type": "display_data",
          "data": {
            "image/png": "[encoded data removed]",
            "text/plain": [
              "<Figure size 864x864 with 36 Axes>"
            ]
          },
          "metadata": {
            "tags": []
          }
        }
      ]
    },
    {
      "cell_type": "markdown",
      "metadata": {
        "id": "Ze2ToR8Ht2rg"
      },
      "source": [
        "The graph above display the misclassified sample with the top legend representing predicted label / true label"
      ]
    }
  ]
}