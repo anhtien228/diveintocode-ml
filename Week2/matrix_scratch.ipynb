{
 "metadata": {
  "language_info": {
   "codemirror_mode": {
    "name": "ipython",
    "version": 3
   },
   "file_extension": ".py",
   "mimetype": "text/x-python",
   "name": "python",
   "nbconvert_exporter": "python",
   "pygments_lexer": "ipython3",
   "version": "3.8.5-final"
  },
  "orig_nbformat": 2,
  "kernelspec": {
   "name": "python3",
   "display_name": "Python 3",
   "language": "python"
  }
 },
 "nbformat": 4,
 "nbformat_minor": 2,
 "cells": [
  {
   "source": [
    "# DIVE INTO CODE COURSE\n",
    "## Mathematics for Machine Learning Pre-Class assignment 3 Matrix Scratch\n",
    "### Doan Anh Tien - 1852789 - tien.doan.g0pr0@hcmut.edu.vn"
   ],
   "cell_type": "markdown",
   "metadata": {}
  },
  {
   "source": [
    "### \\[Problem 1] Matrix product is calculated manually\n",
    "Solve the matrix product of A and B by hand.\n",
    "Please also explain the calculation process using markdown text."
   ],
   "cell_type": "markdown",
   "metadata": {}
  },
  {
   "cell_type": "code",
   "execution_count": 1,
   "metadata": {},
   "outputs": [],
   "source": [
    "import numpy as np\n",
    "import matplotlib.pyplot as plt\n",
    "import matplotlib.colors as mcolors"
   ]
  },
  {
   "cell_type": "code",
   "execution_count": 2,
   "metadata": {},
   "outputs": [
    {
     "output_type": "stream",
     "name": "stdout",
     "text": [
      "The matrix A formation: \n[[-1  2  3]\n [ 4 -5  6]\n [ 7  8 -9]]\n\n\nThe matrix B formation: \n[[ 0  2  1]\n [ 0  2 -8]\n [ 2  9 -1]]\n"
     ]
    }
   ],
   "source": [
    "a_ndarray = np.array([[-1, 2, 3], [4, -5, 6], [7, 8, -9]])\n",
    "b_ndarray = np.array([[0, 2, 1], [0, 2, -8], [2, 9, -1]])\n",
    "print(\"The matrix A formation: \\n{}\".format(a_ndarray))\n",
    "print(\"\\n\")\n",
    "print(\"The matrix B formation: \\n{}\".format(b_ndarray))"
   ]
  },
  {
   "source": [
    "A product of 2 matrixes (also called dot product) is a procedure of multiplying the n-th row values of one matrix with other's n-th column values and take a sum of them to form a new matrix.\n",
    "\n",
    "For example, the very first value we can get from dot product AB is: taking \\[-1 2 3] (row) multiple with \\[0 0 2] (column), in which we have\n",
    "\n",
    "<br><br> <center>$-1 \\times 0 + 2 \\times 0 + 3 \\times 2 = 6$</center>\n",
    "<br><br>\n",
    "So in summary, we will have a general calculation which is: $c_{ij} = a_{i1}b_{1j} + a_{i2}b_{2j} + . . . + a_{in}b_{nj} = \\sum_{k=1}^n a_{ik}b_{kj}$\n",
    "for $i = 1,...,m$ and $j = 1,...,p$ and $c_{ij}$ are the values in new matrix C = AB\n",
    "<br><br>\n",
    "From there, we will have new value respectively:\n",
    "<br><br> <center>$c_{12} = 29, c_{13} = -20 $</center>\n",
    "<br><br> <center>$c_{21} = 12, c_{22} = 52, c_{23} = 38$</center>\n",
    "<br><br> <center>$c_{21} = -18, c_{22} = -51, c_{23} = -48 $</center>"
   ],
   "cell_type": "markdown",
   "metadata": {}
  },
  {
   "cell_type": "code",
   "execution_count": 3,
   "metadata": {},
   "outputs": [
    {
     "output_type": "stream",
     "name": "stdout",
     "text": [
      "The new matrix C formation is: \n[[  6  29 -20]\n [ 12  52  38]\n [-18 -51 -48]]\n"
     ]
    }
   ],
   "source": [
    "c_ndarray = np.array([[6,29,-20],[12,52,38],[-18,-51,-48]])\n",
    "print(\"The new matrix C formation is: \\n{}\".format(c_ndarray))"
   ]
  },
  {
   "source": [
    "### \\[Problem 2] Calculation by NumPy function"
   ],
   "cell_type": "markdown",
   "metadata": {}
  },
  {
   "cell_type": "code",
   "execution_count": 4,
   "metadata": {},
   "outputs": [
    {
     "output_type": "stream",
     "name": "stdout",
     "text": [
      "The matrix C calculated by np.dot: \n[[  6  29 -20]\n [ 12  52  38]\n [-18 -51 -48]]\n"
     ]
    }
   ],
   "source": [
    "c_ndarray_np = np.dot(a_ndarray, b_ndarray)\n",
    "print(\"The matrix C calculated by np.dot: \\n{}\".format(c_ndarray_np))"
   ]
  },
  {
   "source": [
    "As we can seen that the result by using np.dot function is similar to the hand calculation that we just made from Problem 1."
   ],
   "cell_type": "markdown",
   "metadata": {}
  },
  {
   "source": [
    "### \\[Problem 3] Implementation of calculation of a certain element"
   ],
   "cell_type": "markdown",
   "metadata": {}
  },
  {
   "cell_type": "code",
   "execution_count": 5,
   "metadata": {},
   "outputs": [],
   "source": [
    "def matrix_multiplication_2x2(array1, array2):\n",
    "    \"\"\"\n",
    "    A function that calculate the product of two matrix (default: 2D) without using the np.matmul, np.dot or @ operator.\n",
    "\n",
    "    Parameteres:\n",
    "    --------------\n",
    "    array1: matrix array\n",
    "        The array of matrix A\n",
    "    array2: matrix array\n",
    "        The array of matrix B\n",
    "\n",
    "    Returns:\n",
    "    --------------\n",
    "    product: int or float\n",
    "        The dot product of the matrix multiplication\n",
    "\n",
    "    c_ndarray: matrix array\n",
    "        The product of the function - matrix C\n",
    "\n",
    "    \"\"\"\n",
    "    product = 0\n",
    "    c_ndarray = np.zeros(4, int).reshape((2,2))\n",
    "    for i in range(2):\n",
    "        for j in range(2):\n",
    "            for k in range(2):\n",
    "                c_ndarray[i][j]+=array1[i][k] * array2[k][j]\n",
    "      \n",
    "    product = np.sum(c_ndarray)\n",
    "\n",
    "    return product, c_ndarray"
   ]
  },
  {
   "cell_type": "code",
   "execution_count": 6,
   "metadata": {},
   "outputs": [
    {
     "output_type": "stream",
     "name": "stdout",
     "text": [
      "The new matrix: \n[[ 7 10]\n [15 22]]\n\nThe product value: 54\n"
     ]
    }
   ],
   "source": [
    "a_ndarray_2x2 = np.array([[1,2],[3,4]])\n",
    "b_ndarray_2x2 = np.array([[1,2],[3,4]])\n",
    "product, c_ndarray_2x2 = matrix_multiplication_2x2(a_ndarray_2x2, b_ndarray_2x2)\n",
    "print(\"The new matrix: \\n{}\\n\\nThe product value: {}\".format(c_ndarray_2x2, product))"
   ]
  },
  {
   "cell_type": "code",
   "execution_count": 7,
   "metadata": {},
   "outputs": [
    {
     "output_type": "stream",
     "name": "stdout",
     "text": [
      "[[ 7 10]\n",
      " [15 22]]\n"
     ]
    }
   ],
   "source": [
    "# Verifying if the function work well\n",
    "print(np.matmul(a_ndarray_2x2, b_ndarray_2x2))"
   ]
  },
  {
   "source": [
    "### \\[Problem 4] Creating a function that performs matrix multiplication\n",
    "Since we have properly implement the function in the Problem 3, it just need a small modification for the function to take any matrix as argument (3D, 4D, ...)"
   ],
   "cell_type": "markdown",
   "metadata": {}
  },
  {
   "cell_type": "code",
   "execution_count": 8,
   "metadata": {},
   "outputs": [],
   "source": [
    "def matrix_multiplication(array1, array2):\n",
    "    \"\"\"\n",
    "    A function that calculate the product of two matrix (default: 2D) without using the np.matmul, np.dot or @ operator.\n",
    "\n",
    "    Parameteres:\n",
    "    --------------\n",
    "    array1: matrix array\n",
    "        The array of matrix A\n",
    "    array2: matrix array\n",
    "        The array of matrix B\n",
    "\n",
    "    Returns:\n",
    "    --------------\n",
    "    product: int or float\n",
    "        The dot product of the matrix multiplication\n",
    "\n",
    "    c_ndarray: matrix array\n",
    "        The product of the function - matrix C\n",
    "\n",
    "    \"\"\"\n",
    "    product = 0\n",
    "    c_ndarray = np.zeros(4, int).reshape((2,2))\n",
    "    if len(array1) != len(array2[0]):\n",
    "        print(\"The dimension is not matched for the multiplication!\") # throw out the error if the row of matrix 1\n",
    "        return 0, []                                                # is unmatch with the column of matrix 2\n",
    "\n",
    "    for i in range(len(array1)): # I changed this to the length of matrix 1's row for flexible inputting\n",
    "        for j in range(len(array2[0])): # Iterate the matrix 2's columns\n",
    "            for k in range(len(array2)): # Iterate the matrix 2's rows\n",
    "                c_ndarray[i][j]+=array1[i][k] * array2[k][j]\n",
    "      \n",
    "    product = np.sum(c_ndarray)\n",
    "\n",
    "    return product, c_ndarray"
   ]
  },
  {
   "cell_type": "code",
   "execution_count": 9,
   "metadata": {},
   "outputs": [
    {
     "output_type": "stream",
     "name": "stdout",
     "text": [
      "The new matrix: \n[[ 24  -3]\n [-60  87]]\n\nThe product value: 48\n"
     ]
    }
   ],
   "source": [
    "d_ndarray = np.array([[-1, 2, 3], [4, -5, 6]])\n",
    "e_ndarray = np.array([[-9, 8], [6, -5], [1, 5]])\n",
    "product_new, c_ndarray = matrix_multiplication(d_ndarray, e_ndarray)\n",
    "print(\"The new matrix: \\n{}\\n\\nThe product value: {}\".format(c_ndarray, product_new))"
   ]
  },
  {
   "cell_type": "code",
   "execution_count": 10,
   "metadata": {},
   "outputs": [
    {
     "output_type": "stream",
     "name": "stdout",
     "text": [
      "[[ 24  -3]\n [-60  87]]\n"
     ]
    }
   ],
   "source": [
    "# Verifying if the function work well\n",
    "print(np.matmul(d_ndarray, e_ndarray))"
   ]
  },
  {
   "source": [
    "### \\[Problem 5] Judge the input whose calculation is not defined"
   ],
   "cell_type": "markdown",
   "metadata": {}
  },
  {
   "cell_type": "code",
   "execution_count": 11,
   "metadata": {},
   "outputs": [
    {
     "output_type": "stream",
     "name": "stdout",
     "text": [
      "The dimension is not matched for the multiplication!\nThe new matrix: \n[]\n\nThe product value: 0\n"
     ]
    }
   ],
   "source": [
    "# We will use the matrixes taken from the example of the assignment\n",
    "d_ndarray_ = np.array([[-1, 2, 3], [4, -5, 6]])\n",
    "e_ndarray = np.array([[-9, 8, 7], [6, -5, 4]])\n",
    "product_new, c_ndarray = matrix_multiplication(d_ndarray, e_ndarray)\n",
    "print(\"The new matrix: \\n{}\\n\\nThe product value: {}\".format(c_ndarray, product_new))"
   ]
  },
  {
   "source": [
    "### \\[Problem 6] Transposition"
   ],
   "cell_type": "markdown",
   "metadata": {}
  },
  {
   "source": [
    "We will use the transposition to solve the error in matrix multiplication."
   ],
   "cell_type": "markdown",
   "metadata": {}
  },
  {
   "cell_type": "code",
   "execution_count": 12,
   "metadata": {},
   "outputs": [
    {
     "output_type": "stream",
     "name": "stdout",
     "text": [
      "The new matrix: \n[[ 46  -4]\n [-34  73]]\n\nThe product value: 81\n"
     ]
    }
   ],
   "source": [
    "d_ndarray_ = np.array([[-1, 2, 3], [4, -5, 6]])\n",
    "e_ndarray = np.array([[-9, 8, 7], [6, -5, 4]]).T"
   ]
  },
  {
   "source": [
    "What we have here? since we used the transposition function to modify the e_ndarray, it will changed to:\n",
    "$$\\begin{bmatrix} -9 & 6 \\\\ 8 & -5 \\\\ 7 & 4 \\end{bmatrix}$$\n",
    "\n",
    "<br> And now we have number of rows in d_ndarray equa to number of columns in e_ndarray. As a result, the matrix product is now defined.\n"
   ],
   "cell_type": "markdown",
   "metadata": {}
  },
  {
   "cell_type": "code",
   "execution_count": 14,
   "metadata": {},
   "outputs": [
    {
     "output_type": "stream",
     "name": "stdout",
     "text": [
      "The new matrix: \n[[ 46  -4]\n [-34  73]]\n\nThe product value: 81\n"
     ]
    }
   ],
   "source": [
    "product_new, c_ndarray = matrix_multiplication(d_ndarray, e_ndarray)\n",
    "print(\"The new matrix: \\n{}\\n\\nThe product value: {}\".format(c_ndarray, product_new))"
   ]
  }
 ]
}