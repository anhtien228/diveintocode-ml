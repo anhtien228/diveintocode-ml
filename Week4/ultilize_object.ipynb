{
 "metadata": {
  "language_info": {
   "codemirror_mode": {
    "name": "ipython",
    "version": 3
   },
   "file_extension": ".py",
   "mimetype": "text/x-python",
   "name": "python",
   "nbconvert_exporter": "python",
   "pygments_lexer": "ipython3",
   "version": "3.8.5"
  },
  "orig_nbformat": 2,
  "kernelspec": {
   "name": "python385jvsc74a57bd037df325a73d282e5412ad3d51781d3fbe03641e07f3e7444148aec51282aef8e",
   "display_name": "Python 3.8.5 64-bit ('base': conda)"
  }
 },
 "nbformat": 4,
 "nbformat_minor": 2,
 "cells": [
  {
   "source": [
    "# DIVE INTO CODE COURSE\n",
    "## Introduction to Machine Learning Pre-class assignment 3 Utilization of Object Orientation\n",
    "### Doan Anh Tien - 1852789 - tien.doan.g0pr0@hcmut.edu.vn"
   ],
   "cell_type": "markdown",
   "metadata": {}
  },
  {
   "cell_type": "code",
   "execution_count": 47,
   "metadata": {},
   "outputs": [
    {
     "output_type": "stream",
     "name": "stdout",
     "text": [
      "Mean : [4.86 3.31 1.45 0.22]\nVariance : [0.0764 0.0849 0.0105 0.0056]\n[[ 0.86828953  0.65207831 -0.48795004 -0.26726124]\n [ 0.14471492 -1.06391725 -0.48795004 -0.26726124]\n [-0.57885968 -0.37751902 -1.46385011 -0.26726124]\n [-0.94064699 -0.72071813  0.48795004 -0.26726124]\n [ 0.50650222  0.99527742 -0.48795004 -0.26726124]\n [ 1.95365143  2.02487476  2.43975018  2.40535118]\n [-0.94064699  0.3088792  -0.48795004  1.06904497]\n [ 0.50650222  0.3088792   0.48795004 -0.26726124]\n [-1.66422159 -1.40711636 -0.48795004 -0.26726124]\n [ 0.14471492 -0.72071813  0.48795004 -1.60356745]]\n"
     ]
    }
   ],
   "source": [
    "import numpy as np\n",
    "from sklearn.preprocessing import StandardScaler\n",
    "from sklearn.datasets import load_iris\n",
    "data = load_iris()\n",
    "X = data.data[:10]\n",
    "scaler = StandardScaler()\n",
    "scaler.fit(X)\n",
    "print(\"Mean :\", scaler.mean_)\n",
    "print(\"Variance :\", scaler.var_)\n",
    "X_std = scaler.transform(X)\n",
    "\n",
    "print(X_std)"
   ]
  },
  {
   "source": [
    "### \\[Problem 1] Enumeration of classes used so far"
   ],
   "cell_type": "markdown",
   "metadata": {}
  },
  {
   "cell_type": "code",
   "execution_count": 4,
   "metadata": {},
   "outputs": [],
   "source": [
    "import pandas as pd\n",
    "import matplotlib.pyplot as plt"
   ]
  },
  {
   "source": [
    "From the Standardization library, the class is StandardScaler.\n",
    "\n",
    "Furthermore, there are some classes in pandas like: Series(), DataFrame()\n",
    "\n",
    "Or in matplotlib: Axes(), Figure()\n",
    "\n",
    "Or in scikit-learn: LinearRegression(), DecisionTreeRegressor()\n"
   ],
   "cell_type": "markdown",
   "metadata": {}
  },
  {
   "source": [
    "### \\[Problem 2] Enumeration of methods and instance variables used so far"
   ],
   "cell_type": "markdown",
   "metadata": {}
  },
  {
   "source": [
    "Methods: load_iris(), fit(), transform(), sum(), isna(), predict()\n",
    "\n",
    "Instance variables: scaler.mean_, scaler.var_, model.intercept_, x_train.values (values from dataframe), array.shape"
   ],
   "cell_type": "markdown",
   "metadata": {}
  },
  {
   "cell_type": "code",
   "execution_count": 10,
   "metadata": {},
   "outputs": [],
   "source": [
    "X_std = scaler.transform(X)"
   ]
  },
  {
   "source": [
    "### \\[Problem 3] Creating a standardized class by scratch"
   ],
   "cell_type": "markdown",
   "metadata": {}
  },
  {
   "cell_type": "code",
   "execution_count": 53,
   "metadata": {},
   "outputs": [],
   "source": [
    "class ScratchStandardScaler():\n",
    "    \"\"\"\n",
    "    標準化のためのクラス\n",
    "    Attributes\n",
    "    ----------\n",
    "    mean_ : 次の形のndarray, shape(n_features,)\n",
    "        平均\n",
    "    var_ : 次の形のndarray, shape(n_features,)\n",
    "        分散\n",
    "    \"\"\"\n",
    "    def fit(self, X):\n",
    "        \"\"\"\n",
    "        標準化のために平均と標準偏差を計算する。\n",
    "        Parameters\n",
    "        ----------\n",
    "        X : 次の形のndarray, shape (n_samples, n_features)\n",
    "            訓練データ\n",
    "        \"\"\"\n",
    "        self.mean_ = sum(X)/len(X)\n",
    "        self.var_ =  sum((X-self.mean_)**2)/len(X)\n",
    "        self.mean_ = self.mean_.astype(np.float64, copy=False)\n",
    "        self.var_ = self.var_.astype(np.float64, copy=False)\n",
    "\n",
    "    def transform(self, X):\n",
    "        \"\"\"\n",
    "        fitで求めた値を使い標準化を行う。\n",
    "        Parameters\n",
    "        ----------\n",
    "        X : 次の形のndarray, shape (n_samples, n_features)\n",
    "            特徴量\n",
    "        Returns\n",
    "        ----------\n",
    "        X_scaled : 次の形のndarray, shape (n_samples, n_features)\n",
    "            標準化された特緒量\n",
    "        \"\"\"\n",
    "        X_scaled = (X - self.mean_)/np.sqrt(self.var_)\n",
    "        return X_scaled"
   ]
  },
  {
   "cell_type": "code",
   "execution_count": 54,
   "metadata": {},
   "outputs": [
    {
     "output_type": "stream",
     "name": "stdout",
     "text": [
      "Mean : [4.86 3.31 1.45 0.22]\nVariance : [0.0764 0.0849 0.0105 0.0056]\n\n[[ 0.86828953  0.65207831 -0.48795004 -0.26726124]\n [ 0.14471492 -1.06391725 -0.48795004 -0.26726124]\n [-0.57885968 -0.37751902 -1.46385011 -0.26726124]\n [-0.94064699 -0.72071813  0.48795004 -0.26726124]\n [ 0.50650222  0.99527742 -0.48795004 -0.26726124]\n [ 1.95365143  2.02487476  2.43975018  2.40535118]\n [-0.94064699  0.3088792  -0.48795004  1.06904497]\n [ 0.50650222  0.3088792   0.48795004 -0.26726124]\n [-1.66422159 -1.40711636 -0.48795004 -0.26726124]\n [ 0.14471492 -0.72071813  0.48795004 -1.60356745]]\n"
     ]
    }
   ],
   "source": [
    "import numpy as np\n",
    "from sklearn.datasets import load_iris\n",
    "data = load_iris()\n",
    "X = data.data[:10]\n",
    "scratch_scaler = ScratchStandardScaler()\n",
    "scratch_scaler.fit(X)\n",
    "print(\"Mean : {}\".format(scratch_scaler.mean_))\n",
    "print(\"Variance : {}\\n\".format(scratch_scaler.var_))\n",
    "X_std = scratch_scaler.transform(X)\n",
    "\n",
    "print(X_std)"
   ]
  },
  {
   "source": [
    "Seems like our class build from scratch works pretty well and the results are similar to the Problem 1's output."
   ],
   "cell_type": "markdown",
   "metadata": {}
  },
  {
   "cell_type": "code",
   "execution_count": 55,
   "metadata": {},
   "outputs": [
    {
     "output_type": "stream",
     "name": "stdout",
     "text": [
      "初期値5が設定されました\nvalue : 5\nvalue : 8\n"
     ]
    }
   ],
   "source": [
    "class ExampleClass():\n",
    "    \"\"\"\n",
    "    説明用の簡単なクラス\n",
    "    Parameters\n",
    "    ----------\n",
    "    value : float or int\n",
    "        初期値\n",
    "    Attributes\n",
    "    ----------\n",
    "    value : float or int\n",
    "        計算結果\n",
    "    \"\"\"\n",
    "    def __init__(self, value):\n",
    "        self.value = value\n",
    "        print(\"初期値{}が設定されました\".format(self.value))\n",
    "    def add(self, value2):\n",
    "        \"\"\"\n",
    "        受け取った引数をself.valueに加える\n",
    "        \"\"\"\n",
    "        self.value += value2\n",
    "example = ExampleClass(5)\n",
    "print(\"value : {}\".format(example.value))\n",
    "example.add(3)\n",
    "print(\"value : {}\".format(example.value))"
   ]
  },
  {
   "source": [
    "### \\[Problem 4] Creating a class that performs 4 arithmetic operations"
   ],
   "cell_type": "markdown",
   "metadata": {}
  },
  {
   "cell_type": "code",
   "execution_count": 70,
   "metadata": {},
   "outputs": [
    {
     "output_type": "stream",
     "name": "stdout",
     "text": [
      "Initial value: 12.0\nvalue : 12.0\nvalue : 15.0\nvalue : 3.0\nvalue : 30.0\n"
     ]
    }
   ],
   "source": [
    "class ArithmClass():\n",
    "    \"\"\"\n",
    "    Parameters\n",
    "    ----------\n",
    "    value : float or int\n",
    "    !!! Will raised error if input is string or array\n",
    "        \n",
    "    Attributes\n",
    "    ----------\n",
    "    value : float or int\n",
    "\n",
    "    \"\"\"\n",
    "    def __init__(self, value):\n",
    "        try:\n",
    "            self.value = float(value)\n",
    "            print(\"Initial value: {}\".format(self.value))\n",
    "        except ValueError:\n",
    "            print(\"Initial value must be a numeric value!\")\n",
    "\n",
    "    def add(self, value2):\n",
    "        \"\"\"\n",
    "        Addtion operators\n",
    "        \"\"\"\n",
    "        self.value += value2\n",
    "\n",
    "    def sub(self, value2):\n",
    "        \"\"\"\n",
    "        Addtion operators\n",
    "        \"\"\"\n",
    "        self.value -= value2\n",
    "\n",
    "    def mul(self, value2):\n",
    "        \"\"\"\n",
    "        Addtion operators\n",
    "        \"\"\"\n",
    "        self.value *= value2\n",
    "\n",
    "    def div(self, value2):\n",
    "        \"\"\"\n",
    "        Addtion operators\n",
    "        \"\"\"\n",
    "        self.value /= value2\n",
    "\n",
    "example = ArithmClass(12)\n",
    "print(\"value : {}\".format(example.value))\n",
    "example.add(3)\n",
    "print(\"value : {}\".format(example.value))\n",
    "example.div(5)\n",
    "print(\"value : {}\".format(example.value))\n",
    "example.mul(10)\n",
    "print(\"value : {}\".format(example.value))"
   ]
  }
 ]
}