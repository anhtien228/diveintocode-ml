{
 "cells": [
  {
   "cell_type": "markdown",
   "metadata": {},
   "source": [
    "# DIVE INTO CODE COURSE\n",
    "## Introductory Machine Learning Class assignment Learning Credit Information\n",
    "### Doan Anh Tien - 1852789 - tien.doan.g0pr0@hcmut.edu.vn"
   ]
  },
  {
   "cell_type": "code",
   "execution_count": 1,
   "metadata": {},
   "outputs": [],
   "source": [
    "from sklearn.metrics import accuracy_score, precision_score, recall_score, f1_score, confusion_matrix\n",
    "import matplotlib.pyplot as plt\n",
    "import pandas as pd\n",
    "import seaborn as sns\n",
    "import missingno as msno"
   ]
  },
  {
   "cell_type": "markdown",
   "metadata": {},
   "source": [
    "## \\[Problem 1] Confirmation of competition contents"
   ]
  },
  {
   "cell_type": "markdown",
   "metadata": {},
   "source": [
    "### What to learn and what to predict?\n",
    "From the information provided on Kaggle, each applicants will assign with a unique SK_ID_CURR (we can view it as their ID). The competition require us to learn the data from csv files, for example: the features from the main training and testing data, the feature concerning client's previous credits from another financial institutions, or the payment history for the previous loans at Home Credit, ... \n",
    "\n",
    "All of these explanatory variables will affect the final reponse variable TARGET that indicating the type of applicants (0 for the loan was repaid, and 1 for the loan was not repaid). And our goal is to predict the probability for each ID of applicants (submissions are evaluated on area under the ROC curve)."
   ]
  },
  {
   "cell_type": "markdown",
   "metadata": {},
   "source": [
    "### What kind of file to create and submit to Kaggle?\n",
    "The submission file is in the format of csv file. It should have two columns represent for SK_ID_CURR and TARGET (probability), and 345 rows (excluding the header)."
   ]
  },
  {
   "cell_type": "markdown",
   "metadata": {},
   "source": [
    "### What kind of index value will be used to evaluate the submissions?\n",
    "The TARGET column will be evaluated since they are the predicted probabilities."
   ]
  },
  {
   "source": [
    "## \\[Problem 2] Learning and verification\n",
    "## Pre-processing\n",
    "### 1. Get in touch with the data"
   ],
   "cell_type": "markdown",
   "metadata": {}
  },
  {
   "cell_type": "code",
   "execution_count": 2,
   "metadata": {},
   "outputs": [
    {
     "output_type": "stream",
     "name": "stdout",
     "text": [
      "application_train dataset -- rows: 307511, columns: 122\n"
     ]
    }
   ],
   "source": [
    "df = pd.read_csv('home_credit/application_train.csv')\n",
    "\n",
    "# Check the number of columns and rows of this dataset\n",
    "print(\"application_train dataset -- rows: {}, columns: {}\".format(df.shape[0], df.shape[1]))"
   ]
  },
  {
   "cell_type": "code",
   "execution_count": 3,
   "metadata": {},
   "outputs": [
    {
     "output_type": "execute_result",
     "data": {
      "text/plain": [
       "   SK_ID_CURR  TARGET NAME_CONTRACT_TYPE CODE_GENDER FLAG_OWN_CAR  \\\n",
       "0      100002       1         Cash loans           M            N   \n",
       "1      100003       0         Cash loans           F            N   \n",
       "2      100004       0    Revolving loans           M            Y   \n",
       "3      100006       0         Cash loans           F            N   \n",
       "4      100007       0         Cash loans           M            N   \n",
       "\n",
       "  FLAG_OWN_REALTY  CNT_CHILDREN  AMT_INCOME_TOTAL  AMT_CREDIT  AMT_ANNUITY  \\\n",
       "0               Y             0          202500.0    406597.5      24700.5   \n",
       "1               N             0          270000.0   1293502.5      35698.5   \n",
       "2               Y             0           67500.0    135000.0       6750.0   \n",
       "3               Y             0          135000.0    312682.5      29686.5   \n",
       "4               Y             0          121500.0    513000.0      21865.5   \n",
       "\n",
       "   ...  FLAG_DOCUMENT_18 FLAG_DOCUMENT_19 FLAG_DOCUMENT_20 FLAG_DOCUMENT_21  \\\n",
       "0  ...                 0                0                0                0   \n",
       "1  ...                 0                0                0                0   \n",
       "2  ...                 0                0                0                0   \n",
       "3  ...                 0                0                0                0   \n",
       "4  ...                 0                0                0                0   \n",
       "\n",
       "  AMT_REQ_CREDIT_BUREAU_HOUR AMT_REQ_CREDIT_BUREAU_DAY  \\\n",
       "0                        0.0                       0.0   \n",
       "1                        0.0                       0.0   \n",
       "2                        0.0                       0.0   \n",
       "3                        NaN                       NaN   \n",
       "4                        0.0                       0.0   \n",
       "\n",
       "   AMT_REQ_CREDIT_BUREAU_WEEK  AMT_REQ_CREDIT_BUREAU_MON  \\\n",
       "0                         0.0                        0.0   \n",
       "1                         0.0                        0.0   \n",
       "2                         0.0                        0.0   \n",
       "3                         NaN                        NaN   \n",
       "4                         0.0                        0.0   \n",
       "\n",
       "   AMT_REQ_CREDIT_BUREAU_QRT  AMT_REQ_CREDIT_BUREAU_YEAR  \n",
       "0                        0.0                         1.0  \n",
       "1                        0.0                         0.0  \n",
       "2                        0.0                         0.0  \n",
       "3                        NaN                         NaN  \n",
       "4                        0.0                         0.0  \n",
       "\n",
       "[5 rows x 122 columns]"
      ],
      "text/html": "<div>\n<style scoped>\n    .dataframe tbody tr th:only-of-type {\n        vertical-align: middle;\n    }\n\n    .dataframe tbody tr th {\n        vertical-align: top;\n    }\n\n    .dataframe thead th {\n        text-align: right;\n    }\n</style>\n<table border=\"1\" class=\"dataframe\">\n  <thead>\n    <tr style=\"text-align: right;\">\n      <th></th>\n      <th>SK_ID_CURR</th>\n      <th>TARGET</th>\n      <th>NAME_CONTRACT_TYPE</th>\n      <th>CODE_GENDER</th>\n      <th>FLAG_OWN_CAR</th>\n      <th>FLAG_OWN_REALTY</th>\n      <th>CNT_CHILDREN</th>\n      <th>AMT_INCOME_TOTAL</th>\n      <th>AMT_CREDIT</th>\n      <th>AMT_ANNUITY</th>\n      <th>...</th>\n      <th>FLAG_DOCUMENT_18</th>\n      <th>FLAG_DOCUMENT_19</th>\n      <th>FLAG_DOCUMENT_20</th>\n      <th>FLAG_DOCUMENT_21</th>\n      <th>AMT_REQ_CREDIT_BUREAU_HOUR</th>\n      <th>AMT_REQ_CREDIT_BUREAU_DAY</th>\n      <th>AMT_REQ_CREDIT_BUREAU_WEEK</th>\n      <th>AMT_REQ_CREDIT_BUREAU_MON</th>\n      <th>AMT_REQ_CREDIT_BUREAU_QRT</th>\n      <th>AMT_REQ_CREDIT_BUREAU_YEAR</th>\n    </tr>\n  </thead>\n  <tbody>\n    <tr>\n      <th>0</th>\n      <td>100002</td>\n      <td>1</td>\n      <td>Cash loans</td>\n      <td>M</td>\n      <td>N</td>\n      <td>Y</td>\n      <td>0</td>\n      <td>202500.0</td>\n      <td>406597.5</td>\n      <td>24700.5</td>\n      <td>...</td>\n      <td>0</td>\n      <td>0</td>\n      <td>0</td>\n      <td>0</td>\n      <td>0.0</td>\n      <td>0.0</td>\n      <td>0.0</td>\n      <td>0.0</td>\n      <td>0.0</td>\n      <td>1.0</td>\n    </tr>\n    <tr>\n      <th>1</th>\n      <td>100003</td>\n      <td>0</td>\n      <td>Cash loans</td>\n      <td>F</td>\n      <td>N</td>\n      <td>N</td>\n      <td>0</td>\n      <td>270000.0</td>\n      <td>1293502.5</td>\n      <td>35698.5</td>\n      <td>...</td>\n      <td>0</td>\n      <td>0</td>\n      <td>0</td>\n      <td>0</td>\n      <td>0.0</td>\n      <td>0.0</td>\n      <td>0.0</td>\n      <td>0.0</td>\n      <td>0.0</td>\n      <td>0.0</td>\n    </tr>\n    <tr>\n      <th>2</th>\n      <td>100004</td>\n      <td>0</td>\n      <td>Revolving loans</td>\n      <td>M</td>\n      <td>Y</td>\n      <td>Y</td>\n      <td>0</td>\n      <td>67500.0</td>\n      <td>135000.0</td>\n      <td>6750.0</td>\n      <td>...</td>\n      <td>0</td>\n      <td>0</td>\n      <td>0</td>\n      <td>0</td>\n      <td>0.0</td>\n      <td>0.0</td>\n      <td>0.0</td>\n      <td>0.0</td>\n      <td>0.0</td>\n      <td>0.0</td>\n    </tr>\n    <tr>\n      <th>3</th>\n      <td>100006</td>\n      <td>0</td>\n      <td>Cash loans</td>\n      <td>F</td>\n      <td>N</td>\n      <td>Y</td>\n      <td>0</td>\n      <td>135000.0</td>\n      <td>312682.5</td>\n      <td>29686.5</td>\n      <td>...</td>\n      <td>0</td>\n      <td>0</td>\n      <td>0</td>\n      <td>0</td>\n      <td>NaN</td>\n      <td>NaN</td>\n      <td>NaN</td>\n      <td>NaN</td>\n      <td>NaN</td>\n      <td>NaN</td>\n    </tr>\n    <tr>\n      <th>4</th>\n      <td>100007</td>\n      <td>0</td>\n      <td>Cash loans</td>\n      <td>M</td>\n      <td>N</td>\n      <td>Y</td>\n      <td>0</td>\n      <td>121500.0</td>\n      <td>513000.0</td>\n      <td>21865.5</td>\n      <td>...</td>\n      <td>0</td>\n      <td>0</td>\n      <td>0</td>\n      <td>0</td>\n      <td>0.0</td>\n      <td>0.0</td>\n      <td>0.0</td>\n      <td>0.0</td>\n      <td>0.0</td>\n      <td>0.0</td>\n    </tr>\n  </tbody>\n</table>\n<p>5 rows × 122 columns</p>\n</div>"
     },
     "metadata": {},
     "execution_count": 3
    }
   ],
   "source": [
    "df.head()"
   ]
  },
  {
   "source": [
    "### 2. Check mising values"
   ],
   "cell_type": "markdown",
   "metadata": {}
  },
  {
   "cell_type": "code",
   "execution_count": 4,
   "metadata": {},
   "outputs": [],
   "source": [
    "# Check missing values\n",
    "def check_missing(df):\n",
    "    # Create a hash dictionary contain missing ratio of each feature\n",
    "    miss_dict = {}\n",
    "    for columns in df:\n",
    "        count = df[columns].isna().sum()\n",
    "        ratio = count/len(df[columns])\n",
    "        datatype = df[columns].dtype\n",
    "        miss_dict[columns] = [count, ratio, datatype]\n",
    "    \n",
    "    return miss_dict"
   ]
  },
  {
   "cell_type": "code",
   "execution_count": 5,
   "metadata": {},
   "outputs": [
    {
     "output_type": "stream",
     "name": "stdout",
     "text": [
      "Missing ratio table\n"
     ]
    },
    {
     "output_type": "execute_result",
     "data": {
      "text/plain": [
       "                            Total     Ratio     Type\n",
       "SK_ID_CURR                      0         0    int64\n",
       "TARGET                          0         0    int64\n",
       "NAME_CONTRACT_TYPE              0         0   object\n",
       "CODE_GENDER                     0         0   object\n",
       "FLAG_OWN_CAR                    0         0   object\n",
       "...                           ...       ...      ...\n",
       "AMT_REQ_CREDIT_BUREAU_DAY   41519  0.135016  float64\n",
       "AMT_REQ_CREDIT_BUREAU_WEEK  41519  0.135016  float64\n",
       "AMT_REQ_CREDIT_BUREAU_MON   41519  0.135016  float64\n",
       "AMT_REQ_CREDIT_BUREAU_QRT   41519  0.135016  float64\n",
       "AMT_REQ_CREDIT_BUREAU_YEAR  41519  0.135016  float64\n",
       "\n",
       "[122 rows x 3 columns]"
      ],
      "text/html": "<div>\n<style scoped>\n    .dataframe tbody tr th:only-of-type {\n        vertical-align: middle;\n    }\n\n    .dataframe tbody tr th {\n        vertical-align: top;\n    }\n\n    .dataframe thead th {\n        text-align: right;\n    }\n</style>\n<table border=\"1\" class=\"dataframe\">\n  <thead>\n    <tr style=\"text-align: right;\">\n      <th></th>\n      <th>Total</th>\n      <th>Ratio</th>\n      <th>Type</th>\n    </tr>\n  </thead>\n  <tbody>\n    <tr>\n      <th>SK_ID_CURR</th>\n      <td>0</td>\n      <td>0</td>\n      <td>int64</td>\n    </tr>\n    <tr>\n      <th>TARGET</th>\n      <td>0</td>\n      <td>0</td>\n      <td>int64</td>\n    </tr>\n    <tr>\n      <th>NAME_CONTRACT_TYPE</th>\n      <td>0</td>\n      <td>0</td>\n      <td>object</td>\n    </tr>\n    <tr>\n      <th>CODE_GENDER</th>\n      <td>0</td>\n      <td>0</td>\n      <td>object</td>\n    </tr>\n    <tr>\n      <th>FLAG_OWN_CAR</th>\n      <td>0</td>\n      <td>0</td>\n      <td>object</td>\n    </tr>\n    <tr>\n      <th>...</th>\n      <td>...</td>\n      <td>...</td>\n      <td>...</td>\n    </tr>\n    <tr>\n      <th>AMT_REQ_CREDIT_BUREAU_DAY</th>\n      <td>41519</td>\n      <td>0.135016</td>\n      <td>float64</td>\n    </tr>\n    <tr>\n      <th>AMT_REQ_CREDIT_BUREAU_WEEK</th>\n      <td>41519</td>\n      <td>0.135016</td>\n      <td>float64</td>\n    </tr>\n    <tr>\n      <th>AMT_REQ_CREDIT_BUREAU_MON</th>\n      <td>41519</td>\n      <td>0.135016</td>\n      <td>float64</td>\n    </tr>\n    <tr>\n      <th>AMT_REQ_CREDIT_BUREAU_QRT</th>\n      <td>41519</td>\n      <td>0.135016</td>\n      <td>float64</td>\n    </tr>\n    <tr>\n      <th>AMT_REQ_CREDIT_BUREAU_YEAR</th>\n      <td>41519</td>\n      <td>0.135016</td>\n      <td>float64</td>\n    </tr>\n  </tbody>\n</table>\n<p>122 rows × 3 columns</p>\n</div>"
     },
     "metadata": {},
     "execution_count": 5
    }
   ],
   "source": [
    "miss_ratio = pd.DataFrame(check_missing(df), ['Total', 'Ratio', 'Type']).T\n",
    "print(\"Missing ratio table\")\n",
    "miss_ratio"
   ]
  },
  {
   "source": [
    "### 3. Displaying feature having missing ratio > 0"
   ],
   "cell_type": "markdown",
   "metadata": {}
  },
  {
   "cell_type": "code",
   "execution_count": 6,
   "metadata": {},
   "outputs": [
    {
     "output_type": "stream",
     "name": "stdout",
     "text": [
      "Total feature missing values: 67\n"
     ]
    },
    {
     "output_type": "execute_result",
     "data": {
      "text/plain": [
       "                             Total        Ratio     Type\n",
       "AMT_ANNUITY                     12   3.9023e-05  float64\n",
       "AMT_GOODS_PRICE                278  0.000904033  float64\n",
       "NAME_TYPE_SUITE               1292   0.00420148   object\n",
       "OWN_CAR_AGE                 202929     0.659908  float64\n",
       "OCCUPATION_TYPE              96391     0.313455   object\n",
       "...                            ...          ...      ...\n",
       "AMT_REQ_CREDIT_BUREAU_DAY    41519     0.135016  float64\n",
       "AMT_REQ_CREDIT_BUREAU_WEEK   41519     0.135016  float64\n",
       "AMT_REQ_CREDIT_BUREAU_MON    41519     0.135016  float64\n",
       "AMT_REQ_CREDIT_BUREAU_QRT    41519     0.135016  float64\n",
       "AMT_REQ_CREDIT_BUREAU_YEAR   41519     0.135016  float64\n",
       "\n",
       "[67 rows x 3 columns]"
      ],
      "text/html": "<div>\n<style scoped>\n    .dataframe tbody tr th:only-of-type {\n        vertical-align: middle;\n    }\n\n    .dataframe tbody tr th {\n        vertical-align: top;\n    }\n\n    .dataframe thead th {\n        text-align: right;\n    }\n</style>\n<table border=\"1\" class=\"dataframe\">\n  <thead>\n    <tr style=\"text-align: right;\">\n      <th></th>\n      <th>Total</th>\n      <th>Ratio</th>\n      <th>Type</th>\n    </tr>\n  </thead>\n  <tbody>\n    <tr>\n      <th>AMT_ANNUITY</th>\n      <td>12</td>\n      <td>3.9023e-05</td>\n      <td>float64</td>\n    </tr>\n    <tr>\n      <th>AMT_GOODS_PRICE</th>\n      <td>278</td>\n      <td>0.000904033</td>\n      <td>float64</td>\n    </tr>\n    <tr>\n      <th>NAME_TYPE_SUITE</th>\n      <td>1292</td>\n      <td>0.00420148</td>\n      <td>object</td>\n    </tr>\n    <tr>\n      <th>OWN_CAR_AGE</th>\n      <td>202929</td>\n      <td>0.659908</td>\n      <td>float64</td>\n    </tr>\n    <tr>\n      <th>OCCUPATION_TYPE</th>\n      <td>96391</td>\n      <td>0.313455</td>\n      <td>object</td>\n    </tr>\n    <tr>\n      <th>...</th>\n      <td>...</td>\n      <td>...</td>\n      <td>...</td>\n    </tr>\n    <tr>\n      <th>AMT_REQ_CREDIT_BUREAU_DAY</th>\n      <td>41519</td>\n      <td>0.135016</td>\n      <td>float64</td>\n    </tr>\n    <tr>\n      <th>AMT_REQ_CREDIT_BUREAU_WEEK</th>\n      <td>41519</td>\n      <td>0.135016</td>\n      <td>float64</td>\n    </tr>\n    <tr>\n      <th>AMT_REQ_CREDIT_BUREAU_MON</th>\n      <td>41519</td>\n      <td>0.135016</td>\n      <td>float64</td>\n    </tr>\n    <tr>\n      <th>AMT_REQ_CREDIT_BUREAU_QRT</th>\n      <td>41519</td>\n      <td>0.135016</td>\n      <td>float64</td>\n    </tr>\n    <tr>\n      <th>AMT_REQ_CREDIT_BUREAU_YEAR</th>\n      <td>41519</td>\n      <td>0.135016</td>\n      <td>float64</td>\n    </tr>\n  </tbody>\n</table>\n<p>67 rows × 3 columns</p>\n</div>"
     },
     "metadata": {},
     "execution_count": 6
    }
   ],
   "source": [
    "miss_feature = miss_ratio[miss_ratio.Ratio > 0]\n",
    "print(\"Total feature missing values: {}\".format(len(miss_feature)))\n",
    "miss_feature"
   ]
  },
  {
   "cell_type": "code",
   "execution_count": 7,
   "metadata": {},
   "outputs": [
    {
     "output_type": "display_data",
     "data": {
      "text/plain": "<Figure size 432x288 with 1 Axes>",
      "image/svg+xml": "<?xml version=\"1.0\" encoding=\"utf-8\" standalone=\"no\"?>\r\n<!DOCTYPE svg PUBLIC \"-//W3C//DTD SVG 1.1//EN\"\r\n  \"http://www.w3.org/Graphics/SVG/1.1/DTD/svg11.dtd\">\r\n<!-- Created with matplotlib (https://matplotlib.org/) -->\r\n<svg height=\"248.518125pt\" version=\"1.1\" viewBox=\"0 0 368.925 248.518125\" width=\"368.925pt\" xmlns=\"http://www.w3.org/2000/svg\" xmlns:xlink=\"http://www.w3.org/1999/xlink\">\r\n <metadata>\r\n  <rdf:RDF xmlns:cc=\"http://creativecommons.org/ns#\" xmlns:dc=\"http://purl.org/dc/elements/1.1/\" xmlns:rdf=\"http://www.w3.org/1999/02/22-rdf-syntax-ns#\">\r\n   <cc:Work>\r\n    <dc:type rdf:resource=\"http://purl.org/dc/dcmitype/StillImage\"/>\r\n    <dc:date>2021-04-21T03:05:18.638698</dc:date>\r\n    <dc:format>image/svg+xml</dc:format>\r\n    <dc:creator>\r\n     <cc:Agent>\r\n      <dc:title>Matplotlib v3.3.2, https://matplotlib.org/</dc:title>\r\n     </cc:Agent>\r\n    </dc:creator>\r\n   </cc:Work>\r\n  </rdf:RDF>\r\n </metadata>\r\n <defs>\r\n  <style type=\"text/css\">*{stroke-linecap:butt;stroke-linejoin:round;}</style>\r\n </defs>\r\n <g id=\"figure_1\">\r\n  <g id=\"patch_1\">\r\n   <path d=\"M -0 248.518125 \r\nL 368.925 248.518125 \r\nL 368.925 0 \r\nL -0 0 \r\nz\r\n\" style=\"fill:none;\"/>\r\n  </g>\r\n  <g id=\"axes_1\">\r\n   <g id=\"patch_2\">\r\n    <path d=\"M 26.925 224.64 \r\nL 361.725 224.64 \r\nL 361.725 7.2 \r\nL 26.925 7.2 \r\nz\r\n\" style=\"fill:#ffffff;\"/>\r\n   </g>\r\n   <g id=\"patch_3\">\r\n    <path clip-path=\"url(#p998b2744b2)\" d=\"M 42.143182 224.64 \r\nL 57.361364 224.64 \r\nL 57.361364 95.211429 \r\nL 42.143182 95.211429 \r\nz\r\n\" style=\"fill:#1f77b4;\"/>\r\n   </g>\r\n   <g id=\"patch_4\">\r\n    <path clip-path=\"url(#p998b2744b2)\" d=\"M 57.361364 224.64 \r\nL 72.579545 224.64 \r\nL 72.579545 224.64 \r\nL 57.361364 224.64 \r\nz\r\n\" style=\"fill:#1f77b4;\"/>\r\n   </g>\r\n   <g id=\"patch_5\">\r\n    <path clip-path=\"url(#p998b2744b2)\" d=\"M 72.579545 224.64 \r\nL 87.797727 224.64 \r\nL 87.797727 224.64 \r\nL 72.579545 224.64 \r\nz\r\n\" style=\"fill:#1f77b4;\"/>\r\n   </g>\r\n   <g id=\"patch_6\">\r\n    <path clip-path=\"url(#p998b2744b2)\" d=\"M 87.797727 224.64 \r\nL 103.015909 224.64 \r\nL 103.015909 146.982857 \r\nL 87.797727 146.982857 \r\nz\r\n\" style=\"fill:#1f77b4;\"/>\r\n   </g>\r\n   <g id=\"patch_7\">\r\n    <path clip-path=\"url(#p998b2744b2)\" d=\"M 103.015909 224.64 \r\nL 118.234091 224.64 \r\nL 118.234091 224.64 \r\nL 103.015909 224.64 \r\nz\r\n\" style=\"fill:#1f77b4;\"/>\r\n   </g>\r\n   <g id=\"patch_8\">\r\n    <path clip-path=\"url(#p998b2744b2)\" d=\"M 118.234091 224.64 \r\nL 133.452273 224.64 \r\nL 133.452273 211.697143 \r\nL 118.234091 211.697143 \r\nz\r\n\" style=\"fill:#1f77b4;\"/>\r\n   </g>\r\n   <g id=\"patch_9\">\r\n    <path clip-path=\"url(#p998b2744b2)\" d=\"M 133.452273 224.64 \r\nL 148.670455 224.64 \r\nL 148.670455 224.64 \r\nL 133.452273 224.64 \r\nz\r\n\" style=\"fill:#1f77b4;\"/>\r\n   </g>\r\n   <g id=\"patch_10\">\r\n    <path clip-path=\"url(#p998b2744b2)\" d=\"M 148.670455 224.64 \r\nL 163.888636 224.64 \r\nL 163.888636 224.64 \r\nL 148.670455 224.64 \r\nz\r\n\" style=\"fill:#1f77b4;\"/>\r\n   </g>\r\n   <g id=\"patch_11\">\r\n    <path clip-path=\"url(#p998b2744b2)\" d=\"M 163.888636 224.64 \r\nL 179.106818 224.64 \r\nL 179.106818 211.697143 \r\nL 163.888636 211.697143 \r\nz\r\n\" style=\"fill:#1f77b4;\"/>\r\n   </g>\r\n   <g id=\"patch_12\">\r\n    <path clip-path=\"url(#p998b2744b2)\" d=\"M 179.106818 224.64 \r\nL 194.325 224.64 \r\nL 194.325 224.64 \r\nL 179.106818 224.64 \r\nz\r\n\" style=\"fill:#1f77b4;\"/>\r\n   </g>\r\n   <g id=\"patch_13\">\r\n    <path clip-path=\"url(#p998b2744b2)\" d=\"M 194.325 224.64 \r\nL 209.543182 224.64 \r\nL 209.543182 224.64 \r\nL 194.325 224.64 \r\nz\r\n\" style=\"fill:#1f77b4;\"/>\r\n   </g>\r\n   <g id=\"patch_14\">\r\n    <path clip-path=\"url(#p998b2744b2)\" d=\"M 209.543182 224.64 \r\nL 224.761364 224.64 \r\nL 224.761364 224.64 \r\nL 209.543182 224.64 \r\nz\r\n\" style=\"fill:#1f77b4;\"/>\r\n   </g>\r\n   <g id=\"patch_15\">\r\n    <path clip-path=\"url(#p998b2744b2)\" d=\"M 224.761364 224.64 \r\nL 239.979545 224.64 \r\nL 239.979545 224.64 \r\nL 224.761364 224.64 \r\nz\r\n\" style=\"fill:#1f77b4;\"/>\r\n   </g>\r\n   <g id=\"patch_16\">\r\n    <path clip-path=\"url(#p998b2744b2)\" d=\"M 239.979545 224.64 \r\nL 255.197727 224.64 \r\nL 255.197727 159.925714 \r\nL 239.979545 159.925714 \r\nz\r\n\" style=\"fill:#1f77b4;\"/>\r\n   </g>\r\n   <g id=\"patch_17\">\r\n    <path clip-path=\"url(#p998b2744b2)\" d=\"M 255.197727 224.64 \r\nL 270.415909 224.64 \r\nL 270.415909 43.44 \r\nL 255.197727 43.44 \r\nz\r\n\" style=\"fill:#1f77b4;\"/>\r\n   </g>\r\n   <g id=\"patch_18\">\r\n    <path clip-path=\"url(#p998b2744b2)\" d=\"M 270.415909 224.64 \r\nL 285.634091 224.64 \r\nL 285.634091 146.982857 \r\nL 270.415909 146.982857 \r\nz\r\n\" style=\"fill:#1f77b4;\"/>\r\n   </g>\r\n   <g id=\"patch_19\">\r\n    <path clip-path=\"url(#p998b2744b2)\" d=\"M 285.634091 224.64 \r\nL 300.852273 224.64 \r\nL 300.852273 134.04 \r\nL 285.634091 134.04 \r\nz\r\n\" style=\"fill:#1f77b4;\"/>\r\n   </g>\r\n   <g id=\"patch_20\">\r\n    <path clip-path=\"url(#p998b2744b2)\" d=\"M 300.852273 224.64 \r\nL 316.070455 224.64 \r\nL 316.070455 224.64 \r\nL 300.852273 224.64 \r\nz\r\n\" style=\"fill:#1f77b4;\"/>\r\n   </g>\r\n   <g id=\"patch_21\">\r\n    <path clip-path=\"url(#p998b2744b2)\" d=\"M 316.070455 224.64 \r\nL 331.288636 224.64 \r\nL 331.288636 211.697143 \r\nL 316.070455 211.697143 \r\nz\r\n\" style=\"fill:#1f77b4;\"/>\r\n   </g>\r\n   <g id=\"patch_22\">\r\n    <path clip-path=\"url(#p998b2744b2)\" d=\"M 331.288636 224.64 \r\nL 346.506818 224.64 \r\nL 346.506818 17.554286 \r\nL 331.288636 17.554286 \r\nz\r\n\" style=\"fill:#1f77b4;\"/>\r\n   </g>\r\n   <g id=\"matplotlib.axis_1\">\r\n    <g id=\"xtick_1\">\r\n     <g id=\"line2d_1\">\r\n      <defs>\r\n       <path d=\"M 0 0 \r\nL 0 3.5 \r\n\" id=\"mc521dfcf15\" style=\"stroke:#000000;stroke-width:0.8;\"/>\r\n      </defs>\r\n      <g>\r\n       <use style=\"stroke:#000000;stroke-width:0.8;\" x=\"42.141765\" xlink:href=\"#mc521dfcf15\" y=\"224.64\"/>\r\n      </g>\r\n     </g>\r\n     <g id=\"text_1\">\r\n      <!-- 0.0 -->\r\n      <g transform=\"translate(34.190203 239.238437)scale(0.1 -0.1)\">\r\n       <defs>\r\n        <path d=\"M 31.78125 66.40625 \r\nQ 24.171875 66.40625 20.328125 58.90625 \r\nQ 16.5 51.421875 16.5 36.375 \r\nQ 16.5 21.390625 20.328125 13.890625 \r\nQ 24.171875 6.390625 31.78125 6.390625 \r\nQ 39.453125 6.390625 43.28125 13.890625 \r\nQ 47.125 21.390625 47.125 36.375 \r\nQ 47.125 51.421875 43.28125 58.90625 \r\nQ 39.453125 66.40625 31.78125 66.40625 \r\nz\r\nM 31.78125 74.21875 \r\nQ 44.046875 74.21875 50.515625 64.515625 \r\nQ 56.984375 54.828125 56.984375 36.375 \r\nQ 56.984375 17.96875 50.515625 8.265625 \r\nQ 44.046875 -1.421875 31.78125 -1.421875 \r\nQ 19.53125 -1.421875 13.0625 8.265625 \r\nQ 6.59375 17.96875 6.59375 36.375 \r\nQ 6.59375 54.828125 13.0625 64.515625 \r\nQ 19.53125 74.21875 31.78125 74.21875 \r\nz\r\n\" id=\"DejaVuSans-48\"/>\r\n        <path d=\"M 10.6875 12.40625 \r\nL 21 12.40625 \r\nL 21 0 \r\nL 10.6875 0 \r\nz\r\n\" id=\"DejaVuSans-46\"/>\r\n       </defs>\r\n       <use xlink:href=\"#DejaVuSans-48\"/>\r\n       <use x=\"63.623047\" xlink:href=\"#DejaVuSans-46\"/>\r\n       <use x=\"95.410156\" xlink:href=\"#DejaVuSans-48\"/>\r\n      </g>\r\n     </g>\r\n    </g>\r\n    <g id=\"xtick_2\">\r\n     <g id=\"line2d_2\">\r\n      <g>\r\n       <use style=\"stroke:#000000;stroke-width:0.8;\" x=\"85.701955\" xlink:href=\"#mc521dfcf15\" y=\"224.64\"/>\r\n      </g>\r\n     </g>\r\n     <g id=\"text_2\">\r\n      <!-- 0.1 -->\r\n      <g transform=\"translate(77.750393 239.238437)scale(0.1 -0.1)\">\r\n       <defs>\r\n        <path d=\"M 12.40625 8.296875 \r\nL 28.515625 8.296875 \r\nL 28.515625 63.921875 \r\nL 10.984375 60.40625 \r\nL 10.984375 69.390625 \r\nL 28.421875 72.90625 \r\nL 38.28125 72.90625 \r\nL 38.28125 8.296875 \r\nL 54.390625 8.296875 \r\nL 54.390625 0 \r\nL 12.40625 0 \r\nz\r\n\" id=\"DejaVuSans-49\"/>\r\n       </defs>\r\n       <use xlink:href=\"#DejaVuSans-48\"/>\r\n       <use x=\"63.623047\" xlink:href=\"#DejaVuSans-46\"/>\r\n       <use x=\"95.410156\" xlink:href=\"#DejaVuSans-49\"/>\r\n      </g>\r\n     </g>\r\n    </g>\r\n    <g id=\"xtick_3\">\r\n     <g id=\"line2d_3\">\r\n      <g>\r\n       <use style=\"stroke:#000000;stroke-width:0.8;\" x=\"129.262145\" xlink:href=\"#mc521dfcf15\" y=\"224.64\"/>\r\n      </g>\r\n     </g>\r\n     <g id=\"text_3\">\r\n      <!-- 0.2 -->\r\n      <g transform=\"translate(121.310582 239.238437)scale(0.1 -0.1)\">\r\n       <defs>\r\n        <path d=\"M 19.1875 8.296875 \r\nL 53.609375 8.296875 \r\nL 53.609375 0 \r\nL 7.328125 0 \r\nL 7.328125 8.296875 \r\nQ 12.9375 14.109375 22.625 23.890625 \r\nQ 32.328125 33.6875 34.8125 36.53125 \r\nQ 39.546875 41.84375 41.421875 45.53125 \r\nQ 43.3125 49.21875 43.3125 52.78125 \r\nQ 43.3125 58.59375 39.234375 62.25 \r\nQ 35.15625 65.921875 28.609375 65.921875 \r\nQ 23.96875 65.921875 18.8125 64.3125 \r\nQ 13.671875 62.703125 7.8125 59.421875 \r\nL 7.8125 69.390625 \r\nQ 13.765625 71.78125 18.9375 73 \r\nQ 24.125 74.21875 28.421875 74.21875 \r\nQ 39.75 74.21875 46.484375 68.546875 \r\nQ 53.21875 62.890625 53.21875 53.421875 \r\nQ 53.21875 48.921875 51.53125 44.890625 \r\nQ 49.859375 40.875 45.40625 35.40625 \r\nQ 44.1875 33.984375 37.640625 27.21875 \r\nQ 31.109375 20.453125 19.1875 8.296875 \r\nz\r\n\" id=\"DejaVuSans-50\"/>\r\n       </defs>\r\n       <use xlink:href=\"#DejaVuSans-48\"/>\r\n       <use x=\"63.623047\" xlink:href=\"#DejaVuSans-46\"/>\r\n       <use x=\"95.410156\" xlink:href=\"#DejaVuSans-50\"/>\r\n      </g>\r\n     </g>\r\n    </g>\r\n    <g id=\"xtick_4\">\r\n     <g id=\"line2d_4\">\r\n      <g>\r\n       <use style=\"stroke:#000000;stroke-width:0.8;\" x=\"172.822335\" xlink:href=\"#mc521dfcf15\" y=\"224.64\"/>\r\n      </g>\r\n     </g>\r\n     <g id=\"text_4\">\r\n      <!-- 0.3 -->\r\n      <g transform=\"translate(164.870772 239.238437)scale(0.1 -0.1)\">\r\n       <defs>\r\n        <path d=\"M 40.578125 39.3125 \r\nQ 47.65625 37.796875 51.625 33 \r\nQ 55.609375 28.21875 55.609375 21.1875 \r\nQ 55.609375 10.40625 48.1875 4.484375 \r\nQ 40.765625 -1.421875 27.09375 -1.421875 \r\nQ 22.515625 -1.421875 17.65625 -0.515625 \r\nQ 12.796875 0.390625 7.625 2.203125 \r\nL 7.625 11.71875 \r\nQ 11.71875 9.328125 16.59375 8.109375 \r\nQ 21.484375 6.890625 26.8125 6.890625 \r\nQ 36.078125 6.890625 40.9375 10.546875 \r\nQ 45.796875 14.203125 45.796875 21.1875 \r\nQ 45.796875 27.640625 41.28125 31.265625 \r\nQ 36.765625 34.90625 28.71875 34.90625 \r\nL 20.21875 34.90625 \r\nL 20.21875 43.015625 \r\nL 29.109375 43.015625 \r\nQ 36.375 43.015625 40.234375 45.921875 \r\nQ 44.09375 48.828125 44.09375 54.296875 \r\nQ 44.09375 59.90625 40.109375 62.90625 \r\nQ 36.140625 65.921875 28.71875 65.921875 \r\nQ 24.65625 65.921875 20.015625 65.03125 \r\nQ 15.375 64.15625 9.8125 62.3125 \r\nL 9.8125 71.09375 \r\nQ 15.4375 72.65625 20.34375 73.4375 \r\nQ 25.25 74.21875 29.59375 74.21875 \r\nQ 40.828125 74.21875 47.359375 69.109375 \r\nQ 53.90625 64.015625 53.90625 55.328125 \r\nQ 53.90625 49.265625 50.4375 45.09375 \r\nQ 46.96875 40.921875 40.578125 39.3125 \r\nz\r\n\" id=\"DejaVuSans-51\"/>\r\n       </defs>\r\n       <use xlink:href=\"#DejaVuSans-48\"/>\r\n       <use x=\"63.623047\" xlink:href=\"#DejaVuSans-46\"/>\r\n       <use x=\"95.410156\" xlink:href=\"#DejaVuSans-51\"/>\r\n      </g>\r\n     </g>\r\n    </g>\r\n    <g id=\"xtick_5\">\r\n     <g id=\"line2d_5\">\r\n      <g>\r\n       <use style=\"stroke:#000000;stroke-width:0.8;\" x=\"216.382524\" xlink:href=\"#mc521dfcf15\" y=\"224.64\"/>\r\n      </g>\r\n     </g>\r\n     <g id=\"text_5\">\r\n      <!-- 0.4 -->\r\n      <g transform=\"translate(208.430962 239.238437)scale(0.1 -0.1)\">\r\n       <defs>\r\n        <path d=\"M 37.796875 64.3125 \r\nL 12.890625 25.390625 \r\nL 37.796875 25.390625 \r\nz\r\nM 35.203125 72.90625 \r\nL 47.609375 72.90625 \r\nL 47.609375 25.390625 \r\nL 58.015625 25.390625 \r\nL 58.015625 17.1875 \r\nL 47.609375 17.1875 \r\nL 47.609375 0 \r\nL 37.796875 0 \r\nL 37.796875 17.1875 \r\nL 4.890625 17.1875 \r\nL 4.890625 26.703125 \r\nz\r\n\" id=\"DejaVuSans-52\"/>\r\n       </defs>\r\n       <use xlink:href=\"#DejaVuSans-48\"/>\r\n       <use x=\"63.623047\" xlink:href=\"#DejaVuSans-46\"/>\r\n       <use x=\"95.410156\" xlink:href=\"#DejaVuSans-52\"/>\r\n      </g>\r\n     </g>\r\n    </g>\r\n    <g id=\"xtick_6\">\r\n     <g id=\"line2d_6\">\r\n      <g>\r\n       <use style=\"stroke:#000000;stroke-width:0.8;\" x=\"259.942714\" xlink:href=\"#mc521dfcf15\" y=\"224.64\"/>\r\n      </g>\r\n     </g>\r\n     <g id=\"text_6\">\r\n      <!-- 0.5 -->\r\n      <g transform=\"translate(251.991152 239.238437)scale(0.1 -0.1)\">\r\n       <defs>\r\n        <path d=\"M 10.796875 72.90625 \r\nL 49.515625 72.90625 \r\nL 49.515625 64.59375 \r\nL 19.828125 64.59375 \r\nL 19.828125 46.734375 \r\nQ 21.96875 47.46875 24.109375 47.828125 \r\nQ 26.265625 48.1875 28.421875 48.1875 \r\nQ 40.625 48.1875 47.75 41.5 \r\nQ 54.890625 34.8125 54.890625 23.390625 \r\nQ 54.890625 11.625 47.5625 5.09375 \r\nQ 40.234375 -1.421875 26.90625 -1.421875 \r\nQ 22.3125 -1.421875 17.546875 -0.640625 \r\nQ 12.796875 0.140625 7.71875 1.703125 \r\nL 7.71875 11.625 \r\nQ 12.109375 9.234375 16.796875 8.0625 \r\nQ 21.484375 6.890625 26.703125 6.890625 \r\nQ 35.15625 6.890625 40.078125 11.328125 \r\nQ 45.015625 15.765625 45.015625 23.390625 \r\nQ 45.015625 31 40.078125 35.4375 \r\nQ 35.15625 39.890625 26.703125 39.890625 \r\nQ 22.75 39.890625 18.8125 39.015625 \r\nQ 14.890625 38.140625 10.796875 36.28125 \r\nz\r\n\" id=\"DejaVuSans-53\"/>\r\n       </defs>\r\n       <use xlink:href=\"#DejaVuSans-48\"/>\r\n       <use x=\"63.623047\" xlink:href=\"#DejaVuSans-46\"/>\r\n       <use x=\"95.410156\" xlink:href=\"#DejaVuSans-53\"/>\r\n      </g>\r\n     </g>\r\n    </g>\r\n    <g id=\"xtick_7\">\r\n     <g id=\"line2d_7\">\r\n      <g>\r\n       <use style=\"stroke:#000000;stroke-width:0.8;\" x=\"303.502904\" xlink:href=\"#mc521dfcf15\" y=\"224.64\"/>\r\n      </g>\r\n     </g>\r\n     <g id=\"text_7\">\r\n      <!-- 0.6 -->\r\n      <g transform=\"translate(295.551341 239.238437)scale(0.1 -0.1)\">\r\n       <defs>\r\n        <path d=\"M 33.015625 40.375 \r\nQ 26.375 40.375 22.484375 35.828125 \r\nQ 18.609375 31.296875 18.609375 23.390625 \r\nQ 18.609375 15.53125 22.484375 10.953125 \r\nQ 26.375 6.390625 33.015625 6.390625 \r\nQ 39.65625 6.390625 43.53125 10.953125 \r\nQ 47.40625 15.53125 47.40625 23.390625 \r\nQ 47.40625 31.296875 43.53125 35.828125 \r\nQ 39.65625 40.375 33.015625 40.375 \r\nz\r\nM 52.59375 71.296875 \r\nL 52.59375 62.3125 \r\nQ 48.875 64.0625 45.09375 64.984375 \r\nQ 41.3125 65.921875 37.59375 65.921875 \r\nQ 27.828125 65.921875 22.671875 59.328125 \r\nQ 17.53125 52.734375 16.796875 39.40625 \r\nQ 19.671875 43.65625 24.015625 45.921875 \r\nQ 28.375 48.1875 33.59375 48.1875 \r\nQ 44.578125 48.1875 50.953125 41.515625 \r\nQ 57.328125 34.859375 57.328125 23.390625 \r\nQ 57.328125 12.15625 50.6875 5.359375 \r\nQ 44.046875 -1.421875 33.015625 -1.421875 \r\nQ 20.359375 -1.421875 13.671875 8.265625 \r\nQ 6.984375 17.96875 6.984375 36.375 \r\nQ 6.984375 53.65625 15.1875 63.9375 \r\nQ 23.390625 74.21875 37.203125 74.21875 \r\nQ 40.921875 74.21875 44.703125 73.484375 \r\nQ 48.484375 72.75 52.59375 71.296875 \r\nz\r\n\" id=\"DejaVuSans-54\"/>\r\n       </defs>\r\n       <use xlink:href=\"#DejaVuSans-48\"/>\r\n       <use x=\"63.623047\" xlink:href=\"#DejaVuSans-46\"/>\r\n       <use x=\"95.410156\" xlink:href=\"#DejaVuSans-54\"/>\r\n      </g>\r\n     </g>\r\n    </g>\r\n    <g id=\"xtick_8\">\r\n     <g id=\"line2d_8\">\r\n      <g>\r\n       <use style=\"stroke:#000000;stroke-width:0.8;\" x=\"347.063094\" xlink:href=\"#mc521dfcf15\" y=\"224.64\"/>\r\n      </g>\r\n     </g>\r\n     <g id=\"text_8\">\r\n      <!-- 0.7 -->\r\n      <g transform=\"translate(339.111531 239.238437)scale(0.1 -0.1)\">\r\n       <defs>\r\n        <path d=\"M 8.203125 72.90625 \r\nL 55.078125 72.90625 \r\nL 55.078125 68.703125 \r\nL 28.609375 0 \r\nL 18.3125 0 \r\nL 43.21875 64.59375 \r\nL 8.203125 64.59375 \r\nz\r\n\" id=\"DejaVuSans-55\"/>\r\n       </defs>\r\n       <use xlink:href=\"#DejaVuSans-48\"/>\r\n       <use x=\"63.623047\" xlink:href=\"#DejaVuSans-46\"/>\r\n       <use x=\"95.410156\" xlink:href=\"#DejaVuSans-55\"/>\r\n      </g>\r\n     </g>\r\n    </g>\r\n   </g>\r\n   <g id=\"matplotlib.axis_2\">\r\n    <g id=\"ytick_1\">\r\n     <g id=\"line2d_9\">\r\n      <defs>\r\n       <path d=\"M 0 0 \r\nL -3.5 0 \r\n\" id=\"md8aaeeec16\" style=\"stroke:#000000;stroke-width:0.8;\"/>\r\n      </defs>\r\n      <g>\r\n       <use style=\"stroke:#000000;stroke-width:0.8;\" x=\"26.925\" xlink:href=\"#md8aaeeec16\" y=\"224.64\"/>\r\n      </g>\r\n     </g>\r\n     <g id=\"text_9\">\r\n      <!-- 0 -->\r\n      <g transform=\"translate(13.5625 228.439219)scale(0.1 -0.1)\">\r\n       <use xlink:href=\"#DejaVuSans-48\"/>\r\n      </g>\r\n     </g>\r\n    </g>\r\n    <g id=\"ytick_2\">\r\n     <g id=\"line2d_10\">\r\n      <g>\r\n       <use style=\"stroke:#000000;stroke-width:0.8;\" x=\"26.925\" xlink:href=\"#md8aaeeec16\" y=\"198.754286\"/>\r\n      </g>\r\n     </g>\r\n     <g id=\"text_10\">\r\n      <!-- 2 -->\r\n      <g transform=\"translate(13.5625 202.553504)scale(0.1 -0.1)\">\r\n       <use xlink:href=\"#DejaVuSans-50\"/>\r\n      </g>\r\n     </g>\r\n    </g>\r\n    <g id=\"ytick_3\">\r\n     <g id=\"line2d_11\">\r\n      <g>\r\n       <use style=\"stroke:#000000;stroke-width:0.8;\" x=\"26.925\" xlink:href=\"#md8aaeeec16\" y=\"172.868571\"/>\r\n      </g>\r\n     </g>\r\n     <g id=\"text_11\">\r\n      <!-- 4 -->\r\n      <g transform=\"translate(13.5625 176.66779)scale(0.1 -0.1)\">\r\n       <use xlink:href=\"#DejaVuSans-52\"/>\r\n      </g>\r\n     </g>\r\n    </g>\r\n    <g id=\"ytick_4\">\r\n     <g id=\"line2d_12\">\r\n      <g>\r\n       <use style=\"stroke:#000000;stroke-width:0.8;\" x=\"26.925\" xlink:href=\"#md8aaeeec16\" y=\"146.982857\"/>\r\n      </g>\r\n     </g>\r\n     <g id=\"text_12\">\r\n      <!-- 6 -->\r\n      <g transform=\"translate(13.5625 150.782076)scale(0.1 -0.1)\">\r\n       <use xlink:href=\"#DejaVuSans-54\"/>\r\n      </g>\r\n     </g>\r\n    </g>\r\n    <g id=\"ytick_5\">\r\n     <g id=\"line2d_13\">\r\n      <g>\r\n       <use style=\"stroke:#000000;stroke-width:0.8;\" x=\"26.925\" xlink:href=\"#md8aaeeec16\" y=\"121.097143\"/>\r\n      </g>\r\n     </g>\r\n     <g id=\"text_13\">\r\n      <!-- 8 -->\r\n      <g transform=\"translate(13.5625 124.896362)scale(0.1 -0.1)\">\r\n       <defs>\r\n        <path d=\"M 31.78125 34.625 \r\nQ 24.75 34.625 20.71875 30.859375 \r\nQ 16.703125 27.09375 16.703125 20.515625 \r\nQ 16.703125 13.921875 20.71875 10.15625 \r\nQ 24.75 6.390625 31.78125 6.390625 \r\nQ 38.8125 6.390625 42.859375 10.171875 \r\nQ 46.921875 13.96875 46.921875 20.515625 \r\nQ 46.921875 27.09375 42.890625 30.859375 \r\nQ 38.875 34.625 31.78125 34.625 \r\nz\r\nM 21.921875 38.8125 \r\nQ 15.578125 40.375 12.03125 44.71875 \r\nQ 8.5 49.078125 8.5 55.328125 \r\nQ 8.5 64.0625 14.71875 69.140625 \r\nQ 20.953125 74.21875 31.78125 74.21875 \r\nQ 42.671875 74.21875 48.875 69.140625 \r\nQ 55.078125 64.0625 55.078125 55.328125 \r\nQ 55.078125 49.078125 51.53125 44.71875 \r\nQ 48 40.375 41.703125 38.8125 \r\nQ 48.828125 37.15625 52.796875 32.3125 \r\nQ 56.78125 27.484375 56.78125 20.515625 \r\nQ 56.78125 9.90625 50.3125 4.234375 \r\nQ 43.84375 -1.421875 31.78125 -1.421875 \r\nQ 19.734375 -1.421875 13.25 4.234375 \r\nQ 6.78125 9.90625 6.78125 20.515625 \r\nQ 6.78125 27.484375 10.78125 32.3125 \r\nQ 14.796875 37.15625 21.921875 38.8125 \r\nz\r\nM 18.3125 54.390625 \r\nQ 18.3125 48.734375 21.84375 45.5625 \r\nQ 25.390625 42.390625 31.78125 42.390625 \r\nQ 38.140625 42.390625 41.71875 45.5625 \r\nQ 45.3125 48.734375 45.3125 54.390625 \r\nQ 45.3125 60.0625 41.71875 63.234375 \r\nQ 38.140625 66.40625 31.78125 66.40625 \r\nQ 25.390625 66.40625 21.84375 63.234375 \r\nQ 18.3125 60.0625 18.3125 54.390625 \r\nz\r\n\" id=\"DejaVuSans-56\"/>\r\n       </defs>\r\n       <use xlink:href=\"#DejaVuSans-56\"/>\r\n      </g>\r\n     </g>\r\n    </g>\r\n    <g id=\"ytick_6\">\r\n     <g id=\"line2d_14\">\r\n      <g>\r\n       <use style=\"stroke:#000000;stroke-width:0.8;\" x=\"26.925\" xlink:href=\"#md8aaeeec16\" y=\"95.211429\"/>\r\n      </g>\r\n     </g>\r\n     <g id=\"text_14\">\r\n      <!-- 10 -->\r\n      <g transform=\"translate(7.2 99.010647)scale(0.1 -0.1)\">\r\n       <use xlink:href=\"#DejaVuSans-49\"/>\r\n       <use x=\"63.623047\" xlink:href=\"#DejaVuSans-48\"/>\r\n      </g>\r\n     </g>\r\n    </g>\r\n    <g id=\"ytick_7\">\r\n     <g id=\"line2d_15\">\r\n      <g>\r\n       <use style=\"stroke:#000000;stroke-width:0.8;\" x=\"26.925\" xlink:href=\"#md8aaeeec16\" y=\"69.325714\"/>\r\n      </g>\r\n     </g>\r\n     <g id=\"text_15\">\r\n      <!-- 12 -->\r\n      <g transform=\"translate(7.2 73.124933)scale(0.1 -0.1)\">\r\n       <use xlink:href=\"#DejaVuSans-49\"/>\r\n       <use x=\"63.623047\" xlink:href=\"#DejaVuSans-50\"/>\r\n      </g>\r\n     </g>\r\n    </g>\r\n    <g id=\"ytick_8\">\r\n     <g id=\"line2d_16\">\r\n      <g>\r\n       <use style=\"stroke:#000000;stroke-width:0.8;\" x=\"26.925\" xlink:href=\"#md8aaeeec16\" y=\"43.44\"/>\r\n      </g>\r\n     </g>\r\n     <g id=\"text_16\">\r\n      <!-- 14 -->\r\n      <g transform=\"translate(7.2 47.239219)scale(0.1 -0.1)\">\r\n       <use xlink:href=\"#DejaVuSans-49\"/>\r\n       <use x=\"63.623047\" xlink:href=\"#DejaVuSans-52\"/>\r\n      </g>\r\n     </g>\r\n    </g>\r\n    <g id=\"ytick_9\">\r\n     <g id=\"line2d_17\">\r\n      <g>\r\n       <use style=\"stroke:#000000;stroke-width:0.8;\" x=\"26.925\" xlink:href=\"#md8aaeeec16\" y=\"17.554286\"/>\r\n      </g>\r\n     </g>\r\n     <g id=\"text_17\">\r\n      <!-- 16 -->\r\n      <g transform=\"translate(7.2 21.353504)scale(0.1 -0.1)\">\r\n       <use xlink:href=\"#DejaVuSans-49\"/>\r\n       <use x=\"63.623047\" xlink:href=\"#DejaVuSans-54\"/>\r\n      </g>\r\n     </g>\r\n    </g>\r\n   </g>\r\n   <g id=\"patch_23\">\r\n    <path d=\"M 26.925 224.64 \r\nL 26.925 7.2 \r\n\" style=\"fill:none;stroke:#000000;stroke-linecap:square;stroke-linejoin:miter;stroke-width:0.8;\"/>\r\n   </g>\r\n   <g id=\"patch_24\">\r\n    <path d=\"M 361.725 224.64 \r\nL 361.725 7.2 \r\n\" style=\"fill:none;stroke:#000000;stroke-linecap:square;stroke-linejoin:miter;stroke-width:0.8;\"/>\r\n   </g>\r\n   <g id=\"patch_25\">\r\n    <path d=\"M 26.925 224.64 \r\nL 361.725 224.64 \r\n\" style=\"fill:none;stroke:#000000;stroke-linecap:square;stroke-linejoin:miter;stroke-width:0.8;\"/>\r\n   </g>\r\n   <g id=\"patch_26\">\r\n    <path d=\"M 26.925 7.2 \r\nL 361.725 7.2 \r\n\" style=\"fill:none;stroke:#000000;stroke-linecap:square;stroke-linejoin:miter;stroke-width:0.8;\"/>\r\n   </g>\r\n  </g>\r\n </g>\r\n <defs>\r\n  <clipPath id=\"p998b2744b2\">\r\n   <rect height=\"217.44\" width=\"334.8\" x=\"26.925\" y=\"7.2\"/>\r\n  </clipPath>\r\n </defs>\r\n</svg>\r\n",
      "image/png": "[encoded data removed]"
     },
     "metadata": {
      "needs_background": "light"
     }
    }
   ],
   "source": [
    "plt.hist(miss_feature['Ratio'], bins=20)\n",
    "plt.show()"
   ]
  },
  {
   "source": [
    "### 4. Testing out the imputer to fill the missing values"
   ],
   "cell_type": "markdown",
   "metadata": {}
  },
  {
   "cell_type": "code",
   "execution_count": 8,
   "metadata": {},
   "outputs": [
    {
     "output_type": "stream",
     "name": "stdout",
     "text": [
      "Number of missing value: 12\n"
     ]
    }
   ],
   "source": [
    "# Take the AMT_ANNUITY as an example\n",
    "print(\"Number of missing value: {}\".format(df['AMT_ANNUITY'].isna().sum()))"
   ]
  },
  {
   "cell_type": "code",
   "execution_count": 9,
   "metadata": {},
   "outputs": [],
   "source": [
    "from sklearn.impute import SimpleImputer\n",
    "import numpy as np\n",
    "imr = SimpleImputer(missing_values=np.NaN, strategy='mean')\n",
    "imr = imr.fit(df[['AMT_ANNUITY']])\n",
    "df['AMT_ANNUITY'] = imr.transform(df[['AMT_ANNUITY']]).ravel()"
   ]
  },
  {
   "cell_type": "code",
   "execution_count": 10,
   "metadata": {},
   "outputs": [
    {
     "output_type": "stream",
     "name": "stdout",
     "text": [
      "Number of missing value: 0\n"
     ]
    }
   ],
   "source": [
    "print(\"Number of missing value: {}\".format(df['AMT_ANNUITY'].isna().sum()))"
   ]
  },
  {
   "source": [
    "## Joining train and test dataset for assesing"
   ],
   "cell_type": "markdown",
   "metadata": {}
  },
  {
   "source": [
    "## 1. Join the dataset"
   ],
   "cell_type": "markdown",
   "metadata": {}
  },
  {
   "cell_type": "code",
   "execution_count": 11,
   "metadata": {},
   "outputs": [],
   "source": [
    "df_train = pd.read_csv('home_credit/application_train.csv')\n",
    "df_test = pd.read_csv('home_credit/application_test.csv')"
   ]
  },
  {
   "cell_type": "code",
   "execution_count": 12,
   "metadata": {},
   "outputs": [
    {
     "output_type": "stream",
     "name": "stdout",
     "text": [
      "The shape of our full dataset: ((307511, 122), (48744, 121))\n"
     ]
    }
   ],
   "source": [
    "print(\"The shape of our full dataset: ({}, {})\".format(df_train.shape, df_test.shape))"
   ]
  },
  {
   "cell_type": "code",
   "execution_count": 13,
   "metadata": {},
   "outputs": [],
   "source": [
    "target = df_train['TARGET'] \n",
    "df_train = df_train.drop('TARGET', axis=1)"
   ]
  },
  {
   "cell_type": "code",
   "execution_count": 14,
   "metadata": {},
   "outputs": [],
   "source": [
    "df_train['training_dataset'] = True # distinguish the train and test dataset when join them together\n",
    "df_test['training_dataset'] = False\n",
    "test_index = df_test['SK_ID_CURR']"
   ]
  },
  {
   "cell_type": "code",
   "execution_count": 15,
   "metadata": {},
   "outputs": [
    {
     "output_type": "stream",
     "name": "stdout",
     "text": [
      "The shape of our full dataset: (356255, 121)\n"
     ]
    }
   ],
   "source": [
    "df_total = pd.concat([df_train, df_test]) #concatenate both dataframes\n",
    "df_total = df_total.drop('SK_ID_CURR', axis=1) #drop SK_ID_CURR variable\n",
    "print(\"The shape of our full dataset: {}\".format(df_total.shape))"
   ]
  },
  {
   "source": [
    "### 2. Convert the categorical features into numerical (encoding)"
   ],
   "cell_type": "markdown",
   "metadata": {}
  },
  {
   "cell_type": "code",
   "execution_count": 16,
   "metadata": {},
   "outputs": [],
   "source": [
    "from sklearn.preprocessing import LabelEncoder\n",
    "# Create a label encoder object\n",
    "label_en = LabelEncoder()"
   ]
  },
  {
   "cell_type": "code",
   "execution_count": 17,
   "metadata": {},
   "outputs": [
    {
     "output_type": "execute_result",
     "data": {
      "text/plain": [
       "float64    65\n",
       "int64      39\n",
       "object     16\n",
       "bool        1\n",
       "dtype: int64"
      ]
     },
     "metadata": {},
     "execution_count": 17
    }
   ],
   "source": [
    "df_total.dtypes.value_counts()"
   ]
  },
  {
   "source": [
    "The LabelEncoder function allow us to encode the categorical feature between 0 or 1, so we only get the column with at most 2 labels."
   ],
   "cell_type": "markdown",
   "metadata": {}
  },
  {
   "cell_type": "code",
   "execution_count": 18,
   "metadata": {},
   "outputs": [
    {
     "output_type": "stream",
     "name": "stdout",
     "text": [
      "FLAG_OWN_CAR have been modified\n",
      "FLAG_OWN_REALTY have been modified\n",
      "2 columns have been encoded.\n"
     ]
    }
   ],
   "source": [
    "label_en_count = 0 # count the number of categorical features that can be converted\n",
    "for columns in df_total.columns[1:]: # We do not need the NAME_CONTRACT_TYPE columns since it the same with TARGET variables\n",
    "    if df_total[columns].dtype == 'object':\n",
    "        if len(list(df_total[columns].unique())) <= 2:\n",
    "            label_en.fit(df_total[columns])\n",
    "            df_total[columns] = label_en.transform(df_total[columns])\n",
    "            label_en_count += 1\n",
    "            print(\"{} have been modified\".format(columns))\n",
    "\n",
    "print('{} columns have been encoded.'.format(label_en_count))"
   ]
  },
  {
   "source": [
    "And those columns with more than 3 features (the columns that were not encoded) will be called dummy data"
   ],
   "cell_type": "markdown",
   "metadata": {}
  },
  {
   "cell_type": "code",
   "execution_count": 19,
   "metadata": {},
   "outputs": [],
   "source": [
    "df_total = pd.get_dummies(df_total)"
   ]
  },
  {
   "cell_type": "code",
   "execution_count": 20,
   "metadata": {},
   "outputs": [
    {
     "output_type": "stream",
     "name": "stdout",
     "text": [
      "The shape of full ENCODED dataset: (356255, 243)\n"
     ]
    }
   ],
   "source": [
    "print(\"The shape of full ENCODED dataset: {}\".format(df_total.shape))"
   ]
  },
  {
   "cell_type": "code",
   "execution_count": 21,
   "metadata": {},
   "outputs": [
    {
     "output_type": "execute_result",
     "data": {
      "text/plain": [
       "uint8      136\n",
       "float64     65\n",
       "int64       39\n",
       "int32        2\n",
       "bool         1\n",
       "dtype: int64"
      ]
     },
     "metadata": {},
     "execution_count": 21
    }
   ],
   "source": [
    "df_total.dtypes.value_counts()"
   ]
  },
  {
   "cell_type": "code",
   "execution_count": 22,
   "metadata": {},
   "outputs": [
    {
     "output_type": "execute_result",
     "data": {
      "text/plain": [
       "   FLAG_OWN_CAR  FLAG_OWN_REALTY  CNT_CHILDREN  AMT_INCOME_TOTAL  AMT_CREDIT  \\\n",
       "0             0                1             0          202500.0    406597.5   \n",
       "1             0                0             0          270000.0   1293502.5   \n",
       "2             1                1             0           67500.0    135000.0   \n",
       "3             0                1             0          135000.0    312682.5   \n",
       "4             0                1             0          121500.0    513000.0   \n",
       "\n",
       "   AMT_ANNUITY  AMT_GOODS_PRICE  REGION_POPULATION_RELATIVE  DAYS_BIRTH  \\\n",
       "0      24700.5         351000.0                    0.018801       -9461   \n",
       "1      35698.5        1129500.0                    0.003541      -16765   \n",
       "2       6750.0         135000.0                    0.010032      -19046   \n",
       "3      29686.5         297000.0                    0.008019      -19005   \n",
       "4      21865.5         513000.0                    0.028663      -19932   \n",
       "\n",
       "   DAYS_EMPLOYED  ...  HOUSETYPE_MODE_terraced house  \\\n",
       "0           -637  ...                              0   \n",
       "1          -1188  ...                              0   \n",
       "2           -225  ...                              0   \n",
       "3          -3039  ...                              0   \n",
       "4          -3038  ...                              0   \n",
       "\n",
       "   WALLSMATERIAL_MODE_Block  WALLSMATERIAL_MODE_Mixed  \\\n",
       "0                         0                         0   \n",
       "1                         1                         0   \n",
       "2                         0                         0   \n",
       "3                         0                         0   \n",
       "4                         0                         0   \n",
       "\n",
       "   WALLSMATERIAL_MODE_Monolithic  WALLSMATERIAL_MODE_Others  \\\n",
       "0                              0                          0   \n",
       "1                              0                          0   \n",
       "2                              0                          0   \n",
       "3                              0                          0   \n",
       "4                              0                          0   \n",
       "\n",
       "   WALLSMATERIAL_MODE_Panel  WALLSMATERIAL_MODE_Stone, brick  \\\n",
       "0                         0                                1   \n",
       "1                         0                                0   \n",
       "2                         0                                0   \n",
       "3                         0                                0   \n",
       "4                         0                                0   \n",
       "\n",
       "   WALLSMATERIAL_MODE_Wooden  EMERGENCYSTATE_MODE_No  EMERGENCYSTATE_MODE_Yes  \n",
       "0                          0                       1                        0  \n",
       "1                          0                       1                        0  \n",
       "2                          0                       0                        0  \n",
       "3                          0                       0                        0  \n",
       "4                          0                       0                        0  \n",
       "\n",
       "[5 rows x 243 columns]"
      ],
      "text/html": "<div>\n<style scoped>\n    .dataframe tbody tr th:only-of-type {\n        vertical-align: middle;\n    }\n\n    .dataframe tbody tr th {\n        vertical-align: top;\n    }\n\n    .dataframe thead th {\n        text-align: right;\n    }\n</style>\n<table border=\"1\" class=\"dataframe\">\n  <thead>\n    <tr style=\"text-align: right;\">\n      <th></th>\n      <th>FLAG_OWN_CAR</th>\n      <th>FLAG_OWN_REALTY</th>\n      <th>CNT_CHILDREN</th>\n      <th>AMT_INCOME_TOTAL</th>\n      <th>AMT_CREDIT</th>\n      <th>AMT_ANNUITY</th>\n      <th>AMT_GOODS_PRICE</th>\n      <th>REGION_POPULATION_RELATIVE</th>\n      <th>DAYS_BIRTH</th>\n      <th>DAYS_EMPLOYED</th>\n      <th>...</th>\n      <th>HOUSETYPE_MODE_terraced house</th>\n      <th>WALLSMATERIAL_MODE_Block</th>\n      <th>WALLSMATERIAL_MODE_Mixed</th>\n      <th>WALLSMATERIAL_MODE_Monolithic</th>\n      <th>WALLSMATERIAL_MODE_Others</th>\n      <th>WALLSMATERIAL_MODE_Panel</th>\n      <th>WALLSMATERIAL_MODE_Stone, brick</th>\n      <th>WALLSMATERIAL_MODE_Wooden</th>\n      <th>EMERGENCYSTATE_MODE_No</th>\n      <th>EMERGENCYSTATE_MODE_Yes</th>\n    </tr>\n  </thead>\n  <tbody>\n    <tr>\n      <th>0</th>\n      <td>0</td>\n      <td>1</td>\n      <td>0</td>\n      <td>202500.0</td>\n      <td>406597.5</td>\n      <td>24700.5</td>\n      <td>351000.0</td>\n      <td>0.018801</td>\n      <td>-9461</td>\n      <td>-637</td>\n      <td>...</td>\n      <td>0</td>\n      <td>0</td>\n      <td>0</td>\n      <td>0</td>\n      <td>0</td>\n      <td>0</td>\n      <td>1</td>\n      <td>0</td>\n      <td>1</td>\n      <td>0</td>\n    </tr>\n    <tr>\n      <th>1</th>\n      <td>0</td>\n      <td>0</td>\n      <td>0</td>\n      <td>270000.0</td>\n      <td>1293502.5</td>\n      <td>35698.5</td>\n      <td>1129500.0</td>\n      <td>0.003541</td>\n      <td>-16765</td>\n      <td>-1188</td>\n      <td>...</td>\n      <td>0</td>\n      <td>1</td>\n      <td>0</td>\n      <td>0</td>\n      <td>0</td>\n      <td>0</td>\n      <td>0</td>\n      <td>0</td>\n      <td>1</td>\n      <td>0</td>\n    </tr>\n    <tr>\n      <th>2</th>\n      <td>1</td>\n      <td>1</td>\n      <td>0</td>\n      <td>67500.0</td>\n      <td>135000.0</td>\n      <td>6750.0</td>\n      <td>135000.0</td>\n      <td>0.010032</td>\n      <td>-19046</td>\n      <td>-225</td>\n      <td>...</td>\n      <td>0</td>\n      <td>0</td>\n      <td>0</td>\n      <td>0</td>\n      <td>0</td>\n      <td>0</td>\n      <td>0</td>\n      <td>0</td>\n      <td>0</td>\n      <td>0</td>\n    </tr>\n    <tr>\n      <th>3</th>\n      <td>0</td>\n      <td>1</td>\n      <td>0</td>\n      <td>135000.0</td>\n      <td>312682.5</td>\n      <td>29686.5</td>\n      <td>297000.0</td>\n      <td>0.008019</td>\n      <td>-19005</td>\n      <td>-3039</td>\n      <td>...</td>\n      <td>0</td>\n      <td>0</td>\n      <td>0</td>\n      <td>0</td>\n      <td>0</td>\n      <td>0</td>\n      <td>0</td>\n      <td>0</td>\n      <td>0</td>\n      <td>0</td>\n    </tr>\n    <tr>\n      <th>4</th>\n      <td>0</td>\n      <td>1</td>\n      <td>0</td>\n      <td>121500.0</td>\n      <td>513000.0</td>\n      <td>21865.5</td>\n      <td>513000.0</td>\n      <td>0.028663</td>\n      <td>-19932</td>\n      <td>-3038</td>\n      <td>...</td>\n      <td>0</td>\n      <td>0</td>\n      <td>0</td>\n      <td>0</td>\n      <td>0</td>\n      <td>0</td>\n      <td>0</td>\n      <td>0</td>\n      <td>0</td>\n      <td>0</td>\n    </tr>\n  </tbody>\n</table>\n<p>5 rows × 243 columns</p>\n</div>"
     },
     "metadata": {},
     "execution_count": 22
    }
   ],
   "source": [
    "df_total.head()"
   ]
  },
  {
   "source": [
    "As a result, the number of features have increased from 121 to 243 and all features will have the same format so we can apply such algorithms like Linear Regression or Random Forest Classifier properly."
   ],
   "cell_type": "markdown",
   "metadata": {}
  },
  {
   "source": [
    "### 3. Fill all missing values of dataset"
   ],
   "cell_type": "markdown",
   "metadata": {}
  },
  {
   "cell_type": "code",
   "execution_count": 23,
   "metadata": {},
   "outputs": [
    {
     "output_type": "stream",
     "name": "stdout",
     "text": [
      "Total missing value BEFORE imputing: 9673479\n"
     ]
    }
   ],
   "source": [
    "print(\"Total missing value BEFORE imputing: {}\".format(df_total.isna().sum().sum()))"
   ]
  },
  {
   "cell_type": "code",
   "execution_count": 24,
   "metadata": {},
   "outputs": [],
   "source": [
    "from pandas.api.types import is_string_dtype\n",
    "from pandas.api.types import is_numeric_dtype\n",
    "from sklearn.preprocessing import MinMaxScaler\n",
    "from sklearn.preprocessing import StandardScaler\n",
    "\n",
    "def fill_missing_value(df):\n",
    "    new_df = df\n",
    "    imr = SimpleImputer(missing_values=np.NaN, strategy='median')\n",
    "    #scaler = StandardScaler()\n",
    "    #scaler = MinMaxScaler(feature_range = (0, 1))\n",
    "    for columns in new_df.columns[2:]:\n",
    "        #if is_numeric_dtype(new_df[columns]):\n",
    "        imr_all = imr.fit(new_df[[columns]])\n",
    "        new_df[columns] = imr_all.transform(new_df[[columns]]).ravel()\n",
    "        #scaler_all = scaler.fit(new_df[[columns]])\n",
    "        #new_df[columns] = scaler_all.transform(new_df[[columns]]).ravel()\n",
    "\n",
    "    return new_df"
   ]
  },
  {
   "cell_type": "code",
   "execution_count": 25,
   "metadata": {},
   "outputs": [],
   "source": [
    "df_total = fill_missing_value(df_total)"
   ]
  },
  {
   "cell_type": "code",
   "execution_count": 26,
   "metadata": {},
   "outputs": [
    {
     "output_type": "stream",
     "name": "stdout",
     "text": [
      "Total missing value AFTER imputing: 0\n"
     ]
    }
   ],
   "source": [
    "print(\"Total missing value AFTER imputing: {}\".format(df_total.isna().sum().sum()))"
   ]
  },
  {
   "cell_type": "code",
   "execution_count": 27,
   "metadata": {},
   "outputs": [
    {
     "output_type": "stream",
     "name": "stdout",
     "text": [
      "Missing ratio table after imputing and encoding\n"
     ]
    },
    {
     "output_type": "execute_result",
     "data": {
      "text/plain": [
       "                                Total Ratio     Type\n",
       "FLAG_OWN_CAR                        0     0    int32\n",
       "FLAG_OWN_REALTY                     0     0    int32\n",
       "CNT_CHILDREN                        0     0  float64\n",
       "AMT_INCOME_TOTAL                    0     0  float64\n",
       "AMT_CREDIT                          0     0  float64\n",
       "...                               ...   ...      ...\n",
       "WALLSMATERIAL_MODE_Panel            0     0  float64\n",
       "WALLSMATERIAL_MODE_Stone, brick     0     0  float64\n",
       "WALLSMATERIAL_MODE_Wooden           0     0  float64\n",
       "EMERGENCYSTATE_MODE_No              0     0  float64\n",
       "EMERGENCYSTATE_MODE_Yes             0     0  float64\n",
       "\n",
       "[243 rows x 3 columns]"
      ],
      "text/html": "<div>\n<style scoped>\n    .dataframe tbody tr th:only-of-type {\n        vertical-align: middle;\n    }\n\n    .dataframe tbody tr th {\n        vertical-align: top;\n    }\n\n    .dataframe thead th {\n        text-align: right;\n    }\n</style>\n<table border=\"1\" class=\"dataframe\">\n  <thead>\n    <tr style=\"text-align: right;\">\n      <th></th>\n      <th>Total</th>\n      <th>Ratio</th>\n      <th>Type</th>\n    </tr>\n  </thead>\n  <tbody>\n    <tr>\n      <th>FLAG_OWN_CAR</th>\n      <td>0</td>\n      <td>0</td>\n      <td>int32</td>\n    </tr>\n    <tr>\n      <th>FLAG_OWN_REALTY</th>\n      <td>0</td>\n      <td>0</td>\n      <td>int32</td>\n    </tr>\n    <tr>\n      <th>CNT_CHILDREN</th>\n      <td>0</td>\n      <td>0</td>\n      <td>float64</td>\n    </tr>\n    <tr>\n      <th>AMT_INCOME_TOTAL</th>\n      <td>0</td>\n      <td>0</td>\n      <td>float64</td>\n    </tr>\n    <tr>\n      <th>AMT_CREDIT</th>\n      <td>0</td>\n      <td>0</td>\n      <td>float64</td>\n    </tr>\n    <tr>\n      <th>...</th>\n      <td>...</td>\n      <td>...</td>\n      <td>...</td>\n    </tr>\n    <tr>\n      <th>WALLSMATERIAL_MODE_Panel</th>\n      <td>0</td>\n      <td>0</td>\n      <td>float64</td>\n    </tr>\n    <tr>\n      <th>WALLSMATERIAL_MODE_Stone, brick</th>\n      <td>0</td>\n      <td>0</td>\n      <td>float64</td>\n    </tr>\n    <tr>\n      <th>WALLSMATERIAL_MODE_Wooden</th>\n      <td>0</td>\n      <td>0</td>\n      <td>float64</td>\n    </tr>\n    <tr>\n      <th>EMERGENCYSTATE_MODE_No</th>\n      <td>0</td>\n      <td>0</td>\n      <td>float64</td>\n    </tr>\n    <tr>\n      <th>EMERGENCYSTATE_MODE_Yes</th>\n      <td>0</td>\n      <td>0</td>\n      <td>float64</td>\n    </tr>\n  </tbody>\n</table>\n<p>243 rows × 3 columns</p>\n</div>"
     },
     "metadata": {},
     "execution_count": 27
    }
   ],
   "source": [
    "miss_ratio_full = pd.DataFrame(check_missing(df_total), ['Total', 'Ratio', 'Type']).T\n",
    "print(\"Missing ratio table after imputing and encoding\")\n",
    "miss_ratio_full"
   ]
  },
  {
   "cell_type": "code",
   "execution_count": 28,
   "metadata": {},
   "outputs": [
    {
     "output_type": "stream",
     "name": "stdout",
     "text": [
      "Total missing value: 0\n"
     ]
    }
   ],
   "source": [
    "print(\"Total missing value: {}\".format(int(miss_ratio_full[miss_ratio_full.Total > 0].sum().sum())))"
   ]
  },
  {
   "source": [
    "After using imputer, the number of missing values has dramatically decreased by more than 10 times compared to its raw state. The stategy for imputer is using the median value - calculated from the exist data - to fill up the blanks. And the scaler is used to normalize the range of the features to scale them between values 0 and 1.\n",
    "\n",
    "At this point, our preprocessing step is more easily to adapt and optimize to the training and learning stage."
   ],
   "cell_type": "markdown",
   "metadata": {}
  },
  {
   "source": [
    "## \\[Problem 3] Estimation on test data\n",
    "### 1. Dataset Preparation"
   ],
   "cell_type": "markdown",
   "metadata": {}
  },
  {
   "cell_type": "code",
   "execution_count": 29,
   "metadata": {},
   "outputs": [],
   "source": [
    "df_train = df_total[df_total['training_dataset']==True]\n",
    "df_train = df_train.drop('training_dataset', axis=1)\n",
    "df_test = df_total[df_total['training_dataset']==False]\n",
    "df_test = df_test.drop('training_dataset', axis=1)"
   ]
  },
  {
   "cell_type": "code",
   "execution_count": 30,
   "metadata": {},
   "outputs": [
    {
     "output_type": "stream",
     "name": "stdout",
     "text": [
      "Size of Train Dataset: (307511, 242)\nSize of Test Dataset: (48744, 242)\nSize of target: (307511,)\n"
     ]
    }
   ],
   "source": [
    "print('Size of Train Dataset:', df_train.shape)\n",
    "print('Size of Test Dataset:', df_test.shape)\n",
    "print('Size of target:', target.shape)"
   ]
  },
  {
   "source": [
    "### 2. Logistic Regression"
   ],
   "cell_type": "markdown",
   "metadata": {}
  },
  {
   "cell_type": "code",
   "execution_count": 37,
   "metadata": {},
   "outputs": [
    {
     "output_type": "stream",
     "name": "stderr",
     "text": [
      "C:\\Users\\ferbd\\Anaconda3\\lib\\site-packages\\sklearn\\linear_model\\_logistic.py:763: ConvergenceWarning: lbfgs failed to converge (status=1):\nSTOP: TOTAL NO. of ITERATIONS REACHED LIMIT.\n\nIncrease the number of iterations (max_iter) or scale the data as shown in:\n    https://scikit-learn.org/stable/modules/preprocessing.html\nPlease also refer to the documentation for alternative solver options:\n    https://scikit-learn.org/stable/modules/linear_model.html#logistic-regression\n  n_iter_i = _check_optimize_result(\n"
     ]
    }
   ],
   "source": [
    "from sklearn.linear_model import LogisticRegression\n",
    "from sklearn.metrics import roc_auc_score\n",
    "\n",
    "log_reg_model = LogisticRegression(random_state = 40)\n",
    "\n",
    "log_reg_model.fit(df_train, target)\n",
    "log_reg_pred = log_reg_model.predict(df_test)"
   ]
  },
  {
   "cell_type": "code",
   "execution_count": 33,
   "metadata": {},
   "outputs": [],
   "source": [
    "output_df = pd.DataFrame({\"SK_ID_CURR\": test_index,\n",
    "                          \"TARGET\": log_reg_pred})\n",
    "output_df.to_csv(\"atien228_logreg_submission.csv\", index=False)"
   ]
  },
  {
   "cell_type": "code",
   "execution_count": 34,
   "metadata": {},
   "outputs": [],
   "source": [
    "from IPython.display import Image"
   ]
  },
  {
   "source": [
    "After submitting to Kaggle, I have been evaluated, and get a ROC AUC score of 0.50389. In summary, the Linear Regression method worked not so well for our dataset.\n",
    "\n",
    "![Kaggle score on Linear Regression model](learning_credit_figure/log_reg.png)"
   ],
   "cell_type": "markdown",
   "metadata": {}
  },
  {
   "source": [
    "## \\[Problem 4] Feature engineering\n",
    "The Linear Regression predict whether the TARGET variable is 0 or 1 in our previous run, thus our submission contains 100% of 0 values, leading to the very low score. Moreover, the result does not show any improvement because they are all 0 and Linear Regression is not a good way to apply into binary prediction.\n",
    "\n",
    "From the last assignment of Predicing House Price, we have tried to implement the model of Linear Regression, Randon Forest Classifier, or Decision Tree Regression, and it turned out that Random Forest Classifier are the most optimized and well-performed method. Using the Random Forest Classifier model may give us the oppoturnity to improve the accuracy of this problem."
   ],
   "cell_type": "markdown",
   "metadata": {}
  },
  {
   "source": [
    "### 1. Random Forest Classifier (with Feature Selection)"
   ],
   "cell_type": "markdown",
   "metadata": {}
  },
  {
   "cell_type": "code",
   "execution_count": 35,
   "metadata": {},
   "outputs": [],
   "source": [
    "from sklearn.pipeline import Pipeline\n",
    "from sklearn.svm import LinearSVC\n",
    "from sklearn.feature_selection import SelectFromModel\n",
    "from sklearn.ensemble import RandomForestClassifier\n",
    "\n",
    "ran_forest_model = Pipeline([('scale', StandardScaler()),\n",
    "                            ('feature_selection', SelectFromModel(LinearSVC())),\n",
    "                            ('classification', RandomForestClassifier())\n",
    "                            ])\n",
    "ran_forest_model.fit(df_train, target)\n",
    "ran_forest_pred = ran_forest_model.predict_proba(df_test)[:, 1]"
   ]
  },
  {
   "cell_type": "code",
   "execution_count": 37,
   "metadata": {},
   "outputs": [],
   "source": [
    "output_df = pd.DataFrame({\"SK_ID_CURR\": test_index,\n",
    "                          \"TARGET\": ran_forest_pred})\n",
    "output_df.to_csv(\"atien228_ranforest_submission.csv\", index=False)"
   ]
  },
  {
   "source": [
    "After submitting to Kaggle, I have been evaluated, and get a ROC AUC score of 0.68297. The Random Forest Classifier method wprked better on our dataset this tame.\n",
    "\n",
    "![Kaggle score on Random Forest Classifier model](learning_credit_figure/ran_forest.png)"
   ],
   "cell_type": "markdown",
   "metadata": {}
  },
  {
   "source": [
    "### 2. Tuned Random Forest Classifier (with Feature Selection)"
   ],
   "cell_type": "markdown",
   "metadata": {}
  },
  {
   "cell_type": "code",
   "execution_count": 47,
   "metadata": {},
   "outputs": [],
   "source": [
    "tuned_ran_forest_model = Pipeline([('scale', StandardScaler()),\n",
    "                                   ('feature_selection', SelectFromModel(LinearSVC())),\n",
    "                                   ('classification', RandomForestClassifier(n_estimators=250, \n",
    "                                                                             min_samples_split=10, \n",
    "                                                                             min_samples_leaf=5, \n",
    "                                                                             n_jobs=-1, \n",
    "                                                                             random_state=40,\n",
    "                                                                             verbose=1))\n",
    "                                                                            ])"
   ]
  },
  {
   "cell_type": "code",
   "execution_count": 50,
   "metadata": {},
   "outputs": [
    {
     "output_type": "stream",
     "name": "stderr",
     "text": [
      "C:\\Users\\ferbd\\Anaconda3\\lib\\site-packages\\sklearn\\svm\\_base.py:985: ConvergenceWarning: Liblinear failed to converge, increase the number of iterations.\n",
      "  warnings.warn(\"Liblinear failed to converge, increase \"\n",
      "[Parallel(n_jobs=-1)]: Using backend ThreadingBackend with 8 concurrent workers.\n",
      "[Parallel(n_jobs=-1)]: Done  34 tasks      | elapsed:    9.8s\n",
      "[Parallel(n_jobs=-1)]: Done 184 tasks      | elapsed:   47.5s\n",
      "[Parallel(n_jobs=-1)]: Done 250 out of 250 | elapsed:  1.1min finished\n",
      "[Parallel(n_jobs=8)]: Using backend ThreadingBackend with 8 concurrent workers.\n",
      "[Parallel(n_jobs=8)]: Done  34 tasks      | elapsed:    0.1s\n",
      "[Parallel(n_jobs=8)]: Done 184 tasks      | elapsed:    0.7s\n",
      "[Parallel(n_jobs=8)]: Done 250 out of 250 | elapsed:    0.9s finished\n"
     ]
    }
   ],
   "source": [
    "tuned_ran_forest_model.fit(df_train, target)\n",
    "tuned_ran_forest_pred = tuned_ran_forest_model.predict_proba(df_test)[:, 1]"
   ]
  },
  {
   "cell_type": "code",
   "execution_count": 51,
   "metadata": {},
   "outputs": [],
   "source": [
    "output_df = pd.DataFrame({\"SK_ID_CURR\": test_index,\n",
    "                          \"TARGET\": tuned_ran_forest_pred})\n",
    "output_df.to_csv(\"atien228_tuned_ranforest_submission.csv\", index=False)"
   ]
  },
  {
   "source": [
    "After submitting to Kaggle, I have been evaluated, and get a ROC AUC score of 0.70399. This time the model worked better when its hyperparameters are tuned.\n",
    "\n",
    "![Kaggle score on Random Forest Classifier model](learning_credit_figure/tuned_ran_forest.png)"
   ],
   "cell_type": "markdown",
   "metadata": {}
  },
  {
   "source": [
    "### 3. Linear Discriminant Analysis (with Feature Selection)\n",
    "A classifier with a linear decision boundary, generated by fitting class conditional densities to the data and using Bayes’ rule.\n",
    "\n",
    "The model fits a Gaussian density to each class, assuming that all classes share the same covariance matrix."
   ],
   "cell_type": "markdown",
   "metadata": {}
  },
  {
   "cell_type": "code",
   "execution_count": 53,
   "metadata": {},
   "outputs": [],
   "source": [
    "from sklearn.discriminant_analysis import LinearDiscriminantAnalysis\n",
    "\n",
    "lda_model = Pipeline([('scale', StandardScaler()),\n",
    "                     ('feature_selection', SelectFromModel(LinearSVC())),\n",
    "                     ('classification', LinearDiscriminantAnalysis())\n",
    "                     ])"
   ]
  },
  {
   "cell_type": "code",
   "execution_count": 54,
   "metadata": {},
   "outputs": [
    {
     "output_type": "stream",
     "name": "stderr",
     "text": [
      "C:\\Users\\ferbd\\Anaconda3\\lib\\site-packages\\sklearn\\svm\\_base.py:985: ConvergenceWarning: Liblinear failed to converge, increase the number of iterations.\n  warnings.warn(\"Liblinear failed to converge, increase \"\n"
     ]
    }
   ],
   "source": [
    "lda_model.fit(df_train, target)\n",
    "lda_pred = lda_model.predict_proba(df_test)[:, 1]"
   ]
  },
  {
   "cell_type": "code",
   "execution_count": 56,
   "metadata": {},
   "outputs": [],
   "source": [
    "output_df = pd.DataFrame({\"SK_ID_CURR\": test_index,\n",
    "                          \"TARGET\": lda_pred})\n",
    "output_df.to_csv(\"atien228_lda_submission.csv\", index=False)"
   ]
  },
  {
   "source": [
    "After submitting to Kaggle, I have been evaluated, and get a ROC AUC score of 0.72394. This is the best scored I've made so far.\n",
    "\n",
    "![Kaggle score on Random Forest Classifier model](learning_credit_figure/lda.png)"
   ],
   "cell_type": "markdown",
   "metadata": {}
  },
  {
   "source": [
    "### 4. Decision Tree Regressor"
   ],
   "cell_type": "markdown",
   "metadata": {}
  },
  {
   "cell_type": "code",
   "execution_count": 33,
   "metadata": {},
   "outputs": [],
   "source": [
    "from sklearn.tree import DecisionTreeClassifier\n",
    "dec_tree_model = Pipeline([('scale', StandardScaler()),\n",
    "                     ('feature_selection', SelectFromModel(LinearSVC())),\n",
    "                     ('classification', DecisionTreeClassifier(random_state=40))\n",
    "                     ])"
   ]
  },
  {
   "cell_type": "code",
   "execution_count": 34,
   "metadata": {},
   "outputs": [
    {
     "output_type": "stream",
     "name": "stderr",
     "text": [
      "C:\\Users\\ferbd\\Anaconda3\\lib\\site-packages\\sklearn\\svm\\_base.py:985: ConvergenceWarning: Liblinear failed to converge, increase the number of iterations.\n  warnings.warn(\"Liblinear failed to converge, increase \"\n"
     ]
    }
   ],
   "source": [
    "dec_tree_model.fit(df_train, target)\n",
    "dec_tree_pred = dec_tree_model.predict_proba(df_test)[:, 1]"
   ]
  },
  {
   "cell_type": "code",
   "execution_count": 35,
   "metadata": {},
   "outputs": [],
   "source": [
    "output_df = pd.DataFrame({\"SK_ID_CURR\": test_index,\n",
    "                          \"TARGET\": dec_tree_pred})\n",
    "output_df.to_csv(\"atien228_dec_tree_submission.csv\", index=False)"
   ]
  },
  {
   "source": [
    "After submitting to Kaggle, I have been evaluated, and get a ROC AUC score of 0.53093. This Decision Tree Classifier worked a little better than Linear Regression in term of predicting probatility, whereas it run time consumer way longer than we expected.\n",
    "\n",
    "![Kaggle score on Random Forest Classifier model](learning_credit_figure/dec_tree.png)"
   ],
   "cell_type": "markdown",
   "metadata": {}
  },
  {
   "source": [
    "## Results\n",
    "Here is the table that compare the benchmark of all methods that we have implemented in this project"
   ],
   "cell_type": "markdown",
   "metadata": {}
  },
  {
   "cell_type": "code",
   "execution_count": 36,
   "metadata": {},
   "outputs": [
    {
     "output_type": "execute_result",
     "data": {
      "text/plain": [
       "                                 ROC AUC Score\n",
       "1. Logistic Regression                 0.50389\n",
       "2. Default Random Forest               0.68297\n",
       "3. Tuned Random Forest                 0.70399\n",
       "4. Linear Discriminate Analysis        0.72394\n",
       "5. Decision Tree                       0.53093"
      ],
      "text/html": "<div>\n<style scoped>\n    .dataframe tbody tr th:only-of-type {\n        vertical-align: middle;\n    }\n\n    .dataframe tbody tr th {\n        vertical-align: top;\n    }\n\n    .dataframe thead th {\n        text-align: right;\n    }\n</style>\n<table border=\"1\" class=\"dataframe\">\n  <thead>\n    <tr style=\"text-align: right;\">\n      <th></th>\n      <th>ROC AUC Score</th>\n    </tr>\n  </thead>\n  <tbody>\n    <tr>\n      <th>1. Logistic Regression</th>\n      <td>0.50389</td>\n    </tr>\n    <tr>\n      <th>2. Default Random Forest</th>\n      <td>0.68297</td>\n    </tr>\n    <tr>\n      <th>3. Tuned Random Forest</th>\n      <td>0.70399</td>\n    </tr>\n    <tr>\n      <th>4. Linear Discriminate Analysis</th>\n      <td>0.72394</td>\n    </tr>\n    <tr>\n      <th>5. Decision Tree</th>\n      <td>0.53093</td>\n    </tr>\n  </tbody>\n</table>\n</div>"
     },
     "metadata": {},
     "execution_count": 36
    }
   ],
   "source": [
    "scores = {'1. Logistic Regression': [0.50389], \n",
    "          '2. Default Random Forest': [0.68297], \n",
    "          '3. Tuned Random Forest': [0.70399], \n",
    "          '4. Linear Discriminate Analysis': [0.72394],\n",
    "          '5. Decision Tree': [0.53093]}\n",
    "metric = ['ROC AUC Score']\n",
    "df_results = pd.DataFrame(data=scores, index = metric).T\n",
    "df_results"
   ]
  },
  {
   "source": [
    "We conclude that Linear Discriminate Analysis algorithms worked the best and gave us a ROC AUC score of 0.72394"
   ],
   "cell_type": "markdown",
   "metadata": {}
  }
 ],
 "metadata": {
  "kernelspec": {
   "name": "python385jvsc74a57bd037df325a73d282e5412ad3d51781d3fbe03641e07f3e7444148aec51282aef8e",
   "display_name": "Python 3.8.5 64-bit (conda)"
  },
  "language_info": {
   "codemirror_mode": {
    "name": "ipython",
    "version": 3
   },
   "file_extension": ".py",
   "mimetype": "text/x-python",
   "name": "python",
   "nbconvert_exporter": "python",
   "pygments_lexer": "ipython3",
   "version": "3.8.5-final"
  }
 },
 "nbformat": 4,
 "nbformat_minor": 4
}