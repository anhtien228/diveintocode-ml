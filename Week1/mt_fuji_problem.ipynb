{
 "metadata": {
  "language_info": {
   "codemirror_mode": {
    "name": "ipython",
    "version": 3
   },
   "file_extension": ".py",
   "mimetype": "text/x-python",
   "name": "python",
   "nbconvert_exporter": "python",
   "pygments_lexer": "ipython3",
   "version": "3.8.5-final"
  },
  "orig_nbformat": 2,
  "kernelspec": {
   "name": "python3",
   "display_name": "Python 3.8.5 64-bit (conda)",
   "metadata": {
    "interpreter": {
     "hash": "37df325a73d282e5412ad3d51781d3fbe03641e07f3e7444148aec51282aef8e"
    }
   }
  }
 },
 "nbformat": 4,
 "nbformat_minor": 2,
 "cells": [
  {
   "source": [
    "# DIVE INTO CODE COURSE\n",
    "## Python introductory lesson assignment how many diffractions will cross Mt. Fuji\n",
    "### Doan Anh Tien - 1852789 - tien.doan.g0pr0@hcmut.edu.vn"
   ],
   "cell_type": "markdown",
   "metadata": {}
  },
  {
   "source": [
    "### Problem 1\n",
    "Minimum number of folds over Mt. Fuji"
   ],
   "cell_type": "markdown",
   "metadata": {}
  },
  {
   "cell_type": "code",
   "execution_count": 4,
   "metadata": {},
   "outputs": [],
   "source": [
    "import math"
   ]
  },
  {
   "cell_type": "code",
   "execution_count": 17,
   "metadata": {},
   "outputs": [],
   "source": [
    "def compute_fold_numbers(height):\n",
    "    \"\"\"\n",
    "    A function that return number of times to fold a paper to reach a certain height.\n",
    "\n",
    "    Parameteres:\n",
    "    --------------\n",
    "    height: float (for precise height)\n",
    "        The height of a certain object/place\n",
    "\n",
    "    Returns:\n",
    "    --------------\n",
    "    folds: int\n",
    "        Number of folds needed for a papaer to reach the height\n",
    "    \"\"\"\n",
    "    \n",
    "    init_thickness = 0.00008\n",
    "    folds = math.ceil(math.log(height/init_thickness, 2)) # Since we need the number of folds to exceed the height, ceil will be                                                                                                                                useful\n",
    "\n",
    "    return folds"
   ]
  },
  {
   "cell_type": "code",
   "execution_count": 18,
   "metadata": {},
   "outputs": [
    {
     "output_type": "stream",
     "name": "stdout",
     "text": [
      "Number of folds to reach Mt.Fuji: 26\n"
     ]
    }
   ],
   "source": [
    "fuji = 3776\n",
    "num_of_folds = compute_fold_numbers(fuji)\n",
    "print(\"Number of folds to reach Mt.Fuji: {}\".format(num_of_folds))"
   ]
  },
  {
   "source": [
    "### Problem 2\n",
    "Create a function that outputs the number of diffractions when the distance is input. Let's make it possible to set the thickness $ t_ {0} $ before folding as an argument.\n",
    "\n",
    "\n",
    "Use this function to calculate how many times you have to bend the paper to reach the \"closest non-Sun star.\" Investigate the distance of the \"closest non-sun star\"."
   ],
   "cell_type": "markdown",
   "metadata": {}
  },
  {
   "cell_type": "code",
   "execution_count": 19,
   "metadata": {},
   "outputs": [],
   "source": [
    "def compute_fold_numbers_star(init_thickness, height):\n",
    "    \"\"\"\n",
    "    A function that return number of times to fold a paper to reach a certain height.\n",
    "\n",
    "    Parameteres:\n",
    "    --------------\n",
    "    init_thickness: float\n",
    "        The initial thickness that will be input by user\n",
    "\n",
    "    height: float (for precise height)\n",
    "        The height of a certain object/place\n",
    "\n",
    "    Returns:\n",
    "    --------------\n",
    "    folds: int\n",
    "        Number of folds needed for a papaer to reach the height\n",
    "    \"\"\"\n",
    "\n",
    "    folds = math.ceil(math.log(height/init_thickness, 2))    # Since we need the number of folds to exceed the height, ceil will be                                                                                                                                 useful\n",
    "    \n",
    "    return folds"
   ]
  },
  {
   "source": [
    "The closest non-sun star is Alpha Centauri A and its distance is nearly 4.367 light year ~ 41.31 trillion kilometers ~ 41.31*10e14 meters"
   ],
   "cell_type": "markdown",
   "metadata": {}
  },
  {
   "cell_type": "code",
   "execution_count": 48,
   "metadata": {},
   "outputs": [
    {
     "output_type": "stream",
     "name": "stdout",
     "text": [
      "Number of folds required to reach closest non-sun star: 56\n"
     ]
    }
   ],
   "source": [
    "alpha_centauri_A = 41.31*10e14 # meters\n",
    "init_thickness = 1 # meters\n",
    "new_folds = compute_fold_numbers_star(init_thickness, alpha_centauri_A)\n",
    "print(\"Number of folds required to reach closest non-sun star: {}\".format(new_folds))"
   ]
  },
  {
   "source": [
    "### Problem 3\n",
    "In fact, the paper around us cannot be folded 10 times, let alone 43 times. However, the larger the paper, the more it can be folded, and there is a formula that calculates the number of times to fold a long piece of paper such as toilet paper in one direction.\n",
    "\n",
    "The length L of the paper required to diffract a $t_{0}$-thick paper n times is calculated by the following formula.\n",
    "\n",
    "Use this formula to create a function that actually folds the paper and finds the length of the paper needed to reach the desired thickness.\n",
    "\n",
    "Then use this to find out the length of paper needed to reach the Moon, Mt. Fuji, and the stars closest to the Sun."
   ],
   "cell_type": "markdown",
   "metadata": {}
  },
  {
   "cell_type": "code",
   "execution_count": 49,
   "metadata": {},
   "outputs": [],
   "source": [
    "def compute_length(num_of_folds, thickness):\n",
    "    \"\"\"\n",
    "    A function that return number of times to fold a paper to reach a certain height.\n",
    "\n",
    "    Parameteres:\n",
    "    --------------\n",
    "    num_of_folds: int\n",
    "        The number of folds (output from the compute_fold_number functions)\n",
    "\n",
    "    thickness: float\n",
    "        The thickness that will be input by user\n",
    "\n",
    "    Returns:\n",
    "    --------------\n",
    "    length: float\n",
    "        The length of paper needed to be folded\n",
    "    \"\"\"\n",
    "    length = (math.pi * thickness / 6) * (2**(num_of_folds) + 4) * (2**(num_of_folds) - 1)\n",
    "    \n",
    "    return length"
   ]
  },
  {
   "cell_type": "code",
   "execution_count": 67,
   "metadata": {},
   "outputs": [],
   "source": [
    "# Initialize data\n",
    "fuji = 3776 # meters\n",
    "moon_dist = 384400*10e2 # meters\n",
    "alpha_centauri_A_dist = 41.31*10e14 # meters\n",
    "\n",
    "thickness = 0.1 # meters (the thickness I desired for)"
   ]
  },
  {
   "cell_type": "code",
   "execution_count": 68,
   "metadata": {},
   "outputs": [
    {
     "output_type": "stream",
     "name": "stdout",
     "text": [
      "Length of paper to reach Fuji: 224894255.90 meters ~ 224894.26 kilometers\n\n\nLength of paper to reach Fuji: 965869261751601536.00 meters ~ 965869261751601.50 kilometers\n\n\nLength of paper to reach Fuji: 17399553777099066714899811179429888.00 meters ~ 17399553777099066588799021613056.00 kilometers\n"
     ]
    }
   ],
   "source": [
    "fuji_length = compute_length(compute_fold_numbers_star(thickness, fuji), thickness)\n",
    "print(\"Length of paper to reach Fuji: {:.2f} meters ~ {:.2f} kilometers\".format(fuji_length, fuji_length/1000))\n",
    "print(\"\\n\")\n",
    "moon_length = compute_length(compute_fold_numbers_star(thickness, moon_dist), thickness)\n",
    "print(\"Length of paper to reach Fuji: {:.2f} meters ~ {:.2f} kilometers\".format(moon_length, moon_length/1000))\n",
    "print(\"\\n\")\n",
    "alpha_centauri_A_length = compute_length(compute_fold_numbers_star(thickness, alpha_centauri_A_dist), thickness)\n",
    "print(\"Length of paper to reach Fuji: {:.2f} meters ~ {:.2f} kilometers\".format(alpha_centauri_A_length, alpha_centauri_A_length/1000))"
   ]
  }
 ]
}