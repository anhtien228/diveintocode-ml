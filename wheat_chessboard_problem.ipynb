{
 "metadata": {
  "language_info": {
   "codemirror_mode": {
    "name": "ipython",
    "version": 3
   },
   "file_extension": ".py",
   "mimetype": "text/x-python",
   "name": "python",
   "nbconvert_exporter": "python",
   "pygments_lexer": "ipython3",
   "version": "3.8.5-final"
  },
  "orig_nbformat": 2,
  "kernelspec": {
   "name": "python3",
   "display_name": "Python 3.8.5 64-bit (conda)",
   "metadata": {
    "interpreter": {
     "hash": "37df325a73d282e5412ad3d51781d3fbe03641e07f3e7444148aec51282aef8e"
    }
   }
  }
 },
 "nbformat": 4,
 "nbformat_minor": 2,
 "cells": [
  {
   "source": [
    "# DIVE INTO CODE COURSE\n",
    "## \n",
    "### Doan Anh Tien - 1852789 - tien.doan.g0pr0@hcmut.edu.vn"
   ],
   "cell_type": "markdown",
   "metadata": {}
  },
  {
   "source": [
    "### \\[Problem 1] Number of wheat on a 2 x 2 square chess board\n",
    "Represent a 2 x 2 square chessboard by ndarray and calculate the number of wheat in each square. After placing one wheat on the upper left square, proceed to two to the right, four to the lower left, and eight to the lower right."
   ],
   "cell_type": "markdown",
   "metadata": {}
  },
  {
   "cell_type": "code",
   "execution_count": 2,
   "metadata": {},
   "outputs": [
    {
     "output_type": "stream",
     "name": "stdout",
     "text": [
      "Arrange wheat on a plate of 4 squares (list)：[1, 2, 4, 8]\n"
     ]
    }
   ],
   "source": [
    "n_squares = 4\n",
    "small_board_list = [1]\n",
    "for _ in range(n_squares - 1):\n",
    "    small_board_list.append(2*small_board_list[-1])\n",
    "print(\"Arrange wheat on a plate of 4 squares (list)：{}\".format(small_board_list))"
   ]
  },
  {
   "cell_type": "code",
   "execution_count": 3,
   "metadata": {},
   "outputs": [
    {
     "output_type": "stream",
     "name": "stdout",
     "text": [
      "Arrange wheat on a plate of 4 squares (ndarray)：\n[[1 2]\n [4 8]]\n"
     ]
    }
   ],
   "source": [
    "import numpy as np\n",
    "small_board_ndarray = np.array(small_board_list).reshape((2,2)) # Reshape with help to represent the shape of desired chessboard size\n",
    "print(\"Arrange wheat on a plate of 4 squares (ndarray)：\\n{}\".format(small_board_ndarray))"
   ]
  },
  {
   "source": [
    "### \\[Problem 2] Expansion to n × m mass\n",
    "Create a function that returns a ndarray containing the number of wheat on an nxm chess board. Then use this function to find the number of wheat on the 8x8 square chess board."
   ],
   "cell_type": "markdown",
   "metadata": {}
  },
  {
   "cell_type": "code",
   "execution_count": 97,
   "metadata": {},
   "outputs": [],
   "source": [
    "def wheat_on_chess(n, m):\n",
    "    \"\"\"\n",
    "    A function that returns a ndarary containing the number of wheat on an n x m chess board\n",
    "\n",
    "    Parameteres:\n",
    "    --------------\n",
    "    n: int\n",
    "        Horizontal dimension of a chessboard\n",
    "    \n",
    "    m: int\n",
    "        Vertical dimension of a chessboard\n",
    "\n",
    "    Returns:\n",
    "    --------------\n",
    "    board_ndarray: array\n",
    "        An array represent the chessboard\n",
    "\n",
    "    wheat_number: int\n",
    "        Number of wheats on the chessboard \n",
    "\n",
    "    \"\"\"\n",
    "    n_cells = n * m # mutiple of n x m which is the area of the chessboard \n",
    "    board_list = [1]\n",
    "\n",
    "    for _ in range(n_cells - 1):\n",
    "        board_list.append(2*board_list[-1])\n",
    "\n",
    "    board_ndarray = np.array(board_list).reshape((n,m)) # an N-dimensional array represent the chessboard\n",
    "    total_wheats = np.sum(board_ndarray)\n",
    "\n",
    "    return board_ndarray, total_wheats"
   ]
  },
  {
   "cell_type": "code",
   "execution_count": 98,
   "metadata": {},
   "outputs": [
    {
     "output_type": "stream",
     "name": "stdout",
     "text": [
      "Arrange wheat on a n x m chessboard (ndarray)：\n[[  1   2   4]\n [  8  16  32]\n [ 64 128 256]]\nTotal number of wheats: 511\n"
     ]
    }
   ],
   "source": [
    "# Chessboard with size 3 x 3\n",
    "plate_3x3, wheats_3x3 = wheat_on_chess(3,3)\n",
    "print(\"Arrange wheat on a n x m chessboard (ndarray)：\\n{}\".format(plate_3x3))\n",
    "print(\"\\nTotal number of wheats: {}\".format(wheats_3x3))"
   ]
  },
  {
   "cell_type": "code",
   "execution_count": 105,
   "metadata": {},
   "outputs": [
    {
     "output_type": "stream",
     "name": "stdout",
     "text": [
      "Arrange wheat on a n x m chessboard (ndarray)：\n[[1.00000000e+00 2.00000000e+00 4.00000000e+00 8.00000000e+00\n  1.60000000e+01 3.20000000e+01 6.40000000e+01 1.28000000e+02]\n [2.56000000e+02 5.12000000e+02 1.02400000e+03 2.04800000e+03\n  4.09600000e+03 8.19200000e+03 1.63840000e+04 3.27680000e+04]\n [6.55360000e+04 1.31072000e+05 2.62144000e+05 5.24288000e+05\n  1.04857600e+06 2.09715200e+06 4.19430400e+06 8.38860800e+06]\n [1.67772160e+07 3.35544320e+07 6.71088640e+07 1.34217728e+08\n  2.68435456e+08 5.36870912e+08 1.07374182e+09 2.14748365e+09]\n [4.29496730e+09 8.58993459e+09 1.71798692e+10 3.43597384e+10\n  6.87194767e+10 1.37438953e+11 2.74877907e+11 5.49755814e+11]\n [1.09951163e+12 2.19902326e+12 4.39804651e+12 8.79609302e+12\n  1.75921860e+13 3.51843721e+13 7.03687442e+13 1.40737488e+14]\n [2.81474977e+14 5.62949953e+14 1.12589991e+15 2.25179981e+15\n  4.50359963e+15 9.00719925e+15 1.80143985e+16 3.60287970e+16]\n [7.20575940e+16 1.44115188e+17 2.88230376e+17 5.76460752e+17\n  1.15292150e+18 2.30584301e+18 4.61168602e+18 9.22337204e+18]]\n\nTotal number of wheats: 1.8446744073709552e+19\n"
     ]
    }
   ],
   "source": [
    "# Chessboard with size 3 x 3\n",
    "plate_8x8, wheats_8x8 = wheat_on_chess(8,8)\n",
    "print(\"Arrange wheat on a n x m chessboard (ndarray)：\\n{}\".format(plate_8x8))\n",
    "print(\"\\nTotal number of wheats: {}\".format(wheats_8x8))"
   ]
  },
  {
   "source": [
    "### \\[Problem 3] Total number of wheat\n",
    "Find the total number of wheat on a chess board of 8 x 8 squares. Also, find the average of each column and visualize it in a bar chart."
   ],
   "cell_type": "markdown",
   "metadata": {}
  },
  {
   "cell_type": "code",
   "execution_count": 7,
   "metadata": {},
   "outputs": [],
   "source": [
    "import math\n",
    "import matplotlib.pyplot as plt\n",
    "%matplotlib inline"
   ]
  },
  {
   "cell_type": "code",
   "execution_count": 8,
   "metadata": {},
   "outputs": [
    {
     "output_type": "execute_result",
     "data": {
      "text/plain": [
       "8"
      ]
     },
     "metadata": {},
     "execution_count": 8
    }
   ],
   "source": [
    "# Preprocess the data of 8 x 8 chessboard\n",
    "average_column = []\n",
    "\n",
    "for i in range(8):\n",
    "    col = plate_8x8[:,i]\n",
    "    average_column.append(sum(col)/len(col))\n",
    "\n",
    "len(average_column)"
   ]
  },
  {
   "cell_type": "code",
   "execution_count": 9,
   "metadata": {},
   "outputs": [
    {
     "output_type": "display_data",
     "data": {
      "text/plain": "<Figure size 432x288 with 1 Axes>",
      "image/svg+xml": "<?xml version=\"1.0\" encoding=\"utf-8\" standalone=\"no\"?>\r\n<!DOCTYPE svg PUBLIC \"-//W3C//DTD SVG 1.1//EN\"\r\n  \"http://www.w3.org/Graphics/SVG/1.1/DTD/svg11.dtd\">\r\n<!-- Created with matplotlib (https://matplotlib.org/) -->\r\n<svg height=\"277.314375pt\" version=\"1.1\" viewBox=\"0 0 385.78125 277.314375\" width=\"385.78125pt\" xmlns=\"http://www.w3.org/2000/svg\" xmlns:xlink=\"http://www.w3.org/1999/xlink\">\r\n <metadata>\r\n  <rdf:RDF xmlns:cc=\"http://creativecommons.org/ns#\" xmlns:dc=\"http://purl.org/dc/elements/1.1/\" xmlns:rdf=\"http://www.w3.org/1999/02/22-rdf-syntax-ns#\">\r\n   <cc:Work>\r\n    <dc:type rdf:resource=\"http://purl.org/dc/dcmitype/StillImage\"/>\r\n    <dc:date>2021-03-12T13:20:07.875520</dc:date>\r\n    <dc:format>image/svg+xml</dc:format>\r\n    <dc:creator>\r\n     <cc:Agent>\r\n      <dc:title>Matplotlib v3.3.2, https://matplotlib.org/</dc:title>\r\n     </cc:Agent>\r\n    </dc:creator>\r\n   </cc:Work>\r\n  </rdf:RDF>\r\n </metadata>\r\n <defs>\r\n  <style type=\"text/css\">*{stroke-linecap:butt;stroke-linejoin:round;}</style>\r\n </defs>\r\n <g id=\"figure_1\">\r\n  <g id=\"patch_1\">\r\n   <path d=\"M 0 277.314375 \r\nL 385.78125 277.314375 \r\nL 385.78125 0 \r\nL 0 0 \r\nz\r\n\" style=\"fill:none;\"/>\r\n  </g>\r\n  <g id=\"axes_1\">\r\n   <g id=\"patch_2\">\r\n    <path d=\"M 43.78125 239.758125 \r\nL 378.58125 239.758125 \r\nL 378.58125 22.318125 \r\nL 43.78125 22.318125 \r\nz\r\n\" style=\"fill:#ffffff;\"/>\r\n   </g>\r\n   <g id=\"patch_3\">\r\n    <path clip-path=\"url(#pff0c298450)\" d=\"M 58.999432 239.758125 \r\nL 90.216215 239.758125 \r\nL 90.216215 238.140268 \r\nL 58.999432 238.140268 \r\nz\r\n\" style=\"fill:#1f77b4;\"/>\r\n   </g>\r\n   <g id=\"patch_4\">\r\n    <path clip-path=\"url(#pff0c298450)\" d=\"M 98.020411 239.758125 \r\nL 129.237194 239.758125 \r\nL 129.237194 236.522411 \r\nL 98.020411 236.522411 \r\nz\r\n\" style=\"fill:#1f77b4;\"/>\r\n   </g>\r\n   <g id=\"patch_5\">\r\n    <path clip-path=\"url(#pff0c298450)\" d=\"M 137.04139 239.758125 \r\nL 168.258173 239.758125 \r\nL 168.258173 233.286696 \r\nL 137.04139 233.286696 \r\nz\r\n\" style=\"fill:#1f77b4;\"/>\r\n   </g>\r\n   <g id=\"patch_6\">\r\n    <path clip-path=\"url(#pff0c298450)\" d=\"M 176.062369 239.758125 \r\nL 207.279152 239.758125 \r\nL 207.279152 226.815268 \r\nL 176.062369 226.815268 \r\nz\r\n\" style=\"fill:#1f77b4;\"/>\r\n   </g>\r\n   <g id=\"patch_7\">\r\n    <path clip-path=\"url(#pff0c298450)\" d=\"M 215.083348 239.758125 \r\nL 246.300131 239.758125 \r\nL 246.300131 213.872411 \r\nL 215.083348 213.872411 \r\nz\r\n\" style=\"fill:#1f77b4;\"/>\r\n   </g>\r\n   <g id=\"patch_8\">\r\n    <path clip-path=\"url(#pff0c298450)\" d=\"M 254.104327 239.758125 \r\nL 285.32111 239.758125 \r\nL 285.32111 187.986696 \r\nL 254.104327 187.986696 \r\nz\r\n\" style=\"fill:#1f77b4;\"/>\r\n   </g>\r\n   <g id=\"patch_9\">\r\n    <path clip-path=\"url(#pff0c298450)\" d=\"M 293.125306 239.758125 \r\nL 324.342089 239.758125 \r\nL 324.342089 136.215268 \r\nL 293.125306 136.215268 \r\nz\r\n\" style=\"fill:#1f77b4;\"/>\r\n   </g>\r\n   <g id=\"patch_10\">\r\n    <path clip-path=\"url(#pff0c298450)\" d=\"M 332.146285 239.758125 \r\nL 363.363068 239.758125 \r\nL 363.363068 32.672411 \r\nL 332.146285 32.672411 \r\nz\r\n\" style=\"fill:#1f77b4;\"/>\r\n   </g>\r\n   <g id=\"matplotlib.axis_1\">\r\n    <g id=\"xtick_1\">\r\n     <g id=\"line2d_1\">\r\n      <defs>\r\n       <path d=\"M 0 0 \r\nL 0 3.5 \r\n\" id=\"mee98ec3b55\" style=\"stroke:#000000;stroke-width:0.8;\"/>\r\n      </defs>\r\n      <g>\r\n       <use style=\"stroke:#000000;stroke-width:0.8;\" x=\"74.607823\" xlink:href=\"#mee98ec3b55\" y=\"239.758125\"/>\r\n      </g>\r\n     </g>\r\n     <g id=\"text_1\">\r\n      <!-- 1 -->\r\n      <g transform=\"translate(71.426573 254.356562)scale(0.1 -0.1)\">\r\n       <defs>\r\n        <path d=\"M 12.40625 8.296875 \r\nL 28.515625 8.296875 \r\nL 28.515625 63.921875 \r\nL 10.984375 60.40625 \r\nL 10.984375 69.390625 \r\nL 28.421875 72.90625 \r\nL 38.28125 72.90625 \r\nL 38.28125 8.296875 \r\nL 54.390625 8.296875 \r\nL 54.390625 0 \r\nL 12.40625 0 \r\nz\r\n\" id=\"DejaVuSans-49\"/>\r\n       </defs>\r\n       <use xlink:href=\"#DejaVuSans-49\"/>\r\n      </g>\r\n     </g>\r\n    </g>\r\n    <g id=\"xtick_2\">\r\n     <g id=\"line2d_2\">\r\n      <g>\r\n       <use style=\"stroke:#000000;stroke-width:0.8;\" x=\"113.628802\" xlink:href=\"#mee98ec3b55\" y=\"239.758125\"/>\r\n      </g>\r\n     </g>\r\n     <g id=\"text_2\">\r\n      <!-- 2 -->\r\n      <g transform=\"translate(110.447552 254.356562)scale(0.1 -0.1)\">\r\n       <defs>\r\n        <path d=\"M 19.1875 8.296875 \r\nL 53.609375 8.296875 \r\nL 53.609375 0 \r\nL 7.328125 0 \r\nL 7.328125 8.296875 \r\nQ 12.9375 14.109375 22.625 23.890625 \r\nQ 32.328125 33.6875 34.8125 36.53125 \r\nQ 39.546875 41.84375 41.421875 45.53125 \r\nQ 43.3125 49.21875 43.3125 52.78125 \r\nQ 43.3125 58.59375 39.234375 62.25 \r\nQ 35.15625 65.921875 28.609375 65.921875 \r\nQ 23.96875 65.921875 18.8125 64.3125 \r\nQ 13.671875 62.703125 7.8125 59.421875 \r\nL 7.8125 69.390625 \r\nQ 13.765625 71.78125 18.9375 73 \r\nQ 24.125 74.21875 28.421875 74.21875 \r\nQ 39.75 74.21875 46.484375 68.546875 \r\nQ 53.21875 62.890625 53.21875 53.421875 \r\nQ 53.21875 48.921875 51.53125 44.890625 \r\nQ 49.859375 40.875 45.40625 35.40625 \r\nQ 44.1875 33.984375 37.640625 27.21875 \r\nQ 31.109375 20.453125 19.1875 8.296875 \r\nz\r\n\" id=\"DejaVuSans-50\"/>\r\n       </defs>\r\n       <use xlink:href=\"#DejaVuSans-50\"/>\r\n      </g>\r\n     </g>\r\n    </g>\r\n    <g id=\"xtick_3\">\r\n     <g id=\"line2d_3\">\r\n      <g>\r\n       <use style=\"stroke:#000000;stroke-width:0.8;\" x=\"152.649781\" xlink:href=\"#mee98ec3b55\" y=\"239.758125\"/>\r\n      </g>\r\n     </g>\r\n     <g id=\"text_3\">\r\n      <!-- 3 -->\r\n      <g transform=\"translate(149.468531 254.356562)scale(0.1 -0.1)\">\r\n       <defs>\r\n        <path d=\"M 40.578125 39.3125 \r\nQ 47.65625 37.796875 51.625 33 \r\nQ 55.609375 28.21875 55.609375 21.1875 \r\nQ 55.609375 10.40625 48.1875 4.484375 \r\nQ 40.765625 -1.421875 27.09375 -1.421875 \r\nQ 22.515625 -1.421875 17.65625 -0.515625 \r\nQ 12.796875 0.390625 7.625 2.203125 \r\nL 7.625 11.71875 \r\nQ 11.71875 9.328125 16.59375 8.109375 \r\nQ 21.484375 6.890625 26.8125 6.890625 \r\nQ 36.078125 6.890625 40.9375 10.546875 \r\nQ 45.796875 14.203125 45.796875 21.1875 \r\nQ 45.796875 27.640625 41.28125 31.265625 \r\nQ 36.765625 34.90625 28.71875 34.90625 \r\nL 20.21875 34.90625 \r\nL 20.21875 43.015625 \r\nL 29.109375 43.015625 \r\nQ 36.375 43.015625 40.234375 45.921875 \r\nQ 44.09375 48.828125 44.09375 54.296875 \r\nQ 44.09375 59.90625 40.109375 62.90625 \r\nQ 36.140625 65.921875 28.71875 65.921875 \r\nQ 24.65625 65.921875 20.015625 65.03125 \r\nQ 15.375 64.15625 9.8125 62.3125 \r\nL 9.8125 71.09375 \r\nQ 15.4375 72.65625 20.34375 73.4375 \r\nQ 25.25 74.21875 29.59375 74.21875 \r\nQ 40.828125 74.21875 47.359375 69.109375 \r\nQ 53.90625 64.015625 53.90625 55.328125 \r\nQ 53.90625 49.265625 50.4375 45.09375 \r\nQ 46.96875 40.921875 40.578125 39.3125 \r\nz\r\n\" id=\"DejaVuSans-51\"/>\r\n       </defs>\r\n       <use xlink:href=\"#DejaVuSans-51\"/>\r\n      </g>\r\n     </g>\r\n    </g>\r\n    <g id=\"xtick_4\">\r\n     <g id=\"line2d_4\">\r\n      <g>\r\n       <use style=\"stroke:#000000;stroke-width:0.8;\" x=\"191.67076\" xlink:href=\"#mee98ec3b55\" y=\"239.758125\"/>\r\n      </g>\r\n     </g>\r\n     <g id=\"text_4\">\r\n      <!-- 4 -->\r\n      <g transform=\"translate(188.48951 254.356562)scale(0.1 -0.1)\">\r\n       <defs>\r\n        <path d=\"M 37.796875 64.3125 \r\nL 12.890625 25.390625 \r\nL 37.796875 25.390625 \r\nz\r\nM 35.203125 72.90625 \r\nL 47.609375 72.90625 \r\nL 47.609375 25.390625 \r\nL 58.015625 25.390625 \r\nL 58.015625 17.1875 \r\nL 47.609375 17.1875 \r\nL 47.609375 0 \r\nL 37.796875 0 \r\nL 37.796875 17.1875 \r\nL 4.890625 17.1875 \r\nL 4.890625 26.703125 \r\nz\r\n\" id=\"DejaVuSans-52\"/>\r\n       </defs>\r\n       <use xlink:href=\"#DejaVuSans-52\"/>\r\n      </g>\r\n     </g>\r\n    </g>\r\n    <g id=\"xtick_5\">\r\n     <g id=\"line2d_5\">\r\n      <g>\r\n       <use style=\"stroke:#000000;stroke-width:0.8;\" x=\"230.69174\" xlink:href=\"#mee98ec3b55\" y=\"239.758125\"/>\r\n      </g>\r\n     </g>\r\n     <g id=\"text_5\">\r\n      <!-- 5 -->\r\n      <g transform=\"translate(227.51049 254.356562)scale(0.1 -0.1)\">\r\n       <defs>\r\n        <path d=\"M 10.796875 72.90625 \r\nL 49.515625 72.90625 \r\nL 49.515625 64.59375 \r\nL 19.828125 64.59375 \r\nL 19.828125 46.734375 \r\nQ 21.96875 47.46875 24.109375 47.828125 \r\nQ 26.265625 48.1875 28.421875 48.1875 \r\nQ 40.625 48.1875 47.75 41.5 \r\nQ 54.890625 34.8125 54.890625 23.390625 \r\nQ 54.890625 11.625 47.5625 5.09375 \r\nQ 40.234375 -1.421875 26.90625 -1.421875 \r\nQ 22.3125 -1.421875 17.546875 -0.640625 \r\nQ 12.796875 0.140625 7.71875 1.703125 \r\nL 7.71875 11.625 \r\nQ 12.109375 9.234375 16.796875 8.0625 \r\nQ 21.484375 6.890625 26.703125 6.890625 \r\nQ 35.15625 6.890625 40.078125 11.328125 \r\nQ 45.015625 15.765625 45.015625 23.390625 \r\nQ 45.015625 31 40.078125 35.4375 \r\nQ 35.15625 39.890625 26.703125 39.890625 \r\nQ 22.75 39.890625 18.8125 39.015625 \r\nQ 14.890625 38.140625 10.796875 36.28125 \r\nz\r\n\" id=\"DejaVuSans-53\"/>\r\n       </defs>\r\n       <use xlink:href=\"#DejaVuSans-53\"/>\r\n      </g>\r\n     </g>\r\n    </g>\r\n    <g id=\"xtick_6\">\r\n     <g id=\"line2d_6\">\r\n      <g>\r\n       <use style=\"stroke:#000000;stroke-width:0.8;\" x=\"269.712719\" xlink:href=\"#mee98ec3b55\" y=\"239.758125\"/>\r\n      </g>\r\n     </g>\r\n     <g id=\"text_6\">\r\n      <!-- 6 -->\r\n      <g transform=\"translate(266.531469 254.356562)scale(0.1 -0.1)\">\r\n       <defs>\r\n        <path d=\"M 33.015625 40.375 \r\nQ 26.375 40.375 22.484375 35.828125 \r\nQ 18.609375 31.296875 18.609375 23.390625 \r\nQ 18.609375 15.53125 22.484375 10.953125 \r\nQ 26.375 6.390625 33.015625 6.390625 \r\nQ 39.65625 6.390625 43.53125 10.953125 \r\nQ 47.40625 15.53125 47.40625 23.390625 \r\nQ 47.40625 31.296875 43.53125 35.828125 \r\nQ 39.65625 40.375 33.015625 40.375 \r\nz\r\nM 52.59375 71.296875 \r\nL 52.59375 62.3125 \r\nQ 48.875 64.0625 45.09375 64.984375 \r\nQ 41.3125 65.921875 37.59375 65.921875 \r\nQ 27.828125 65.921875 22.671875 59.328125 \r\nQ 17.53125 52.734375 16.796875 39.40625 \r\nQ 19.671875 43.65625 24.015625 45.921875 \r\nQ 28.375 48.1875 33.59375 48.1875 \r\nQ 44.578125 48.1875 50.953125 41.515625 \r\nQ 57.328125 34.859375 57.328125 23.390625 \r\nQ 57.328125 12.15625 50.6875 5.359375 \r\nQ 44.046875 -1.421875 33.015625 -1.421875 \r\nQ 20.359375 -1.421875 13.671875 8.265625 \r\nQ 6.984375 17.96875 6.984375 36.375 \r\nQ 6.984375 53.65625 15.1875 63.9375 \r\nQ 23.390625 74.21875 37.203125 74.21875 \r\nQ 40.921875 74.21875 44.703125 73.484375 \r\nQ 48.484375 72.75 52.59375 71.296875 \r\nz\r\n\" id=\"DejaVuSans-54\"/>\r\n       </defs>\r\n       <use xlink:href=\"#DejaVuSans-54\"/>\r\n      </g>\r\n     </g>\r\n    </g>\r\n    <g id=\"xtick_7\">\r\n     <g id=\"line2d_7\">\r\n      <g>\r\n       <use style=\"stroke:#000000;stroke-width:0.8;\" x=\"308.733698\" xlink:href=\"#mee98ec3b55\" y=\"239.758125\"/>\r\n      </g>\r\n     </g>\r\n     <g id=\"text_7\">\r\n      <!-- 7 -->\r\n      <g transform=\"translate(305.552448 254.356562)scale(0.1 -0.1)\">\r\n       <defs>\r\n        <path d=\"M 8.203125 72.90625 \r\nL 55.078125 72.90625 \r\nL 55.078125 68.703125 \r\nL 28.609375 0 \r\nL 18.3125 0 \r\nL 43.21875 64.59375 \r\nL 8.203125 64.59375 \r\nz\r\n\" id=\"DejaVuSans-55\"/>\r\n       </defs>\r\n       <use xlink:href=\"#DejaVuSans-55\"/>\r\n      </g>\r\n     </g>\r\n    </g>\r\n    <g id=\"xtick_8\">\r\n     <g id=\"line2d_8\">\r\n      <g>\r\n       <use style=\"stroke:#000000;stroke-width:0.8;\" x=\"347.754677\" xlink:href=\"#mee98ec3b55\" y=\"239.758125\"/>\r\n      </g>\r\n     </g>\r\n     <g id=\"text_8\">\r\n      <!-- 8 -->\r\n      <g transform=\"translate(344.573427 254.356562)scale(0.1 -0.1)\">\r\n       <defs>\r\n        <path d=\"M 31.78125 34.625 \r\nQ 24.75 34.625 20.71875 30.859375 \r\nQ 16.703125 27.09375 16.703125 20.515625 \r\nQ 16.703125 13.921875 20.71875 10.15625 \r\nQ 24.75 6.390625 31.78125 6.390625 \r\nQ 38.8125 6.390625 42.859375 10.171875 \r\nQ 46.921875 13.96875 46.921875 20.515625 \r\nQ 46.921875 27.09375 42.890625 30.859375 \r\nQ 38.875 34.625 31.78125 34.625 \r\nz\r\nM 21.921875 38.8125 \r\nQ 15.578125 40.375 12.03125 44.71875 \r\nQ 8.5 49.078125 8.5 55.328125 \r\nQ 8.5 64.0625 14.71875 69.140625 \r\nQ 20.953125 74.21875 31.78125 74.21875 \r\nQ 42.671875 74.21875 48.875 69.140625 \r\nQ 55.078125 64.0625 55.078125 55.328125 \r\nQ 55.078125 49.078125 51.53125 44.71875 \r\nQ 48 40.375 41.703125 38.8125 \r\nQ 48.828125 37.15625 52.796875 32.3125 \r\nQ 56.78125 27.484375 56.78125 20.515625 \r\nQ 56.78125 9.90625 50.3125 4.234375 \r\nQ 43.84375 -1.421875 31.78125 -1.421875 \r\nQ 19.734375 -1.421875 13.25 4.234375 \r\nQ 6.78125 9.90625 6.78125 20.515625 \r\nQ 6.78125 27.484375 10.78125 32.3125 \r\nQ 14.796875 37.15625 21.921875 38.8125 \r\nz\r\nM 18.3125 54.390625 \r\nQ 18.3125 48.734375 21.84375 45.5625 \r\nQ 25.390625 42.390625 31.78125 42.390625 \r\nQ 38.140625 42.390625 41.71875 45.5625 \r\nQ 45.3125 48.734375 45.3125 54.390625 \r\nQ 45.3125 60.0625 41.71875 63.234375 \r\nQ 38.140625 66.40625 31.78125 66.40625 \r\nQ 25.390625 66.40625 21.84375 63.234375 \r\nQ 18.3125 60.0625 18.3125 54.390625 \r\nz\r\n\" id=\"DejaVuSans-56\"/>\r\n       </defs>\r\n       <use xlink:href=\"#DejaVuSans-56\"/>\r\n      </g>\r\n     </g>\r\n    </g>\r\n    <g id=\"text_9\">\r\n     <!-- column -->\r\n     <g transform=\"translate(192.775781 268.034687)scale(0.1 -0.1)\">\r\n      <defs>\r\n       <path d=\"M 48.78125 52.59375 \r\nL 48.78125 44.1875 \r\nQ 44.96875 46.296875 41.140625 47.34375 \r\nQ 37.3125 48.390625 33.40625 48.390625 \r\nQ 24.65625 48.390625 19.8125 42.84375 \r\nQ 14.984375 37.3125 14.984375 27.296875 \r\nQ 14.984375 17.28125 19.8125 11.734375 \r\nQ 24.65625 6.203125 33.40625 6.203125 \r\nQ 37.3125 6.203125 41.140625 7.25 \r\nQ 44.96875 8.296875 48.78125 10.40625 \r\nL 48.78125 2.09375 \r\nQ 45.015625 0.34375 40.984375 -0.53125 \r\nQ 36.96875 -1.421875 32.421875 -1.421875 \r\nQ 20.0625 -1.421875 12.78125 6.34375 \r\nQ 5.515625 14.109375 5.515625 27.296875 \r\nQ 5.515625 40.671875 12.859375 48.328125 \r\nQ 20.21875 56 33.015625 56 \r\nQ 37.15625 56 41.109375 55.140625 \r\nQ 45.0625 54.296875 48.78125 52.59375 \r\nz\r\n\" id=\"DejaVuSans-99\"/>\r\n       <path d=\"M 30.609375 48.390625 \r\nQ 23.390625 48.390625 19.1875 42.75 \r\nQ 14.984375 37.109375 14.984375 27.296875 \r\nQ 14.984375 17.484375 19.15625 11.84375 \r\nQ 23.34375 6.203125 30.609375 6.203125 \r\nQ 37.796875 6.203125 41.984375 11.859375 \r\nQ 46.1875 17.53125 46.1875 27.296875 \r\nQ 46.1875 37.015625 41.984375 42.703125 \r\nQ 37.796875 48.390625 30.609375 48.390625 \r\nz\r\nM 30.609375 56 \r\nQ 42.328125 56 49.015625 48.375 \r\nQ 55.71875 40.765625 55.71875 27.296875 \r\nQ 55.71875 13.875 49.015625 6.21875 \r\nQ 42.328125 -1.421875 30.609375 -1.421875 \r\nQ 18.84375 -1.421875 12.171875 6.21875 \r\nQ 5.515625 13.875 5.515625 27.296875 \r\nQ 5.515625 40.765625 12.171875 48.375 \r\nQ 18.84375 56 30.609375 56 \r\nz\r\n\" id=\"DejaVuSans-111\"/>\r\n       <path d=\"M 9.421875 75.984375 \r\nL 18.40625 75.984375 \r\nL 18.40625 0 \r\nL 9.421875 0 \r\nz\r\n\" id=\"DejaVuSans-108\"/>\r\n       <path d=\"M 8.5 21.578125 \r\nL 8.5 54.6875 \r\nL 17.484375 54.6875 \r\nL 17.484375 21.921875 \r\nQ 17.484375 14.15625 20.5 10.265625 \r\nQ 23.53125 6.390625 29.59375 6.390625 \r\nQ 36.859375 6.390625 41.078125 11.03125 \r\nQ 45.3125 15.671875 45.3125 23.6875 \r\nL 45.3125 54.6875 \r\nL 54.296875 54.6875 \r\nL 54.296875 0 \r\nL 45.3125 0 \r\nL 45.3125 8.40625 \r\nQ 42.046875 3.421875 37.71875 1 \r\nQ 33.40625 -1.421875 27.6875 -1.421875 \r\nQ 18.265625 -1.421875 13.375 4.4375 \r\nQ 8.5 10.296875 8.5 21.578125 \r\nz\r\nM 31.109375 56 \r\nz\r\n\" id=\"DejaVuSans-117\"/>\r\n       <path d=\"M 52 44.1875 \r\nQ 55.375 50.25 60.0625 53.125 \r\nQ 64.75 56 71.09375 56 \r\nQ 79.640625 56 84.28125 50.015625 \r\nQ 88.921875 44.046875 88.921875 33.015625 \r\nL 88.921875 0 \r\nL 79.890625 0 \r\nL 79.890625 32.71875 \r\nQ 79.890625 40.578125 77.09375 44.375 \r\nQ 74.3125 48.1875 68.609375 48.1875 \r\nQ 61.625 48.1875 57.5625 43.546875 \r\nQ 53.515625 38.921875 53.515625 30.90625 \r\nL 53.515625 0 \r\nL 44.484375 0 \r\nL 44.484375 32.71875 \r\nQ 44.484375 40.625 41.703125 44.40625 \r\nQ 38.921875 48.1875 33.109375 48.1875 \r\nQ 26.21875 48.1875 22.15625 43.53125 \r\nQ 18.109375 38.875 18.109375 30.90625 \r\nL 18.109375 0 \r\nL 9.078125 0 \r\nL 9.078125 54.6875 \r\nL 18.109375 54.6875 \r\nL 18.109375 46.1875 \r\nQ 21.1875 51.21875 25.484375 53.609375 \r\nQ 29.78125 56 35.6875 56 \r\nQ 41.65625 56 45.828125 52.96875 \r\nQ 50 49.953125 52 44.1875 \r\nz\r\n\" id=\"DejaVuSans-109\"/>\r\n       <path d=\"M 54.890625 33.015625 \r\nL 54.890625 0 \r\nL 45.90625 0 \r\nL 45.90625 32.71875 \r\nQ 45.90625 40.484375 42.875 44.328125 \r\nQ 39.84375 48.1875 33.796875 48.1875 \r\nQ 26.515625 48.1875 22.3125 43.546875 \r\nQ 18.109375 38.921875 18.109375 30.90625 \r\nL 18.109375 0 \r\nL 9.078125 0 \r\nL 9.078125 54.6875 \r\nL 18.109375 54.6875 \r\nL 18.109375 46.1875 \r\nQ 21.34375 51.125 25.703125 53.5625 \r\nQ 30.078125 56 35.796875 56 \r\nQ 45.21875 56 50.046875 50.171875 \r\nQ 54.890625 44.34375 54.890625 33.015625 \r\nz\r\n\" id=\"DejaVuSans-110\"/>\r\n      </defs>\r\n      <use xlink:href=\"#DejaVuSans-99\"/>\r\n      <use x=\"54.980469\" xlink:href=\"#DejaVuSans-111\"/>\r\n      <use x=\"116.162109\" xlink:href=\"#DejaVuSans-108\"/>\r\n      <use x=\"143.945312\" xlink:href=\"#DejaVuSans-117\"/>\r\n      <use x=\"207.324219\" xlink:href=\"#DejaVuSans-109\"/>\r\n      <use x=\"304.736328\" xlink:href=\"#DejaVuSans-110\"/>\r\n     </g>\r\n    </g>\r\n   </g>\r\n   <g id=\"matplotlib.axis_2\">\r\n    <g id=\"ytick_1\">\r\n     <g id=\"line2d_9\">\r\n      <defs>\r\n       <path d=\"M 0 0 \r\nL -3.5 0 \r\n\" id=\"m88eef0de0d\" style=\"stroke:#000000;stroke-width:0.8;\"/>\r\n      </defs>\r\n      <g>\r\n       <use style=\"stroke:#000000;stroke-width:0.8;\" x=\"43.78125\" xlink:href=\"#m88eef0de0d\" y=\"239.758125\"/>\r\n      </g>\r\n     </g>\r\n     <g id=\"text_10\">\r\n      <!-- 0.0 -->\r\n      <g transform=\"translate(20.878125 243.557344)scale(0.1 -0.1)\">\r\n       <defs>\r\n        <path d=\"M 31.78125 66.40625 \r\nQ 24.171875 66.40625 20.328125 58.90625 \r\nQ 16.5 51.421875 16.5 36.375 \r\nQ 16.5 21.390625 20.328125 13.890625 \r\nQ 24.171875 6.390625 31.78125 6.390625 \r\nQ 39.453125 6.390625 43.28125 13.890625 \r\nQ 47.125 21.390625 47.125 36.375 \r\nQ 47.125 51.421875 43.28125 58.90625 \r\nQ 39.453125 66.40625 31.78125 66.40625 \r\nz\r\nM 31.78125 74.21875 \r\nQ 44.046875 74.21875 50.515625 64.515625 \r\nQ 56.984375 54.828125 56.984375 36.375 \r\nQ 56.984375 17.96875 50.515625 8.265625 \r\nQ 44.046875 -1.421875 31.78125 -1.421875 \r\nQ 19.53125 -1.421875 13.0625 8.265625 \r\nQ 6.59375 17.96875 6.59375 36.375 \r\nQ 6.59375 54.828125 13.0625 64.515625 \r\nQ 19.53125 74.21875 31.78125 74.21875 \r\nz\r\n\" id=\"DejaVuSans-48\"/>\r\n        <path d=\"M 10.6875 12.40625 \r\nL 21 12.40625 \r\nL 21 0 \r\nL 10.6875 0 \r\nz\r\n\" id=\"DejaVuSans-46\"/>\r\n       </defs>\r\n       <use xlink:href=\"#DejaVuSans-48\"/>\r\n       <use x=\"63.623047\" xlink:href=\"#DejaVuSans-46\"/>\r\n       <use x=\"95.410156\" xlink:href=\"#DejaVuSans-48\"/>\r\n      </g>\r\n     </g>\r\n    </g>\r\n    <g id=\"ytick_2\">\r\n     <g id=\"line2d_10\">\r\n      <g>\r\n       <use style=\"stroke:#000000;stroke-width:0.8;\" x=\"43.78125\" xlink:href=\"#m88eef0de0d\" y=\"203.974807\"/>\r\n      </g>\r\n     </g>\r\n     <g id=\"text_11\">\r\n      <!-- 0.2 -->\r\n      <g transform=\"translate(20.878125 207.774025)scale(0.1 -0.1)\">\r\n       <use xlink:href=\"#DejaVuSans-48\"/>\r\n       <use x=\"63.623047\" xlink:href=\"#DejaVuSans-46\"/>\r\n       <use x=\"95.410156\" xlink:href=\"#DejaVuSans-50\"/>\r\n      </g>\r\n     </g>\r\n    </g>\r\n    <g id=\"ytick_3\">\r\n     <g id=\"line2d_11\">\r\n      <g>\r\n       <use style=\"stroke:#000000;stroke-width:0.8;\" x=\"43.78125\" xlink:href=\"#m88eef0de0d\" y=\"168.191488\"/>\r\n      </g>\r\n     </g>\r\n     <g id=\"text_12\">\r\n      <!-- 0.4 -->\r\n      <g transform=\"translate(20.878125 171.990707)scale(0.1 -0.1)\">\r\n       <use xlink:href=\"#DejaVuSans-48\"/>\r\n       <use x=\"63.623047\" xlink:href=\"#DejaVuSans-46\"/>\r\n       <use x=\"95.410156\" xlink:href=\"#DejaVuSans-52\"/>\r\n      </g>\r\n     </g>\r\n    </g>\r\n    <g id=\"ytick_4\">\r\n     <g id=\"line2d_12\">\r\n      <g>\r\n       <use style=\"stroke:#000000;stroke-width:0.8;\" x=\"43.78125\" xlink:href=\"#m88eef0de0d\" y=\"132.40817\"/>\r\n      </g>\r\n     </g>\r\n     <g id=\"text_13\">\r\n      <!-- 0.6 -->\r\n      <g transform=\"translate(20.878125 136.207389)scale(0.1 -0.1)\">\r\n       <use xlink:href=\"#DejaVuSans-48\"/>\r\n       <use x=\"63.623047\" xlink:href=\"#DejaVuSans-46\"/>\r\n       <use x=\"95.410156\" xlink:href=\"#DejaVuSans-54\"/>\r\n      </g>\r\n     </g>\r\n    </g>\r\n    <g id=\"ytick_5\">\r\n     <g id=\"line2d_13\">\r\n      <g>\r\n       <use style=\"stroke:#000000;stroke-width:0.8;\" x=\"43.78125\" xlink:href=\"#m88eef0de0d\" y=\"96.624852\"/>\r\n      </g>\r\n     </g>\r\n     <g id=\"text_14\">\r\n      <!-- 0.8 -->\r\n      <g transform=\"translate(20.878125 100.424071)scale(0.1 -0.1)\">\r\n       <use xlink:href=\"#DejaVuSans-48\"/>\r\n       <use x=\"63.623047\" xlink:href=\"#DejaVuSans-46\"/>\r\n       <use x=\"95.410156\" xlink:href=\"#DejaVuSans-56\"/>\r\n      </g>\r\n     </g>\r\n    </g>\r\n    <g id=\"ytick_6\">\r\n     <g id=\"line2d_14\">\r\n      <g>\r\n       <use style=\"stroke:#000000;stroke-width:0.8;\" x=\"43.78125\" xlink:href=\"#m88eef0de0d\" y=\"60.841534\"/>\r\n      </g>\r\n     </g>\r\n     <g id=\"text_15\">\r\n      <!-- 1.0 -->\r\n      <g transform=\"translate(20.878125 64.640752)scale(0.1 -0.1)\">\r\n       <use xlink:href=\"#DejaVuSans-49\"/>\r\n       <use x=\"63.623047\" xlink:href=\"#DejaVuSans-46\"/>\r\n       <use x=\"95.410156\" xlink:href=\"#DejaVuSans-48\"/>\r\n      </g>\r\n     </g>\r\n    </g>\r\n    <g id=\"ytick_7\">\r\n     <g id=\"line2d_15\">\r\n      <g>\r\n       <use style=\"stroke:#000000;stroke-width:0.8;\" x=\"43.78125\" xlink:href=\"#m88eef0de0d\" y=\"25.058215\"/>\r\n      </g>\r\n     </g>\r\n     <g id=\"text_16\">\r\n      <!-- 1.2 -->\r\n      <g transform=\"translate(20.878125 28.857434)scale(0.1 -0.1)\">\r\n       <use xlink:href=\"#DejaVuSans-49\"/>\r\n       <use x=\"63.623047\" xlink:href=\"#DejaVuSans-46\"/>\r\n       <use x=\"95.410156\" xlink:href=\"#DejaVuSans-50\"/>\r\n      </g>\r\n     </g>\r\n    </g>\r\n    <g id=\"text_17\">\r\n     <!-- number -->\r\n     <g transform=\"translate(14.798438 150.552187)rotate(-90)scale(0.1 -0.1)\">\r\n      <defs>\r\n       <path d=\"M 48.6875 27.296875 \r\nQ 48.6875 37.203125 44.609375 42.84375 \r\nQ 40.53125 48.484375 33.40625 48.484375 \r\nQ 26.265625 48.484375 22.1875 42.84375 \r\nQ 18.109375 37.203125 18.109375 27.296875 \r\nQ 18.109375 17.390625 22.1875 11.75 \r\nQ 26.265625 6.109375 33.40625 6.109375 \r\nQ 40.53125 6.109375 44.609375 11.75 \r\nQ 48.6875 17.390625 48.6875 27.296875 \r\nz\r\nM 18.109375 46.390625 \r\nQ 20.953125 51.265625 25.265625 53.625 \r\nQ 29.59375 56 35.59375 56 \r\nQ 45.5625 56 51.78125 48.09375 \r\nQ 58.015625 40.1875 58.015625 27.296875 \r\nQ 58.015625 14.40625 51.78125 6.484375 \r\nQ 45.5625 -1.421875 35.59375 -1.421875 \r\nQ 29.59375 -1.421875 25.265625 0.953125 \r\nQ 20.953125 3.328125 18.109375 8.203125 \r\nL 18.109375 0 \r\nL 9.078125 0 \r\nL 9.078125 75.984375 \r\nL 18.109375 75.984375 \r\nz\r\n\" id=\"DejaVuSans-98\"/>\r\n       <path d=\"M 56.203125 29.59375 \r\nL 56.203125 25.203125 \r\nL 14.890625 25.203125 \r\nQ 15.484375 15.921875 20.484375 11.0625 \r\nQ 25.484375 6.203125 34.421875 6.203125 \r\nQ 39.59375 6.203125 44.453125 7.46875 \r\nQ 49.3125 8.734375 54.109375 11.28125 \r\nL 54.109375 2.78125 \r\nQ 49.265625 0.734375 44.1875 -0.34375 \r\nQ 39.109375 -1.421875 33.890625 -1.421875 \r\nQ 20.796875 -1.421875 13.15625 6.1875 \r\nQ 5.515625 13.8125 5.515625 26.8125 \r\nQ 5.515625 40.234375 12.765625 48.109375 \r\nQ 20.015625 56 32.328125 56 \r\nQ 43.359375 56 49.78125 48.890625 \r\nQ 56.203125 41.796875 56.203125 29.59375 \r\nz\r\nM 47.21875 32.234375 \r\nQ 47.125 39.59375 43.09375 43.984375 \r\nQ 39.0625 48.390625 32.421875 48.390625 \r\nQ 24.90625 48.390625 20.390625 44.140625 \r\nQ 15.875 39.890625 15.1875 32.171875 \r\nz\r\n\" id=\"DejaVuSans-101\"/>\r\n       <path d=\"M 41.109375 46.296875 \r\nQ 39.59375 47.171875 37.8125 47.578125 \r\nQ 36.03125 48 33.890625 48 \r\nQ 26.265625 48 22.1875 43.046875 \r\nQ 18.109375 38.09375 18.109375 28.8125 \r\nL 18.109375 0 \r\nL 9.078125 0 \r\nL 9.078125 54.6875 \r\nL 18.109375 54.6875 \r\nL 18.109375 46.1875 \r\nQ 20.953125 51.171875 25.484375 53.578125 \r\nQ 30.03125 56 36.53125 56 \r\nQ 37.453125 56 38.578125 55.875 \r\nQ 39.703125 55.765625 41.0625 55.515625 \r\nz\r\n\" id=\"DejaVuSans-114\"/>\r\n      </defs>\r\n      <use xlink:href=\"#DejaVuSans-110\"/>\r\n      <use x=\"63.378906\" xlink:href=\"#DejaVuSans-117\"/>\r\n      <use x=\"126.757812\" xlink:href=\"#DejaVuSans-109\"/>\r\n      <use x=\"224.169922\" xlink:href=\"#DejaVuSans-98\"/>\r\n      <use x=\"287.646484\" xlink:href=\"#DejaVuSans-101\"/>\r\n      <use x=\"349.169922\" xlink:href=\"#DejaVuSans-114\"/>\r\n     </g>\r\n    </g>\r\n    <g id=\"text_18\">\r\n     <!-- 1e18 -->\r\n     <g transform=\"translate(43.78125 19.318125)scale(0.1 -0.1)\">\r\n      <use xlink:href=\"#DejaVuSans-49\"/>\r\n      <use x=\"63.623047\" xlink:href=\"#DejaVuSans-101\"/>\r\n      <use x=\"125.146484\" xlink:href=\"#DejaVuSans-49\"/>\r\n      <use x=\"188.769531\" xlink:href=\"#DejaVuSans-56\"/>\r\n     </g>\r\n    </g>\r\n   </g>\r\n   <g id=\"patch_11\">\r\n    <path d=\"M 43.78125 239.758125 \r\nL 43.78125 22.318125 \r\n\" style=\"fill:none;stroke:#000000;stroke-linecap:square;stroke-linejoin:miter;stroke-width:0.8;\"/>\r\n   </g>\r\n   <g id=\"patch_12\">\r\n    <path d=\"M 378.58125 239.758125 \r\nL 378.58125 22.318125 \r\n\" style=\"fill:none;stroke:#000000;stroke-linecap:square;stroke-linejoin:miter;stroke-width:0.8;\"/>\r\n   </g>\r\n   <g id=\"patch_13\">\r\n    <path d=\"M 43.78125 239.758125 \r\nL 378.58125 239.758125 \r\n\" style=\"fill:none;stroke:#000000;stroke-linecap:square;stroke-linejoin:miter;stroke-width:0.8;\"/>\r\n   </g>\r\n   <g id=\"patch_14\">\r\n    <path d=\"M 43.78125 22.318125 \r\nL 378.58125 22.318125 \r\n\" style=\"fill:none;stroke:#000000;stroke-linecap:square;stroke-linejoin:miter;stroke-width:0.8;\"/>\r\n   </g>\r\n   <g id=\"text_19\">\r\n    <!-- number in each column -->\r\n    <g transform=\"translate(140.0175 16.318125)scale(0.12 -0.12)\">\r\n     <defs>\r\n      <path id=\"DejaVuSans-32\"/>\r\n      <path d=\"M 9.421875 54.6875 \r\nL 18.40625 54.6875 \r\nL 18.40625 0 \r\nL 9.421875 0 \r\nz\r\nM 9.421875 75.984375 \r\nL 18.40625 75.984375 \r\nL 18.40625 64.59375 \r\nL 9.421875 64.59375 \r\nz\r\n\" id=\"DejaVuSans-105\"/>\r\n      <path d=\"M 34.28125 27.484375 \r\nQ 23.390625 27.484375 19.1875 25 \r\nQ 14.984375 22.515625 14.984375 16.5 \r\nQ 14.984375 11.71875 18.140625 8.90625 \r\nQ 21.296875 6.109375 26.703125 6.109375 \r\nQ 34.1875 6.109375 38.703125 11.40625 \r\nQ 43.21875 16.703125 43.21875 25.484375 \r\nL 43.21875 27.484375 \r\nz\r\nM 52.203125 31.203125 \r\nL 52.203125 0 \r\nL 43.21875 0 \r\nL 43.21875 8.296875 \r\nQ 40.140625 3.328125 35.546875 0.953125 \r\nQ 30.953125 -1.421875 24.3125 -1.421875 \r\nQ 15.921875 -1.421875 10.953125 3.296875 \r\nQ 6 8.015625 6 15.921875 \r\nQ 6 25.140625 12.171875 29.828125 \r\nQ 18.359375 34.515625 30.609375 34.515625 \r\nL 43.21875 34.515625 \r\nL 43.21875 35.40625 \r\nQ 43.21875 41.609375 39.140625 45 \r\nQ 35.0625 48.390625 27.6875 48.390625 \r\nQ 23 48.390625 18.546875 47.265625 \r\nQ 14.109375 46.140625 10.015625 43.890625 \r\nL 10.015625 52.203125 \r\nQ 14.9375 54.109375 19.578125 55.046875 \r\nQ 24.21875 56 28.609375 56 \r\nQ 40.484375 56 46.34375 49.84375 \r\nQ 52.203125 43.703125 52.203125 31.203125 \r\nz\r\n\" id=\"DejaVuSans-97\"/>\r\n      <path d=\"M 54.890625 33.015625 \r\nL 54.890625 0 \r\nL 45.90625 0 \r\nL 45.90625 32.71875 \r\nQ 45.90625 40.484375 42.875 44.328125 \r\nQ 39.84375 48.1875 33.796875 48.1875 \r\nQ 26.515625 48.1875 22.3125 43.546875 \r\nQ 18.109375 38.921875 18.109375 30.90625 \r\nL 18.109375 0 \r\nL 9.078125 0 \r\nL 9.078125 75.984375 \r\nL 18.109375 75.984375 \r\nL 18.109375 46.1875 \r\nQ 21.34375 51.125 25.703125 53.5625 \r\nQ 30.078125 56 35.796875 56 \r\nQ 45.21875 56 50.046875 50.171875 \r\nQ 54.890625 44.34375 54.890625 33.015625 \r\nz\r\n\" id=\"DejaVuSans-104\"/>\r\n     </defs>\r\n     <use xlink:href=\"#DejaVuSans-110\"/>\r\n     <use x=\"63.378906\" xlink:href=\"#DejaVuSans-117\"/>\r\n     <use x=\"126.757812\" xlink:href=\"#DejaVuSans-109\"/>\r\n     <use x=\"224.169922\" xlink:href=\"#DejaVuSans-98\"/>\r\n     <use x=\"287.646484\" xlink:href=\"#DejaVuSans-101\"/>\r\n     <use x=\"349.169922\" xlink:href=\"#DejaVuSans-114\"/>\r\n     <use x=\"390.283203\" xlink:href=\"#DejaVuSans-32\"/>\r\n     <use x=\"422.070312\" xlink:href=\"#DejaVuSans-105\"/>\r\n     <use x=\"449.853516\" xlink:href=\"#DejaVuSans-110\"/>\r\n     <use x=\"513.232422\" xlink:href=\"#DejaVuSans-32\"/>\r\n     <use x=\"545.019531\" xlink:href=\"#DejaVuSans-101\"/>\r\n     <use x=\"606.542969\" xlink:href=\"#DejaVuSans-97\"/>\r\n     <use x=\"667.822266\" xlink:href=\"#DejaVuSans-99\"/>\r\n     <use x=\"722.802734\" xlink:href=\"#DejaVuSans-104\"/>\r\n     <use x=\"786.181641\" xlink:href=\"#DejaVuSans-32\"/>\r\n     <use x=\"817.96875\" xlink:href=\"#DejaVuSans-99\"/>\r\n     <use x=\"872.949219\" xlink:href=\"#DejaVuSans-111\"/>\r\n     <use x=\"934.130859\" xlink:href=\"#DejaVuSans-108\"/>\r\n     <use x=\"961.914062\" xlink:href=\"#DejaVuSans-117\"/>\r\n     <use x=\"1025.292969\" xlink:href=\"#DejaVuSans-109\"/>\r\n     <use x=\"1122.705078\" xlink:href=\"#DejaVuSans-110\"/>\r\n    </g>\r\n   </g>\r\n  </g>\r\n </g>\r\n <defs>\r\n  <clipPath id=\"pff0c298450\">\r\n   <rect height=\"217.44\" width=\"334.8\" x=\"43.78125\" y=\"22.318125\"/>\r\n  </clipPath>\r\n </defs>\r\n</svg>\r\n",
      "image/png": "[encoded data removed]"
     },
     "metadata": {
      "needs_background": "light"
     }
    }
   ],
   "source": [
    "plt.xlabel(\"column\")\n",
    "plt.ylabel(\"number\")\n",
    "plt.title(\"number in each column\")\n",
    "plt.bar(np.arange(1,9), average_column)\n",
    "plt.show()"
   ]
  },
  {
   "source": [
    "### \\[Problem 4] Heat map of the number of wheat\n",
    "Visualize the number of wheat on the 8x8 chess board as a heat map."
   ],
   "cell_type": "markdown",
   "metadata": {}
  },
  {
   "cell_type": "code",
   "execution_count": 10,
   "metadata": {},
   "outputs": [
    {
     "output_type": "display_data",
     "data": {
      "text/plain": "<Figure size 432x288 with 1 Axes>",
      "image/svg+xml": "<?xml version=\"1.0\" encoding=\"utf-8\" standalone=\"no\"?>\r\n<!DOCTYPE svg PUBLIC \"-//W3C//DTD SVG 1.1//EN\"\r\n  \"http://www.w3.org/Graphics/SVG/1.1/DTD/svg11.dtd\">\r\n<!-- Created with matplotlib (https://matplotlib.org/) -->\r\n<svg height=\"277.314375pt\" version=\"1.1\" viewBox=\"0 0 379.421875 277.314375\" width=\"379.421875pt\" xmlns=\"http://www.w3.org/2000/svg\" xmlns:xlink=\"http://www.w3.org/1999/xlink\">\r\n <metadata>\r\n  <rdf:RDF xmlns:cc=\"http://creativecommons.org/ns#\" xmlns:dc=\"http://purl.org/dc/elements/1.1/\" xmlns:rdf=\"http://www.w3.org/1999/02/22-rdf-syntax-ns#\">\r\n   <cc:Work>\r\n    <dc:type rdf:resource=\"http://purl.org/dc/dcmitype/StillImage\"/>\r\n    <dc:date>2021-03-12T13:20:08.665840</dc:date>\r\n    <dc:format>image/svg+xml</dc:format>\r\n    <dc:creator>\r\n     <cc:Agent>\r\n      <dc:title>Matplotlib v3.3.2, https://matplotlib.org/</dc:title>\r\n     </cc:Agent>\r\n    </dc:creator>\r\n   </cc:Work>\r\n  </rdf:RDF>\r\n </metadata>\r\n <defs>\r\n  <style type=\"text/css\">*{stroke-linecap:butt;stroke-linejoin:round;}</style>\r\n </defs>\r\n <g id=\"figure_1\">\r\n  <g id=\"patch_1\">\r\n   <path d=\"M 0 277.314375 \r\nL 379.421875 277.314375 \r\nL 379.421875 0 \r\nL 0 0 \r\nz\r\n\" style=\"fill:none;\"/>\r\n  </g>\r\n  <g id=\"axes_1\">\r\n   <g id=\"patch_2\">\r\n    <path d=\"M 34.240625 239.758125 \r\nL 369.040625 239.758125 \r\nL 369.040625 22.318125 \r\nL 34.240625 22.318125 \r\nz\r\n\" style=\"fill:#ffffff;\"/>\r\n   </g>\r\n   <g id=\"PolyCollection_1\">\r\n    <path clip-path=\"url(#pe5c5b4e73e)\" d=\"M 34.240625 239.758125 \r\nL 34.240625 212.578125 \r\nL 76.090625 212.578125 \r\nL 76.090625 239.758125 \r\nL 34.240625 239.758125 \r\nz\r\n\" style=\"fill:#440154;\"/>\r\n    <path clip-path=\"url(#pe5c5b4e73e)\" d=\"M 76.090625 239.758125 \r\nL 76.090625 212.578125 \r\nL 117.940625 212.578125 \r\nL 117.940625 239.758125 \r\nL 76.090625 239.758125 \r\nz\r\n\" style=\"fill:#440154;\"/>\r\n    <path clip-path=\"url(#pe5c5b4e73e)\" d=\"M 117.940625 239.758125 \r\nL 117.940625 212.578125 \r\nL 159.790625 212.578125 \r\nL 159.790625 239.758125 \r\nL 117.940625 239.758125 \r\nz\r\n\" style=\"fill:#440154;\"/>\r\n    <path clip-path=\"url(#pe5c5b4e73e)\" d=\"M 159.790625 239.758125 \r\nL 159.790625 212.578125 \r\nL 201.640625 212.578125 \r\nL 201.640625 239.758125 \r\nL 159.790625 239.758125 \r\nz\r\n\" style=\"fill:#440154;\"/>\r\n    <path clip-path=\"url(#pe5c5b4e73e)\" d=\"M 201.640625 239.758125 \r\nL 201.640625 212.578125 \r\nL 243.490625 212.578125 \r\nL 243.490625 239.758125 \r\nL 201.640625 239.758125 \r\nz\r\n\" style=\"fill:#440154;\"/>\r\n    <path clip-path=\"url(#pe5c5b4e73e)\" d=\"M 243.490625 239.758125 \r\nL 243.490625 212.578125 \r\nL 285.340625 212.578125 \r\nL 285.340625 239.758125 \r\nL 243.490625 239.758125 \r\nz\r\n\" style=\"fill:#440154;\"/>\r\n    <path clip-path=\"url(#pe5c5b4e73e)\" d=\"M 285.340625 239.758125 \r\nL 285.340625 212.578125 \r\nL 327.190625 212.578125 \r\nL 327.190625 239.758125 \r\nL 285.340625 239.758125 \r\nz\r\n\" style=\"fill:#440154;\"/>\r\n    <path clip-path=\"url(#pe5c5b4e73e)\" d=\"M 327.190625 239.758125 \r\nL 327.190625 212.578125 \r\nL 369.040625 212.578125 \r\nL 369.040625 239.758125 \r\nL 327.190625 239.758125 \r\nz\r\n\" style=\"fill:#440154;\"/>\r\n    <path clip-path=\"url(#pe5c5b4e73e)\" d=\"M 34.240625 212.578125 \r\nL 34.240625 185.398125 \r\nL 76.090625 185.398125 \r\nL 76.090625 212.578125 \r\nL 34.240625 212.578125 \r\nz\r\n\" style=\"fill:#440154;\"/>\r\n    <path clip-path=\"url(#pe5c5b4e73e)\" d=\"M 76.090625 212.578125 \r\nL 76.090625 185.398125 \r\nL 117.940625 185.398125 \r\nL 117.940625 212.578125 \r\nL 76.090625 212.578125 \r\nz\r\n\" style=\"fill:#440154;\"/>\r\n    <path clip-path=\"url(#pe5c5b4e73e)\" d=\"M 117.940625 212.578125 \r\nL 117.940625 185.398125 \r\nL 159.790625 185.398125 \r\nL 159.790625 212.578125 \r\nL 117.940625 212.578125 \r\nz\r\n\" style=\"fill:#440154;\"/>\r\n    <path clip-path=\"url(#pe5c5b4e73e)\" d=\"M 159.790625 212.578125 \r\nL 159.790625 185.398125 \r\nL 201.640625 185.398125 \r\nL 201.640625 212.578125 \r\nL 159.790625 212.578125 \r\nz\r\n\" style=\"fill:#440154;\"/>\r\n    <path clip-path=\"url(#pe5c5b4e73e)\" d=\"M 201.640625 212.578125 \r\nL 201.640625 185.398125 \r\nL 243.490625 185.398125 \r\nL 243.490625 212.578125 \r\nL 201.640625 212.578125 \r\nz\r\n\" style=\"fill:#440154;\"/>\r\n    <path clip-path=\"url(#pe5c5b4e73e)\" d=\"M 243.490625 212.578125 \r\nL 243.490625 185.398125 \r\nL 285.340625 185.398125 \r\nL 285.340625 212.578125 \r\nL 243.490625 212.578125 \r\nz\r\n\" style=\"fill:#440154;\"/>\r\n    <path clip-path=\"url(#pe5c5b4e73e)\" d=\"M 285.340625 212.578125 \r\nL 285.340625 185.398125 \r\nL 327.190625 185.398125 \r\nL 327.190625 212.578125 \r\nL 285.340625 212.578125 \r\nz\r\n\" style=\"fill:#440154;\"/>\r\n    <path clip-path=\"url(#pe5c5b4e73e)\" d=\"M 327.190625 212.578125 \r\nL 327.190625 185.398125 \r\nL 369.040625 185.398125 \r\nL 369.040625 212.578125 \r\nL 327.190625 212.578125 \r\nz\r\n\" style=\"fill:#440154;\"/>\r\n    <path clip-path=\"url(#pe5c5b4e73e)\" d=\"M 34.240625 185.398125 \r\nL 34.240625 158.218125 \r\nL 76.090625 158.218125 \r\nL 76.090625 185.398125 \r\nL 34.240625 185.398125 \r\nz\r\n\" style=\"fill:#440154;\"/>\r\n    <path clip-path=\"url(#pe5c5b4e73e)\" d=\"M 76.090625 185.398125 \r\nL 76.090625 158.218125 \r\nL 117.940625 158.218125 \r\nL 117.940625 185.398125 \r\nL 76.090625 185.398125 \r\nz\r\n\" style=\"fill:#440154;\"/>\r\n    <path clip-path=\"url(#pe5c5b4e73e)\" d=\"M 117.940625 185.398125 \r\nL 117.940625 158.218125 \r\nL 159.790625 158.218125 \r\nL 159.790625 185.398125 \r\nL 117.940625 185.398125 \r\nz\r\n\" style=\"fill:#440154;\"/>\r\n    <path clip-path=\"url(#pe5c5b4e73e)\" d=\"M 159.790625 185.398125 \r\nL 159.790625 158.218125 \r\nL 201.640625 158.218125 \r\nL 201.640625 185.398125 \r\nL 159.790625 185.398125 \r\nz\r\n\" style=\"fill:#440154;\"/>\r\n    <path clip-path=\"url(#pe5c5b4e73e)\" d=\"M 201.640625 185.398125 \r\nL 201.640625 158.218125 \r\nL 243.490625 158.218125 \r\nL 243.490625 185.398125 \r\nL 201.640625 185.398125 \r\nz\r\n\" style=\"fill:#440154;\"/>\r\n    <path clip-path=\"url(#pe5c5b4e73e)\" d=\"M 243.490625 185.398125 \r\nL 243.490625 158.218125 \r\nL 285.340625 158.218125 \r\nL 285.340625 185.398125 \r\nL 243.490625 185.398125 \r\nz\r\n\" style=\"fill:#440154;\"/>\r\n    <path clip-path=\"url(#pe5c5b4e73e)\" d=\"M 285.340625 185.398125 \r\nL 285.340625 158.218125 \r\nL 327.190625 158.218125 \r\nL 327.190625 185.398125 \r\nL 285.340625 185.398125 \r\nz\r\n\" style=\"fill:#440154;\"/>\r\n    <path clip-path=\"url(#pe5c5b4e73e)\" d=\"M 327.190625 185.398125 \r\nL 327.190625 158.218125 \r\nL 369.040625 158.218125 \r\nL 369.040625 185.398125 \r\nL 327.190625 185.398125 \r\nz\r\n\" style=\"fill:#440154;\"/>\r\n    <path clip-path=\"url(#pe5c5b4e73e)\" d=\"M 34.240625 158.218125 \r\nL 34.240625 131.038125 \r\nL 76.090625 131.038125 \r\nL 76.090625 158.218125 \r\nL 34.240625 158.218125 \r\nz\r\n\" style=\"fill:#440154;\"/>\r\n    <path clip-path=\"url(#pe5c5b4e73e)\" d=\"M 76.090625 158.218125 \r\nL 76.090625 131.038125 \r\nL 117.940625 131.038125 \r\nL 117.940625 158.218125 \r\nL 76.090625 158.218125 \r\nz\r\n\" style=\"fill:#440154;\"/>\r\n    <path clip-path=\"url(#pe5c5b4e73e)\" d=\"M 117.940625 158.218125 \r\nL 117.940625 131.038125 \r\nL 159.790625 131.038125 \r\nL 159.790625 158.218125 \r\nL 117.940625 158.218125 \r\nz\r\n\" style=\"fill:#440154;\"/>\r\n    <path clip-path=\"url(#pe5c5b4e73e)\" d=\"M 159.790625 158.218125 \r\nL 159.790625 131.038125 \r\nL 201.640625 131.038125 \r\nL 201.640625 158.218125 \r\nL 159.790625 158.218125 \r\nz\r\n\" style=\"fill:#440154;\"/>\r\n    <path clip-path=\"url(#pe5c5b4e73e)\" d=\"M 201.640625 158.218125 \r\nL 201.640625 131.038125 \r\nL 243.490625 131.038125 \r\nL 243.490625 158.218125 \r\nL 201.640625 158.218125 \r\nz\r\n\" style=\"fill:#440154;\"/>\r\n    <path clip-path=\"url(#pe5c5b4e73e)\" d=\"M 243.490625 158.218125 \r\nL 243.490625 131.038125 \r\nL 285.340625 131.038125 \r\nL 285.340625 158.218125 \r\nL 243.490625 158.218125 \r\nz\r\n\" style=\"fill:#440154;\"/>\r\n    <path clip-path=\"url(#pe5c5b4e73e)\" d=\"M 285.340625 158.218125 \r\nL 285.340625 131.038125 \r\nL 327.190625 131.038125 \r\nL 327.190625 158.218125 \r\nL 285.340625 158.218125 \r\nz\r\n\" style=\"fill:#440154;\"/>\r\n    <path clip-path=\"url(#pe5c5b4e73e)\" d=\"M 327.190625 158.218125 \r\nL 327.190625 131.038125 \r\nL 369.040625 131.038125 \r\nL 369.040625 158.218125 \r\nL 327.190625 158.218125 \r\nz\r\n\" style=\"fill:#440154;\"/>\r\n    <path clip-path=\"url(#pe5c5b4e73e)\" d=\"M 34.240625 131.038125 \r\nL 34.240625 103.858125 \r\nL 76.090625 103.858125 \r\nL 76.090625 131.038125 \r\nL 34.240625 131.038125 \r\nz\r\n\" style=\"fill:#440154;\"/>\r\n    <path clip-path=\"url(#pe5c5b4e73e)\" d=\"M 76.090625 131.038125 \r\nL 76.090625 103.858125 \r\nL 117.940625 103.858125 \r\nL 117.940625 131.038125 \r\nL 76.090625 131.038125 \r\nz\r\n\" style=\"fill:#440154;\"/>\r\n    <path clip-path=\"url(#pe5c5b4e73e)\" d=\"M 117.940625 131.038125 \r\nL 117.940625 103.858125 \r\nL 159.790625 103.858125 \r\nL 159.790625 131.038125 \r\nL 117.940625 131.038125 \r\nz\r\n\" style=\"fill:#440154;\"/>\r\n    <path clip-path=\"url(#pe5c5b4e73e)\" d=\"M 159.790625 131.038125 \r\nL 159.790625 103.858125 \r\nL 201.640625 103.858125 \r\nL 201.640625 131.038125 \r\nL 159.790625 131.038125 \r\nz\r\n\" style=\"fill:#440154;\"/>\r\n    <path clip-path=\"url(#pe5c5b4e73e)\" d=\"M 201.640625 131.038125 \r\nL 201.640625 103.858125 \r\nL 243.490625 103.858125 \r\nL 243.490625 131.038125 \r\nL 201.640625 131.038125 \r\nz\r\n\" style=\"fill:#440154;\"/>\r\n    <path clip-path=\"url(#pe5c5b4e73e)\" d=\"M 243.490625 131.038125 \r\nL 243.490625 103.858125 \r\nL 285.340625 103.858125 \r\nL 285.340625 131.038125 \r\nL 243.490625 131.038125 \r\nz\r\n\" style=\"fill:#440154;\"/>\r\n    <path clip-path=\"url(#pe5c5b4e73e)\" d=\"M 285.340625 131.038125 \r\nL 285.340625 103.858125 \r\nL 327.190625 103.858125 \r\nL 327.190625 131.038125 \r\nL 285.340625 131.038125 \r\nz\r\n\" style=\"fill:#440154;\"/>\r\n    <path clip-path=\"url(#pe5c5b4e73e)\" d=\"M 327.190625 131.038125 \r\nL 327.190625 103.858125 \r\nL 369.040625 103.858125 \r\nL 369.040625 131.038125 \r\nL 327.190625 131.038125 \r\nz\r\n\" style=\"fill:#440154;\"/>\r\n    <path clip-path=\"url(#pe5c5b4e73e)\" d=\"M 34.240625 103.858125 \r\nL 34.240625 76.678125 \r\nL 76.090625 76.678125 \r\nL 76.090625 103.858125 \r\nL 34.240625 103.858125 \r\nz\r\n\" style=\"fill:#440154;\"/>\r\n    <path clip-path=\"url(#pe5c5b4e73e)\" d=\"M 76.090625 103.858125 \r\nL 76.090625 76.678125 \r\nL 117.940625 76.678125 \r\nL 117.940625 103.858125 \r\nL 76.090625 103.858125 \r\nz\r\n\" style=\"fill:#440154;\"/>\r\n    <path clip-path=\"url(#pe5c5b4e73e)\" d=\"M 117.940625 103.858125 \r\nL 117.940625 76.678125 \r\nL 159.790625 76.678125 \r\nL 159.790625 103.858125 \r\nL 117.940625 103.858125 \r\nz\r\n\" style=\"fill:#440154;\"/>\r\n    <path clip-path=\"url(#pe5c5b4e73e)\" d=\"M 159.790625 103.858125 \r\nL 159.790625 76.678125 \r\nL 201.640625 76.678125 \r\nL 201.640625 103.858125 \r\nL 159.790625 103.858125 \r\nz\r\n\" style=\"fill:#440154;\"/>\r\n    <path clip-path=\"url(#pe5c5b4e73e)\" d=\"M 201.640625 103.858125 \r\nL 201.640625 76.678125 \r\nL 243.490625 76.678125 \r\nL 243.490625 103.858125 \r\nL 201.640625 103.858125 \r\nz\r\n\" style=\"fill:#440154;\"/>\r\n    <path clip-path=\"url(#pe5c5b4e73e)\" d=\"M 243.490625 103.858125 \r\nL 243.490625 76.678125 \r\nL 285.340625 76.678125 \r\nL 285.340625 103.858125 \r\nL 243.490625 103.858125 \r\nz\r\n\" style=\"fill:#440154;\"/>\r\n    <path clip-path=\"url(#pe5c5b4e73e)\" d=\"M 285.340625 103.858125 \r\nL 285.340625 76.678125 \r\nL 327.190625 76.678125 \r\nL 327.190625 103.858125 \r\nL 285.340625 103.858125 \r\nz\r\n\" style=\"fill:#440154;\"/>\r\n    <path clip-path=\"url(#pe5c5b4e73e)\" d=\"M 327.190625 103.858125 \r\nL 327.190625 76.678125 \r\nL 369.040625 76.678125 \r\nL 369.040625 103.858125 \r\nL 327.190625 103.858125 \r\nz\r\n\" style=\"fill:#440154;\"/>\r\n    <path clip-path=\"url(#pe5c5b4e73e)\" d=\"M 34.240625 76.678125 \r\nL 34.240625 49.498125 \r\nL 76.090625 49.498125 \r\nL 76.090625 76.678125 \r\nL 34.240625 76.678125 \r\nz\r\n\" style=\"fill:#440154;\"/>\r\n    <path clip-path=\"url(#pe5c5b4e73e)\" d=\"M 76.090625 76.678125 \r\nL 76.090625 49.498125 \r\nL 117.940625 49.498125 \r\nL 117.940625 76.678125 \r\nL 76.090625 76.678125 \r\nz\r\n\" style=\"fill:#440154;\"/>\r\n    <path clip-path=\"url(#pe5c5b4e73e)\" d=\"M 117.940625 76.678125 \r\nL 117.940625 49.498125 \r\nL 159.790625 49.498125 \r\nL 159.790625 76.678125 \r\nL 117.940625 76.678125 \r\nz\r\n\" style=\"fill:#440154;\"/>\r\n    <path clip-path=\"url(#pe5c5b4e73e)\" d=\"M 159.790625 76.678125 \r\nL 159.790625 49.498125 \r\nL 201.640625 49.498125 \r\nL 201.640625 76.678125 \r\nL 159.790625 76.678125 \r\nz\r\n\" style=\"fill:#440154;\"/>\r\n    <path clip-path=\"url(#pe5c5b4e73e)\" d=\"M 201.640625 76.678125 \r\nL 201.640625 49.498125 \r\nL 243.490625 49.498125 \r\nL 243.490625 76.678125 \r\nL 201.640625 76.678125 \r\nz\r\n\" style=\"fill:#440154;\"/>\r\n    <path clip-path=\"url(#pe5c5b4e73e)\" d=\"M 243.490625 76.678125 \r\nL 243.490625 49.498125 \r\nL 285.340625 49.498125 \r\nL 285.340625 76.678125 \r\nL 243.490625 76.678125 \r\nz\r\n\" style=\"fill:#440154;\"/>\r\n    <path clip-path=\"url(#pe5c5b4e73e)\" d=\"M 285.340625 76.678125 \r\nL 285.340625 49.498125 \r\nL 327.190625 49.498125 \r\nL 327.190625 76.678125 \r\nL 285.340625 76.678125 \r\nz\r\n\" style=\"fill:#440154;\"/>\r\n    <path clip-path=\"url(#pe5c5b4e73e)\" d=\"M 327.190625 76.678125 \r\nL 327.190625 49.498125 \r\nL 369.040625 49.498125 \r\nL 369.040625 76.678125 \r\nL 327.190625 76.678125 \r\nz\r\n\" style=\"fill:#440256;\"/>\r\n    <path clip-path=\"url(#pe5c5b4e73e)\" d=\"M 34.240625 49.498125 \r\nL 34.240625 22.318125 \r\nL 76.090625 22.318125 \r\nL 76.090625 49.498125 \r\nL 34.240625 49.498125 \r\nz\r\n\" style=\"fill:#450457;\"/>\r\n    <path clip-path=\"url(#pe5c5b4e73e)\" d=\"M 76.090625 49.498125 \r\nL 76.090625 22.318125 \r\nL 117.940625 22.318125 \r\nL 117.940625 49.498125 \r\nL 76.090625 49.498125 \r\nz\r\n\" style=\"fill:#46075a;\"/>\r\n    <path clip-path=\"url(#pe5c5b4e73e)\" d=\"M 117.940625 49.498125 \r\nL 117.940625 22.318125 \r\nL 159.790625 22.318125 \r\nL 159.790625 49.498125 \r\nL 117.940625 49.498125 \r\nz\r\n\" style=\"fill:#470d60;\"/>\r\n    <path clip-path=\"url(#pe5c5b4e73e)\" d=\"M 159.790625 49.498125 \r\nL 159.790625 22.318125 \r\nL 201.640625 22.318125 \r\nL 201.640625 49.498125 \r\nL 159.790625 49.498125 \r\nz\r\n\" style=\"fill:#48186a;\"/>\r\n    <path clip-path=\"url(#pe5c5b4e73e)\" d=\"M 201.640625 49.498125 \r\nL 201.640625 22.318125 \r\nL 243.490625 22.318125 \r\nL 243.490625 49.498125 \r\nL 201.640625 49.498125 \r\nz\r\n\" style=\"fill:#472d7b;\"/>\r\n    <path clip-path=\"url(#pe5c5b4e73e)\" d=\"M 243.490625 49.498125 \r\nL 243.490625 22.318125 \r\nL 285.340625 22.318125 \r\nL 285.340625 49.498125 \r\nL 243.490625 49.498125 \r\nz\r\n\" style=\"fill:#3b528b;\"/>\r\n    <path clip-path=\"url(#pe5c5b4e73e)\" d=\"M 285.340625 49.498125 \r\nL 285.340625 22.318125 \r\nL 327.190625 22.318125 \r\nL 327.190625 49.498125 \r\nL 285.340625 49.498125 \r\nz\r\n\" style=\"fill:#21918c;\"/>\r\n    <path clip-path=\"url(#pe5c5b4e73e)\" d=\"M 327.190625 49.498125 \r\nL 327.190625 22.318125 \r\nL 369.040625 22.318125 \r\nL 369.040625 49.498125 \r\nL 327.190625 49.498125 \r\nz\r\n\" style=\"fill:#fde725;\"/>\r\n   </g>\r\n   <g id=\"matplotlib.axis_1\">\r\n    <g id=\"xtick_1\">\r\n     <g id=\"line2d_1\">\r\n      <defs>\r\n       <path d=\"M 0 0 \r\nL 0 3.5 \r\n\" id=\"mc469ab6541\" style=\"stroke:#000000;stroke-width:0.8;\"/>\r\n      </defs>\r\n      <g>\r\n       <use style=\"stroke:#000000;stroke-width:0.8;\" x=\"34.240625\" xlink:href=\"#mc469ab6541\" y=\"239.758125\"/>\r\n      </g>\r\n     </g>\r\n     <g id=\"text_1\">\r\n      <!-- 0 -->\r\n      <g transform=\"translate(31.059375 254.356562)scale(0.1 -0.1)\">\r\n       <defs>\r\n        <path d=\"M 31.78125 66.40625 \r\nQ 24.171875 66.40625 20.328125 58.90625 \r\nQ 16.5 51.421875 16.5 36.375 \r\nQ 16.5 21.390625 20.328125 13.890625 \r\nQ 24.171875 6.390625 31.78125 6.390625 \r\nQ 39.453125 6.390625 43.28125 13.890625 \r\nQ 47.125 21.390625 47.125 36.375 \r\nQ 47.125 51.421875 43.28125 58.90625 \r\nQ 39.453125 66.40625 31.78125 66.40625 \r\nz\r\nM 31.78125 74.21875 \r\nQ 44.046875 74.21875 50.515625 64.515625 \r\nQ 56.984375 54.828125 56.984375 36.375 \r\nQ 56.984375 17.96875 50.515625 8.265625 \r\nQ 44.046875 -1.421875 31.78125 -1.421875 \r\nQ 19.53125 -1.421875 13.0625 8.265625 \r\nQ 6.59375 17.96875 6.59375 36.375 \r\nQ 6.59375 54.828125 13.0625 64.515625 \r\nQ 19.53125 74.21875 31.78125 74.21875 \r\nz\r\n\" id=\"DejaVuSans-48\"/>\r\n       </defs>\r\n       <use xlink:href=\"#DejaVuSans-48\"/>\r\n      </g>\r\n     </g>\r\n    </g>\r\n    <g id=\"xtick_2\">\r\n     <g id=\"line2d_2\">\r\n      <g>\r\n       <use style=\"stroke:#000000;stroke-width:0.8;\" x=\"76.090625\" xlink:href=\"#mc469ab6541\" y=\"239.758125\"/>\r\n      </g>\r\n     </g>\r\n     <g id=\"text_2\">\r\n      <!-- 1 -->\r\n      <g transform=\"translate(72.909375 254.356562)scale(0.1 -0.1)\">\r\n       <defs>\r\n        <path d=\"M 12.40625 8.296875 \r\nL 28.515625 8.296875 \r\nL 28.515625 63.921875 \r\nL 10.984375 60.40625 \r\nL 10.984375 69.390625 \r\nL 28.421875 72.90625 \r\nL 38.28125 72.90625 \r\nL 38.28125 8.296875 \r\nL 54.390625 8.296875 \r\nL 54.390625 0 \r\nL 12.40625 0 \r\nz\r\n\" id=\"DejaVuSans-49\"/>\r\n       </defs>\r\n       <use xlink:href=\"#DejaVuSans-49\"/>\r\n      </g>\r\n     </g>\r\n    </g>\r\n    <g id=\"xtick_3\">\r\n     <g id=\"line2d_3\">\r\n      <g>\r\n       <use style=\"stroke:#000000;stroke-width:0.8;\" x=\"117.940625\" xlink:href=\"#mc469ab6541\" y=\"239.758125\"/>\r\n      </g>\r\n     </g>\r\n     <g id=\"text_3\">\r\n      <!-- 2 -->\r\n      <g transform=\"translate(114.759375 254.356562)scale(0.1 -0.1)\">\r\n       <defs>\r\n        <path d=\"M 19.1875 8.296875 \r\nL 53.609375 8.296875 \r\nL 53.609375 0 \r\nL 7.328125 0 \r\nL 7.328125 8.296875 \r\nQ 12.9375 14.109375 22.625 23.890625 \r\nQ 32.328125 33.6875 34.8125 36.53125 \r\nQ 39.546875 41.84375 41.421875 45.53125 \r\nQ 43.3125 49.21875 43.3125 52.78125 \r\nQ 43.3125 58.59375 39.234375 62.25 \r\nQ 35.15625 65.921875 28.609375 65.921875 \r\nQ 23.96875 65.921875 18.8125 64.3125 \r\nQ 13.671875 62.703125 7.8125 59.421875 \r\nL 7.8125 69.390625 \r\nQ 13.765625 71.78125 18.9375 73 \r\nQ 24.125 74.21875 28.421875 74.21875 \r\nQ 39.75 74.21875 46.484375 68.546875 \r\nQ 53.21875 62.890625 53.21875 53.421875 \r\nQ 53.21875 48.921875 51.53125 44.890625 \r\nQ 49.859375 40.875 45.40625 35.40625 \r\nQ 44.1875 33.984375 37.640625 27.21875 \r\nQ 31.109375 20.453125 19.1875 8.296875 \r\nz\r\n\" id=\"DejaVuSans-50\"/>\r\n       </defs>\r\n       <use xlink:href=\"#DejaVuSans-50\"/>\r\n      </g>\r\n     </g>\r\n    </g>\r\n    <g id=\"xtick_4\">\r\n     <g id=\"line2d_4\">\r\n      <g>\r\n       <use style=\"stroke:#000000;stroke-width:0.8;\" x=\"159.790625\" xlink:href=\"#mc469ab6541\" y=\"239.758125\"/>\r\n      </g>\r\n     </g>\r\n     <g id=\"text_4\">\r\n      <!-- 3 -->\r\n      <g transform=\"translate(156.609375 254.356562)scale(0.1 -0.1)\">\r\n       <defs>\r\n        <path d=\"M 40.578125 39.3125 \r\nQ 47.65625 37.796875 51.625 33 \r\nQ 55.609375 28.21875 55.609375 21.1875 \r\nQ 55.609375 10.40625 48.1875 4.484375 \r\nQ 40.765625 -1.421875 27.09375 -1.421875 \r\nQ 22.515625 -1.421875 17.65625 -0.515625 \r\nQ 12.796875 0.390625 7.625 2.203125 \r\nL 7.625 11.71875 \r\nQ 11.71875 9.328125 16.59375 8.109375 \r\nQ 21.484375 6.890625 26.8125 6.890625 \r\nQ 36.078125 6.890625 40.9375 10.546875 \r\nQ 45.796875 14.203125 45.796875 21.1875 \r\nQ 45.796875 27.640625 41.28125 31.265625 \r\nQ 36.765625 34.90625 28.71875 34.90625 \r\nL 20.21875 34.90625 \r\nL 20.21875 43.015625 \r\nL 29.109375 43.015625 \r\nQ 36.375 43.015625 40.234375 45.921875 \r\nQ 44.09375 48.828125 44.09375 54.296875 \r\nQ 44.09375 59.90625 40.109375 62.90625 \r\nQ 36.140625 65.921875 28.71875 65.921875 \r\nQ 24.65625 65.921875 20.015625 65.03125 \r\nQ 15.375 64.15625 9.8125 62.3125 \r\nL 9.8125 71.09375 \r\nQ 15.4375 72.65625 20.34375 73.4375 \r\nQ 25.25 74.21875 29.59375 74.21875 \r\nQ 40.828125 74.21875 47.359375 69.109375 \r\nQ 53.90625 64.015625 53.90625 55.328125 \r\nQ 53.90625 49.265625 50.4375 45.09375 \r\nQ 46.96875 40.921875 40.578125 39.3125 \r\nz\r\n\" id=\"DejaVuSans-51\"/>\r\n       </defs>\r\n       <use xlink:href=\"#DejaVuSans-51\"/>\r\n      </g>\r\n     </g>\r\n    </g>\r\n    <g id=\"xtick_5\">\r\n     <g id=\"line2d_5\">\r\n      <g>\r\n       <use style=\"stroke:#000000;stroke-width:0.8;\" x=\"201.640625\" xlink:href=\"#mc469ab6541\" y=\"239.758125\"/>\r\n      </g>\r\n     </g>\r\n     <g id=\"text_5\">\r\n      <!-- 4 -->\r\n      <g transform=\"translate(198.459375 254.356562)scale(0.1 -0.1)\">\r\n       <defs>\r\n        <path d=\"M 37.796875 64.3125 \r\nL 12.890625 25.390625 \r\nL 37.796875 25.390625 \r\nz\r\nM 35.203125 72.90625 \r\nL 47.609375 72.90625 \r\nL 47.609375 25.390625 \r\nL 58.015625 25.390625 \r\nL 58.015625 17.1875 \r\nL 47.609375 17.1875 \r\nL 47.609375 0 \r\nL 37.796875 0 \r\nL 37.796875 17.1875 \r\nL 4.890625 17.1875 \r\nL 4.890625 26.703125 \r\nz\r\n\" id=\"DejaVuSans-52\"/>\r\n       </defs>\r\n       <use xlink:href=\"#DejaVuSans-52\"/>\r\n      </g>\r\n     </g>\r\n    </g>\r\n    <g id=\"xtick_6\">\r\n     <g id=\"line2d_6\">\r\n      <g>\r\n       <use style=\"stroke:#000000;stroke-width:0.8;\" x=\"243.490625\" xlink:href=\"#mc469ab6541\" y=\"239.758125\"/>\r\n      </g>\r\n     </g>\r\n     <g id=\"text_6\">\r\n      <!-- 5 -->\r\n      <g transform=\"translate(240.309375 254.356562)scale(0.1 -0.1)\">\r\n       <defs>\r\n        <path d=\"M 10.796875 72.90625 \r\nL 49.515625 72.90625 \r\nL 49.515625 64.59375 \r\nL 19.828125 64.59375 \r\nL 19.828125 46.734375 \r\nQ 21.96875 47.46875 24.109375 47.828125 \r\nQ 26.265625 48.1875 28.421875 48.1875 \r\nQ 40.625 48.1875 47.75 41.5 \r\nQ 54.890625 34.8125 54.890625 23.390625 \r\nQ 54.890625 11.625 47.5625 5.09375 \r\nQ 40.234375 -1.421875 26.90625 -1.421875 \r\nQ 22.3125 -1.421875 17.546875 -0.640625 \r\nQ 12.796875 0.140625 7.71875 1.703125 \r\nL 7.71875 11.625 \r\nQ 12.109375 9.234375 16.796875 8.0625 \r\nQ 21.484375 6.890625 26.703125 6.890625 \r\nQ 35.15625 6.890625 40.078125 11.328125 \r\nQ 45.015625 15.765625 45.015625 23.390625 \r\nQ 45.015625 31 40.078125 35.4375 \r\nQ 35.15625 39.890625 26.703125 39.890625 \r\nQ 22.75 39.890625 18.8125 39.015625 \r\nQ 14.890625 38.140625 10.796875 36.28125 \r\nz\r\n\" id=\"DejaVuSans-53\"/>\r\n       </defs>\r\n       <use xlink:href=\"#DejaVuSans-53\"/>\r\n      </g>\r\n     </g>\r\n    </g>\r\n    <g id=\"xtick_7\">\r\n     <g id=\"line2d_7\">\r\n      <g>\r\n       <use style=\"stroke:#000000;stroke-width:0.8;\" x=\"285.340625\" xlink:href=\"#mc469ab6541\" y=\"239.758125\"/>\r\n      </g>\r\n     </g>\r\n     <g id=\"text_7\">\r\n      <!-- 6 -->\r\n      <g transform=\"translate(282.159375 254.356562)scale(0.1 -0.1)\">\r\n       <defs>\r\n        <path d=\"M 33.015625 40.375 \r\nQ 26.375 40.375 22.484375 35.828125 \r\nQ 18.609375 31.296875 18.609375 23.390625 \r\nQ 18.609375 15.53125 22.484375 10.953125 \r\nQ 26.375 6.390625 33.015625 6.390625 \r\nQ 39.65625 6.390625 43.53125 10.953125 \r\nQ 47.40625 15.53125 47.40625 23.390625 \r\nQ 47.40625 31.296875 43.53125 35.828125 \r\nQ 39.65625 40.375 33.015625 40.375 \r\nz\r\nM 52.59375 71.296875 \r\nL 52.59375 62.3125 \r\nQ 48.875 64.0625 45.09375 64.984375 \r\nQ 41.3125 65.921875 37.59375 65.921875 \r\nQ 27.828125 65.921875 22.671875 59.328125 \r\nQ 17.53125 52.734375 16.796875 39.40625 \r\nQ 19.671875 43.65625 24.015625 45.921875 \r\nQ 28.375 48.1875 33.59375 48.1875 \r\nQ 44.578125 48.1875 50.953125 41.515625 \r\nQ 57.328125 34.859375 57.328125 23.390625 \r\nQ 57.328125 12.15625 50.6875 5.359375 \r\nQ 44.046875 -1.421875 33.015625 -1.421875 \r\nQ 20.359375 -1.421875 13.671875 8.265625 \r\nQ 6.984375 17.96875 6.984375 36.375 \r\nQ 6.984375 53.65625 15.1875 63.9375 \r\nQ 23.390625 74.21875 37.203125 74.21875 \r\nQ 40.921875 74.21875 44.703125 73.484375 \r\nQ 48.484375 72.75 52.59375 71.296875 \r\nz\r\n\" id=\"DejaVuSans-54\"/>\r\n       </defs>\r\n       <use xlink:href=\"#DejaVuSans-54\"/>\r\n      </g>\r\n     </g>\r\n    </g>\r\n    <g id=\"xtick_8\">\r\n     <g id=\"line2d_8\">\r\n      <g>\r\n       <use style=\"stroke:#000000;stroke-width:0.8;\" x=\"327.190625\" xlink:href=\"#mc469ab6541\" y=\"239.758125\"/>\r\n      </g>\r\n     </g>\r\n     <g id=\"text_8\">\r\n      <!-- 7 -->\r\n      <g transform=\"translate(324.009375 254.356562)scale(0.1 -0.1)\">\r\n       <defs>\r\n        <path d=\"M 8.203125 72.90625 \r\nL 55.078125 72.90625 \r\nL 55.078125 68.703125 \r\nL 28.609375 0 \r\nL 18.3125 0 \r\nL 43.21875 64.59375 \r\nL 8.203125 64.59375 \r\nz\r\n\" id=\"DejaVuSans-55\"/>\r\n       </defs>\r\n       <use xlink:href=\"#DejaVuSans-55\"/>\r\n      </g>\r\n     </g>\r\n    </g>\r\n    <g id=\"xtick_9\">\r\n     <g id=\"line2d_9\">\r\n      <g>\r\n       <use style=\"stroke:#000000;stroke-width:0.8;\" x=\"369.040625\" xlink:href=\"#mc469ab6541\" y=\"239.758125\"/>\r\n      </g>\r\n     </g>\r\n     <g id=\"text_9\">\r\n      <!-- 8 -->\r\n      <g transform=\"translate(365.859375 254.356562)scale(0.1 -0.1)\">\r\n       <defs>\r\n        <path d=\"M 31.78125 34.625 \r\nQ 24.75 34.625 20.71875 30.859375 \r\nQ 16.703125 27.09375 16.703125 20.515625 \r\nQ 16.703125 13.921875 20.71875 10.15625 \r\nQ 24.75 6.390625 31.78125 6.390625 \r\nQ 38.8125 6.390625 42.859375 10.171875 \r\nQ 46.921875 13.96875 46.921875 20.515625 \r\nQ 46.921875 27.09375 42.890625 30.859375 \r\nQ 38.875 34.625 31.78125 34.625 \r\nz\r\nM 21.921875 38.8125 \r\nQ 15.578125 40.375 12.03125 44.71875 \r\nQ 8.5 49.078125 8.5 55.328125 \r\nQ 8.5 64.0625 14.71875 69.140625 \r\nQ 20.953125 74.21875 31.78125 74.21875 \r\nQ 42.671875 74.21875 48.875 69.140625 \r\nQ 55.078125 64.0625 55.078125 55.328125 \r\nQ 55.078125 49.078125 51.53125 44.71875 \r\nQ 48 40.375 41.703125 38.8125 \r\nQ 48.828125 37.15625 52.796875 32.3125 \r\nQ 56.78125 27.484375 56.78125 20.515625 \r\nQ 56.78125 9.90625 50.3125 4.234375 \r\nQ 43.84375 -1.421875 31.78125 -1.421875 \r\nQ 19.734375 -1.421875 13.25 4.234375 \r\nQ 6.78125 9.90625 6.78125 20.515625 \r\nQ 6.78125 27.484375 10.78125 32.3125 \r\nQ 14.796875 37.15625 21.921875 38.8125 \r\nz\r\nM 18.3125 54.390625 \r\nQ 18.3125 48.734375 21.84375 45.5625 \r\nQ 25.390625 42.390625 31.78125 42.390625 \r\nQ 38.140625 42.390625 41.71875 45.5625 \r\nQ 45.3125 48.734375 45.3125 54.390625 \r\nQ 45.3125 60.0625 41.71875 63.234375 \r\nQ 38.140625 66.40625 31.78125 66.40625 \r\nQ 25.390625 66.40625 21.84375 63.234375 \r\nQ 18.3125 60.0625 18.3125 54.390625 \r\nz\r\n\" id=\"DejaVuSans-56\"/>\r\n       </defs>\r\n       <use xlink:href=\"#DejaVuSans-56\"/>\r\n      </g>\r\n     </g>\r\n    </g>\r\n    <g id=\"text_10\">\r\n     <!-- column -->\r\n     <g transform=\"translate(183.235156 268.034687)scale(0.1 -0.1)\">\r\n      <defs>\r\n       <path d=\"M 48.78125 52.59375 \r\nL 48.78125 44.1875 \r\nQ 44.96875 46.296875 41.140625 47.34375 \r\nQ 37.3125 48.390625 33.40625 48.390625 \r\nQ 24.65625 48.390625 19.8125 42.84375 \r\nQ 14.984375 37.3125 14.984375 27.296875 \r\nQ 14.984375 17.28125 19.8125 11.734375 \r\nQ 24.65625 6.203125 33.40625 6.203125 \r\nQ 37.3125 6.203125 41.140625 7.25 \r\nQ 44.96875 8.296875 48.78125 10.40625 \r\nL 48.78125 2.09375 \r\nQ 45.015625 0.34375 40.984375 -0.53125 \r\nQ 36.96875 -1.421875 32.421875 -1.421875 \r\nQ 20.0625 -1.421875 12.78125 6.34375 \r\nQ 5.515625 14.109375 5.515625 27.296875 \r\nQ 5.515625 40.671875 12.859375 48.328125 \r\nQ 20.21875 56 33.015625 56 \r\nQ 37.15625 56 41.109375 55.140625 \r\nQ 45.0625 54.296875 48.78125 52.59375 \r\nz\r\n\" id=\"DejaVuSans-99\"/>\r\n       <path d=\"M 30.609375 48.390625 \r\nQ 23.390625 48.390625 19.1875 42.75 \r\nQ 14.984375 37.109375 14.984375 27.296875 \r\nQ 14.984375 17.484375 19.15625 11.84375 \r\nQ 23.34375 6.203125 30.609375 6.203125 \r\nQ 37.796875 6.203125 41.984375 11.859375 \r\nQ 46.1875 17.53125 46.1875 27.296875 \r\nQ 46.1875 37.015625 41.984375 42.703125 \r\nQ 37.796875 48.390625 30.609375 48.390625 \r\nz\r\nM 30.609375 56 \r\nQ 42.328125 56 49.015625 48.375 \r\nQ 55.71875 40.765625 55.71875 27.296875 \r\nQ 55.71875 13.875 49.015625 6.21875 \r\nQ 42.328125 -1.421875 30.609375 -1.421875 \r\nQ 18.84375 -1.421875 12.171875 6.21875 \r\nQ 5.515625 13.875 5.515625 27.296875 \r\nQ 5.515625 40.765625 12.171875 48.375 \r\nQ 18.84375 56 30.609375 56 \r\nz\r\n\" id=\"DejaVuSans-111\"/>\r\n       <path d=\"M 9.421875 75.984375 \r\nL 18.40625 75.984375 \r\nL 18.40625 0 \r\nL 9.421875 0 \r\nz\r\n\" id=\"DejaVuSans-108\"/>\r\n       <path d=\"M 8.5 21.578125 \r\nL 8.5 54.6875 \r\nL 17.484375 54.6875 \r\nL 17.484375 21.921875 \r\nQ 17.484375 14.15625 20.5 10.265625 \r\nQ 23.53125 6.390625 29.59375 6.390625 \r\nQ 36.859375 6.390625 41.078125 11.03125 \r\nQ 45.3125 15.671875 45.3125 23.6875 \r\nL 45.3125 54.6875 \r\nL 54.296875 54.6875 \r\nL 54.296875 0 \r\nL 45.3125 0 \r\nL 45.3125 8.40625 \r\nQ 42.046875 3.421875 37.71875 1 \r\nQ 33.40625 -1.421875 27.6875 -1.421875 \r\nQ 18.265625 -1.421875 13.375 4.4375 \r\nQ 8.5 10.296875 8.5 21.578125 \r\nz\r\nM 31.109375 56 \r\nz\r\n\" id=\"DejaVuSans-117\"/>\r\n       <path d=\"M 52 44.1875 \r\nQ 55.375 50.25 60.0625 53.125 \r\nQ 64.75 56 71.09375 56 \r\nQ 79.640625 56 84.28125 50.015625 \r\nQ 88.921875 44.046875 88.921875 33.015625 \r\nL 88.921875 0 \r\nL 79.890625 0 \r\nL 79.890625 32.71875 \r\nQ 79.890625 40.578125 77.09375 44.375 \r\nQ 74.3125 48.1875 68.609375 48.1875 \r\nQ 61.625 48.1875 57.5625 43.546875 \r\nQ 53.515625 38.921875 53.515625 30.90625 \r\nL 53.515625 0 \r\nL 44.484375 0 \r\nL 44.484375 32.71875 \r\nQ 44.484375 40.625 41.703125 44.40625 \r\nQ 38.921875 48.1875 33.109375 48.1875 \r\nQ 26.21875 48.1875 22.15625 43.53125 \r\nQ 18.109375 38.875 18.109375 30.90625 \r\nL 18.109375 0 \r\nL 9.078125 0 \r\nL 9.078125 54.6875 \r\nL 18.109375 54.6875 \r\nL 18.109375 46.1875 \r\nQ 21.1875 51.21875 25.484375 53.609375 \r\nQ 29.78125 56 35.6875 56 \r\nQ 41.65625 56 45.828125 52.96875 \r\nQ 50 49.953125 52 44.1875 \r\nz\r\n\" id=\"DejaVuSans-109\"/>\r\n       <path d=\"M 54.890625 33.015625 \r\nL 54.890625 0 \r\nL 45.90625 0 \r\nL 45.90625 32.71875 \r\nQ 45.90625 40.484375 42.875 44.328125 \r\nQ 39.84375 48.1875 33.796875 48.1875 \r\nQ 26.515625 48.1875 22.3125 43.546875 \r\nQ 18.109375 38.921875 18.109375 30.90625 \r\nL 18.109375 0 \r\nL 9.078125 0 \r\nL 9.078125 54.6875 \r\nL 18.109375 54.6875 \r\nL 18.109375 46.1875 \r\nQ 21.34375 51.125 25.703125 53.5625 \r\nQ 30.078125 56 35.796875 56 \r\nQ 45.21875 56 50.046875 50.171875 \r\nQ 54.890625 44.34375 54.890625 33.015625 \r\nz\r\n\" id=\"DejaVuSans-110\"/>\r\n      </defs>\r\n      <use xlink:href=\"#DejaVuSans-99\"/>\r\n      <use x=\"54.980469\" xlink:href=\"#DejaVuSans-111\"/>\r\n      <use x=\"116.162109\" xlink:href=\"#DejaVuSans-108\"/>\r\n      <use x=\"143.945312\" xlink:href=\"#DejaVuSans-117\"/>\r\n      <use x=\"207.324219\" xlink:href=\"#DejaVuSans-109\"/>\r\n      <use x=\"304.736328\" xlink:href=\"#DejaVuSans-110\"/>\r\n     </g>\r\n    </g>\r\n   </g>\r\n   <g id=\"matplotlib.axis_2\">\r\n    <g id=\"ytick_1\">\r\n     <g id=\"line2d_10\">\r\n      <defs>\r\n       <path d=\"M 0 0 \r\nL -3.5 0 \r\n\" id=\"m4868ba1194\" style=\"stroke:#000000;stroke-width:0.8;\"/>\r\n      </defs>\r\n      <g>\r\n       <use style=\"stroke:#000000;stroke-width:0.8;\" x=\"34.240625\" xlink:href=\"#m4868ba1194\" y=\"239.758125\"/>\r\n      </g>\r\n     </g>\r\n     <g id=\"text_11\">\r\n      <!-- 0 -->\r\n      <g transform=\"translate(20.878125 243.557344)scale(0.1 -0.1)\">\r\n       <use xlink:href=\"#DejaVuSans-48\"/>\r\n      </g>\r\n     </g>\r\n    </g>\r\n    <g id=\"ytick_2\">\r\n     <g id=\"line2d_11\">\r\n      <g>\r\n       <use style=\"stroke:#000000;stroke-width:0.8;\" x=\"34.240625\" xlink:href=\"#m4868ba1194\" y=\"212.578125\"/>\r\n      </g>\r\n     </g>\r\n     <g id=\"text_12\">\r\n      <!-- 1 -->\r\n      <g transform=\"translate(20.878125 216.377344)scale(0.1 -0.1)\">\r\n       <use xlink:href=\"#DejaVuSans-49\"/>\r\n      </g>\r\n     </g>\r\n    </g>\r\n    <g id=\"ytick_3\">\r\n     <g id=\"line2d_12\">\r\n      <g>\r\n       <use style=\"stroke:#000000;stroke-width:0.8;\" x=\"34.240625\" xlink:href=\"#m4868ba1194\" y=\"185.398125\"/>\r\n      </g>\r\n     </g>\r\n     <g id=\"text_13\">\r\n      <!-- 2 -->\r\n      <g transform=\"translate(20.878125 189.197344)scale(0.1 -0.1)\">\r\n       <use xlink:href=\"#DejaVuSans-50\"/>\r\n      </g>\r\n     </g>\r\n    </g>\r\n    <g id=\"ytick_4\">\r\n     <g id=\"line2d_13\">\r\n      <g>\r\n       <use style=\"stroke:#000000;stroke-width:0.8;\" x=\"34.240625\" xlink:href=\"#m4868ba1194\" y=\"158.218125\"/>\r\n      </g>\r\n     </g>\r\n     <g id=\"text_14\">\r\n      <!-- 3 -->\r\n      <g transform=\"translate(20.878125 162.017344)scale(0.1 -0.1)\">\r\n       <use xlink:href=\"#DejaVuSans-51\"/>\r\n      </g>\r\n     </g>\r\n    </g>\r\n    <g id=\"ytick_5\">\r\n     <g id=\"line2d_14\">\r\n      <g>\r\n       <use style=\"stroke:#000000;stroke-width:0.8;\" x=\"34.240625\" xlink:href=\"#m4868ba1194\" y=\"131.038125\"/>\r\n      </g>\r\n     </g>\r\n     <g id=\"text_15\">\r\n      <!-- 4 -->\r\n      <g transform=\"translate(20.878125 134.837344)scale(0.1 -0.1)\">\r\n       <use xlink:href=\"#DejaVuSans-52\"/>\r\n      </g>\r\n     </g>\r\n    </g>\r\n    <g id=\"ytick_6\">\r\n     <g id=\"line2d_15\">\r\n      <g>\r\n       <use style=\"stroke:#000000;stroke-width:0.8;\" x=\"34.240625\" xlink:href=\"#m4868ba1194\" y=\"103.858125\"/>\r\n      </g>\r\n     </g>\r\n     <g id=\"text_16\">\r\n      <!-- 5 -->\r\n      <g transform=\"translate(20.878125 107.657344)scale(0.1 -0.1)\">\r\n       <use xlink:href=\"#DejaVuSans-53\"/>\r\n      </g>\r\n     </g>\r\n    </g>\r\n    <g id=\"ytick_7\">\r\n     <g id=\"line2d_16\">\r\n      <g>\r\n       <use style=\"stroke:#000000;stroke-width:0.8;\" x=\"34.240625\" xlink:href=\"#m4868ba1194\" y=\"76.678125\"/>\r\n      </g>\r\n     </g>\r\n     <g id=\"text_17\">\r\n      <!-- 6 -->\r\n      <g transform=\"translate(20.878125 80.477344)scale(0.1 -0.1)\">\r\n       <use xlink:href=\"#DejaVuSans-54\"/>\r\n      </g>\r\n     </g>\r\n    </g>\r\n    <g id=\"ytick_8\">\r\n     <g id=\"line2d_17\">\r\n      <g>\r\n       <use style=\"stroke:#000000;stroke-width:0.8;\" x=\"34.240625\" xlink:href=\"#m4868ba1194\" y=\"49.498125\"/>\r\n      </g>\r\n     </g>\r\n     <g id=\"text_18\">\r\n      <!-- 7 -->\r\n      <g transform=\"translate(20.878125 53.297344)scale(0.1 -0.1)\">\r\n       <use xlink:href=\"#DejaVuSans-55\"/>\r\n      </g>\r\n     </g>\r\n    </g>\r\n    <g id=\"ytick_9\">\r\n     <g id=\"line2d_18\">\r\n      <g>\r\n       <use style=\"stroke:#000000;stroke-width:0.8;\" x=\"34.240625\" xlink:href=\"#m4868ba1194\" y=\"22.318125\"/>\r\n      </g>\r\n     </g>\r\n     <g id=\"text_19\">\r\n      <!-- 8 -->\r\n      <g transform=\"translate(20.878125 26.117344)scale(0.1 -0.1)\">\r\n       <use xlink:href=\"#DejaVuSans-56\"/>\r\n      </g>\r\n     </g>\r\n    </g>\r\n    <g id=\"text_20\">\r\n     <!-- row -->\r\n     <g transform=\"translate(14.798437 140.129531)rotate(-90)scale(0.1 -0.1)\">\r\n      <defs>\r\n       <path d=\"M 41.109375 46.296875 \r\nQ 39.59375 47.171875 37.8125 47.578125 \r\nQ 36.03125 48 33.890625 48 \r\nQ 26.265625 48 22.1875 43.046875 \r\nQ 18.109375 38.09375 18.109375 28.8125 \r\nL 18.109375 0 \r\nL 9.078125 0 \r\nL 9.078125 54.6875 \r\nL 18.109375 54.6875 \r\nL 18.109375 46.1875 \r\nQ 20.953125 51.171875 25.484375 53.578125 \r\nQ 30.03125 56 36.53125 56 \r\nQ 37.453125 56 38.578125 55.875 \r\nQ 39.703125 55.765625 41.0625 55.515625 \r\nz\r\n\" id=\"DejaVuSans-114\"/>\r\n       <path d=\"M 4.203125 54.6875 \r\nL 13.1875 54.6875 \r\nL 24.421875 12.015625 \r\nL 35.59375 54.6875 \r\nL 46.1875 54.6875 \r\nL 57.421875 12.015625 \r\nL 68.609375 54.6875 \r\nL 77.59375 54.6875 \r\nL 63.28125 0 \r\nL 52.6875 0 \r\nL 40.921875 44.828125 \r\nL 29.109375 0 \r\nL 18.5 0 \r\nz\r\n\" id=\"DejaVuSans-119\"/>\r\n      </defs>\r\n      <use xlink:href=\"#DejaVuSans-114\"/>\r\n      <use x=\"38.863281\" xlink:href=\"#DejaVuSans-111\"/>\r\n      <use x=\"100.044922\" xlink:href=\"#DejaVuSans-119\"/>\r\n     </g>\r\n    </g>\r\n   </g>\r\n   <g id=\"patch_3\">\r\n    <path d=\"M 34.240625 239.758125 \r\nL 34.240625 22.318125 \r\n\" style=\"fill:none;stroke:#000000;stroke-linecap:square;stroke-linejoin:miter;stroke-width:0.8;\"/>\r\n   </g>\r\n   <g id=\"patch_4\">\r\n    <path d=\"M 369.040625 239.758125 \r\nL 369.040625 22.318125 \r\n\" style=\"fill:none;stroke:#000000;stroke-linecap:square;stroke-linejoin:miter;stroke-width:0.8;\"/>\r\n   </g>\r\n   <g id=\"patch_5\">\r\n    <path d=\"M 34.240625 239.758125 \r\nL 369.040625 239.758125 \r\n\" style=\"fill:none;stroke:#000000;stroke-linecap:square;stroke-linejoin:miter;stroke-width:0.8;\"/>\r\n   </g>\r\n   <g id=\"patch_6\">\r\n    <path d=\"M 34.240625 22.318125 \r\nL 369.040625 22.318125 \r\n\" style=\"fill:none;stroke:#000000;stroke-linecap:square;stroke-linejoin:miter;stroke-width:0.8;\"/>\r\n   </g>\r\n   <g id=\"text_21\">\r\n    <!-- heatmap -->\r\n    <g transform=\"translate(174.786875 16.318125)scale(0.12 -0.12)\">\r\n     <defs>\r\n      <path d=\"M 54.890625 33.015625 \r\nL 54.890625 0 \r\nL 45.90625 0 \r\nL 45.90625 32.71875 \r\nQ 45.90625 40.484375 42.875 44.328125 \r\nQ 39.84375 48.1875 33.796875 48.1875 \r\nQ 26.515625 48.1875 22.3125 43.546875 \r\nQ 18.109375 38.921875 18.109375 30.90625 \r\nL 18.109375 0 \r\nL 9.078125 0 \r\nL 9.078125 75.984375 \r\nL 18.109375 75.984375 \r\nL 18.109375 46.1875 \r\nQ 21.34375 51.125 25.703125 53.5625 \r\nQ 30.078125 56 35.796875 56 \r\nQ 45.21875 56 50.046875 50.171875 \r\nQ 54.890625 44.34375 54.890625 33.015625 \r\nz\r\n\" id=\"DejaVuSans-104\"/>\r\n      <path d=\"M 56.203125 29.59375 \r\nL 56.203125 25.203125 \r\nL 14.890625 25.203125 \r\nQ 15.484375 15.921875 20.484375 11.0625 \r\nQ 25.484375 6.203125 34.421875 6.203125 \r\nQ 39.59375 6.203125 44.453125 7.46875 \r\nQ 49.3125 8.734375 54.109375 11.28125 \r\nL 54.109375 2.78125 \r\nQ 49.265625 0.734375 44.1875 -0.34375 \r\nQ 39.109375 -1.421875 33.890625 -1.421875 \r\nQ 20.796875 -1.421875 13.15625 6.1875 \r\nQ 5.515625 13.8125 5.515625 26.8125 \r\nQ 5.515625 40.234375 12.765625 48.109375 \r\nQ 20.015625 56 32.328125 56 \r\nQ 43.359375 56 49.78125 48.890625 \r\nQ 56.203125 41.796875 56.203125 29.59375 \r\nz\r\nM 47.21875 32.234375 \r\nQ 47.125 39.59375 43.09375 43.984375 \r\nQ 39.0625 48.390625 32.421875 48.390625 \r\nQ 24.90625 48.390625 20.390625 44.140625 \r\nQ 15.875 39.890625 15.1875 32.171875 \r\nz\r\n\" id=\"DejaVuSans-101\"/>\r\n      <path d=\"M 34.28125 27.484375 \r\nQ 23.390625 27.484375 19.1875 25 \r\nQ 14.984375 22.515625 14.984375 16.5 \r\nQ 14.984375 11.71875 18.140625 8.90625 \r\nQ 21.296875 6.109375 26.703125 6.109375 \r\nQ 34.1875 6.109375 38.703125 11.40625 \r\nQ 43.21875 16.703125 43.21875 25.484375 \r\nL 43.21875 27.484375 \r\nz\r\nM 52.203125 31.203125 \r\nL 52.203125 0 \r\nL 43.21875 0 \r\nL 43.21875 8.296875 \r\nQ 40.140625 3.328125 35.546875 0.953125 \r\nQ 30.953125 -1.421875 24.3125 -1.421875 \r\nQ 15.921875 -1.421875 10.953125 3.296875 \r\nQ 6 8.015625 6 15.921875 \r\nQ 6 25.140625 12.171875 29.828125 \r\nQ 18.359375 34.515625 30.609375 34.515625 \r\nL 43.21875 34.515625 \r\nL 43.21875 35.40625 \r\nQ 43.21875 41.609375 39.140625 45 \r\nQ 35.0625 48.390625 27.6875 48.390625 \r\nQ 23 48.390625 18.546875 47.265625 \r\nQ 14.109375 46.140625 10.015625 43.890625 \r\nL 10.015625 52.203125 \r\nQ 14.9375 54.109375 19.578125 55.046875 \r\nQ 24.21875 56 28.609375 56 \r\nQ 40.484375 56 46.34375 49.84375 \r\nQ 52.203125 43.703125 52.203125 31.203125 \r\nz\r\n\" id=\"DejaVuSans-97\"/>\r\n      <path d=\"M 18.3125 70.21875 \r\nL 18.3125 54.6875 \r\nL 36.8125 54.6875 \r\nL 36.8125 47.703125 \r\nL 18.3125 47.703125 \r\nL 18.3125 18.015625 \r\nQ 18.3125 11.328125 20.140625 9.421875 \r\nQ 21.96875 7.515625 27.59375 7.515625 \r\nL 36.8125 7.515625 \r\nL 36.8125 0 \r\nL 27.59375 0 \r\nQ 17.1875 0 13.234375 3.875 \r\nQ 9.28125 7.765625 9.28125 18.015625 \r\nL 9.28125 47.703125 \r\nL 2.6875 47.703125 \r\nL 2.6875 54.6875 \r\nL 9.28125 54.6875 \r\nL 9.28125 70.21875 \r\nz\r\n\" id=\"DejaVuSans-116\"/>\r\n      <path d=\"M 18.109375 8.203125 \r\nL 18.109375 -20.796875 \r\nL 9.078125 -20.796875 \r\nL 9.078125 54.6875 \r\nL 18.109375 54.6875 \r\nL 18.109375 46.390625 \r\nQ 20.953125 51.265625 25.265625 53.625 \r\nQ 29.59375 56 35.59375 56 \r\nQ 45.5625 56 51.78125 48.09375 \r\nQ 58.015625 40.1875 58.015625 27.296875 \r\nQ 58.015625 14.40625 51.78125 6.484375 \r\nQ 45.5625 -1.421875 35.59375 -1.421875 \r\nQ 29.59375 -1.421875 25.265625 0.953125 \r\nQ 20.953125 3.328125 18.109375 8.203125 \r\nz\r\nM 48.6875 27.296875 \r\nQ 48.6875 37.203125 44.609375 42.84375 \r\nQ 40.53125 48.484375 33.40625 48.484375 \r\nQ 26.265625 48.484375 22.1875 42.84375 \r\nQ 18.109375 37.203125 18.109375 27.296875 \r\nQ 18.109375 17.390625 22.1875 11.75 \r\nQ 26.265625 6.109375 33.40625 6.109375 \r\nQ 40.53125 6.109375 44.609375 11.75 \r\nQ 48.6875 17.390625 48.6875 27.296875 \r\nz\r\n\" id=\"DejaVuSans-112\"/>\r\n     </defs>\r\n     <use xlink:href=\"#DejaVuSans-104\"/>\r\n     <use x=\"63.378906\" xlink:href=\"#DejaVuSans-101\"/>\r\n     <use x=\"124.902344\" xlink:href=\"#DejaVuSans-97\"/>\r\n     <use x=\"186.181641\" xlink:href=\"#DejaVuSans-116\"/>\r\n     <use x=\"225.390625\" xlink:href=\"#DejaVuSans-109\"/>\r\n     <use x=\"322.802734\" xlink:href=\"#DejaVuSans-97\"/>\r\n     <use x=\"384.082031\" xlink:href=\"#DejaVuSans-112\"/>\r\n    </g>\r\n   </g>\r\n  </g>\r\n </g>\r\n <defs>\r\n  <clipPath id=\"pe5c5b4e73e\">\r\n   <rect height=\"217.44\" width=\"334.8\" x=\"34.240625\" y=\"22.318125\"/>\r\n  </clipPath>\r\n </defs>\r\n</svg>\r\n",
      "image/png": "[encoded data removed]"
     },
     "metadata": {
      "needs_background": "light"
     }
    }
   ],
   "source": [
    "# Small values are purple and large values are yellow\n",
    "plt.xlabel(\"column\")\n",
    "plt.ylabel(\"row\")\n",
    "plt.title(\"heatmap\")\n",
    "plt.pcolor(plate_8x8)\n",
    "plt.show()"
   ]
  },
  {
   "source": [
    "### \\[Problem 5] How many times is the second half as long as the first half?\n",
    "Find how many times the number of wheat in the second half of the chessboard is greater than the number of wheat in the first half. The first half is lines 0 to 3 of the array, and the second half is lines 4 to 7."
   ],
   "cell_type": "markdown",
   "metadata": {}
  },
  {
   "cell_type": "code",
   "execution_count": 82,
   "metadata": {},
   "outputs": [
    {
     "output_type": "stream",
     "name": "stdout",
     "text": [
      "Arrange wheat on a plate of 4 squares (list)\n[                  1                   2                   4\n                   8                  16                  32\n                  64                 128                 256\n                 512                1024                2048\n                4096                8192               16384\n               32768               65536              131072\n              262144              524288             1048576\n             2097152             4194304             8388608\n            16777216            33554432            67108864\n           134217728           268435456           536870912\n          1073741824          2147483648          4294967296\n          8589934592         17179869184         34359738368\n         68719476736        137438953472        274877906944\n        549755813888       1099511627776       2199023255552\n       4398046511104       8796093022208      17592186044416\n      35184372088832      70368744177664     140737488355328\n     281474976710656     562949953421312    1125899906842624\n    2251799813685248    4503599627370496    9007199254740992\n   18014398509481984   36028797018963968   72057594037927936\n  144115188075855872  288230376151711744  576460752303423488\n 1152921504606846976 2305843009213693952 4611686018427387904\n 9223372036854775808]\n"
     ]
    }
   ],
   "source": [
    "n_squares = 64\n",
    "indice_square = np.arange(n_squares).astype(np.uint64)\n",
    "small_board_list = 2**indice_square\n",
    "print(\"Arrange wheat on a plate of 4 squares (list)\\n{}\".format(small_board_list))"
   ]
  },
  {
   "source": [],
   "cell_type": "markdown",
   "metadata": {}
  },
  {
   "cell_type": "code",
   "execution_count": 68,
   "metadata": {},
   "outputs": [
    {
     "output_type": "stream",
     "name": "stdout",
     "text": [
      "\nTotal wheats of the first half of chessboard: 16777215\n\nTotal wheats of the second half of chessboard: 72057589742960640\n\nThe wheats of second half is 4294967296.0 times greater than those of first half\n"
     ]
    }
   ],
   "source": [
    "board_list_8x8 = small_board_list.reshape(8,8)\n",
    "sum_first_half = np.sum(board_list_8x8[0:3])\n",
    "sum_second_half = np.sum(board_list_8x8[4:7])\n",
    "\n",
    "print(\"\\nTotal wheats of the first half of chessboard: {}\".format(sum_first_half))\n",
    "print(\"\\nTotal wheats of the second half of chessboard: {}\".format(sum_second_half))\n",
    "print(\"\\nThe wheats of second half is {} times greater than those of first half\".format(sum_second_half/sum_first_half))"
   ]
  },
  {
   "source": [
    "### \\[Problem 6] Other calculation method"
   ],
   "cell_type": "markdown",
   "metadata": {}
  },
  {
   "cell_type": "code",
   "execution_count": 92,
   "metadata": {},
   "outputs": [],
   "source": [
    "def wheat_on_chess_append(n, m):\n",
    "    \"\"\"\n",
    "    A function that returns a ndarary containing the number of wheat on an n x m chess board\n",
    "\n",
    "    Parameteres:\n",
    "    --------------\n",
    "    n: int\n",
    "        Horizontal dimension of a chessboard\n",
    "    \n",
    "    m: int\n",
    "        Vertical dimension of a chessboard\n",
    "\n",
    "    Returns:\n",
    "    --------------\n",
    "    board_ndarray: array\n",
    "        An array represent the chessboard\n",
    "\n",
    "    wheat_number: int\n",
    "        Number of wheats on the chessboard \n",
    "\n",
    "    \"\"\"\n",
    "    n_squares = n * m\n",
    "    board_ndarray = np.array([1])\n",
    "\n",
    "    for _ in range(n_squares - 1):\n",
    "        board_ndarray = np.append(board_ndarray, 2*board_ndarray[-1]).astype(np.uint64)\n",
    "\n",
    "    total_wheats = sum(board_ndarray)\n",
    "\n",
    "    return board_ndarray, total_wheats"
   ]
  },
  {
   "cell_type": "code",
   "execution_count": 93,
   "metadata": {},
   "outputs": [
    {
     "output_type": "stream",
     "name": "stdout",
     "text": [
      "Arrange wheat on a n x m chessboard (ndarray)：\n[                  1                   2                   4\n                   8                  16                  32\n                  64                 128                 256\n                 512                1024                2048\n                4096                8192               16384\n               32768               65536              131072\n              262144              524288             1048576\n             2097152             4194304             8388608\n            16777216            33554432            67108864\n           134217728           268435456           536870912\n          1073741824          2147483648          4294967296\n          8589934592         17179869184         34359738368\n         68719476736        137438953472        274877906944\n        549755813888       1099511627776       2199023255552\n       4398046511104       8796093022208      17592186044416\n      35184372088832      70368744177664     140737488355328\n     281474976710656     562949953421312    1125899906842624\n    2251799813685248    4503599627370496    9007199254740992\n   18014398509481984   36028797018963968   72057594037927936\n  144115188075855872  288230376151711744  576460752303423488\n 1152921504606846976 2305843009213693952 4611686018427387904\n 9223372036854775808]\n\nTotal number of wheats: 1.8446744073709552e+19\n"
     ]
    }
   ],
   "source": [
    "new_plate_8x8, new_wheats_number = wheat_on_chess_append(8,8)\n",
    "print(\"Arrange wheat on a n x m chessboard (ndarray)：\\n{}\".format(new_plate_8x8))\n",
    "print(\"\\nTotal number of wheats: {}\".format(new_wheats_number))"
   ]
  },
  {
   "cell_type": "code",
   "execution_count": 99,
   "metadata": {},
   "outputs": [],
   "source": [
    "def wheat_on_chess_broadcast(n, m):\n",
    "    \"\"\"\n",
    "    A function that returns a ndarary containing the number of wheat on an n x m chess board\n",
    "\n",
    "    Parameteres:\n",
    "    --------------\n",
    "    n: int\n",
    "        Horizontal dimension of a chessboard\n",
    "    \n",
    "    m: int\n",
    "        Vertical dimension of a chessboard\n",
    "\n",
    "    Returns:\n",
    "    --------------\n",
    "    board_ndarray: array\n",
    "        An array represent the chessboard\n",
    "\n",
    "    wheat_number: int\n",
    "        Number of wheats on the chessboard \n",
    "\n",
    "    \"\"\"\n",
    "    n_squares = n * m\n",
    "    indice_square = np.arange(n_squares).astype(np.uint64)\n",
    "    board_ndarray = 2**indice_square\n",
    "\n",
    "    total_wheats = sum(board_ndarray)\n",
    "\n",
    "    return board_ndarray, total_wheats"
   ]
  },
  {
   "cell_type": "code",
   "execution_count": 108,
   "metadata": {},
   "outputs": [
    {
     "output_type": "stream",
     "name": "stdout",
     "text": [
      "Arrange wheat on a n x m chessboard (ndarray)：\n[                  1                   2                   4\n                   8                  16                  32\n                  64                 128                 256\n                 512                1024                2048\n                4096                8192               16384\n               32768               65536              131072\n              262144              524288             1048576\n             2097152             4194304             8388608\n            16777216            33554432            67108864\n           134217728           268435456           536870912\n          1073741824          2147483648          4294967296\n          8589934592         17179869184         34359738368\n         68719476736        137438953472        274877906944\n        549755813888       1099511627776       2199023255552\n       4398046511104       8796093022208      17592186044416\n      35184372088832      70368744177664     140737488355328\n     281474976710656     562949953421312    1125899906842624\n    2251799813685248    4503599627370496    9007199254740992\n   18014398509481984   36028797018963968   72057594037927936\n  144115188075855872  288230376151711744  576460752303423488\n 1152921504606846976 2305843009213693952 4611686018427387904\n 9223372036854775808]\n\nTotal number of wheats: 1.8446744073709552e+19\n"
     ]
    }
   ],
   "source": [
    "new_plate_8x8_broadcast, new_wheats_number_broadcast = wheat_on_chess_broadcast(8,8)\n",
    "print(\"Arrange wheat on a n x m chessboard (ndarray)：\\n{}\".format(new_plate_8x8_broadcast))\n",
    "print(\"\\nTotal number of wheats: {}\".format(new_wheats_number_broadcast))"
   ]
  },
  {
   "source": [
    "### \\[Problem 7] Comparing calculation times\n",
    "#### Problem 2 function"
   ],
   "cell_type": "markdown",
   "metadata": {}
  },
  {
   "cell_type": "code",
   "execution_count": 103,
   "metadata": {},
   "outputs": [
    {
     "output_type": "stream",
     "name": "stdout",
     "text": [
      "21.2 µs ± 2.78 µs per loop (mean ± std. dev. of 7 runs, 100000 loops each)\n"
     ]
    }
   ],
   "source": [
    "%%timeit\n",
    "plate_8x8, wheats_8x8 = wheat_on_chess(8,8)"
   ]
  },
  {
   "source": [
    "#### Append function"
   ],
   "cell_type": "markdown",
   "metadata": {}
  },
  {
   "cell_type": "code",
   "execution_count": 106,
   "metadata": {},
   "outputs": [
    {
     "output_type": "stream",
     "name": "stdout",
     "text": [
      "1.95 ms ± 210 µs per loop (mean ± std. dev. of 7 runs, 1000 loops each)\n"
     ]
    }
   ],
   "source": [
    "%%timeit\n",
    "new_plate_8x8, new_wheats_number = wheat_on_chess_append(8,8)"
   ]
  },
  {
   "source": [
    "#### Broadcast function"
   ],
   "cell_type": "markdown",
   "metadata": {}
  },
  {
   "cell_type": "code",
   "execution_count": 109,
   "metadata": {},
   "outputs": [
    {
     "output_type": "stream",
     "name": "stdout",
     "text": [
      "60.7 µs ± 11.2 µs per loop (mean ± std. dev. of 7 runs, 10000 loops each)\n"
     ]
    }
   ],
   "source": [
    "%%timeit\n",
    "new_plate_8x8_broadcast, new_wheats_number_broadcast = wheat_on_chess_broadcast(8,8)"
   ]
  },
  {
   "source": [
    "In conclusion, it seems like that the broadcast method has the best performance in terms of code-wise and processing time."
   ],
   "cell_type": "markdown",
   "metadata": {}
  }
 ]
}