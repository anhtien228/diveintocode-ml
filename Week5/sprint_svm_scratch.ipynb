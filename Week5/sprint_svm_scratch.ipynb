{
  "nbformat": 4,
  "nbformat_minor": 0,
  "metadata": {
    "colab": {
      "name": "sprint_svm_scratch.ipynb",
      "provenance": [],
      "collapsed_sections": [],
      "toc_visible": true
    },
    "kernelspec": {
      "name": "python3",
      "display_name": "Python 3"
    },
    "language_info": {
      "name": "python"
    }
  },
  "cells": [
    {
      "cell_type": "markdown",
      "metadata": {
        "id": "EQ9oEAn43Wnk"
      },
      "source": [
        "# **DIVE INTO CODE COURSE**\n",
        "## **Sprint Machine Learning Scratch SVM**\n",
        "**Student**: Doan Anh Tien<br>\n",
        "**ID**: 1852789<br>\n",
        "**Email**: tien.doan.g0pr0@hcmut.edu.vn"
      ]
    },
    {
      "cell_type": "code",
      "metadata": {
        "id": "XJt2HavErNQs"
      },
      "source": [
        "import matplotlib.pyplot as plt\n",
        "import pandas as pd\n",
        "import numpy as np\n",
        "import math\n",
        "import seaborn as sns"
      ],
      "execution_count": null,
      "outputs": []
    },
    {
      "cell_type": "markdown",
      "metadata": {
        "id": "3qzQtpvTKHLf"
      },
      "source": [
        "### **[Problem 1] [Problem 2] [Problem 3] [Problem 4]**"
      ]
    },
    {
      "cell_type": "markdown",
      "metadata": {
        "id": "-LWWvyZ3LooE"
      },
      "source": [
        "In the SVM, soft margin enables us to classify classes with a few of accepted misclassifications, whereas the hard margin algorithm will contains no misclassification with its Lagrange multipliers mechanism."
      ]
    },
    {
      "cell_type": "markdown",
      "metadata": {
        "id": "yytPtmKwq4xE"
      },
      "source": [
        "**Data Preparation**"
      ]
    },
    {
      "cell_type": "markdown",
      "metadata": {
        "id": "BCjSkc_ZPdGz"
      },
      "source": [
        "The target versicolor will be labeled as class 1, and the target virginica will be labeled as -1."
      ]
    },
    {
      "cell_type": "code",
      "metadata": {
        "id": "7WUHL7ZcPdGz"
      },
      "source": [
        "from sklearn.model_selection import train_test_split"
      ],
      "execution_count": 240,
      "outputs": []
    },
    {
      "cell_type": "code",
      "metadata": {
        "id": "tgcSbH5d-2Ll"
      },
      "source": [
        "# Artificial dataset from Sprint 1\n",
        "\n",
        "np.random.seed(seed=0)\n",
        "n_samples = 500\n",
        "f0 = [-1, 2]\n",
        "f1 = [2, -1]\n",
        "cov = [[1.0,0.8], [0.8, 1.0]]\n",
        "f0 = np.random.multivariate_normal(f0, cov, n_samples // 2)\n",
        "f1 = np.random.multivariate_normal(f1, cov, n_samples // 2)\n",
        "X_set1 = np.concatenate([f0, f1])\n",
        "y_set1 = np.concatenate([\n",
        "    np.full(n_samples // 2, 1),\n",
        "    np.full(n_samples // 2, -1)\n",
        "])"
      ],
      "execution_count": 242,
      "outputs": []
    },
    {
      "cell_type": "code",
      "metadata": {
        "colab": {
          "base_uri": "https://localhost:8080/"
        },
        "id": "wPPxkHYfCIbv",
        "outputId": "5897a7b2-f68b-43ad-dd7a-2a62a52733c1"
      },
      "source": [
        "X_set1_train, X_set1_val, y_set1_train, y_set1_val = train_test_split(X_set1, y_set1, train_size=0.8)\n",
        "print(\"Train dataset -- Rows: {}, Columns: {}\".format(X_set1_train.shape[0], X_set1_train.shape[1]))\n",
        "print(\"Test dataset -- Rows: {}, Columns: {}\".format(X_set1_val.shape[0], X_set1_val.shape[1]))"
      ],
      "execution_count": 244,
      "outputs": [
        {
          "output_type": "stream",
          "text": [
            "Train dataset -- Rows: 400, Columns: 2\n",
            "Test dataset -- Rows: 100, Columns: 2\n"
          ],
          "name": "stdout"
        }
      ]
    },
    {
      "cell_type": "code",
      "metadata": {
        "id": "GIsW4bFkXHNN"
      },
      "source": [
        "from sklearn.preprocessing import StandardScaler\n",
        "sc = StandardScaler()\n",
        "X_set1_train = sc.fit_transform(X_set1_train)\n",
        "X_set1_val = sc.fit_transform(X_set1_val)"
      ],
      "execution_count": 245,
      "outputs": []
    },
    {
      "cell_type": "markdown",
      "metadata": {
        "id": "__PT9JPwq629"
      },
      "source": [
        "**Kernel Function (Linear)**"
      ]
    },
    {
      "cell_type": "code",
      "metadata": {
        "id": "SDnKWEBtBlBJ"
      },
      "source": [
        "def _kernel_function(X1, X2, gamma=1, theta=0, d=1):\n",
        "        \"\"\"\n",
        "        Compute a linear kernal function\n",
        "        Parameters\n",
        "        ----------\n",
        "        X : The following forms of ndarray, shape (n_samples, n_features)\n",
        "          First feature vector\n",
        "\n",
        "        X : The following forms of ndarray, shape (n_samples, n_features)\n",
        "          Second feature vector\n",
        "\n",
        "        Returns\n",
        "        -------\n",
        "          The following form of ndarray, shape (n_samples, 1)\n",
        "          Estimated result kernel function\n",
        "\n",
        "        \"\"\"\n",
        "        \n",
        "        kernel = (gamma*np.dot(X1, X2.T) + theta)**d \n",
        "\n",
        "        return kernel"
      ],
      "execution_count": 254,
      "outputs": []
    },
    {
      "cell_type": "markdown",
      "metadata": {
        "id": "V7qlUIQ6qzBE"
      },
      "source": [
        "**Test with some train dataset**"
      ]
    },
    {
      "cell_type": "code",
      "metadata": {
        "colab": {
          "base_uri": "https://localhost:8080/"
        },
        "id": "3lsczPcnPRCW",
        "outputId": "7245f939-d648-43a2-a2d4-09669e2a5518"
      },
      "source": [
        "kernel_temp = _kernel_function(np.array(X_set1_train)[0], np.array(X_set1_train)[1])\n",
        "print(kernel_temp)"
      ],
      "execution_count": 255,
      "outputs": [
        {
          "output_type": "stream",
          "text": [
            "-1.3549779591931717\n"
          ],
          "name": "stdout"
        }
      ]
    },
    {
      "cell_type": "markdown",
      "metadata": {
        "id": "L5VmVqe5AxvC"
      },
      "source": [
        "**Larange Steepest Descent**"
      ]
    },
    {
      "cell_type": "code",
      "metadata": {
        "id": "RhOEm5B7A5_h"
      },
      "source": [
        "def _lambda_steepest_descent(X, y, lr):\n",
        "        \"\"\"\n",
        "        Calculate the larange multiplier using its hypothesis function\n",
        "        Parameters\n",
        "        ----------\n",
        "        X: The following form of ndarray, shape (n_samples, n_features)\n",
        "            Features of training data\n",
        "        \n",
        "        y: The following form of ndarray, shape(n_samples,)\n",
        "            Label for value of training data\n",
        "        \n",
        "        Returns\n",
        "        -------\n",
        "        lambda_val: The following form of ndarray, shape (n_samples, 1)\n",
        "            Estimated larange multiplier value\n",
        "        \"\"\"\n",
        "        lambda_val = np.random.randn(len(X))\n",
        "\n",
        "        for i in range(len(X)):\n",
        "            update_val = np.dot(lambda_val * y[i] * y.T, _kernel_function(X[i], X))\n",
        "            lambda_val[i] += lr * (1 - update_val)\n",
        "            lambda_val = np.where(lambda_val >=0, lambda_val, 0)\n",
        "\n",
        "        return lambda_val"
      ],
      "execution_count": 260,
      "outputs": []
    },
    {
      "cell_type": "markdown",
      "metadata": {
        "id": "tFah06R7CANy"
      },
      "source": [
        "**Test with some dataset**"
      ]
    },
    {
      "cell_type": "code",
      "metadata": {
        "colab": {
          "base_uri": "https://localhost:8080/"
        },
        "id": "-7xSJ7LkCWcm",
        "outputId": "8688d3a8-0af0-499d-af30-5d9b2167da5b"
      },
      "source": [
        "lambda_test = _lambda_steepest_descent(X_set1_train, y_set1_train, 0.01)\n",
        "print(\"The lambda value greater than 0: \\n {}\".format(lambda_test[lambda_test > 0]))"
      ],
      "execution_count": 265,
      "outputs": [
        {
          "output_type": "stream",
          "text": [
            "The lambda value greater than 0: \n",
            " [1.54896485 0.15008535 0.74086269 0.446815   0.29763153 0.08756871\n",
            " 0.77283277 0.14645183 1.17439712 0.45735607 1.90015196 0.79773401\n",
            " 0.27281834 0.03845443 1.63273349 0.59458918 0.63617165 0.06460533\n",
            " 0.25521048 0.55956666 0.1253038  0.41133135 0.31617518 1.32910426\n",
            " 0.443659   0.42976745 0.49068751 1.28604554 1.25811766 0.12943568\n",
            " 0.49157455 0.48189544 0.09302082 0.78243682 1.79406707 0.23369524\n",
            " 0.04992054 0.72867314 0.83273806 0.04185001 1.40625798 0.69122339\n",
            " 0.143129   2.1570087  0.45289292 0.02285265 1.47034355 0.44916449\n",
            " 1.08169215]\n"
          ],
          "name": "stdout"
        }
      ]
    },
    {
      "cell_type": "markdown",
      "metadata": {
        "id": "OH_K6PnZDQVw"
      },
      "source": [
        "**Support Vector Determination**"
      ]
    },
    {
      "cell_type": "code",
      "metadata": {
        "id": "E_-S6JvEDThh"
      },
      "source": [
        "def get_support_vector(X, Y, lambda_val, threshold):\n",
        "        \n",
        "        \"\"\"\n",
        "        Get the support vectors that satisfy with the threshhold\n",
        "\n",
        "        \"\"\"\n",
        "        index_support_vectors = np.where(lambda_val > threshold)\n",
        "        lambda_sv = lambda_val[lambda_val > threshold]\n",
        "        X_sv = X[lambda_val > threshold]\n",
        "        Y_sv = Y[lambda_val > threshold]\n",
        "        n_support_vectors = len(X_sv)\n",
        "\n",
        "        return X_sv, Y_sv, lambda_sv"
      ],
      "execution_count": 266,
      "outputs": []
    },
    {
      "cell_type": "code",
      "metadata": {
        "id": "JxeghYYMENXu"
      },
      "source": [
        "X_sv_test, Y_sv_test, lambda_sv_test = get_support_vector(X_set1_train, y_set1_train, lambda_test, 1e-3)"
      ],
      "execution_count": 267,
      "outputs": []
    },
    {
      "cell_type": "code",
      "metadata": {
        "colab": {
          "base_uri": "https://localhost:8080/"
        },
        "id": "C7dAjcJtEz1-",
        "outputId": "925cd669-512b-4ec1-e168-a2f810253629"
      },
      "source": [
        "for i in range (X_sv_test.shape[0]):\n",
        "  print(\"Support vector X: {} -- Suport vector label: {} -- Suport vector lambda: {}\".format(np.around(X_sv_test[i],2), Y_sv_test[i], lambda_sv_test[i]))"
      ],
      "execution_count": 275,
      "outputs": [
        {
          "output_type": "stream",
          "text": [
            "Support vector X: [ 0.59 -0.57] -- Suport vector label: -1 -- Suport vector lambda: 1.5489648451357485\n",
            "Support vector X: [0.06 1.3 ] -- Suport vector label: 1 -- Suport vector lambda: 0.15008534783060545\n",
            "Support vector X: [ 1.63 -0.  ] -- Suport vector label: -1 -- Suport vector lambda: 0.7408626895787291\n",
            "Support vector X: [ 0.35 -0.47] -- Suport vector label: -1 -- Suport vector lambda: 0.44681499782291667\n",
            "Support vector X: [ 0.58 -0.9 ] -- Suport vector label: -1 -- Suport vector lambda: 0.2976315348962806\n",
            "Support vector X: [ 1.48 -0.68] -- Suport vector label: -1 -- Suport vector lambda: 0.08756870922593896\n",
            "Support vector X: [-1.65  0.4 ] -- Suport vector label: 1 -- Suport vector lambda: 0.772832773712099\n",
            "Support vector X: [-0.22  0.98] -- Suport vector label: 1 -- Suport vector lambda: 0.14645183418597207\n",
            "Support vector X: [ 0.8  -1.15] -- Suport vector label: -1 -- Suport vector lambda: 1.1743971157515376\n",
            "Support vector X: [-0.09 -1.56] -- Suport vector label: -1 -- Suport vector lambda: 0.45735607085012897\n",
            "Support vector X: [ 0.64 -0.46] -- Suport vector label: -1 -- Suport vector lambda: 1.9001519637004163\n",
            "Support vector X: [-1.18  0.23] -- Suport vector label: 1 -- Suport vector lambda: 0.7977340087575556\n",
            "Support vector X: [-0.04 -2.27] -- Suport vector label: -1 -- Suport vector lambda: 0.27281834494603885\n",
            "Support vector X: [-1.79 -0.64] -- Suport vector label: 1 -- Suport vector lambda: 0.038454431719840976\n",
            "Support vector X: [-0.36  0.95] -- Suport vector label: 1 -- Suport vector lambda: 1.6327334886877598\n",
            "Support vector X: [-1.1   0.54] -- Suport vector label: 1 -- Suport vector lambda: 0.5945891826204177\n",
            "Support vector X: [ 1.27 -0.98] -- Suport vector label: -1 -- Suport vector lambda: 0.6361716481694066\n",
            "Support vector X: [ 0.47 -1.46] -- Suport vector label: -1 -- Suport vector lambda: 0.06460532866438307\n",
            "Support vector X: [ 0.48 -1.05] -- Suport vector label: -1 -- Suport vector lambda: 0.2552104829028564\n",
            "Support vector X: [ 1.13 -0.8 ] -- Suport vector label: -1 -- Suport vector lambda: 0.5595666561516873\n",
            "Support vector X: [0.11 1.89] -- Suport vector label: 1 -- Suport vector lambda: 0.1253037971755505\n",
            "Support vector X: [1.33 0.02] -- Suport vector label: -1 -- Suport vector lambda: 0.41133134778805436\n",
            "Support vector X: [-1.34  0.58] -- Suport vector label: 1 -- Suport vector lambda: 0.31617518148112067\n",
            "Support vector X: [ 0.07 -1.09] -- Suport vector label: -1 -- Suport vector lambda: 1.3291042596213654\n",
            "Support vector X: [-1.33  0.29] -- Suport vector label: 1 -- Suport vector lambda: 0.4436589977829092\n",
            "Support vector X: [1.23 0.06] -- Suport vector label: -1 -- Suport vector lambda: 0.4297674534547764\n",
            "Support vector X: [ 1.04 -0.61] -- Suport vector label: -1 -- Suport vector lambda: 0.49068751313680736\n",
            "Support vector X: [ 1.29 -0.4 ] -- Suport vector label: -1 -- Suport vector lambda: 1.2860455384775942\n",
            "Support vector X: [-0.24  0.68] -- Suport vector label: 1 -- Suport vector lambda: 1.258117656676077\n",
            "Support vector X: [-0.32  1.23] -- Suport vector label: 1 -- Suport vector lambda: 0.1294356762689668\n",
            "Support vector X: [ 0.46 -1.1 ] -- Suport vector label: -1 -- Suport vector lambda: 0.491574552629222\n",
            "Support vector X: [-1.2   0.72] -- Suport vector label: 1 -- Suport vector lambda: 0.4818954386214176\n",
            "Support vector X: [-2.26 -0.28] -- Suport vector label: 1 -- Suport vector lambda: 0.09302081967278897\n",
            "Support vector X: [-0.58  1.51] -- Suport vector label: 1 -- Suport vector lambda: 0.7824368205740915\n",
            "Support vector X: [-0.59  1.79] -- Suport vector label: 1 -- Suport vector lambda: 1.794067066205245\n",
            "Support vector X: [-0.47  1.37] -- Suport vector label: 1 -- Suport vector lambda: 0.2336952406581807\n",
            "Support vector X: [-0.86  1.11] -- Suport vector label: 1 -- Suport vector lambda: 0.04992053550308018\n",
            "Support vector X: [ 0.98 -1.28] -- Suport vector label: -1 -- Suport vector lambda: 0.7286731399268949\n",
            "Support vector X: [-1.39 -0.03] -- Suport vector label: 1 -- Suport vector lambda: 0.8327380553542965\n",
            "Support vector X: [-0.16  1.37] -- Suport vector label: 1 -- Suport vector lambda: 0.041850012514479784\n",
            "Support vector X: [-0.44  0.77] -- Suport vector label: 1 -- Suport vector lambda: 1.406257975634359\n",
            "Support vector X: [ 0.6  -0.73] -- Suport vector label: -1 -- Suport vector lambda: 0.6912233871364635\n",
            "Support vector X: [-1.4   0.39] -- Suport vector label: 1 -- Suport vector lambda: 0.14312900006131668\n",
            "Support vector X: [-0.33  1.08] -- Suport vector label: 1 -- Suport vector lambda: 2.157008700197996\n",
            "Support vector X: [-0.79  0.8 ] -- Suport vector label: 1 -- Suport vector lambda: 0.4528929246664346\n",
            "Support vector X: [ 1.22 -0.31] -- Suport vector label: -1 -- Suport vector lambda: 0.022852650714855316\n",
            "Support vector X: [-0.63  0.78] -- Suport vector label: 1 -- Suport vector lambda: 1.47034354857779\n",
            "Support vector X: [-0.22 -1.99] -- Suport vector label: -1 -- Suport vector lambda: 0.4491644912943075\n",
            "Support vector X: [-0.41  0.69] -- Suport vector label: 1 -- Suport vector lambda: 1.0816921489198312\n"
          ],
          "name": "stdout"
        }
      ]
    },
    {
      "cell_type": "code",
      "metadata": {
        "colab": {
          "base_uri": "https://localhost:8080/"
        },
        "id": "mMWT-MNSFWqb",
        "outputId": "d7131e76-78f2-4f68-fc5c-a95dfd956781"
      },
      "source": [
        "# Number of support vector\n",
        "print(\"Number of support vector: {}\".format(len(X_sv_test)))"
      ],
      "execution_count": 276,
      "outputs": [
        {
          "output_type": "stream",
          "text": [
            "Number of support vector: 49\n"
          ],
          "name": "stdout"
        }
      ]
    },
    {
      "cell_type": "markdown",
      "metadata": {
        "id": "cF-zkTIHFd-G"
      },
      "source": [
        "**What if we change the threshhold?**"
      ]
    },
    {
      "cell_type": "code",
      "metadata": {
        "colab": {
          "base_uri": "https://localhost:8080/"
        },
        "id": "bYs9vRrnFflp",
        "outputId": "25436488-3a84-447f-af7d-c103838a885a"
      },
      "source": [
        "# Threshold parameters\n",
        "threshold = [1e-5, 1e-4, 1e-3, 1e-2, 0.05, 0.1, 1, 5, 10]\n",
        "\n",
        "for i, margin_threshold in enumerate(threshold):\n",
        "    X_sv_test, Y_sv_test, lambda_sv_test = get_support_vector(X_set1_train, y_set1_train, lambda_test, margin_threshold)\n",
        "    # Number of support vector\n",
        "    print(\"Number of support vector: {}\".format(len(X_sv_test)))\n"
      ],
      "execution_count": 279,
      "outputs": [
        {
          "output_type": "stream",
          "text": [
            "Number of support vector: 49\n",
            "Number of support vector: 49\n",
            "Number of support vector: 49\n",
            "Number of support vector: 49\n",
            "Number of support vector: 45\n",
            "Number of support vector: 42\n",
            "Number of support vector: 12\n",
            "Number of support vector: 0\n",
            "Number of support vector: 0\n"
          ],
          "name": "stdout"
        }
      ]
    },
    {
      "cell_type": "markdown",
      "metadata": {
        "id": "6AntspQIGjml"
      },
      "source": [
        "It seems like the larger the threshold becomes, the less number of support vectors appears."
      ]
    },
    {
      "cell_type": "markdown",
      "metadata": {
        "id": "vm-908psHVPO"
      },
      "source": [
        "**Estimation**"
      ]
    },
    {
      "cell_type": "code",
      "metadata": {
        "id": "MtYnC6dVHYT2"
      },
      "source": [
        "def predict(X, lambda_sv, X_sv, Y_sv):\n",
        "        \"\"\"\n",
        "        Estimate the label using the SVM classifier.\n",
        "        Parameters\n",
        "        ----------\n",
        "        X : 次の形のndarray, shape (n_samples, n_features)\n",
        "            sample\n",
        "        Returns\n",
        "        -------\n",
        "            The following form of ndarray, shape (n_samples, 1)\n",
        "            Estimated result by SVM classifier\n",
        "        \"\"\"\n",
        "        y_pred = 0\n",
        "\n",
        "        y_pred = np.dot(self.lambda_sv * self.Y_sv, self._kernel_function(X, self.X_sv).T)\n",
        "\n",
        "        final_pred = np.where(y_pred >= 0, 1, -1)\n",
        "\n",
        "        return final_pred"
      ],
      "execution_count": 253,
      "outputs": []
    },
    {
      "cell_type": "code",
      "metadata": {
        "colab": {
          "base_uri": "https://localhost:8080/"
        },
        "id": "niyJigXAHlhP",
        "outputId": "dbecf7b0-99d8-4234-b1be-3172f70b3cdb"
      },
      "source": [
        "y_test_pred = predict(X_set1_test, lambda_sv_test, X_sv_test, Y_sv_test)\n",
        "print(\"The predicted labels: {}\".format(y_test_pred))"
      ],
      "execution_count": null,
      "outputs": [
        {
          "output_type": "stream",
          "text": [
            "The predicted labels: [-1  1  1  1  1  1 -1 -1 -1 -1 -1  1  1 -1  1  1  1 -1 -1  1  1  1 -1 -1\n",
            "  1 -1  1 -1  1 -1  1  1  1 -1  1  1  1  1 -1 -1  1 -1 -1  1 -1 -1  1  1\n",
            "  1 -1 -1  1  1  1  1 -1  1  1  1 -1 -1  1  1  1 -1  1 -1 -1 -1 -1 -1  1\n",
            " -1  1  1  1 -1 -1  1  1  1  1  1 -1  1 -1 -1  1  1 -1 -1  1  1 -1  1  1\n",
            "  1 -1  1 -1]\n"
          ],
          "name": "stdout"
        }
      ]
    },
    {
      "cell_type": "code",
      "metadata": {
        "colab": {
          "base_uri": "https://localhost:8080/"
        },
        "id": "Zz_MffA-IQql",
        "outputId": "ee44a0a7-a85a-4f9e-b584-eebf90f7444c"
      },
      "source": [
        "print(\"Accuracy: {}\".format(accuracy_score(y_set1_test, y_test_pred)))"
      ],
      "execution_count": null,
      "outputs": [
        {
          "output_type": "stream",
          "text": [
            "Accuracy: 1.0\n"
          ],
          "name": "stdout"
        }
      ]
    },
    {
      "cell_type": "markdown",
      "metadata": {
        "id": "CJp7U-_uFJaW"
      },
      "source": [
        "### **[Problem 5] [Problem 6] Learning - Estimation - Polynomial Kernel**"
      ]
    },
    {
      "cell_type": "markdown",
      "metadata": {
        "id": "R0lt-eCw2Whd"
      },
      "source": [
        "**SVM Class**"
      ]
    },
    {
      "cell_type": "code",
      "metadata": {
        "id": "DApg2UoJBQMu"
      },
      "source": [
        "class ScratchSVMClassifier():\n",
        "    \"\"\"\n",
        "    Scratch implementation of SVM classifier\n",
        "    Parameters\n",
        "    ----------\n",
        "    num_iter : int\n",
        "      Number of iterations\n",
        "    lr : float\n",
        "      Learning rate\n",
        "    kernel : str\n",
        "      Kernel type. Linear kernel (linear) or polynomial kernel (polly)\n",
        "    threshold : float\n",
        "      Threshold for choosing a support vector\n",
        "    verbose : bool\n",
        "      True to output the learning process\n",
        "    Attributes\n",
        "    ----------\n",
        "    self.n_support_vectors : int\n",
        "      Number of support vectors\n",
        "    self.index_support_vectors : The following form of ndarray, shape (n_support_vectors,)\n",
        "      Support vector index\n",
        "    self.X_sv :  The following forms of ndarray, shape (n_support_vectors, n_features)\n",
        "      Support vector features\n",
        "    self.lambda_sv :  The following forms of ndarray, shape (n_support_vectors, 1)\n",
        "      Support vector undetermined multiplier\n",
        "    self.y_sv :  The following forms of ndarray, shape (n_support_vectors, 1)\n",
        "      Support vector label\n",
        "    \"\"\"\n",
        "    def __init__(self, num_iter, lr, kernel='linear', threshold=1e-5, gamma=1, d=1, theta=0, verbose=False):\n",
        "        # Record hyperparameters as attributes\n",
        "        self.iter = num_iter\n",
        "        self.lr = lr  \n",
        "        self.kernel = kernel\n",
        "        self.threshold = threshold\n",
        "        self.verbose = verbose\n",
        "        self.gamma = gamma\n",
        "        self.theta = theta\n",
        "        self.d = d\n",
        "\n",
        "    def fit(self, X, y, X_val=None, y_val=None):\n",
        "        \"\"\"\n",
        "        Learn the SVM classifier. If verification data is input, the accuracy for it is also calculated for each iteration.\n",
        "        Parameters\n",
        "        ----------\n",
        "        X : 次の形のndarray, shape (n_samples, n_features)\n",
        "            Features of training data\n",
        "        y : The following form of ndarray, shape (n_samples,)\n",
        "            Correct answer value of training data\n",
        "        X_val : 次の形のndarray, shape (n_samples, n_features)\n",
        "            Features of verification data\n",
        "        y_val : The following form of ndarray, shape (n_samples,)\n",
        "            Correct value of verification data\n",
        "        \"\"\"\n",
        "        self.X = X\n",
        "        self.Y = y\n",
        "\n",
        "        m, n = X.shape\n",
        "        self.lambda_val = np.random.rand(m)\n",
        "\n",
        "        for i in range(self.iter):\n",
        "            final_lambda = self._lambda_steepest_descent(X, y)\n",
        "            if verbose:\n",
        "              if (i % 10 == 0):\n",
        "                print(\"Iteration {}\".format(i))\n",
        "            \n",
        "\n",
        "        self.get_support_vector()\n",
        "\n",
        "      \n",
        "    def _lambda_steepest_descent(self, X, y):\n",
        "        \"\"\"\n",
        "        Calculate the larange multiplier using its hypothesis function\n",
        "        Parameters\n",
        "        ----------\n",
        "        X: The following form of ndarray, shape (n_samples, n_features)\n",
        "            Features of training data\n",
        "        \n",
        "        y: The following form of ndarray, shape(n_samples,)\n",
        "            Label for value of training data\n",
        "        \n",
        "        Returns\n",
        "        -------\n",
        "        lambda_val: The following form of ndarray, shape (n_samples, 1)\n",
        "            Estimated larange multiplier value\n",
        "        \"\"\"\n",
        "  \n",
        "        for i in range(len(X)):\n",
        "            update_val = np.dot(self.lambda_val * y[i] * y.T, self._kernel_function(X[i], X))\n",
        "            self.lambda_val[i] += self.lr * (1 - update_val)\n",
        "            self.lambda_val = np.where(self.lambda_val >=0, self.lambda_val, 0)\n",
        "\n",
        "        return self.lambda_val\n",
        "        \n",
        "\n",
        "    def predict(self, X):\n",
        "        \"\"\"\n",
        "        Estimate the label using the SVM classifier.\n",
        "        Parameters\n",
        "        ----------\n",
        "        X : 次の形のndarray, shape (n_samples, n_features)\n",
        "            sample\n",
        "        Returns\n",
        "        -------\n",
        "            The following form of ndarray, shape (n_samples, 1)\n",
        "            Estimated result by SVM classifier\n",
        "        \"\"\"\n",
        "        y_pred = np.dot(self.lambda_sv * self.Y_sv, self._kernel_function(X, self.X_sv).T)\n",
        "\n",
        "        final_pred = np.where(y_pred >= 0, 1, -1)\n",
        "\n",
        "        return final_pred\n",
        "\n",
        "    def get_support_vector(self):\n",
        "        \n",
        "        \"\"\"\n",
        "        Get the support vectors that satisfy with the threshhold\n",
        "\n",
        "        \"\"\"\n",
        "        \n",
        "        self.index_support_vectors = np.where(self.lambda_val > self.threshold)\n",
        "        self.lambda_sv = self.lambda_val[self.lambda_val > self.threshold]\n",
        "        self.X_sv = self.X[self.lambda_val > self.threshold]\n",
        "        self.Y_sv = self.Y[self.lambda_val > self.threshold]\n",
        "        self.n_support_vectors = len(self.X_sv)\n",
        "\n",
        "        return self.X_sv, self.Y_sv, self.lambda_sv\n",
        "        \n",
        "\n",
        "    def _kernel_function(self, X1, X2):\n",
        "        \"\"\"\n",
        "        Compute a linear kernal function\n",
        "        Parameters\n",
        "        ----------\n",
        "        X : The following forms of ndarray, shape (n_samples, n_features)\n",
        "          First feature vector\n",
        "\n",
        "        X : The following forms of ndarray, shape (n_samples, n_features)\n",
        "          Second feature vector\n",
        "\n",
        "        Returns\n",
        "        -------\n",
        "          The following form of ndarray, shape (n_samples, 1)\n",
        "          Estimated result kernel function\n",
        "\n",
        "        \"\"\"\n",
        "        if self.kernel == 'poly':\n",
        "          self.gamma = 1\n",
        "          self.theta = np.random.uniform(low=-1, high = 1, size=(1))\n",
        "          self.d = 2\n",
        "        \n",
        "        # We use the same format for both lienar and poly for easier interpretion\n",
        "        kernel = (self.gamma*np.dot(X1, X2.T) + self.theta)**self.d \n",
        "\n",
        "        return kernel"
      ],
      "execution_count": 280,
      "outputs": []
    },
    {
      "cell_type": "code",
      "metadata": {
        "id": "PJ4yoM6DxJfn",
        "colab": {
          "base_uri": "https://localhost:8080/"
        },
        "outputId": "775aaab7-9f30-4eb9-8cdf-56e306de137f"
      },
      "source": [
        "# Hyperparameters setting\n",
        "iter = 100\n",
        "lr = 0.01\n",
        "verbose = True\n",
        "\n",
        "scratch_svm_model = ScratchSVMClassifier(iter, lr, True)\n",
        "scratch_svm_model.fit(X_set1_train, y_set1_train)"
      ],
      "execution_count": 282,
      "outputs": [
        {
          "output_type": "stream",
          "text": [
            "Iteration 0\n",
            "Iteration 10\n",
            "Iteration 20\n",
            "Iteration 30\n",
            "Iteration 40\n",
            "Iteration 50\n",
            "Iteration 60\n",
            "Iteration 70\n",
            "Iteration 80\n",
            "Iteration 90\n"
          ],
          "name": "stdout"
        }
      ]
    },
    {
      "cell_type": "markdown",
      "metadata": {
        "id": "lCOm47uq2Reo"
      },
      "source": [
        "**Estimation**"
      ]
    },
    {
      "cell_type": "code",
      "metadata": {
        "colab": {
          "base_uri": "https://localhost:8080/"
        },
        "id": "mvNvbRvMXYkN",
        "outputId": "efc39dba-4b71-4187-b72c-44ec954dbd2d"
      },
      "source": [
        "# Use the predict for the predicted labels\n",
        "y_pred = scratch_svm_model.predict(X_set1_val)\n",
        "\n",
        "# Testing out the metrics\n",
        "acc_score = accuracy_score(y_set1_val, y_pred)\n",
        "prec_score = precision_score(y_set1_val, y_pred)\n",
        "rec_score = recall_score(y_set1_val, y_pred)\n",
        "f_score = f1_score(y_set1_val, y_pred)\n",
        "conf_matrix = confusion_matrix(y_set1_val, y_pred)\n",
        "print(\"Accuracy score: {}\\n Precision score: {}\\n Recall score: {}\\n F1 score: {}\\n Confusion matrix: \\n{}\".format(acc_score, prec_score, rec_score, f_score, conf_matrix))"
      ],
      "execution_count": 284,
      "outputs": [
        {
          "output_type": "stream",
          "text": [
            "Accuracy score: 1.0\n",
            " Precision score: 1.0\n",
            " Recall score: 1.0\n",
            " F1 score: 1.0\n",
            " Confusion matrix: \n",
            "[[46  0]\n",
            " [ 0 54]]\n"
          ],
          "name": "stdout"
        }
      ]
    },
    {
      "cell_type": "markdown",
      "metadata": {
        "id": "TKrLPBnX5KaF"
      },
      "source": [
        "**Visualization of decision area**"
      ]
    },
    {
      "cell_type": "markdown",
      "metadata": {
        "id": "f1gFHbonu2Hh"
      },
      "source": [
        "**Using plot_decision_regions from mlxtend**"
      ]
    },
    {
      "cell_type": "code",
      "metadata": {
        "colab": {
          "base_uri": "https://localhost:8080/",
          "height": 318
        },
        "id": "b-GtcFf6cY2w",
        "outputId": "1e13c99d-ef37-4709-dde0-19e9d84f69c0"
      },
      "source": [
        "from mlxtend.plotting import plot_decision_regions\n",
        "\n",
        "plot_decision_regions(X_set1_val, y_set1_val, clf=scratch_svm_model,legend=2);"
      ],
      "execution_count": 286,
      "outputs": [
        {
          "output_type": "stream",
          "text": [
            "/usr/local/lib/python3.7/dist-packages/mlxtend/plotting/decision_regions.py:244: MatplotlibDeprecationWarning: Passing unsupported keyword arguments to axis() will raise a TypeError in 3.3.\n",
            "  ax.axis(xmin=xx.min(), xmax=xx.max(), y_min=yy.min(), y_max=yy.max())\n"
          ],
          "name": "stderr"
        },
        {
          "output_type": "display_data",
          "data": {
            "image/png": "[encoded data removed]",
            "text/plain": [
              "<Figure size 432x288 with 1 Axes>"
            ]
          },
          "metadata": {
            "tags": [],
            "needs_background": "light"
          }
        }
      ]
    },
    {
      "cell_type": "markdown",
      "metadata": {
        "id": "7oI7Fv8HvPOx"
      },
      "source": [
        "**Using decision region plotting scratch**"
      ]
    },
    {
      "cell_type": "code",
      "metadata": {
        "id": "KL_-ve-XvJ1U"
      },
      "source": [
        "from matplotlib.colors import ListedColormap\n",
        "import matplotlib.patches as mpatches\n",
        "import numpy as np\n",
        "def decision_region(X, y, model, step=0.01, title='decision region', xlabel='xlabel', ylabel='ylabel', target_names=['versicolor', 'virginica']):\n",
        "    \"\"\"\n",
        "    Draw the determination area of the model that learned binary classification with two-dimensional features.\n",
        "    The background color is drawn from the estimated values of the trained model.\n",
        "    The points on the scatter plot are training or validation data.\n",
        "    Parameters\n",
        "    ----------------\n",
        "    X : ndarray, shape(n_samples, 2)\n",
        "        Feature value\n",
        "    y : ndarray, shape(n_samples,)\n",
        "        label\n",
        "    model : object\n",
        "        Insert the installed model of the learned model\n",
        "    step : float, (default : 0.1)\n",
        "        Set the interval to calculate the estimate\n",
        "    title : str\n",
        "        Give the text of the graph Title\n",
        "    xlabel, ylabel : str\n",
        "        Give the text of the axis label\n",
        "    target_names= : list of str\n",
        "        Give a list of legends\n",
        "    \"\"\"\n",
        "    # setting\n",
        "    scatter_color = ['tab:red', 'tab:blue']\n",
        "    contourf_color = ['darkred', 'skyblue']\n",
        "    n_class = 2\n",
        "    # pred\n",
        "    mesh_f0, mesh_f1  = np.meshgrid(np.arange(np.min(X[:,0])-0.5, np.max(X[:,0])+0.5, step), np.arange(np.min(X[:,1])-0.5, np.max(X[:,1])+0.5, step))\n",
        "    mesh = np.c_[np.ravel(mesh_f0),np.ravel(mesh_f1)]\n",
        "    y_pred = model.predict(mesh).reshape(mesh_f0.shape)\n",
        "    # plot\n",
        "    plt.title(title)\n",
        "    plt.xlabel(xlabel)\n",
        "    plt.ylabel(ylabel)\n",
        "    c = plt.contourf(mesh_f0, mesh_f1, y_pred, n_class-1, cmap=plt.cm.rainbow)\n",
        "    plt.contour(mesh_f0, mesh_f1, y_pred, n_class-1, colors='darkblue', linewidths=1.5, alpha=0.8)\n",
        "    plt.colorbar(c)\n",
        "    for i, target in enumerate(set(y)):\n",
        "        plt.scatter(X[y==target][:, 0], X[y==target][:, 1], s=30, cmap=plt.cm.coolwarm, label=target_names[i], marker='o', edgecolors='k')\n",
        "\n",
        "\n",
        "    patches = [mpatches.Patch(color=scatter_color[i], label=target_names[i]) for i in range(n_class)]\n",
        "    plt.scatter(model.X_sv[:,0], model.X_sv[:,1], color='yellow', s=30, label='support vector')\n",
        "    plt.legend(handles=patches)\n",
        "    plt.legend()\n",
        "    plt.show()"
      ],
      "execution_count": 326,
      "outputs": []
    },
    {
      "cell_type": "code",
      "metadata": {
        "colab": {
          "base_uri": "https://localhost:8080/",
          "height": 295
        },
        "id": "_CrQ6d_SvQkY",
        "outputId": "f2beb53e-9c2b-4a32-ca18-95a049c53d46"
      },
      "source": [
        "decision_region(X_set1_val, y_set1_val, scratch_svm_model);"
      ],
      "execution_count": 327,
      "outputs": [
        {
          "output_type": "display_data",
          "data": {
            "image/png": "[encoded data removed]",
            "text/plain": [
              "<Figure size 432x288 with 2 Axes>"
            ]
          },
          "metadata": {
            "tags": [],
            "needs_background": "light"
          }
        }
      ]
    },
    {
      "cell_type": "markdown",
      "metadata": {
        "id": "W63O03getJFp"
      },
      "source": [
        "**Polynomial Kernel (2D)**"
      ]
    },
    {
      "cell_type": "markdown",
      "metadata": {
        "id": "pNvTh4FdtxnV"
      },
      "source": [
        "**Modeling**"
      ]
    },
    {
      "cell_type": "code",
      "metadata": {
        "colab": {
          "base_uri": "https://localhost:8080/"
        },
        "id": "_Ela5aQLtH1a",
        "outputId": "c2b04344-bc75-4184-8708-19f910f26a14"
      },
      "source": [
        "# Hyperparameters setting\n",
        "iter = 100\n",
        "lr = 0.01\n",
        "verbose = True\n",
        "\n",
        "scratch_svm_poly_model = ScratchSVMClassifier(iter, lr, kernel='poly', verbose=True)\n",
        "scratch_svm_poly_model.fit(X_set1_train, y_set1_train)"
      ],
      "execution_count": 289,
      "outputs": [
        {
          "output_type": "stream",
          "text": [
            "Iteration 0\n",
            "Iteration 10\n",
            "Iteration 20\n",
            "Iteration 30\n",
            "Iteration 40\n",
            "Iteration 50\n",
            "Iteration 60\n",
            "Iteration 70\n",
            "Iteration 80\n",
            "Iteration 90\n"
          ],
          "name": "stdout"
        }
      ]
    },
    {
      "cell_type": "markdown",
      "metadata": {
        "id": "BvcHHWFWt0cz"
      },
      "source": [
        "**Predict**"
      ]
    },
    {
      "cell_type": "code",
      "metadata": {
        "colab": {
          "base_uri": "https://localhost:8080/"
        },
        "id": "v6izpNy0tWnE",
        "outputId": "45a8e992-bad3-4203-c874-b6da022287bf"
      },
      "source": [
        "# Use the predict for the predicted labels\n",
        "y_poly_pred = scratch_svm_poly_model.predict(X_set1_val)\n",
        "\n",
        "# Testing out the metrics\n",
        "acc_score = accuracy_score(y_set1_val, y_poly_pred)\n",
        "prec_score = precision_score(y_set1_val, y_poly_pred)\n",
        "rec_score = recall_score(y_set1_val, y_poly_pred)\n",
        "conf_matrix = confusion_matrix(y_set1_val, y_poly_pred)\n",
        "print(\"Accuracy score: {}\\n Precision score: {}\\n Recall score: {}\\n Confusion matrix: \\n{}\".format(acc_score, prec_score, rec_score, conf_matrix))"
      ],
      "execution_count": 290,
      "outputs": [
        {
          "output_type": "stream",
          "text": [
            "Accuracy score: 1.0\n",
            " Precision score: 1.0\n",
            " Recall score: 1.0\n",
            " Confusion matrix: \n",
            "[[46  0]\n",
            " [ 0 54]]\n"
          ],
          "name": "stdout"
        }
      ]
    },
    {
      "cell_type": "markdown",
      "metadata": {
        "id": "IfqOZhNLt3ET"
      },
      "source": [
        "**Visualization of decision area**"
      ]
    },
    {
      "cell_type": "code",
      "metadata": {
        "colab": {
          "base_uri": "https://localhost:8080/",
          "height": 295
        },
        "id": "7jZOt_W_t2Q7",
        "outputId": "0a98a56f-3d99-428a-938a-60a1f18ebcb0"
      },
      "source": [
        "decision_region(X_set1_val, y_set1_val, scratch_svm_poly_model);"
      ],
      "execution_count": 328,
      "outputs": [
        {
          "output_type": "display_data",
          "data": {
            "image/png": "[encoded data removed]",
            "text/plain": [
              "<Figure size 432x288 with 2 Axes>"
            ]
          },
          "metadata": {
            "tags": [],
            "needs_background": "light"
          }
        }
      ]
    }
  ]
}