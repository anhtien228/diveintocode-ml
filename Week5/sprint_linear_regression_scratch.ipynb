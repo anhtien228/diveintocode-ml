{
  "nbformat": 4,
  "nbformat_minor": 0,
  "metadata": {
    "colab": {
      "name": "sprint_linear_regression_scratch.ipynb",
      "provenance": [],
      "collapsed_sections": []
    },
    "kernelspec": {
      "name": "python3",
      "display_name": "Python 3"
    },
    "language_info": {
      "name": "python"
    }
  },
  "cells": [
    {
      "cell_type": "markdown",
      "metadata": {
        "id": "EQ9oEAn43Wnk"
      },
      "source": [
        "# DIVE INTO CODE COURSE\n",
        "## Sprint machine learning scratch linear regression\n",
        "### Doan Anh Tien - 1852789 - tien.doan.g0pr0@hcmut.edu.vn"
      ]
    },
    {
      "cell_type": "code",
      "metadata": {
        "id": "XJt2HavErNQs"
      },
      "source": [
        "import matplotlib.pyplot as plt\n",
        "import pandas as pd\n",
        "import numpy as np"
      ],
      "execution_count": 3,
      "outputs": []
    },
    {
      "cell_type": "markdown",
      "metadata": {
        "id": "3qzQtpvTKHLf"
      },
      "source": [
        "### [Problem 1] [Problem 2] [Problem 3] [Problem 5]"
      ]
    },
    {
      "cell_type": "code",
      "metadata": {
        "id": "AGkRYb1MJ8N2"
      },
      "source": [
        "class ScratchLinearRegression():\n",
        "    \"\"\"\n",
        "    Scratch implementation of linear regression\n",
        "    \n",
        "    Parameters\n",
        "    ----------\n",
        "    num_iter : int\n",
        "      Number of iterations\n",
        "    lr : float\n",
        "      Learning rate\n",
        "    no_bias : bool\n",
        "      True if no bias term is included\n",
        "    verbose : bool\n",
        "      True to output the learning process\n",
        "    \n",
        "    Attributes\n",
        "    ----------\n",
        "    self.coef_ : The following form of ndarray, shape (n_features,)\n",
        "      Parameters\n",
        "    self.loss : The following form of ndarray, shape (self.iter,)\n",
        "      Record losses on training data\n",
        "    self.val_loss : The following form of ndarray, shape (self.iter,)\n",
        "      Record loss on validation data\n",
        "    \"\"\"\n",
        "    \n",
        "    def __init__(self, num_iter, lr, no_bias, verbose):\n",
        "        # Record hyperparameters as attributes\n",
        "        self.iter = num_iter\n",
        "        self.lr = lr\n",
        "        self.no_bias = no_bias\n",
        "        self.verbose = verbose\n",
        "        # Prepare an array to record the loss\n",
        "        self.loss = np.zeros(self.iter)\n",
        "        self.val_loss = np.zeros(self.iter)\n",
        "        \n",
        "    def fit(self, X, y, X_val=None, y_val=None):\n",
        "        \"\"\"\n",
        "        Learn linear regression. If validation data is entered, the loss and accuracy for it are also calculated for each iteration.\n",
        "        Parameters\n",
        "        ----------\n",
        "        X : The following forms of ndarray, shape (n_samples, n_features)\n",
        "            Features of training data\n",
        "        y : The following form of ndarray, shape (n_samples,)\n",
        "            Correct answer value of training data\n",
        "        X_val : The following forms of ndarray, shape (n_samples, n_features)\n",
        "            Features of verification data\n",
        "        y_val : The following form of ndarray, shape (n_samples,)\n",
        "            Correct value of verification data\n",
        "\n",
        "        \"\"\"\n",
        "        # Initialization\n",
        "\n",
        "        self.m = X.shape[0] # m = Number of example\n",
        "\n",
        "        self.n = X.shape[1] # n = Number of features\n",
        "\n",
        "        self.theta = np.random.randn(self.n+1) # Inlcuding the x0 feature where x0 = 1\n",
        "\n",
        "        Y = y\n",
        "        \n",
        "        if self.no_bias == True:\n",
        "            X = np.c_[np.zeros(len(X)), X]\n",
        "\n",
        "            if X_val is None:\n",
        "                X_val = 0\n",
        "            else:\n",
        "                X_val = np.c_[np.zeros(len(X_val)), X_val]\n",
        "        else:\n",
        "            X = np.c_[np.ones(len(X)), X]\n",
        "\n",
        "            if X_val is None:\n",
        "                X_val = 0\n",
        "            else:\n",
        "                X_val = np.c_[np.ones(len(X_val)), X_val]\n",
        "\n",
        "\n",
        "        for i in range(self.iter):\n",
        "            y_pred = self.predict(X)\n",
        "            error = y_pred - y\n",
        "\n",
        "            train_loss = self._loss_function(error)\n",
        "            self.loss[i] = train_loss\n",
        "\n",
        "            if not (X_val is None):\n",
        "              y_val_pred = self.predict(X_val)\n",
        "              error_val = y_val_pred - y_val\n",
        "              \n",
        "              val_loss = self._loss_function(error_val)\n",
        "              self.val_loss[i] = val_loss\n",
        "\n",
        "\n",
        "            theta = self._gradient_descent(X, error)\n",
        "\n",
        "            if self.verbose:\n",
        "              if ((i % 500) == 0):\n",
        "                #Output learning process when verbose is set to True\n",
        "                if not (X_val is None):\n",
        "                  print(\"Iteration {} -- train loss: {} -- val loss: {}\".format(i, train_loss, val_loss))\n",
        "\n",
        "                else: print(\"Iteration {} -- train loss: {}\".format(i, train_loss))\n",
        "              \n",
        "        \n",
        "    def predict(self, X):\n",
        "        \"\"\"\n",
        "        Estimate using linear regression.\n",
        "        Parameters\n",
        "        ----------\n",
        "        X : The following forms of ndarray, shape (n_samples, n_features)\n",
        "            sample\n",
        "        Returns\n",
        "        -------\n",
        "            The following form of ndarray, shape (n_samples, 1)\n",
        "            Estimated result by linear regression\n",
        "        \"\"\"\n",
        "        y_pred = self._linear_hypothesis(X)\n",
        "        return y_pred\n",
        "    \n",
        "    def _linear_hypothesis(self, X):\n",
        "        \"\"\"\n",
        "        Compute a linear hypothetical function\n",
        "        Parameters\n",
        "        ----------\n",
        "        X : The following forms of ndarray, shape (n_samples, n_features)\n",
        "          Training data\n",
        "        Returns\n",
        "        -------\n",
        "          The following form of ndarray, shape (n_samples, 1)\n",
        "          Estimated result by linear hypothetical function\n",
        "\n",
        "        \"\"\"\n",
        "\n",
        "        hypothesis = X.dot(self.theta)\n",
        "\n",
        "        return hypothesis\n",
        "\n",
        "    def _gradient_descent(self, X, error):\n",
        "        \"\"\"\n",
        "        Compute the new weight using learning rate\n",
        "        Parameters\n",
        "        ----------\n",
        "        X : The following forms of ndarray, shape (n_samples, n_features)\n",
        "          Training data\n",
        "\n",
        "        error : The follow forms of ndarray, shape(n_samples, )\n",
        "          The vector returned from hypothetical function\n",
        "\n",
        "        Returns\n",
        "        -------\n",
        "          The following form of ndarray, shape (n_samples, 1)\n",
        "          Estimated result by linear hypothetical function\n",
        "\n",
        "        \"\"\"\n",
        "        m = len(X)\n",
        "        self.theta = self.theta - (self.lr/m * (X.T).dot(error))\n",
        "\n",
        "        return self.theta\n",
        "    \n",
        "    def _loss_function(self, error):\n",
        "        \"\"\"\n",
        "        Compute the loss during the weight and bias improving process\n",
        "        Parameters\n",
        "        ----------\n",
        "        y : The following form of ndarray, shape (n_samples,)\n",
        "            Correct answer value of training data\n",
        "\n",
        "        y_pred : The following form of ndarray, shape (n_samples,)\n",
        "            Predicted value of training data\n",
        "\n",
        "        Returns\n",
        "        ------------\n",
        "        loss : float\n",
        "            Loss value between predicted and true value of training data\n",
        "\n",
        "        \"\"\"\n",
        "        loss = 1/(2*self.m) * error.T.dot(error)\n",
        "\n",
        "        return loss"
      ],
      "execution_count": 475,
      "outputs": []
    },
    {
      "cell_type": "markdown",
      "metadata": {
        "id": "CJeBSJScgrOA"
      },
      "source": [
        "### [Problem 4] Mean squared error"
      ]
    },
    {
      "cell_type": "code",
      "metadata": {
        "id": "eXwqmZ9Egq6F"
      },
      "source": [
        "def MSE(y_pred, y):\n",
        "    \"\"\"\n",
        "    Calculation of mean square error\n",
        "    Parameters\n",
        "    ----------\n",
        "    y_pred : ndarray, shape (n_samples,)\n",
        "      Estimated value\n",
        "    y : ndarray, shape (n_samples,)\n",
        "      Correct answer value\n",
        "    Returns\n",
        "    ----------\n",
        "    mse : numpy.float\n",
        "      Mean squared error\n",
        "    \"\"\"\n",
        "\n",
        "    m = y.shape[0]\n",
        "    mse = 1/m * np.sum(np.square(y_pred - y))\n",
        "\n",
        "    return mse"
      ],
      "execution_count": 77,
      "outputs": []
    },
    {
      "cell_type": "markdown",
      "metadata": {
        "id": "MKfOQKSxuUnN"
      },
      "source": [
        "### [Problem 6] Learning and estimation"
      ]
    },
    {
      "cell_type": "code",
      "metadata": {
        "id": "My4hZmJtuXO4"
      },
      "source": [
        "def scratch_train_val_split(X, y, train_size=0.8):\n",
        "    \"\"\"Divide the validation data.\n",
        "    Parameters\n",
        "    ----------\n",
        "    X : ndarray\n",
        "      Training data (n_samples, n_features)\n",
        "    y : ndarray\n",
        "      Correct answer value (n_samples,)\n",
        "    train_size : float\n",
        "      Specify what percentage to use as a train (0 < train_size < 1)\n",
        "    Returns\n",
        "    -------\n",
        "    X_train : ndarray\n",
        "      Training data (n_samples, n_features)\n",
        "    X_val : ndarray\n",
        "      Validation data (n_samples, n_features)\n",
        "    y_train : ndarray\n",
        "      Correct answer value of training data (n_samples,)\n",
        "    y_val : ndarray\n",
        "      Correct value of verification data (n_samples,)\n",
        "    \"\"\"\n",
        "    ratio = np.random.rand(X.shape[0]) < train_size\n",
        "\n",
        "    X_train = X[ratio]\n",
        "    y_train = y[ratio]\n",
        "    X_val = X[~ratio]\n",
        "    y_val = y[~ratio]\n",
        "    \n",
        "    return X_train, X_val, y_train, y_val"
      ],
      "execution_count": 78,
      "outputs": []
    },
    {
      "cell_type": "code",
      "metadata": {
        "colab": {
          "base_uri": "https://localhost:8080/"
        },
        "id": "w3TAt0iLutjN",
        "outputId": "74374d46-cc59-45ed-d432-42ba0067cee4"
      },
      "source": [
        "df_train = pd.read_csv('/content/train.csv')\n",
        "df_test = pd.read_csv('/content/test.csv')\n",
        "print(\"Train dataset -- Rows: {}, Columns: {}\".format(df_train.shape[0], df_train.shape[1]))\n",
        "print(\"Test dataset -- Rows: {}, Columns: {}\".format(df_test.shape[0], df_test.shape[1]))"
      ],
      "execution_count": 460,
      "outputs": [
        {
          "output_type": "stream",
          "text": [
            "Train dataset -- Rows: 1460, Columns: 81\n",
            "Test dataset -- Rows: 1459, Columns: 80\n"
          ],
          "name": "stdout"
        }
      ]
    },
    {
      "cell_type": "code",
      "metadata": {
        "id": "iJ8jDSU5v6pE"
      },
      "source": [
        "target = df_train['SalePrice']"
      ],
      "execution_count": 461,
      "outputs": []
    },
    {
      "cell_type": "markdown",
      "metadata": {
        "id": "_7_nfEd4wRvC"
      },
      "source": [
        "Since we only want to test out the performance of the scratch linear regression method, using features GrLivArea and YearBuilt is enough. We do not need to force ourselves into EDA (encoding categorical, imputing, ...) "
      ]
    },
    {
      "cell_type": "code",
      "metadata": {
        "id": "TiAdHIRQvD2w"
      },
      "source": [
        "df_train = df_train[['GrLivArea', 'YearBuilt']].copy()"
      ],
      "execution_count": 462,
      "outputs": []
    },
    {
      "cell_type": "markdown",
      "metadata": {
        "id": "wQD1Syj6wwIN"
      },
      "source": [
        "Training and Validation data splitting"
      ]
    },
    {
      "cell_type": "code",
      "metadata": {
        "id": "GtT7HXLawv2V"
      },
      "source": [
        "X_house_train, X_house_val, y_house_train, y_house_val = scratch_train_val_split(df_train, target, train_size=0.8)"
      ],
      "execution_count": 463,
      "outputs": []
    },
    {
      "cell_type": "code",
      "metadata": {
        "id": "GIsW4bFkXHNN"
      },
      "source": [
        "from sklearn.preprocessing import StandardScaler\n",
        "sc = StandardScaler()\n",
        "X_house_train = sc.fit_transform(X_house_train)\n",
        "X_house_val = sc.fit_transform(X_house_val)"
      ],
      "execution_count": 464,
      "outputs": []
    },
    {
      "cell_type": "code",
      "metadata": {
        "id": "PJ4yoM6DxJfn",
        "colab": {
          "base_uri": "https://localhost:8080/"
        },
        "outputId": "932d5f0a-3071-4c9e-c7b3-31683c3f10da"
      },
      "source": [
        "scratch_model = ScratchLinearRegression(5000, 0.001, False, True)\n",
        "scratch_model.fit(X_house_train, y_house_train, X_house_val, y_house_val)"
      ],
      "execution_count": 476,
      "outputs": [
        {
          "output_type": "stream",
          "text": [
            "Iteration 0 -- train loss: 20074564008.127357 -- val loss: 3853538998.441289\n",
            "Iteration 500 -- train loss: 7968172312.775801 -- val loss: 1374412487.949258\n",
            "Iteration 1000 -- train loss: 3606359748.959311 -- val loss: 544965513.5025394\n",
            "Iteration 1500 -- train loss: 2029429919.9609613 -- val loss: 282289871.5957679\n",
            "Iteration 2000 -- train loss: 1457596490.8581634 -- val loss: 208882975.5438486\n",
            "Iteration 2500 -- train loss: 1249683349.754684 -- val loss: 195086047.9837157\n",
            "Iteration 3000 -- train loss: 1173909780.4587412 -- val loss: 197695772.69959536\n",
            "Iteration 3500 -- train loss: 1146235942.189567 -- val loss: 203187716.96514273\n",
            "Iteration 4000 -- train loss: 1136109594.2358065 -- val loss: 207901725.78392997\n",
            "Iteration 4500 -- train loss: 1132397604.8873806 -- val loss: 211245002.19596624\n"
          ],
          "name": "stdout"
        }
      ]
    },
    {
      "cell_type": "markdown",
      "metadata": {
        "id": "5gBgoX7DvMnS"
      },
      "source": [
        "Making some predictions and verification\n",
        "\n",
        "Since our model has the shape of X as (m_sample, n_features + 1) due to its bias element, we need to a column filled with ones again to the train and validation dataset"
      ]
    },
    {
      "cell_type": "code",
      "metadata": {
        "colab": {
          "base_uri": "https://localhost:8080/"
        },
        "id": "JWfxw0PuvLwp",
        "outputId": "24760c2e-3b8a-49ed-d3fe-ec5345a2cf97"
      },
      "source": [
        "X_house_train = np.c_[np.ones(len(X_house_train)), X_house_train]\n",
        "X_house_val = np.c_[np.ones(len(X_house_val)), X_house_val]\n",
        "X_house_train.shape"
      ],
      "execution_count": 478,
      "outputs": [
        {
          "output_type": "execute_result",
          "data": {
            "text/plain": [
              "(1191, 3)"
            ]
          },
          "metadata": {
            "tags": []
          },
          "execution_count": 478
        }
      ]
    },
    {
      "cell_type": "code",
      "metadata": {
        "colab": {
          "base_uri": "https://localhost:8080/"
        },
        "id": "mvNvbRvMXYkN",
        "outputId": "f30bb1dd-11fe-470d-dfaf-b8e2643f614f"
      },
      "source": [
        "predictions = scratch_model.predict(X_house_val)\n",
        "print(\"Mean squared error of validation dataset: {}\".format(MSE(predictions, y_house_val)))"
      ],
      "execution_count": 479,
      "outputs": [
        {
          "output_type": "stream",
          "text": [
            "Mean squared error of validation dataset: 22896390781.19364\n"
          ],
          "name": "stdout"
        }
      ]
    },
    {
      "cell_type": "markdown",
      "metadata": {
        "id": "yfmptNhw0hVN"
      },
      "source": [
        "### [Problem 7] Learning curve plot"
      ]
    },
    {
      "cell_type": "code",
      "metadata": {
        "colab": {
          "base_uri": "https://localhost:8080/",
          "height": 295
        },
        "id": "Wss151HW0dun",
        "outputId": "43d9a0c0-b935-49a5-b36c-0ae61e0dd697"
      },
      "source": [
        "train_loss = scratch_model.loss\n",
        "val_loss = scratch_model.val_loss\n",
        "iteration = range(1, scratch_model.iter+1)\n",
        "\n",
        "plt.plot(iteration, train_loss, label = \"train_loss\", color='tab:red')\n",
        "plt.plot(iteration, val_loss, label = \"val_loss\", color='tab:blue')\n",
        "\n",
        "plt.xlabel('Iterations')\n",
        "plt.ylabel('Loss')\n",
        "plt.title('Linear Regression loss')\n",
        "plt.legend()\n",
        "plt.show()"
      ],
      "execution_count": 487,
      "outputs": [
        {
          "output_type": "display_data",
          "data": {
            "image/png": "[encoded data removed]",
            "text/plain": [
              "<Figure size 432x288 with 1 Axes>"
            ]
          },
          "metadata": {
            "tags": [],
            "needs_background": "light"
          }
        }
      ]
    },
    {
      "cell_type": "markdown",
      "metadata": {
        "id": "TKrLPBnX5KaF"
      },
      "source": [
        "### [Problem 8] (Advance task) Removal of bias term"
      ]
    },
    {
      "cell_type": "code",
      "metadata": {
        "id": "YjPYogzA5gHf"
      },
      "source": [
        "X_house_train, X_house_val, y_house_train, y_house_val = scratch_train_val_split(df_train, target, train_size=0.8)"
      ],
      "execution_count": 488,
      "outputs": []
    },
    {
      "cell_type": "code",
      "metadata": {
        "id": "Kypw0U6H5gHg"
      },
      "source": [
        "from sklearn.preprocessing import StandardScaler\n",
        "sc = StandardScaler()\n",
        "X_house_train = sc.fit_transform(X_house_train)\n",
        "X_house_val = sc.fit_transform(X_house_val)"
      ],
      "execution_count": 489,
      "outputs": []
    },
    {
      "cell_type": "code",
      "metadata": {
        "colab": {
          "base_uri": "https://localhost:8080/"
        },
        "id": "Tf-vsMOL5Tz8",
        "outputId": "dcff9d8f-d416-4f32-d7bf-765370e122b9"
      },
      "source": [
        "scratch_model_nobias = ScratchLinearRegression(5000, 0.001, True, True)\n",
        "scratch_model_nobias.fit(X_house_train, y_house_train, X_house_val, y_house_val)"
      ],
      "execution_count": 490,
      "outputs": [
        {
          "output_type": "stream",
          "text": [
            "Iteration 0 -- train loss: 19528133430.357132 -- val loss: 5253300341.920729\n",
            "Iteration 500 -- train loss: 18130393970.633156 -- val loss: 4849500868.39503\n",
            "Iteration 1000 -- train loss: 17700009463.19113 -- val loss: 4721711625.020328\n",
            "Iteration 1500 -- train loss: 17566781765.295918 -- val loss: 4680214481.943237\n",
            "Iteration 2000 -- train loss: 17525230483.10322 -- val loss: 4666184326.9947405\n",
            "Iteration 2500 -- train loss: 17512136019.496906 -- val loss: 4661153257.896978\n",
            "Iteration 3000 -- train loss: 17507950748.384293 -- val loss: 4659204189.031387\n",
            "Iteration 3500 -- train loss: 17506587870.5291 -- val loss: 4658379132.857673\n",
            "Iteration 4000 -- train loss: 17506133418.612053 -- val loss: 4657998037.931576\n",
            "Iteration 4500 -- train loss: 17505977460.411953 -- val loss: 4657808418.484646\n"
          ],
          "name": "stdout"
        }
      ]
    },
    {
      "cell_type": "code",
      "metadata": {
        "colab": {
          "base_uri": "https://localhost:8080/",
          "height": 295
        },
        "id": "PIM-UTvs5tqo",
        "outputId": "8201cfe7-bc82-4723-eead-1b3ae2bb1976"
      },
      "source": [
        "train_loss_nobias = scratch_model_nobias.loss\n",
        "val_loss_nobias = scratch_model_nobias.val_loss\n",
        "iteration_nobias = range(1, scratch_model_nobias.iter+1)\n",
        "\n",
        "plt.plot(iteration_nobias, train_loss_nobias, label = \"train_loss\", color='tab:red')\n",
        "plt.plot(iteration_nobias, val_loss_nobias, label = \"val_loss\", color='tab:blue')\n",
        "\n",
        "plt.xlabel('Iterations')\n",
        "plt.ylabel('Loss')\n",
        "plt.title('Linear Regression loss (no bias)')\n",
        "plt.legend()\n",
        "plt.show()"
      ],
      "execution_count": 491,
      "outputs": [
        {
          "output_type": "display_data",
          "data": {
            "image/png": "[encoded data removed]",
            "text/plain": [
              "<Figure size 432x288 with 1 Axes>"
            ]
          },
          "metadata": {
            "tags": [],
            "needs_background": "light"
          }
        }
      ]
    },
    {
      "cell_type": "markdown",
      "metadata": {
        "id": "SciBDW6v59PJ"
      },
      "source": [
        "The bias seems to cause impact on the perfomance as well as the cost of learning process, in which the loss value of both train and validation of model with no bias is smaller than the model with bias terms.\n",
        "\n",
        "In addition to this, the curve of training model with no bias reach it stable state very early (which is the bad output since we need to minimize it as much as possible). On the contrary, the model with bias terms has its training data reaching it stable state at around 2000th iteration, with a dramatically decrease in the cost value (which is a very good sign).\n",
        "\n",
        "Speaking of the validation dataset, both model witness the same pattern since the number of sample is quite small (the division is 80 - 20 for train - validation dataset). Nevertheless, the model with no bias still reach it stable state earlier than that with bias terms."
      ]
    },
    {
      "cell_type": "markdown",
      "metadata": {
        "id": "U7eAO2vi7WvJ"
      },
      "source": [
        "### [Problem 9] (Advance task) Multidimensional feature quantity"
      ]
    },
    {
      "cell_type": "code",
      "metadata": {
        "id": "EehMqJyG7wJn"
      },
      "source": [
        "X_house_train_sqr = X_house_train**2\n",
        "X_house_val_sqr = X_house_val**2"
      ],
      "execution_count": 492,
      "outputs": []
    },
    {
      "cell_type": "code",
      "metadata": {
        "colab": {
          "base_uri": "https://localhost:8080/"
        },
        "id": "6Q8iH5UX7hzS",
        "outputId": "47104a23-647d-4667-ff65-46729d6201f7"
      },
      "source": [
        "scratch_model_new = ScratchLinearRegression(5000, 0.001, False, True)\n",
        "scratch_model_new.fit(X_house_train_sqr, y_house_train, X_house_val_sqr, y_house_val)"
      ],
      "execution_count": 493,
      "outputs": [
        {
          "output_type": "stream",
          "text": [
            "Iteration 0 -- train loss: 19527554870.96344 -- val loss: 5253140904.227885\n",
            "Iteration 500 -- train loss: 7078134577.652087 -- val loss: 1850647757.8706973\n",
            "Iteration 1000 -- train loss: 5211344109.210789 -- val loss: 1380880668.5233154\n",
            "Iteration 1500 -- train loss: 4252471985.2851944 -- val loss: 1149392539.4343112\n",
            "Iteration 2000 -- train loss: 3682069916.374553 -- val loss: 1015460223.315901\n",
            "Iteration 2500 -- train loss: 3335737201.9470453 -- val loss: 936786680.085458\n",
            "Iteration 3000 -- train loss: 3124904157.7848754 -- val loss: 890961087.1002237\n",
            "Iteration 3500 -- train loss: 2996515613.548146 -- val loss: 864679045.2826163\n",
            "Iteration 4000 -- train loss: 2918329117.6470447 -- val loss: 849945128.6482842\n",
            "Iteration 4500 -- train loss: 2870714591.2453494 -- val loss: 841965941.7609333\n"
          ],
          "name": "stdout"
        }
      ]
    },
    {
      "cell_type": "code",
      "metadata": {
        "id": "hFTmli1y8bZX"
      },
      "source": [
        "X_house_train_cub = X_house_train**3\n",
        "X_house_val_cub = X_house_val**3"
      ],
      "execution_count": 496,
      "outputs": []
    },
    {
      "cell_type": "code",
      "metadata": {
        "colab": {
          "base_uri": "https://localhost:8080/"
        },
        "id": "A8EwZqX88d-v",
        "outputId": "53c14613-94c0-4c0c-dc76-8c106f68bc4a"
      },
      "source": [
        "scratch_model_new_2 = ScratchLinearRegression(5000, 0.001, False, True)\n",
        "scratch_model_new_2.fit(X_house_train_cub, y_house_train, X_house_val_cub, y_house_val)"
      ],
      "execution_count": 498,
      "outputs": [
        {
          "output_type": "stream",
          "text": [
            "Iteration 0 -- train loss: 19528265516.428688 -- val loss: 5253345614.71785\n",
            "Iteration 500 -- train loss: 8919907209.391577 -- val loss: 2365230893.0184093\n",
            "Iteration 1000 -- train loss: 5084646509.403142 -- val loss: 1365520448.2458243\n",
            "Iteration 1500 -- train loss: 3612801534.6798654 -- val loss: 991196048.4508023\n",
            "Iteration 2000 -- train loss: 3047956447.20289 -- val loss: 853340311.6328851\n",
            "Iteration 2500 -- train loss: 2831187712.500662 -- val loss: 804027402.1214267\n",
            "Iteration 3000 -- train loss: 2747999090.724227 -- val loss: 787327664.2431684\n",
            "Iteration 3500 -- train loss: 2716074067.945599 -- val loss: 782297171.239486\n",
            "Iteration 4000 -- train loss: 2703822307.3363786 -- val loss: 781220483.6867363\n",
            "Iteration 4500 -- train loss: 2699120489.6096835 -- val loss: 781336236.4440039\n"
          ],
          "name": "stdout"
        }
      ]
    },
    {
      "cell_type": "code",
      "metadata": {
        "colab": {
          "base_uri": "https://localhost:8080/",
          "height": 295
        },
        "id": "6DmC5jxa80fp",
        "outputId": "7b0ac778-145d-48a4-aece-c70164fd1192"
      },
      "source": [
        "train_loss_sqr = scratch_model_new.loss\n",
        "val_loss_sqr = scratch_model_new.val_loss\n",
        "\n",
        "train_loss_cub = scratch_model_new_2.loss\n",
        "val_loss_cub = scratch_model_new_2.val_loss\n",
        "\n",
        "iteration = range(1, scratch_model_new.iter+1)\n",
        "\n",
        "plt.plot(iteration, train_loss_sqr, label = \"train_loss_square\", color='tab:red')\n",
        "plt.plot(iteration, train_loss_cub, label = \"train_loss_cub\", color='tab:green')\n",
        "plt.plot(iteration, val_loss_sqr, label = \"val_loss_square\", color='tab:blue')\n",
        "plt.plot(iteration, val_loss_cub, label = \"val_loss_cub\", color='tab:orange')\n",
        "\n",
        "plt.xlabel('Iterations')\n",
        "plt.ylabel('Loss')\n",
        "plt.title('Linear Regression loss (square/cubic)')\n",
        "plt.legend()\n",
        "plt.show()"
      ],
      "execution_count": 500,
      "outputs": [
        {
          "output_type": "display_data",
          "data": {
            "image/png": "[encoded data removed]",
            "text/plain": [
              "<Figure size 432x288 with 1 Axes>"
            ]
          },
          "metadata": {
            "tags": [],
            "needs_background": "light"
          }
        }
      ]
    },
    {
      "cell_type": "markdown",
      "metadata": {
        "id": "_ubqeCSC9ydB"
      },
      "source": [
        "### [Problem 10] (Advance task) Derivation of update formula"
      ]
    },
    {
      "cell_type": "markdown",
      "metadata": {
        "id": "mRZo3s0193m4"
      },
      "source": [
        "As we know: $h_\\theta(x) = \\theta_0x_0 + \\theta_1x_1 + ... + \\theta_nx_n $. So in general form, if we take derivative of $\\theta$, it will become $x_j$ as j is the jth value of array x\n",
        "\n",
        "Back to the cost function, if we take derivative of $J(\\theta)$:\n",
        "\n",
        "$dJ(\\theta) = \\frac{2}{2m} \\times \\sum_{i=1}^m (h\\theta(x^i) - y^i)x^i$ (derivative of $u^n$ is $n\\times du \\times u^{n-1}$)\n",
        "\n",
        "Therefore, $\\theta_j = \\theta_j - \\alpha \\sum_{i=1}^m (h\\theta(x^i) - y^i)$ and by defaul $alpha$ is equal 1.\n",
        "\n",
        "Because in Machine Learning, we need to find the optimal solution by minizing the cost function, which mean the smaller the learning rate, the more accurate we will move from the slope to its minimal point. And, the larger the learning rate, the more chance the learning pattern witnesses divergent behavior (in this case, the learning rate will be the variabe that we need to tune for the best solution)\n"
      ]
    }
  ]
}