{
  "nbformat": 4,
  "nbformat_minor": 0,
  "metadata": {
    "colab": {
      "name": "sprint_decision_tree_scratch.ipynb",
      "provenance": [],
      "collapsed_sections": [],
      "toc_visible": true
    },
    "kernelspec": {
      "name": "python3",
      "display_name": "Python 3"
    },
    "language_info": {
      "name": "python"
    }
  },
  "cells": [
    {
      "cell_type": "markdown",
      "metadata": {
        "id": "EQ9oEAn43Wnk"
      },
      "source": [
        "# **DIVE INTO CODE COURSE**\n",
        "## **Sprint Machine Learning Scratch Decision Tree**\n",
        "**Student**: Doan Anh Tien<br>\n",
        "**ID**: 1852789<br>\n",
        "**Email**: tien.doan.g0pr0@hcmut.edu.vn"
      ]
    },
    {
      "cell_type": "code",
      "metadata": {
        "id": "XJt2HavErNQs"
      },
      "source": [
        "import matplotlib.pyplot as plt\n",
        "import pandas as pd\n",
        "import numpy as np\n",
        "import math\n",
        "import seaborn as sns"
      ],
      "execution_count": null,
      "outputs": []
    },
    {
      "cell_type": "markdown",
      "metadata": {
        "id": "4Xzu9ibBPUUY"
      },
      "source": [
        "---"
      ]
    },
    {
      "cell_type": "markdown",
      "metadata": {
        "id": "3qzQtpvTKHLf"
      },
      "source": [
        "### **[Problem 1] Function for finding impureness**"
      ]
    },
    {
      "cell_type": "markdown",
      "metadata": {
        "id": "JjeRwHAvQ_6i"
      },
      "source": [
        "In a simple explaination, Gini impureness is a summation of all probability for each class's occurence in a node.\n",
        "\n",
        "For example, there is a small scenario that there are sample of pictures having a shape looks like cat-ear, and there are 10 samples of them are regconzied as cat, while there are 8 samples of them are regconized as non-cat. These add up to the total of 18 pictures.\n",
        "\n",
        "If we considered these statements as **Yes** and **No**, we can draw out a general view of their probability and calculate the Gini impureness as follows:\n",
        "\n",
        "> $I(t) = 1 - ((\\frac{10}{10+8})^2 + (\\frac{8}{10+8})^2)$ = 0.494 (rounded)\n",
        "\n",
        "\n"
      ]
    },
    {
      "cell_type": "code",
      "metadata": {
        "id": "OB4u9UK0QO2B"
      },
      "source": [
        "### Temporary Gini impureness function\n",
        "\n",
        "def gini_impureness(X):\n",
        "  \"\"\"\n",
        "  Find the Gini impureness value of a node\n",
        "\n",
        "  Parameters\n",
        "  ----------\n",
        "  X: The following form of ndarray, shape (n_class,)\n",
        "      Containing class values of the dataset\n",
        "\n",
        "  Returns\n",
        "  ----------\n",
        "  gini_imp: float value\n",
        "      The gini impureness of a node\n",
        "\n",
        "  \"\"\"\n",
        "  \n",
        "  n = len(X)\n",
        "  total_impurity = 0\n",
        "  x_class = np.unique(X[:,-1])\n",
        "  \n",
        "  for class_val in x_class: # Since the class are unique, using in range is fine\n",
        "    total_impurity += ((X==class_val).sum()/n)**2\n",
        "                       \n",
        "  gini_imp = 1 - total_impurity\n",
        "\n",
        "  return gini_imp"
      ],
      "execution_count": null,
      "outputs": []
    },
    {
      "cell_type": "markdown",
      "metadata": {
        "id": "GgKXWor0jK1_"
      },
      "source": [
        "**Testing with data 1**"
      ]
    },
    {
      "cell_type": "code",
      "metadata": {
        "colab": {
          "base_uri": "https://localhost:8080/"
        },
        "id": "zdaqA_5Bfjej",
        "outputId": "860c173a-86f7-46d4-a675-a32a7ec32080"
      },
      "source": [
        "## Testing with data 1\n",
        "class_1 = np.full(15, 1)\n",
        "temp_1 = np.column_stack((np.random.randn(15), class_1))\n",
        "class_2 = np.full(15, 2)\n",
        "temp_2 = np.column_stack((np.random.randn(15), class_2))\n",
        "\n",
        "test_1 = np.concatenate((temp_1, temp_2))\n",
        "np.random.shuffle(test_1)\n",
        "test_1[0:10]"
      ],
      "execution_count": null,
      "outputs": [
        {
          "output_type": "execute_result",
          "data": {
            "text/plain": [
              "array([[ 0.94863594,  2.        ],\n",
              "       [ 0.10375229,  2.        ],\n",
              "       [ 1.39391325,  1.        ],\n",
              "       [ 0.14415275,  2.        ],\n",
              "       [-2.99165178,  2.        ],\n",
              "       [ 1.0243018 ,  2.        ],\n",
              "       [-0.84818483,  1.        ],\n",
              "       [ 2.07033244,  2.        ],\n",
              "       [-0.12574555,  1.        ],\n",
              "       [-0.57820419,  1.        ]])"
            ]
          },
          "metadata": {
            "tags": []
          },
          "execution_count": 4
        }
      ]
    },
    {
      "cell_type": "code",
      "metadata": {
        "colab": {
          "base_uri": "https://localhost:8080/"
        },
        "id": "azjTQVhRi4Ae",
        "outputId": "25bd9ef0-e587-4043-8c0f-e8bb2fc83470"
      },
      "source": [
        "print(\"The gini impureness for test_1: {}\".format(gini_impureness(test_1)))"
      ],
      "execution_count": null,
      "outputs": [
        {
          "output_type": "stream",
          "text": [
            "The gini impureness for test_1: 0.5\n"
          ],
          "name": "stdout"
        }
      ]
    },
    {
      "cell_type": "markdown",
      "metadata": {
        "id": "mAc6SrcSjOY8"
      },
      "source": [
        "**Testing with data 2**"
      ]
    },
    {
      "cell_type": "code",
      "metadata": {
        "colab": {
          "base_uri": "https://localhost:8080/"
        },
        "id": "ylsXk96QjBuX",
        "outputId": "edc8ae39-c43c-4c8a-8681-f71dc7aa83d3"
      },
      "source": [
        "## Testing with data 2\n",
        "class_1 = np.full(15, 1)\n",
        "temp_1 = np.column_stack((np.random.randn(15), class_1))\n",
        "class_2 = np.full(15, 2)\n",
        "temp_2 = np.column_stack((np.random.randn(15), class_2))\n",
        "class_3 = np.full(15, 3)\n",
        "temp_3 = np.column_stack((np.random.randn(15), class_3))\n",
        "\n",
        "test_2 = np.concatenate((temp_1, temp_2, temp_3))\n",
        "np.random.shuffle(test_2)\n",
        "test_2[0:10]"
      ],
      "execution_count": null,
      "outputs": [
        {
          "output_type": "execute_result",
          "data": {
            "text/plain": [
              "array([[ 1.71277254,  3.        ],\n",
              "       [ 1.06317301,  2.        ],\n",
              "       [-0.11301578,  1.        ],\n",
              "       [-0.58153774,  1.        ],\n",
              "       [-0.36134731,  2.        ],\n",
              "       [ 1.72541383,  3.        ],\n",
              "       [ 0.46629637,  3.        ],\n",
              "       [ 1.1408384 ,  1.        ],\n",
              "       [ 0.80742453,  2.        ],\n",
              "       [-1.44616228,  1.        ]])"
            ]
          },
          "metadata": {
            "tags": []
          },
          "execution_count": 7
        }
      ]
    },
    {
      "cell_type": "code",
      "metadata": {
        "colab": {
          "base_uri": "https://localhost:8080/"
        },
        "id": "BVPP0de3jKXR",
        "outputId": "9d4a8251-328e-4367-a28f-b4b2ef875638"
      },
      "source": [
        "print(\"The gini impureness for test_2: {}\".format(gini_impureness(test_2)))"
      ],
      "execution_count": null,
      "outputs": [
        {
          "output_type": "stream",
          "text": [
            "The gini impureness for test_2: 0.6666666666666667\n"
          ],
          "name": "stdout"
        }
      ]
    },
    {
      "cell_type": "markdown",
      "metadata": {
        "id": "xbYqnZWVjPrV"
      },
      "source": [
        "**Testing with data 3**"
      ]
    },
    {
      "cell_type": "code",
      "metadata": {
        "colab": {
          "base_uri": "https://localhost:8080/"
        },
        "id": "-EbD5RbQjTeM",
        "outputId": "198d9f6b-182b-4e4a-8368-8a749de11510"
      },
      "source": [
        "## Testing with data 3\n",
        "class_1 = np.full(18, 1)\n",
        "temp_1 = np.column_stack((np.random.randn(18), class_1))\n",
        "class_2 = np.full(12, 2)\n",
        "temp_2 = np.column_stack((np.random.randn(12), class_2))\n",
        "\n",
        "test_3 = np.concatenate((temp_1, temp_2))\n",
        "np.random.shuffle(test_3)\n",
        "test_3[0:10]"
      ],
      "execution_count": null,
      "outputs": [
        {
          "output_type": "execute_result",
          "data": {
            "text/plain": [
              "array([[ 0.72062056,  2.        ],\n",
              "       [ 1.62322217,  1.        ],\n",
              "       [ 0.64518932,  1.        ],\n",
              "       [ 2.5661779 ,  2.        ],\n",
              "       [ 1.72235409,  1.        ],\n",
              "       [-0.95374546,  1.        ],\n",
              "       [ 1.34964578,  1.        ],\n",
              "       [-0.81700957,  2.        ],\n",
              "       [ 0.60043611,  2.        ],\n",
              "       [-1.91429246,  1.        ]])"
            ]
          },
          "metadata": {
            "tags": []
          },
          "execution_count": 9
        }
      ]
    },
    {
      "cell_type": "code",
      "metadata": {
        "colab": {
          "base_uri": "https://localhost:8080/"
        },
        "id": "XESjyAM9jVL0",
        "outputId": "9e3991dc-fe17-409f-d6a3-003eee887055"
      },
      "source": [
        "print(\"The gini impureness for test_3: {}\".format(gini_impureness(test_3)))"
      ],
      "execution_count": null,
      "outputs": [
        {
          "output_type": "stream",
          "text": [
            "The gini impureness for test_3: 0.48\n"
          ],
          "name": "stdout"
        }
      ]
    },
    {
      "cell_type": "markdown",
      "metadata": {
        "id": "IKKvldJBji2Y"
      },
      "source": [
        "**Testing with data 4**"
      ]
    },
    {
      "cell_type": "code",
      "metadata": {
        "colab": {
          "base_uri": "https://localhost:8080/"
        },
        "id": "53bHqfCTjgmK",
        "outputId": "59df0b53-fcce-4c6c-c9d2-91c8caf86c9d"
      },
      "source": [
        "## Testing with data 4\n",
        "class_1 = np.full(18, 1)\n",
        "temp_1 = np.column_stack((np.random.randn(18), class_1))\n",
        "class_2 = np.full(0, 2)\n",
        "temp_2 = np.column_stack((np.random.randn(0), class_2))\n",
        "\n",
        "test_4 = np.concatenate((temp_1, temp_2))\n",
        "np.random.shuffle(test_4)\n",
        "test_4[0:10]"
      ],
      "execution_count": null,
      "outputs": [
        {
          "output_type": "execute_result",
          "data": {
            "text/plain": [
              "array([[-0.10321731,  1.        ],\n",
              "       [-0.21477782,  1.        ],\n",
              "       [-0.92571644,  1.        ],\n",
              "       [-0.63337241,  1.        ],\n",
              "       [-1.36885913,  1.        ],\n",
              "       [ 1.62823199,  1.        ],\n",
              "       [ 1.73023872,  1.        ],\n",
              "       [ 1.41480589,  1.        ],\n",
              "       [-1.66743747,  1.        ],\n",
              "       [-0.45136326,  1.        ]])"
            ]
          },
          "metadata": {
            "tags": []
          },
          "execution_count": 11
        }
      ]
    },
    {
      "cell_type": "code",
      "metadata": {
        "colab": {
          "base_uri": "https://localhost:8080/"
        },
        "id": "xyk8uapEjq1I",
        "outputId": "533bb26f-8994-444b-bc79-799e1c1e5a1a"
      },
      "source": [
        "print(\"The gini impureness for test_4: {}\".format(gini_impureness(test_4)))"
      ],
      "execution_count": null,
      "outputs": [
        {
          "output_type": "stream",
          "text": [
            "The gini impureness for test_4: 0.0\n"
          ],
          "name": "stdout"
        }
      ]
    },
    {
      "cell_type": "markdown",
      "metadata": {
        "id": "ahA-ytHLjzHB"
      },
      "source": [
        "### **[Problem 2] Function for finding information gain**"
      ]
    },
    {
      "cell_type": "code",
      "metadata": {
        "id": "1VK5jW9R67sX"
      },
      "source": [
        "def information_gain(parent, left, right):\n",
        "  \"\"\"\n",
        "  Find the Information gain obtained from nodes\n",
        "\n",
        "  Parameters\n",
        "  ----------\n",
        "  parent: The following form of ndarray, shape (n_class,)\n",
        "      Containing class values of the parent node\n",
        "  \n",
        "  left: The following form of ndarray, shape (n_class,)\n",
        "      Containing class values of the left node\n",
        "\n",
        "  right: The following form of ndarray, shape (n_class,)\n",
        "      Containing class values of the right node\n",
        "\n",
        "  Returns\n",
        "  ----------\n",
        "  info_gain: float value\n",
        "      The information gain of a parent node\n",
        "\n",
        "  \"\"\"\n",
        "\n",
        "  left_sample = float(len(left)/(len(left) + len(right)))\n",
        "  right_sample = 1 - left_sample\n",
        "  print(\"Left node proportion: {}\".format(left_sample))\n",
        "  print(\"Right node proportion: {}\".format(right_sample))\n",
        "  \n",
        "  info_gain = parent - left_sample*gini_impureness(left) - right_sample*gini_impureness(right)\n",
        "\n",
        "  return info_gain"
      ],
      "execution_count": null,
      "outputs": []
    },
    {
      "cell_type": "markdown",
      "metadata": {
        "id": "FOGg9SHucdZG"
      },
      "source": [
        "**Testing with data 5**"
      ]
    },
    {
      "cell_type": "code",
      "metadata": {
        "id": "fySBWZJAUIU6"
      },
      "source": [
        "## Testing with data 5\n",
        "label_1 = np.full(30,int(1))\n",
        "parent_1 = np.column_stack((np.random.randn(30), label_1))\n",
        "label_2 = np.full(35,int(2))\n",
        "parent_2 = np.column_stack((np.random.randn(35), label_2))\n",
        "\n",
        "parent_node = np.concatenate((parent_1, parent_2))\n",
        "np.random.shuffle(parent_node)"
      ],
      "execution_count": null,
      "outputs": []
    },
    {
      "cell_type": "code",
      "metadata": {
        "id": "itO2fCO4ctp7"
      },
      "source": [
        "def node_splitting(parent_node):\n",
        "\n",
        "  split = np.array_split(parent_node, 2)\n",
        "  left_node = split[0]\n",
        "  right_node = split[1]\n",
        "\n",
        "  left_unique = np.unique(left_node[:,-1], return_counts=True)\n",
        "  right_unique = np.unique(right_node[:,-1], return_counts=True)\n",
        "\n",
        "  print(\"Left node:\\n{}\\nSamples of Class 1 - Class 2: {}\".format(left_node[:,-1], left_unique[1]))\n",
        "  print(\"\\n\")\n",
        "  print(\"Right node:\\n{}\\nSamples of Class 1 - Class 2: {}\".format(right_node[:,-1], right_unique[1]))\n",
        "\n",
        "  return left_node, right_node"
      ],
      "execution_count": null,
      "outputs": []
    },
    {
      "cell_type": "code",
      "metadata": {
        "colab": {
          "base_uri": "https://localhost:8080/"
        },
        "id": "o7yIMjYYc5GK",
        "outputId": "8b9894eb-8def-4f50-c902-590f7e0806e7"
      },
      "source": [
        "left_node, right_node = node_splitting(parent_node)"
      ],
      "execution_count": null,
      "outputs": [
        {
          "output_type": "stream",
          "text": [
            "Left node:\n",
            "[1. 1. 2. 1. 1. 1. 2. 2. 2. 1. 1. 1. 1. 1. 1. 2. 2. 1. 1. 2. 1. 2. 2. 1.\n",
            " 2. 1. 1. 2. 1. 2. 1. 1. 1.]\n",
            "Samples of Class 1 - Class 2: [21 12]\n",
            "\n",
            "\n",
            "Right node:\n",
            "[2. 1. 2. 1. 2. 2. 1. 2. 2. 2. 2. 2. 2. 2. 2. 1. 2. 1. 2. 2. 1. 2. 2. 1.\n",
            " 2. 2. 2. 2. 1. 1. 2. 2.]\n",
            "Samples of Class 1 - Class 2: [ 9 23]\n"
          ],
          "name": "stdout"
        }
      ]
    },
    {
      "cell_type": "code",
      "metadata": {
        "colab": {
          "base_uri": "https://localhost:8080/"
        },
        "id": "0tzAazDEcZQn",
        "outputId": "69720b3f-dae9-43b6-f365-d8fdc379355f"
      },
      "source": [
        "print(\"The gini impureness for parent_node: {:.4f}\".format(gini_impureness(parent_node)))\n",
        "print(\"The gini impureness for left_node: {:.4f}\".format(gini_impureness(left_node)))\n",
        "print(\"The gini impureness for right_node: {:.4f}\".format(gini_impureness(right_node)))\n",
        "print(\"The information gain for this test: {:.4f}\".format(information_gain(gini_impureness(parent_node), left_node, right_node)))"
      ],
      "execution_count": null,
      "outputs": [
        {
          "output_type": "stream",
          "text": [
            "The gini impureness for parent_node: 0.4970\n",
            "The gini impureness for left_node: 0.4628\n",
            "The gini impureness for right_node: 0.4043\n",
            "Left node proportion: 0.5076923076923077\n",
            "Right node proportion: 0.49230769230769234\n",
            "The information gain for this test: 0.0630\n"
          ],
          "name": "stdout"
        }
      ]
    },
    {
      "cell_type": "markdown",
      "metadata": {
        "id": "x_jg8Z9tdBho"
      },
      "source": [
        "**Verification of tested data**"
      ]
    },
    {
      "cell_type": "markdown",
      "metadata": {
        "id": "YnEXCWdpqImo"
      },
      "source": [
        "![image.png](data:image/png;base64,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)"
      ]
    },
    {
      "cell_type": "markdown",
      "metadata": {
        "id": "5fOkOVdRqAOq"
      },
      "source": [
        "### **[Problem 3] Learning - [Problem 4] Estimate**"
      ]
    },
    {
      "cell_type": "markdown",
      "metadata": {
        "id": "yytPtmKwq4xE"
      },
      "source": [
        "**Data Preparation**"
      ]
    },
    {
      "cell_type": "code",
      "metadata": {
        "id": "fQJXgXCKiewj"
      },
      "source": [
        "# Artificial dataset 2 from Sprint 1\n",
        "\n",
        "X_set3 = np.array([\n",
        "    [-0.44699 , -2.8073  ],[-1.4621  , -2.4586  ],\n",
        "    [ 0.10645 ,  1.9242  ],[-3.5944  , -4.0112  ],\n",
        "    [-0.9888  ,  4.5718  ],[-3.1625  , -3.9606  ],\n",
        "    [ 0.56421 ,  0.72888 ],[-0.60216 ,  8.4636  ],\n",
        "    [-0.61251 , -0.75345 ],[-0.73535 , -2.2718  ],\n",
        "    [-0.80647 , -2.2135  ],[ 0.86291 ,  2.3946  ],\n",
        "    [-3.1108  ,  0.15394 ],[-2.9362  ,  2.5462  ],\n",
        "    [-0.57242 , -2.9915  ],[ 1.4771  ,  3.4896  ],\n",
        "    [ 0.58619 ,  0.37158 ],[ 0.6017  ,  4.3439  ],\n",
        "    [-2.1086  ,  8.3428  ],[-4.1013  , -4.353   ],\n",
        "    [-1.9948  , -1.3927  ],[ 0.35084 , -0.031994],\n",
        "    [ 0.96765 ,  7.8929  ],[-1.281   , 15.6824  ],\n",
        "    [ 0.96765 , 10.083   ],[ 1.3763  ,  1.3347  ],\n",
        "    [-2.234   , -2.5323  ],[-2.9452  , -1.8219  ],\n",
        "    [ 0.14654 , -0.28733 ],[ 0.5461  ,  5.8245  ],\n",
        "    [-0.65259 ,  9.3444  ],[ 0.59912 ,  5.3524  ],\n",
        "    [ 0.50214 , -0.31818 ],[-3.0603  , -3.6461  ],\n",
        "    [-6.6797  ,  0.67661 ],[-2.353   , -0.72261 ],\n",
        "    [ 1.1319  ,  2.4023  ],[-0.12243 ,  9.0162  ],\n",
        "    [-2.5677  , 13.1779  ],[ 0.057313,  5.4681  ],\n",
        "])\n",
        "y_set3 = np.array([0, 0, 0, 0, 0, 0, 0, 0, 0, 0, 0, 0, 0, 0, 0, 0, 0, 0, 0, 0, 1, 1,\n",
        "       1, 1, 1, 1, 1, 1, 1, 1, 1, 1, 1, 1, 1, 1, 1, 1, 1, 1])\n"
      ],
      "execution_count": null,
      "outputs": []
    },
    {
      "cell_type": "code",
      "metadata": {
        "id": "wPPxkHYfCIbv",
        "colab": {
          "base_uri": "https://localhost:8080/"
        },
        "outputId": "459c2c9a-c4b2-458e-a8a3-33850b2a94e5"
      },
      "source": [
        "from sklearn.model_selection import train_test_split\n",
        "X_set3_train, X_set3_val, y_set3_train, y_set3_val = train_test_split(X_set3, y_set3, train_size=0.8)\n",
        "print(\"Train dataset -- Rows: {}, Columns: {}\".format(X_set3_train.shape[0], X_set3_train.shape[1]))\n",
        "print(\"Test dataset -- Rows: {}, Columns: {}\".format(X_set3_val.shape[0], X_set3_val.shape[1]))"
      ],
      "execution_count": null,
      "outputs": [
        {
          "output_type": "stream",
          "text": [
            "Train dataset -- Rows: 32, Columns: 2\n",
            "Test dataset -- Rows: 8, Columns: 2\n"
          ],
          "name": "stdout"
        }
      ]
    },
    {
      "cell_type": "code",
      "metadata": {
        "id": "GIsW4bFkXHNN"
      },
      "source": [
        "from sklearn.preprocessing import StandardScaler\n",
        "sc = StandardScaler()\n",
        "X_set3_train = sc.fit_transform(X_set3_train)\n",
        "X_set3_val = sc.fit_transform(X_set3_val)"
      ],
      "execution_count": null,
      "outputs": []
    },
    {
      "cell_type": "markdown",
      "metadata": {
        "id": "e3l4e8zgVva1"
      },
      "source": [
        "**The meaning of finding best gain**"
      ]
    },
    {
      "cell_type": "markdown",
      "metadata": {
        "id": "A2Wb-nHcVx9K"
      },
      "source": [
        "As we all know that, Information Gain can be calculated as the substraction between the gini impurity value of the original dataset and the summation of all child node's gini impurity value multiply with their own observation proportion (details in the following formula)\n",
        "\n",
        "**$IG(p) = I(p) - (\\frac{N_{left}}{N_{all}} \\times I(left) + \\frac{N_{right}}{N_{all}} \\times I(right))$**\n",
        "\n",
        "\n",
        "Why we want to achieve this Information Gain? \n"
      ]
    },
    {
      "cell_type": "markdown",
      "metadata": {
        "id": "7WwHyp4odW6E"
      },
      "source": [
        "![image.png](data:image/png;base64,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)"
      ]
    },
    {
      "cell_type": "markdown",
      "metadata": {
        "id": "2S5XR5nddj3z"
      },
      "source": [
        "The more of impureness of a node, the less accuracy of its classification if it is the leaf node of a Decision Tree. From that, we would want to minimize this impureness as much as posible. And if the impureness value of each node is minimized, the information will be decrease accordingly. This can be done in step by step:\n",
        "\n",
        "1. Selecting the value of each features as threshold for branch division\n",
        "2. By evaluating all possible division, we can get the information gain among each iteration\n",
        "3. Get the best information gain for each node, thus we also get the fitted criterion at that node\n",
        "4. After getting the criterion, start splitting the dataset into two branches according to it\n",
        "5. The current node will be the parent, and it will grows two child node to form a tree\n",
        "\n",
        "From the figure below, the third tree seems to be the best division with it highest information gain."
      ]
    },
    {
      "cell_type": "markdown",
      "metadata": {
        "id": "6_BVlUSvHSke"
      },
      "source": [
        "**Decision Tree Node**"
      ]
    },
    {
      "cell_type": "code",
      "metadata": {
        "id": "9GkTTeXhHVRW"
      },
      "source": [
        "class DTNode:\n",
        "  \"\"\"\n",
        "  A node storing the feature values, the criterion\n",
        "  for splitting and (maybe) its two child nodes\n",
        "  \"\"\"\n",
        "  \n",
        "  def __init__(self, threshold=None,\n",
        "            left=None,\n",
        "            right=None):\n",
        "    \n",
        "    self.criterion = threshold\n",
        "    self.left_br = left\n",
        "    self.right_br = right"
      ],
      "execution_count": null,
      "outputs": []
    },
    {
      "cell_type": "markdown",
      "metadata": {
        "id": "KBLPnpQKreZ0"
      },
      "source": [
        "**Decision Tree Leaf**"
      ]
    },
    {
      "cell_type": "code",
      "metadata": {
        "id": "Bm5IE95UrgIY"
      },
      "source": [
        "class DTLeaf:\n",
        "    \"\"\"\n",
        "    An end node that store the occurence of classes as dictionary\n",
        "    when traverse from the dataset to the leaf node\n",
        "\n",
        "    \"\"\"\n",
        "    \n",
        "    def __init__(self, dataset):\n",
        "      \n",
        "      occurence = {}\n",
        "      \n",
        "      for sample in dataset:\n",
        "          label = sample[-1]\n",
        "\n",
        "          if label not in occurence:\n",
        "              occurence[label] = 0\n",
        "          \n",
        "          occurence[label] += 1\n",
        "      \n",
        "      self.y_pred = list(occurence.keys())"
      ],
      "execution_count": null,
      "outputs": []
    },
    {
      "cell_type": "markdown",
      "metadata": {
        "id": "JKUtcyWaiaCt"
      },
      "source": [
        "**Criterion Class**"
      ]
    },
    {
      "cell_type": "code",
      "metadata": {
        "id": "_yiNbQmbNHCI"
      },
      "source": [
        "class Criterion:\n",
        "    \"\"\"\n",
        "    A Criterion is used to split a dataset into two branches.\n",
        "    \"\"\"\n",
        "\n",
        "    def __init__(self, feature, feature_idx, sample):\n",
        "        \"\"\"\n",
        "        Parameters\n",
        "        ----------\n",
        "        feature: The list of features of dataset\n",
        "\n",
        "        feature_idx: The column index of the feature\n",
        "       \n",
        "        sample: The local value of the feature that set as a threshold\n",
        "\n",
        "        \"\"\"\n",
        "        self.feature = feature\n",
        "        self.feature_idx = feature_idx\n",
        "        self.sample = sample\n",
        "\n",
        "    def meet(self, input_sample):\n",
        "        \"\"\"\n",
        "        A function that compare the input feature value with\n",
        "        the feature value residing in the criterion of a node\n",
        "\n",
        "        Parameters\n",
        "        ----------\n",
        "        input_sample: The input value to compare with the local feature value\n",
        "\n",
        "        feature_idx: The column index of the feature\n",
        "        \n",
        "        \"\"\"\n",
        "        sample_val = input_sample[self.feature_idx]\n",
        "\n",
        "        return sample_val >= self.sample # Boolean\n",
        "\n",
        "    def __repr__(self):\n",
        "        \"\"\"\n",
        "        Print the criterion of the current node\n",
        "        \"\"\"\n",
        "\n",
        "        operator = \">=\"\n",
        "\n",
        "        return \"The value %s %s %s?\" % (self.feature[self.feature_idx], operator, str(self.sample))"
      ],
      "execution_count": null,
      "outputs": []
    },
    {
      "cell_type": "markdown",
      "metadata": {
        "id": "D_KmRT_eHO6F"
      },
      "source": [
        "**Scratch Decision Tree**"
      ]
    },
    {
      "cell_type": "code",
      "metadata": {
        "id": "cXyrhnsDHR3F"
      },
      "source": [
        "class ScratchDecesionTreeClassifierDepth1():\n",
        "    \"\"\"\n",
        "    Depth 1 decision tree classifier scratch implementation\n",
        "    Parameters\n",
        "    ----------\n",
        "    verbose : bool\n",
        "      True to output the learning process\n",
        "    \"\"\"\n",
        "    def __init__(self, verbose=False):\n",
        "        # Record hyperparameters as attributes\n",
        "        self.verbose = verbose\n",
        "        self.fit_tree = None # The final tree after being trained\n",
        "\n",
        "\n",
        "    def fit(self, X, y, features):\n",
        "        \"\"\"\n",
        "        Learn the decision tree classifier\n",
        "        Parameters\n",
        "        ----------\n",
        "        X : The following forms of ndarray, shape (n_samples, n_features)\n",
        "            Values of training data\n",
        "        y : The following form of ndarray, shape (n_samples,)\n",
        "            Correct answer value of training data\n",
        "\n",
        "        features: The form of list (length = n_features) \n",
        "            Containing the features of dataset \n",
        "\n",
        "        \"\"\"\n",
        "        # Condition to to check the need of concatenation in recursion branch (since the dataset is splitted into smaller partition)\n",
        "        if (len(y) == len(X)):\n",
        "            # Get the data with the label at the last column to be our original dataset\n",
        "            data = np.column_stack((X, y))\n",
        "        else:\n",
        "            data = X\n",
        "  \n",
        "        # Get the features\n",
        "        best_gain, best_criterion = self._find_best_gain(features, data)\n",
        "\n",
        "        # If reach the leaf, return it\n",
        "        if best_gain == 0:\n",
        "            return DTLeaf(data)\n",
        "\n",
        "        # Get the data subset for left and right node\n",
        "        left_node, right_node = self._split_tree(data, best_criterion)\n",
        "        \n",
        "        # Recursion to grow the tree\n",
        "        left_branch = self.fit(np.array(left_node), y, features)\n",
        "        right_branch = self.fit(np.array(right_node), y, features)\n",
        "\n",
        "        # Set this node as the root node\n",
        "        fit_node = DTNode(best_criterion, left_branch, right_branch)\n",
        "        self.fit_tree = fit_node\n",
        "\n",
        "        if self.verbose == True:\n",
        "            print(\" \" + str(fit_node.criterion))\n",
        "            print(data)\n",
        "            \n",
        "\n",
        "        return fit_node # For recursion\n",
        "\n",
        "\n",
        "    def predict(self, X):\n",
        "        \"\"\"\n",
        "        Estimate the label using a decision tree classifier\n",
        "\n",
        "        Parameters\n",
        "        ----------\n",
        "        X: The following form of ndarray, shape (n_sample, n_feature)\n",
        "            Containing class values of the dataset\n",
        "\n",
        "        Returns\n",
        "        ----------\n",
        "        predictions: The following form of ndarray, shape (n_sample,)\n",
        "            The predictions stored at leaf node\n",
        "\n",
        "        \"\"\"\n",
        "\n",
        "        predictions = []\n",
        "\n",
        "        for sample in X:\n",
        "            predictions.append(self._decision_branching(self.fit_tree, sample))\n",
        "            \n",
        "        return np.array(predictions)\n",
        "\n",
        "\n",
        "    def _gini_impureness(self, X):\n",
        "        \"\"\"\n",
        "        Find the Gini impureness value of a node\n",
        "\n",
        "        Parameters\n",
        "        ----------\n",
        "        X: The following form of ndarray, shape (n_class,)\n",
        "            Containing class values of the dataset\n",
        "\n",
        "        Returns\n",
        "        ----------\n",
        "        gini_imp: float value\n",
        "            The gini impureness of a node\n",
        "\n",
        "        \"\"\"\n",
        "        \n",
        "        n = len(X)\n",
        "        total_impurity = 0\n",
        "        x_class = np.unique(X[:,-1])\n",
        "        \n",
        "        # Calculate the impurity in a node by interpreting each class\n",
        "        for class_val in x_class: \n",
        "          total_impurity += ((X==class_val).sum()/n)**2\n",
        "                            \n",
        "        gini_imp = 1 - total_impurity\n",
        "\n",
        "        return gini_imp\n",
        "\n",
        "\n",
        "    def _information_gain(self, parent, left, right):\n",
        "        \"\"\"\n",
        "        Find the Information gain obtained from nodes\n",
        "\n",
        "        Parameters\n",
        "        ----------\n",
        "        parent: The following form of ndarray, shape (n_class,)\n",
        "            Containing class values of the parent node\n",
        "        \n",
        "        left: The following form of ndarray, shape (n_class,)\n",
        "            Containing class values of the left node\n",
        "\n",
        "        right: The following form of ndarray, shape (n_class,)\n",
        "            Containing class values of the right node\n",
        "\n",
        "        Returns\n",
        "        ----------\n",
        "        info_gain: float value\n",
        "            The information gain of a parent node\n",
        "\n",
        "        \"\"\"\n",
        "        # Calculate the proportion for both nodes\n",
        "        left_sample = float(len(left)/(len(left) + len(right)))\n",
        "        right_sample = 1 - left_sample\n",
        "\n",
        "        # Information gain formula\n",
        "        info_gain = parent - left_sample*self._gini_impureness(left) - right_sample*self._gini_impureness(right)\n",
        "\n",
        "        return info_gain\n",
        "\n",
        "        \n",
        "\n",
        "\n",
        "    def _find_best_gain(self, features, X):\n",
        "        \"\"\"\n",
        "        Function that traverse all of the samples of each feature to find the best information gain\n",
        "\n",
        "        -> Take all values of all features and feed it into the threshold checker (class Criterion)\n",
        "        -> Start plitting into two branches and calculate the information gain\n",
        "        -> Find out the best information gain, and it will also reveal the best criterion\n",
        "\n",
        "        Parameters\n",
        "        ----------\n",
        "        features: The list contain seperate features from the dataset (length = n_features)\n",
        "\n",
        "        X: The form of ndarray (n_sample, n_features)\n",
        "            The dataset that will be used to compare with the criterion (threshold)\n",
        "\n",
        "\n",
        "        Returns\n",
        "        ----------\n",
        "        best_gain: float\n",
        "            The best information gain achieved in this node\n",
        "\n",
        "        best_criterion: An instance of class Criterion\n",
        "            The best criterion for splitting the tree\n",
        "\n",
        "        \"\"\"\n",
        "\n",
        "        best_gain = 0\n",
        "        best_criterion = None\n",
        "\n",
        "\n",
        "        parent_gini = self._gini_impureness(X)\n",
        "        num_features = len(X[0])\n",
        "\n",
        "        for feature_index in range(num_features - 1):\n",
        "            \n",
        "            # Get all unique value of all features from the numerical dataset\n",
        "            value_feature = set([sample[feature_index] for sample in X])\n",
        "\n",
        "            for value_feature_each in value_feature:\n",
        "                # Get the criterion in this division\n",
        "                criterion = Criterion(features, feature_index, value_feature_each)\n",
        "                \n",
        "                # Split into two subset based on the criterion\n",
        "                left_data, right_data = self._split_tree(X, criterion)\n",
        "\n",
        "                # If there is no data on either side, skip this iteration of division (unequality)\n",
        "                if len(left_data) == 0 or len(right_data) == 0:\n",
        "                    continue\n",
        "\n",
        "                # Get the information gain\n",
        "                info_gain = self._information_gain(parent_gini, np.array(left_data), np.array(right_data))\n",
        "\n",
        "                # If there is a higher information gain, take this division as the righteous one\n",
        "                if info_gain >= best_gain:\n",
        "                    best_gain, best_criterion = info_gain, criterion\n",
        "\n",
        "        return best_gain, best_criterion\n",
        "\n",
        "\n",
        "    def _split_tree(self, X, criterion):\n",
        "        \"\"\"\n",
        "        Function that split a node of data into two subset based on the criterion\n",
        "        If the sample meets criterion, add it to the right branch\n",
        "        Otherwise, add the sample to the left branch\n",
        "\n",
        "        Parameters\n",
        "        ----------\n",
        "        X: The form of ndarray (n_sample, n_features)\n",
        "            The dataset that will be used to compare with the criterion (threshold)\n",
        "\n",
        "        criterion: An instance of class Criterion\n",
        "            The criterion for splitting the tree\n",
        "            \n",
        "        Returns\n",
        "        ----------\n",
        "        left_node: The form of list (length = n_sample)\n",
        "            The data subset of left node after splitting\n",
        "\n",
        "        right_node: The form of list (length = n_sample)\n",
        "            The data subset of right nodea fter splitting\n",
        "\n",
        "        \"\"\"\n",
        "\n",
        "        left_node = []\n",
        "        right_node = []\n",
        "\n",
        "        for sample in X:\n",
        "            # The function meet of class Criterion will compare the local threshold with this input sample value\n",
        "\n",
        "            # If (sample > threshold), append the data to the right node\n",
        "            if criterion.meet(sample): # Boolean\n",
        "                right_node.append(sample)\n",
        "\n",
        "            # If (sample < threshold), append the data to the left node\n",
        "            else:\n",
        "                left_node.append(sample)\n",
        "\n",
        "        return left_node, right_node\n",
        "\n",
        "\n",
        "    def _decision_branching(self, node, X):\n",
        "        \"\"\"\n",
        "        Estimate the label using a decision tree classifier\n",
        "\n",
        "        Parameters\n",
        "        ----------\n",
        "        node: An instance of class DTNode\n",
        "            The root node of the tree where train data start traverse\n",
        "\n",
        "        X: The following form of ndarray, shape (n_sample, n_feature)\n",
        "            Containing class values of the dataset\n",
        "\n",
        "        Returns\n",
        "        ----------\n",
        "        node: An instance of class DTNode\n",
        "            The reached leaf node\n",
        "\n",
        "        \"\"\"\n",
        "\n",
        "        # If reach the leaf, return the predictions\n",
        "        if isinstance(node, DTLeaf): # If this node is a Leaf\n",
        "            return node.y_pred # return predictions\n",
        "            \n",
        "        # If (sample > threshold), jump to the right branch\n",
        "        if node.criterion.meet(X):\n",
        "            return self._decision_branching(node.right_br, X)\n",
        "\n",
        "        # If (sample < threshold), jump to the left branch\n",
        "        else:\n",
        "            return self._decision_branching(node.left_br, X)"
      ],
      "execution_count": null,
      "outputs": []
    },
    {
      "cell_type": "markdown",
      "metadata": {
        "id": "7j3IjEjM5bQD"
      },
      "source": [
        "### **[Problem 5] Learning and Estimation**"
      ]
    },
    {
      "cell_type": "markdown",
      "metadata": {
        "id": "a30kdFdC5iyP"
      },
      "source": [
        "**Learning**"
      ]
    },
    {
      "cell_type": "markdown",
      "metadata": {
        "id": "M6-HmUa58P7G"
      },
      "source": [
        "Since there are no certain name for the two features of the dataset we are using, let just assume the dataset has two feature: Feature 1 and Feature 2."
      ]
    },
    {
      "cell_type": "code",
      "metadata": {
        "id": "SLbFSQYr70h0"
      },
      "source": [
        "test_feature = ['Feature 1', 'Feature 2']"
      ],
      "execution_count": null,
      "outputs": []
    },
    {
      "cell_type": "code",
      "metadata": {
        "colab": {
          "base_uri": "https://localhost:8080/"
        },
        "id": "9GsYdhIm5iJU",
        "outputId": "74e953db-22ef-48c9-dd70-75e9974f9606"
      },
      "source": [
        "scratch_dt_model = ScratchDecesionTreeClassifierDepth1(verbose=True)\n",
        "scratch_dt_model.fit(X_set3_train, y_set3_train, test_feature)"
      ],
      "execution_count": null,
      "outputs": [
        {
          "output_type": "stream",
          "text": [
            " The value Feature 2 >= 0.12246219304578074?\n",
            "[[ 1.1781688  -0.29625619  1.        ]\n",
            " [ 1.23410593  0.12246219  0.        ]]\n",
            " The value Feature 1 >= 1.1781688009093745?\n",
            "[[ 0.4734886  -0.18171051  0.        ]\n",
            " [ 0.7483186   0.28846113  0.        ]\n",
            " [ 0.7397116  -0.48339993  0.        ]\n",
            " [ 1.1781688  -0.29625619  1.        ]\n",
            " [-1.21497476 -0.06084976  0.        ]\n",
            " [ 0.7275142  -0.41397301  0.        ]\n",
            " [ 1.23410593  0.12246219  0.        ]\n",
            " [ 0.89327234 -0.09030714  0.        ]]\n",
            " The value Feature 1 >= -1.2149747592495388?\n",
            "[[ 0.4734886  -0.18171051  0.        ]\n",
            " [ 0.7483186   0.28846113  0.        ]\n",
            " [ 0.7397116  -0.48339993  0.        ]\n",
            " [ 1.1781688  -0.29625619  1.        ]\n",
            " [-1.21497476 -0.06084976  0.        ]\n",
            " [ 0.7275142  -0.41397301  0.        ]\n",
            " [-3.2923621  -0.42412958  1.        ]\n",
            " [ 1.23410593  0.12246219  0.        ]\n",
            " [ 0.89327234 -0.09030714  0.        ]]\n",
            " The value Feature 2 >= 1.2601077377074654?\n",
            "[[ 0.08025835  1.08895959  0.        ]\n",
            " [ 0.05227314  1.26010774  1.        ]\n",
            " [-1.01048238  2.0049947   1.        ]\n",
            " [-0.75571317  1.06548695  0.        ]\n",
            " [-0.29645158  2.49164382  1.        ]]\n",
            " The value Feature 1 >= 0.34647580429094715?\n",
            "[[ 0.9513959   1.40362502  1.        ]\n",
            " [ 0.08025835  1.08895959  0.        ]\n",
            " [ 0.3464758   1.19633523  1.        ]\n",
            " [ 0.74688687  0.48442266  1.        ]\n",
            " [ 0.05227314  1.26010774  1.        ]\n",
            " [ 0.9513959   0.97806693  1.        ]\n",
            " [-1.01048238  2.0049947   1.        ]\n",
            " [-0.75571317  1.06548695  0.        ]\n",
            " [ 0.44622092  0.50690431  1.        ]\n",
            " [ 0.71746439  0.57615636  1.        ]\n",
            " [-0.29645158  2.49164382  1.        ]]\n",
            " The value Feature 2 >= 0.4844226563572152?\n",
            "[[ 0.9513959   1.40362502  1.        ]\n",
            " [ 0.4734886  -0.18171051  0.        ]\n",
            " [ 0.08025835  1.08895959  0.        ]\n",
            " [ 0.3464758   1.19633523  1.        ]\n",
            " [ 0.7483186   0.28846113  0.        ]\n",
            " [ 0.74688687  0.48442266  1.        ]\n",
            " [ 0.7397116  -0.48339993  0.        ]\n",
            " [ 0.05227314  1.26010774  1.        ]\n",
            " [ 1.1781688  -0.29625619  1.        ]\n",
            " [-1.21497476 -0.06084976  0.        ]\n",
            " [ 0.7275142  -0.41397301  0.        ]\n",
            " [-3.2923621  -0.42412958  1.        ]\n",
            " [ 0.9513959   0.97806693  1.        ]\n",
            " [ 1.23410593  0.12246219  0.        ]\n",
            " [-1.01048238  2.0049947   1.        ]\n",
            " [-0.75571317  1.06548695  0.        ]\n",
            " [ 0.44622092  0.50690431  1.        ]\n",
            " [ 0.89327234 -0.09030714  0.        ]\n",
            " [ 0.71746439  0.57615636  1.        ]\n",
            " [-0.29645158  2.49164382  1.        ]]\n",
            " The value Feature 2 >= -0.48339993053931624?\n",
            "[[ 0.9513959   1.40362502  1.        ]\n",
            " [ 0.4734886  -0.18171051  0.        ]\n",
            " [-0.69256193 -0.82621698  1.        ]\n",
            " [ 0.6091084  -0.56181835  1.        ]\n",
            " [ 0.08025835  1.08895959  0.        ]\n",
            " [ 0.3464758   1.19633523  1.        ]\n",
            " [ 0.7483186   0.28846113  0.        ]\n",
            " [ 0.74688687  0.48442266  1.        ]\n",
            " [ 0.7397116  -0.48339993  0.        ]\n",
            " [ 0.05227314  1.26010774  1.        ]\n",
            " [ 1.1781688  -0.29625619  1.        ]\n",
            " [ 0.69306958 -0.61742712  1.        ]\n",
            " [-1.21996915 -0.90961479  1.        ]\n",
            " [-1.21497476 -0.06084976  0.        ]\n",
            " [ 0.7275142  -0.41397301  0.        ]\n",
            " [-3.2923621  -0.42412958  1.        ]\n",
            " [ 0.9513959   0.97806693  1.        ]\n",
            " [ 1.23410593  0.12246219  0.        ]\n",
            " [-1.01048238  2.0049947   1.        ]\n",
            " [-0.75571317  1.06548695  0.        ]\n",
            " [ 0.44622092  0.50690431  1.        ]\n",
            " [ 0.89327234 -0.09030714  0.        ]\n",
            " [ 0.71746439  0.57615636  1.        ]\n",
            " [-0.29645158  2.49164382  1.        ]\n",
            " [ 0.49573582 -0.61143266  1.        ]]\n",
            " The value Feature 2 >= -0.9096147883149042?\n",
            "[[ 0.9513959   1.40362502  1.        ]\n",
            " [ 0.09676203 -1.13687964  0.        ]\n",
            " [ 0.4734886  -0.18171051  0.        ]\n",
            " [-0.69256193 -0.82621698  1.        ]\n",
            " [ 0.6091084  -0.56181835  1.        ]\n",
            " [ 0.08025835  1.08895959  0.        ]\n",
            " [ 0.3464758   1.19633523  1.        ]\n",
            " [ 0.7483186   0.28846113  0.        ]\n",
            " [ 0.74688687  0.48442266  1.        ]\n",
            " [ 0.7397116  -0.48339993  0.        ]\n",
            " [ 0.05227314  1.26010774  1.        ]\n",
            " [ 1.1781688  -0.29625619  1.        ]\n",
            " [ 0.69306958 -0.61742712  1.        ]\n",
            " [-1.21996915 -0.90961479  1.        ]\n",
            " [-1.21497476 -0.06084976  0.        ]\n",
            " [ 0.7275142  -0.41397301  0.        ]\n",
            " [-1.86152585 -1.40143255  0.        ]\n",
            " [-3.2923621  -0.42412958  1.        ]\n",
            " [ 0.9513959   0.97806693  1.        ]\n",
            " [ 1.23410593  0.12246219  0.        ]\n",
            " [-0.39694973 -1.0333319   0.        ]\n",
            " [-1.01048238  2.0049947   1.        ]\n",
            " [-0.75571317  1.06548695  0.        ]\n",
            " [ 0.44622092  0.50690431  1.        ]\n",
            " [ 0.89327234 -0.09030714  0.        ]\n",
            " [ 0.16636713 -1.10108775  0.        ]\n",
            " [-0.03311977 -0.98570654  0.        ]\n",
            " [-1.5802309  -1.33501743  0.        ]\n",
            " [ 0.71746439  0.57615636  1.        ]\n",
            " [ 0.00634698 -0.99703481  0.        ]\n",
            " [-0.29645158  2.49164382  1.        ]\n",
            " [ 0.49573582 -0.61143266  1.        ]]\n"
          ],
          "name": "stdout"
        },
        {
          "output_type": "execute_result",
          "data": {
            "text/plain": [
              "<__main__.DTNode at 0x7fda3d835b10>"
            ]
          },
          "metadata": {
            "tags": []
          },
          "execution_count": 81
        }
      ]
    },
    {
      "cell_type": "markdown",
      "metadata": {
        "id": "lCOm47uq2Reo"
      },
      "source": [
        "**Estimation**"
      ]
    },
    {
      "cell_type": "code",
      "metadata": {
        "id": "mvNvbRvMXYkN",
        "colab": {
          "base_uri": "https://localhost:8080/"
        },
        "outputId": "f61df706-580f-4dde-88f5-78e683c10dfd"
      },
      "source": [
        "# Use the predict for the predicted labels\n",
        "predicted = scratch_dt_model.predict(X_set3_val)\n",
        "for i in range(len(y_set3_val)):\n",
        "    print(f\"Actual: {y_set3_val[i]}, predicted: {int(predicted[i])}\")"
      ],
      "execution_count": null,
      "outputs": [
        {
          "output_type": "stream",
          "text": [
            "Actual: 1, predicted: 0\n",
            "Actual: 0, predicted: 0\n",
            "Actual: 0, predicted: 1\n",
            "Actual: 0, predicted: 0\n",
            "Actual: 1, predicted: 1\n",
            "Actual: 0, predicted: 0\n",
            "Actual: 1, predicted: 1\n",
            "Actual: 1, predicted: 0\n"
          ],
          "name": "stdout"
        }
      ]
    },
    {
      "cell_type": "code",
      "metadata": {
        "colab": {
          "base_uri": "https://localhost:8080/"
        },
        "id": "8tPBfx93I6G-",
        "outputId": "686ac37e-035f-4964-9b25-1d10f7a3909e"
      },
      "source": [
        "# Testing out the metrics\n",
        "from sklearn.metrics import accuracy_score, precision_score, recall_score, f1_score, confusion_matrix\n",
        "\n",
        "acc_score = accuracy_score(y_set3_val, predicted)\n",
        "prec_score = precision_score(y_set3_val, predicted)\n",
        "rec_score = recall_score(y_set3_val, predicted)\n",
        "f_score = f1_score(y_set3_val, predicted)\n",
        "conf_matrix = confusion_matrix(y_set3_val, predicted)\n",
        "print(\"Accuracy score: {}\\n Precision score: {}\\n Recall score: {}\\n F1 score: {}\\n Confusion matrix: \\n{}\".format(acc_score, prec_score, rec_score, f_score, conf_matrix))"
      ],
      "execution_count": null,
      "outputs": [
        {
          "output_type": "stream",
          "text": [
            "Accuracy score: 0.625\n",
            " Precision score: 0.6666666666666666\n",
            " Recall score: 0.5\n",
            " F1 score: 0.5714285714285715\n",
            " Confusion matrix: \n",
            "[[3 1]\n",
            " [2 2]]\n"
          ],
          "name": "stdout"
        }
      ]
    },
    {
      "cell_type": "markdown",
      "metadata": {
        "id": "6B-KYyFUKMWk"
      },
      "source": [
        "**Scikit-learn Decision Tree Classifier**"
      ]
    },
    {
      "cell_type": "code",
      "metadata": {
        "colab": {
          "base_uri": "https://localhost:8080/"
        },
        "id": "O2fP88HlKuL2",
        "outputId": "e27a2aa1-b78d-484f-c97f-1e3cdce15c91"
      },
      "source": [
        "from sklearn.tree import DecisionTreeClassifier\n",
        "clf = DecisionTreeClassifier(random_state=0)\n",
        "clf.fit(X_set3_train, y_set3_train)\n",
        "y_scikit_pred = clf.predict(X_set3_val)\n",
        "acc_score_scikit = accuracy_score(y_set3_val, np.array(y_scikit_pred))\n",
        "print(\"Accuracy score (Scikit-learn): {}\".format(acc_score_scikit))"
      ],
      "execution_count": null,
      "outputs": [
        {
          "output_type": "stream",
          "text": [
            "Accuracy score (Scikit-learn): 0.625\n"
          ],
          "name": "stdout"
        }
      ]
    },
    {
      "cell_type": "markdown",
      "metadata": {
        "id": "rE2g8ACVLRZh"
      },
      "source": [
        "The accuracy of our scratch implementation is quite good. However, during the implementation of this Scratch Decision Tree, I have encountered several errors in estimation, that is, the accuracy of the scratch version sometimes will lower than the skikit-learn version. This is maybe due to the randomness of our dataset each time we test it."
      ]
    },
    {
      "cell_type": "markdown",
      "metadata": {
        "id": "TKrLPBnX5KaF"
      },
      "source": [
        "### **[Problem 6] Visualiztion of decision area**"
      ]
    },
    {
      "cell_type": "markdown",
      "metadata": {
        "id": "7oI7Fv8HvPOx"
      },
      "source": [
        "**Using decision region plotting scratch**"
      ]
    },
    {
      "cell_type": "code",
      "metadata": {
        "id": "KL_-ve-XvJ1U"
      },
      "source": [
        "from matplotlib.colors import ListedColormap\n",
        "import matplotlib.patches as mpatches\n",
        "import numpy as np\n",
        "def decision_region(X, y, model, step=0.01, title='decision region', xlabel='xlabel', ylabel='ylabel', target_names=['versicolor', 'virginica']):\n",
        "    \"\"\"\n",
        "    Draw the determination area of the model that learned binary classification with two-dimensional features.\n",
        "    The background color is drawn from the estimated values of the trained model.\n",
        "    The points on the scatter plot are training or validation data.\n",
        "    Parameters\n",
        "    ----------------\n",
        "    X : ndarray, shape(n_samples, 2)\n",
        "        Feature value\n",
        "    y : ndarray, shape(n_samples,)\n",
        "        label\n",
        "    model : object\n",
        "        Insert the installed model of the learned model\n",
        "    step : float, (default : 0.1)\n",
        "        Set the interval to calculate the estimate\n",
        "    title : str\n",
        "        Give the text of the graph Title\n",
        "    xlabel, ylabel : str\n",
        "        Give the text of the axis label\n",
        "    target_names= : list of str\n",
        "        Give a list of legends\n",
        "    \"\"\"\n",
        "    # setting\n",
        "    scatter_color = ['tab:red', 'tab:blue']\n",
        "    contourf_color = ['darkred', 'skyblue']\n",
        "    n_class = 2\n",
        "    # pred\n",
        "    mesh_f0, mesh_f1  = np.meshgrid(np.arange(np.min(X[:,0])-0.5, np.max(X[:,0])+0.5, step), np.arange(np.min(X[:,1])-0.5, np.max(X[:,1])+0.5, step))\n",
        "    mesh = np.c_[np.ravel(mesh_f0),np.ravel(mesh_f1)]\n",
        "    y_pred = model.predict(mesh).reshape(mesh_f0.shape)\n",
        "    # plot\n",
        "    plt.title(title)\n",
        "    plt.xlabel(xlabel)\n",
        "    plt.ylabel(ylabel)\n",
        "    c = plt.contourf(mesh_f0, mesh_f1, y_pred, n_class-1, cmap=plt.cm.rainbow)\n",
        "    plt.contour(mesh_f0, mesh_f1, y_pred, n_class-1, colors='darkblue', linewidths=1.5, alpha=0.8)\n",
        "    plt.colorbar(c)\n",
        "    for i, target in enumerate(set(y)):\n",
        "        plt.scatter(X[y==target][:, 0], X[y==target][:, 1], s=30, cmap=plt.cm.coolwarm, label=target_names[i], marker='o', edgecolors='k')\n",
        "\n",
        "\n",
        "    patches = [mpatches.Patch(color=scatter_color[i], label=target_names[i]) for i in range(n_class)]\n",
        "    plt.legend(handles=patches)\n",
        "    plt.legend()\n",
        "    plt.show()"
      ],
      "execution_count": null,
      "outputs": []
    },
    {
      "cell_type": "markdown",
      "metadata": {
        "id": "8c7yzJK-TtMz"
      },
      "source": [
        "**Decision area of scratch version**"
      ]
    },
    {
      "cell_type": "code",
      "metadata": {
        "id": "_CrQ6d_SvQkY",
        "colab": {
          "base_uri": "https://localhost:8080/",
          "height": 295
        },
        "outputId": "c234b6cd-0c2f-44fb-d18a-71b186f50555"
      },
      "source": [
        "decision_region(X_set3_val, y_set3_val, scratch_dt_model);"
      ],
      "execution_count": null,
      "outputs": [
        {
          "output_type": "display_data",
          "data": {
            "image/png": "[encoded data removed]",
            "text/plain": [
              "<Figure size 432x288 with 2 Axes>"
            ]
          },
          "metadata": {
            "tags": [],
            "needs_background": "light"
          }
        }
      ]
    },
    {
      "cell_type": "markdown",
      "metadata": {
        "id": "IfqOZhNLt3ET"
      },
      "source": [
        "**Decision area of scikit-learn version**"
      ]
    },
    {
      "cell_type": "code",
      "metadata": {
        "id": "7jZOt_W_t2Q7",
        "colab": {
          "base_uri": "https://localhost:8080/",
          "height": 295
        },
        "outputId": "3d2ce8ce-4010-4a1c-feb1-b6dbd7a37c01"
      },
      "source": [
        "decision_region(X_set3_val, y_set3_val, clf);"
      ],
      "execution_count": null,
      "outputs": [
        {
          "output_type": "display_data",
          "data": {
            "image/png": "[encoded data removed]",
            "text/plain": [
              "<Figure size 432x288 with 2 Axes>"
            ]
          },
          "metadata": {
            "tags": [],
            "needs_background": "light"
          }
        }
      ]
    }
  ]
}