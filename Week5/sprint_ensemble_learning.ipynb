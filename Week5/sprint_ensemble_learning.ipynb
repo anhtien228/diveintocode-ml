{
  "nbformat": 4,
  "nbformat_minor": 0,
  "metadata": {
    "colab": {
      "name": "sprint_ensemble_learning.ipynb",
      "provenance": [],
      "collapsed_sections": []
    },
    "kernelspec": {
      "name": "python3",
      "display_name": "Python 3"
    },
    "language_info": {
      "name": "python"
    }
  },
  "cells": [
    {
      "cell_type": "markdown",
      "metadata": {
        "id": "EQ9oEAn43Wnk"
      },
      "source": [
        "# **DIVE INTO CODE COURSE**\n",
        "## **Sprint Machine Learning Ensemble Learning**\n",
        "**Student Name**: Doan Anh Tien<br>\n",
        "**Student ID**: 1852789<br>\n",
        "**Email**: tien.doan.g0pr0@hcmut.edu.vn"
      ]
    },
    {
      "cell_type": "code",
      "metadata": {
        "id": "XJt2HavErNQs"
      },
      "source": [
        "import matplotlib.pyplot as plt\n",
        "import pandas as pd\n",
        "import numpy as np\n",
        "import math\n",
        "import seaborn as sns\n",
        "import random"
      ],
      "execution_count": 1,
      "outputs": []
    },
    {
      "cell_type": "code",
      "metadata": {
        "id": "TgZ0wYPdBWN3"
      },
      "source": [
        "! pip install -q kaggle"
      ],
      "execution_count": null,
      "outputs": []
    },
    {
      "cell_type": "code",
      "metadata": {
        "colab": {
          "resources": {
            "http://localhost:8080/nbextensions/google.colab/files.js": {
              "data": "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",
              "ok": true,
              "headers": [
                [
                  "content-type",
                  "application/javascript"
                ]
              ],
              "status": 200,
              "status_text": ""
            }
          },
          "base_uri": "https://localhost:8080/",
          "height": 89
        },
        "id": "yQIGYRIjDNhi",
        "outputId": "a63cfdb5-e861-4bec-b196-3acfb45f4c77"
      },
      "source": [
        "from google.colab import files\n",
        "files.upload()"
      ],
      "execution_count": 2,
      "outputs": [
        {
          "output_type": "display_data",
          "data": {
            "text/html": [
              "\n",
              "     <input type=\"file\" id=\"files-1c4b2896-94a4-45db-8593-e0c4dc13e89e\" name=\"files[]\" multiple disabled\n",
              "        style=\"border:none\" />\n",
              "     <output id=\"result-1c4b2896-94a4-45db-8593-e0c4dc13e89e\">\n",
              "      Upload widget is only available when the cell has been executed in the\n",
              "      current browser session. Please rerun this cell to enable.\n",
              "      </output>\n",
              "      <script src=\"/nbextensions/google.colab/files.js\"></script> "
            ],
            "text/plain": [
              "<IPython.core.display.HTML object>"
            ]
          },
          "metadata": {
            "tags": []
          }
        },
        {
          "output_type": "stream",
          "text": [
            "Saving kaggle.json to kaggle.json\n"
          ],
          "name": "stdout"
        },
        {
          "output_type": "execute_result",
          "data": {
            "text/plain": [
              "{'kaggle.json': b'{\"username\":\"atien228\",\"key\":\"ddfcb28e1466be0be321d2cc7b11510f\"}'}"
            ]
          },
          "metadata": {
            "tags": []
          },
          "execution_count": 2
        }
      ]
    },
    {
      "cell_type": "code",
      "metadata": {
        "id": "XU-jN8NpGsHE"
      },
      "source": [
        "! cp kaggle.json ~/.kaggle/"
      ],
      "execution_count": 5,
      "outputs": []
    },
    {
      "cell_type": "code",
      "metadata": {
        "id": "JpEYPJ8PDYx2"
      },
      "source": [
        "! chmod 600 ~/.kaggle/kaggle.json"
      ],
      "execution_count": 6,
      "outputs": []
    },
    {
      "cell_type": "code",
      "metadata": {
        "colab": {
          "base_uri": "https://localhost:8080/"
        },
        "id": "DLoDYcrKEJGd",
        "outputId": "d96446d9-3950-4970-e683-bd3f26c77074"
      },
      "source": [
        "! kaggle competitions download -c house-prices-advanced-regression-techniques"
      ],
      "execution_count": 7,
      "outputs": [
        {
          "output_type": "stream",
          "text": [
            "Warning: Looks like you're using an outdated API Version, please consider updating (server 1.5.12 / client 1.5.4)\n",
            "Downloading data_description.txt to /content\n",
            "  0% 0.00/13.1k [00:00<?, ?B/s]\n",
            "100% 13.1k/13.1k [00:00<00:00, 25.1MB/s]\n",
            "Downloading test.csv to /content\n",
            "  0% 0.00/441k [00:00<?, ?B/s]\n",
            "100% 441k/441k [00:00<00:00, 61.4MB/s]\n",
            "Downloading sample_submission.csv to /content\n",
            "  0% 0.00/31.2k [00:00<?, ?B/s]\n",
            "100% 31.2k/31.2k [00:00<00:00, 26.8MB/s]\n",
            "Downloading train.csv to /content\n",
            "  0% 0.00/450k [00:00<?, ?B/s]\n",
            "100% 450k/450k [00:00<00:00, 29.8MB/s]\n"
          ],
          "name": "stdout"
        }
      ]
    },
    {
      "cell_type": "markdown",
      "metadata": {
        "id": "4Xzu9ibBPUUY"
      },
      "source": [
        "---"
      ]
    },
    {
      "cell_type": "markdown",
      "metadata": {
        "id": "00RrBme7VvhV"
      },
      "source": [
        "### **[Problem 1] Blending scratch mounting**"
      ]
    },
    {
      "cell_type": "markdown",
      "metadata": {
        "id": "K9C11TZry1Er"
      },
      "source": [
        "**1. First feature selection**"
      ]
    },
    {
      "cell_type": "markdown",
      "metadata": {
        "id": "Nsvbpqff7v-S"
      },
      "source": [
        "**Dataset Preparation**"
      ]
    },
    {
      "cell_type": "code",
      "metadata": {
        "id": "q9fRVEER7w9I",
        "colab": {
          "base_uri": "https://localhost:8080/"
        },
        "outputId": "68414632-a6dc-4e5d-e3c6-ad02c7d6ccf2"
      },
      "source": [
        "df_train = pd.read_csv('/content/train.csv')\n",
        "df_test = pd.read_csv('/content/test.csv')\n",
        "print(\"Train dataset -- Rows: {}, Columns: {}\".format(df_train.shape[0], df_train.shape[1]))\n",
        "print(\"Test dataset -- Rows: {}, Columns: {}\".format(df_test.shape[0], df_test.shape[1]))"
      ],
      "execution_count": 8,
      "outputs": [
        {
          "output_type": "stream",
          "text": [
            "Train dataset -- Rows: 1460, Columns: 81\n",
            "Test dataset -- Rows: 1459, Columns: 80\n"
          ],
          "name": "stdout"
        }
      ]
    },
    {
      "cell_type": "code",
      "metadata": {
        "id": "eUA4e-S8TrKz"
      },
      "source": [
        "target = df_train['SalePrice']"
      ],
      "execution_count": 39,
      "outputs": []
    },
    {
      "cell_type": "code",
      "metadata": {
        "id": "hsKGGbbmTsyF"
      },
      "source": [
        "df_train_f = df_train[['GrLivArea', 'YearBuilt']]"
      ],
      "execution_count": 40,
      "outputs": []
    },
    {
      "cell_type": "code",
      "metadata": {
        "id": "-N61GQLVTuNw"
      },
      "source": [
        "from sklearn.model_selection import train_test_split\n",
        "X_house_train, X_house_test, y_house_train, y_house_test = train_test_split(df_train_f, target, train_size=0.7, random_state=1)"
      ],
      "execution_count": 41,
      "outputs": []
    },
    {
      "cell_type": "code",
      "metadata": {
        "colab": {
          "base_uri": "https://localhost:8080/"
        },
        "id": "v8FLjtJDgm6m",
        "outputId": "cd63a140-894d-46a3-b242-c456e2b91cfb"
      },
      "source": [
        "print(\"Train dataset: {}\".format(X_house_train.shape))\n",
        "print(\"Test dataset: {}\".format(X_house_test.shape))"
      ],
      "execution_count": 42,
      "outputs": [
        {
          "output_type": "stream",
          "text": [
            "Train dataset: (1021, 2)\n",
            "Test dataset: (439, 2)\n"
          ],
          "name": "stdout"
        }
      ]
    },
    {
      "cell_type": "code",
      "metadata": {
        "id": "-_dpTnsqUfZy"
      },
      "source": [
        "from sklearn.preprocessing import StandardScaler\n",
        "sc = StandardScaler()\n",
        "X_house_train = sc.fit_transform(X_house_train)\n",
        "X_house_test = sc.fit_transform(X_house_test)"
      ],
      "execution_count": 43,
      "outputs": []
    },
    {
      "cell_type": "markdown",
      "metadata": {
        "id": "QKagh4msV08y"
      },
      "source": [
        "The target of the dataset is to predict the price of house based on provided features. At this point, using Regression technique is the most suitable approach. We will first implement the the standalone Regression model, using Linear Regression in order to compared with the ensemble model.\n",
        "\n",
        "For each run, we will use different features for accuracy metrics comparision. The ensemble model works from the point where the all of the estimator will train the data "
      ]
    },
    {
      "cell_type": "code",
      "metadata": {
        "id": "UPbLKXYtXslA"
      },
      "source": [
        "from sklearn.metrics import mean_squared_error\n",
        "from sklearn.linear_model import LinearRegression\n",
        "from sklearn.neighbors import KNeighborsRegressor\n",
        "from sklearn.tree import DecisionTreeRegressor\n",
        "from sklearn.svm import SVR\n",
        "from numpy import hstack"
      ],
      "execution_count": 22,
      "outputs": []
    },
    {
      "cell_type": "markdown",
      "metadata": {
        "id": "00_SOesdYJIB"
      },
      "source": [
        "**Standalone model**"
      ]
    },
    {
      "cell_type": "code",
      "metadata": {
        "id": "mKZCrNftVxa6"
      },
      "source": [
        "def retrieve_models():\n",
        "    models = {}\n",
        "    models['Linear Regression'] = LinearRegression()\n",
        "    models['KNeighbors'] = KNeighborsRegressor()\n",
        "    models['Decision Tree'] = DecisionTreeRegressor()\n",
        "    models['SVM'] = SVR()\n",
        "\n",
        "    return models"
      ],
      "execution_count": 45,
      "outputs": []
    },
    {
      "cell_type": "code",
      "metadata": {
        "id": "JMVpE3UWql9p"
      },
      "source": [
        "standalone_models = retrieve_models()"
      ],
      "execution_count": 46,
      "outputs": []
    },
    {
      "cell_type": "code",
      "metadata": {
        "colab": {
          "base_uri": "https://localhost:8080/"
        },
        "id": "1Goenv_XqTzC",
        "outputId": "1c0f31f4-d0c5-486d-ae74-df6f3e7b03eb"
      },
      "source": [
        "standalone_mse = {}\n",
        "\n",
        "for name, model in standalone_models.items():\n",
        "    model.fit(X_house_train, y_house_train)\n",
        "    y_pred = model.predict(X_house_test)\n",
        "    mse = mean_squared_error(y_house_test, y_pred)\n",
        "    standalone_mse[name] = mse\n",
        "    print(\"{} MSE: {}\".format(name, mse))"
      ],
      "execution_count": 47,
      "outputs": [
        {
          "output_type": "stream",
          "text": [
            "Linear Regression MSE: 2045601786.2250392\n",
            "KNeighbors MSE: 1941208867.6051934\n",
            "Decision Tree MSE: 3859759801.8213115\n",
            "SVM MSE: 7377896914.681474\n"
          ],
          "name": "stdout"
        }
      ]
    },
    {
      "cell_type": "markdown",
      "metadata": {
        "id": "QYzQy7A8Vx_S"
      },
      "source": [
        "**Ensemble model**"
      ]
    },
    {
      "cell_type": "markdown",
      "metadata": {
        "id": "MmuKnMOSZ5gj"
      },
      "source": [
        "We will create a class for ensemble learning. Specifically, I would like to implement the ensemble model using base form as a combination of these three models: Decision Tree Regressor, KNeighbors Regressor and Support Vector Regressor."
      ]
    },
    {
      "cell_type": "code",
      "metadata": {
        "id": "5moE2QIRZVKz"
      },
      "source": [
        "class BlendModel():\n",
        "    def __init__(self, models, weights):\n",
        "        self.models = models\n",
        "        self.weights = weights\n",
        "        \n",
        "    def fit(self, X_train, y_train):\n",
        "        self.models_copy = [x for x in self.models.values()]\n",
        "        \n",
        "        for model in self.models_copy:\n",
        "            model.fit(X_train, y_train)\n",
        "    \n",
        "    def predict(self, X_test):\n",
        "        y_pred = np.column_stack([\n",
        "            model.predict(X_test) for model in self.models_copy\n",
        "        ])\n",
        "        return np.sum(y_pred*self.weights, axis=1)"
      ],
      "execution_count": 48,
      "outputs": []
    },
    {
      "cell_type": "markdown",
      "metadata": {
        "id": "0wYjJ1eahrzl"
      },
      "source": [
        "**Training**"
      ]
    },
    {
      "cell_type": "code",
      "metadata": {
        "id": "_L82iA-9k5Or"
      },
      "source": [
        "base_list = retrieve_models()"
      ],
      "execution_count": 49,
      "outputs": []
    },
    {
      "cell_type": "code",
      "metadata": {
        "colab": {
          "base_uri": "https://localhost:8080/"
        },
        "id": "TjAAvX6gvCrq",
        "outputId": "66ebbcf1-64f2-4477-83c5-e6e5756fedb9"
      },
      "source": [
        "print(\"The base model used: \\n{}\".format(list(base_list.keys())))"
      ],
      "execution_count": 50,
      "outputs": [
        {
          "output_type": "stream",
          "text": [
            "The base model used: \n",
            "['Linear Regression', 'KNeighbors', 'Decision Tree', 'SVM']\n"
          ],
          "name": "stdout"
        }
      ]
    },
    {
      "cell_type": "markdown",
      "metadata": {
        "id": "tn64lOSjsguk"
      },
      "source": [
        "We will assign the weights for Linear Regression (0.35), KNeighbors Regression (0.4), Decision Tree Regression (0.2) and SVR (0.05) based on their standalone performance with the MSE metrics."
      ]
    },
    {
      "cell_type": "code",
      "metadata": {
        "colab": {
          "base_uri": "https://localhost:8080/"
        },
        "id": "X5TG5WNdhuiR",
        "outputId": "39d9c5b4-3257-4020-ab67-097b59f4bb34"
      },
      "source": [
        "blend_model = BlendModel(base_list, [0.35, 0.4, 0.2, 0.05])\n",
        "blend_model.fit(X_house_train, y_house_train)\n",
        "blend_pred = blend_model.predict(X_house_test)\n",
        "blend_mse = mean_squared_error(y_house_test, blend_pred)\n",
        "\n",
        "print(\"Blending MSE: {}\".format(blend_mse))"
      ],
      "execution_count": 51,
      "outputs": [
        {
          "output_type": "stream",
          "text": [
            "Blending MSE: 1918774926.4734585\n"
          ],
          "name": "stdout"
        }
      ]
    },
    {
      "cell_type": "markdown",
      "metadata": {
        "id": "UwMcQbnLyGbg"
      },
      "source": [
        "**Comparing the MSE ratio**\n",
        "\n",
        "The ratio between blended predictions and standalone predictions, the less the ratio is, the higher accuracy the blend model performed compared to the corresponding standalone model."
      ]
    },
    {
      "cell_type": "code",
      "metadata": {
        "colab": {
          "base_uri": "https://localhost:8080/"
        },
        "id": "upJkxASIxHNh",
        "outputId": "bf5d0ab6-75be-4bc5-eca8-4bd5c775c874"
      },
      "source": [
        "for key, values in standalone_mse.items():\n",
        "    print(\"Blended with {}: {:.2f}\".format(key, blend_mse/values))"
      ],
      "execution_count": 52,
      "outputs": [
        {
          "output_type": "stream",
          "text": [
            "Blended with Linear Regression: 0.94\n",
            "Blended with KNeighbors: 0.99\n",
            "Blended with Decision Tree: 0.50\n",
            "Blended with SVM: 0.26\n"
          ],
          "name": "stdout"
        }
      ]
    },
    {
      "cell_type": "markdown",
      "metadata": {
        "id": "bGJ71p2Wyotb"
      },
      "source": [
        "As a result, the blended model performs well compared to the other single models, but only work slightly better than LR and KNeighbors."
      ]
    },
    {
      "cell_type": "markdown",
      "metadata": {
        "id": "h3ETArqkzNs0"
      },
      "source": [
        "**2. Second feature selection**"
      ]
    },
    {
      "cell_type": "code",
      "metadata": {
        "id": "0ovf7EYhzlgB"
      },
      "source": [
        "def blend_and_compare(model_list, X_train, y_train, X_test, y_test):\n",
        "\n",
        "    print(\"------- STANDALONE MODELS -------\\n\")\n",
        "    standalone_models = model_list\n",
        "    standalone_mse = {}\n",
        "  \n",
        "    for name, model in standalone_models.items():\n",
        "        model.fit(X_train, y_train)\n",
        "        y_pred = model.predict(X_test)\n",
        "        mse = mean_squared_error(y_test, y_pred)\n",
        "        standalone_mse[name] = mse\n",
        "        print(\"{} MSE: {}\".format(name, mse))\n",
        "\n",
        "\n",
        "    print(\"\\n------- BLENDING MODELS -------\\n\")\n",
        "    base_list = model_list\n",
        "    print(\"The base model used: \\n{}\".format(list(base_list.keys())))\n",
        "    blend_model = BlendModel(base_list, [0.35, 0.4, 0.2, 0.05])\n",
        "    blend_model.fit(X_train, y_train)\n",
        "    blend_pred = blend_model.predict(X_test)\n",
        "    blend_mse = mean_squared_error(y_test, blend_pred)\n",
        "    print(\"Blending MSE: {}\".format(blend_mse))\n",
        "\n",
        "\n",
        "    print(\"\\n------- COMPARING MODELS -------\\n\")\n",
        "    for key, values in standalone_mse.items():\n",
        "      print(\"Blended with {}: {:.2f}\".format(key, blend_mse/values))"
      ],
      "execution_count": 53,
      "outputs": []
    },
    {
      "cell_type": "markdown",
      "metadata": {
        "id": "8xaqDHEA34p-"
      },
      "source": [
        "In the second run, we will choose the linear feet of streeted connected to property (LotFrontage) and Lot size in square feet (LotArea) as features."
      ]
    },
    {
      "cell_type": "code",
      "metadata": {
        "id": "cTK5tfaZ3sfK"
      },
      "source": [
        "df_train_f = df_train[['LotFrontage', 'LotArea']].copy()"
      ],
      "execution_count": 54,
      "outputs": []
    },
    {
      "cell_type": "code",
      "metadata": {
        "colab": {
          "base_uri": "https://localhost:8080/"
        },
        "id": "qUO5OeaU4uFt",
        "outputId": "ce02c93c-7689-4719-d823-73dff2bde573"
      },
      "source": [
        "print(\"Total missing value BEFORE imputing: {}\".format(df_train_f.isna().sum().sum()))"
      ],
      "execution_count": 55,
      "outputs": [
        {
          "output_type": "stream",
          "text": [
            "Total missing value BEFORE imputing: 259\n"
          ],
          "name": "stdout"
        }
      ]
    },
    {
      "cell_type": "markdown",
      "metadata": {
        "id": "DHDptYbI4cBC"
      },
      "source": [
        "As there will be some missing values in our features, we will use impute methods for preprocessing."
      ]
    },
    {
      "cell_type": "code",
      "metadata": {
        "id": "RJxEwz_15AMN"
      },
      "source": [
        "from sklearn.impute import SimpleImputer\n",
        "\n",
        "def fill_missing_value(df):\n",
        "    new_df = df\n",
        "    imr = SimpleImputer(missing_values=np.NaN, strategy='median')\n",
        "    for columns in new_df.columns[0:]:\n",
        "        imr_all = imr.fit(new_df[[columns]])\n",
        "        new_df[columns] = imr_all.transform(new_df[[columns]]).ravel()\n",
        "\n",
        "    return new_df"
      ],
      "execution_count": 56,
      "outputs": []
    },
    {
      "cell_type": "code",
      "metadata": {
        "colab": {
          "base_uri": "https://localhost:8080/"
        },
        "id": "p279B5V-5UeF",
        "outputId": "b9c2f93f-3a95-4c71-dff5-229e8d849f0d"
      },
      "source": [
        "df_train_f = fill_missing_value(df_train_f)\n",
        "print(\"Total missing value AFTER imputing: {}\".format(df_train_f.isna().sum().sum()))"
      ],
      "execution_count": 57,
      "outputs": [
        {
          "output_type": "stream",
          "text": [
            "Total missing value AFTER imputing: 0\n"
          ],
          "name": "stdout"
        }
      ]
    },
    {
      "cell_type": "code",
      "metadata": {
        "colab": {
          "base_uri": "https://localhost:8080/",
          "height": 359
        },
        "id": "o1K4gHdT5rd8",
        "outputId": "737f5322-95ba-447f-9983-0c2c90a64d4d"
      },
      "source": [
        "df_train_f.head(10)"
      ],
      "execution_count": 58,
      "outputs": [
        {
          "output_type": "execute_result",
          "data": {
            "text/html": [
              "<div>\n",
              "<style scoped>\n",
              "    .dataframe tbody tr th:only-of-type {\n",
              "        vertical-align: middle;\n",
              "    }\n",
              "\n",
              "    .dataframe tbody tr th {\n",
              "        vertical-align: top;\n",
              "    }\n",
              "\n",
              "    .dataframe thead th {\n",
              "        text-align: right;\n",
              "    }\n",
              "</style>\n",
              "<table border=\"1\" class=\"dataframe\">\n",
              "  <thead>\n",
              "    <tr style=\"text-align: right;\">\n",
              "      <th></th>\n",
              "      <th>LotFrontage</th>\n",
              "      <th>LotArea</th>\n",
              "    </tr>\n",
              "  </thead>\n",
              "  <tbody>\n",
              "    <tr>\n",
              "      <th>0</th>\n",
              "      <td>65.0</td>\n",
              "      <td>8450.0</td>\n",
              "    </tr>\n",
              "    <tr>\n",
              "      <th>1</th>\n",
              "      <td>80.0</td>\n",
              "      <td>9600.0</td>\n",
              "    </tr>\n",
              "    <tr>\n",
              "      <th>2</th>\n",
              "      <td>68.0</td>\n",
              "      <td>11250.0</td>\n",
              "    </tr>\n",
              "    <tr>\n",
              "      <th>3</th>\n",
              "      <td>60.0</td>\n",
              "      <td>9550.0</td>\n",
              "    </tr>\n",
              "    <tr>\n",
              "      <th>4</th>\n",
              "      <td>84.0</td>\n",
              "      <td>14260.0</td>\n",
              "    </tr>\n",
              "    <tr>\n",
              "      <th>5</th>\n",
              "      <td>85.0</td>\n",
              "      <td>14115.0</td>\n",
              "    </tr>\n",
              "    <tr>\n",
              "      <th>6</th>\n",
              "      <td>75.0</td>\n",
              "      <td>10084.0</td>\n",
              "    </tr>\n",
              "    <tr>\n",
              "      <th>7</th>\n",
              "      <td>69.0</td>\n",
              "      <td>10382.0</td>\n",
              "    </tr>\n",
              "    <tr>\n",
              "      <th>8</th>\n",
              "      <td>51.0</td>\n",
              "      <td>6120.0</td>\n",
              "    </tr>\n",
              "    <tr>\n",
              "      <th>9</th>\n",
              "      <td>50.0</td>\n",
              "      <td>7420.0</td>\n",
              "    </tr>\n",
              "  </tbody>\n",
              "</table>\n",
              "</div>"
            ],
            "text/plain": [
              "   LotFrontage  LotArea\n",
              "0         65.0   8450.0\n",
              "1         80.0   9600.0\n",
              "2         68.0  11250.0\n",
              "3         60.0   9550.0\n",
              "4         84.0  14260.0\n",
              "5         85.0  14115.0\n",
              "6         75.0  10084.0\n",
              "7         69.0  10382.0\n",
              "8         51.0   6120.0\n",
              "9         50.0   7420.0"
            ]
          },
          "metadata": {
            "tags": []
          },
          "execution_count": 58
        }
      ]
    },
    {
      "cell_type": "markdown",
      "metadata": {
        "id": "nRAjNRp55VLP"
      },
      "source": [
        "**Tranining**"
      ]
    },
    {
      "cell_type": "code",
      "metadata": {
        "id": "VGMROV8g3sfL"
      },
      "source": [
        "X_house_train, X_house_test, y_house_train, y_house_test = train_test_split(df_train_f, target, train_size=0.7, random_state=1)"
      ],
      "execution_count": 59,
      "outputs": []
    },
    {
      "cell_type": "code",
      "metadata": {
        "colab": {
          "base_uri": "https://localhost:8080/"
        },
        "id": "JvE5hXd34JXr",
        "outputId": "df8ee0be-23b4-4476-a523-a8bd0cbc6abb"
      },
      "source": [
        "base_list = retrieve_models()\n",
        "blend_and_compare(base_list, X_house_train, y_house_train, X_house_test, y_house_test)"
      ],
      "execution_count": 60,
      "outputs": [
        {
          "output_type": "stream",
          "text": [
            "------- STANDALONE MODELS -------\n",
            "\n",
            "Linear Regression MSE: 6045602962.295516\n",
            "KNeighbors MSE: 6225423409.447107\n",
            "Decision Tree MSE: 9283787773.034727\n",
            "SVM MSE: 7400201187.189829\n",
            "\n",
            "------- BLENDING MODELS -------\n",
            "\n",
            "The base model used: \n",
            "['Linear Regression', 'KNeighbors', 'Decision Tree', 'SVM']\n",
            "Blending MSE: 5723811083.468643\n",
            "\n",
            "------- COMPARING MODELS -------\n",
            "\n",
            "Blended with Linear Regression: 0.95\n",
            "Blended with KNeighbors: 0.92\n",
            "Blended with Decision Tree: 0.62\n",
            "Blended with SVM: 0.77\n"
          ],
          "name": "stdout"
        }
      ]
    },
    {
      "cell_type": "markdown",
      "metadata": {
        "id": "U5aBN6Tc52En"
      },
      "source": [
        "Similar to the first run, the blended model performs well compared to the other single models, but in this case, the ratio between its performance with Decision and SVM has been increase. This also show that changing the features may affect the behavior of our single model as well as the blended model."
      ]
    },
    {
      "cell_type": "markdown",
      "metadata": {
        "id": "UNWW39jl6OYe"
      },
      "source": [
        "**3. Third feature selection**\n",
        "\n",
        "In the second run, we will total square feet of basement area (TotalBsmtSF) and square feet of size of garage (GarageArea) as features."
      ]
    },
    {
      "cell_type": "code",
      "metadata": {
        "id": "UAlKucsq6an7"
      },
      "source": [
        "df_train_f = df_train[['TotalBsmtSF', 'GarageArea']].copy()"
      ],
      "execution_count": 61,
      "outputs": []
    },
    {
      "cell_type": "code",
      "metadata": {
        "colab": {
          "base_uri": "https://localhost:8080/"
        },
        "id": "iygDi5uZ6an8",
        "outputId": "7f74c720-e39b-4546-c570-ba5392d6aad6"
      },
      "source": [
        "print(\"Total missing value BEFORE imputing: {}\".format(df_train_f.isna().sum().sum()))"
      ],
      "execution_count": 62,
      "outputs": [
        {
          "output_type": "stream",
          "text": [
            "Total missing value BEFORE imputing: 0\n"
          ],
          "name": "stdout"
        }
      ]
    },
    {
      "cell_type": "markdown",
      "metadata": {
        "id": "d_a0h-mY9dCg"
      },
      "source": [
        "**Tranining**"
      ]
    },
    {
      "cell_type": "code",
      "metadata": {
        "id": "Fn78x33M9dCk"
      },
      "source": [
        "X_house_train, X_house_test, y_house_train, y_house_test = train_test_split(df_train_f, target, train_size=0.7, random_state=1)"
      ],
      "execution_count": 63,
      "outputs": []
    },
    {
      "cell_type": "code",
      "metadata": {
        "colab": {
          "base_uri": "https://localhost:8080/"
        },
        "id": "g7tPpdgi9dCl",
        "outputId": "18bb8f32-3a7f-4a44-85ec-336f84973576"
      },
      "source": [
        "base_list = retrieve_models()\n",
        "blend_and_compare(base_list, X_house_train, y_house_train, X_house_test, y_house_test)"
      ],
      "execution_count": 64,
      "outputs": [
        {
          "output_type": "stream",
          "text": [
            "------- STANDALONE MODELS -------\n",
            "\n",
            "Linear Regression MSE: 3169303691.2070436\n",
            "KNeighbors MSE: 2813904177.7951703\n",
            "Decision Tree MSE: 4276863547.11997\n",
            "SVM MSE: 7387955691.922731\n",
            "\n",
            "------- BLENDING MODELS -------\n",
            "\n",
            "The base model used: \n",
            "['Linear Regression', 'KNeighbors', 'Decision Tree', 'SVM']\n",
            "Blending MSE: 2798181637.8131413\n",
            "\n",
            "------- COMPARING MODELS -------\n",
            "\n",
            "Blended with Linear Regression: 0.88\n",
            "Blended with KNeighbors: 0.99\n",
            "Blended with Decision Tree: 0.65\n",
            "Blended with SVM: 0.38\n"
          ],
          "name": "stdout"
        }
      ]
    },
    {
      "cell_type": "markdown",
      "metadata": {
        "id": "sQIa-5gK9pYx"
      },
      "source": [
        "Lastly, the blended model still performs well compared to the other single models, and it can be seen that KNeighbors has the best consistency in terms of performance throughout 3 testing with different features."
      ]
    },
    {
      "cell_type": "markdown",
      "metadata": {
        "id": "k3L5qxJi98IE"
      },
      "source": [
        "### **[Problem 2] Scratch mounting of bagging**"
      ]
    },
    {
      "cell_type": "markdown",
      "metadata": {
        "id": "-Lu4px2vLkKF"
      },
      "source": [
        "**Dataset Preparation**"
      ]
    },
    {
      "cell_type": "code",
      "metadata": {
        "id": "QG9D_kxDLf1_"
      },
      "source": [
        "df_train_f = df_train[['GrLivArea', 'YearBuilt']]"
      ],
      "execution_count": 93,
      "outputs": []
    },
    {
      "cell_type": "code",
      "metadata": {
        "id": "884XdG2yLf2R"
      },
      "source": [
        "from sklearn.model_selection import train_test_split\n",
        "X_house_train, X_house_test, y_house_train, y_house_test = train_test_split(df_train_f, target, train_size=0.7, random_state=1)"
      ],
      "execution_count": 95,
      "outputs": []
    },
    {
      "cell_type": "code",
      "metadata": {
        "colab": {
          "base_uri": "https://localhost:8080/"
        },
        "id": "1d6NXwYDLf2S",
        "outputId": "4af0e86e-7f66-469d-eb6b-2364c8f3fda5"
      },
      "source": [
        "print(\"Train dataset: {}\".format(X_house_train.shape))\n",
        "print(\"Test dataset: {}\".format(X_house_test.shape))"
      ],
      "execution_count": 96,
      "outputs": [
        {
          "output_type": "stream",
          "text": [
            "Train dataset: (1021, 2)\n",
            "Test dataset: (439, 2)\n"
          ],
          "name": "stdout"
        }
      ]
    },
    {
      "cell_type": "code",
      "metadata": {
        "id": "awt_33cfMnkt"
      },
      "source": [
        "from sklearn.preprocessing import StandardScaler\n",
        "sc = StandardScaler()\n",
        "X_house_train = sc.fit_transform(X_house_train)\n",
        "X_house_test = sc.fit_transform(X_house_test)"
      ],
      "execution_count": 97,
      "outputs": []
    },
    {
      "cell_type": "markdown",
      "metadata": {
        "id": "AO7EVp7SMxb2"
      },
      "source": [
        "**Standalone Decision Tree Regressor**"
      ]
    },
    {
      "cell_type": "code",
      "metadata": {
        "id": "ExLt8k57M0ku"
      },
      "source": [
        "model_rt = DecisionTreeRegressor()"
      ],
      "execution_count": 199,
      "outputs": []
    },
    {
      "cell_type": "code",
      "metadata": {
        "colab": {
          "base_uri": "https://localhost:8080/"
        },
        "id": "uSURMhRTM0kv",
        "outputId": "e2ed6183-c460-4051-8623-c102e4ab2cdd"
      },
      "source": [
        "model_rt.fit(X_house_train, y_house_train)\n",
        "y_pred = model_rt.predict(X_house_test)\n",
        "mse = mean_squared_error(y_house_test, y_pred)\n",
        "print(\"Decision Tree Regressor MSE: {}\".format(mse))"
      ],
      "execution_count": 200,
      "outputs": [
        {
          "output_type": "stream",
          "text": [
            "Decision Tree Regressor MSE: 3636547999.3862314\n"
          ],
          "name": "stdout"
        }
      ]
    },
    {
      "cell_type": "markdown",
      "metadata": {
        "id": "6VjN_TiON-Ft"
      },
      "source": [
        "**Bagging Decision Tree Regressor**"
      ]
    },
    {
      "cell_type": "code",
      "metadata": {
        "id": "UcPZuXmnOAew"
      },
      "source": [
        "class Bagging():\n",
        "\n",
        "    def __init__(self, bootstrap, max_depth=100, seed=None):\n",
        "        self.b = bootstrap\n",
        "        self.max_d = max_depth\n",
        "        self.seed = seed\n",
        "        self.submodel = []\n",
        "\n",
        "    def fit(self, X_train, y_train):\n",
        "        self.X_train = X_train\n",
        "        self.y_train = y_train\n",
        "        self.m = X_train.shape[0] # M samples\n",
        "        self.n = X_train.shape[1] # N features\n",
        "        \n",
        "        np.random.seed(self.seed)\n",
        "\n",
        "        # Bootstrap samples\n",
        "        for b in range(self.b):\n",
        "            subsamp = np.random.choice(np.arange(self.m), size=self.m, replace=True)\n",
        "            X_train_b = X_train[subsamp]\n",
        "            y_train_b = y_train.to_numpy()[subsamp]\n",
        "\n",
        "            subtree = DecisionTreeRegressor()\n",
        "            subtree.fit(X_train_b, y_train_b)\n",
        "            self.submodel.append(subtree)\n",
        "\n",
        "    def predict(self, X_test):\n",
        "\n",
        "        pred_avg = np.empty((len(self.submodel), len(X_test)))\n",
        "        for i, model in enumerate(self.submodel):\n",
        "            pred_avg[i] = model.predict(X_test)\n",
        "\n",
        "        return pred_avg.mean(0) "
      ],
      "execution_count": 195,
      "outputs": []
    },
    {
      "cell_type": "markdown",
      "metadata": {
        "id": "xfmlYFD0R9ro"
      },
      "source": [
        "**Training**"
      ]
    },
    {
      "cell_type": "code",
      "metadata": {
        "colab": {
          "base_uri": "https://localhost:8080/"
        },
        "id": "uw8wfY0WQRAM",
        "outputId": "cb5b819d-d5b5-4bfc-ee30-a8945caefb68"
      },
      "source": [
        "n_bootstrap = 8\n",
        "\n",
        "bagger = Bagging(n_bootstrap, seed=228)\n",
        "bagger.fit(X_house_train, y_house_train)\n",
        "y_pred_bagger = bagger.predict(X_house_test)\n",
        "mse_bagger = mean_squared_error(y_house_test, y_pred_bagger)\n",
        "print(\"Decision Tree Regressor MSE Bagger: {}\".format(mse_bagger))"
      ],
      "execution_count": 198,
      "outputs": [
        {
          "output_type": "stream",
          "text": [
            "Decision Tree Regressor MSE Bagger: 2250479608.951358\n"
          ],
          "name": "stdout"
        }
      ]
    },
    {
      "cell_type": "markdown",
      "metadata": {
        "id": "7HTJ_A08XCX9"
      },
      "source": [
        "**Comparing the MSE ratio**\n",
        "\n",
        "The ratio between blended predictions and standalone predictions, the less the ratio is, the higher accuracy the bagging model performed compared to the corresponding standalone model."
      ]
    },
    {
      "cell_type": "code",
      "metadata": {
        "colab": {
          "base_uri": "https://localhost:8080/"
        },
        "id": "3nuyiMwLWz8W",
        "outputId": "d76eea5e-4207-46c3-b456-c49263cd7686"
      },
      "source": [
        "print(\"Single with Bagging ratio: {:.2f}\".format(mse_bagger/mse))"
      ],
      "execution_count": 201,
      "outputs": [
        {
          "output_type": "stream",
          "text": [
            "Single with Bagging ratio: 0.62\n"
          ],
          "name": "stdout"
        }
      ]
    },
    {
      "cell_type": "markdown",
      "metadata": {
        "id": "tVrfsy-2XFTg"
      },
      "source": [
        "We can see that the ratio is 0.62 which mean the bagging model works very well in terms of decreasing the MSE."
      ]
    },
    {
      "cell_type": "markdown",
      "metadata": {
        "id": "nzTovr_3XYWz"
      },
      "source": [
        "### **[Problem 3] Scratch mounting of stacking**"
      ]
    },
    {
      "cell_type": "markdown",
      "metadata": {
        "id": "XJn9W87W9FE_"
      },
      "source": [
        "**Level 0 Layer**\n",
        "\n",
        "In the first level, we will implement a stacked layer consiting of multiple models with its best hyperparameters. Since getting hyperparameters is not a glance of eye, using GridSearch in the first step might help us to ultilize the training performance.\n",
        "\n",
        "And after using their best hypermeters, we can achieve such results providing insight about their performance, that is, the sign to choose the best model to be a final learner in this stacking architecture."
      ]
    },
    {
      "cell_type": "code",
      "metadata": {
        "id": "YwxneQaC9Wmx"
      },
      "source": [
        "from sklearn.model_selection import GridSearchCV\n",
        "from sklearn.ensemble import RandomForestRegressor\n",
        "from lightgbm import LGBMRegressor\n",
        "from xgboost import XGBRegressor\n",
        "from sklearn.metrics import r2_score"
      ],
      "execution_count": 228,
      "outputs": []
    },
    {
      "cell_type": "code",
      "metadata": {
        "id": "tw5Q77kk9XcE"
      },
      "source": [
        "def best_hyperparameters(X_train, X_test, y_train, y_test,\n",
        "                         models, param_grid, cv=10, score='neg_mean_squared_error',\n",
        "                         scoring_test=r2_score):\n",
        "  \n",
        "    grid = GridSearchCV(estimator=models,\n",
        "                        param_grid=param_grid,\n",
        "                        scoring=score,\n",
        "                        n_jobs=-1,\n",
        "                        cv=cv,\n",
        "                        verbose=2)\n",
        "    \n",
        "    fit_model = grid.fit(X_train, y_train)\n",
        "    best_model = fit_model.best_estimator_\n",
        "\n",
        "    pred = fit_model.predict(X_test)\n",
        "\n",
        "    score = scoring_test(y_test, pred)\n",
        "\n",
        "    return [best_model, score, score]"
      ],
      "execution_count": 27,
      "outputs": []
    },
    {
      "cell_type": "code",
      "metadata": {
        "id": "48rgFv0c_rU8"
      },
      "source": [
        "models = [KNeighborsRegressor(), DecisionTreeRegressor(), SVR(), RandomForestRegressor(), XGBRegressor(), LGBMRegressor()]\n",
        "\n",
        "grid_hyperparamters = [{'n_neighbors': [3,5,7,10],\n",
        "                        'weights': ['uniform', 'distance'],\n",
        "                        'leaf_size': [20, 30, 40],\n",
        "                        'algorithm': ['auto', 'ball_tree', 'kd_tree', 'brute']\n",
        "                        },\n",
        "                       {'criterion': ['mse', 'friedman_mse', 'mae', 'poisson'],\n",
        "                        'splitter': ['best', 'random'],\n",
        "                        'max_depth': [5, 10, 15, 20]\n",
        "                        },\n",
        "                       {'kernel': ['linear', 'poly', 'rbf', 'sigmoid'],\n",
        "                        'epsilon': [0.01, 0.05, 0.1],\n",
        "                        'tol': [1e-4, 1e-3, 1e-2]\n",
        "                        },\n",
        "                       {'max_depth':[3, 5, 10, 13], \n",
        "                        'n_estimators':[200, 400, 600],\n",
        "                        'max_features':[2, 4, 6, 8]\n",
        "                       },\n",
        "                       {'n_estimators': [400, 700, 1000],\n",
        "                        'colsample_bytree': [0.7, 0.8],\n",
        "                        'max_depth': [15,20,25],\n",
        "                        'reg_alpha': [1.1, 1.2, 1.3],\n",
        "                        'reg_lambda': [1.1, 1.2, 1.3],\n",
        "                        'subsample': [0.7, 0.8, 0.9]\n",
        "                       },\n",
        "                       {'n_estimators': [400, 700, 1000],\n",
        "                        'learning_rate': [0.12],\n",
        "                        'colsample_bytree': [0.7, 0.8],\n",
        "                        'max_depth': [4],\n",
        "                        'num_leaves': [10, 20],\n",
        "                        'reg_alpha': [1.1, 1.2],\n",
        "                        'reg_lambda': [1.1, 1.2],\n",
        "                        'min_split_gain': [0.3, 0.4],\n",
        "                        'subsample': [0.8, 0.9],\n",
        "                        'subsample_freq': [10, 20]\n",
        "                       }\n",
        "]"
      ],
      "execution_count": 282,
      "outputs": []
    },
    {
      "cell_type": "code",
      "metadata": {
        "colab": {
          "base_uri": "https://localhost:8080/"
        },
        "id": "WSQz12ZMCPEe",
        "outputId": "74dc611b-342c-4dd7-be0e-bfceddea7216"
      },
      "source": [
        "model_score = []\n",
        "\n",
        "for i, model in enumerate(models):\n",
        "    param_grid = grid_hyperparamters[i]\n",
        "    result = best_hyperparameters(X_house_train, X_house_test, y_house_train, y_house_test,\n",
        "                                  model, param_grid, cv=5)\n",
        "    \n",
        "    model_score.append(result)"
      ],
      "execution_count": 230,
      "outputs": [
        {
          "output_type": "stream",
          "text": [
            "Fitting 5 folds for each of 96 candidates, totalling 480 fits\n"
          ],
          "name": "stdout"
        },
        {
          "output_type": "stream",
          "text": [
            "[Parallel(n_jobs=-1)]: Using backend LokyBackend with 2 concurrent workers.\n",
            "[Parallel(n_jobs=-1)]: Done 420 tasks      | elapsed:    1.4s\n",
            "[Parallel(n_jobs=-1)]: Done 480 out of 480 | elapsed:    1.7s finished\n",
            "[Parallel(n_jobs=-1)]: Using backend LokyBackend with 2 concurrent workers.\n"
          ],
          "name": "stderr"
        },
        {
          "output_type": "stream",
          "text": [
            "Fitting 5 folds for each of 32 candidates, totalling 160 fits\n"
          ],
          "name": "stdout"
        },
        {
          "output_type": "stream",
          "text": [
            "[Parallel(n_jobs=-1)]: Done 127 tasks      | elapsed:    0.7s\n",
            "[Parallel(n_jobs=-1)]: Done 160 out of 160 | elapsed:    0.8s finished\n",
            "[Parallel(n_jobs=-1)]: Using backend LokyBackend with 2 concurrent workers.\n"
          ],
          "name": "stderr"
        },
        {
          "output_type": "stream",
          "text": [
            "Fitting 5 folds for each of 36 candidates, totalling 180 fits\n"
          ],
          "name": "stdout"
        },
        {
          "output_type": "stream",
          "text": [
            "[Parallel(n_jobs=-1)]: Done 128 tasks      | elapsed:    4.9s\n",
            "[Parallel(n_jobs=-1)]: Done 180 out of 180 | elapsed:    7.0s finished\n",
            "[Parallel(n_jobs=-1)]: Using backend LokyBackend with 2 concurrent workers.\n"
          ],
          "name": "stderr"
        },
        {
          "output_type": "stream",
          "text": [
            "Fitting 5 folds for each of 48 candidates, totalling 240 fits\n"
          ],
          "name": "stdout"
        },
        {
          "output_type": "stream",
          "text": [
            "[Parallel(n_jobs=-1)]: Done  37 tasks      | elapsed:   11.7s\n",
            "[Parallel(n_jobs=-1)]: Done 158 tasks      | elapsed:   46.7s\n",
            "[Parallel(n_jobs=-1)]: Done 240 out of 240 | elapsed:  1.2min finished\n"
          ],
          "name": "stderr"
        },
        {
          "output_type": "stream",
          "text": [
            "Fitting 5 folds for each of 486 candidates, totalling 2430 fits\n"
          ],
          "name": "stdout"
        },
        {
          "output_type": "stream",
          "text": [
            "[Parallel(n_jobs=-1)]: Using backend LokyBackend with 2 concurrent workers.\n",
            "[Parallel(n_jobs=-1)]: Done  37 tasks      | elapsed:    9.6s\n",
            "[Parallel(n_jobs=-1)]: Done 158 tasks      | elapsed:   44.1s\n",
            "[Parallel(n_jobs=-1)]: Done 361 tasks      | elapsed:  2.6min\n",
            "[Parallel(n_jobs=-1)]: Done 644 tasks      | elapsed:  4.6min\n",
            "[Parallel(n_jobs=-1)]: Done 1009 tasks      | elapsed:  7.8min\n",
            "[Parallel(n_jobs=-1)]: Done 1454 tasks      | elapsed: 11.5min\n",
            "[Parallel(n_jobs=-1)]: Done 1981 tasks      | elapsed: 16.1min\n",
            "[Parallel(n_jobs=-1)]: Done 2430 out of 2430 | elapsed: 20.2min finished\n"
          ],
          "name": "stderr"
        },
        {
          "output_type": "stream",
          "text": [
            "[18:43:20] WARNING: /workspace/src/objective/regression_obj.cu:152: reg:linear is now deprecated in favor of reg:squarederror.\n",
            "Fitting 5 folds for each of 384 candidates, totalling 1920 fits\n"
          ],
          "name": "stdout"
        },
        {
          "output_type": "stream",
          "text": [
            "[Parallel(n_jobs=-1)]: Using backend LokyBackend with 2 concurrent workers.\n",
            "[Parallel(n_jobs=-1)]: Done  37 tasks      | elapsed:    2.3s\n",
            "[Parallel(n_jobs=-1)]: Done 158 tasks      | elapsed:    9.6s\n",
            "[Parallel(n_jobs=-1)]: Done 361 tasks      | elapsed:   31.8s\n",
            "[Parallel(n_jobs=-1)]: Done 644 tasks      | elapsed:   59.0s\n",
            "[Parallel(n_jobs=-1)]: Done 1009 tasks      | elapsed:  1.7min\n",
            "[Parallel(n_jobs=-1)]: Done 1454 tasks      | elapsed:  2.5min\n",
            "[Parallel(n_jobs=-1)]: Done 1920 out of 1920 | elapsed:  3.3min finished\n"
          ],
          "name": "stderr"
        }
      ]
    },
    {
      "cell_type": "code",
      "metadata": {
        "colab": {
          "base_uri": "https://localhost:8080/"
        },
        "id": "G7xHjR8oC9f8",
        "outputId": "c0b52aa3-6096-4d35-866e-070726bf378e"
      },
      "source": [
        "for result in model_score:\n",
        "    print('Model: {0}, Score: {1}'.format(type(result[0]).__name__, result[2]))"
      ],
      "execution_count": 231,
      "outputs": [
        {
          "output_type": "stream",
          "text": [
            "Model: KNeighborsRegressor, Score: 0.745664126198454\n",
            "Model: DecisionTreeRegressor, Score: 0.7287195514362808\n",
            "Model: SVR, Score: -0.017919347470168878\n",
            "Model: RandomForestRegressor, Score: 0.7364874549797271\n",
            "Model: XGBRegressor, Score: 0.49332315189520126\n",
            "Model: LGBMRegressor, Score: 0.7018765195892105\n"
          ],
          "name": "stdout"
        }
      ]
    },
    {
      "cell_type": "markdown",
      "metadata": {
        "id": "6mj2Rke0Eraf"
      },
      "source": [
        "All the score did very well except for SVR, therefore, we will remove it from our Level 1 estimators list."
      ]
    },
    {
      "cell_type": "markdown",
      "metadata": {
        "id": "xshuHDHfmDm7"
      },
      "source": [
        "In the end, we will use **Linear Regression** as our final estimator in the Level 1 layer."
      ]
    },
    {
      "cell_type": "markdown",
      "metadata": {
        "id": "HjuazOThHbwk"
      },
      "source": [
        "**Stacking Model ( + Level 1)**"
      ]
    },
    {
      "cell_type": "code",
      "metadata": {
        "id": "5RvYPM-LOGCo"
      },
      "source": [
        "from sklearn.model_selection import KFold "
      ],
      "execution_count": 233,
      "outputs": []
    },
    {
      "cell_type": "code",
      "metadata": {
        "id": "bDl6TgqXHbT4"
      },
      "source": [
        "class Stacking():\n",
        "\n",
        "    def __init__(self, models, final_model, K):\n",
        "        self.level0 = models\n",
        "        self.level1 = final_model\n",
        "        self.K = K\n",
        "        self.M = len(models)\n",
        "\n",
        "    \n",
        "    def fit(self, X_train, y_train, X_test, y_test):\n",
        "\n",
        "        self.X_train = X_train\n",
        "        self.y_train = y_train\n",
        "        self.X_test = X_test\n",
        "        self.y_test = y_test\n",
        "\n",
        "        train_data = None\n",
        "        test_data = None\n",
        "\n",
        "\n",
        "        for model in self.level0:\n",
        "\n",
        "            predictions = None\n",
        "            batch_size = int(len(self.X_train)/self.K)\n",
        "\n",
        "            for fold in range(self.K):\n",
        "\n",
        "                if fold == (self.K - 1):\n",
        "                    test = self.X_train[(batch_size * fold):,:]\n",
        "                    batch_start = batch_size * fold\n",
        "                    batch_finish = self.X_train.shape[0]\n",
        "                else:\n",
        "                    test = self.X_train[(batch_size * fold): (batch_size * (fold + 1)),:]\n",
        "                    batch_start = batch_size * fold\n",
        "                    batch_finish = batch_size * (fold + 1)\n",
        "                \n",
        "                fold_X_test = self.X_train[batch_start:batch_finish,:]\n",
        "                fold_X_train = self.X_train[[index for index in range(self.X_train.shape[0]) if index not in range(batch_start, batch_finish)],:]\n",
        "\n",
        "                fold_y_test = self.y_train.to_numpy()[batch_start:batch_finish]\n",
        "                fold_y_train = self.y_train.to_numpy()[[index for index in range(self.X_train.shape[0]) if index not in range(batch_start, batch_finish)]]\n",
        "\n",
        "                # Fit current classifier\n",
        "                model.fit(fold_X_train, fold_y_train)\n",
        "                fold_y_pred = model.predict(fold_X_test)\n",
        "\n",
        "                # Store predictions for each fold_x_test\n",
        "                if isinstance(predictions, np.ndarray):\n",
        "                    predictions = np.concatenate((predictions, fold_y_pred))\n",
        "                else:\n",
        "                    predictions = fold_y_pred\n",
        "\n",
        "\n",
        "            test_pred_values = self.level0_proc(model)\n",
        "\n",
        "            if isinstance(train_data, np.ndarray):\n",
        "                train_data = np.vstack((train_data, predictions))\n",
        "            else:\n",
        "                train_data = predictions\n",
        "\n",
        "            if isinstance(test_data, np.ndarray):\n",
        "                test_data = np.vstack((test_data, test_pred_values))\n",
        "            else:\n",
        "                test_data = test_pred_values\n",
        "\n",
        "\n",
        "        train_data = train_data.T\n",
        "        test_data = test_data.T\n",
        "\n",
        "        self.level1_proc(self.level1, train_data, test_data)\n",
        "\n",
        "\n",
        "    def level0_proc(self, model):\n",
        "        # Train the data on level 1 layer with M models\n",
        "        model.fit(self.X_train, self.y_train)\n",
        "        y_pred = model.predict(self.X_test)\n",
        "\n",
        "        return y_pred\n",
        "\n",
        "    def level1_proc(self, final_model, train_data, test_data):\n",
        "        # Train the data on the last estimator\n",
        "        self.final_model = final_model.fit(train_data, self.y_train)\n",
        "        train_pred = self.final_model.predict(train_data)\n",
        "        test_pred = self.final_model.predict(test_data)\n",
        "        print(\"Train MSE: {}\".format(mean_squared_error(train_pred, self.y_train)))\n",
        "        print(\"Test MSE: {}\".format(mean_squared_error(test_pred, self.y_test)))"
      ],
      "execution_count": 207,
      "outputs": []
    },
    {
      "cell_type": "code",
      "metadata": {
        "id": "H0yNiWdf38ks"
      },
      "source": [
        "models_copy = models"
      ],
      "execution_count": 286,
      "outputs": []
    },
    {
      "cell_type": "code",
      "metadata": {
        "colab": {
          "base_uri": "https://localhost:8080/"
        },
        "id": "HY6t2R9Y6pVq",
        "outputId": "7b687dd9-993b-4fab-97d7-8c3fad0fcee7"
      },
      "source": [
        "# Pop out SVR model since its score is very bad\n",
        "models_copy.pop(2)"
      ],
      "execution_count": 295,
      "outputs": [
        {
          "output_type": "execute_result",
          "data": {
            "text/plain": [
              "SVR(C=1.0, cache_size=200, coef0=0.0, degree=3, epsilon=0.1, gamma='scale',\n",
              "    kernel='rbf', max_iter=-1, shrinking=True, tol=0.001, verbose=False)"
            ]
          },
          "metadata": {
            "tags": []
          },
          "execution_count": 295
        }
      ]
    },
    {
      "cell_type": "code",
      "metadata": {
        "id": "Ywv-ujAVNLa_"
      },
      "source": [
        "stack_model = Stacking(models_copy, LinearRegression(), 3)"
      ],
      "execution_count": 299,
      "outputs": []
    },
    {
      "cell_type": "code",
      "metadata": {
        "colab": {
          "base_uri": "https://localhost:8080/"
        },
        "id": "INXDDxUoNSx9",
        "outputId": "9be59bb1-0d0a-4b94-d7e5-eec34e6f6078"
      },
      "source": [
        "stack_model.fit(X_house_train, y_house_train, X_house_test, y_house_test)"
      ],
      "execution_count": 300,
      "outputs": [
        {
          "output_type": "stream",
          "text": [
            "[19:05:50] WARNING: /workspace/src/objective/regression_obj.cu:152: reg:linear is now deprecated in favor of reg:squarederror.\n",
            "[19:05:50] WARNING: /workspace/src/objective/regression_obj.cu:152: reg:linear is now deprecated in favor of reg:squarederror.\n",
            "[19:05:50] WARNING: /workspace/src/objective/regression_obj.cu:152: reg:linear is now deprecated in favor of reg:squarederror.\n",
            "[19:05:51] WARNING: /workspace/src/objective/regression_obj.cu:152: reg:linear is now deprecated in favor of reg:squarederror.\n",
            "Train MSE: 1731556654.8236802\n",
            "Test MSE: 1805118265.6692512\n"
          ],
          "name": "stdout"
        }
      ]
    },
    {
      "cell_type": "markdown",
      "metadata": {
        "id": "2O6-ibLvjn9x"
      },
      "source": [
        "**Standalone Linear Regression**"
      ]
    },
    {
      "cell_type": "code",
      "metadata": {
        "id": "6QFzvYkOjn9y"
      },
      "source": [
        "model_lr = LinearRegression()"
      ],
      "execution_count": 292,
      "outputs": []
    },
    {
      "cell_type": "code",
      "metadata": {
        "colab": {
          "base_uri": "https://localhost:8080/"
        },
        "id": "frIg0Q7ejn9y",
        "outputId": "56ce2823-fdaf-413b-a156-5895619604b5"
      },
      "source": [
        "model_lr.fit(X_house_train, y_house_train)\n",
        "y_pred = model_lr.predict(X_house_test)\n",
        "mse_lr = mean_squared_error(y_house_test, y_pred)\n",
        "print(\"Linear Regression MSE: {}\".format(mse_lr))"
      ],
      "execution_count": 293,
      "outputs": [
        {
          "output_type": "stream",
          "text": [
            "Linear Regression MSE: 2045601786.2250392\n"
          ],
          "name": "stdout"
        }
      ]
    },
    {
      "cell_type": "markdown",
      "metadata": {
        "id": "eMGvdhNa7BWo"
      },
      "source": [
        "As we can see that our stack model have a better result in terms of MSE reduction."
      ]
    }
  ]
}