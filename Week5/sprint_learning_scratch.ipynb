{
  "nbformat": 4,
  "nbformat_minor": 0,
  "metadata": {
    "colab": {
      "name": "sprint_learning_scratch.ipynb",
      "provenance": [],
      "collapsed_sections": [],
      "toc_visible": true
    },
    "kernelspec": {
      "name": "python3",
      "display_name": "Python 3"
    },
    "language_info": {
      "name": "python"
    },
    "accelerator": "GPU"
  },
  "cells": [
    {
      "cell_type": "markdown",
      "metadata": {
        "id": "8KQXQck_CKU9"
      },
      "source": [
        "# DIVE INTO CODE COURSE\n",
        "## Introduction to Sprint Machine Learning Scratch\n",
        "### Doan Anh Tien - 1852789 - tien.doan.g0pr0@hcmut.edu.vn"
      ]
    },
    {
      "cell_type": "code",
      "metadata": {
        "id": "vqjJCWMuCVUh"
      },
      "source": [
        "import matplotlib.pyplot as plt\n",
        "import pandas as pd\n",
        "import numpy as np"
      ],
      "execution_count": 276,
      "outputs": []
    },
    {
      "cell_type": "markdown",
      "metadata": {
        "id": "b3-dSqk7Cz5t"
      },
      "source": [
        "### [Problem 1] Scratch of train_test_split function\n"
      ]
    },
    {
      "cell_type": "code",
      "metadata": {
        "id": "TZPBa3O7Em5A"
      },
      "source": [
        "def scratch_train_test_split(X, y, train_size=0.8):\n",
        "    \"\"\"Divide the validation data.\n",
        "    Parameters\n",
        "    ----------\n",
        "    X : ndarray\n",
        "      Training data (n_samples, n_features)\n",
        "    y : ndarray\n",
        "      Correct answer value (n_samples,)\n",
        "    train_size : float\n",
        "      Specify what percentage to use as a train (0 < train_size < 1)\n",
        "    Returns\n",
        "    -------\n",
        "    X_train : ndarray\n",
        "      Training data (n_samples, n_features)\n",
        "    X_test : ndarray\n",
        "      Validation data (n_samples, n_features)\n",
        "    y_train : ndarray\n",
        "      Correct answer value of training data (n_samples,)\n",
        "    y_test : ndarray\n",
        "      Correct value of verification data (n_samples,)\n",
        "    \"\"\"\n",
        "    ratio = np.random.rand(X.shape[0]) < train_size\n",
        "\n",
        "    X_train = X[ratio]\n",
        "    y_train = y[ratio]\n",
        "    X_test = X[~ratio]\n",
        "    y_test = y[~ratio]\n",
        "    \n",
        "    return X_train, X_test, y_train, y_test"
      ],
      "execution_count": 277,
      "outputs": []
    },
    {
      "cell_type": "code",
      "metadata": {
        "id": "99WFZv9uYFC2"
      },
      "source": [
        "from sklearn.linear_model import SGDClassifier\n",
        "from sklearn.svm import SVC\n",
        "from sklearn.tree import DecisionTreeClassifier"
      ],
      "execution_count": 278,
      "outputs": []
    },
    {
      "cell_type": "markdown",
      "metadata": {
        "id": "kWudCmVxYkdY"
      },
      "source": [
        "Iris Data"
      ]
    },
    {
      "cell_type": "code",
      "metadata": {
        "id": "IN-J-sDjYdv7"
      },
      "source": [
        "from sklearn.datasets import load_iris"
      ],
      "execution_count": 279,
      "outputs": []
    },
    {
      "cell_type": "code",
      "metadata": {
        "id": "4KDHmiMNZKFA"
      },
      "source": [
        "data = load_iris()"
      ],
      "execution_count": 280,
      "outputs": []
    },
    {
      "cell_type": "code",
      "metadata": {
        "id": "x3wsht_SZM9I"
      },
      "source": [
        "X_set1 = data[\"data\"][50:]"
      ],
      "execution_count": 281,
      "outputs": []
    },
    {
      "cell_type": "code",
      "metadata": {
        "colab": {
          "base_uri": "https://localhost:8080/"
        },
        "id": "rXq-OcZraBng",
        "outputId": "18914956-6da1-4b80-c0ef-50acd78ebf62"
      },
      "source": [
        "X_set1.shape"
      ],
      "execution_count": 282,
      "outputs": [
        {
          "output_type": "execute_result",
          "data": {
            "text/plain": [
              "(100, 4)"
            ]
          },
          "metadata": {
            "tags": []
          },
          "execution_count": 282
        }
      ]
    },
    {
      "cell_type": "code",
      "metadata": {
        "id": "iRBhjewKZvv-"
      },
      "source": [
        "y_set1 = data[\"target\"][50:]"
      ],
      "execution_count": 283,
      "outputs": []
    },
    {
      "cell_type": "code",
      "metadata": {
        "colab": {
          "base_uri": "https://localhost:8080/"
        },
        "id": "JsSb4WcOaDt0",
        "outputId": "ddb379f1-3da2-41cf-d46d-ef23d3fba8be"
      },
      "source": [
        "y_set1.shape"
      ],
      "execution_count": 284,
      "outputs": [
        {
          "output_type": "execute_result",
          "data": {
            "text/plain": [
              "(100,)"
            ]
          },
          "metadata": {
            "tags": []
          },
          "execution_count": 284
        }
      ]
    },
    {
      "cell_type": "code",
      "metadata": {
        "id": "zRtu5tp-bryk"
      },
      "source": [
        "X_set1_train, X_set1_test, y_set1_train, y_set1_test = scratch_train_test_split(X_set1, y_set1, train_size=0.8)"
      ],
      "execution_count": 285,
      "outputs": []
    },
    {
      "cell_type": "code",
      "metadata": {
        "colab": {
          "base_uri": "https://localhost:8080/"
        },
        "id": "fqO007d4elTs",
        "outputId": "1175206b-628d-4459-e68e-99092164cbf5"
      },
      "source": [
        "print(\"Shape of data\\nX_train: {}\\nY_train: {}\\nX_test: {}\\nY_test: {}\".format(X_set1_train.shape, y_set1_train.shape, X_set1_test.shape, y_set1_test.shape))"
      ],
      "execution_count": 286,
      "outputs": [
        {
          "output_type": "stream",
          "text": [
            "Shape of data\n",
            "X_train: (80, 4)\n",
            "Y_train: (80,)\n",
            "X_test: (20, 4)\n",
            "Y_test: (20,)\n"
          ],
          "name": "stdout"
        }
      ]
    },
    {
      "cell_type": "markdown",
      "metadata": {
        "id": "bg2FHnCDaPpB"
      },
      "source": [
        "Artificial Data 1"
      ]
    },
    {
      "cell_type": "code",
      "metadata": {
        "id": "_LWHKQnpaPVG"
      },
      "source": [
        "np.random.seed(seed=0)\n",
        "n_samples = 500\n",
        "f0 = [-1, 2]\n",
        "f1 = [2, -1]\n",
        "cov = [[1.0,0.8], [0.8, 1.0]]\n",
        "f0 = np.random.multivariate_normal(f0, cov, n_samples // 2)\n",
        "f1 = np.random.multivariate_normal(f1, cov, n_samples // 2)\n",
        "X_set2 = np.concatenate([f0, f1])\n",
        "y_set2 = np.concatenate([\n",
        "    np.full(n_samples // 2, 1),\n",
        "    np.full(n_samples // 2, -1)\n",
        "])"
      ],
      "execution_count": 287,
      "outputs": []
    },
    {
      "cell_type": "code",
      "metadata": {
        "id": "n-T1FLXahQ08"
      },
      "source": [
        "X_set2_train, X_set2_test, y_set2_train, y_set2_test = scratch_train_test_split(X_set2, y_set2, train_size=0.8)"
      ],
      "execution_count": 288,
      "outputs": []
    },
    {
      "cell_type": "code",
      "metadata": {
        "colab": {
          "base_uri": "https://localhost:8080/"
        },
        "id": "B6EHRozchG1u",
        "outputId": "46c7e4c6-7b39-4135-a17f-880bdce9c551"
      },
      "source": [
        "print(\"Shape of data\\nX_train: {}\\nY_train: {}\\nX_test: {}\\nY_test: {}\".format(X_set2_train.shape, y_set2_train.shape, X_set2_test.shape, y_set2_test.shape))"
      ],
      "execution_count": 289,
      "outputs": [
        {
          "output_type": "stream",
          "text": [
            "Shape of data\n",
            "X_train: (385, 2)\n",
            "Y_train: (385,)\n",
            "X_test: (115, 2)\n",
            "Y_test: (115,)\n"
          ],
          "name": "stdout"
        }
      ]
    },
    {
      "cell_type": "markdown",
      "metadata": {
        "id": "n_QGKXxvavhl"
      },
      "source": [
        "Artificial Data 2"
      ]
    },
    {
      "cell_type": "code",
      "metadata": {
        "id": "N4ziYSleaxwx"
      },
      "source": [
        "X_set3 = np.array([\n",
        "    [-0.44699 , -2.8073  ],[-1.4621  , -2.4586  ],\n",
        "    [ 0.10645 ,  1.9242  ],[-3.5944  , -4.0112  ],\n",
        "    [-0.9888  ,  4.5718  ],[-3.1625  , -3.9606  ],\n",
        "    [ 0.56421 ,  0.72888 ],[-0.60216 ,  8.4636  ],\n",
        "    [-0.61251 , -0.75345 ],[-0.73535 , -2.2718  ],\n",
        "    [-0.80647 , -2.2135  ],[ 0.86291 ,  2.3946  ],\n",
        "    [-3.1108  ,  0.15394 ],[-2.9362  ,  2.5462  ],\n",
        "    [-0.57242 , -2.9915  ],[ 1.4771  ,  3.4896  ],\n",
        "    [ 0.58619 ,  0.37158 ],[ 0.6017  ,  4.3439  ],\n",
        "    [-2.1086  ,  8.3428  ],[-4.1013  , -4.353   ],\n",
        "    [-1.9948  , -1.3927  ],[ 0.35084 , -0.031994],\n",
        "    [ 0.96765 ,  7.8929  ],[-1.281   , 15.6824  ],\n",
        "    [ 0.96765 , 10.083   ],[ 1.3763  ,  1.3347  ],\n",
        "    [-2.234   , -2.5323  ],[-2.9452  , -1.8219  ],\n",
        "    [ 0.14654 , -0.28733 ],[ 0.5461  ,  5.8245  ],\n",
        "    [-0.65259 ,  9.3444  ],[ 0.59912 ,  5.3524  ],\n",
        "    [ 0.50214 , -0.31818 ],[-3.0603  , -3.6461  ],\n",
        "    [-6.6797  ,  0.67661 ],[-2.353   , -0.72261 ],\n",
        "    [ 1.1319  ,  2.4023  ],[-0.12243 ,  9.0162  ],\n",
        "    [-2.5677  , 13.1779  ],[ 0.057313,  5.4681  ],\n",
        "])\n",
        "y_set3 = np.array([0, 0, 0, 0, 0, 0, 0, 0, 0, 0, 0, 0, 0, 0, 0, 0, 0, 0, 0, 0, 1, 1,\n",
        "       1, 1, 1, 1, 1, 1, 1, 1, 1, 1, 1, 1, 1, 1, 1, 1, 1, 1])"
      ],
      "execution_count": 290,
      "outputs": []
    },
    {
      "cell_type": "code",
      "metadata": {
        "id": "Glr1Kk3rhbQ8"
      },
      "source": [
        "X_set3_train, X_set3_test, y_set3_train, y_set3_test = scratch_train_test_split(X_set3, y_set3, train_size=0.8)"
      ],
      "execution_count": 291,
      "outputs": []
    },
    {
      "cell_type": "code",
      "metadata": {
        "colab": {
          "base_uri": "https://localhost:8080/"
        },
        "id": "vL97yDnYhDee",
        "outputId": "a7a19cce-43c8-4cf1-830c-5583c0b69081"
      },
      "source": [
        "print(\"Shape of data\\nX_train: {}\\nY_train: {}\\nX_test: {}\\nY_test: {}\".format(X_set3_train.shape, y_set3_train.shape, X_set3_test.shape, y_set3_test.shape))"
      ],
      "execution_count": 292,
      "outputs": [
        {
          "output_type": "stream",
          "text": [
            "Shape of data\n",
            "X_train: (31, 2)\n",
            "Y_train: (31,)\n",
            "X_test: (9, 2)\n",
            "Y_test: (9,)\n"
          ],
          "name": "stdout"
        }
      ]
    },
    {
      "cell_type": "markdown",
      "metadata": {
        "id": "BeSPH7bghwdh"
      },
      "source": [
        "### [Problem 2] Creating a code to solve the classification problem\n",
        "Building the function to use classfication methods"
      ]
    },
    {
      "cell_type": "code",
      "metadata": {
        "id": "XfX-YjGnj8Qs"
      },
      "source": [
        "from sklearn.pipeline import make_pipeline\n",
        "from sklearn.preprocessing import StandardScaler\n",
        "from sklearn.model_selection import cross_val_score\n",
        "from sklearn.metrics import accuracy_score"
      ],
      "execution_count": 293,
      "outputs": []
    },
    {
      "cell_type": "code",
      "metadata": {
        "id": "d0s4U3jZj_ac"
      },
      "source": [
        "models = [\n",
        "          ('SGD', SGDClassifier()), \n",
        "          ('SVM', SVC()), \n",
        "          ('DTC', DecisionTreeClassifier())\n",
        "        ]"
      ],
      "execution_count": 294,
      "outputs": []
    },
    {
      "cell_type": "code",
      "metadata": {
        "id": "znJ_NjlKtgP4"
      },
      "source": [
        "def classifier_pipeline(X_train, y_train, X_test, y_test, models):\n",
        "  \"\"\"\n",
        "  Parameters\n",
        "\n",
        "  X_train: (ndarray)\n",
        "  The array of tranining inputs\n",
        "\n",
        "  y_train: (ndarray)\n",
        "  The array of tranining objective values\n",
        "\n",
        "  X_test: (ndarray)\n",
        "  The array of testing inputs\n",
        "\n",
        "  y_test: (ndarray)\n",
        "  THe array of testing objective values\n",
        "\n",
        "  pipelines: (list)\n",
        "  A list containing pipelines of few classifier that have ben standardized\n",
        "\n",
        "  -------\n",
        "  Output\n",
        "\n",
        "  accuracy: (list)\n",
        "  A list containing accuracy score corresponding to each method in the given dataset\n",
        "\n",
        "  \n",
        "  \"\"\"\n",
        "  model_name = []\n",
        "  results = []\n",
        "  cross_val = []\n",
        "\n",
        "  for name, model in models:\n",
        "\n",
        "      cross_val_results = cross_val_score(model , X_train, y_train, scoring='accuracy')\n",
        "      std_model = make_pipeline(StandardScaler(), model)\n",
        "      clf = std_model.fit(X_train, y_train)\n",
        "      model_preds = clf.predict(X_test)\n",
        "\n",
        "      accuracy = accuracy_score(y_test, model_preds)\n",
        "\n",
        "      model_name.append(name)\n",
        "      results.append(accuracy)\n",
        "      cross_val.append(cross_val_results.mean())\n",
        "\n",
        "      d = {'model': model_name, 'accuracy': results, 'cross_val': cross_val}\n",
        "      final_df = pd.DataFrame(data=d)\n",
        "\n",
        "  return final_df"
      ],
      "execution_count": 295,
      "outputs": []
    },
    {
      "cell_type": "code",
      "metadata": {
        "colab": {
          "base_uri": "https://localhost:8080/",
          "height": 153
        },
        "id": "5bSfn8XYzXRj",
        "outputId": "be26b9a6-9792-48ab-c4af-ea628a90aad2"
      },
      "source": [
        "set1_df = classifier_pipeline(X_set1_train, y_set1_train, X_set1_test, y_set1_test, models);\n",
        "print(\"Iris dataset\")\n",
        "set1_df"
      ],
      "execution_count": 296,
      "outputs": [
        {
          "output_type": "stream",
          "text": [
            "Iris dataset\n"
          ],
          "name": "stdout"
        },
        {
          "output_type": "execute_result",
          "data": {
            "text/html": [
              "<div>\n",
              "<style scoped>\n",
              "    .dataframe tbody tr th:only-of-type {\n",
              "        vertical-align: middle;\n",
              "    }\n",
              "\n",
              "    .dataframe tbody tr th {\n",
              "        vertical-align: top;\n",
              "    }\n",
              "\n",
              "    .dataframe thead th {\n",
              "        text-align: right;\n",
              "    }\n",
              "</style>\n",
              "<table border=\"1\" class=\"dataframe\">\n",
              "  <thead>\n",
              "    <tr style=\"text-align: right;\">\n",
              "      <th></th>\n",
              "      <th>model</th>\n",
              "      <th>accuracy</th>\n",
              "      <th>cross_val</th>\n",
              "    </tr>\n",
              "  </thead>\n",
              "  <tbody>\n",
              "    <tr>\n",
              "      <th>0</th>\n",
              "      <td>SGD</td>\n",
              "      <td>1.0</td>\n",
              "      <td>0.7125</td>\n",
              "    </tr>\n",
              "    <tr>\n",
              "      <th>1</th>\n",
              "      <td>SVM</td>\n",
              "      <td>1.0</td>\n",
              "      <td>0.9375</td>\n",
              "    </tr>\n",
              "    <tr>\n",
              "      <th>2</th>\n",
              "      <td>DTC</td>\n",
              "      <td>1.0</td>\n",
              "      <td>0.9125</td>\n",
              "    </tr>\n",
              "  </tbody>\n",
              "</table>\n",
              "</div>"
            ],
            "text/plain": [
              "  model  accuracy  cross_val\n",
              "0   SGD       1.0     0.7125\n",
              "1   SVM       1.0     0.9375\n",
              "2   DTC       1.0     0.9125"
            ]
          },
          "metadata": {
            "tags": []
          },
          "execution_count": 296
        }
      ]
    },
    {
      "cell_type": "code",
      "metadata": {
        "colab": {
          "base_uri": "https://localhost:8080/",
          "height": 153
        },
        "id": "gY-VJl8X9eEE",
        "outputId": "8716ef17-bc43-472f-a977-68692a999483"
      },
      "source": [
        "set2_df = classifier_pipeline(X_set2_train, y_set2_train, X_set2_test, y_set2_test, models);\n",
        "print(\"Artificial dataset 1\")\n",
        "set2_df"
      ],
      "execution_count": 297,
      "outputs": [
        {
          "output_type": "stream",
          "text": [
            "Artificial dataset 1\n"
          ],
          "name": "stdout"
        },
        {
          "output_type": "execute_result",
          "data": {
            "text/html": [
              "<div>\n",
              "<style scoped>\n",
              "    .dataframe tbody tr th:only-of-type {\n",
              "        vertical-align: middle;\n",
              "    }\n",
              "\n",
              "    .dataframe tbody tr th {\n",
              "        vertical-align: top;\n",
              "    }\n",
              "\n",
              "    .dataframe thead th {\n",
              "        text-align: right;\n",
              "    }\n",
              "</style>\n",
              "<table border=\"1\" class=\"dataframe\">\n",
              "  <thead>\n",
              "    <tr style=\"text-align: right;\">\n",
              "      <th></th>\n",
              "      <th>model</th>\n",
              "      <th>accuracy</th>\n",
              "      <th>cross_val</th>\n",
              "    </tr>\n",
              "  </thead>\n",
              "  <tbody>\n",
              "    <tr>\n",
              "      <th>0</th>\n",
              "      <td>SGD</td>\n",
              "      <td>1.0</td>\n",
              "      <td>1.000000</td>\n",
              "    </tr>\n",
              "    <tr>\n",
              "      <th>1</th>\n",
              "      <td>SVM</td>\n",
              "      <td>1.0</td>\n",
              "      <td>1.000000</td>\n",
              "    </tr>\n",
              "    <tr>\n",
              "      <th>2</th>\n",
              "      <td>DTC</td>\n",
              "      <td>1.0</td>\n",
              "      <td>0.992208</td>\n",
              "    </tr>\n",
              "  </tbody>\n",
              "</table>\n",
              "</div>"
            ],
            "text/plain": [
              "  model  accuracy  cross_val\n",
              "0   SGD       1.0   1.000000\n",
              "1   SVM       1.0   1.000000\n",
              "2   DTC       1.0   0.992208"
            ]
          },
          "metadata": {
            "tags": []
          },
          "execution_count": 297
        }
      ]
    },
    {
      "cell_type": "code",
      "metadata": {
        "colab": {
          "base_uri": "https://localhost:8080/",
          "height": 153
        },
        "id": "97EgpREk9l-J",
        "outputId": "8cda5830-ea67-494e-e54c-a1dab2bc086c"
      },
      "source": [
        "set3_df = classifier_pipeline(X_set3_train, y_set3_train, X_set3_test, y_set3_test, models);\n",
        "print(\"Artificial dataset 2\")\n",
        "set3_df"
      ],
      "execution_count": 298,
      "outputs": [
        {
          "output_type": "stream",
          "text": [
            "Artificial dataset 2\n"
          ],
          "name": "stdout"
        },
        {
          "output_type": "execute_result",
          "data": {
            "text/html": [
              "<div>\n",
              "<style scoped>\n",
              "    .dataframe tbody tr th:only-of-type {\n",
              "        vertical-align: middle;\n",
              "    }\n",
              "\n",
              "    .dataframe tbody tr th {\n",
              "        vertical-align: top;\n",
              "    }\n",
              "\n",
              "    .dataframe thead th {\n",
              "        text-align: right;\n",
              "    }\n",
              "</style>\n",
              "<table border=\"1\" class=\"dataframe\">\n",
              "  <thead>\n",
              "    <tr style=\"text-align: right;\">\n",
              "      <th></th>\n",
              "      <th>model</th>\n",
              "      <th>accuracy</th>\n",
              "      <th>cross_val</th>\n",
              "    </tr>\n",
              "  </thead>\n",
              "  <tbody>\n",
              "    <tr>\n",
              "      <th>0</th>\n",
              "      <td>SGD</td>\n",
              "      <td>0.444444</td>\n",
              "      <td>0.290476</td>\n",
              "    </tr>\n",
              "    <tr>\n",
              "      <th>1</th>\n",
              "      <td>SVM</td>\n",
              "      <td>0.333333</td>\n",
              "      <td>0.385714</td>\n",
              "    </tr>\n",
              "    <tr>\n",
              "      <th>2</th>\n",
              "      <td>DTC</td>\n",
              "      <td>0.666667</td>\n",
              "      <td>0.476190</td>\n",
              "    </tr>\n",
              "  </tbody>\n",
              "</table>\n",
              "</div>"
            ],
            "text/plain": [
              "  model  accuracy  cross_val\n",
              "0   SGD  0.444444   0.290476\n",
              "1   SVM  0.333333   0.385714\n",
              "2   DTC  0.666667   0.476190"
            ]
          },
          "metadata": {
            "tags": []
          },
          "execution_count": 298
        }
      ]
    },
    {
      "cell_type": "markdown",
      "metadata": {
        "id": "TVEtTk0ZC5X8"
      },
      "source": [
        "### [Problem 3] Predicting House Prices"
      ]
    },
    {
      "cell_type": "code",
      "metadata": {
        "id": "QWR0LhTZCNwY"
      },
      "source": [
        "df_train = pd.read_csv('/content/train.csv')\n",
        "df_test = pd.read_csv('/content/test.csv')"
      ],
      "execution_count": 299,
      "outputs": []
    },
    {
      "cell_type": "code",
      "metadata": {
        "colab": {
          "base_uri": "https://localhost:8080/"
        },
        "id": "LswQ-8TdDOX_",
        "outputId": "b6ecbc1d-177b-4b4c-e731-263c267c9a27"
      },
      "source": [
        "print(\"Train dataset -- Rows: {}, Columns: {}\".format(df_train.shape[0], df_test.shape[1]))\n",
        "print(\"Test dataset -- Rows: {}, Columns: {}\".format(df_test.shape[0], df_test.shape[1]))"
      ],
      "execution_count": 300,
      "outputs": [
        {
          "output_type": "stream",
          "text": [
            "Train dataset -- Rows: 1460, Columns: 80\n",
            "Test dataset -- Rows: 1459, Columns: 80\n"
          ],
          "name": "stdout"
        }
      ]
    },
    {
      "cell_type": "markdown",
      "metadata": {
        "id": "IASzei_6DrHQ"
      },
      "source": [
        "Check missing values"
      ]
    },
    {
      "cell_type": "code",
      "metadata": {
        "id": "1Mj_Gzx8Dh3y"
      },
      "source": [
        "# Check missing values\n",
        "def check_missing(df):\n",
        "    # Create a hash dictionary contain missing ratio of each feature\n",
        "    miss_dict = {}\n",
        "    for columns in df:\n",
        "        count = df[columns].isna().sum()\n",
        "        ratio = count/len(df[columns])\n",
        "        datatype = df[columns].dtype\n",
        "        miss_dict[columns] = [count, ratio, datatype]\n",
        "    \n",
        "    return miss_dict"
      ],
      "execution_count": 301,
      "outputs": []
    },
    {
      "cell_type": "code",
      "metadata": {
        "colab": {
          "base_uri": "https://localhost:8080/",
          "height": 418
        },
        "id": "abY7c3AHDkPd",
        "outputId": "1eb67093-12e4-4059-8955-edc40f34ca6a"
      },
      "source": [
        "miss_ratio = pd.DataFrame(check_missing(df_train), ['Total', 'Ratio', 'Type']).T\n",
        "print(\"Missing ratio table\")\n",
        "miss_ratio"
      ],
      "execution_count": 302,
      "outputs": [
        {
          "output_type": "stream",
          "text": [
            "Missing ratio table\n"
          ],
          "name": "stdout"
        },
        {
          "output_type": "execute_result",
          "data": {
            "text/html": [
              "<div>\n",
              "<style scoped>\n",
              "    .dataframe tbody tr th:only-of-type {\n",
              "        vertical-align: middle;\n",
              "    }\n",
              "\n",
              "    .dataframe tbody tr th {\n",
              "        vertical-align: top;\n",
              "    }\n",
              "\n",
              "    .dataframe thead th {\n",
              "        text-align: right;\n",
              "    }\n",
              "</style>\n",
              "<table border=\"1\" class=\"dataframe\">\n",
              "  <thead>\n",
              "    <tr style=\"text-align: right;\">\n",
              "      <th></th>\n",
              "      <th>Total</th>\n",
              "      <th>Ratio</th>\n",
              "      <th>Type</th>\n",
              "    </tr>\n",
              "  </thead>\n",
              "  <tbody>\n",
              "    <tr>\n",
              "      <th>Id</th>\n",
              "      <td>0</td>\n",
              "      <td>0</td>\n",
              "      <td>int64</td>\n",
              "    </tr>\n",
              "    <tr>\n",
              "      <th>MSSubClass</th>\n",
              "      <td>0</td>\n",
              "      <td>0</td>\n",
              "      <td>int64</td>\n",
              "    </tr>\n",
              "    <tr>\n",
              "      <th>MSZoning</th>\n",
              "      <td>0</td>\n",
              "      <td>0</td>\n",
              "      <td>object</td>\n",
              "    </tr>\n",
              "    <tr>\n",
              "      <th>LotFrontage</th>\n",
              "      <td>259</td>\n",
              "      <td>0.177397</td>\n",
              "      <td>float64</td>\n",
              "    </tr>\n",
              "    <tr>\n",
              "      <th>LotArea</th>\n",
              "      <td>0</td>\n",
              "      <td>0</td>\n",
              "      <td>int64</td>\n",
              "    </tr>\n",
              "    <tr>\n",
              "      <th>...</th>\n",
              "      <td>...</td>\n",
              "      <td>...</td>\n",
              "      <td>...</td>\n",
              "    </tr>\n",
              "    <tr>\n",
              "      <th>MoSold</th>\n",
              "      <td>0</td>\n",
              "      <td>0</td>\n",
              "      <td>int64</td>\n",
              "    </tr>\n",
              "    <tr>\n",
              "      <th>YrSold</th>\n",
              "      <td>0</td>\n",
              "      <td>0</td>\n",
              "      <td>int64</td>\n",
              "    </tr>\n",
              "    <tr>\n",
              "      <th>SaleType</th>\n",
              "      <td>0</td>\n",
              "      <td>0</td>\n",
              "      <td>object</td>\n",
              "    </tr>\n",
              "    <tr>\n",
              "      <th>SaleCondition</th>\n",
              "      <td>0</td>\n",
              "      <td>0</td>\n",
              "      <td>object</td>\n",
              "    </tr>\n",
              "    <tr>\n",
              "      <th>SalePrice</th>\n",
              "      <td>0</td>\n",
              "      <td>0</td>\n",
              "      <td>int64</td>\n",
              "    </tr>\n",
              "  </tbody>\n",
              "</table>\n",
              "<p>81 rows × 3 columns</p>\n",
              "</div>"
            ],
            "text/plain": [
              "              Total     Ratio     Type\n",
              "Id                0         0    int64\n",
              "MSSubClass        0         0    int64\n",
              "MSZoning          0         0   object\n",
              "LotFrontage     259  0.177397  float64\n",
              "LotArea           0         0    int64\n",
              "...             ...       ...      ...\n",
              "MoSold            0         0    int64\n",
              "YrSold            0         0    int64\n",
              "SaleType          0         0   object\n",
              "SaleCondition     0         0   object\n",
              "SalePrice         0         0    int64\n",
              "\n",
              "[81 rows x 3 columns]"
            ]
          },
          "metadata": {
            "tags": []
          },
          "execution_count": 302
        }
      ]
    },
    {
      "cell_type": "markdown",
      "metadata": {
        "id": "xvo-5xZTD4oW"
      },
      "source": [
        "Display features having missing ratio greater than 0"
      ]
    },
    {
      "cell_type": "code",
      "metadata": {
        "colab": {
          "base_uri": "https://localhost:8080/",
          "height": 626
        },
        "id": "PeAOYPG-DyEp",
        "outputId": "266f3d93-28f4-42b0-b201-f8afb2743a33"
      },
      "source": [
        "miss_feature = miss_ratio[miss_ratio.Ratio > 0]\n",
        "print(\"Total feature missing values: {}\".format(len(miss_feature)))\n",
        "miss_feature"
      ],
      "execution_count": 303,
      "outputs": [
        {
          "output_type": "stream",
          "text": [
            "Total feature missing values: 19\n"
          ],
          "name": "stdout"
        },
        {
          "output_type": "execute_result",
          "data": {
            "text/html": [
              "<div>\n",
              "<style scoped>\n",
              "    .dataframe tbody tr th:only-of-type {\n",
              "        vertical-align: middle;\n",
              "    }\n",
              "\n",
              "    .dataframe tbody tr th {\n",
              "        vertical-align: top;\n",
              "    }\n",
              "\n",
              "    .dataframe thead th {\n",
              "        text-align: right;\n",
              "    }\n",
              "</style>\n",
              "<table border=\"1\" class=\"dataframe\">\n",
              "  <thead>\n",
              "    <tr style=\"text-align: right;\">\n",
              "      <th></th>\n",
              "      <th>Total</th>\n",
              "      <th>Ratio</th>\n",
              "      <th>Type</th>\n",
              "    </tr>\n",
              "  </thead>\n",
              "  <tbody>\n",
              "    <tr>\n",
              "      <th>LotFrontage</th>\n",
              "      <td>259</td>\n",
              "      <td>0.177397</td>\n",
              "      <td>float64</td>\n",
              "    </tr>\n",
              "    <tr>\n",
              "      <th>Alley</th>\n",
              "      <td>1369</td>\n",
              "      <td>0.937671</td>\n",
              "      <td>object</td>\n",
              "    </tr>\n",
              "    <tr>\n",
              "      <th>MasVnrType</th>\n",
              "      <td>8</td>\n",
              "      <td>0.00547945</td>\n",
              "      <td>object</td>\n",
              "    </tr>\n",
              "    <tr>\n",
              "      <th>MasVnrArea</th>\n",
              "      <td>8</td>\n",
              "      <td>0.00547945</td>\n",
              "      <td>float64</td>\n",
              "    </tr>\n",
              "    <tr>\n",
              "      <th>BsmtQual</th>\n",
              "      <td>37</td>\n",
              "      <td>0.0253425</td>\n",
              "      <td>object</td>\n",
              "    </tr>\n",
              "    <tr>\n",
              "      <th>BsmtCond</th>\n",
              "      <td>37</td>\n",
              "      <td>0.0253425</td>\n",
              "      <td>object</td>\n",
              "    </tr>\n",
              "    <tr>\n",
              "      <th>BsmtExposure</th>\n",
              "      <td>38</td>\n",
              "      <td>0.0260274</td>\n",
              "      <td>object</td>\n",
              "    </tr>\n",
              "    <tr>\n",
              "      <th>BsmtFinType1</th>\n",
              "      <td>37</td>\n",
              "      <td>0.0253425</td>\n",
              "      <td>object</td>\n",
              "    </tr>\n",
              "    <tr>\n",
              "      <th>BsmtFinType2</th>\n",
              "      <td>38</td>\n",
              "      <td>0.0260274</td>\n",
              "      <td>object</td>\n",
              "    </tr>\n",
              "    <tr>\n",
              "      <th>Electrical</th>\n",
              "      <td>1</td>\n",
              "      <td>0.000684932</td>\n",
              "      <td>object</td>\n",
              "    </tr>\n",
              "    <tr>\n",
              "      <th>FireplaceQu</th>\n",
              "      <td>690</td>\n",
              "      <td>0.472603</td>\n",
              "      <td>object</td>\n",
              "    </tr>\n",
              "    <tr>\n",
              "      <th>GarageType</th>\n",
              "      <td>81</td>\n",
              "      <td>0.0554795</td>\n",
              "      <td>object</td>\n",
              "    </tr>\n",
              "    <tr>\n",
              "      <th>GarageYrBlt</th>\n",
              "      <td>81</td>\n",
              "      <td>0.0554795</td>\n",
              "      <td>float64</td>\n",
              "    </tr>\n",
              "    <tr>\n",
              "      <th>GarageFinish</th>\n",
              "      <td>81</td>\n",
              "      <td>0.0554795</td>\n",
              "      <td>object</td>\n",
              "    </tr>\n",
              "    <tr>\n",
              "      <th>GarageQual</th>\n",
              "      <td>81</td>\n",
              "      <td>0.0554795</td>\n",
              "      <td>object</td>\n",
              "    </tr>\n",
              "    <tr>\n",
              "      <th>GarageCond</th>\n",
              "      <td>81</td>\n",
              "      <td>0.0554795</td>\n",
              "      <td>object</td>\n",
              "    </tr>\n",
              "    <tr>\n",
              "      <th>PoolQC</th>\n",
              "      <td>1453</td>\n",
              "      <td>0.995205</td>\n",
              "      <td>object</td>\n",
              "    </tr>\n",
              "    <tr>\n",
              "      <th>Fence</th>\n",
              "      <td>1179</td>\n",
              "      <td>0.807534</td>\n",
              "      <td>object</td>\n",
              "    </tr>\n",
              "    <tr>\n",
              "      <th>MiscFeature</th>\n",
              "      <td>1406</td>\n",
              "      <td>0.963014</td>\n",
              "      <td>object</td>\n",
              "    </tr>\n",
              "  </tbody>\n",
              "</table>\n",
              "</div>"
            ],
            "text/plain": [
              "             Total        Ratio     Type\n",
              "LotFrontage    259     0.177397  float64\n",
              "Alley         1369     0.937671   object\n",
              "MasVnrType       8   0.00547945   object\n",
              "MasVnrArea       8   0.00547945  float64\n",
              "BsmtQual        37    0.0253425   object\n",
              "BsmtCond        37    0.0253425   object\n",
              "BsmtExposure    38    0.0260274   object\n",
              "BsmtFinType1    37    0.0253425   object\n",
              "BsmtFinType2    38    0.0260274   object\n",
              "Electrical       1  0.000684932   object\n",
              "FireplaceQu    690     0.472603   object\n",
              "GarageType      81    0.0554795   object\n",
              "GarageYrBlt     81    0.0554795  float64\n",
              "GarageFinish    81    0.0554795   object\n",
              "GarageQual      81    0.0554795   object\n",
              "GarageCond      81    0.0554795   object\n",
              "PoolQC        1453     0.995205   object\n",
              "Fence         1179     0.807534   object\n",
              "MiscFeature   1406     0.963014   object"
            ]
          },
          "metadata": {
            "tags": []
          },
          "execution_count": 303
        }
      ]
    },
    {
      "cell_type": "markdown",
      "metadata": {
        "id": "8GUNnjT4EDWB"
      },
      "source": [
        "Join the dataset for imputing and encoding"
      ]
    },
    {
      "cell_type": "code",
      "metadata": {
        "id": "2ZPv2-e9EGlw"
      },
      "source": [
        "target = df_train['SalePrice'] \n",
        "df_train = df_train.drop('SalePrice', axis=1)"
      ],
      "execution_count": 304,
      "outputs": []
    },
    {
      "cell_type": "code",
      "metadata": {
        "id": "gN7-GqL8EiEe"
      },
      "source": [
        "df_train['training_dataset'] = True # Distinguish the train and test dataset when join them together\n",
        "df_test['training_dataset'] = False\n",
        "test_index = df_test['Id']"
      ],
      "execution_count": 305,
      "outputs": []
    },
    {
      "cell_type": "code",
      "metadata": {
        "colab": {
          "base_uri": "https://localhost:8080/"
        },
        "id": "J574lV2KElR0",
        "outputId": "f212434a-b5c7-4996-a23c-903be2d45b48"
      },
      "source": [
        "df_total = pd.concat([df_train, df_test]) # Concatenate both dataframes\n",
        "df_total = df_total.drop('Id', axis=1) # Drop the ID column comes from test dataset\n",
        "print(\"The shape of our full dataset: {}\".format(df_total.shape))"
      ],
      "execution_count": 306,
      "outputs": [
        {
          "output_type": "stream",
          "text": [
            "The shape of our full dataset: (2919, 80)\n"
          ],
          "name": "stdout"
        }
      ]
    },
    {
      "cell_type": "markdown",
      "metadata": {
        "id": "9KhEOlMLFFoD"
      },
      "source": [
        "Encoding categorical features"
      ]
    },
    {
      "cell_type": "code",
      "metadata": {
        "id": "BOaaW4nHFGK0"
      },
      "source": [
        "from sklearn.preprocessing import LabelEncoder\n",
        "# Create a label encoder object\n",
        "label_en = LabelEncoder()"
      ],
      "execution_count": 307,
      "outputs": []
    },
    {
      "cell_type": "code",
      "metadata": {
        "colab": {
          "base_uri": "https://localhost:8080/"
        },
        "id": "5rbEJHb8GK43",
        "outputId": "e3429ce4-c35c-42c6-9a5b-cbe2fc3c2a67"
      },
      "source": [
        "df_total.dtypes.value_counts()"
      ],
      "execution_count": 308,
      "outputs": [
        {
          "output_type": "execute_result",
          "data": {
            "text/plain": [
              "object     43\n",
              "int64      25\n",
              "float64    11\n",
              "bool        1\n",
              "dtype: int64"
            ]
          },
          "metadata": {
            "tags": []
          },
          "execution_count": 308
        }
      ]
    },
    {
      "cell_type": "code",
      "metadata": {
        "id": "3eG9hU46FdP2"
      },
      "source": [
        "def encode_data(df_total):\n",
        "  \"\"\"\n",
        "  A function that traverse all features from the dataset and encode the categorical features into numerical values\n",
        "  so the dataset will be able to fully apply Regression method.\n",
        "\n",
        "  Parameter\n",
        "  --------\n",
        "  df_total: (dataframe)\n",
        "  The dataset where categorical features exist and they need to be encoded\n",
        "\n",
        "  Output\n",
        "  --------\n",
        "  new_df (dataframe)\n",
        "  The new dataset that have encoded all categorical features\n",
        "\n",
        "  \"\"\"\n",
        "\n",
        "  label_en_count = 0 # Count the number of categorical features that can be converted\n",
        "  for columns in df_total.columns[0:]:\n",
        "      if df_total[columns].dtype == 'object':\n",
        "          if len(list(df_total[columns].unique())) <= 2: # Encode the column that have at most 2 labels\n",
        "              label_en.fit(df_total[columns])\n",
        "              df_total[columns] = label_en.transform(df_total[columns])\n",
        "              label_en_count += 1\n",
        "              print(\"{} have been modified\".format(columns))\n",
        "\n",
        "  print('{} columns have been encoded.'.format(label_en_count))\n",
        "\n",
        "  new_df = pd.get_dummies(df_total)\n",
        "\n",
        "  print(\"The shape of full ENCODED dataset: {}\".format(new_df.shape))\n",
        "\n",
        "  return new_df"
      ],
      "execution_count": 309,
      "outputs": []
    },
    {
      "cell_type": "code",
      "metadata": {
        "colab": {
          "base_uri": "https://localhost:8080/"
        },
        "id": "8dTeEfIfGuW-",
        "outputId": "dee4459d-0d31-407a-bc77-3c8730235418"
      },
      "source": [
        "encoded_df = encode_data(df_total)"
      ],
      "execution_count": 310,
      "outputs": [
        {
          "output_type": "stream",
          "text": [
            "Street have been modified\n",
            "CentralAir have been modified\n",
            "2 columns have been encoded.\n",
            "The shape of full ENCODED dataset: (2919, 287)\n"
          ],
          "name": "stdout"
        }
      ]
    },
    {
      "cell_type": "markdown",
      "metadata": {
        "id": "al5409dZIkaM"
      },
      "source": [
        "After encoding, the number of features increased from 80 to 287 (excluding SalePrice and Id). The reason behind this increasement is due to the mechanism of LabelEncoder. \n",
        "\n",
        "In fact, it analyze the feature that is a category type and with at most two labels, then convert the categorical labels of that column into binary values like 0 or 1. \n",
        "\n",
        "Nevertheless, the other columns with more than 2 labels cannot be fitted into this binary scheme. Therefore, the pd.get_dummies function help to split those columns with n labels into n different columns, and thus increase our number of features.\n",
        "\n",
        "For example: The feature 'Heating' has more than 2 labels which are GasA, GasW, Grav, Wall, ... So in the end of the encoding, the original column will be used to split into 4 different more columns whose name would be like: Heating_GasA, Heating_GasW, Heating_Grav, Heating_Wall, ..."
      ]
    },
    {
      "cell_type": "markdown",
      "metadata": {
        "id": "Lq24ZoeMKt-7"
      },
      "source": [
        "Imputing missing values"
      ]
    },
    {
      "cell_type": "code",
      "metadata": {
        "id": "vi4LpooVK4Xt"
      },
      "source": [
        "from sklearn.impute import SimpleImputer\n",
        "import numpy as np\n",
        "from pandas.api.types import is_string_dtype\n",
        "from pandas.api.types import is_numeric_dtype"
      ],
      "execution_count": 311,
      "outputs": []
    },
    {
      "cell_type": "code",
      "metadata": {
        "id": "gdROVtubK_d_"
      },
      "source": [
        "def fill_missing_value(df_total):\n",
        "    \"\"\"\n",
        "    A function that fill all missing values across the dataframe\n",
        "\n",
        "    (The first version's job is to check if the columns is numerical type.\n",
        "    However, thanks to the label encoder that process on categorical features,\n",
        "    all columns are now having numerical values so we do not need to check it again. )\n",
        "\n",
        "    Parameter\n",
        "    --------\n",
        "    df_total: (dataframe)\n",
        "    The dataset where categorical features exist and they need to be encoded\n",
        "\n",
        "    Output\n",
        "    --------\n",
        "    new_df (dataframe)\n",
        "    The new dataset that have encoded all categorical features\n",
        "    \"\"\"\n",
        "    new_df = df_total\n",
        "    imr = SimpleImputer(missing_values=np.NaN, strategy='median')\n",
        "\n",
        "    print(\"Total missing value BEFORE imputing: {}\".format(df_total.isna().sum().sum()))\n",
        "    \n",
        "    for columns in new_df.columns[0:]:\n",
        "        #if is_numeric_dtype(new_df[columns]):\n",
        "        imr_all = imr.fit(new_df[[columns]])\n",
        "        new_df[columns] = imr_all.transform(new_df[[columns]]).ravel()\n",
        "\n",
        "    print(\"Total missing value AFTER imputing: {}\".format(new_df.isna().sum().sum()))\n",
        "\n",
        "    print(\"-----------------------------------\")\n",
        "\n",
        "    miss_ratio_full = pd.DataFrame(check_missing(new_df), ['Total', 'Ratio', 'Type']).T\n",
        "    print(\"Missing ratio table after imputing and encoding\")\n",
        "    miss_ratio_full\n",
        "\n",
        "    print(\"Total missing value: {}\".format(int(miss_ratio_full[miss_ratio_full.Total > 0].sum().sum())))\n",
        "\n",
        "    return new_df"
      ],
      "execution_count": 312,
      "outputs": []
    },
    {
      "cell_type": "code",
      "metadata": {
        "colab": {
          "base_uri": "https://localhost:8080/"
        },
        "id": "GOxdbOzyMayS",
        "outputId": "156069dc-6f6c-49ba-bc8b-6d119a46d8b6"
      },
      "source": [
        "optimized_df = fill_missing_value(encoded_df)"
      ],
      "execution_count": 313,
      "outputs": [
        {
          "output_type": "stream",
          "text": [
            "Total missing value BEFORE imputing: 678\n",
            "Total missing value AFTER imputing: 0\n",
            "-----------------------------------\n",
            "Missing ratio table after imputing and encoding\n",
            "Total missing value: 0\n"
          ],
          "name": "stdout"
        }
      ]
    },
    {
      "cell_type": "markdown",
      "metadata": {
        "id": "VJUHgXnDRV0w"
      },
      "source": [
        "Split the data"
      ]
    },
    {
      "cell_type": "code",
      "metadata": {
        "id": "NHWRdAbcRQOK"
      },
      "source": [
        "df_train = optimized_df[optimized_df['training_dataset']==True]\n",
        "df_train = df_train.drop('training_dataset', axis=1)\n",
        "df_test = optimized_df[optimized_df['training_dataset']==False]\n",
        "df_test = df_test.drop('training_dataset', axis=1)"
      ],
      "execution_count": 314,
      "outputs": []
    },
    {
      "cell_type": "code",
      "metadata": {
        "colab": {
          "base_uri": "https://localhost:8080/"
        },
        "id": "yWJNI-YaRepB",
        "outputId": "eff6c3c8-4ebb-4e37-fa77-1435c71ebc98"
      },
      "source": [
        "print('Size of Train Dataset:', df_train.shape)\n",
        "print('Size of Test Dataset:', df_test.shape)\n",
        "print('Size of target:', target.shape)"
      ],
      "execution_count": 315,
      "outputs": [
        {
          "output_type": "stream",
          "text": [
            "Size of Train Dataset: (1460, 286)\n",
            "Size of Test Dataset: (1459, 286)\n",
            "Size of target: (1460,)\n"
          ],
          "name": "stdout"
        }
      ]
    },
    {
      "cell_type": "markdown",
      "metadata": {
        "id": "v3_A-yAodThy"
      },
      "source": [
        "Create dataset with only two required explanatory features"
      ]
    },
    {
      "cell_type": "code",
      "metadata": {
        "colab": {
          "base_uri": "https://localhost:8080/"
        },
        "id": "_A5rvYPmciUr",
        "outputId": "5a008296-519b-436a-bd0e-10a9bb6247f3"
      },
      "source": [
        "# Take two explanatory variables which are GrLivArea and YearBuilt\n",
        "new_df_train = df_train[['GrLivArea', 'YearBuilt']].copy()\n",
        "new_df_test = df_test[['GrLivArea', 'YearBuilt']].copy()\n",
        "print('Size of New Train Dataset:', new_df_train.shape)\n",
        "print('Size of New Test Dataset:', new_df_test.shape)\n",
        "print('Size of target:', target.shape)"
      ],
      "execution_count": 485,
      "outputs": [
        {
          "output_type": "stream",
          "text": [
            "Size of New Train Dataset: (1460, 2)\n",
            "Size of New Test Dataset: (1459, 2)\n",
            "Size of target: (1460,)\n"
          ],
          "name": "stdout"
        }
      ]
    },
    {
      "cell_type": "markdown",
      "metadata": {
        "id": "fxtDNKHTgFCS"
      },
      "source": [
        "The test dataset is for the later testing process only. During the training process, we need to know if our model works well, and the predictions is accurate or not. Therefore, we will split the train dataset into two: train and validation dataset, by using the scratch_train_test_split function."
      ]
    },
    {
      "cell_type": "code",
      "metadata": {
        "id": "tzkh_3wSgXKQ"
      },
      "source": [
        "X_house_train, X_house_val, y_house_train, y_house_val = scratch_train_test_split(new_df_train, target, train_size=0.8)"
      ],
      "execution_count": 380,
      "outputs": []
    },
    {
      "cell_type": "markdown",
      "metadata": {
        "id": "yCoId3uJWVpk"
      },
      "source": [
        "K-Fold Cross-Validator"
      ]
    },
    {
      "cell_type": "code",
      "metadata": {
        "id": "QXdj-OA_WTAU"
      },
      "source": [
        "from sklearn.model_selection import KFold\n",
        "# Prepare cross validation\n",
        "kfolds = KFold(n_splits=5, shuffle=True, random_state=1)"
      ],
      "execution_count": 385,
      "outputs": []
    },
    {
      "cell_type": "markdown",
      "metadata": {
        "id": "yJr9mkVYWn3a"
      },
      "source": [
        "Model Pipeline with GridSearchCV"
      ]
    },
    {
      "cell_type": "code",
      "metadata": {
        "id": "1PdByJvIWkoa"
      },
      "source": [
        "from sklearn.pipeline import Pipeline\n",
        "from sklearn.linear_model import SGDRegressor\n",
        "from sklearn.preprocessing import StandardScaler\n",
        "sgd_model = Pipeline([('scaler', StandardScaler()),\n",
        "                      ('SGD_estimator', SGDRegressor(max_iter=1000, early_stopping=True))]) # Improve the fit"
      ],
      "execution_count": 395,
      "outputs": []
    },
    {
      "cell_type": "code",
      "metadata": {
        "id": "JtGTW5hYY0uI"
      },
      "source": [
        "from sklearn.model_selection import GridSearchCV\n",
        "\n",
        "## Search grid for optimal parameters\n",
        "sgd_grid = [{\"SGD_estimator__loss\" : [\"huber\", \"epsilon_insensitive\", \"squared_loss\"],\n",
        "             \"SGD_estimator__alpha\" : [0.0001, 0.001, 0.01],\n",
        "              \"SGD_estimator__tol\" : [0.0001,0.0002,0.0003]}]"
      ],
      "execution_count": 396,
      "outputs": []
    },
    {
      "cell_type": "code",
      "metadata": {
        "colab": {
          "base_uri": "https://localhost:8080/"
        },
        "id": "-MXHeP5yZKGQ",
        "outputId": "303ab7aa-73a4-4113-8ad8-ab960325a7a3"
      },
      "source": [
        "gridSGD = GridSearchCV(sgd_model, param_grid = sgd_grid, scoring='neg_root_mean_squared_error', cv=kfolds, verbose=1)\n",
        "gridSGD.fit(X_house_train, y_house_train)"
      ],
      "execution_count": 397,
      "outputs": [
        {
          "output_type": "stream",
          "text": [
            "Fitting 5 folds for each of 27 candidates, totalling 135 fits\n"
          ],
          "name": "stdout"
        },
        {
          "output_type": "stream",
          "text": [
            "[Parallel(n_jobs=1)]: Using backend SequentialBackend with 1 concurrent workers.\n",
            "/usr/local/lib/python3.7/dist-packages/sklearn/linear_model/_stochastic_gradient.py:1187: ConvergenceWarning: Maximum number of iteration reached before convergence. Consider increasing max_iter to improve the fit.\n",
            "  ConvergenceWarning)\n",
            "/usr/local/lib/python3.7/dist-packages/sklearn/linear_model/_stochastic_gradient.py:1187: ConvergenceWarning: Maximum number of iteration reached before convergence. Consider increasing max_iter to improve the fit.\n",
            "  ConvergenceWarning)\n",
            "/usr/local/lib/python3.7/dist-packages/sklearn/linear_model/_stochastic_gradient.py:1187: ConvergenceWarning: Maximum number of iteration reached before convergence. Consider increasing max_iter to improve the fit.\n",
            "  ConvergenceWarning)\n",
            "/usr/local/lib/python3.7/dist-packages/sklearn/linear_model/_stochastic_gradient.py:1187: ConvergenceWarning: Maximum number of iteration reached before convergence. Consider increasing max_iter to improve the fit.\n",
            "  ConvergenceWarning)\n",
            "/usr/local/lib/python3.7/dist-packages/sklearn/linear_model/_stochastic_gradient.py:1187: ConvergenceWarning: Maximum number of iteration reached before convergence. Consider increasing max_iter to improve the fit.\n",
            "  ConvergenceWarning)\n",
            "/usr/local/lib/python3.7/dist-packages/sklearn/linear_model/_stochastic_gradient.py:1187: ConvergenceWarning: Maximum number of iteration reached before convergence. Consider increasing max_iter to improve the fit.\n",
            "  ConvergenceWarning)\n",
            "/usr/local/lib/python3.7/dist-packages/sklearn/linear_model/_stochastic_gradient.py:1187: ConvergenceWarning: Maximum number of iteration reached before convergence. Consider increasing max_iter to improve the fit.\n",
            "  ConvergenceWarning)\n",
            "/usr/local/lib/python3.7/dist-packages/sklearn/linear_model/_stochastic_gradient.py:1187: ConvergenceWarning: Maximum number of iteration reached before convergence. Consider increasing max_iter to improve the fit.\n",
            "  ConvergenceWarning)\n",
            "/usr/local/lib/python3.7/dist-packages/sklearn/linear_model/_stochastic_gradient.py:1187: ConvergenceWarning: Maximum number of iteration reached before convergence. Consider increasing max_iter to improve the fit.\n",
            "  ConvergenceWarning)\n",
            "/usr/local/lib/python3.7/dist-packages/sklearn/linear_model/_stochastic_gradient.py:1187: ConvergenceWarning: Maximum number of iteration reached before convergence. Consider increasing max_iter to improve the fit.\n",
            "  ConvergenceWarning)\n",
            "/usr/local/lib/python3.7/dist-packages/sklearn/linear_model/_stochastic_gradient.py:1187: ConvergenceWarning: Maximum number of iteration reached before convergence. Consider increasing max_iter to improve the fit.\n",
            "  ConvergenceWarning)\n",
            "/usr/local/lib/python3.7/dist-packages/sklearn/linear_model/_stochastic_gradient.py:1187: ConvergenceWarning: Maximum number of iteration reached before convergence. Consider increasing max_iter to improve the fit.\n",
            "  ConvergenceWarning)\n",
            "/usr/local/lib/python3.7/dist-packages/sklearn/linear_model/_stochastic_gradient.py:1187: ConvergenceWarning: Maximum number of iteration reached before convergence. Consider increasing max_iter to improve the fit.\n",
            "  ConvergenceWarning)\n",
            "/usr/local/lib/python3.7/dist-packages/sklearn/linear_model/_stochastic_gradient.py:1187: ConvergenceWarning: Maximum number of iteration reached before convergence. Consider increasing max_iter to improve the fit.\n",
            "  ConvergenceWarning)\n",
            "/usr/local/lib/python3.7/dist-packages/sklearn/linear_model/_stochastic_gradient.py:1187: ConvergenceWarning: Maximum number of iteration reached before convergence. Consider increasing max_iter to improve the fit.\n",
            "  ConvergenceWarning)\n",
            "/usr/local/lib/python3.7/dist-packages/sklearn/linear_model/_stochastic_gradient.py:1187: ConvergenceWarning: Maximum number of iteration reached before convergence. Consider increasing max_iter to improve the fit.\n",
            "  ConvergenceWarning)\n",
            "/usr/local/lib/python3.7/dist-packages/sklearn/linear_model/_stochastic_gradient.py:1187: ConvergenceWarning: Maximum number of iteration reached before convergence. Consider increasing max_iter to improve the fit.\n",
            "  ConvergenceWarning)\n",
            "/usr/local/lib/python3.7/dist-packages/sklearn/linear_model/_stochastic_gradient.py:1187: ConvergenceWarning: Maximum number of iteration reached before convergence. Consider increasing max_iter to improve the fit.\n",
            "  ConvergenceWarning)\n",
            "/usr/local/lib/python3.7/dist-packages/sklearn/linear_model/_stochastic_gradient.py:1187: ConvergenceWarning: Maximum number of iteration reached before convergence. Consider increasing max_iter to improve the fit.\n",
            "  ConvergenceWarning)\n",
            "/usr/local/lib/python3.7/dist-packages/sklearn/linear_model/_stochastic_gradient.py:1187: ConvergenceWarning: Maximum number of iteration reached before convergence. Consider increasing max_iter to improve the fit.\n",
            "  ConvergenceWarning)\n",
            "/usr/local/lib/python3.7/dist-packages/sklearn/linear_model/_stochastic_gradient.py:1187: ConvergenceWarning: Maximum number of iteration reached before convergence. Consider increasing max_iter to improve the fit.\n",
            "  ConvergenceWarning)\n",
            "/usr/local/lib/python3.7/dist-packages/sklearn/linear_model/_stochastic_gradient.py:1187: ConvergenceWarning: Maximum number of iteration reached before convergence. Consider increasing max_iter to improve the fit.\n",
            "  ConvergenceWarning)\n",
            "/usr/local/lib/python3.7/dist-packages/sklearn/linear_model/_stochastic_gradient.py:1187: ConvergenceWarning: Maximum number of iteration reached before convergence. Consider increasing max_iter to improve the fit.\n",
            "  ConvergenceWarning)\n",
            "/usr/local/lib/python3.7/dist-packages/sklearn/linear_model/_stochastic_gradient.py:1187: ConvergenceWarning: Maximum number of iteration reached before convergence. Consider increasing max_iter to improve the fit.\n",
            "  ConvergenceWarning)\n",
            "/usr/local/lib/python3.7/dist-packages/sklearn/linear_model/_stochastic_gradient.py:1187: ConvergenceWarning: Maximum number of iteration reached before convergence. Consider increasing max_iter to improve the fit.\n",
            "  ConvergenceWarning)\n",
            "/usr/local/lib/python3.7/dist-packages/sklearn/linear_model/_stochastic_gradient.py:1187: ConvergenceWarning: Maximum number of iteration reached before convergence. Consider increasing max_iter to improve the fit.\n",
            "  ConvergenceWarning)\n",
            "/usr/local/lib/python3.7/dist-packages/sklearn/linear_model/_stochastic_gradient.py:1187: ConvergenceWarning: Maximum number of iteration reached before convergence. Consider increasing max_iter to improve the fit.\n",
            "  ConvergenceWarning)\n",
            "/usr/local/lib/python3.7/dist-packages/sklearn/linear_model/_stochastic_gradient.py:1187: ConvergenceWarning: Maximum number of iteration reached before convergence. Consider increasing max_iter to improve the fit.\n",
            "  ConvergenceWarning)\n",
            "/usr/local/lib/python3.7/dist-packages/sklearn/linear_model/_stochastic_gradient.py:1187: ConvergenceWarning: Maximum number of iteration reached before convergence. Consider increasing max_iter to improve the fit.\n",
            "  ConvergenceWarning)\n",
            "/usr/local/lib/python3.7/dist-packages/sklearn/linear_model/_stochastic_gradient.py:1187: ConvergenceWarning: Maximum number of iteration reached before convergence. Consider increasing max_iter to improve the fit.\n",
            "  ConvergenceWarning)\n",
            "/usr/local/lib/python3.7/dist-packages/sklearn/linear_model/_stochastic_gradient.py:1187: ConvergenceWarning: Maximum number of iteration reached before convergence. Consider increasing max_iter to improve the fit.\n",
            "  ConvergenceWarning)\n",
            "/usr/local/lib/python3.7/dist-packages/sklearn/linear_model/_stochastic_gradient.py:1187: ConvergenceWarning: Maximum number of iteration reached before convergence. Consider increasing max_iter to improve the fit.\n",
            "  ConvergenceWarning)\n",
            "/usr/local/lib/python3.7/dist-packages/sklearn/linear_model/_stochastic_gradient.py:1187: ConvergenceWarning: Maximum number of iteration reached before convergence. Consider increasing max_iter to improve the fit.\n",
            "  ConvergenceWarning)\n",
            "/usr/local/lib/python3.7/dist-packages/sklearn/linear_model/_stochastic_gradient.py:1187: ConvergenceWarning: Maximum number of iteration reached before convergence. Consider increasing max_iter to improve the fit.\n",
            "  ConvergenceWarning)\n",
            "/usr/local/lib/python3.7/dist-packages/sklearn/linear_model/_stochastic_gradient.py:1187: ConvergenceWarning: Maximum number of iteration reached before convergence. Consider increasing max_iter to improve the fit.\n",
            "  ConvergenceWarning)\n",
            "/usr/local/lib/python3.7/dist-packages/sklearn/linear_model/_stochastic_gradient.py:1187: ConvergenceWarning: Maximum number of iteration reached before convergence. Consider increasing max_iter to improve the fit.\n",
            "  ConvergenceWarning)\n",
            "/usr/local/lib/python3.7/dist-packages/sklearn/linear_model/_stochastic_gradient.py:1187: ConvergenceWarning: Maximum number of iteration reached before convergence. Consider increasing max_iter to improve the fit.\n",
            "  ConvergenceWarning)\n",
            "/usr/local/lib/python3.7/dist-packages/sklearn/linear_model/_stochastic_gradient.py:1187: ConvergenceWarning: Maximum number of iteration reached before convergence. Consider increasing max_iter to improve the fit.\n",
            "  ConvergenceWarning)\n",
            "/usr/local/lib/python3.7/dist-packages/sklearn/linear_model/_stochastic_gradient.py:1187: ConvergenceWarning: Maximum number of iteration reached before convergence. Consider increasing max_iter to improve the fit.\n",
            "  ConvergenceWarning)\n",
            "[Parallel(n_jobs=1)]: Done 135 out of 135 | elapsed:   23.1s finished\n"
          ],
          "name": "stderr"
        },
        {
          "output_type": "execute_result",
          "data": {
            "text/plain": [
              "GridSearchCV(cv=KFold(n_splits=5, random_state=1, shuffle=True),\n",
              "             error_score=nan,\n",
              "             estimator=Pipeline(memory=None,\n",
              "                                steps=[('scaler',\n",
              "                                        StandardScaler(copy=True,\n",
              "                                                       with_mean=True,\n",
              "                                                       with_std=True)),\n",
              "                                       ('SGD_estimator',\n",
              "                                        SGDRegressor(alpha=0.0001,\n",
              "                                                     average=False,\n",
              "                                                     early_stopping=True,\n",
              "                                                     epsilon=0.1, eta0=0.01,\n",
              "                                                     fit_intercept=True,\n",
              "                                                     l1_ratio=0.15,\n",
              "                                                     learning_rate='invscaling',\n",
              "                                                     loss='squ...\n",
              "                                                     verbose=0,\n",
              "                                                     warm_start=False))],\n",
              "                                verbose=False),\n",
              "             iid='deprecated', n_jobs=None,\n",
              "             param_grid=[{'SGD_estimator__alpha': [0.0001, 0.001, 0.01],\n",
              "                          'SGD_estimator__loss': ['huber',\n",
              "                                                  'epsilon_insensitive',\n",
              "                                                  'squared_loss'],\n",
              "                          'SGD_estimator__tol': [0.0001, 0.0002, 0.0003]}],\n",
              "             pre_dispatch='2*n_jobs', refit=True, return_train_score=False,\n",
              "             scoring='neg_root_mean_squared_error', verbose=1)"
            ]
          },
          "metadata": {
            "tags": []
          },
          "execution_count": 397
        }
      ]
    },
    {
      "cell_type": "code",
      "metadata": {
        "colab": {
          "base_uri": "https://localhost:8080/"
        },
        "id": "zc92cdzoa6zY",
        "outputId": "19d6e6fa-bf6c-42d9-8b59-1a7a7ebca35a"
      },
      "source": [
        "SGD_best = gridSGD.best_estimator_\n",
        "SGD_best"
      ],
      "execution_count": 398,
      "outputs": [
        {
          "output_type": "execute_result",
          "data": {
            "text/plain": [
              "Pipeline(memory=None,\n",
              "         steps=[('scaler',\n",
              "                 StandardScaler(copy=True, with_mean=True, with_std=True)),\n",
              "                ('SGD_estimator',\n",
              "                 SGDRegressor(alpha=0.0001, average=False, early_stopping=True,\n",
              "                              epsilon=0.1, eta0=0.01, fit_intercept=True,\n",
              "                              l1_ratio=0.15, learning_rate='invscaling',\n",
              "                              loss='squared_loss', max_iter=1000,\n",
              "                              n_iter_no_change=5, penalty='l2', power_t=0.25,\n",
              "                              random_state=None, shuffle=True, tol=0.0003,\n",
              "                              validation_fraction=0.1, verbose=0,\n",
              "                              warm_start=False))],\n",
              "         verbose=False)"
            ]
          },
          "metadata": {
            "tags": []
          },
          "execution_count": 398
        }
      ]
    },
    {
      "cell_type": "code",
      "metadata": {
        "colab": {
          "base_uri": "https://localhost:8080/"
        },
        "id": "Pqn0f3MyfbLs",
        "outputId": "4d97ad14-66b6-4ad8-a823-8cb2255b2ea6"
      },
      "source": [
        "gridSGD.best_score_"
      ],
      "execution_count": 399,
      "outputs": [
        {
          "output_type": "execute_result",
          "data": {
            "text/plain": [
              "-46296.03792844344"
            ]
          },
          "metadata": {
            "tags": []
          },
          "execution_count": 399
        }
      ]
    },
    {
      "cell_type": "markdown",
      "metadata": {
        "id": "CKGYEi-bfg79"
      },
      "source": [
        "Predict the target variable (Validation)"
      ]
    },
    {
      "cell_type": "code",
      "metadata": {
        "id": "pR_hBEyrffgx"
      },
      "source": [
        "sgd_pred = gridSGD.predict(X_house_val)"
      ],
      "execution_count": 407,
      "outputs": []
    },
    {
      "cell_type": "code",
      "metadata": {
        "colab": {
          "base_uri": "https://localhost:8080/"
        },
        "id": "EkCapEQwf2F6",
        "outputId": "586efcf9-64fb-482a-b33f-8c5f39659ce4"
      },
      "source": [
        "from sklearn.metrics import mean_squared_error\n",
        "mean_squared_error(sgd_pred, y_house_val)"
      ],
      "execution_count": 408,
      "outputs": [
        {
          "output_type": "execute_result",
          "data": {
            "text/plain": [
              "2349752901.6104198"
            ]
          },
          "metadata": {
            "tags": []
          },
          "execution_count": 408
        }
      ]
    },
    {
      "cell_type": "markdown",
      "metadata": {
        "id": "0NONgBWfkhGg"
      },
      "source": [
        "Scatter graph"
      ]
    },
    {
      "cell_type": "code",
      "metadata": {
        "colab": {
          "base_uri": "https://localhost:8080/",
          "height": 1000
        },
        "id": "4aeZo8Xqkdhe",
        "outputId": "73337c4b-9178-4fae-ff16-899d97fe0a50"
      },
      "source": [
        "fig, axs = plt.subplots(2, 1, figsize=(12,18))\n",
        "plt.title('Actual and predicted data')\n",
        "plt.ylabel('Sale Price ($)')\n",
        "axs[0].scatter(X_house_val['GrLivArea'], y_house_val, color=\"orange\", label=\"True\")\n",
        "axs[0].scatter(X_house_val['GrLivArea'], sgd_pred, color=\"blue\", label=\"Predicted\")\n",
        "axs[0].set_xlabel('Living Area in square feet')\n",
        "axs[0].legend()\n",
        "axs[1].scatter(X_house_val['YearBuilt'], y_house_val, color=\"deeppink\", label=\"True\")\n",
        "axs[1].scatter(X_house_val['YearBuilt'], sgd_pred, color=\"brown\", label=\"Predicted\")\n",
        "axs[1].set_xlabel('Year built')\n",
        "axs[1].legend()"
      ],
      "execution_count": 410,
      "outputs": [
        {
          "output_type": "execute_result",
          "data": {
            "text/plain": [
              "<matplotlib.legend.Legend at 0x7f244befbb10>"
            ]
          },
          "metadata": {
            "tags": []
          },
          "execution_count": 410
        },
        {
          "output_type": "display_data",
          "data": {
            "image/png": "[encoded data removed]",
            "text/plain": [
              "<Figure size 864x1296 with 2 Axes>"
            ]
          },
          "metadata": {
            "tags": [],
            "needs_background": "light"
          }
        }
      ]
    },
    {
      "cell_type": "markdown",
      "metadata": {
        "id": "hPj8S-wdlZ6i"
      },
      "source": [
        "Prediction on real test dataset"
      ]
    },
    {
      "cell_type": "code",
      "metadata": {
        "colab": {
          "base_uri": "https://localhost:8080/"
        },
        "id": "UMN7moVrlcge",
        "outputId": "508cd041-19f3-4116-a50c-8e24d68a81cf"
      },
      "source": [
        "gridSGDsub = GridSearchCV(sgd_model, param_grid = sgd_grid, scoring='neg_root_mean_squared_error', cv=kfolds, verbose=1)\n",
        "gridSGDsub.fit(df_train, target)\n",
        "\n",
        "sgd_pred_sub = gridSGDsub.predict(df_test)"
      ],
      "execution_count": 415,
      "outputs": [
        {
          "output_type": "stream",
          "text": [
            "Fitting 5 folds for each of 27 candidates, totalling 135 fits\n"
          ],
          "name": "stdout"
        },
        {
          "output_type": "stream",
          "text": [
            "[Parallel(n_jobs=1)]: Using backend SequentialBackend with 1 concurrent workers.\n",
            "/usr/local/lib/python3.7/dist-packages/sklearn/linear_model/_stochastic_gradient.py:1187: ConvergenceWarning: Maximum number of iteration reached before convergence. Consider increasing max_iter to improve the fit.\n",
            "  ConvergenceWarning)\n",
            "/usr/local/lib/python3.7/dist-packages/sklearn/linear_model/_stochastic_gradient.py:1187: ConvergenceWarning: Maximum number of iteration reached before convergence. Consider increasing max_iter to improve the fit.\n",
            "  ConvergenceWarning)\n",
            "/usr/local/lib/python3.7/dist-packages/sklearn/linear_model/_stochastic_gradient.py:1187: ConvergenceWarning: Maximum number of iteration reached before convergence. Consider increasing max_iter to improve the fit.\n",
            "  ConvergenceWarning)\n",
            "/usr/local/lib/python3.7/dist-packages/sklearn/linear_model/_stochastic_gradient.py:1187: ConvergenceWarning: Maximum number of iteration reached before convergence. Consider increasing max_iter to improve the fit.\n",
            "  ConvergenceWarning)\n",
            "/usr/local/lib/python3.7/dist-packages/sklearn/linear_model/_stochastic_gradient.py:1187: ConvergenceWarning: Maximum number of iteration reached before convergence. Consider increasing max_iter to improve the fit.\n",
            "  ConvergenceWarning)\n",
            "/usr/local/lib/python3.7/dist-packages/sklearn/linear_model/_stochastic_gradient.py:1187: ConvergenceWarning: Maximum number of iteration reached before convergence. Consider increasing max_iter to improve the fit.\n",
            "  ConvergenceWarning)\n",
            "/usr/local/lib/python3.7/dist-packages/sklearn/linear_model/_stochastic_gradient.py:1187: ConvergenceWarning: Maximum number of iteration reached before convergence. Consider increasing max_iter to improve the fit.\n",
            "  ConvergenceWarning)\n",
            "/usr/local/lib/python3.7/dist-packages/sklearn/linear_model/_stochastic_gradient.py:1187: ConvergenceWarning: Maximum number of iteration reached before convergence. Consider increasing max_iter to improve the fit.\n",
            "  ConvergenceWarning)\n",
            "/usr/local/lib/python3.7/dist-packages/sklearn/linear_model/_stochastic_gradient.py:1187: ConvergenceWarning: Maximum number of iteration reached before convergence. Consider increasing max_iter to improve the fit.\n",
            "  ConvergenceWarning)\n",
            "/usr/local/lib/python3.7/dist-packages/sklearn/linear_model/_stochastic_gradient.py:1187: ConvergenceWarning: Maximum number of iteration reached before convergence. Consider increasing max_iter to improve the fit.\n",
            "  ConvergenceWarning)\n",
            "/usr/local/lib/python3.7/dist-packages/sklearn/linear_model/_stochastic_gradient.py:1187: ConvergenceWarning: Maximum number of iteration reached before convergence. Consider increasing max_iter to improve the fit.\n",
            "  ConvergenceWarning)\n",
            "/usr/local/lib/python3.7/dist-packages/sklearn/linear_model/_stochastic_gradient.py:1187: ConvergenceWarning: Maximum number of iteration reached before convergence. Consider increasing max_iter to improve the fit.\n",
            "  ConvergenceWarning)\n",
            "/usr/local/lib/python3.7/dist-packages/sklearn/linear_model/_stochastic_gradient.py:1187: ConvergenceWarning: Maximum number of iteration reached before convergence. Consider increasing max_iter to improve the fit.\n",
            "  ConvergenceWarning)\n",
            "/usr/local/lib/python3.7/dist-packages/sklearn/linear_model/_stochastic_gradient.py:1187: ConvergenceWarning: Maximum number of iteration reached before convergence. Consider increasing max_iter to improve the fit.\n",
            "  ConvergenceWarning)\n",
            "/usr/local/lib/python3.7/dist-packages/sklearn/linear_model/_stochastic_gradient.py:1187: ConvergenceWarning: Maximum number of iteration reached before convergence. Consider increasing max_iter to improve the fit.\n",
            "  ConvergenceWarning)\n",
            "/usr/local/lib/python3.7/dist-packages/sklearn/linear_model/_stochastic_gradient.py:1187: ConvergenceWarning: Maximum number of iteration reached before convergence. Consider increasing max_iter to improve the fit.\n",
            "  ConvergenceWarning)\n",
            "/usr/local/lib/python3.7/dist-packages/sklearn/linear_model/_stochastic_gradient.py:1187: ConvergenceWarning: Maximum number of iteration reached before convergence. Consider increasing max_iter to improve the fit.\n",
            "  ConvergenceWarning)\n",
            "/usr/local/lib/python3.7/dist-packages/sklearn/linear_model/_stochastic_gradient.py:1187: ConvergenceWarning: Maximum number of iteration reached before convergence. Consider increasing max_iter to improve the fit.\n",
            "  ConvergenceWarning)\n",
            "/usr/local/lib/python3.7/dist-packages/sklearn/linear_model/_stochastic_gradient.py:1187: ConvergenceWarning: Maximum number of iteration reached before convergence. Consider increasing max_iter to improve the fit.\n",
            "  ConvergenceWarning)\n",
            "/usr/local/lib/python3.7/dist-packages/sklearn/linear_model/_stochastic_gradient.py:1187: ConvergenceWarning: Maximum number of iteration reached before convergence. Consider increasing max_iter to improve the fit.\n",
            "  ConvergenceWarning)\n",
            "/usr/local/lib/python3.7/dist-packages/sklearn/linear_model/_stochastic_gradient.py:1187: ConvergenceWarning: Maximum number of iteration reached before convergence. Consider increasing max_iter to improve the fit.\n",
            "  ConvergenceWarning)\n",
            "/usr/local/lib/python3.7/dist-packages/sklearn/linear_model/_stochastic_gradient.py:1187: ConvergenceWarning: Maximum number of iteration reached before convergence. Consider increasing max_iter to improve the fit.\n",
            "  ConvergenceWarning)\n",
            "/usr/local/lib/python3.7/dist-packages/sklearn/linear_model/_stochastic_gradient.py:1187: ConvergenceWarning: Maximum number of iteration reached before convergence. Consider increasing max_iter to improve the fit.\n",
            "  ConvergenceWarning)\n",
            "/usr/local/lib/python3.7/dist-packages/sklearn/linear_model/_stochastic_gradient.py:1187: ConvergenceWarning: Maximum number of iteration reached before convergence. Consider increasing max_iter to improve the fit.\n",
            "  ConvergenceWarning)\n",
            "/usr/local/lib/python3.7/dist-packages/sklearn/linear_model/_stochastic_gradient.py:1187: ConvergenceWarning: Maximum number of iteration reached before convergence. Consider increasing max_iter to improve the fit.\n",
            "  ConvergenceWarning)\n",
            "/usr/local/lib/python3.7/dist-packages/sklearn/linear_model/_stochastic_gradient.py:1187: ConvergenceWarning: Maximum number of iteration reached before convergence. Consider increasing max_iter to improve the fit.\n",
            "  ConvergenceWarning)\n",
            "/usr/local/lib/python3.7/dist-packages/sklearn/linear_model/_stochastic_gradient.py:1187: ConvergenceWarning: Maximum number of iteration reached before convergence. Consider increasing max_iter to improve the fit.\n",
            "  ConvergenceWarning)\n",
            "/usr/local/lib/python3.7/dist-packages/sklearn/linear_model/_stochastic_gradient.py:1187: ConvergenceWarning: Maximum number of iteration reached before convergence. Consider increasing max_iter to improve the fit.\n",
            "  ConvergenceWarning)\n",
            "/usr/local/lib/python3.7/dist-packages/sklearn/linear_model/_stochastic_gradient.py:1187: ConvergenceWarning: Maximum number of iteration reached before convergence. Consider increasing max_iter to improve the fit.\n",
            "  ConvergenceWarning)\n",
            "/usr/local/lib/python3.7/dist-packages/sklearn/linear_model/_stochastic_gradient.py:1187: ConvergenceWarning: Maximum number of iteration reached before convergence. Consider increasing max_iter to improve the fit.\n",
            "  ConvergenceWarning)\n",
            "/usr/local/lib/python3.7/dist-packages/sklearn/linear_model/_stochastic_gradient.py:1187: ConvergenceWarning: Maximum number of iteration reached before convergence. Consider increasing max_iter to improve the fit.\n",
            "  ConvergenceWarning)\n",
            "/usr/local/lib/python3.7/dist-packages/sklearn/linear_model/_stochastic_gradient.py:1187: ConvergenceWarning: Maximum number of iteration reached before convergence. Consider increasing max_iter to improve the fit.\n",
            "  ConvergenceWarning)\n",
            "/usr/local/lib/python3.7/dist-packages/sklearn/linear_model/_stochastic_gradient.py:1187: ConvergenceWarning: Maximum number of iteration reached before convergence. Consider increasing max_iter to improve the fit.\n",
            "  ConvergenceWarning)\n",
            "/usr/local/lib/python3.7/dist-packages/sklearn/linear_model/_stochastic_gradient.py:1187: ConvergenceWarning: Maximum number of iteration reached before convergence. Consider increasing max_iter to improve the fit.\n",
            "  ConvergenceWarning)\n",
            "/usr/local/lib/python3.7/dist-packages/sklearn/linear_model/_stochastic_gradient.py:1187: ConvergenceWarning: Maximum number of iteration reached before convergence. Consider increasing max_iter to improve the fit.\n",
            "  ConvergenceWarning)\n",
            "/usr/local/lib/python3.7/dist-packages/sklearn/linear_model/_stochastic_gradient.py:1187: ConvergenceWarning: Maximum number of iteration reached before convergence. Consider increasing max_iter to improve the fit.\n",
            "  ConvergenceWarning)\n",
            "/usr/local/lib/python3.7/dist-packages/sklearn/linear_model/_stochastic_gradient.py:1187: ConvergenceWarning: Maximum number of iteration reached before convergence. Consider increasing max_iter to improve the fit.\n",
            "  ConvergenceWarning)\n",
            "/usr/local/lib/python3.7/dist-packages/sklearn/linear_model/_stochastic_gradient.py:1187: ConvergenceWarning: Maximum number of iteration reached before convergence. Consider increasing max_iter to improve the fit.\n",
            "  ConvergenceWarning)\n",
            "/usr/local/lib/python3.7/dist-packages/sklearn/linear_model/_stochastic_gradient.py:1187: ConvergenceWarning: Maximum number of iteration reached before convergence. Consider increasing max_iter to improve the fit.\n",
            "  ConvergenceWarning)\n",
            "/usr/local/lib/python3.7/dist-packages/sklearn/linear_model/_stochastic_gradient.py:1187: ConvergenceWarning: Maximum number of iteration reached before convergence. Consider increasing max_iter to improve the fit.\n",
            "  ConvergenceWarning)\n",
            "/usr/local/lib/python3.7/dist-packages/sklearn/linear_model/_stochastic_gradient.py:1187: ConvergenceWarning: Maximum number of iteration reached before convergence. Consider increasing max_iter to improve the fit.\n",
            "  ConvergenceWarning)\n",
            "/usr/local/lib/python3.7/dist-packages/sklearn/linear_model/_stochastic_gradient.py:1187: ConvergenceWarning: Maximum number of iteration reached before convergence. Consider increasing max_iter to improve the fit.\n",
            "  ConvergenceWarning)\n",
            "/usr/local/lib/python3.7/dist-packages/sklearn/linear_model/_stochastic_gradient.py:1187: ConvergenceWarning: Maximum number of iteration reached before convergence. Consider increasing max_iter to improve the fit.\n",
            "  ConvergenceWarning)\n",
            "/usr/local/lib/python3.7/dist-packages/sklearn/linear_model/_stochastic_gradient.py:1187: ConvergenceWarning: Maximum number of iteration reached before convergence. Consider increasing max_iter to improve the fit.\n",
            "  ConvergenceWarning)\n",
            "/usr/local/lib/python3.7/dist-packages/sklearn/linear_model/_stochastic_gradient.py:1187: ConvergenceWarning: Maximum number of iteration reached before convergence. Consider increasing max_iter to improve the fit.\n",
            "  ConvergenceWarning)\n",
            "/usr/local/lib/python3.7/dist-packages/sklearn/linear_model/_stochastic_gradient.py:1187: ConvergenceWarning: Maximum number of iteration reached before convergence. Consider increasing max_iter to improve the fit.\n",
            "  ConvergenceWarning)\n",
            "/usr/local/lib/python3.7/dist-packages/sklearn/linear_model/_stochastic_gradient.py:1187: ConvergenceWarning: Maximum number of iteration reached before convergence. Consider increasing max_iter to improve the fit.\n",
            "  ConvergenceWarning)\n",
            "/usr/local/lib/python3.7/dist-packages/sklearn/linear_model/_stochastic_gradient.py:1187: ConvergenceWarning: Maximum number of iteration reached before convergence. Consider increasing max_iter to improve the fit.\n",
            "  ConvergenceWarning)\n",
            "/usr/local/lib/python3.7/dist-packages/sklearn/linear_model/_stochastic_gradient.py:1187: ConvergenceWarning: Maximum number of iteration reached before convergence. Consider increasing max_iter to improve the fit.\n",
            "  ConvergenceWarning)\n",
            "[Parallel(n_jobs=1)]: Done 135 out of 135 | elapsed:  2.4min finished\n",
            "/usr/local/lib/python3.7/dist-packages/sklearn/linear_model/_stochastic_gradient.py:1187: ConvergenceWarning: Maximum number of iteration reached before convergence. Consider increasing max_iter to improve the fit.\n",
            "  ConvergenceWarning)\n"
          ],
          "name": "stderr"
        }
      ]
    },
    {
      "cell_type": "code",
      "metadata": {
        "id": "16PGeCLjmd7j"
      },
      "source": [
        "output_df = pd.DataFrame({\"Id\": test_index,\n",
        "                          \"SalePrice\": sgd_pred_sub})\n",
        "output_df.to_csv(\"atien228_sgd_grid_submission.csv\", index=False)"
      ],
      "execution_count": 416,
      "outputs": []
    },
    {
      "cell_type": "markdown",
      "metadata": {
        "id": "5kN6q7hEpPtC"
      },
      "source": [
        "After submitting to Kaggle, I got the mark of **0.24133**. Can we do better?\n",
        "\n",
        "---\n",
        "\n"
      ]
    },
    {
      "cell_type": "markdown",
      "metadata": {
        "id": "hFy7Mu9Hpl2V"
      },
      "source": [
        "Now, I will try to use another algorithm that did very well in the previous assignment: Decision Tree Regressor"
      ]
    },
    {
      "cell_type": "code",
      "metadata": {
        "id": "2KNUhVLNpi95"
      },
      "source": [
        "from sklearn.datasets import load_diabetes\n",
        "from sklearn.tree import DecisionTreeRegressor\n",
        "from sklearn.feature_selection import SelectFromModel"
      ],
      "execution_count": 482,
      "outputs": []
    },
    {
      "cell_type": "code",
      "metadata": {
        "id": "u9NkMemNpnOf"
      },
      "source": [
        "dtr_model = Pipeline([('scaler', StandardScaler()),\n",
        "                      ('DTR_estimator', DecisionTreeRegressor(random_state=123))]) # Improve the fit"
      ],
      "execution_count": 492,
      "outputs": []
    },
    {
      "cell_type": "code",
      "metadata": {
        "id": "CRtc1VFfqSVq"
      },
      "source": [
        "## Search grid for optimal parameters\n",
        "dtr_grid = [{\"DTR_estimator__splitter\" : [\"best\", \"random\"],\n",
        "             \"DTR_estimator__criterion\" : [\"mse\", \"friedman_mse\", \"mae\", \"poisson\"]}]"
      ],
      "execution_count": 489,
      "outputs": []
    },
    {
      "cell_type": "code",
      "metadata": {
        "colab": {
          "base_uri": "https://localhost:8080/"
        },
        "id": "uPhN5VTmrmnU",
        "outputId": "aa524afc-f389-4479-b3c0-ccfb226f7797"
      },
      "source": [
        "griddtr = GridSearchCV(dtr_model, param_grid = dtr_grid, scoring='neg_root_mean_squared_error', cv=kfolds, verbose=1)\n",
        "griddtr.fit(new_df_train, target)\n",
        "dtr_pred_sub = griddtr.predict(new_df_test)"
      ],
      "execution_count": 498,
      "outputs": [
        {
          "output_type": "stream",
          "text": [
            "Fitting 5 folds for each of 8 candidates, totalling 40 fits\n"
          ],
          "name": "stdout"
        },
        {
          "output_type": "stream",
          "text": [
            "[Parallel(n_jobs=1)]: Using backend SequentialBackend with 1 concurrent workers.\n",
            "/usr/local/lib/python3.7/dist-packages/sklearn/model_selection/_validation.py:536: FitFailedWarning: Estimator fit failed. The score on this train-test partition for these parameters will be set to nan. Details: \n",
            "KeyError: 'poisson'\n",
            "\n",
            "  FitFailedWarning)\n",
            "/usr/local/lib/python3.7/dist-packages/sklearn/model_selection/_validation.py:536: FitFailedWarning: Estimator fit failed. The score on this train-test partition for these parameters will be set to nan. Details: \n",
            "KeyError: 'poisson'\n",
            "\n",
            "  FitFailedWarning)\n",
            "/usr/local/lib/python3.7/dist-packages/sklearn/model_selection/_validation.py:536: FitFailedWarning: Estimator fit failed. The score on this train-test partition for these parameters will be set to nan. Details: \n",
            "KeyError: 'poisson'\n",
            "\n",
            "  FitFailedWarning)\n",
            "/usr/local/lib/python3.7/dist-packages/sklearn/model_selection/_validation.py:536: FitFailedWarning: Estimator fit failed. The score on this train-test partition for these parameters will be set to nan. Details: \n",
            "KeyError: 'poisson'\n",
            "\n",
            "  FitFailedWarning)\n",
            "/usr/local/lib/python3.7/dist-packages/sklearn/model_selection/_validation.py:536: FitFailedWarning: Estimator fit failed. The score on this train-test partition for these parameters will be set to nan. Details: \n",
            "KeyError: 'poisson'\n",
            "\n",
            "  FitFailedWarning)\n",
            "/usr/local/lib/python3.7/dist-packages/sklearn/model_selection/_validation.py:536: FitFailedWarning: Estimator fit failed. The score on this train-test partition for these parameters will be set to nan. Details: \n",
            "KeyError: 'poisson'\n",
            "\n",
            "  FitFailedWarning)\n",
            "/usr/local/lib/python3.7/dist-packages/sklearn/model_selection/_validation.py:536: FitFailedWarning: Estimator fit failed. The score on this train-test partition for these parameters will be set to nan. Details: \n",
            "KeyError: 'poisson'\n",
            "\n",
            "  FitFailedWarning)\n",
            "/usr/local/lib/python3.7/dist-packages/sklearn/model_selection/_validation.py:536: FitFailedWarning: Estimator fit failed. The score on this train-test partition for these parameters will be set to nan. Details: \n",
            "KeyError: 'poisson'\n",
            "\n",
            "  FitFailedWarning)\n",
            "/usr/local/lib/python3.7/dist-packages/sklearn/model_selection/_validation.py:536: FitFailedWarning: Estimator fit failed. The score on this train-test partition for these parameters will be set to nan. Details: \n",
            "KeyError: 'poisson'\n",
            "\n",
            "  FitFailedWarning)\n",
            "/usr/local/lib/python3.7/dist-packages/sklearn/model_selection/_validation.py:536: FitFailedWarning: Estimator fit failed. The score on this train-test partition for these parameters will be set to nan. Details: \n",
            "KeyError: 'poisson'\n",
            "\n",
            "  FitFailedWarning)\n",
            "[Parallel(n_jobs=1)]: Done  40 out of  40 | elapsed:    0.3s finished\n"
          ],
          "name": "stderr"
        }
      ]
    },
    {
      "cell_type": "code",
      "metadata": {
        "id": "HbEp68Pb0TsD"
      },
      "source": [
        "output_df = pd.DataFrame({\"Id\": test_index,\n",
        "                          \"SalePrice\": dtr_pred_sub})\n",
        "output_df.to_csv(\"atien228_dtr_grid_submission.csv\", index=False)"
      ],
      "execution_count": 501,
      "outputs": []
    },
    {
      "cell_type": "markdown",
      "metadata": {
        "id": "Pho2nDRF0p8W"
      },
      "source": [
        "![dtr.png](data:image/png;base64,iVBORw0KGgoAAAANSUhEUgAABI8AAADeCAYAAAC0aCBDAAAAAXNSR0IArs4c6QAAAARnQU1BAACxjwv8YQUAAAAJcEhZcwAAEnQAABJ0Ad5mH3gAAF5oSURBVHhe7d19cBzlnS/6L7bAE1vYbSPsMRbQPogwiVXxsOvg2cDFQ04WJlm2PKmwG21tbqGc7L3o7N1zo3NrT0X7z4n+uFVR6qQuc07l7E5S5GSomy2GLHsY7pL1GJIw2jLLyNh4RNlLG+x1Gyw8MjJuG9u0jWzd39PdI81bSzOyJMv4+ymENaNn+uXp532efvqGTz75ZAJERERERERERER1LPH+JSIiIiIiIiIiqsHBIyIiIiIiIiIi8sXBIyIiIiIiIiIi8sXBIyIiIiIiIiIi8sXBIyIiIiIiIiIi8sXBIyIiIiIiIiIi8sXBIyIiIiIiIiIi8sXBIyIiIiIiIiIi8sXBIyIiIiIiIiIi8sXBIyIiIiIiIiIi8sXBIyIiIiIiIiIi8sXBIyIiIiIiIiIi8sXBI6IFY8E0DBRt7+Wcms9tExERERER0fVsAQaPbJg7n8bTT7+AguW9Vc0q4IWnJcygKaGJFpZVUOlzEOY8Jz7L2InBoSHsHDK9d+bOfG6biIiIiIiIrm8LMHgUgL51KzRYGB405P/VLBiDw/J/DVs36xKayi3UwMZVZ5sYVAOIviOM1z4t9Ai2SV7YJul8rs3ntomIiIiIiOj6tjC3rWkh6dRqgDWE4apRENscxpAlQTZvQ0iCEH16adBDIejzks7nc9tERERERER0PVv6n//zf+73fp9XgaCGCwcP49DIJQQ729HqvFvE3p17MdYSwravdHjvKRbMwhCGhobw6tABHD19TjbQhrbWFu/vwjKwc3AvTra2o738fbuIod+8igMnW9He3oqW0uvxNnS0mBjc+RsMDo1DDwfrznJybv/ZexKt7e0YPzSInb8ZxPDhUZyT/bdr8gnLlOMaxKuDwzg8ehJo09FWvSEJU5BjHxp6FUMHjsI9/DaUH6ajKpzaXGvQC1c67pGzsMdtnD45gqOH3eOq2Y4y43naKBp7sffVV+V9idNROajWqjj12EUDe/e+Kuc4hANHR3HSboEm16/yNBvYXvk1Gj+EwUE5z1dVvJ2T+GiHik43mMT58AjGztoYPz2K0ZGjOKzOoyZiy0wXd87fG0wfzlvDODiqQe/UAe+aO9uUU2prbys7bznnod/g1QPjaOtokd8HMSjnP3z4NFqCXjqQ/U6ep1z4QFDOc9pjKo/HvTh49LSkNc1Na+Vme77N5qVprhMRERERERFdnxZs8Ei6utJhPY0Dhw/hJHSEggFYBemIjwD6/dvQWephq9uX/n4nhkdsp0O++U4N544aOHjwMEbRjg75nBvuGF7dexit7Z3QJ3vnYnwMh6WTfEw6wp26hpbS6xsv4LT8W1QdZ60N7R3lgwJT7GOvYu/hVtx4aRh7j8pRt7YCZ4s4dvgoLgRacPhVNdjVKu+rt4s4enAUWqhjcoDANgfx9zuHMWK3IKhvxp3aORw1DuLg4VHITlE6fBSH8Oyv9kq4Nuib78Fd2iWcPnoAwwdPQ+vQoeEsRo6O4qytBo9aEGgNQP4v2/QZPJr2PC0Udv4Krx60IBvA5ns0XBo1ceDAMI5616LEKuzEr149iKIdkM/eg7bxk3LuB3FA4kIPlQaiGtxe6RrdeAnDKjIDATkPFW/HcPjgUQT0kDPgYo8dxsjpcdhq8KglgFaJZ2hyrf0Gj2aKOxU/jaYPeas0eKS1HMXQAQtt+j0I4jSK5mEcKN8mxjF2eAgHjt2IGy4M47Al5yPHao+pdKDOz8bQq4fd82yxMabSh7wMdgbdgdGaY7JgSDwOSjwGgvdg0z06PnPpMIzhA5XxONvzbTYvzXCdiIiIiIiI6Pq0gINHQIsWhDZ6AAcPn0ZAG8eBocM4G7wfj2xpczrxSnHvTuwttmLzI99AtLMdbUHp5HaGoJ0elo786FRH1i5K53kUml49OGDh6IGjsDTdGzzyXlvAndu/ia+EO9DhM3CkuAMJFsY3PIJvRDslbAdC7QGMSifaHDmHe/7gG3igU20jhA5tFAeOFnFDm7pdSB2DO5Oq2LoZj3wjis72NgTbO9AZ0nB6WM57NAA9pPZtw9w7iMOWjm1/ug2dbW1ynjo6ZD+nT54DJJ6CmoZ22XdwXB1PO7b+wb/FlpDPwJEyzXk6M3sOjkPfth2PhHW0tbXLcXQiiKM4MFw2OODMQDmIs9pmbJfjD7UH5RjUeZ7G4YMHMRLQEZKADW/Pu0bW+AZsk+2F5XzceDvtxNtJ2V5nMIBAm7wv535SHf8mifcHJN59RysaiDsVSY2mD3mrdM1HP7MZ3/iDiGyr7LwPmxi5FJRrqYZ/xmEdPYCjlo3WTXLuWySMhOsMXpA0fQwjJ1dj63Z1neR8VHxcOIjDxRG06mF30LD6mCS+f7NX/r71D/AHW1Q8tqFd/ha8MIpzl1qhtavZXrM/32bz0kzXiYiIiIiIiK5PC/yofrV49mZoKGJocEj+r2Hr1vJFsos4athAcDNCQe8th3zuns3yfwvDpuW916TQVoQbXg8miM3lCzBJB32d+leOq3xNmYDmvAvT8tZxKh6Fe/gh2UIZ6Xzfs1nO0hqWsN57DssZ7Jmk1oZ6ZBvCV9JRrzlPC0VnhtBWbNUrtxsMbZbjtHCw6B6EVTworwLYvDUsV2ZKQN+KRx55BFud42p8eyXaPXpFfASCd0It62yftjD7dcDnPu5Ccpzlnw7om6GW6rKNo5Iyy8n1LD93SQfO+elyXhVvu2d9upQ+fNijlfEQ3KoWv1azz8o1e77N56X5uU5ERERERER0rVvgwSOhhbE15HZ4axbJtoow1L/rqtfXEZrmdGxn3ZFd5tfJrscn7AybsIrO0cvh1wbUNOfovYEE6cBvVoNo0oF/4Wk8+4J6zLoBs2rQZVaqz9O2MKo2aw1jcOdO7Cz/cZ5yJ39yItSG5QQMqqiuEoAWVLOhZNsNb2+KFpgh4poyX3Gnq2RXRdLcnepfG3bFOS2rnxSaSmNCCzkDcOpWx2effhYvDA6hYJpV8TfL851FXprb60RERERERESfFgs/eCRKMzK063klXi2M7d/cjm1bQwgG1KLJQxjc+QKefnaeHssf0LDuzjtxZ8XPPdi8das3o6hJc729Zix03M2bAPRt38Q3H9mGkJrSVjQwPDiIF559FjsLZYNDn5rzJSIiIiIiomvRVRk88hXQnNtkcKFOj9i2nVktWFVnJsUiEdCco/c5fHcwYFX5gJk639BWbHtkO775+OPYvk1HQC1yPFx5k9QVkX2sUv9qdyIUCtX/cQZ7AtCcgFbVLJsqDW9vns153BVrZkypGUfWqPpXLYztvDEvAkEdW7c9gu3ffByPf/MRbNZsFIeHKgeGmj1fFV79e43mJSIiIiIiIlo8FtngURB3qklJxnDNjIriQXVLVACbg1P3FqmOr3mwWHHrjaU+6/2+0NQaMe7hmxXHpAYmDg5Ldz2wGe7hWzDV7JGhyo6/5n1ede4rP19nAKBhGoJqvSWzer0lYRkYKhiT72tBby0cidMKEu6Fp5/Gs85smMa3Nyv1BjsqNB53zaUPGwfrnLczNhNcJ2c99+yigcLQIIzy+JI8oDu3ylneYFazacXTZF4iIiIiIiIi8rO4Bo+kQ1taUHvwhZ0omEUUiyaMwZ0YNGxn4ebJxX813VnMGMVBvLBzEAWjgKGdz2LwtLuey1UR0LFVHZRzTAWYRTl+08CgHJ9hq3MrLaStIXDahGkMYmfBlHN0z7MwOART4qB84eaAs1aSu8C4YZjS6W9eMLQVesCS+FHx6O3PHMLOnbLNg6Mq2ksB3TV4jJ14dtA9fucYJZwlR77VW6Cq4e01IxDAKvU5NVBSMGAU6w6JiAbjrun0EUTQHsILg2o9odJ5q0EWDZsrFnWfO2o201GJv6FBSR9OWnf3Ozgsf9RKi7M3nlYqNZGXiIiIiIiIiKaxyAaPhFrfZbs7ODEsHd2d0vEfMqULH9rm3qrjBVOd6tAjjzi3SNnSKR4eOghL24pHtt45Lx39Rmnh7diuBhtKC0qrTr4lx7ptO7aVPYrLeaJWSIM1rAYp3PMcdsKpp5p5gURA34ZHVC+/aGBoaBizWhc6oGPb9kewOWjBHPL2N2hIfIWcJ3ZNHZZag0eOU+3PdI9/cMiE5X1+MlzD22tGEOFH3OtuDg9h6Kj/iTYWd82mjwDu3LwNmzF13kXo2Lp9exNP6WuSxJeT1p3BQXUear9FQN8q74fkDFyNppUaDeclIiIiIiIiIn83fPLJJxPe70RERERERERERBUW38wjIiIiIiIiIiJaNDh4REREREREREREvjh4REREREREREREvjh4REREREREREREvjh4REREREREREREvjh4REREREREREREvjh4REREREREREREvjh4REREREREREREvjh4REREREREREREvjh4REREREREREREvjh4REREREREREREvjh4REREREREREREvjh4REREREREREREvjh4REREREREREREvjh4REREREREREREvjh4REREREREREREvjh4REREREREREREvjh4REREREREREREvjh4REREREREREREvjh4REREREREREREvjh4REREREREREREvjh4REREREREREREvm4YO3lywvudiIiIiIiIiIiowg0TwvudiIiIiIiIiIioAm9bIyIiIiIiIiIiXxw8IiIiIiIiIiIiXxw8IiIiIiIiIiIiXxw8IiIiIiIiIiIiXxw8IiIiIiIiIiIiXxw8IiIiIiIiIiIiXxw8IiIiIiIiIiIiXxw8IiIiIiIiIiIiXxw8IiIiIiIiIiIiXxw8IiIiIiIiIiIiXxw8IiIiIiIiIiIiXxw8IiIiIiIiIiIiXxw8IiIiIiIiIiIiXxw8IiIiIiIiIiIiXxw8IiIiIiIiIiIiXxw8IiIiIiIiIiIiXxw8IiIiIiIiIiIiXxw8IiIiIiIiIiIiXxw8IiIiIiIiIiIiXxw8IiIiIiIiIiIiXxw8IiIiIiIiIiIiXxw8IiIiIiIiIiIiXxw8IiIiIiIiIiIiXxw8IiIiIiIiIiIiXxw8IiIiIiIiIiIiXxw8IiIiIiIiIiIiXxw8IiIiIiIiIiIiXxw8IiIiIiIiIiIiXxw8IiIiIiIiIiIiXxw8IiIiIiIiIiIiXxw8IiIiIiIiIiIiXxw8IiIiIiIiIiIiXxw8IiIiIiIiIiIiXxw8IiIiIiIiIiIiXxw8IiKixckyYRhF2N5LIroe2CgaBkzLezln5mu7RPPNgilpt7iIKkO7aMBgZiK67twwIbzf549tIpfOwdTCiMfD0Ly3y1mFFDIFIBzvRrheACIimgULRi6HgjTyptqdAQRDEUQiet3yeHoWCqkMCnoUXVFdtjRf5LjTGeTloPVoN2RXVw3rJyLJjxnJj1YIse4Igt67LhtmNo1cUeXVLsmrlaWCbeaQzpkIyt9iVX+rS8KnJDwCEcS7QrMoo3zM13bpKvPqJO9VLR3RrigaSXqLlWWkkXErQ3RfzcpwkvTrUtKvkxZAJN6FEDMTXU8sE/l8Hkb5aG5Agx6OInodZIaFnXlkFZArcJSaiGhhFJFXAzCmDS0UQTQWQywaRUjankUjh6x0pBbRF5lVNIRiUUQiUYTL2spqICelGq3VB66+pEjJ31jHEM0DDUGn922gWJ3F7CLMovurWfNHybNFU/4vDWutwd67HkY0osqr8gEeNUAg+buhMssnbN3t0qeGpiMs1zdS86Oj0aR31fnUY1oo5qbd8spwgdSvcyWuoxK30RgHjuj6YhnIZHIwrAD0UNRrV0ekfrNh5jPIXAdt0AW/bc0qZJH3GhlERDR/LCMPQxp8ejSOWCQEPRiUDqAuDb4uxEIBaafK3xdzPSedgVBoNrOjiGiuaUG341ozQGQVoYaHHGYRlX+14IwdBXQEG87ImjTKpbya84w/X9ulRcGpL0J1fj4NdcjiS7uaLnHLzETXmaK0qy3Jj+FYHNGI7rWrQ4iq10E1zlGo/XLzU2Zpv/B+nz/jFsz9JixV0NhFGBKrwc52tHp/VuxiAUYRCIbCCE5+Q6DuT9+DPbt2IZff49xbexYBtLW1osULoUYAs7k9GGttR/v4IeSyv0aucAjFsxKuXZPQsu98HrldORQOFTGGNuht1V9BSJhC3pmCtiu/H6Y1joAWvHa+qSAiqsM+pqbVagiFO1Fd7LW2tSPY3o621lYEVIFaXpa2TpawzqyC/K93Yf9YK9rbVdkr5XLBQFEa6p3SlzyUy+LXuTz2S6fxrJSv7eU7Kn12vA0dLfJ7Lodduwo4ZLVIZdvm3PJmGTkpn6XslXLbknI7KOV2ae+WkUVuzxha5Thbx71tHTsLe9yGNXYM5iH3b+OHJFzhGMbO2lLdFFE8ZuKQ2mfZsaj1Gfbs2YVdk8faWlmXeFS4XVLn5NVxFqXGkXgKWPXqJ6LrjJQLtuTTYy1Bp9M4mU8P7ZL80S6d9ADGimNOp3Iy60kZUCiYONsRRkTKD8UyC057Ky/5XuXFMbsFWlC11zzl5YZsyC7m8etd+3FM5W/bwpjK35PlUaVpw1ZtVykvY8YP5ZD9tdtWPBuQskw1Ap3bE6TcyqnyYAxo02vKUhWmoM4nL+WGauuOByrPh+ZZeZ00lS5rSVrM7kLh2LhcRrf+cdV/v9E6o+b6n4XUG20qu7jqpDuXBSObw55Dst+ONtgqLfrVY371c03/xdm51OtlYar7SbnK+s23r1M67jp1bmuLxHn+19i13z12ZxNz0R9jXqJFzcbYIZXP1CzHynEMSMmgtamBJMn7mrSrvXed8mlyLEM+K/WI3aIhWJPxGghXXpa0mG4ey49DDwe9/VVvQ8qD1qryYA4s7MwjLYRILAzNNqTwmmnqsYVCJo1sXgoPqRDU1FNdK8LIZ5Gp+KxEVLEIWxojmawBOyARHVCRJ42AvAFDOjb5ou0MBgUk0tWUsmz5kKCzHlNGCjinZ4BIWEegWEBO9p37tA8dEtGnm5SHqiw1pOFbU5qpsjJYPkjulaU1AW2pr6QhW/MHtZZSFgVL3eetbgOR11K+qrVNpkJ6n5VGeD5bkBDSEJRDssw8MpkCjIKUx2pqlByL+rwp5XZGlcUlUmYXpfyuOaQmqRmvmWxeKnw5VqcuUdOLs0jLMZTPklBrs7jhVHUVkrpEKmpp3PNOOCJF3bom/0h5MpUl1MwiyaHyh7Azw0PysVVWAhRN6ZoDIV2tkiT5LpeWNlxB3gsiJHlR3fJSLEi+q8iLpTLHezln6mzXK2NMrywqtRWdtqMhbVUpD4q26sCqQSwT+Uy24ltlZz2njJQRThMygrAecM9HrfM558dPV0bSXCjg1D/qVu4SNUO3ULScMr80j6aZOsO9/pJ29DBCkszVzISsvDe1C//07NaPjSSUOvVzWf/FVv0kp/+i6lpJyxWVVlU/SdXDTnqW9J3JzHr2se3lnSlX1h9jXqLFL4CA02Y26y8WL2nbaVd7L1X9WFD5UdK/U+epPCppv5Crvr2tLFxADUxJXeqFq9+mVuMUUjepOnnyG83SNkrjJmobUmdlpc6d40bsws48CoakMNAl+kzsN0yc1TqkQHZHw2pmHllyYYpnoW15FDGJ7La2NrTrndCsAg5JKdIW6oDzURW58kFrvB2xx6Lo7OhAR6jdKUBN8xjOhh7FYw90okPeD3VoKMpxFNE2+a1ZcU8We4qtCMcfwwMdQbQF29HRKRWI7KdQkP3LvqcSARHRtSPQplqyJsxDhlPmqi8l0dICrXVyxGiKV5ZqUs6WymVHqfye/FZXGoPqW16riED4MTwa6UC7KjdVmWwdkvL5GMaDnXAmGZQ+a7eiMx7DFgnTEepE0DZw6NgxjGkRxL+yRcpmKZ87g7CNQygea538FsWtF6Tx3inlcKAV7RIuOK7ea0fk0a/I9tQ3oOo8ZbvtAYypfXXG3DK/9I2m822ogXE9ingsDN2pS0KQ3cmxFWBKRR1ywprYJR2DMS3s1CXh9qAbrl0q5Lw0iCUEZx7R9a1F8mUR+00TrdJRdvKClBv795hAZ1jySqvkYcnbLe2Sf9zvZMek43hoTMqOLZKHx4/BOHYWLfpXEH9A8rLkxaAu5UdA2nuHZBvBcGW5odqMspOWVilfpH02rsqd9ggeVWWGmknk7KHStGGrtqu4ZYyF8XYpN6JeW1HKkqKUl6Yca+hRaRt2SvnSEUKHps5dGqpt6vYhpwWJPdk9KLaGEX/sAXQE5XzaO9AZ0pxbFwpnNWnzsgU5/7w6KaChTdKPffYszpb/jLeiVOW1SOeutbgf+w+Nu3dAOJ0rA3boK4iFvHkEDdcZ3vVv0RFV9Zvu1Rm6CmfAGA+6+aBOunN5x+10KqXDOV09Vqd+nuy/xB5DVM6lvP+yX8IGSjMAy/pJUVW3qX6Sk54td+afnE9nvYqtxb/OlZOSbpqageEeu/PpK+qPMS/RtaG1TdLkoUNOu1qld3u8BeOBgLRRa2skZ2arocYS4lK/hCrayoZxbDKPlsKpB048KnVlsK0dumorq0EqqYtq2tQWoMe78JWwysulWfxqG+PuMhXOuMnUNvYXzKnyYA5clUf1a2EpvJxR/Lz/aLLm3T+oV56p+tZaFdhlX2w5gs433yVqJE79KwV3eWGjRsHVv5NPHSrCVN96qxHuijJJLYIVkn+lYFNfmRERXZPc+7LjUmmpbwBNI49cNoNUKu00jq/suwi13kF5+SzlZlg9TdN2ZjpVkEqrPKjmFtDQ9fKntZXKbaumfL8SljRcLSn51bcwFbWJ05BXFa47i8KWDrFamkXVJe7RebSw1CPe70TXuYDmfqE2ue6RpdY7krzvLGgkeVjlFWnsuiWAt96RvOn0TaWTqhbYjVU9sjAgbTPFrp32uECkrVi+6q/69lj9GwxLR915x6FmTCiTM6vk5NwmZNVThNXggtOELHrxQAtCfRufzSJb/VMxQ0DSaiTi3AGRlw6VuuXLhJq1M1XqN1pnlK5/UM1MKg8odYaziG5V/2Vuef0XSaNqttMU1X8Jy/8t5wmr5bSQ+vJ+SkDypcqutvRE5zLnzao/xrxE1wpJk9GuLsTUzB5JlUYh59ytpNrVOSlTpnKd1H9qWl8gLOVLeapWZZCUD7GI92XkVLjKNrUqcsKST6RNLXVqRR6tGbfwthGMIFJ3G5bzJclcuSqDR6owCUfV7WvqXvLpbl+zYUmD3pDC3akQ5OJkfJ7FWb+InqHgdho9wszXVjZyXMrVa8wQEc2FADQ9gli8C93dXYiXnrambh1Lq9tHZkkvn5rrkc6VM84i5WZFyenO863h8/YckjrEqTClIZ2rKuNLt6N5HUFb6gOl9j50ec+55YaInDwuWUTlK5VziqYh/59aDFstHCqNKveJbKqNJYE06TSW5yr19DXDGciWfCjtOjUt/+ryKYhmKJ/cp8ipJmR12ZKF24SUcpBNyIWjZgp1d0s9V/VTNVjpfDkt71mq02fYCKonJU1e68brjNL1r1dnqC9IgqVMMR8kb6mcpzJezd41d2CmelBIm/8K11F/L9Pvm3mJri0BBENS3nRJ+dIVd5+2JpnOlDJl8inGtuXWg5JHa0oCNXgqZYRTdMwUTv07OenFU52XS9tQT7Wvyj/ZnHur7Vx+KXuVBo+EGpmPaM49ruX3Hk9S00bT6t54teCr7Y6Qh6OIqnbJHHL2rBpDumy//CcU9tZZWpjCloho/qmBJPXtfxfiEamS7AIK18ViAmqNh6oyXn5CYfUYZ2/KfWXVXIX1AJFLGrNqhNhUsy+kwao6duUzGpwBZFsastLZkw6uWufMnZUk7CLymRQyqhOuviXVJB9KHlTf4F6b3DLDv2xRt9s6QWiBNBrdAfc2BvWbz6DKldYZ1BzmJbpGqQEeXd0tVXqKsbtu11XhHEt1HgohHJE8VO/W1Fm6eoNHQgvFnMfamblczeP71YJzRTuISFw6ObEoImF1i0T54q5zQCLZabIEZduh+j+8xZaIrk1qoUoDhron23unXOnWMdXJm5Vinanu6tsP9a80xhdHO086AE4ZLmV9nfLd/XE7Aup2HEXdS16t9K0oEUmTyZldZEj5UnQWAZ4cHFICQecb2KK6DdTJN1OzktRCxYYVQCjaja64tP8ikv+kcXutdgpLZUawbrmiftxb/GiR8e56ULdThzQbRk4tPFsyN3XGvCv1X+pNx5H3nEOSE7lWshbzEl0bLJiqXV11S2hJqV3t3LUkedRJs+qLFOddH9OG896rmr1bo7QNyUf184/8fFoGj+RsoUejUgCqlcO9txyl6YkSGRWlhZpO6v06F7xGjvSuatZeUk8LUE/aaOghCEREi5CtniqTVx02740yqnOnlM+uVL+ZVYNNllFwb++tZksFWlUeq7DqrXmdru+YpmCuakxrQbX+g1mz/oNqBBj5wmQjQM1uVdWBWX1vuXQ0pCogohLv9lT1SG212K9e0SiVzrf61k2VPSrflM9KslVeU9P13ZclVjOLSzbTJmsm7CyUyoya9SjklVpLx2/gnq6uolrnyNYQUTNanCU01PpHU/XDFdcZ8tlcKoVUxVOShOpTeL8qqp/hW7XUGxQqN9l/kfq5KmhR3lMz/sJzWg/Pb0pmXqJrgw1L0mNeyoHaSfu2165WA9CqTpS6Liz/WmrBeSfAJMtw1x51ix3/cKUyQi2dUF7L1vK2IeFriy1Vvhm171+Bqzx4JJwFFKsWpVMR7xR6csJ5tWi1GlySBrx6LLQU+HNHLVrlVhw59XhItSCb7Mt5XHROLphhL8CaHERE88Er36QZWcikkVWNXvWNiTQsc1l5rWotZzFor5DTdHcBvqJ6XL26raTgPOIzZ0ml5IaoJD1AO59BThp7pfK5tM3qBfvmkrtobRF5dUuz7HuyPpTC2qmv1VoqUlGq250dwZBzPJZaSyEnFahXn+TVWgpOY947VqmLwiH53Tt/teh3USrinFpoz2mlE5Gj1HFVpNyonjmkbj0pvVU+K0mTvKie1paX9pWbD6W9JfmyUKzaQF2qXSj/FCV/q8d+T9sSbibsFVDtVyk0ba/NWCpbjJx6fLrs114sMzCvE34LZmfVnQylMJImpG2vHtzjrJGu6iv1+P6Ct56R0kSd4SyEW11nqEfLSxg1W8YJKeFCqm6RvkZW/qa2kVeP6pZ+Zk3N4leP1SjV70WpoyQPOf0Xtx5W5xfQI1ULac+eb507l5iX6JoQREgtpG+bku8kbar6xWlXS35NS3tZ8rST97xqLxhS66nZMFRbulDWVs5LLgrWC1dqU0vdKGVSJldsuE3tbsNyyqnSNtTapqr8U4Ovc5mBrv7gkVARXR0x6pa2mJR8qiCZLPyDUWeRuzklFyUej0LXipOL4+Xy6hGXEXlfFcxERNcor3xTjUj1baSaheR8YyL1iLPYX0UZpyEUizlTW22p4ApSKVqaux5J3TpHDbZEw5CCU8pNtXadbHQBys2AHnXqBjkh51ycRQIdQYRjbuWpvqnMT3YY1QxX9ejSoHPbjNu5kIa+JecbjVU80TMYiSPqbFs6Ck4FL3WBhJnPwTCia490cL17+gP6NAvnS56smJUkjWVnfaPJTr7kQ4QRjbqhp6fysSqfVNaX/F3wnnhVVzNhr4x6BHNcjl8rO6d8UXXs5f25bq/S9NRt086gQ/VP6XYQy6nX7EDIHfTxBMNuvVGYfAJp43WGc/1VHWl5dYYa+HDqoi6oZQVLghGvHlEzWdWTphFCTM168v4+xa8eq8Op30vH7qU9Ca+pur3mS/nZ869z5xbzEl0LVH6IO3nUfYKx2642JE9rklZjlXlP2slRrw3uLKbt5VF3G/XCqSfRu+MeOam3mhqLcLYRQzgoZYe3Deepys7T66NyvF64OXDDhPB+JyIiIiIiIiIiqrAoZh4REREREREREdHixMEjIiIiIiIiIiLyxcEjIiIiIiIiIiLyxcEjIiIiIiIiIiLyxcEjIiIiIiIiIiLyxcEjIiIiIiIiIiLyxcEjIiIiIiIiIiLyxcEjIiIiIiIiIiLyxcEjIiIiIiIiIiLyxcEjIiIiIiIiIiLydY0MHtkwCwUUbe/lfLNt+U9+vJfTajisF05+rle2WUBhwS7itWHe4sQyUDAs7wVdt5gOiIjoOnK9t7WJyN+VlA9Xs2xpat9e2Pk60hsmhPf74qBONhBAwHvpMFKI92WA7gQycd17cx7YBjIDCaQKRe8NDXq0C729MdTstZhDYiCFnFnqmAURjvegtzssnypnw8wmMJDMo7RVBMOI9/SiO1wZcnZMiZNepKriRiWagMTj4mEgFe9DBt1IZOK18Vmh/jktnIXafzNx0gwLuX7ZZiGCvlQfInORzOgaZCIr5UyyOJ/pQFVQUl4vpqKGiOaXJW2lxIC0lSxE+lLou84rGVPq797UXNfj1DQzi4GBJPKTTXgd0e4+9EaD3hvXq6vdpia6+qxCColEBlJtuaQv3t3bh3ho5gZsMSf9+FQOU13+6n68hfxANwby3st6/PKflUO//K3g1xdsplwr5pFKJpGZOkmEu3vRFw9VjqtcoUU280gKuK4uJPJV35SH5L3eXiRi81noyb77VUc+JgkkjXQ6jVSiB6FiEv2JvCSLMlYeib4EiqEeJEphB2KQHjsGMqYXyGVm+9GbtBDtSyIl4dLpFNygA6gKOnfU8Uk8ztv2ZyWErkQvehN1BuKuW/MVJxqiPVKw9HVz4Oi6JhWMlGnzmQ7MTJek4arykYg+pWxpmybRJw3XrJQvrMtp0VDt3v4krHCf1y6XjmK3jkJCXlf3KYjo+mJmMNCfA+IDk33x/qiNVF//jH1lK59AX6KIUE9imn68hlDXAAYG6vz0dyMsIcJavYa4hXxSDRz5aKZcc8YmBmAEuyfDJvuisFN96J/jAYFr5La1APRoFPo8frttF7JIGVH09MUR0tQ36QFoegQ9vT3Qc2nky+LdzKeR03rQ0xOBXgobiqO/NwYjlUVhcp6YiULaQLinF12RIDQ1oyogCSzei56IgVS2MG9TyhajgB5FdD4v4jVo3uIkGEFU0hxd3wJMB0Q0V8wsepJFhPulUSrtHZYstDjY0tZOIqf3om+yXa7uHOhFf5eGXDILwwtJRNebIrLJFIrxPvTHQ5N98XBXH/pUXzyVm+YLUBP5dA5aj/T5I3pZP74fvbHKfrymhxAK1f4EinkUtC50RWsHj6x8EgNGHL1SbtVqrlwzshI2JOfUE50MG4x0oa83XDU2ceWW9gvv93lmyYml8NRTT+FHP34OecOEHdCht7eiRf21kMKAREShOIbiMROFfA45W0e0QyLbKiA1kERROtrq5SS7iPyLT+GpZBIJubiGaUtnXEd7q9qiYqGQGkCyKNtpk4uc+DGSP/oxXiwUMd6qIyT7Ljkr+w2GOhEOBSundo2PIZ95EVqsCyFv39YYoHeE0KlrzrFPso8hnT2GyKMPoN3ZiBxf6tewv/IYHnDf8AQwfiyNbDGCRx9ob2IqmWwv8xR+nBjAj5/Lw7AkAYdbcSwt8RaOoUsOUM10Sjy3B4eKFkzTwJ5dOZhaGOGg7EUafv2JXdDCOsz0AH6USCCJiPO5Rtjy+ackDn+cSCIrcdjSEUaH9Wtvm2GoXfjvA1PXouIiznxODStPDyotmWNolWOcvMx+6UgKh2x/ArtK8aTSamn/mqSbH/0ICe+cq9NN+TZbjRR+9KMEEpk8ii0dCMtOWmzZ9o8T+HEygUzexFirpLHJtFCWPssOyDKySEk+eUrS6nN5Q45Od7fl/V2xpTB6UcIkZbtJKbzMsVZ0hNtROjInHeySwjFcmZ5rtx1EqKOtLEzjecbXjPlSqS0PoEt60rwwRhr9P/41AuGIl5emOIXtU4cQjHaizXuP6qtOB77pwil/i1IpdUzddjtdfvLSvcoTY8VjMAt55HJ25ecrNJmu6u47NJWG1G3DP0rDDj0AvTw75hOSNvI16cY57xeBkFT+DaRgIqpLQzT+KCIqc0l7Z1dmF/BAvKp9U88M5X1JQ3WHaDBc3XoyJPVkWbDJMjFkI+fV1emcIS0THZ1V9a5SzGfwlIQbcM7DghYKo1W15wphxKSh01D5SXPL3o/MQBZt3T34SlVa1OS1kX4OLZH4ZBu+rgavV3maUunEtAPQ9co0pTQabu7bZHIeDbapZ2pHEn0qmLvw418cQqznz6rKgADa22ykf2EgFCv126tZGJO6oCPUCb2qvrJVuX9shn68XUB64Dm0dv8lHqueKGDlkfy/swj19uErLXlkdrVV1SFNlGuyn+f689jyF3+BLVUdIzVJIR7vlPOrrs1mb4FmHpnI9HWjL11EMNaNgYE+dEWA/EAP+rPulB5NTq6rK4qQ/K5HpIDr6kKXdHBcNoqF6lk66jazHiQLQKSrDwN9XYiggGRP5RQ0u1hAQQrnZH8Omlq/SPYdDxal41M55UuTQjUWq16vSBRNGJD3y/6gji8W1WsSi2XKwWh6WVgp2KPSDy6YNceez0tHJixhvXdmpuKwBwNZG5Hufud8o1ADNZmKkcdgWOItFnGmk4fkfFU8RvXSXmwU5FiyyQGkLR1xdWvT5N+mpzplPb1pFLUYegYG0BMPwUhKXMv2ClKJTZ2f/z6ca1EREY2dU2NK6UEat92SHiRtxTQDA5IecpOXuV46ctn1FmQ3Mkj0Z2GpkduBfnRHbGRlu30V0//cbaoR32Q+KIVTH/rimsRNL/ozWaT7U/L5OHr6JN1pcowDvUiXnVx1nKh47u3LwArHJa0OoK8rDCvdi55U2YfMDPp7kihoUXT3Dcg5xqAZck0kjU+dau1C3JPbDsnxyLZ7Zdt2pk+2kZHYm9JonqnPvQ7qmoa7en3ypYV8olfi0UI4LmFUeRC2kO7tweRpSoNcL+SkQV69P2lIZaURFAw5aZxmUJ0O6qQLhzScCxWZc4b8pO65VmWLW2BLhafKmvC0MxEaT1elfXtl+0A3ogFT0lDPVLigDt3MI1exGLh0UHM5OY9c1ftShkvD2ArpnClBdCW0oPslUVMaKO8dVfnep03XWB0jSvWk+vJK1ZPdUQTMJHp6EqgobpwyMS8N/BSMkLRv+vqhvgTOO3V4xY5lk31Sd2ZhR7rRr85D2nfqi6dMTYNlhvKT5pa00/PSIggH67Rnpa6SVhSM4nQR3+D1qkpTfaojU5A01V/ZhnLDDSBrh9HV6x9u7ttkch6NtqkbaUcSfQpYRTUoK/3ieg1A6UtEpPSYXMuoho5ILFbnDhELbpdfm7Yfb+bSkgOlfVwz68idVVQI90h96FOpNlOuOWEjkGaubFrez2eRzeaQ905sztdAVgtmz7tTb03s+JufT7x2ynvtOb7j+xPbH39+4oj3ekJ+e3779okfVAc89drED+T956cCTrz1zOMT279X/lnXkWe+O7H9uzu8909NvPaD7RPbt/+gat/e+z94TX6bjhzP97ZPPP43+yY+9t7xJcf45OPbJ763o+qI1PtPbJ944gfPT7y2762Jfa/tmHjy+49PPPHkKxPHvSCNOPWKiqsna+LQeV/iZnt55NSJL8eR552w36v5www+3jfxN+rcaj731sTP5f2K+PXdhxfnZe83dU4zOfJM5XE4Tk3s27Fj4rXj3tXzi5eadOe+3r79+xOvVB/ba09OPL79exM7ShfP22Z1GnHS9vbHJ37+lveG4/jEju+Xn1d1nHivn6k6wCOvTDzzyluTafXIMxKmOu2e2jexY8drE6VTPfJ8VZhTr0x8v+IcPXL8zrWdTLdXlmf88uVbP5f3S/nSi7Pa03xm4pW3prbubOv7r1SdpzqPxyeeqYhX8lOdDmrShefUaz+Qa1523RrJT8Jve7UaT1fOdf/uMzVp6MiO70l58TcT+ybTuIQr37cqpyTP/uAHUgeU50cnzXx3orpoJqIr4JXjNXVKtWbK+xnbdA3WMdI2eUbqte9W71T+uqOqTeeUYVI+1Byf2u/2snLIq3uerKlD3bp1NuUnzRGn3Vkd3yVeHTNde7Kh6+Wmqdq27ZGJZ74raW2ygvEL57aXJ8PNQ5usmTZ1I+1Iok+DmvZtBcm/jdRjVSb7gvU36vL6zt+v7kgqb/1cPj+Vp+seYxPlmjoe9fl98pnvyz4f/+73J77/vSecfP/49/3OffYWZuaRFkKsp3bR1mAwCPXUjmm/EKjLQD5tId5duyq5HosjbGahZkVPisVQ+WAzDaGo+mqpOM0Iu/q2rB8pdKO/J+w/Jc1hIjMwgEK4D33Vi3oHdEQiYdj5FAb6+9A/kETO1BEKNTPryEIhV4AWj9fEoRaJI+b93piwM2uqGbaRR9aKIl6zYHkI0a5622pkH3N5TkpA4rMIs2JWhYawXPtI81+VuiQt1Tu2uCbpr+rx59FoZRoJaOpVCKGKke6gmlAjyXeadKc+ZpqVf1ez8qJlUxkD8lvRrJwppUmcxyK+3wpbhRwKWje6ak8IMbmGRlaNzJeZVZ5x82UkHq3Jl6HuJNIDUwuDu6dZuSX1ZMNo2ZzSkMS1po67LJh7HnJsasYLzaN5yE/KjOnKS0NdtYvIq/QRs7KS99xj0tW0znwe3ktJUAVk9Ygzg1VTU/C9ty0pv9S3q843MkS04GYu7xtt0zVYx0ieT1tSFtS0WdSMyRisbFm5oehSrlUF1SNSLkkpUmqfunWP1P916tB4TYNlnspPqsuS9tCVaeB6OWkqju6apyXp0lQMwyy1oby0F69pA4fQnUxjwEuTc98ma7JNPYt2JNG1SM08mk7Tyd3MYGCggHBfH6Z7jpf/rCMT6WQGem9PTV4t11y5pjJyBgk5rki/euBXvzPekEn1Sf2ZQs2Dv67QAi6YbUs5lUcum3VPqr8X3f1Z729Nsiwp5qXMTKntVP0kMnJZqm4TC2pNJw4zM4CBQhh9fTM9erVskKk3IsV5OW8qrCnbSWWQybg/6X7p9KRrp0T7s9QSIwjVm7oW0N0BiYYFmo4L21ZJTq9boeh6vZ03so+5PCehR9ETtZHu60JPXwIp1TisqBWbp+v10o2mZjmiIGmwnDNWdMU0aRR3I2wk0N0t6UMaGrl81UCS0KM9iNpp9HX1oC+RQjZv1N5yV8VyI7sqfbr0kDRAzKpB3FnkmVK+rHtNVZoobVA1trvDMBLd6O7tRzI9NbWygqStLr2A3OTokds40rsizu2tNI/mIT85ZkpX06UhKRfCqq1ses8rlXQbhzTAvV6gaagp/SHJtyHENLUOinrXdtZj0mK8zZHoqmikvG+0TddgHWNZTihV3NQISL3i3KbgFSMOCVgbtLKk8q9DA1KHVjVY5qv8pLq04BWW7g1cLzdN5ZGqTp/yk1BtedMNP13aUwm0lKrmvk3WXJt6Nu1IomuRpjpt02gq2TtPP0sB3f3onW7kxy4gmzYQ6YnV9FfMTBLpQA+66yygXa75cs2S/lEvYuW32En929sXB3LZii/ir9TCDB6pyO6RQrlfOsPSaAiGoojJCSYGurwAsxPUI4hEqn9i6OrpQYNL+dSlFlB000bvtKOC6kIVkv6DTO4T3MLSYKpcqE8tXtXrPJktXXnv/SzN9a2Mi0Hz56Qh0ptEKtGHuORUM5dCn6S5brmQs80wmvpmxo89T7WsHkd/Mon+7giCloFMshfdcXUPe9lAoyoMkikk1JMBpVGdS/Whp6tb0myhZqCpMSqyF7bVoMelE5FU60gFYRkZJHu7EVdrBFSMp0qDJ6ajkJGGvnopLaNcQUeMU0gWwNznp7kytXsd4RiQLajUYcLIWYg6aSOEcNRCTo0e2QbyWSDKqWpEV01j5f38telqzXEhVtNgWbzl56dTQGqDIqq+0/NYMPNApO5oTkmj1yvozEirSaMx6d/0NHM3wUzmvk1Wm0Tnuh1JtDipp45BlQ/1spRVdPoX9b+QqCJ9kGTpLqOaGYiVVBmSrTez0JT6L2Wju6d2dn2txss19xwjiFVOT3QFQ5LHJV/PYcZekMEjM5dELtCFRCqBfimQY7EoIuq2raYHCDxSCqro0aNqkev6P/XirxFqAbv+pI14oh8zpA1ndlJ/Poi+RP1BJnfGTrh+o0eXDg7yjd+yJ9so1r3yRTVLdl65ibJqeqvniqYLz8M5aWrxXjVrx5mu14+olUEiWzllsdEquVDx1WSJpcoa53GN8yYQlM6v+gasX/JMGklplOSlkq9caFNzFm5X3+QOJDNI9UdhZRKoOtUpAUnMktjqxbY7pVOv/01ZM7x8WaxbQtcKBMOIqm+9+hNIpZPo0fNSqFYu1qhHpm5ZMPMZKbTjNbcX0PxpJD/NqWnTUHUnIICQ5AGoJ9lIOZQ3pdz30oYejklYE6a6lQ1T7xPR1TFted9om67BOmb6zoK7sGjz9Z18wKcOLfo0WBa8/Lxe6WrxWFUH1Lk6piHXW2uoczjd9XLTlI5onbTp/rgP3Jk27ZWbjzaZhG+uTd1kO5LoGhTw+tsVy9l4bGkjNlYfqOVp+pEP9iFRc5dRFTuPTNJEpKv29mqzkIK6ITXVG0c8PvXTPaAyaAq96rX87uTiJso19xz9Bprm3gLdtiZnE6wdlVe3E9Qz46SOgPpmWfoMuTpPzipKZ6HOrT6NsI00BgYM5z7GeM3K6pWKuQT6M4FpZye5lUih7iruzjocDTdg1AwM9Rh+bwZGGbuQQ877vVqDffgZBUJSoWo5ZKq/JrQLUsEWvBfNmt05+bGlV5mVGq/ilLUwImHVVvQqaC3oZGTnMcHl1O2U3q8V1JObquNQ7cfU5mn2i3paVFoKCu+lI4BgJCKFQmnU2JZDyErlXnlgWliFkc61T8mhh2LQzWzVthULBbkGWle4ppBrSPlhePkyq55s5b1V4gzK9mfda20ZyKWrrnsgCLU2mPqar+Kzcg2jYVPONwdD0l84WueJiNQwLaju+5JKtCL5qHRXWRY3lJ9K5nIW3jRpSA4SWUnlkbJpnM4tKJa8n5HyNBZByCu2nfelHElnJGeXvU9EC6yR8r7RNl2DdUwgJPWGlBa1T+tUxUgW6v7X8tngjVB1qFavDpV2kDQVKjRVftIcCElHTUMh47Uxyqg2lal3TfsFQiPXy01T0jataRSqJKrShXtV/dOeu8RF6QnTc98ma6ZNPbt2JNE1yelHWNIerF73R/KklBmIRismnNQ2aYvISd7NBOotT1NLrXWU0+vMOhLByAAGBmp/1JO15UCcpy4OTD6uv4lyrdRXqi1Q5HgyyEPKmzl83PCCDB4Fg1Lb5zNyUmo03nZm5BiZfqTy1S166dzHpD2RlYgvGNM8Oi+ASLwHQXV7WTIn4dQ2bSnkc0jKBU7m6s0YmYF6bGVfGnasCzGtCMMwKn/Kpt2oRkpfIgc9HkfIrgonP6XjDoRj6AkVkOgbcBs/6tzVt17ZhCSWPELdXTPcFjclFOtB1EpL4ygDwzlfSyqsDAYyNsIqzZXTgk6CyqUlwcjxXPF9zIEwunqisFK9krBTUslKpZNOSibKSFqXzugsNXVOM7EKSCcH5Np78SzbMvNJpOQQI5OLTesIS0Y01a2GUsGqa6WuRX/aqFsYhMM2MgMZFIqWm74MSSP9aVjRHsTm5S4YOWZJ+wPJtLSp3TRtq1vXEikUpCAqFRJWIY3kgFp43T0uJ00lU8ggUrHgdAU9iu6YFJ79UgAaU5/LJvqQMKXAmsUJWbl+xLu6MTB576WbL0N5id/JfOleh4EBabpIWnFOQe03LdcqLR0A51q5cZtIFaB3VzeYNERiUblmCSTNSP0pmdQwLaQah1JOSj5WZaxRyDvfpqhHCldoKD+p7wScAhtp6fQZ/gV2E8rTkDSCS+VCXsoJyYvB7m5U3CauhSRZSXqS/ByRDDJZo8j7kXABeUmb6pY1jh0RXSUNlfeNtukarGMCEcR7QshLQzw52fYqIp/ul/ZFEN3d0bp1/rTUY/yjlXWoVSw4bQS7usHSYPlJc6e8Pem02VS7yLneQEyud2W7okoj18tJU0Fk5fpXhMslkeiX9thkEi1Le6VwThtN0qyTRL0jmYc2WTNt6lm1I4muSRqi0nYsrzfU7D4nrxVC6IlHJtuIRrobXV09SE+OwahBXwmX0xGPh2CX9fXdH8njXkjHNLOOlIC6hSxU58eZsKJ7v0/lv8bLNfccA/K3/pRXN3ph+1NFRPu6EJ7DhvAN6pFr3u/zyJZOccLpDLjlq4ZwvBe9URPdvQb6Un1TgyhSiKcSCWTUqH18AJluKUCtPAa6BxBKZCpvJSvmkUom3bAOtd0e9Kj1YpzXctEHpHMbku1V3YNmSSLqHgghkXHXKjLl396U+7e6ukvb8LZZf9KUI9KXQt/kCUmDJaUqoYJ37iIYRry7B12RYHOdmurzlcZMvyQIO1nnHM2sNKaS6kEMCMuJ9aselynxVx3fTbBl/7lMTrZpS1SHEeuKI2SqeMTUNn334XMtmjmnGRTzKSSTksEmk4N6skqvVMJlnUpnBHkAKVWpy6tgpAd9vSEUJJwxed1M2a/7uicgjVxJd+42q9OX8EmbbvoqixePk86MPqT61Oh1nTixVeNBNXgnU4skl7jkk/KnFbppKilpaupUo+jq7ZlcKK1yPyXV+bDethvPM2oQtddZ2T+JnrJSyZa0l0y465s56lwHFSbhpU9XUOK2G70St2XR5ZLCONE1gFy0D+neqUKeZlYvHdjScRtQA5Iq7iUfx3sk3UDSetm1VRrLTxYKqYR8TqXFuFRoUkF7f6nUeLpyVJcLdfftUoOYUjxL+d1fMbBkZqWOSQZnXd4R0TS8uk8yWFl7p76Gy/sZ23SuRuoYpboMq64nlfp1pajblqmue0OI9fehy07WlGGNlZ80p6rTj9PW7kV3AxVAo9erNpxbh6r1vKaotlYSibTqxLnv1Et7bri5a5M5Gm5Tz9yOJPo0qa6H6tcHfc5YQI/0wyTrT9Zz/l3+SEUd4bQ7s1HpN5blyQbUzcslTZRrNXWjN95QWT5duQUaPCpRI+HyT6CRp3E5Ad1fZ9TMdq8eNbqvzkkOs4w7UOE/blWZMB3qW4Ka7fiYKRpnzBjd9ROzx03wGvrTPVc2qjnNOc00sFc5WFeKZ5Ucpj+gplKY2uaCpq9G0rQXxifeprMg5yP7cE9hmr00EoZmzbdjpDgR7/46nfnITw1j+iD69Gg4P3t1m4SbNmSD26vf9roS7vE1Ui41Wn7SXFLXZ3bXu+HrNcdpzwkngeYslTjH10gcuGm5kWMk+lRoOG8sNk2Ua/N8jgs8eES1bBSrp71VCCCoFhf3Xs09C6ZRlKPwo0EPabDUWjx6V9VaUDYKqR70F7qQSDSycvzs2MXpbmGUGAqG5vhJLESfDoVkHP12H1IN3KdNRERERETkh4NH1BB3Kp+FSLwLUXW7nWWikMsgk9fQnRiY8cl0RLSAnNt/1bpGkmerbiskIiIiIiJqFgePqGGWkXVWqy8twK3uF43GIwhr7JgSLSq2iVzOAHQufklERERERFeOg0dERERERERERORrQR7VT0RERERERERE1yYOHhERERERERERkS8OHhERERERERERkS8OHhERERERERERkS8OHhERERERERERkS8OHhERERERERERkS8OHhERERERERERkS8OHhERERERERERkS8OHhERERERERERkS8OHhERERERERERkS8OHhERERERERERkS8OHhERERERERERkS8OHhERERERERERka8bJoT3+7z487+/z/uNiIiIiIiIiIgWyl9/Y7f325VZkJlHc3WwRERERERERES0sHjbGhERERERERER+eLgERERERERERER+eLgERERERERERER+eLgERERERERERER+eLgERERERERERER+eLgERERERERERER+eLgERERERERERER+eLgERERERERERER+eLgERERERERERER+eLgERERERERERER+eLgERERERERERER+brGBo8uY/yi+0NERERERERERPPv2hg8Ovcx3n3xXfz2h4fx8pPuz44fmnj9lbM4f9ELs2iNY/T5d+R4T+GM905zOFhGRERERERERFfP4h88OnEKr//8GA4cuIClG1eh4+G12PTwGtyxERjbfRyDPy9i9JwX9lPozG41WDb6qT5HIiIiIiIiIlq8Fvng0QUc+dUYxs4F0PGtu7Dtj9fi7ntX4Y57b8GmP9ax7dGbscz6CAdePY9x7xNERERERERERDR3FvXg0YW3P4RxArj5obW4e0PtoS7f1IZ7Nkq4fadxsnxmzsVPMLq7iNd//q/O7W3550/g3ZGq4aVz52H8cgSv77sAnDorv6vb4iTsi6dxxrkV7jLO7PO28ZP38MYrZyEhPeMYe0U++0sJK7+fkn3lf/KOE+7N3Y3eSief23cCb/zClGP8V+z6pRzjkbJj9I7vX/apFx/jnV+p/amBNOevrurzfPEURk/wFjciIiIiIiIimjuLePDoMj4yz8q/y7Fx0zL3rRot2PDHd+H3/+M6rFvhvXXuLN78uYk3XjmPC7euxKb7l2PpidM48It38fruqeEftf3zR85jbET+9ssP8RGW4uYNwKkDJ/DqL0/h3d0j2FO4BKxYhtWwMbr7OF7d9bH3WeCSJZ89cgEn5f19By7h5k2rsWHFJYy8chyD8vnp1ze6gCO/fBf5l87ivNaKTQ+vxEo57gO/PIJ8xTFOY/I8bWDDKvc8R8bwhrz35tuch0VEREREREREc2MRDx59go/eVv8GcHNpYKiuJWi5qXQalzH26gmMWMvQ8S0dDzzahjseWIsvPrERX/jsJYy9cgLvnvCClpiX0fatO/DFP96AL6p/71sKjIzhkLUa939b3pP3I0+0Y6Mcw4VXz1cNCp3GkXO34EEJt+mBNnxB9nn/QwHn8/+iZjT5OLPvBIwjwIav3+Ee473y2W/riNy/DKdeGXWPccVyhGTfn79XfeIzuPsP1LG0oc2Ji9J5BhCSz33x4VsqznPk+TGMLvqFxImIiIiIiIjoWrCob1uDc4tWE4d40cbovkvARg13VNzm1oIN963BMtg4ZFYN6mxaNTVrSfZ184bPOL/dtqlVwpfciNUb1L8X8XHFwtXLcc99y2XrU1be14aN8u+pgu0z++gCLPkbNrbhns+Wf3IJVt+roU3+/u7IDLOPSuep9rXWe8+hznO1/PsRxkZ4+xoRERERERERXblFPXi01BkYaWIQxLqAd9W/+rKygR+Ptgya/HNh5JOytYvEivpRsOxG75dpLa8zK+pGrP6s/OO39tC5T2CpmUUnLLyp1lwq//mVhY/kTx994oT0J+c5qv59e6zy8+rnFXWrn5znJxw8IiIiIiIiIqIrt4gHj27Ecme2zzl3sMXXZYxfXIwDJZdxyfutmrMi0YqboN3dinUVP6vQ8fBabLp1qRNuOs4A2OplVZ+Xn02rsUm2sU5b1OOCRERERERERHSNWMQjDEug6TfLvxfw7tt+t3F9gnd/eRgvPzmGMbXGz4obsU69bV2qfXT/uUs4r/699cbaWUmzZlfdxqZcwhm1VtOKJag7BCTHqM4KWivuuHdV/Z+N5bez1VE6z9vqfNb72bCWg0dEREREREREdOUW9QhDy2dXI7QB+OjVkTpPELuMM7uLOHAEWHbfzWi7Sd5aEcA6teDQvlMYrRrUOXXgpPNEtY6Nczd0BJzFkaqBrQtvn8J78u+ycAAr3beqLEPb/UsBCTdaPaPqxGkYu05jpOaWt8uVg2Gl8yycrjlPtX9j3+nKR/oTEREREREREc3SIp+esgwbv77efQT+80fw25+P4MCu03j3lSLyPzmMV53H1Ldhy0PuItfOgtHRNqzGebwpYd95+zxOjZzFuy+OYN/uS1i2aS3ucG6FmyutWD5yHK+/eBqjI+edx/nnn/8IF1bcjE33lo6p1up718o52TjwyxG8ue+sHOPHGDug1i86gSOFj9FStg7TshXL5f/ncfBXY3hXwrqLcHvnee403vjFcRxxzvNjjO5T+x/DkQOXcdO0T6gjIiIiIiIiImrM4r+3aUUrvvC/6/id+5Zj6YnzePfVEziw+yOc+mQZNjzcji9/a3XlDJ+1q7Hl22pw5gIOPT+C/C+O48CBT3Dzfetx/6PlT1CbCwHoD6+Ddv4k3vjFCN545SwubVyN3/nTYNkT3OpQ5/TtDQht+AQjLx2XYzyG1188hfNy7NWfXbZpHb4o544jp3DgpQ+n1n9yznMdNqz+GIZznsfwxksfY+mmtbj/j6vihIiIiIiIiIholm6YEN7v8+LP//4+/PU3djv/zgV3cewlaFG3qc1EwqrbvVpumusxsnGMPn8Eb7zdhvu/5w3UOPtq8LgqqAW/5R85xhlWOnLPxf21SuPbICIiIiIiIqLrgxqPmQuLf+ZRFTUQ1PAAjRN2gU6xmeOq4B5jI4M+/mEa3wYRERERERERUTOuucEjIiIiIiIiIiJaOBw8mpUl+Mxn12LTw8vmeA0lIiIiIiIiIqLFhYNHs7IEKzetwh33LufgERERERERERF9qnHwiIiIiIiIiIiIfHHwiIiIiIiIiIiIfHHwiIiIiIiIiIiIfHHwiIiIiIiIiIiIfHHwiIiIiIiIiIiIfHHwiIiIiIiIiIiIfHHwiIiIiIiIiIiIfC3I4NGf//193m9ERERERERERHQtuWFCeL8TERERERERERFV4G1rRERERERERETki4NHRERERERERETki4NHRERERERERETki4NHRERERERERETki4NHRERERERERETki4NHRERERERERETki4NHRERERERERETki4NHRERERERERETki4NHRERERERERETki4NHRERERERERETki4NHRERERERERETki4NHRERERERERETki4NHRERERERERETki4NHRERERERERETki4NHtOjZ7x9CtvABbO+1v9MoDL0N4+Ql7zURERERERERXamrOHhkYuC//Abxl055r68VF2Cd/gj2uPeS5tkHSD9/FF992UDmhPeWcu4jWOcueC9c9h4D9/7Te/jcy+9573zafAJb0p5lVw2OndiPuOSlgf3e63mST/8GN/xkP4re64Xk7Pu/vI6893ouzMc2549bXt6QNr3XREREREREC4czj5p14h10/3Q3Eob3mubZrej62nr8/L67EF/rvSXy/7Abq3/xTsVARmBLCK9tasNrv3+7986nzQgSkva6/+mM95qIiIiIiIho/nHwiBa9wMbPo3vbbQh4r/2tQuRrmxG5Zan3moiIiIiIiIiu1NJ+4f2+wCzs+udTOBZcj667PiOvTyGb2o0/e68F3fesdIN4Cv8wiK7XbMTCbWgtf337WTz1zD50/eZfkSx8gLZbb0Hn6nEYL72BP3vhIP5k11HkDAvhu9YiGPDGyd7ah+gzJoIdbRjf9Qa+JeH+VyfcGIJta9Gxyn/gwdnvrnMoXJpA4ch7yLx+FAV7FWK6On4xfgq5XxXQ+6u3Zd9HkN57HOPLbkYk6P29riJSP9mL3iNA1yYNLd67rneR+G8FJE4G8Njd6szF6feRybyJnpfewbdlH2otoNbVq9F5y03u35XJc7wdHcu995STBnqfOgBzpY4tt8rrUrjbA9j/wh7Edx7Gf3hvCfo7NTd8hbLr0/YhEl68J4ZGYJy6AQ/cvapqcOcSrHcMJDL78WcS7j/8s8TVkXMI33kL2krXwuETTq5Zm3dKFdffO4enPryMkQsfY8/ed5EaOoXw1vUIVp9fSTNxtnENzv72dXT9SoU9ivw7FjpuX4v25TONs36CYuFN/OXfG/iLwX/FwNBR7D92CZF71qB18qNlcfiZY+j9xX70SNjE0HHYF1uwRb+56vpPKQ6+hkf/vzH8WtKeOTaKF1+X8z7h5ZVzJ5AePof2u29H+5E30PtLA19X6U/lierzVCriw0372s0aQtXhqhzbfwQ/u9CKv9yy1smHjqo0ny2MYvymVmypTvN18sZZuwWdcs6V6eZjGIMF/OX/LDsHydfayHv42Zll+LP7N6DdC9nQvqdJ4875qG2Gb8CuX76Bx9TfJP2Z732M0MZbJ9Ofq9H0LE4cQvLvDuAvXj6E/03C1cZvKR0sQfzyv6Ln//0XOdcRhO6+E50r5M/n5Pr8zzfRveMd5/N52c+Wu26C8fop/GbVGp/8SURERERENH9m6hEvKOvCOAbP1S4mZMt7g/K3Euf1uZPo/9ujKN6+AakH2xC7dBZ/8twbSDy/B93v3YTuL9+JHZukW/rhh7hXOumTK4VccreVe1k6kkeWoPv+O/HKg7ciNn4GX332n5F4q3IdnXJ65wb0b16OkPwevVt+f3ADuu8ujc6cRPpnb+AhYxyRztvxyu/fjv61l5F4+Q1E0uY0iz0HEb0dGDRHka8KZO85joELlxG5O+i+cc7EwNNvoecE0PW7cty/L/sP2OjN5NH10kk3jOKdo1W9brS8b5a/74S7iOQ/7EffuQD67tuAn29Uvdf6nOtzUo5J4r2wdj1Sv38nEncvgXHgHYR/9i8Vt5DZ+99ALHMcWWgYkHCv3KdB+3AUn/vpPyP9/tSB2W954ZauQUKFe3ANgipcanjymlVc/xW3olvF+xr5fdly9Mrv/Q+uh67+Vn1+SpNxlvmHPeg9IdtV6UeuNT74EL/3t2+gMO1q3ZdgvpRH+OUPUbzlViTlPFKdrbDMo1j/168jf84LJpw4PHEUPc+dRFDSUEqOp2/VRfzV7rfQ/Vv/9b80J71piMrvodvWOWmvv3OV+0ePWdiDWAGIqTR93xpEVJ7I7EHq3bIIqYmP9ejCefRkdmNg/8deoEbVpvneW8YxIGm+Im7tdzHw1yrcReihDRLuTgxsBDJyzrHnj3mBlI+RT+fxud1nYMk57nDCXUbquT1InPaCTGpw3zOmcRuJX7yF5IWVTjrdsVmu23vH8bmfVV63xtPz64g8fRT951rQc18pfs/i6xK/iXemwjnp4P2j6H7xDAK3r8Pzm2+Bvkz+oK7Pz97C19+7jPhmdV7y+fGTiP3ivRnWZnofyf+m1nCa6WcQySPeR4iIiIiIiBq0qAaPmnL+IkJffQADD38W0a2bkfjO7XhCOoL/8f2VSH/nXsTDHYh97feQfXC5hD2DfPliy7iIH55ejewTX0TX1g75fCf6ngjjmZXj+I+/NaYGmqpoGyXs51ZI91E68Op32Uf4NtXjk477P+7Hn5y5Cc/86ZfQp44p/Fl0dX0J+fsCMN87gmRZx7Ga3qnhEelgZveXD1xdQN44i9HlaxC/232de/4w/mq8FZnv3I+ebWr/IfR850vIdizBs8MGsmV95saNo7hqIwpPbEX3thC6t5ZP2anjg7OwHrwPqT8MOecf/8P7kf3qSgQ/PI7EHu/47UPo33EG9u13Ietdi+i2e5H683vw5LKL6N3xDiwn4CUUhs9gaPk6pLo3I6bCybVMdt2OJ9feCLtmwEAEbkFYxbvq/y9bgYj6TDjoXJNazcbZReRX3Dl5zLGHtyLz+63YfOEM0ob/9cO7+9EzfBGRzWFkujqd84g9/EVk/t16PCGf7X2pfIBEfHgZUUkbbjpRx/MFSXvAs2+N+Ka9wG13SNjVzsCltma9E/fRjTe7f/T85NzNU2laxbfkie/K9U3sPe6F8OIDK6vi4z5kbgf+6qV/QcEL2Qi/NJ/bfJMTt5lS3J65CG1lK57/0weQ+Fop3USQCrVg6NDxqX2++zb637uMb5bFY1zl4W+uhFW1zFPD+3ZMl8Yvwrp9E3KT11yu25+uwzfVdfvt+26QhtPzJ7DOtSC8fj3y/8fvyb5K8XsP/mbZZQwURpxQk+ScuiROkn/UifjDn0dklZzX4FH81YXy85Lj7X4Audsv4wXvY/WtQ9eXWrHVe+Vn6+13omuj94KIiIiIiKhB1+7g0TI1qFJ2i9mKm9zZJ7escv/1BKSDvV06iGbF4BHw3d+9uyKcfBBd96/EuvMWcu96bzWsiNyhcay7/XZ03VZ+29tSBLfdib6ll5HaX+rA13HHHeheCfzQODo1Q8l+D1n5yCMbb3OP0z6KjLze3vlZRComB92I8JfXOwNnmf0fee81owU9X9IbWE/II/HeE668JSnQ2YHesuO393+AH+Im9H25arst7ejeHMDohyeRdwaGliKgouvCOZinywZn1n4WvX/0eYQqJ9Y0r+k4W4Lu36085kB4HWLyr3HCf5Fqc7+FnVgpnf1bvHc8t3wePR1LMHRktHJQZs2tiFWkk1sQ2XgTcP7jK3qS2ROhOyvT9IpbEZHrMlyateXFx3e/9IWq+PgMIl9ag22XziD3jvfWjNw0v23T3TVpXn9wHb4rcZstxe3aDvR0b0W8OtxadRuXLXHrvlOKx97qeLzj36BXzTSb1MS+HdOl8QB67/dm9pXc9jn03g65bh84g3mNp+cbEdxyL5Lf+nxV2bIaulyH0Q/PVF7f9euq4sS/HNHvXyfpdTpLoW3ZguxD/gNIW9XgV5fuM9BKRERERETk7xoePFrq0xlsxE2IeDOGKqyVTrSapdD0w6xsFC8AkTX1RjvWy76kA3+iquNYYTViITmb49IJ9UaP3A5rAD2lWRJnLjod2chtq93X5VbdiuhyIHPC/7Ynf0sQaCYi11YOzrmkc6xO/dxFZwaG9aEarAhAL3s6Wol29ypsl/gqeJM6wvevx+OXzuKhn+YQ+dkQki8dgnHS/9bBpjQdZy0I1rmEM3W2i2fkfFd+pk68yPltlJ1cOg+zfCbMikDNNmeflqfot1TORJp0+qyb9rz4yPxTHtH/Nlj5k/kQBi7Dbjjq3TRvGG/VbuunI8hIiGJp0EoZ/wjGfgOpv9uL3p+pcK9A/6fz3h9d/vF4M0Lry1eDanLf06XxpYE613wp9DU3ARcuOvHWTHp2nC4iPziMxN8NoVsd0//zz/jqB97fyrXcVHXdpylHVmmI1CmyKvkPIHHgiIiIiIiIrsS1O3h0pfxWJp5zpRkEl71/69PCt+AJnEd6SM2YULesScd6zWpEqyZh1CeXUc5n9NL0+1gUSvFemmh02+eR+g9hvLZ5DSLSeU4NH8Xn/scuRFP+tw/OjQWKsxY3i9nT3PW20EJrWhFfX/2zEn26hvBKL1CDgiuW191Wr2wrfpt3sd//F3Q/uRuf23Ec6XPj0Fdq6H3wbhQemlx2e2ZePJZraN8zaWmZZkDlMuzyMah6KtLzJZi/fRX6Tw8gvteCcakF4Y516P/DMF653Ql1BW50Z+nNqHYAiQNHRERERER0pa7e4JHtfqt/dVxEoWyR20mnL8BUsxRm/Ia/WovTsTPPla2wO+mkO+tkVSuqbo6ptGojutYDPzk0Auv0EaTV7UWb75rq8C1rcT5vnqx3a9ppFM4A29dUzTyZqeM7GyfP1hnU+QiWOnXpiKuZFIFlKlldlPNQf6vy/jm8gJugl9+GFLgFkYfvReI725D/Tw/i+IPLYX0wgmRpDaXZmk2czYJzvucu1E3P5vtqKpmcb51ZKwvOi49QZyd6/+h36/7E7nCDzsxN89rtd9bdjvrp7nTjtvDqcTy9tBWv/flDyHZvlb9tRjzcjmDV+I4zOFI3HiVfnrjo/a40vu8ZXTgPs85i6EVn4f4l0OQYG0/PI0jvteW47oL5f21DskuORa3xdLfW4MwytziuW47YJ5GvnKg1jdIA0ko8rnPgiIiIiIiIrtwCDB6dRPq//wY3/OJtVPTRjnyEnPyjr1nuvsZK99an909Wrg9zzkSm/JaQOZLaf7jyeNSTnvaewfDSldLZ896aRrHi/p71iG5cguEjIxVPaHK8ewwp6fR9r2O994afZYiEWrHuw5PI/NNJ/AStiHeWjWKt2oCYdFB/YhytGbxRT2VLSYc6HvKmKa35jLPOU/ad8kGTSzALp2ZYdLcB508iV/70LuX9o0h+CDzescHppGqdq/G4xG5yqGLVYvExcvvPAstXOrfyqUGnwkt7kdxTfpw3Irj5FuepYsaHM/SWL1yquoZVmomzKxAOrcTmS2eQLlQ/rayI3DsXsW79LQh778wFa3yWg2pefKSHj3gLPJc5YiD5kinp2ns9IzfNDx4aqV1k+6SJ1D8aMLzBFmfW1YoV0CvWWfJm15UJbZT0Xy8eT7qDqVMa3/fMSrP9ykiZkz5yWa6bt0B5w+nZncWmr1lVOVhkv4dcQ2XYOkSkmKhXjlhDHyDt/d4YNYD0RaT+iANHRERERER05RZg8EgtBtwCHH8PXX/3NowTH8F8Zz/6XrYwvGwluicHSJYi3KE6jxbiP9mLTOEQcoP70P2z91BoeibQTFoQPXcc8b87BPP0R7BOf4Dc3+1GXD3pKfxvpu/or9UQXSod8KE3nWM0TqqesRz7g+vxxKWziKdel46i2qac5345/mfHUFi5Dj1bZj6JwJYN6Ftq49uGjc0dGxCt6IHejPiDGraeGUVXaj8KEo/W6VMwBocQe+U8dPUUpdKskdvWIb4ceHr3G+j9x7eRK7yNdPqfEXvnMrZ5QWZt5RJkM7uRfueUc45FuZY9z43iBbmWvVu92R633IPejiV4YfhN9Lx0DEUVxyeKyKR3o+v4Evxg22cn17Upvmfh379SQMrbnnXimBzrCP4rbkJXuM5aRZ7QeomcCx9iQJ3f/g98BpGaiLMr8bnPYmDNZfzw5d0YKHzgnsf77yL5swP49vmbkPjyxgZnnszkFoTXAIOHjiA1dAj595t9tL4bH/qHI4ilhuXzKj5UOh1Gzz+M4N8fOQu74QP10vwFC7H//jqyR7z0cORtDKQPSxo+DcubWeRcqzMfIDFYdNOCk9/y6KtaxD6w5bNIrqyMR3d7o7BWlk9TanzfM1p2E6zhNzAw5B3b+4cwkDqMH166CcmHO9zr1nB6vgUhuT4vGG8j4x2Ts72fHUWmoeNZhujD6/HNinJE0uvQ6+gavozonJeDREREREREjVmAwSNA/9oW7AvdBMN8D597ejc2ZkaRXtqKHY/9DsJlndXAli8gtymAwBkLX3/5KB7afVY6iV9A/5VPDqmyBPE/7ETPmaPY+NPdWP3TN/GQCXTd9wWkv+w/YOFqR89X1yBy/oxzjD1D3kq4t4SQ/Hd3oa/lDB76W7VNOc8dH6KoHtv9nc66iynXcmdUqOPrDtWZqXT37yL32DpEzoziXonH1T99A5/bfR7B0N3OrSlTUXkrurtuxw+Wj+O/HngPD738HpL2amS+dsuVz0JYdTtSX25BMvOGc47r5Vpml63BvsfLr6V07r8ewVubAzCGD2K9iuOnD6Dn/SXof/Q+9HWWntZ2M2Jdn8Mzt15Gn7e91U8fRO+HLfibR38HXdPc6qVtC2HHrUuQUee349DkQuM1Go6zKyHn8Z0teE1fguTLb7rn8bfvYMBuxfPfjFQ9OetKyH6+ugHfxXl8+5+O4vd++970M6/qmYyPMfzeZDodg7FyHd76VqPp1FOW5r/6nJcenpO01qLhtce3TD7RTdvWKXHTgvTuA25akPzWf24dUg9Wr3m0GvFvqfQAJLx4XP/cCMzOTgw4+aJMg/ue0bLVGJD4KA55x/a3R5G4tBzPPLYF8cn013h6jsfvwpPLzuLr3jGt/tsRFOX4E43etrj280jJ8XRdKpUjkl6HxtH72OcR5+ARERERERFdJTdMCO/3BXAB1umLQEsA2oobvffq+QT2ucsIrJiH3tL+13HDDhvPPP6/uIMT5z6CNb4EgVUrmhxIuCTHeFGOsfKx9Q5nm5C/3YxAozMgPOY/DmLjIQ1H/s/N03Tk1b7Pw27kuO1zsFskTJPHUesU0j95A3+y6i5MdKkja/RalsLdJOGmuZ5ynNaFyzOHqzb+scS1fGbG1YSbiLMroY5HrZczY7xcoXNyXVdc4Xl46RTLljcQfzOYvH7TnHcjYUq8sA3loWa260vKnNO25JWZ0l8j6bmU1mZXBrhK22iBtqpOGUNERERERLSA5n3w6KH0G8i9N5tHyM+9if/0b2sGj274L7/x/np1OMdUcs5E308OoxD6ArJfu/WqH1uJe4yVg0eL5diIrjcrWpbg3Phl75VLXxnAkSfu914RERERERHNrQWeebQIVM88WgxOv42+p48jPz6OwZaVeO07X2z8tpsFUz3ziIiIiIiIiIiuBwuy5tGisvJmPKmvhD4Pd8TNln1iHMH1rYjfvR5vPf47i3DgSGmBfruGJzcuyoMjIiIiIiIionly/c08IiIiIiIiIiKihl1/M4+IiIiIiIiIiKhhHDwiIiIiIiIiIiJfHDwiIiIiIiIiIiJfHDwiIiIiIiIiIiJfHDwiIiIiIiIiIiIfwP8P4qjeXr8usygAAAAASUVORK5CYII=)"
      ]
    },
    {
      "cell_type": "markdown",
      "metadata": {
        "id": "AHQLuljE4YCd"
      },
      "source": [
        "The result is slightly better than the previous one."
      ]
    }
  ]
}