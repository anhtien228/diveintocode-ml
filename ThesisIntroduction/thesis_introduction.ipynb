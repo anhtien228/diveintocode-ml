{
  "cells": [
    {
      "cell_type": "markdown",
      "metadata": {
        "id": "EQ9oEAn43Wnk"
      },
      "source": [
        "# **DIVE INTO CODE COURSE**\n",
        "## **Treatise reading**\n",
        "**Student Name**: Doan Anh Tien<br>\n",
        "**Student ID**: 1852789<br>\n",
        "**Email**: tien.doan.g0pr0@hcmut.edu.vn"
      ]
    },
    {
      "cell_type": "markdown",
      "metadata": {
        "id": "mnoqrhrE7DBO"
      },
      "source": [
        "Prepare slides summarizing the abstracts of five papers in your area of interest and present them in about five minutes."
      ]
    },
    {
      "cell_type": "markdown",
      "metadata": {
        "id": "3K4jtd8M7G6d"
      },
      "source": [
        "### **Area of interest**"
      ]
    },
    {
      "cell_type": "markdown",
      "metadata": {
        "id": "HYbgGZczRZX-"
      },
      "source": [
        "As we are currently participate in the DIVE INTO CODE course, the eager of learning and comprehend the machine learning rose in us. That said, I decide to give some summarizations of five papers involve the topic: **Machine Learning in Business** since it is aligned with my desired future path and my past experience gained from having internship at Unilever Vietnam."
      ]
    },
    {
      "cell_type": "markdown",
      "metadata": {
        "id": "gTKDsdUyR-Ue"
      },
      "source": [
        "### **Reasearch papers**"
      ]
    },
    {
      "cell_type": "markdown",
      "metadata": {
        "id": "wR3PLEXruO64"
      },
      "source": [
        "**1. Machine learning solutions in the management of a contemporary business organisation**\n",
        ">Citation: Ziora, L. (2020). Machine learning solutions in the management of a contemporary business organisation. Journal of Decision Systems, 1–8.\n",
        "\n",
        "**Reason to choose**\n",
        "\n",
        "It provides an insightful view of how Machine Learning integrate within businesses' system nowadays and replace the rule-based programming with its better optimization, speed, cost and can leverage the profit of as well as the functionality of most of the enterprises.\n",
        "\n",
        "\n",
        "**Abstract**\n",
        "\n",
        "* The paper presents machine learning (ML) solutions applicability in the management of contemporary business organisation, with some main points:\n",
        "    * Focusing on the improvement of decision-making processes (with supervised and unsupervised learning)\n",
        "    * Defines the machine learning components and how it benefits the company in some business domains\n",
        "    * Provide and review the applications, case studies and practical examples\n",
        "    * Underlines the advantages and disadvantages of proposed solutions\n",
        "<br><br>\n",
        "\n",
        "* The methods come from supervised ML (regression, classfication) and unsupervised ML (clustering, neural networks) provide such benefits for business organization. The survey conducted on the sample of 50 students about the advantages resulting from the application of a machine learning solution in the area of management and primarily managerial decisions improvement as well as to show its\n",
        "disadvantages.\n",
        "\n",
        "<img src=\"paper1.png\" style=\"width: 60%;\">\n",
        "\n",
        "* There are also drawbacks that may occurs when applying ML to the mentioned area:\n",
        "\n",
        "<img src=\"paper1.1.png\" style=\"width: 60%;\">\n",
        "\n",
        "* One crucial issue is to ensure the quality of data based on which the machine learning model is trained\n",
        "\n",
        "* The major bottleneck in machine learning is constituted by data collection, which is a critical issue in machine learning functionality\n",
        "\n",
        "* Machine Learning find its application among many domain:\n",
        "    * Business process optimization\n",
        "    * Image regconition\n",
        "    * Self-driving cars development\n",
        "    * Logistics area\n",
        "    * Medical diagnoses\n",
        "    * Statistics\n",
        "    * Sentiment analysis\n",
        "<br><br>\n",
        "\n",
        "* Specifically, in the management of contemporary business organization, ML are applicable to assets managements:\n",
        "    * Finding new patterns\n",
        "    * Making new form of analysable data\n",
        "    * Reduce negative effect of human biases on investment decision\n",
        "<br><br>\n",
        "\n",
        "* ML is also applicable in automation process (decision making and forecasting), and it allows time savings by automating data extraction, eleminating the errors and improving the accuracy.\n",
        "\n",
        "* The papers also details of case studies to show how ML improve the processes and profit of many organization (such as Lenovo, Google, Apple, Amazon, Microsoft) with their ML solutions (DataRobot, Google Cloud AutoML, Alexa, Siri, Cortana)\n"
      ]
    },
    {
      "cell_type": "markdown",
      "metadata": {},
      "source": [
        "**2. The Role of Machine Learning in Business Optimization**\n",
        "> Chid Apte. 2010. The role of machine learning in business optimization. In Proceedings of the 27th International Conference on International Conference on Machine Learning (ICML'10). Omnipress, Madison, WI, USA, 1–2.\n",
        "\n",
        "**Reason to choose**\n",
        "\n",
        "Finding out how IBM was and is building numerous applications that leverage machine learning technologies and apply them into business process decisions.\n",
        "\n",
        "\n",
        "**Abstract**"
      ]
    }
  ],
  "metadata": {
    "accelerator": "GPU",
    "colab": {
      "collapsed_sections": [],
      "name": "thesis_introduction.ipynb",
      "provenance": []
    },
    "kernelspec": {
      "display_name": "Python 3",
      "name": "python3"
    },
    "language_info": {
      "name": "python"
    }
  },
  "nbformat": 4,
  "nbformat_minor": 0
}
