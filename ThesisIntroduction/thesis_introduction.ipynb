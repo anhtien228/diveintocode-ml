{
  "cells": [
    {
      "cell_type": "markdown",
      "metadata": {
        "id": "EQ9oEAn43Wnk"
      },
      "source": [
        "# **DIVE INTO CODE COURSE**\n",
        "## **Treatise reading**\n",
        "**Student Name**: Doan Anh Tien<br>\n",
        "**Student ID**: 1852789<br>\n",
        "**Email**: tien.doan.g0pr0@hcmut.edu.vn"
      ]
    },
    {
      "cell_type": "markdown",
      "metadata": {
        "id": "mnoqrhrE7DBO"
      },
      "source": [
        "Prepare slides summarizing the abstracts of five papers in your area of interest and present them in about five minutes."
      ]
    },
    {
      "cell_type": "markdown",
      "metadata": {
        "id": "3K4jtd8M7G6d"
      },
      "source": [
        "### **Area of interest**"
      ]
    },
    {
      "cell_type": "markdown",
      "metadata": {
        "id": "HYbgGZczRZX-"
      },
      "source": [
        "As we are currently participate in the DIVE INTO CODE course, the eager of learning and comprehend the machine learning rose in us. That said, I decide to give some summarizations of five papers involve the topic: **Machine Learning in Business** since it is aligned with my desired future path and my past experience gained from having internship at Unilever Vietnam."
      ]
    },
    {
      "cell_type": "markdown",
      "metadata": {
        "id": "gTKDsdUyR-Ue"
      },
      "source": [
        "### **Reasearch papers**"
      ]
    },
    {
      "cell_type": "markdown",
      "metadata": {
        "id": "wR3PLEXruO64"
      },
      "source": [
        "**1. Machine learning solutions in the management of a contemporary business organisation**\n",
        ">Citation: Ziora, L. (2020). Machine learning solutions in the management of a contemporary business organisation. Journal of Decision Systems, 1–8.\n",
        "\n",
        "**Reason to choose**\n",
        "\n",
        "It provides an insightful view of how Machine Learning integrate within businesses' system nowadays and replace the rule-based programming with its better optimization, speed, cost and can leverage the profit of as well as the functionality of most of the enterprises.\n",
        "\n",
        "\n",
        "**Abstract**\n",
        "\n",
        "* The paper presents machine learning (ML) solutions applicability in the management of contemporary business organisation, with some main points:\n",
        "    * Focusing on the improvement of decision-making processes (with supervised and unsupervised learning)\n",
        "    * Defines the machine learning components and how it benefits the company in some business domains\n",
        "    * Provide and review the applications, case studies and practical examples\n",
        "    * Underlines the advantages and disadvantages of proposed solutions\n",
        "<br><br>\n",
        "\n",
        "* The methods come from supervised ML (regression, classfication) and unsupervised ML (clustering, neural networks) provide such benefits for business organization. The survey conducted on the sample of 50 students about the advantages resulting from the application of a machine learning solution in the area of management and primarily managerial decisions improvement as well as to show its\n",
        "disadvantages.\n",
        "\n",
        "<img src=\"paper1.png\" style=\"width: 60%;\">\n",
        "\n",
        "* There are also drawbacks that may occurs when applying ML to the mentioned area:\n",
        "\n",
        "<img src=\"paper1.1.png\" style=\"width: 60%;\">\n",
        "\n",
        "* One crucial issue is to ensure the quality of data based on which the machine learning model is trained\n",
        "\n",
        "* The major bottleneck in machine learning is constituted by data collection, which is a critical issue in machine learning functionality\n",
        "\n",
        "* Machine Learning find its application among many domain:\n",
        "    * Business process optimization\n",
        "    * Image regconition\n",
        "    * Self-driving cars development\n",
        "    * Logistics area\n",
        "    * Medical diagnoses\n",
        "    * Statistics\n",
        "    * Sentiment analysis\n",
        "<br><br>\n",
        "\n",
        "* Specifically, in the management of contemporary business organization, ML are applicable to assets managements:\n",
        "    * Finding new patterns\n",
        "    * Making new form of analysable data\n",
        "    * Reduce negative effect of human biases on investment decision\n",
        "<br><br>\n",
        "\n",
        "* ML is also applicable in automation process (decision making and forecasting), and it allows time savings by automating data extraction, eleminating the errors and improving the accuracy.\n",
        "\n",
        "* The papers also details of case studies to show how ML improve the processes and profit of many organization (such as Lenovo, Google, Apple, Amazon, Microsoft) with their ML solutions (DataRobot, Google Cloud AutoML, Alexa, Siri, Cortana)\n"
      ]
    },
    {
      "cell_type": "markdown",
      "metadata": {},
      "source": [
        "**2. The Role of Machine Learning in Business Optimization**\n",
        "> Chid Apte. 2010. The role of machine learning in business optimization. In Proceedings of the 27th International Conference on International Conference on Machine Learning (ICML'10). Omnipress, Madison, WI, USA, 1–2.\n",
        "\n",
        "**Reason to choose**\n",
        "\n",
        "Highlight the trend in using Machine Learning and IBM is building numerous applications that leverage machine learning technologies and apply them into business process decisions.\n",
        "\n",
        "\n",
        "**Abstract**\n",
        "\n",
        "* In a trend that reflects the increasing demand for intelligent applications driven by business data, IBM today is building out a significant number of applications that leverage machine learning technologies to optimize business process decisions.\n",
        "\n",
        "* IBM’s interest in Machine Learning dates back to the\n",
        "1950s when Arthur Samuels’ Checkers program made\n",
        "history by demonstrating that a computer program could\n",
        "play checkers well enough to beat human experts, and\n",
        "could learn from its experience in playing against humans\n",
        "to become a better player\n",
        "\n",
        "* While projects like these have continued in IBM ever since the seminal days of the Checkers project, we have witnessed a significant growth recently in the focus and interest in machine learning as an application technology for the sorts of enterprise business applications that IBM builds and delivers.\n",
        "\n",
        "* As IBM's focus started shifting towards services and solutions for clients in the mid 90's, access became possible to vast amounts of business data, including:\n",
        "    * Marketing campaign data\n",
        "    * Financial credit data\n",
        "    * Airlines reservation systems data\n",
        "    * Clinical care and genomics data\n",
        "    * Call center interaction data\n",
        "    * Telecom call data, and much more.\n",
        "<br><br>\n",
        "\n",
        "* Interest in root-cause diagnostics for complex instrumented systems is also driving new directions in machine learning research.\n",
        "\n",
        "* The requirement to learn in-situ from massive scale data is driving the need for the design and implementation of scalable machine learning algorithms\n",
        "\n",
        "* Frameworks for parallel machine learning are being developed to enable a standards-based approach to developing such algorithms, sometime leveraging special purpose hardware accelerators and emerging multi-core architectures."
      ]
    },
    {
      "cell_type": "markdown",
      "metadata": {},
      "source": [
        "**3. Deep learning in business analytics and operations research: Models, applications and managerial implications**\n",
        "> Kraus, Mathias et al. “Deep learning in business analytics and operations research: Models, applications and managerial implications.” Eur. J. Oper. Res. 281 (2020): 628-641.\n",
        "\n",
        "**Reason to choose**\n",
        "\n",
        "Deep learning in business analytics and operations research and how the author propose their solution to tackle the model improvements\n",
        "\n",
        "\n",
        "**Abstract**\n",
        "\n",
        "***Most learning algorithms***\n",
        "\n",
        "Deep neural networks still benefit from large amounts of data, whereas the performance increase of other machine learning models plateaus (Ng, 2016a) While deep learning is on the way to becoming the industry standard for predictive analytics within business analytics and operations research, the authors' discipline is still in its infancy with regard to adopting this technology. Examples of 1-hidden layer networks appear in the areas of, for instance, healthcare (Misiunas et al., 2016; Oztekin et al. 2018)\n",
        "\n",
        "**Mathematical background: From neural networks to deep learning**\n",
        "\n",
        "The authors provide the summarizations of most well-known technique and models in this area:\n",
        "* Predictive analytics\n",
        "* Single-layer neural networks\n",
        "* Deep neural networks\n",
        "* Convolutional neural network\n",
        "* Recurrent neural networks\n",
        "*Embeddings\n",
        "<br><br>\n",
        "\n",
        "***Proposed deep-embedded network architecture***\n",
        "\n",
        "A deep-embedded network architecture addresses the need of effectively handling categorical variables in OR practice. The architecture consists of a combination of the embedding layers and stacked neural layers (such as MLPs, CNNs or RNNs). This architecture is particularly helpful in dealing with data of inhomogeneous types, i.e. consisting of both categorical and numerical input.\n",
        "\n",
        "* **The algorithm**: The proposed embeddeddings in this paper are directly integrated in the neural network architecture and are thus trained jointly. Joint training introduces the risk of overfitting and they refrain from using the naïve embedding layer (this only serves as a baseline)\n",
        "\n",
        "* **Estimation details**: Following general conventions, the authors tune all parameters in traditional machine learning using 10-fold cross-validation. They reduce the computational time for deep learning by selecting 10 % of the training samples for validation.\n",
        "\n",
        "* **Experimental setup**:\n",
        "The authors perform a series of computational experiments in order to demonstrate the added benefit of deep learning in business analytics. Performance is compared primarily based on the mean squared error for regression and the area under the curve for classification tasks.\n",
        "\n",
        "***Conclusion***\n",
        "\n",
        "Business analytics refers to the ability of firms and organization to collect, manage, and analyze data from a variety of sources. As companies generate more data at ever-faster rates, the need for advances in predictive analytics becomes a pertinent issue."
      ]
    },
    {
      "cell_type": "markdown",
      "metadata": {},
      "source": [
        "**4. Strategic Management of Sales Assisted by Machine Learning: A Case Study in a Large Food Business**\n",
        "> Silva, M.V., Carvalho, L.M., Rodrigues, D.D., & Souza, F. (2021). Strategic Management of Sales Assisted by Machine Learning: A Case Study in a Large Food Business. Proceedings of The 11th International Conference on Research in Engineering, Science & Technology.\n",
        "\n",
        "**Reason to choose**\n",
        "\n",
        "The authors implemented Machine Learning techniques to predict sales success of a large Brazilian food company\n",
        "\n",
        "\n",
        "**Abstract**\n",
        "\n",
        "Machine Learning allows computer systems to employ the concept of learning, through the knowledge of previous data in a context. Pattern recognition can be employed by algorithms, such as artificial neural networks. In this research, Multilayer Perceptron algorithms are used to predict sales success.\n",
        "\n",
        "* **Multilayer Perceptron**: Multilayer Perceptron (MLP) is a type of artificial neural network (ANN), in which it is applied in problems of classification of patterns and predictions.\n",
        "* An MLP network is subdivided into layers: data input layer, intermediate or hidden layers (where perceptrons are interconnected) and output layer.\n",
        "\n",
        "* **Resampling Methods**: Resampling techniques are used to obtain classifier performance statistics.\n",
        "\n",
        "* **ROC Curve and AUC**: The ROC Curve (Receiver Operating Characteristic) is widely used to visualize and analyze the behavior of diagnostic systems.\n",
        "\n",
        "* **Experimental Methods**: An internal research was carried out in the company, identifying the departments that most impacted the profit, the processes and the satisfaction of the customers.\n",
        "* Data were collected from the SAP system, that is the ERP system used by the company. The work aims to demonstrate the development of an experimental research.\n",
        "\n",
        "* **Data Proccessing**: Data collection started through the development of a system in the ABAP language.\n",
        "* The system ALV's Grid reports data of the years 2015 (November and December), 2016 and 2017 (January to December) were generated. Table 1 presents the amount of data generated through the previous-mentioned years.\n",
        "\n",
        "<img src=\"paper4.png\" style=\"width: 15%;\">\n",
        "\n",
        "* **Accuracy Experiments**: The database processing was carried out using R Language, responsible for generating the results of the statistical analysis.\n",
        "* The data were processed, generating the output data, such as: the AUC Curve and processing time of each experiment.\n",
        "\n",
        "* **Global Sales Scenario**: The first experiment was carried out on the complete sales basis of the commercial department, varying the five types of MLPs selected. In the graph below, the processing time grows proportionally with the change of the types of MPLs.\n",
        "\n",
        "<img src=\"paper4.1.png\" style=\"width: 35%;\">\n",
        "\n",
        "* **Impacts on Strategic Management**: The study was able to determine a standardization for the collection of the data to be used, for a management guided by pattern recognition algorithms.\n",
        "* As the user enters the characteristics used by the structure to train and validate MLP, it is possible to predict whether the proposed sale will be successful.\n",
        "\n",
        "* **Conclusion**: Based on the aspects observed during the development of the work, it was concluded that it is possible to implement a Pattern Recognition algorithm for food sales management, seeking the assertiveness of the best sale of products at a certain time of the year."
      ]
    },
    {
      "cell_type": "markdown",
      "metadata": {},
      "source": [
        "**5. Automated business process management – in times of digital transformation using machine learning or artificial intelligence**\n",
        "> Paschek, D., Luminosu, C.T., & Draghici, A. (2017). Automated business process management – in times of digital transformation using machine learning or artificial intelligence.\n",
        "\n",
        "**Reason to choose**\n",
        "\n",
        "The authors analyse how the digital transformation will impact the Business Process Management (BPM) while using methods like machine learning or artificial intelligence.\n",
        "\n",
        "\n",
        "**Abstract**\n",
        "\n",
        "* The continuous optimization of business processes is still a challenge for companies.\n",
        "* The internet of things is described by J. Brixel as: \"The internet of things builds on this concept by using the cloud to store and automate processes in objects that are synced to the internet, like internet-enabled automobiles and remote home lighting and shade systems\" .\n",
        "* The theory shows that methods of \"deep learning\" with neural networks are always meant when artificial intelligence is mentioned.\n",
        "\n",
        "* The results of the survey are presented and the recommendations for using machine learning or AI are mentioned. 59% of these are concerned very strong, 35% strong and only 6% stated low. These results indicate that the digital transformation and information technology plays a major role in the companies. Because approximately 38% are at the growth phase, 51% at the transition phase and only 11% at the beginning of the implementation of the digitalization.\n",
        "\n",
        "* For 80% of the participants deep learning, machine learning and AI are synonyms for the same concept. Like described in the theoretical part, machine learning is regarded as a subarea of artificial intelligence.\n",
        "* Not only for process optimization, but rather as core competency for new business models and for an increase in sales support.\n",
        "\n",
        "* The results of the shadowing show two main findings: 1. approximately 45% of the compiled data from the companies are not used or controlled effectively. This shows a big opportunity and space for improvements only in the evolution of process management.\n",
        "* Deep learning, machine learning and AI can be named as a recommendation to automate and optimize the process and they support the BPM through new algorithms and independent learning via constant data analysis.\n",
        "* Digitization is unstoppable and changes the market situation in many business sectors. Time-intensive manual workflows, based on e-mail, Excel or well and truly paper work reduce the productivity of companies."
      ]
    }
  ],
  "metadata": {
    "accelerator": "GPU",
    "colab": {
      "collapsed_sections": [],
      "name": "thesis_introduction.ipynb",
      "provenance": []
    },
    "kernelspec": {
      "display_name": "Python 3",
      "name": "python3"
    },
    "language_info": {
      "name": "python",
      "version": "3.7.3"
    }
  },
  "nbformat": 4,
  "nbformat_minor": 0
}
